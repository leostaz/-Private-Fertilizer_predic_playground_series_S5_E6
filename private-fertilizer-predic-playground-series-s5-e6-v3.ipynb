{
 "cells": [
  {
   "cell_type": "markdown",
   "id": "907e7649",
   "metadata": {
    "papermill": {
     "duration": 0.010889,
     "end_time": "2025-06-25T02:13:40.748168",
     "exception": false,
     "start_time": "2025-06-25T02:13:40.737279",
     "status": "completed"
    },
    "tags": []
   },
   "source": [
    "# Predicting Optimal Fertilizers"
   ]
  },
  {
   "cell_type": "code",
   "execution_count": 1,
   "id": "b79ee84a",
   "metadata": {
    "_cell_guid": "b1076dfc-b9ad-4769-8c92-a6c4dae69d19",
    "_uuid": "8f2839f25d086af736a60e9eeb907d3b93b6e0e5",
    "execution": {
     "iopub.execute_input": "2025-06-25T02:13:40.768859Z",
     "iopub.status.busy": "2025-06-25T02:13:40.768008Z",
     "iopub.status.idle": "2025-06-25T02:13:40.777814Z",
     "shell.execute_reply": "2025-06-25T02:13:40.776811Z"
    },
    "papermill": {
     "duration": 0.021474,
     "end_time": "2025-06-25T02:13:40.779209",
     "exception": false,
     "start_time": "2025-06-25T02:13:40.757735",
     "status": "completed"
    },
    "tags": []
   },
   "outputs": [
    {
     "name": "stdout",
     "output_type": "stream",
     "text": [
      "/kaggle/input/playground-series-s5e6/sample_submission.csv\n",
      "/kaggle/input/playground-series-s5e6/train.csv\n",
      "/kaggle/input/playground-series-s5e6/test.csv\n"
     ]
    }
   ],
   "source": [
    "import os\n",
    "for dirname, _, filenames in os.walk('/kaggle/input'):\n",
    "    for filename in filenames:\n",
    "        print(os.path.join(dirname, filename))\n",
    "\n",
    "import warnings\n",
    "warnings.filterwarnings(\"ignore\")"
   ]
  },
  {
   "cell_type": "markdown",
   "id": "b58f5a3c",
   "metadata": {
    "papermill": {
     "duration": 0.008982,
     "end_time": "2025-06-25T02:13:40.797586",
     "exception": false,
     "start_time": "2025-06-25T02:13:40.788604",
     "status": "completed"
    },
    "tags": []
   },
   "source": [
    "Private-fertilizer-predic-playground-series-s5-e6 Version 1 notebook Full EDA\n",
    "\n",
    "Public notebook: https://www.kaggle.com/code/les1781/optimal-fertilizer-predict-playground-series-s5-e6"
   ]
  },
  {
   "cell_type": "markdown",
   "id": "905ef8c1",
   "metadata": {
    "papermill": {
     "duration": 0.009407,
     "end_time": "2025-06-25T02:13:40.816048",
     "exception": false,
     "start_time": "2025-06-25T02:13:40.806641",
     "status": "completed"
    },
    "tags": []
   },
   "source": [
    "# Libraries"
   ]
  },
  {
   "cell_type": "code",
   "execution_count": 2,
   "id": "0ecad282",
   "metadata": {
    "execution": {
     "iopub.execute_input": "2025-06-25T02:13:40.835481Z",
     "iopub.status.busy": "2025-06-25T02:13:40.835188Z",
     "iopub.status.idle": "2025-06-25T02:13:45.300616Z",
     "shell.execute_reply": "2025-06-25T02:13:45.299721Z"
    },
    "papermill": {
     "duration": 4.477305,
     "end_time": "2025-06-25T02:13:45.302483",
     "exception": false,
     "start_time": "2025-06-25T02:13:40.825178",
     "status": "completed"
    },
    "tags": []
   },
   "outputs": [],
   "source": [
    "import numpy as np\n",
    "import pandas as pd\n",
    "import matplotlib as mpl\n",
    "import matplotlib.pyplot as plt\n",
    "import seaborn as sns\n",
    "\n",
    "from sklearn.preprocessing import (\n",
    "    LabelEncoder,    \n",
    "    OneHotEncoder,\n",
    "    StandardScaler\n",
    ")\n",
    "from sklearn.feature_selection import mutual_info_classif\n",
    "from sklearn.model_selection import train_test_split, StratifiedKFold\n",
    "from sklearn.metrics import (\n",
    "    confusion_matrix, \n",
    "    classification_report, \n",
    "    f1_score, \n",
    "    accuracy_score,\n",
    "    make_scorer\n",
    ")\n",
    "from sklearn.linear_model import LogisticRegression\n",
    "from sklearn.inspection import permutation_importance"
   ]
  },
  {
   "cell_type": "markdown",
   "id": "70679bb1",
   "metadata": {
    "papermill": {
     "duration": 0.009722,
     "end_time": "2025-06-25T02:13:45.322319",
     "exception": false,
     "start_time": "2025-06-25T02:13:45.312597",
     "status": "completed"
    },
    "tags": []
   },
   "source": [
    "# Initial analysis"
   ]
  },
  {
   "cell_type": "code",
   "execution_count": 3,
   "id": "9fd76b2e",
   "metadata": {
    "execution": {
     "iopub.execute_input": "2025-06-25T02:13:45.343069Z",
     "iopub.status.busy": "2025-06-25T02:13:45.342566Z",
     "iopub.status.idle": "2025-06-25T02:13:46.397290Z",
     "shell.execute_reply": "2025-06-25T02:13:46.396548Z"
    },
    "papermill": {
     "duration": 1.067149,
     "end_time": "2025-06-25T02:13:46.399138",
     "exception": false,
     "start_time": "2025-06-25T02:13:45.331989",
     "status": "completed"
    },
    "tags": []
   },
   "outputs": [],
   "source": [
    "# We load the data\n",
    "\n",
    "fertilizers_train = pd.read_csv(\"/kaggle/input/playground-series-s5e6/train.csv\", index_col=\"id\")"
   ]
  },
  {
   "cell_type": "code",
   "execution_count": 4,
   "id": "f32fc1af",
   "metadata": {
    "execution": {
     "iopub.execute_input": "2025-06-25T02:13:46.419710Z",
     "iopub.status.busy": "2025-06-25T02:13:46.419311Z",
     "iopub.status.idle": "2025-06-25T02:13:46.611717Z",
     "shell.execute_reply": "2025-06-25T02:13:46.610869Z"
    },
    "papermill": {
     "duration": 0.204557,
     "end_time": "2025-06-25T02:13:46.613243",
     "exception": false,
     "start_time": "2025-06-25T02:13:46.408686",
     "status": "completed"
    },
    "tags": []
   },
   "outputs": [
    {
     "data": {
      "text/html": [
       "<div>\n",
       "<style scoped>\n",
       "    .dataframe tbody tr th:only-of-type {\n",
       "        vertical-align: middle;\n",
       "    }\n",
       "\n",
       "    .dataframe tbody tr th {\n",
       "        vertical-align: top;\n",
       "    }\n",
       "\n",
       "    .dataframe thead th {\n",
       "        text-align: right;\n",
       "    }\n",
       "</style>\n",
       "<table border=\"1\" class=\"dataframe\">\n",
       "  <thead>\n",
       "    <tr style=\"text-align: right;\">\n",
       "      <th></th>\n",
       "      <th>count</th>\n",
       "      <th>mean</th>\n",
       "      <th>std</th>\n",
       "      <th>min</th>\n",
       "      <th>25%</th>\n",
       "      <th>50%</th>\n",
       "      <th>75%</th>\n",
       "      <th>max</th>\n",
       "    </tr>\n",
       "  </thead>\n",
       "  <tbody>\n",
       "    <tr>\n",
       "      <th>Temparature</th>\n",
       "      <td>750000.0</td>\n",
       "      <td>31.503565</td>\n",
       "      <td>4.025574</td>\n",
       "      <td>25.0</td>\n",
       "      <td>28.0</td>\n",
       "      <td>32.0</td>\n",
       "      <td>35.0</td>\n",
       "      <td>38.0</td>\n",
       "    </tr>\n",
       "    <tr>\n",
       "      <th>Humidity</th>\n",
       "      <td>750000.0</td>\n",
       "      <td>61.038912</td>\n",
       "      <td>6.647695</td>\n",
       "      <td>50.0</td>\n",
       "      <td>55.0</td>\n",
       "      <td>61.0</td>\n",
       "      <td>67.0</td>\n",
       "      <td>72.0</td>\n",
       "    </tr>\n",
       "    <tr>\n",
       "      <th>Moisture</th>\n",
       "      <td>750000.0</td>\n",
       "      <td>45.184147</td>\n",
       "      <td>11.794594</td>\n",
       "      <td>25.0</td>\n",
       "      <td>35.0</td>\n",
       "      <td>45.0</td>\n",
       "      <td>55.0</td>\n",
       "      <td>65.0</td>\n",
       "    </tr>\n",
       "    <tr>\n",
       "      <th>Nitrogen</th>\n",
       "      <td>750000.0</td>\n",
       "      <td>23.093808</td>\n",
       "      <td>11.216125</td>\n",
       "      <td>4.0</td>\n",
       "      <td>13.0</td>\n",
       "      <td>23.0</td>\n",
       "      <td>33.0</td>\n",
       "      <td>42.0</td>\n",
       "    </tr>\n",
       "    <tr>\n",
       "      <th>Potassium</th>\n",
       "      <td>750000.0</td>\n",
       "      <td>9.478296</td>\n",
       "      <td>5.765622</td>\n",
       "      <td>0.0</td>\n",
       "      <td>4.0</td>\n",
       "      <td>9.0</td>\n",
       "      <td>14.0</td>\n",
       "      <td>19.0</td>\n",
       "    </tr>\n",
       "    <tr>\n",
       "      <th>Phosphorous</th>\n",
       "      <td>750000.0</td>\n",
       "      <td>21.073227</td>\n",
       "      <td>12.346831</td>\n",
       "      <td>0.0</td>\n",
       "      <td>10.0</td>\n",
       "      <td>21.0</td>\n",
       "      <td>32.0</td>\n",
       "      <td>42.0</td>\n",
       "    </tr>\n",
       "  </tbody>\n",
       "</table>\n",
       "</div>"
      ],
      "text/plain": [
       "                count       mean        std   min   25%   50%   75%   max\n",
       "Temparature  750000.0  31.503565   4.025574  25.0  28.0  32.0  35.0  38.0\n",
       "Humidity     750000.0  61.038912   6.647695  50.0  55.0  61.0  67.0  72.0\n",
       "Moisture     750000.0  45.184147  11.794594  25.0  35.0  45.0  55.0  65.0\n",
       "Nitrogen     750000.0  23.093808  11.216125   4.0  13.0  23.0  33.0  42.0\n",
       "Potassium    750000.0   9.478296   5.765622   0.0   4.0   9.0  14.0  19.0\n",
       "Phosphorous  750000.0  21.073227  12.346831   0.0  10.0  21.0  32.0  42.0"
      ]
     },
     "execution_count": 4,
     "metadata": {},
     "output_type": "execute_result"
    }
   ],
   "source": [
    "fertilizers_train.describe().T"
   ]
  },
  {
   "cell_type": "code",
   "execution_count": 5,
   "id": "c5198417",
   "metadata": {
    "execution": {
     "iopub.execute_input": "2025-06-25T02:13:46.633679Z",
     "iopub.status.busy": "2025-06-25T02:13:46.633375Z",
     "iopub.status.idle": "2025-06-25T02:13:46.769972Z",
     "shell.execute_reply": "2025-06-25T02:13:46.769056Z"
    },
    "papermill": {
     "duration": 0.148442,
     "end_time": "2025-06-25T02:13:46.771438",
     "exception": false,
     "start_time": "2025-06-25T02:13:46.622996",
     "status": "completed"
    },
    "tags": []
   },
   "outputs": [
    {
     "name": "stdout",
     "output_type": "stream",
     "text": [
      "<class 'pandas.core.frame.DataFrame'>\n",
      "Index: 750000 entries, 0 to 749999\n",
      "Data columns (total 9 columns):\n",
      " #   Column           Non-Null Count   Dtype \n",
      "---  ------           --------------   ----- \n",
      " 0   Temparature      750000 non-null  int64 \n",
      " 1   Humidity         750000 non-null  int64 \n",
      " 2   Moisture         750000 non-null  int64 \n",
      " 3   Soil Type        750000 non-null  object\n",
      " 4   Crop Type        750000 non-null  object\n",
      " 5   Nitrogen         750000 non-null  int64 \n",
      " 6   Potassium        750000 non-null  int64 \n",
      " 7   Phosphorous      750000 non-null  int64 \n",
      " 8   Fertilizer Name  750000 non-null  object\n",
      "dtypes: int64(6), object(3)\n",
      "memory usage: 57.2+ MB\n"
     ]
    }
   ],
   "source": [
    "fertilizers_train.info()"
   ]
  },
  {
   "cell_type": "markdown",
   "id": "878a4208",
   "metadata": {
    "papermill": {
     "duration": 0.009178,
     "end_time": "2025-06-25T02:13:46.790307",
     "exception": false,
     "start_time": "2025-06-25T02:13:46.781129",
     "status": "completed"
    },
    "tags": []
   },
   "source": [
    "# Data wrangling"
   ]
  },
  {
   "cell_type": "code",
   "execution_count": 6,
   "id": "888cdc3d",
   "metadata": {
    "execution": {
     "iopub.execute_input": "2025-06-25T02:13:46.810103Z",
     "iopub.status.busy": "2025-06-25T02:13:46.809811Z",
     "iopub.status.idle": "2025-06-25T02:13:46.837573Z",
     "shell.execute_reply": "2025-06-25T02:13:46.836788Z"
    },
    "papermill": {
     "duration": 0.03951,
     "end_time": "2025-06-25T02:13:46.839141",
     "exception": false,
     "start_time": "2025-06-25T02:13:46.799631",
     "status": "completed"
    },
    "tags": []
   },
   "outputs": [],
   "source": [
    "# We make a copy of the original dataset\n",
    "\n",
    "fertilizers_new = fertilizers_train.copy()"
   ]
  },
  {
   "cell_type": "code",
   "execution_count": 7,
   "id": "9f674525",
   "metadata": {
    "execution": {
     "iopub.execute_input": "2025-06-25T02:13:46.859651Z",
     "iopub.status.busy": "2025-06-25T02:13:46.859328Z",
     "iopub.status.idle": "2025-06-25T02:13:47.103240Z",
     "shell.execute_reply": "2025-06-25T02:13:47.102383Z"
    },
    "papermill": {
     "duration": 0.255963,
     "end_time": "2025-06-25T02:13:47.104710",
     "exception": false,
     "start_time": "2025-06-25T02:13:46.848747",
     "status": "completed"
    },
    "tags": []
   },
   "outputs": [
    {
     "data": {
      "text/html": [
       "<div>\n",
       "<style scoped>\n",
       "    .dataframe tbody tr th:only-of-type {\n",
       "        vertical-align: middle;\n",
       "    }\n",
       "\n",
       "    .dataframe tbody tr th {\n",
       "        vertical-align: top;\n",
       "    }\n",
       "\n",
       "    .dataframe thead th {\n",
       "        text-align: right;\n",
       "    }\n",
       "</style>\n",
       "<table border=\"1\" class=\"dataframe\">\n",
       "  <thead>\n",
       "    <tr style=\"text-align: right;\">\n",
       "      <th></th>\n",
       "      <th>Null Data</th>\n",
       "      <th>Percentage</th>\n",
       "    </tr>\n",
       "  </thead>\n",
       "  <tbody>\n",
       "    <tr>\n",
       "      <th>Temparature</th>\n",
       "      <td>0</td>\n",
       "      <td>0.0</td>\n",
       "    </tr>\n",
       "    <tr>\n",
       "      <th>Humidity</th>\n",
       "      <td>0</td>\n",
       "      <td>0.0</td>\n",
       "    </tr>\n",
       "    <tr>\n",
       "      <th>Moisture</th>\n",
       "      <td>0</td>\n",
       "      <td>0.0</td>\n",
       "    </tr>\n",
       "    <tr>\n",
       "      <th>Soil Type</th>\n",
       "      <td>0</td>\n",
       "      <td>0.0</td>\n",
       "    </tr>\n",
       "    <tr>\n",
       "      <th>Crop Type</th>\n",
       "      <td>0</td>\n",
       "      <td>0.0</td>\n",
       "    </tr>\n",
       "    <tr>\n",
       "      <th>Nitrogen</th>\n",
       "      <td>0</td>\n",
       "      <td>0.0</td>\n",
       "    </tr>\n",
       "    <tr>\n",
       "      <th>Potassium</th>\n",
       "      <td>0</td>\n",
       "      <td>0.0</td>\n",
       "    </tr>\n",
       "    <tr>\n",
       "      <th>Phosphorous</th>\n",
       "      <td>0</td>\n",
       "      <td>0.0</td>\n",
       "    </tr>\n",
       "    <tr>\n",
       "      <th>Fertilizer Name</th>\n",
       "      <td>0</td>\n",
       "      <td>0.0</td>\n",
       "    </tr>\n",
       "  </tbody>\n",
       "</table>\n",
       "</div>"
      ],
      "text/plain": [
       "                 Null Data  Percentage\n",
       "Temparature              0         0.0\n",
       "Humidity                 0         0.0\n",
       "Moisture                 0         0.0\n",
       "Soil Type                0         0.0\n",
       "Crop Type                0         0.0\n",
       "Nitrogen                 0         0.0\n",
       "Potassium                0         0.0\n",
       "Phosphorous              0         0.0\n",
       "Fertilizer Name          0         0.0"
      ]
     },
     "execution_count": 7,
     "metadata": {},
     "output_type": "execute_result"
    }
   ],
   "source": [
    "# We confirm that there is no null values\n",
    "\n",
    "null_values = pd.DataFrame(\n",
    "        {f\"Null Data\" : fertilizers_new.isnull().sum(), \n",
    "         \"Percentage\" : (fertilizers_new.isnull().sum()) / (len(fertilizers_new)) * (100)})\n",
    "\n",
    "null_values"
   ]
  },
  {
   "cell_type": "code",
   "execution_count": 8,
   "id": "e9045707",
   "metadata": {
    "execution": {
     "iopub.execute_input": "2025-06-25T02:13:47.125624Z",
     "iopub.status.busy": "2025-06-25T02:13:47.125311Z",
     "iopub.status.idle": "2025-06-25T02:13:47.646594Z",
     "shell.execute_reply": "2025-06-25T02:13:47.645562Z"
    },
    "papermill": {
     "duration": 0.53362,
     "end_time": "2025-06-25T02:13:47.648216",
     "exception": false,
     "start_time": "2025-06-25T02:13:47.114596",
     "status": "completed"
    },
    "tags": []
   },
   "outputs": [
    {
     "name": "stdout",
     "output_type": "stream",
     "text": [
      "Length: 750000\n",
      "Duplicates: 0\n"
     ]
    }
   ],
   "source": [
    "# We check the duplicate data found\n",
    "\n",
    "print(f\"Length: {len(fertilizers_new.duplicated())}\")\n",
    "print(f\"Duplicates: {fertilizers_new.duplicated().sum()}\")"
   ]
  },
  {
   "cell_type": "code",
   "execution_count": 9,
   "id": "42ebd55e",
   "metadata": {
    "execution": {
     "iopub.execute_input": "2025-06-25T02:13:47.670572Z",
     "iopub.status.busy": "2025-06-25T02:13:47.670282Z",
     "iopub.status.idle": "2025-06-25T02:13:47.675581Z",
     "shell.execute_reply": "2025-06-25T02:13:47.674908Z"
    },
    "papermill": {
     "duration": 0.017887,
     "end_time": "2025-06-25T02:13:47.676837",
     "exception": false,
     "start_time": "2025-06-25T02:13:47.658950",
     "status": "completed"
    },
    "tags": []
   },
   "outputs": [
    {
     "data": {
      "text/plain": [
       "'\\neval_out = sns.PairGrid(fertilizers_new, palette=sns.light_palette(\"seagreen\"))\\neval_out.map(sns.boxplot)\\neval_out.tick_params(axis=\"both\", labelbottom=False)\\n'"
      ]
     },
     "execution_count": 9,
     "metadata": {},
     "output_type": "execute_result"
    }
   ],
   "source": [
    "'''\n",
    "eval_out = sns.PairGrid(fertilizers_new, palette=sns.light_palette(\"seagreen\"))\n",
    "eval_out.map(sns.boxplot)\n",
    "eval_out.tick_params(axis=\"both\", labelbottom=False)\n",
    "'''"
   ]
  },
  {
   "cell_type": "markdown",
   "id": "3f3d85fb",
   "metadata": {
    "papermill": {
     "duration": 0.009579,
     "end_time": "2025-06-25T02:13:47.696254",
     "exception": false,
     "start_time": "2025-06-25T02:13:47.686675",
     "status": "completed"
    },
    "tags": []
   },
   "source": [
    "# Data Preprocessing"
   ]
  },
  {
   "cell_type": "code",
   "execution_count": 10,
   "id": "b0015f0e",
   "metadata": {
    "execution": {
     "iopub.execute_input": "2025-06-25T02:13:47.717297Z",
     "iopub.status.busy": "2025-06-25T02:13:47.716664Z",
     "iopub.status.idle": "2025-06-25T02:13:47.750384Z",
     "shell.execute_reply": "2025-06-25T02:13:47.749534Z"
    },
    "papermill": {
     "duration": 0.046117,
     "end_time": "2025-06-25T02:13:47.752046",
     "exception": false,
     "start_time": "2025-06-25T02:13:47.705929",
     "status": "completed"
    },
    "tags": []
   },
   "outputs": [],
   "source": [
    "fertilizers_end = fertilizers_new.copy()"
   ]
  },
  {
   "cell_type": "markdown",
   "id": "458ca44c",
   "metadata": {
    "papermill": {
     "duration": 0.009634,
     "end_time": "2025-06-25T02:13:47.833442",
     "exception": false,
     "start_time": "2025-06-25T02:13:47.823808",
     "status": "completed"
    },
    "tags": []
   },
   "source": [
    "## Feature Engineering"
   ]
  },
  {
   "cell_type": "markdown",
   "id": "08dea565",
   "metadata": {
    "papermill": {
     "duration": 0.009556,
     "end_time": "2025-06-25T02:13:47.853467",
     "exception": false,
     "start_time": "2025-06-25T02:13:47.843911",
     "status": "completed"
    },
    "tags": []
   },
   "source": [
    "First approach with original variables only."
   ]
  },
  {
   "cell_type": "markdown",
   "id": "998f52dd",
   "metadata": {
    "papermill": {
     "duration": 0.009575,
     "end_time": "2025-06-25T02:13:47.872771",
     "exception": false,
     "start_time": "2025-06-25T02:13:47.863196",
     "status": "completed"
    },
    "tags": []
   },
   "source": [
    "## Encoding"
   ]
  },
  {
   "cell_type": "code",
   "execution_count": 11,
   "id": "033d5faa",
   "metadata": {
    "execution": {
     "iopub.execute_input": "2025-06-25T02:13:47.894130Z",
     "iopub.status.busy": "2025-06-25T02:13:47.893839Z",
     "iopub.status.idle": "2025-06-25T02:13:48.038341Z",
     "shell.execute_reply": "2025-06-25T02:13:48.037622Z"
    },
    "papermill": {
     "duration": 0.157312,
     "end_time": "2025-06-25T02:13:48.040006",
     "exception": false,
     "start_time": "2025-06-25T02:13:47.882694",
     "status": "completed"
    },
    "tags": []
   },
   "outputs": [],
   "source": [
    "# We apply LabelEncoder to the target variable\n",
    "\n",
    "le = LabelEncoder()\n",
    "\n",
    "fertilizers_end[\"Fertilizer Name\"] = le.fit_transform(fertilizers_end[\"Fertilizer Name\"])"
   ]
  },
  {
   "cell_type": "code",
   "execution_count": 12,
   "id": "39c99561",
   "metadata": {
    "execution": {
     "iopub.execute_input": "2025-06-25T02:13:48.061471Z",
     "iopub.status.busy": "2025-06-25T02:13:48.061167Z",
     "iopub.status.idle": "2025-06-25T02:13:48.065410Z",
     "shell.execute_reply": "2025-06-25T02:13:48.064560Z"
    },
    "papermill": {
     "duration": 0.016612,
     "end_time": "2025-06-25T02:13:48.066845",
     "exception": false,
     "start_time": "2025-06-25T02:13:48.050233",
     "status": "completed"
    },
    "tags": []
   },
   "outputs": [],
   "source": [
    "le_values = le.classes_"
   ]
  },
  {
   "cell_type": "code",
   "execution_count": 13,
   "id": "3f3f419a",
   "metadata": {
    "execution": {
     "iopub.execute_input": "2025-06-25T02:13:48.088855Z",
     "iopub.status.busy": "2025-06-25T02:13:48.088065Z",
     "iopub.status.idle": "2025-06-25T02:13:48.989035Z",
     "shell.execute_reply": "2025-06-25T02:13:48.988143Z"
    },
    "papermill": {
     "duration": 0.913943,
     "end_time": "2025-06-25T02:13:48.991016",
     "exception": false,
     "start_time": "2025-06-25T02:13:48.077073",
     "status": "completed"
    },
    "tags": []
   },
   "outputs": [],
   "source": [
    "# We create a df with the encoded categorical variables\n",
    "\n",
    "cat_cols = fertilizers_end[[\"Soil Type\", \"Crop Type\"]]\n",
    "rest_cols = fertilizers_end.drop(columns=[\"Soil Type\", \"Crop Type\"])\n",
    "encoder = OneHotEncoder(sparse=False, drop=\"if_binary\").set_output(transform=\"pandas\")\n",
    "cat_enc = encoder.fit_transform(cat_cols)\n",
    "df_encoded = pd.concat([rest_cols, cat_enc], axis=1)"
   ]
  },
  {
   "cell_type": "code",
   "execution_count": 14,
   "id": "d05c84c3",
   "metadata": {
    "execution": {
     "iopub.execute_input": "2025-06-25T02:13:49.012643Z",
     "iopub.status.busy": "2025-06-25T02:13:49.012293Z",
     "iopub.status.idle": "2025-06-25T02:13:49.078788Z",
     "shell.execute_reply": "2025-06-25T02:13:49.077733Z"
    },
    "papermill": {
     "duration": 0.078796,
     "end_time": "2025-06-25T02:13:49.080225",
     "exception": false,
     "start_time": "2025-06-25T02:13:49.001429",
     "status": "completed"
    },
    "tags": []
   },
   "outputs": [
    {
     "name": "stdout",
     "output_type": "stream",
     "text": [
      "<class 'pandas.core.frame.DataFrame'>\n",
      "Index: 750000 entries, 0 to 749999\n",
      "Data columns (total 23 columns):\n",
      " #   Column                 Non-Null Count   Dtype  \n",
      "---  ------                 --------------   -----  \n",
      " 0   Temparature            750000 non-null  int64  \n",
      " 1   Humidity               750000 non-null  int64  \n",
      " 2   Moisture               750000 non-null  int64  \n",
      " 3   Nitrogen               750000 non-null  int64  \n",
      " 4   Potassium              750000 non-null  int64  \n",
      " 5   Phosphorous            750000 non-null  int64  \n",
      " 6   Fertilizer Name        750000 non-null  int64  \n",
      " 7   Soil Type_Black        750000 non-null  float64\n",
      " 8   Soil Type_Clayey       750000 non-null  float64\n",
      " 9   Soil Type_Loamy        750000 non-null  float64\n",
      " 10  Soil Type_Red          750000 non-null  float64\n",
      " 11  Soil Type_Sandy        750000 non-null  float64\n",
      " 12  Crop Type_Barley       750000 non-null  float64\n",
      " 13  Crop Type_Cotton       750000 non-null  float64\n",
      " 14  Crop Type_Ground Nuts  750000 non-null  float64\n",
      " 15  Crop Type_Maize        750000 non-null  float64\n",
      " 16  Crop Type_Millets      750000 non-null  float64\n",
      " 17  Crop Type_Oil seeds    750000 non-null  float64\n",
      " 18  Crop Type_Paddy        750000 non-null  float64\n",
      " 19  Crop Type_Pulses       750000 non-null  float64\n",
      " 20  Crop Type_Sugarcane    750000 non-null  float64\n",
      " 21  Crop Type_Tobacco      750000 non-null  float64\n",
      " 22  Crop Type_Wheat        750000 non-null  float64\n",
      "dtypes: float64(16), int64(7)\n",
      "memory usage: 137.3 MB\n"
     ]
    }
   ],
   "source": [
    "df_encoded.info()"
   ]
  },
  {
   "cell_type": "code",
   "execution_count": 15,
   "id": "fd31d32f",
   "metadata": {
    "execution": {
     "iopub.execute_input": "2025-06-25T02:13:49.101635Z",
     "iopub.status.busy": "2025-06-25T02:13:49.101180Z",
     "iopub.status.idle": "2025-06-25T02:13:49.105127Z",
     "shell.execute_reply": "2025-06-25T02:13:49.104396Z"
    },
    "papermill": {
     "duration": 0.016083,
     "end_time": "2025-06-25T02:13:49.106544",
     "exception": false,
     "start_time": "2025-06-25T02:13:49.090461",
     "status": "completed"
    },
    "tags": []
   },
   "outputs": [],
   "source": [
    "#df_encoded.corr(numeric_only=True).round(2)"
   ]
  },
  {
   "cell_type": "markdown",
   "id": "c2fc2185",
   "metadata": {
    "papermill": {
     "duration": 0.009637,
     "end_time": "2025-06-25T02:13:49.126258",
     "exception": false,
     "start_time": "2025-06-25T02:13:49.116621",
     "status": "completed"
    },
    "tags": []
   },
   "source": [
    "## Scaling"
   ]
  },
  {
   "cell_type": "code",
   "execution_count": 16,
   "id": "5200c5be",
   "metadata": {
    "execution": {
     "iopub.execute_input": "2025-06-25T02:13:49.147701Z",
     "iopub.status.busy": "2025-06-25T02:13:49.147394Z",
     "iopub.status.idle": "2025-06-25T02:13:49.830678Z",
     "shell.execute_reply": "2025-06-25T02:13:49.829846Z"
    },
    "papermill": {
     "duration": 0.695982,
     "end_time": "2025-06-25T02:13:49.832153",
     "exception": false,
     "start_time": "2025-06-25T02:13:49.136171",
     "status": "completed"
    },
    "tags": []
   },
   "outputs": [
    {
     "data": {
      "text/html": [
       "<div>\n",
       "<style scoped>\n",
       "    .dataframe tbody tr th:only-of-type {\n",
       "        vertical-align: middle;\n",
       "    }\n",
       "\n",
       "    .dataframe tbody tr th {\n",
       "        vertical-align: top;\n",
       "    }\n",
       "\n",
       "    .dataframe thead th {\n",
       "        text-align: right;\n",
       "    }\n",
       "</style>\n",
       "<table border=\"1\" class=\"dataframe\">\n",
       "  <thead>\n",
       "    <tr style=\"text-align: right;\">\n",
       "      <th></th>\n",
       "      <th>count</th>\n",
       "      <th>mean</th>\n",
       "      <th>std</th>\n",
       "      <th>min</th>\n",
       "      <th>25%</th>\n",
       "      <th>50%</th>\n",
       "      <th>75%</th>\n",
       "      <th>max</th>\n",
       "    </tr>\n",
       "  </thead>\n",
       "  <tbody>\n",
       "    <tr>\n",
       "      <th>Temparature</th>\n",
       "      <td>750000.0</td>\n",
       "      <td>31.503565</td>\n",
       "      <td>4.025574</td>\n",
       "      <td>25.0</td>\n",
       "      <td>28.0</td>\n",
       "      <td>32.0</td>\n",
       "      <td>35.0</td>\n",
       "      <td>38.0</td>\n",
       "    </tr>\n",
       "    <tr>\n",
       "      <th>Humidity</th>\n",
       "      <td>750000.0</td>\n",
       "      <td>61.038912</td>\n",
       "      <td>6.647695</td>\n",
       "      <td>50.0</td>\n",
       "      <td>55.0</td>\n",
       "      <td>61.0</td>\n",
       "      <td>67.0</td>\n",
       "      <td>72.0</td>\n",
       "    </tr>\n",
       "    <tr>\n",
       "      <th>Moisture</th>\n",
       "      <td>750000.0</td>\n",
       "      <td>45.184147</td>\n",
       "      <td>11.794594</td>\n",
       "      <td>25.0</td>\n",
       "      <td>35.0</td>\n",
       "      <td>45.0</td>\n",
       "      <td>55.0</td>\n",
       "      <td>65.0</td>\n",
       "    </tr>\n",
       "    <tr>\n",
       "      <th>Nitrogen</th>\n",
       "      <td>750000.0</td>\n",
       "      <td>23.093808</td>\n",
       "      <td>11.216125</td>\n",
       "      <td>4.0</td>\n",
       "      <td>13.0</td>\n",
       "      <td>23.0</td>\n",
       "      <td>33.0</td>\n",
       "      <td>42.0</td>\n",
       "    </tr>\n",
       "    <tr>\n",
       "      <th>Potassium</th>\n",
       "      <td>750000.0</td>\n",
       "      <td>9.478296</td>\n",
       "      <td>5.765622</td>\n",
       "      <td>0.0</td>\n",
       "      <td>4.0</td>\n",
       "      <td>9.0</td>\n",
       "      <td>14.0</td>\n",
       "      <td>19.0</td>\n",
       "    </tr>\n",
       "    <tr>\n",
       "      <th>Phosphorous</th>\n",
       "      <td>750000.0</td>\n",
       "      <td>21.073227</td>\n",
       "      <td>12.346831</td>\n",
       "      <td>0.0</td>\n",
       "      <td>10.0</td>\n",
       "      <td>21.0</td>\n",
       "      <td>32.0</td>\n",
       "      <td>42.0</td>\n",
       "    </tr>\n",
       "    <tr>\n",
       "      <th>Fertilizer Name</th>\n",
       "      <td>750000.0</td>\n",
       "      <td>2.859791</td>\n",
       "      <td>1.967025</td>\n",
       "      <td>0.0</td>\n",
       "      <td>1.0</td>\n",
       "      <td>3.0</td>\n",
       "      <td>4.0</td>\n",
       "      <td>6.0</td>\n",
       "    </tr>\n",
       "    <tr>\n",
       "      <th>Soil Type_Black</th>\n",
       "      <td>750000.0</td>\n",
       "      <td>0.201275</td>\n",
       "      <td>0.400953</td>\n",
       "      <td>0.0</td>\n",
       "      <td>0.0</td>\n",
       "      <td>0.0</td>\n",
       "      <td>0.0</td>\n",
       "      <td>1.0</td>\n",
       "    </tr>\n",
       "    <tr>\n",
       "      <th>Soil Type_Clayey</th>\n",
       "      <td>750000.0</td>\n",
       "      <td>0.197843</td>\n",
       "      <td>0.398373</td>\n",
       "      <td>0.0</td>\n",
       "      <td>0.0</td>\n",
       "      <td>0.0</td>\n",
       "      <td>0.0</td>\n",
       "      <td>1.0</td>\n",
       "    </tr>\n",
       "    <tr>\n",
       "      <th>Soil Type_Loamy</th>\n",
       "      <td>750000.0</td>\n",
       "      <td>0.194467</td>\n",
       "      <td>0.395790</td>\n",
       "      <td>0.0</td>\n",
       "      <td>0.0</td>\n",
       "      <td>0.0</td>\n",
       "      <td>0.0</td>\n",
       "      <td>1.0</td>\n",
       "    </tr>\n",
       "    <tr>\n",
       "      <th>Soil Type_Red</th>\n",
       "      <td>750000.0</td>\n",
       "      <td>0.197469</td>\n",
       "      <td>0.398090</td>\n",
       "      <td>0.0</td>\n",
       "      <td>0.0</td>\n",
       "      <td>0.0</td>\n",
       "      <td>0.0</td>\n",
       "      <td>1.0</td>\n",
       "    </tr>\n",
       "    <tr>\n",
       "      <th>Soil Type_Sandy</th>\n",
       "      <td>750000.0</td>\n",
       "      <td>0.208947</td>\n",
       "      <td>0.406556</td>\n",
       "      <td>0.0</td>\n",
       "      <td>0.0</td>\n",
       "      <td>0.0</td>\n",
       "      <td>0.0</td>\n",
       "      <td>1.0</td>\n",
       "    </tr>\n",
       "    <tr>\n",
       "      <th>Crop Type_Barley</th>\n",
       "      <td>750000.0</td>\n",
       "      <td>0.086727</td>\n",
       "      <td>0.281434</td>\n",
       "      <td>0.0</td>\n",
       "      <td>0.0</td>\n",
       "      <td>0.0</td>\n",
       "      <td>0.0</td>\n",
       "      <td>1.0</td>\n",
       "    </tr>\n",
       "    <tr>\n",
       "      <th>Crop Type_Cotton</th>\n",
       "      <td>750000.0</td>\n",
       "      <td>0.092228</td>\n",
       "      <td>0.289348</td>\n",
       "      <td>0.0</td>\n",
       "      <td>0.0</td>\n",
       "      <td>0.0</td>\n",
       "      <td>0.0</td>\n",
       "      <td>1.0</td>\n",
       "    </tr>\n",
       "    <tr>\n",
       "      <th>Crop Type_Ground Nuts</th>\n",
       "      <td>750000.0</td>\n",
       "      <td>0.081212</td>\n",
       "      <td>0.273161</td>\n",
       "      <td>0.0</td>\n",
       "      <td>0.0</td>\n",
       "      <td>0.0</td>\n",
       "      <td>0.0</td>\n",
       "      <td>1.0</td>\n",
       "    </tr>\n",
       "    <tr>\n",
       "      <th>Crop Type_Maize</th>\n",
       "      <td>750000.0</td>\n",
       "      <td>0.083425</td>\n",
       "      <td>0.276524</td>\n",
       "      <td>0.0</td>\n",
       "      <td>0.0</td>\n",
       "      <td>0.0</td>\n",
       "      <td>0.0</td>\n",
       "      <td>1.0</td>\n",
       "    </tr>\n",
       "    <tr>\n",
       "      <th>Crop Type_Millets</th>\n",
       "      <td>750000.0</td>\n",
       "      <td>0.087055</td>\n",
       "      <td>0.281915</td>\n",
       "      <td>0.0</td>\n",
       "      <td>0.0</td>\n",
       "      <td>0.0</td>\n",
       "      <td>0.0</td>\n",
       "      <td>1.0</td>\n",
       "    </tr>\n",
       "    <tr>\n",
       "      <th>Crop Type_Oil seeds</th>\n",
       "      <td>750000.0</td>\n",
       "      <td>0.085579</td>\n",
       "      <td>0.279741</td>\n",
       "      <td>0.0</td>\n",
       "      <td>0.0</td>\n",
       "      <td>0.0</td>\n",
       "      <td>0.0</td>\n",
       "      <td>1.0</td>\n",
       "    </tr>\n",
       "    <tr>\n",
       "      <th>Crop Type_Paddy</th>\n",
       "      <td>750000.0</td>\n",
       "      <td>0.114339</td>\n",
       "      <td>0.318222</td>\n",
       "      <td>0.0</td>\n",
       "      <td>0.0</td>\n",
       "      <td>0.0</td>\n",
       "      <td>0.0</td>\n",
       "      <td>1.0</td>\n",
       "    </tr>\n",
       "    <tr>\n",
       "      <th>Crop Type_Pulses</th>\n",
       "      <td>750000.0</td>\n",
       "      <td>0.104240</td>\n",
       "      <td>0.305572</td>\n",
       "      <td>0.0</td>\n",
       "      <td>0.0</td>\n",
       "      <td>0.0</td>\n",
       "      <td>0.0</td>\n",
       "      <td>1.0</td>\n",
       "    </tr>\n",
       "    <tr>\n",
       "      <th>Crop Type_Sugarcane</th>\n",
       "      <td>750000.0</td>\n",
       "      <td>0.085692</td>\n",
       "      <td>0.279909</td>\n",
       "      <td>0.0</td>\n",
       "      <td>0.0</td>\n",
       "      <td>0.0</td>\n",
       "      <td>0.0</td>\n",
       "      <td>1.0</td>\n",
       "    </tr>\n",
       "    <tr>\n",
       "      <th>Crop Type_Tobacco</th>\n",
       "      <td>750000.0</td>\n",
       "      <td>0.090667</td>\n",
       "      <td>0.287135</td>\n",
       "      <td>0.0</td>\n",
       "      <td>0.0</td>\n",
       "      <td>0.0</td>\n",
       "      <td>0.0</td>\n",
       "      <td>1.0</td>\n",
       "    </tr>\n",
       "    <tr>\n",
       "      <th>Crop Type_Wheat</th>\n",
       "      <td>750000.0</td>\n",
       "      <td>0.088837</td>\n",
       "      <td>0.284509</td>\n",
       "      <td>0.0</td>\n",
       "      <td>0.0</td>\n",
       "      <td>0.0</td>\n",
       "      <td>0.0</td>\n",
       "      <td>1.0</td>\n",
       "    </tr>\n",
       "  </tbody>\n",
       "</table>\n",
       "</div>"
      ],
      "text/plain": [
       "                          count       mean        std   min   25%   50%   75%  \\\n",
       "Temparature            750000.0  31.503565   4.025574  25.0  28.0  32.0  35.0   \n",
       "Humidity               750000.0  61.038912   6.647695  50.0  55.0  61.0  67.0   \n",
       "Moisture               750000.0  45.184147  11.794594  25.0  35.0  45.0  55.0   \n",
       "Nitrogen               750000.0  23.093808  11.216125   4.0  13.0  23.0  33.0   \n",
       "Potassium              750000.0   9.478296   5.765622   0.0   4.0   9.0  14.0   \n",
       "Phosphorous            750000.0  21.073227  12.346831   0.0  10.0  21.0  32.0   \n",
       "Fertilizer Name        750000.0   2.859791   1.967025   0.0   1.0   3.0   4.0   \n",
       "Soil Type_Black        750000.0   0.201275   0.400953   0.0   0.0   0.0   0.0   \n",
       "Soil Type_Clayey       750000.0   0.197843   0.398373   0.0   0.0   0.0   0.0   \n",
       "Soil Type_Loamy        750000.0   0.194467   0.395790   0.0   0.0   0.0   0.0   \n",
       "Soil Type_Red          750000.0   0.197469   0.398090   0.0   0.0   0.0   0.0   \n",
       "Soil Type_Sandy        750000.0   0.208947   0.406556   0.0   0.0   0.0   0.0   \n",
       "Crop Type_Barley       750000.0   0.086727   0.281434   0.0   0.0   0.0   0.0   \n",
       "Crop Type_Cotton       750000.0   0.092228   0.289348   0.0   0.0   0.0   0.0   \n",
       "Crop Type_Ground Nuts  750000.0   0.081212   0.273161   0.0   0.0   0.0   0.0   \n",
       "Crop Type_Maize        750000.0   0.083425   0.276524   0.0   0.0   0.0   0.0   \n",
       "Crop Type_Millets      750000.0   0.087055   0.281915   0.0   0.0   0.0   0.0   \n",
       "Crop Type_Oil seeds    750000.0   0.085579   0.279741   0.0   0.0   0.0   0.0   \n",
       "Crop Type_Paddy        750000.0   0.114339   0.318222   0.0   0.0   0.0   0.0   \n",
       "Crop Type_Pulses       750000.0   0.104240   0.305572   0.0   0.0   0.0   0.0   \n",
       "Crop Type_Sugarcane    750000.0   0.085692   0.279909   0.0   0.0   0.0   0.0   \n",
       "Crop Type_Tobacco      750000.0   0.090667   0.287135   0.0   0.0   0.0   0.0   \n",
       "Crop Type_Wheat        750000.0   0.088837   0.284509   0.0   0.0   0.0   0.0   \n",
       "\n",
       "                        max  \n",
       "Temparature            38.0  \n",
       "Humidity               72.0  \n",
       "Moisture               65.0  \n",
       "Nitrogen               42.0  \n",
       "Potassium              19.0  \n",
       "Phosphorous            42.0  \n",
       "Fertilizer Name         6.0  \n",
       "Soil Type_Black         1.0  \n",
       "Soil Type_Clayey        1.0  \n",
       "Soil Type_Loamy         1.0  \n",
       "Soil Type_Red           1.0  \n",
       "Soil Type_Sandy         1.0  \n",
       "Crop Type_Barley        1.0  \n",
       "Crop Type_Cotton        1.0  \n",
       "Crop Type_Ground Nuts   1.0  \n",
       "Crop Type_Maize         1.0  \n",
       "Crop Type_Millets       1.0  \n",
       "Crop Type_Oil seeds     1.0  \n",
       "Crop Type_Paddy         1.0  \n",
       "Crop Type_Pulses        1.0  \n",
       "Crop Type_Sugarcane     1.0  \n",
       "Crop Type_Tobacco       1.0  \n",
       "Crop Type_Wheat         1.0  "
      ]
     },
     "execution_count": 16,
     "metadata": {},
     "output_type": "execute_result"
    }
   ],
   "source": [
    "df_encoded.describe().T"
   ]
  },
  {
   "cell_type": "code",
   "execution_count": 17,
   "id": "7a362c63",
   "metadata": {
    "execution": {
     "iopub.execute_input": "2025-06-25T02:13:49.854049Z",
     "iopub.status.busy": "2025-06-25T02:13:49.853720Z",
     "iopub.status.idle": "2025-06-25T02:13:49.905248Z",
     "shell.execute_reply": "2025-06-25T02:13:49.904341Z"
    },
    "papermill": {
     "duration": 0.064302,
     "end_time": "2025-06-25T02:13:49.906967",
     "exception": false,
     "start_time": "2025-06-25T02:13:49.842665",
     "status": "completed"
    },
    "tags": []
   },
   "outputs": [],
   "source": [
    "# We separate the target variable from the features\n",
    "\n",
    "x_fertilizers = df_encoded.drop(columns=\"Fertilizer Name\")\n",
    "y_fertilizers = df_encoded[\"Fertilizer Name\"]"
   ]
  },
  {
   "cell_type": "code",
   "execution_count": 18,
   "id": "4ccbcde3",
   "metadata": {
    "execution": {
     "iopub.execute_input": "2025-06-25T02:13:49.928698Z",
     "iopub.status.busy": "2025-06-25T02:13:49.928397Z",
     "iopub.status.idle": "2025-06-25T02:13:50.173457Z",
     "shell.execute_reply": "2025-06-25T02:13:50.172544Z"
    },
    "papermill": {
     "duration": 0.257854,
     "end_time": "2025-06-25T02:13:50.175242",
     "exception": false,
     "start_time": "2025-06-25T02:13:49.917388",
     "status": "completed"
    },
    "tags": []
   },
   "outputs": [],
   "source": [
    "# Numerical variables to scale\n",
    "\n",
    "fertilizer_numeric = x_fertilizers[[\n",
    "    \"Temparature\",\n",
    "    \"Humidity\",\n",
    "    \"Moisture\",\n",
    "    \"Nitrogen\",\n",
    "    \"Potassium\",\n",
    "    \"Phosphorous\"\n",
    "]]\n",
    "\n",
    "scaler = StandardScaler().set_output(transform=\"pandas\")\n",
    "scale_num = scaler.fit_transform(fertilizer_numeric)\n",
    "\n",
    "# We create a df with the remaining variables\n",
    "\n",
    "fertilizer_rest = x_fertilizers.drop(columns=[\n",
    "    \"Temparature\",\n",
    "    \"Humidity\",\n",
    "    \"Moisture\",\n",
    "    \"Nitrogen\",\n",
    "    \"Potassium\",\n",
    "    \"Phosphorous\"\n",
    "])\n",
    "\n",
    "# We concatenate the dataframes\n",
    "\n",
    "x_end = pd.concat([scale_num, fertilizer_rest], axis=1)"
   ]
  },
  {
   "cell_type": "code",
   "execution_count": 19,
   "id": "ced7b212",
   "metadata": {
    "execution": {
     "iopub.execute_input": "2025-06-25T02:13:50.197860Z",
     "iopub.status.busy": "2025-06-25T02:13:50.197461Z",
     "iopub.status.idle": "2025-06-25T02:13:50.263929Z",
     "shell.execute_reply": "2025-06-25T02:13:50.262651Z"
    },
    "papermill": {
     "duration": 0.079296,
     "end_time": "2025-06-25T02:13:50.265422",
     "exception": false,
     "start_time": "2025-06-25T02:13:50.186126",
     "status": "completed"
    },
    "tags": []
   },
   "outputs": [
    {
     "name": "stdout",
     "output_type": "stream",
     "text": [
      "<class 'pandas.core.frame.DataFrame'>\n",
      "Index: 750000 entries, 0 to 749999\n",
      "Data columns (total 22 columns):\n",
      " #   Column                 Non-Null Count   Dtype  \n",
      "---  ------                 --------------   -----  \n",
      " 0   Temparature            750000 non-null  float64\n",
      " 1   Humidity               750000 non-null  float64\n",
      " 2   Moisture               750000 non-null  float64\n",
      " 3   Nitrogen               750000 non-null  float64\n",
      " 4   Potassium              750000 non-null  float64\n",
      " 5   Phosphorous            750000 non-null  float64\n",
      " 6   Soil Type_Black        750000 non-null  float64\n",
      " 7   Soil Type_Clayey       750000 non-null  float64\n",
      " 8   Soil Type_Loamy        750000 non-null  float64\n",
      " 9   Soil Type_Red          750000 non-null  float64\n",
      " 10  Soil Type_Sandy        750000 non-null  float64\n",
      " 11  Crop Type_Barley       750000 non-null  float64\n",
      " 12  Crop Type_Cotton       750000 non-null  float64\n",
      " 13  Crop Type_Ground Nuts  750000 non-null  float64\n",
      " 14  Crop Type_Maize        750000 non-null  float64\n",
      " 15  Crop Type_Millets      750000 non-null  float64\n",
      " 16  Crop Type_Oil seeds    750000 non-null  float64\n",
      " 17  Crop Type_Paddy        750000 non-null  float64\n",
      " 18  Crop Type_Pulses       750000 non-null  float64\n",
      " 19  Crop Type_Sugarcane    750000 non-null  float64\n",
      " 20  Crop Type_Tobacco      750000 non-null  float64\n",
      " 21  Crop Type_Wheat        750000 non-null  float64\n",
      "dtypes: float64(22)\n",
      "memory usage: 131.6 MB\n"
     ]
    }
   ],
   "source": [
    "x_end.info()"
   ]
  },
  {
   "cell_type": "code",
   "execution_count": 20,
   "id": "06229177",
   "metadata": {
    "execution": {
     "iopub.execute_input": "2025-06-25T02:13:50.287599Z",
     "iopub.status.busy": "2025-06-25T02:13:50.287318Z",
     "iopub.status.idle": "2025-06-25T02:13:51.121959Z",
     "shell.execute_reply": "2025-06-25T02:13:51.121073Z"
    },
    "papermill": {
     "duration": 0.847325,
     "end_time": "2025-06-25T02:13:51.123444",
     "exception": false,
     "start_time": "2025-06-25T02:13:50.276119",
     "status": "completed"
    },
    "tags": []
   },
   "outputs": [
    {
     "data": {
      "text/html": [
       "<div>\n",
       "<style scoped>\n",
       "    .dataframe tbody tr th:only-of-type {\n",
       "        vertical-align: middle;\n",
       "    }\n",
       "\n",
       "    .dataframe tbody tr th {\n",
       "        vertical-align: top;\n",
       "    }\n",
       "\n",
       "    .dataframe thead th {\n",
       "        text-align: right;\n",
       "    }\n",
       "</style>\n",
       "<table border=\"1\" class=\"dataframe\">\n",
       "  <thead>\n",
       "    <tr style=\"text-align: right;\">\n",
       "      <th></th>\n",
       "      <th>count</th>\n",
       "      <th>mean</th>\n",
       "      <th>std</th>\n",
       "      <th>min</th>\n",
       "      <th>25%</th>\n",
       "      <th>50%</th>\n",
       "      <th>75%</th>\n",
       "      <th>max</th>\n",
       "    </tr>\n",
       "  </thead>\n",
       "  <tbody>\n",
       "    <tr>\n",
       "      <th>Temparature</th>\n",
       "      <td>750000.0</td>\n",
       "      <td>-2.430625e-16</td>\n",
       "      <td>1.000001</td>\n",
       "      <td>-1.615563</td>\n",
       "      <td>-0.870328</td>\n",
       "      <td>0.123320</td>\n",
       "      <td>0.868556</td>\n",
       "      <td>1.613792</td>\n",
       "    </tr>\n",
       "    <tr>\n",
       "      <th>Humidity</th>\n",
       "      <td>750000.0</td>\n",
       "      <td>-5.286627e-16</td>\n",
       "      <td>1.000001</td>\n",
       "      <td>-1.660563</td>\n",
       "      <td>-0.908422</td>\n",
       "      <td>-0.005853</td>\n",
       "      <td>0.896716</td>\n",
       "      <td>1.648856</td>\n",
       "    </tr>\n",
       "    <tr>\n",
       "      <th>Moisture</th>\n",
       "      <td>750000.0</td>\n",
       "      <td>2.707263e-16</td>\n",
       "      <td>1.000001</td>\n",
       "      <td>-1.711306</td>\n",
       "      <td>-0.863459</td>\n",
       "      <td>-0.015613</td>\n",
       "      <td>0.832234</td>\n",
       "      <td>1.680080</td>\n",
       "    </tr>\n",
       "    <tr>\n",
       "      <th>Nitrogen</th>\n",
       "      <td>750000.0</td>\n",
       "      <td>3.865352e-17</td>\n",
       "      <td>1.000001</td>\n",
       "      <td>-1.702354</td>\n",
       "      <td>-0.899938</td>\n",
       "      <td>-0.008364</td>\n",
       "      <td>0.883210</td>\n",
       "      <td>1.685627</td>\n",
       "    </tr>\n",
       "    <tr>\n",
       "      <th>Potassium</th>\n",
       "      <td>750000.0</td>\n",
       "      <td>-5.222015e-17</td>\n",
       "      <td>1.000001</td>\n",
       "      <td>-1.643934</td>\n",
       "      <td>-0.950166</td>\n",
       "      <td>-0.082957</td>\n",
       "      <td>0.784253</td>\n",
       "      <td>1.651463</td>\n",
       "    </tr>\n",
       "    <tr>\n",
       "      <th>Phosphorous</th>\n",
       "      <td>750000.0</td>\n",
       "      <td>-2.046363e-18</td>\n",
       "      <td>1.000001</td>\n",
       "      <td>-1.706773</td>\n",
       "      <td>-0.896848</td>\n",
       "      <td>-0.005931</td>\n",
       "      <td>0.884987</td>\n",
       "      <td>1.694912</td>\n",
       "    </tr>\n",
       "    <tr>\n",
       "      <th>Soil Type_Black</th>\n",
       "      <td>750000.0</td>\n",
       "      <td>2.012747e-01</td>\n",
       "      <td>0.400953</td>\n",
       "      <td>0.000000</td>\n",
       "      <td>0.000000</td>\n",
       "      <td>0.000000</td>\n",
       "      <td>0.000000</td>\n",
       "      <td>1.000000</td>\n",
       "    </tr>\n",
       "    <tr>\n",
       "      <th>Soil Type_Clayey</th>\n",
       "      <td>750000.0</td>\n",
       "      <td>1.978427e-01</td>\n",
       "      <td>0.398373</td>\n",
       "      <td>0.000000</td>\n",
       "      <td>0.000000</td>\n",
       "      <td>0.000000</td>\n",
       "      <td>0.000000</td>\n",
       "      <td>1.000000</td>\n",
       "    </tr>\n",
       "    <tr>\n",
       "      <th>Soil Type_Loamy</th>\n",
       "      <td>750000.0</td>\n",
       "      <td>1.944667e-01</td>\n",
       "      <td>0.395790</td>\n",
       "      <td>0.000000</td>\n",
       "      <td>0.000000</td>\n",
       "      <td>0.000000</td>\n",
       "      <td>0.000000</td>\n",
       "      <td>1.000000</td>\n",
       "    </tr>\n",
       "    <tr>\n",
       "      <th>Soil Type_Red</th>\n",
       "      <td>750000.0</td>\n",
       "      <td>1.974693e-01</td>\n",
       "      <td>0.398090</td>\n",
       "      <td>0.000000</td>\n",
       "      <td>0.000000</td>\n",
       "      <td>0.000000</td>\n",
       "      <td>0.000000</td>\n",
       "      <td>1.000000</td>\n",
       "    </tr>\n",
       "    <tr>\n",
       "      <th>Soil Type_Sandy</th>\n",
       "      <td>750000.0</td>\n",
       "      <td>2.089467e-01</td>\n",
       "      <td>0.406556</td>\n",
       "      <td>0.000000</td>\n",
       "      <td>0.000000</td>\n",
       "      <td>0.000000</td>\n",
       "      <td>0.000000</td>\n",
       "      <td>1.000000</td>\n",
       "    </tr>\n",
       "    <tr>\n",
       "      <th>Crop Type_Barley</th>\n",
       "      <td>750000.0</td>\n",
       "      <td>8.672667e-02</td>\n",
       "      <td>0.281434</td>\n",
       "      <td>0.000000</td>\n",
       "      <td>0.000000</td>\n",
       "      <td>0.000000</td>\n",
       "      <td>0.000000</td>\n",
       "      <td>1.000000</td>\n",
       "    </tr>\n",
       "    <tr>\n",
       "      <th>Crop Type_Cotton</th>\n",
       "      <td>750000.0</td>\n",
       "      <td>9.222800e-02</td>\n",
       "      <td>0.289348</td>\n",
       "      <td>0.000000</td>\n",
       "      <td>0.000000</td>\n",
       "      <td>0.000000</td>\n",
       "      <td>0.000000</td>\n",
       "      <td>1.000000</td>\n",
       "    </tr>\n",
       "    <tr>\n",
       "      <th>Crop Type_Ground Nuts</th>\n",
       "      <td>750000.0</td>\n",
       "      <td>8.121200e-02</td>\n",
       "      <td>0.273161</td>\n",
       "      <td>0.000000</td>\n",
       "      <td>0.000000</td>\n",
       "      <td>0.000000</td>\n",
       "      <td>0.000000</td>\n",
       "      <td>1.000000</td>\n",
       "    </tr>\n",
       "    <tr>\n",
       "      <th>Crop Type_Maize</th>\n",
       "      <td>750000.0</td>\n",
       "      <td>8.342533e-02</td>\n",
       "      <td>0.276524</td>\n",
       "      <td>0.000000</td>\n",
       "      <td>0.000000</td>\n",
       "      <td>0.000000</td>\n",
       "      <td>0.000000</td>\n",
       "      <td>1.000000</td>\n",
       "    </tr>\n",
       "    <tr>\n",
       "      <th>Crop Type_Millets</th>\n",
       "      <td>750000.0</td>\n",
       "      <td>8.705467e-02</td>\n",
       "      <td>0.281915</td>\n",
       "      <td>0.000000</td>\n",
       "      <td>0.000000</td>\n",
       "      <td>0.000000</td>\n",
       "      <td>0.000000</td>\n",
       "      <td>1.000000</td>\n",
       "    </tr>\n",
       "    <tr>\n",
       "      <th>Crop Type_Oil seeds</th>\n",
       "      <td>750000.0</td>\n",
       "      <td>8.557867e-02</td>\n",
       "      <td>0.279741</td>\n",
       "      <td>0.000000</td>\n",
       "      <td>0.000000</td>\n",
       "      <td>0.000000</td>\n",
       "      <td>0.000000</td>\n",
       "      <td>1.000000</td>\n",
       "    </tr>\n",
       "    <tr>\n",
       "      <th>Crop Type_Paddy</th>\n",
       "      <td>750000.0</td>\n",
       "      <td>1.143387e-01</td>\n",
       "      <td>0.318222</td>\n",
       "      <td>0.000000</td>\n",
       "      <td>0.000000</td>\n",
       "      <td>0.000000</td>\n",
       "      <td>0.000000</td>\n",
       "      <td>1.000000</td>\n",
       "    </tr>\n",
       "    <tr>\n",
       "      <th>Crop Type_Pulses</th>\n",
       "      <td>750000.0</td>\n",
       "      <td>1.042400e-01</td>\n",
       "      <td>0.305572</td>\n",
       "      <td>0.000000</td>\n",
       "      <td>0.000000</td>\n",
       "      <td>0.000000</td>\n",
       "      <td>0.000000</td>\n",
       "      <td>1.000000</td>\n",
       "    </tr>\n",
       "    <tr>\n",
       "      <th>Crop Type_Sugarcane</th>\n",
       "      <td>750000.0</td>\n",
       "      <td>8.569200e-02</td>\n",
       "      <td>0.279909</td>\n",
       "      <td>0.000000</td>\n",
       "      <td>0.000000</td>\n",
       "      <td>0.000000</td>\n",
       "      <td>0.000000</td>\n",
       "      <td>1.000000</td>\n",
       "    </tr>\n",
       "    <tr>\n",
       "      <th>Crop Type_Tobacco</th>\n",
       "      <td>750000.0</td>\n",
       "      <td>9.066667e-02</td>\n",
       "      <td>0.287135</td>\n",
       "      <td>0.000000</td>\n",
       "      <td>0.000000</td>\n",
       "      <td>0.000000</td>\n",
       "      <td>0.000000</td>\n",
       "      <td>1.000000</td>\n",
       "    </tr>\n",
       "    <tr>\n",
       "      <th>Crop Type_Wheat</th>\n",
       "      <td>750000.0</td>\n",
       "      <td>8.883733e-02</td>\n",
       "      <td>0.284509</td>\n",
       "      <td>0.000000</td>\n",
       "      <td>0.000000</td>\n",
       "      <td>0.000000</td>\n",
       "      <td>0.000000</td>\n",
       "      <td>1.000000</td>\n",
       "    </tr>\n",
       "  </tbody>\n",
       "</table>\n",
       "</div>"
      ],
      "text/plain": [
       "                          count          mean       std       min       25%  \\\n",
       "Temparature            750000.0 -2.430625e-16  1.000001 -1.615563 -0.870328   \n",
       "Humidity               750000.0 -5.286627e-16  1.000001 -1.660563 -0.908422   \n",
       "Moisture               750000.0  2.707263e-16  1.000001 -1.711306 -0.863459   \n",
       "Nitrogen               750000.0  3.865352e-17  1.000001 -1.702354 -0.899938   \n",
       "Potassium              750000.0 -5.222015e-17  1.000001 -1.643934 -0.950166   \n",
       "Phosphorous            750000.0 -2.046363e-18  1.000001 -1.706773 -0.896848   \n",
       "Soil Type_Black        750000.0  2.012747e-01  0.400953  0.000000  0.000000   \n",
       "Soil Type_Clayey       750000.0  1.978427e-01  0.398373  0.000000  0.000000   \n",
       "Soil Type_Loamy        750000.0  1.944667e-01  0.395790  0.000000  0.000000   \n",
       "Soil Type_Red          750000.0  1.974693e-01  0.398090  0.000000  0.000000   \n",
       "Soil Type_Sandy        750000.0  2.089467e-01  0.406556  0.000000  0.000000   \n",
       "Crop Type_Barley       750000.0  8.672667e-02  0.281434  0.000000  0.000000   \n",
       "Crop Type_Cotton       750000.0  9.222800e-02  0.289348  0.000000  0.000000   \n",
       "Crop Type_Ground Nuts  750000.0  8.121200e-02  0.273161  0.000000  0.000000   \n",
       "Crop Type_Maize        750000.0  8.342533e-02  0.276524  0.000000  0.000000   \n",
       "Crop Type_Millets      750000.0  8.705467e-02  0.281915  0.000000  0.000000   \n",
       "Crop Type_Oil seeds    750000.0  8.557867e-02  0.279741  0.000000  0.000000   \n",
       "Crop Type_Paddy        750000.0  1.143387e-01  0.318222  0.000000  0.000000   \n",
       "Crop Type_Pulses       750000.0  1.042400e-01  0.305572  0.000000  0.000000   \n",
       "Crop Type_Sugarcane    750000.0  8.569200e-02  0.279909  0.000000  0.000000   \n",
       "Crop Type_Tobacco      750000.0  9.066667e-02  0.287135  0.000000  0.000000   \n",
       "Crop Type_Wheat        750000.0  8.883733e-02  0.284509  0.000000  0.000000   \n",
       "\n",
       "                            50%       75%       max  \n",
       "Temparature            0.123320  0.868556  1.613792  \n",
       "Humidity              -0.005853  0.896716  1.648856  \n",
       "Moisture              -0.015613  0.832234  1.680080  \n",
       "Nitrogen              -0.008364  0.883210  1.685627  \n",
       "Potassium             -0.082957  0.784253  1.651463  \n",
       "Phosphorous           -0.005931  0.884987  1.694912  \n",
       "Soil Type_Black        0.000000  0.000000  1.000000  \n",
       "Soil Type_Clayey       0.000000  0.000000  1.000000  \n",
       "Soil Type_Loamy        0.000000  0.000000  1.000000  \n",
       "Soil Type_Red          0.000000  0.000000  1.000000  \n",
       "Soil Type_Sandy        0.000000  0.000000  1.000000  \n",
       "Crop Type_Barley       0.000000  0.000000  1.000000  \n",
       "Crop Type_Cotton       0.000000  0.000000  1.000000  \n",
       "Crop Type_Ground Nuts  0.000000  0.000000  1.000000  \n",
       "Crop Type_Maize        0.000000  0.000000  1.000000  \n",
       "Crop Type_Millets      0.000000  0.000000  1.000000  \n",
       "Crop Type_Oil seeds    0.000000  0.000000  1.000000  \n",
       "Crop Type_Paddy        0.000000  0.000000  1.000000  \n",
       "Crop Type_Pulses       0.000000  0.000000  1.000000  \n",
       "Crop Type_Sugarcane    0.000000  0.000000  1.000000  \n",
       "Crop Type_Tobacco      0.000000  0.000000  1.000000  \n",
       "Crop Type_Wheat        0.000000  0.000000  1.000000  "
      ]
     },
     "execution_count": 20,
     "metadata": {},
     "output_type": "execute_result"
    }
   ],
   "source": [
    "x_end.describe().T"
   ]
  },
  {
   "cell_type": "markdown",
   "id": "6c6e7dec",
   "metadata": {
    "papermill": {
     "duration": 0.010333,
     "end_time": "2025-06-25T02:13:51.144767",
     "exception": false,
     "start_time": "2025-06-25T02:13:51.134434",
     "status": "completed"
    },
    "tags": []
   },
   "source": [
    "## Feature Selection"
   ]
  },
  {
   "cell_type": "code",
   "execution_count": 21,
   "id": "b87ab2d5",
   "metadata": {
    "execution": {
     "iopub.execute_input": "2025-06-25T02:13:51.168316Z",
     "iopub.status.busy": "2025-06-25T02:13:51.168009Z",
     "iopub.status.idle": "2025-06-25T02:13:51.173584Z",
     "shell.execute_reply": "2025-06-25T02:13:51.172828Z"
    },
    "papermill": {
     "duration": 0.019195,
     "end_time": "2025-06-25T02:13:51.175118",
     "exception": false,
     "start_time": "2025-06-25T02:13:51.155923",
     "status": "completed"
    },
    "tags": []
   },
   "outputs": [
    {
     "data": {
      "text/plain": [
       "'\\nfertilizers_scores = mutual_info_classif(x_end, y_fertilizers)\\nfertilizers_scores = pd.Series(fertilizers_scores, name=\"Fertilizers MI Scores\", index=x_end.columns)\\nfertilizers_scores = fertilizers_scores.sort_values(ascending=False)\\nfertilizers_scores\\n'"
      ]
     },
     "execution_count": 21,
     "metadata": {},
     "output_type": "execute_result"
    }
   ],
   "source": [
    "'''\n",
    "fertilizers_scores = mutual_info_classif(x_end, y_fertilizers)\n",
    "fertilizers_scores = pd.Series(fertilizers_scores, name=\"Fertilizers MI Scores\", index=x_end.columns)\n",
    "fertilizers_scores = fertilizers_scores.sort_values(ascending=False)\n",
    "fertilizers_scores\n",
    "'''"
   ]
  },
  {
   "cell_type": "markdown",
   "id": "bb3707ce",
   "metadata": {
    "papermill": {
     "duration": 0.010733,
     "end_time": "2025-06-25T02:13:51.196994",
     "exception": false,
     "start_time": "2025-06-25T02:13:51.186261",
     "status": "completed"
    },
    "tags": []
   },
   "source": [
    "First feature analysis:\n",
    "\n",
    "    Moisture                 0.004975\n",
    "    Soil Type_Black          0.004838\n",
    "    Phosphorous              0.004139\n",
    "    Soil Type_Clayey         0.003320\n",
    "    Soil Type_Loamy          0.003201\n",
    "    Nitrogen                 0.002672\n",
    "    Soil Type_Sandy          0.002432\n",
    "    Soil Type_Red            0.002427\n",
    "    Crop Type_Oil seeds      0.002218\n",
    "    Potassium                0.001786\n",
    "    Temparature              0.001252\n",
    "    Crop Type_Paddy          0.001237\n",
    "    Crop Type_Tobacco        0.001203\n",
    "    Crop Type_Pulses         0.001140\n",
    "    Crop Type_Maize          0.001094\n",
    "    Crop Type_Wheat          0.000915\n",
    "    Crop Type_Barley         0.000832\n",
    "    Crop Type_Cotton         0.000788\n",
    "    Humidity                 0.000540\n",
    "    Crop Type_Ground Nuts    0.000466\n",
    "    Crop Type_Sugarcane      0.000300\n",
    "    Crop Type_Millets        0.000000"
   ]
  },
  {
   "cell_type": "code",
   "execution_count": 22,
   "id": "bc5fa1fc",
   "metadata": {
    "execution": {
     "iopub.execute_input": "2025-06-25T02:13:51.221419Z",
     "iopub.status.busy": "2025-06-25T02:13:51.220802Z",
     "iopub.status.idle": "2025-06-25T02:13:51.226045Z",
     "shell.execute_reply": "2025-06-25T02:13:51.225304Z"
    },
    "papermill": {
     "duration": 0.018813,
     "end_time": "2025-06-25T02:13:51.227356",
     "exception": false,
     "start_time": "2025-06-25T02:13:51.208543",
     "status": "completed"
    },
    "tags": []
   },
   "outputs": [
    {
     "data": {
      "text/plain": [
       "'\\nscores = fertilizers_scores.sort_values(ascending=True)\\nwidth = np.arange(len(fertilizers_scores))\\nticks = list(fertilizers_scores.index)\\nplt.barh(width, fertilizers_scores)\\nplt.yticks(width, ticks)\\nplt.title(\"Mutual Information Scores\")\\nplt.figure(dpi=100, figsize=(8, 5))\\nplt.show()\\n'"
      ]
     },
     "execution_count": 22,
     "metadata": {},
     "output_type": "execute_result"
    }
   ],
   "source": [
    "'''\n",
    "scores = fertilizers_scores.sort_values(ascending=True)\n",
    "width = np.arange(len(fertilizers_scores))\n",
    "ticks = list(fertilizers_scores.index)\n",
    "plt.barh(width, fertilizers_scores)\n",
    "plt.yticks(width, ticks)\n",
    "plt.title(\"Mutual Information Scores\")\n",
    "plt.figure(dpi=100, figsize=(8, 5))\n",
    "plt.show()\n",
    "'''"
   ]
  },
  {
   "cell_type": "code",
   "execution_count": 23,
   "id": "5ce5d311",
   "metadata": {
    "execution": {
     "iopub.execute_input": "2025-06-25T02:13:51.252615Z",
     "iopub.status.busy": "2025-06-25T02:13:51.252026Z",
     "iopub.status.idle": "2025-06-25T02:13:51.256510Z",
     "shell.execute_reply": "2025-06-25T02:13:51.255183Z"
    },
    "papermill": {
     "duration": 0.018644,
     "end_time": "2025-06-25T02:13:51.258216",
     "exception": false,
     "start_time": "2025-06-25T02:13:51.239572",
     "status": "completed"
    },
    "tags": []
   },
   "outputs": [],
   "source": [
    "#x_end = x_end.drop(columns=[])"
   ]
  },
  {
   "cell_type": "markdown",
   "id": "65ca6a90",
   "metadata": {
    "papermill": {
     "duration": 0.010703,
     "end_time": "2025-06-25T02:13:51.280371",
     "exception": false,
     "start_time": "2025-06-25T02:13:51.269668",
     "status": "completed"
    },
    "tags": []
   },
   "source": [
    "# Model Selection"
   ]
  },
  {
   "cell_type": "code",
   "execution_count": 24,
   "id": "209bd26b",
   "metadata": {
    "execution": {
     "iopub.execute_input": "2025-06-25T02:13:51.305426Z",
     "iopub.status.busy": "2025-06-25T02:13:51.304865Z",
     "iopub.status.idle": "2025-06-25T02:13:51.523537Z",
     "shell.execute_reply": "2025-06-25T02:13:51.522802Z"
    },
    "papermill": {
     "duration": 0.233927,
     "end_time": "2025-06-25T02:13:51.525192",
     "exception": false,
     "start_time": "2025-06-25T02:13:51.291265",
     "status": "completed"
    },
    "tags": []
   },
   "outputs": [],
   "source": [
    "# We separate the data into training and validation sets\n",
    "\n",
    "x_train, x_val, y_train, y_val = (\n",
    "    train_test_split(x_end, y_fertilizers, test_size=0.2, random_state=42)\n",
    ")"
   ]
  },
  {
   "cell_type": "code",
   "execution_count": 25,
   "id": "9a1d8d6c",
   "metadata": {
    "execution": {
     "iopub.execute_input": "2025-06-25T02:13:51.550517Z",
     "iopub.status.busy": "2025-06-25T02:13:51.550227Z",
     "iopub.status.idle": "2025-06-25T02:13:51.572989Z",
     "shell.execute_reply": "2025-06-25T02:13:51.571841Z"
    },
    "papermill": {
     "duration": 0.037546,
     "end_time": "2025-06-25T02:13:51.574505",
     "exception": false,
     "start_time": "2025-06-25T02:13:51.536959",
     "status": "completed"
    },
    "tags": []
   },
   "outputs": [
    {
     "name": "stdout",
     "output_type": "stream",
     "text": [
      "[[    0     1     2     3     4     5     6]\n",
      " [91046 91797 89689 88879 88774 75712 74103]]\n"
     ]
    }
   ],
   "source": [
    "# We review the balance of the target variable\n",
    "\n",
    "values_counts = np.asarray(np.unique(y_train, return_counts=True))\n",
    "\n",
    "print(values_counts)"
   ]
  },
  {
   "cell_type": "code",
   "execution_count": 26,
   "id": "c515d33a",
   "metadata": {
    "execution": {
     "iopub.execute_input": "2025-06-25T02:13:51.598709Z",
     "iopub.status.busy": "2025-06-25T02:13:51.598403Z",
     "iopub.status.idle": "2025-06-25T02:13:51.604685Z",
     "shell.execute_reply": "2025-06-25T02:13:51.603936Z"
    },
    "papermill": {
     "duration": 0.019988,
     "end_time": "2025-06-25T02:13:51.606187",
     "exception": false,
     "start_time": "2025-06-25T02:13:51.586199",
     "status": "completed"
    },
    "tags": []
   },
   "outputs": [],
   "source": [
    "# Common function to calculate AP@K and then MAP@K\n",
    "\n",
    "def apk(actual, predicted, k):\n",
    "\n",
    "    if len(predicted)>k:\n",
    "        predicted = predicted[:k]\n",
    "\n",
    "    score = 0.0\n",
    "    num_hits = 0.0\n",
    "\n",
    "    for i,p in enumerate(predicted):\n",
    "        if p in actual and p not in predicted[:i]:\n",
    "            num_hits += 1.0\n",
    "            score += num_hits / (i+1.0)\n",
    "\n",
    "    if not actual:\n",
    "        return 0.0\n",
    "\n",
    "    return score\n",
    "\n",
    "def mapk(actual, predicted, k):\n",
    "\n",
    "    return np.mean([apk(a,p,k) for a,p in zip(actual, predicted)])"
   ]
  },
  {
   "cell_type": "code",
   "execution_count": 27,
   "id": "ec4d8385",
   "metadata": {
    "execution": {
     "iopub.execute_input": "2025-06-25T02:13:51.630447Z",
     "iopub.status.busy": "2025-06-25T02:13:51.629863Z",
     "iopub.status.idle": "2025-06-25T02:13:51.635849Z",
     "shell.execute_reply": "2025-06-25T02:13:51.634867Z"
    },
    "papermill": {
     "duration": 0.019377,
     "end_time": "2025-06-25T02:13:51.637271",
     "exception": false,
     "start_time": "2025-06-25T02:13:51.617894",
     "status": "completed"
    },
    "tags": []
   },
   "outputs": [],
   "source": [
    "# Function for an initial evaluation of the model\n",
    "\n",
    "def evaluator(model, val_x, val_y, enc, k, model_name):\n",
    "    \n",
    "    y_pred_prob = model.predict_proba(val_x)\n",
    "    top_3_indices_val = np.argsort(-y_pred_prob, axis=1)[:, :3]\n",
    "    \n",
    "    predicted_val = []\n",
    "    \n",
    "    for row_indices in top_3_indices_val:\n",
    "        names = enc.inverse_transform(row_indices)\n",
    "        predicted_val.append(list(names))\n",
    "    \n",
    "    actual_val = [[enc.inverse_transform([label])[0]] for label in val_y]\n",
    "    map_3_score_val = mapk(actual_val, predicted_val, k=k)\n",
    "    \n",
    "    print(f\"\\n{model_name} MAP@3 Score: {map_3_score_val:.4f}\")"
   ]
  },
  {
   "cell_type": "markdown",
   "id": "bfbe252a",
   "metadata": {
    "papermill": {
     "duration": 0.01076,
     "end_time": "2025-06-25T02:13:51.659453",
     "exception": false,
     "start_time": "2025-06-25T02:13:51.648693",
     "status": "completed"
    },
    "tags": []
   },
   "source": [
    "## LogisticRegression"
   ]
  },
  {
   "cell_type": "code",
   "execution_count": 28,
   "id": "9c74f643",
   "metadata": {
    "execution": {
     "iopub.execute_input": "2025-06-25T02:13:51.683131Z",
     "iopub.status.busy": "2025-06-25T02:13:51.682395Z",
     "iopub.status.idle": "2025-06-25T02:13:55.997610Z",
     "shell.execute_reply": "2025-06-25T02:13:55.996562Z"
    },
    "papermill": {
     "duration": 4.328896,
     "end_time": "2025-06-25T02:13:55.999349",
     "exception": false,
     "start_time": "2025-06-25T02:13:51.670453",
     "status": "completed"
    },
    "tags": []
   },
   "outputs": [
    {
     "data": {
      "text/html": [
       "<style>#sk-container-id-1 {color: black;background-color: white;}#sk-container-id-1 pre{padding: 0;}#sk-container-id-1 div.sk-toggleable {background-color: white;}#sk-container-id-1 label.sk-toggleable__label {cursor: pointer;display: block;width: 100%;margin-bottom: 0;padding: 0.3em;box-sizing: border-box;text-align: center;}#sk-container-id-1 label.sk-toggleable__label-arrow:before {content: \"▸\";float: left;margin-right: 0.25em;color: #696969;}#sk-container-id-1 label.sk-toggleable__label-arrow:hover:before {color: black;}#sk-container-id-1 div.sk-estimator:hover label.sk-toggleable__label-arrow:before {color: black;}#sk-container-id-1 div.sk-toggleable__content {max-height: 0;max-width: 0;overflow: hidden;text-align: left;background-color: #f0f8ff;}#sk-container-id-1 div.sk-toggleable__content pre {margin: 0.2em;color: black;border-radius: 0.25em;background-color: #f0f8ff;}#sk-container-id-1 input.sk-toggleable__control:checked~div.sk-toggleable__content {max-height: 200px;max-width: 100%;overflow: auto;}#sk-container-id-1 input.sk-toggleable__control:checked~label.sk-toggleable__label-arrow:before {content: \"▾\";}#sk-container-id-1 div.sk-estimator input.sk-toggleable__control:checked~label.sk-toggleable__label {background-color: #d4ebff;}#sk-container-id-1 div.sk-label input.sk-toggleable__control:checked~label.sk-toggleable__label {background-color: #d4ebff;}#sk-container-id-1 input.sk-hidden--visually {border: 0;clip: rect(1px 1px 1px 1px);clip: rect(1px, 1px, 1px, 1px);height: 1px;margin: -1px;overflow: hidden;padding: 0;position: absolute;width: 1px;}#sk-container-id-1 div.sk-estimator {font-family: monospace;background-color: #f0f8ff;border: 1px dotted black;border-radius: 0.25em;box-sizing: border-box;margin-bottom: 0.5em;}#sk-container-id-1 div.sk-estimator:hover {background-color: #d4ebff;}#sk-container-id-1 div.sk-parallel-item::after {content: \"\";width: 100%;border-bottom: 1px solid gray;flex-grow: 1;}#sk-container-id-1 div.sk-label:hover label.sk-toggleable__label {background-color: #d4ebff;}#sk-container-id-1 div.sk-serial::before {content: \"\";position: absolute;border-left: 1px solid gray;box-sizing: border-box;top: 0;bottom: 0;left: 50%;z-index: 0;}#sk-container-id-1 div.sk-serial {display: flex;flex-direction: column;align-items: center;background-color: white;padding-right: 0.2em;padding-left: 0.2em;position: relative;}#sk-container-id-1 div.sk-item {position: relative;z-index: 1;}#sk-container-id-1 div.sk-parallel {display: flex;align-items: stretch;justify-content: center;background-color: white;position: relative;}#sk-container-id-1 div.sk-item::before, #sk-container-id-1 div.sk-parallel-item::before {content: \"\";position: absolute;border-left: 1px solid gray;box-sizing: border-box;top: 0;bottom: 0;left: 50%;z-index: -1;}#sk-container-id-1 div.sk-parallel-item {display: flex;flex-direction: column;z-index: 1;position: relative;background-color: white;}#sk-container-id-1 div.sk-parallel-item:first-child::after {align-self: flex-end;width: 50%;}#sk-container-id-1 div.sk-parallel-item:last-child::after {align-self: flex-start;width: 50%;}#sk-container-id-1 div.sk-parallel-item:only-child::after {width: 0;}#sk-container-id-1 div.sk-dashed-wrapped {border: 1px dashed gray;margin: 0 0.4em 0.5em 0.4em;box-sizing: border-box;padding-bottom: 0.4em;background-color: white;}#sk-container-id-1 div.sk-label label {font-family: monospace;font-weight: bold;display: inline-block;line-height: 1.2em;}#sk-container-id-1 div.sk-label-container {text-align: center;}#sk-container-id-1 div.sk-container {/* jupyter's `normalize.less` sets `[hidden] { display: none; }` but bootstrap.min.css set `[hidden] { display: none !important; }` so we also need the `!important` here to be able to override the default hidden behavior on the sphinx rendered scikit-learn.org. See: https://github.com/scikit-learn/scikit-learn/issues/21755 */display: inline-block !important;position: relative;}#sk-container-id-1 div.sk-text-repr-fallback {display: none;}</style><div id=\"sk-container-id-1\" class=\"sk-top-container\"><div class=\"sk-text-repr-fallback\"><pre>LogisticRegression(multi_class=&#x27;multinomial&#x27;)</pre><b>In a Jupyter environment, please rerun this cell to show the HTML representation or trust the notebook. <br />On GitHub, the HTML representation is unable to render, please try loading this page with nbviewer.org.</b></div><div class=\"sk-container\" hidden><div class=\"sk-item\"><div class=\"sk-estimator sk-toggleable\"><input class=\"sk-toggleable__control sk-hidden--visually\" id=\"sk-estimator-id-1\" type=\"checkbox\" checked><label for=\"sk-estimator-id-1\" class=\"sk-toggleable__label sk-toggleable__label-arrow\">LogisticRegression</label><div class=\"sk-toggleable__content\"><pre>LogisticRegression(multi_class=&#x27;multinomial&#x27;)</pre></div></div></div></div></div>"
      ],
      "text/plain": [
       "LogisticRegression(multi_class='multinomial')"
      ]
     },
     "execution_count": 28,
     "metadata": {},
     "output_type": "execute_result"
    }
   ],
   "source": [
    "# We create the model instance\n",
    "\n",
    "lrc = LogisticRegression(multi_class=\"multinomial\")\n",
    "\n",
    "# Train the model with the data\n",
    "\n",
    "lrc.fit(x_train, y_train)"
   ]
  },
  {
   "cell_type": "code",
   "execution_count": 29,
   "id": "b8b3e654",
   "metadata": {
    "execution": {
     "iopub.execute_input": "2025-06-25T02:13:56.024067Z",
     "iopub.status.busy": "2025-06-25T02:13:56.023731Z",
     "iopub.status.idle": "2025-06-25T02:14:24.913630Z",
     "shell.execute_reply": "2025-06-25T02:14:24.912486Z"
    },
    "papermill": {
     "duration": 28.90398,
     "end_time": "2025-06-25T02:14:24.915168",
     "exception": false,
     "start_time": "2025-06-25T02:13:56.011188",
     "status": "completed"
    },
    "tags": []
   },
   "outputs": [
    {
     "name": "stdout",
     "output_type": "stream",
     "text": [
      "\n",
      "LogisticRegression MAP@3 Score: 0.2870\n"
     ]
    }
   ],
   "source": [
    "evaluator(lrc, x_val, y_val, le, 3, \"LogisticRegression\")"
   ]
  },
  {
   "cell_type": "markdown",
   "id": "3721e851",
   "metadata": {
    "papermill": {
     "duration": 0.012107,
     "end_time": "2025-06-25T02:14:24.939196",
     "exception": false,
     "start_time": "2025-06-25T02:14:24.927089",
     "status": "completed"
    },
    "tags": []
   },
   "source": [
    "# Modeling"
   ]
  },
  {
   "cell_type": "code",
   "execution_count": 30,
   "id": "cdb220aa",
   "metadata": {
    "execution": {
     "iopub.execute_input": "2025-06-25T02:14:24.963738Z",
     "iopub.status.busy": "2025-06-25T02:14:24.963081Z",
     "iopub.status.idle": "2025-06-25T02:14:24.969168Z",
     "shell.execute_reply": "2025-06-25T02:14:24.968191Z"
    },
    "papermill": {
     "duration": 0.019901,
     "end_time": "2025-06-25T02:14:24.970593",
     "exception": false,
     "start_time": "2025-06-25T02:14:24.950692",
     "status": "completed"
    },
    "tags": []
   },
   "outputs": [
    {
     "data": {
      "text/plain": [
       "{'C': 1.0,\n",
       " 'class_weight': None,\n",
       " 'dual': False,\n",
       " 'fit_intercept': True,\n",
       " 'intercept_scaling': 1,\n",
       " 'l1_ratio': None,\n",
       " 'max_iter': 100,\n",
       " 'multi_class': 'multinomial',\n",
       " 'n_jobs': None,\n",
       " 'penalty': 'l2',\n",
       " 'random_state': None,\n",
       " 'solver': 'lbfgs',\n",
       " 'tol': 0.0001,\n",
       " 'verbose': 0,\n",
       " 'warm_start': False}"
      ]
     },
     "execution_count": 30,
     "metadata": {},
     "output_type": "execute_result"
    }
   ],
   "source": [
    "final_model = lrc\n",
    "\n",
    "final_model.get_params()"
   ]
  },
  {
   "cell_type": "code",
   "execution_count": 31,
   "id": "10487c30",
   "metadata": {
    "execution": {
     "iopub.execute_input": "2025-06-25T02:14:24.995955Z",
     "iopub.status.busy": "2025-06-25T02:14:24.995150Z",
     "iopub.status.idle": "2025-06-25T02:14:38.856737Z",
     "shell.execute_reply": "2025-06-25T02:14:38.855643Z"
    },
    "papermill": {
     "duration": 13.875844,
     "end_time": "2025-06-25T02:14:38.858279",
     "exception": false,
     "start_time": "2025-06-25T02:14:24.982435",
     "status": "completed"
    },
    "tags": []
   },
   "outputs": [
    {
     "name": "stdout",
     "output_type": "stream",
     "text": [
      "\n",
      "Permutation Importance:\n",
      "                  Feature  Importance Mean  Importance Std\n",
      "2                Moisture         0.001306        0.000507\n",
      "17        Crop Type_Paddy         0.000888        0.000325\n",
      "18       Crop Type_Pulses         0.000798        0.000282\n",
      "5             Phosphorous         0.000743        0.000328\n",
      "20      Crop Type_Tobacco         0.000674        0.000247\n",
      "10        Soil Type_Sandy         0.000447        0.000374\n",
      "21        Crop Type_Wheat         0.000376        0.000367\n",
      "6         Soil Type_Black         0.000363        0.000349\n",
      "1                Humidity         0.000343        0.000448\n",
      "11       Crop Type_Barley         0.000336        0.000276\n",
      "4               Potassium         0.000294        0.000390\n",
      "9           Soil Type_Red         0.000222        0.000306\n",
      "16    Crop Type_Oil seeds         0.000214        0.000257\n",
      "13  Crop Type_Ground Nuts         0.000162        0.000211\n",
      "15      Crop Type_Millets         0.000102        0.000296\n",
      "7        Soil Type_Clayey         0.000092        0.000345\n",
      "14        Crop Type_Maize         0.000083        0.000240\n",
      "3                Nitrogen         0.000061        0.000318\n",
      "0             Temparature        -0.000174        0.000325\n",
      "8         Soil Type_Loamy        -0.000257        0.000218\n",
      "19    Crop Type_Sugarcane        -0.000268        0.000196\n",
      "12       Crop Type_Cotton        -0.000335        0.000269\n"
     ]
    }
   ],
   "source": [
    "# Permutation Importance\n",
    "\n",
    "perm_importance = permutation_importance(final_model, x_val, y_val, n_repeats=30, random_state=42, n_jobs=-1)\n",
    "perm_importance_df = pd.DataFrame({\n",
    "    'Feature': x_end.columns,\n",
    "    'Importance Mean': perm_importance.importances_mean,\n",
    "    'Importance Std': perm_importance.importances_std\n",
    "})\n",
    "print(\"\\nPermutation Importance:\")\n",
    "print(perm_importance_df.sort_values(by='Importance Mean', ascending=False))"
   ]
  },
  {
   "cell_type": "markdown",
   "id": "b88e5fee",
   "metadata": {
    "papermill": {
     "duration": 0.011275,
     "end_time": "2025-06-25T02:14:38.881537",
     "exception": false,
     "start_time": "2025-06-25T02:14:38.870262",
     "status": "completed"
    },
    "tags": []
   },
   "source": [
    "# Test data"
   ]
  },
  {
   "cell_type": "code",
   "execution_count": 32,
   "id": "228abfbd",
   "metadata": {
    "execution": {
     "iopub.execute_input": "2025-06-25T02:14:38.906138Z",
     "iopub.status.busy": "2025-06-25T02:14:38.905558Z",
     "iopub.status.idle": "2025-06-25T02:14:39.280692Z",
     "shell.execute_reply": "2025-06-25T02:14:39.279961Z"
    },
    "papermill": {
     "duration": 0.389247,
     "end_time": "2025-06-25T02:14:39.282385",
     "exception": false,
     "start_time": "2025-06-25T02:14:38.893138",
     "status": "completed"
    },
    "tags": []
   },
   "outputs": [],
   "source": [
    "# We load the test data and submission sample data\n",
    "\n",
    "df_test = pd.read_csv(\"/kaggle/input/playground-series-s5e6/test.csv\")\n",
    "\n",
    "fertilizer_sample = pd.read_csv(\"/kaggle/input/playground-series-s5e6/sample_submission.csv\")"
   ]
  },
  {
   "cell_type": "code",
   "execution_count": 33,
   "id": "6a09ef4b",
   "metadata": {
    "execution": {
     "iopub.execute_input": "2025-06-25T02:14:39.306613Z",
     "iopub.status.busy": "2025-06-25T02:14:39.306321Z",
     "iopub.status.idle": "2025-06-25T02:14:39.310593Z",
     "shell.execute_reply": "2025-06-25T02:14:39.309739Z"
    },
    "papermill": {
     "duration": 0.017914,
     "end_time": "2025-06-25T02:14:39.312006",
     "exception": false,
     "start_time": "2025-06-25T02:14:39.294092",
     "status": "completed"
    },
    "tags": []
   },
   "outputs": [
    {
     "name": "stdout",
     "output_type": "stream",
     "text": [
      "Shape: (250000, 9)\n"
     ]
    }
   ],
   "source": [
    "# We check the shape\n",
    "\n",
    "print(f\"Shape: {df_test.shape}\")"
   ]
  },
  {
   "cell_type": "code",
   "execution_count": 34,
   "id": "218b1008",
   "metadata": {
    "execution": {
     "iopub.execute_input": "2025-06-25T02:14:39.336549Z",
     "iopub.status.busy": "2025-06-25T02:14:39.335932Z",
     "iopub.status.idle": "2025-06-25T02:14:39.345580Z",
     "shell.execute_reply": "2025-06-25T02:14:39.344836Z"
    },
    "papermill": {
     "duration": 0.023411,
     "end_time": "2025-06-25T02:14:39.346958",
     "exception": false,
     "start_time": "2025-06-25T02:14:39.323547",
     "status": "completed"
    },
    "tags": []
   },
   "outputs": [
    {
     "data": {
      "text/html": [
       "<div>\n",
       "<style scoped>\n",
       "    .dataframe tbody tr th:only-of-type {\n",
       "        vertical-align: middle;\n",
       "    }\n",
       "\n",
       "    .dataframe tbody tr th {\n",
       "        vertical-align: top;\n",
       "    }\n",
       "\n",
       "    .dataframe thead th {\n",
       "        text-align: right;\n",
       "    }\n",
       "</style>\n",
       "<table border=\"1\" class=\"dataframe\">\n",
       "  <thead>\n",
       "    <tr style=\"text-align: right;\">\n",
       "      <th></th>\n",
       "      <th>id</th>\n",
       "      <th>Temparature</th>\n",
       "      <th>Humidity</th>\n",
       "      <th>Moisture</th>\n",
       "      <th>Soil Type</th>\n",
       "      <th>Crop Type</th>\n",
       "      <th>Nitrogen</th>\n",
       "      <th>Potassium</th>\n",
       "      <th>Phosphorous</th>\n",
       "    </tr>\n",
       "  </thead>\n",
       "  <tbody>\n",
       "    <tr>\n",
       "      <th>0</th>\n",
       "      <td>750000</td>\n",
       "      <td>31</td>\n",
       "      <td>70</td>\n",
       "      <td>52</td>\n",
       "      <td>Sandy</td>\n",
       "      <td>Wheat</td>\n",
       "      <td>34</td>\n",
       "      <td>11</td>\n",
       "      <td>24</td>\n",
       "    </tr>\n",
       "    <tr>\n",
       "      <th>1</th>\n",
       "      <td>750001</td>\n",
       "      <td>27</td>\n",
       "      <td>62</td>\n",
       "      <td>45</td>\n",
       "      <td>Red</td>\n",
       "      <td>Sugarcane</td>\n",
       "      <td>30</td>\n",
       "      <td>14</td>\n",
       "      <td>15</td>\n",
       "    </tr>\n",
       "    <tr>\n",
       "      <th>2</th>\n",
       "      <td>750002</td>\n",
       "      <td>28</td>\n",
       "      <td>72</td>\n",
       "      <td>28</td>\n",
       "      <td>Clayey</td>\n",
       "      <td>Ground Nuts</td>\n",
       "      <td>14</td>\n",
       "      <td>15</td>\n",
       "      <td>4</td>\n",
       "    </tr>\n",
       "    <tr>\n",
       "      <th>3</th>\n",
       "      <td>750003</td>\n",
       "      <td>37</td>\n",
       "      <td>53</td>\n",
       "      <td>57</td>\n",
       "      <td>Black</td>\n",
       "      <td>Ground Nuts</td>\n",
       "      <td>18</td>\n",
       "      <td>17</td>\n",
       "      <td>36</td>\n",
       "    </tr>\n",
       "    <tr>\n",
       "      <th>4</th>\n",
       "      <td>750004</td>\n",
       "      <td>31</td>\n",
       "      <td>55</td>\n",
       "      <td>32</td>\n",
       "      <td>Red</td>\n",
       "      <td>Pulses</td>\n",
       "      <td>13</td>\n",
       "      <td>19</td>\n",
       "      <td>14</td>\n",
       "    </tr>\n",
       "  </tbody>\n",
       "</table>\n",
       "</div>"
      ],
      "text/plain": [
       "       id  Temparature  Humidity  Moisture Soil Type    Crop Type  Nitrogen  \\\n",
       "0  750000           31        70        52     Sandy        Wheat        34   \n",
       "1  750001           27        62        45       Red    Sugarcane        30   \n",
       "2  750002           28        72        28    Clayey  Ground Nuts        14   \n",
       "3  750003           37        53        57     Black  Ground Nuts        18   \n",
       "4  750004           31        55        32       Red       Pulses        13   \n",
       "\n",
       "   Potassium  Phosphorous  \n",
       "0         11           24  \n",
       "1         14           15  \n",
       "2         15            4  \n",
       "3         17           36  \n",
       "4         19           14  "
      ]
     },
     "execution_count": 34,
     "metadata": {},
     "output_type": "execute_result"
    }
   ],
   "source": [
    "df_test.head()"
   ]
  },
  {
   "cell_type": "code",
   "execution_count": 35,
   "id": "470bdc84",
   "metadata": {
    "execution": {
     "iopub.execute_input": "2025-06-25T02:14:39.372197Z",
     "iopub.status.busy": "2025-06-25T02:14:39.371476Z",
     "iopub.status.idle": "2025-06-25T02:14:39.408370Z",
     "shell.execute_reply": "2025-06-25T02:14:39.407448Z"
    },
    "papermill": {
     "duration": 0.051015,
     "end_time": "2025-06-25T02:14:39.409876",
     "exception": false,
     "start_time": "2025-06-25T02:14:39.358861",
     "status": "completed"
    },
    "tags": []
   },
   "outputs": [
    {
     "name": "stdout",
     "output_type": "stream",
     "text": [
      "<class 'pandas.core.frame.DataFrame'>\n",
      "RangeIndex: 250000 entries, 0 to 249999\n",
      "Data columns (total 9 columns):\n",
      " #   Column       Non-Null Count   Dtype \n",
      "---  ------       --------------   ----- \n",
      " 0   id           250000 non-null  int64 \n",
      " 1   Temparature  250000 non-null  int64 \n",
      " 2   Humidity     250000 non-null  int64 \n",
      " 3   Moisture     250000 non-null  int64 \n",
      " 4   Soil Type    250000 non-null  object\n",
      " 5   Crop Type    250000 non-null  object\n",
      " 6   Nitrogen     250000 non-null  int64 \n",
      " 7   Potassium    250000 non-null  int64 \n",
      " 8   Phosphorous  250000 non-null  int64 \n",
      "dtypes: int64(7), object(2)\n",
      "memory usage: 17.2+ MB\n"
     ]
    }
   ],
   "source": [
    "df_test.info()"
   ]
  },
  {
   "cell_type": "code",
   "execution_count": 36,
   "id": "7b7478c0",
   "metadata": {
    "execution": {
     "iopub.execute_input": "2025-06-25T02:14:39.435110Z",
     "iopub.status.busy": "2025-06-25T02:14:39.434237Z",
     "iopub.status.idle": "2025-06-25T02:14:39.511698Z",
     "shell.execute_reply": "2025-06-25T02:14:39.510658Z"
    },
    "papermill": {
     "duration": 0.091626,
     "end_time": "2025-06-25T02:14:39.513329",
     "exception": false,
     "start_time": "2025-06-25T02:14:39.421703",
     "status": "completed"
    },
    "tags": []
   },
   "outputs": [
    {
     "data": {
      "text/html": [
       "<div>\n",
       "<style scoped>\n",
       "    .dataframe tbody tr th:only-of-type {\n",
       "        vertical-align: middle;\n",
       "    }\n",
       "\n",
       "    .dataframe tbody tr th {\n",
       "        vertical-align: top;\n",
       "    }\n",
       "\n",
       "    .dataframe thead th {\n",
       "        text-align: right;\n",
       "    }\n",
       "</style>\n",
       "<table border=\"1\" class=\"dataframe\">\n",
       "  <thead>\n",
       "    <tr style=\"text-align: right;\">\n",
       "      <th></th>\n",
       "      <th>count</th>\n",
       "      <th>mean</th>\n",
       "      <th>std</th>\n",
       "      <th>min</th>\n",
       "      <th>25%</th>\n",
       "      <th>50%</th>\n",
       "      <th>75%</th>\n",
       "      <th>max</th>\n",
       "    </tr>\n",
       "  </thead>\n",
       "  <tbody>\n",
       "    <tr>\n",
       "      <th>id</th>\n",
       "      <td>250000.0</td>\n",
       "      <td>874999.500000</td>\n",
       "      <td>72168.927986</td>\n",
       "      <td>750000.0</td>\n",
       "      <td>812499.75</td>\n",
       "      <td>874999.5</td>\n",
       "      <td>937499.25</td>\n",
       "      <td>999999.0</td>\n",
       "    </tr>\n",
       "    <tr>\n",
       "      <th>Temparature</th>\n",
       "      <td>250000.0</td>\n",
       "      <td>31.491648</td>\n",
       "      <td>4.024093</td>\n",
       "      <td>25.0</td>\n",
       "      <td>28.00</td>\n",
       "      <td>31.0</td>\n",
       "      <td>35.00</td>\n",
       "      <td>38.0</td>\n",
       "    </tr>\n",
       "    <tr>\n",
       "      <th>Humidity</th>\n",
       "      <td>250000.0</td>\n",
       "      <td>61.045120</td>\n",
       "      <td>6.636372</td>\n",
       "      <td>50.0</td>\n",
       "      <td>55.00</td>\n",
       "      <td>61.0</td>\n",
       "      <td>67.00</td>\n",
       "      <td>72.0</td>\n",
       "    </tr>\n",
       "    <tr>\n",
       "      <th>Moisture</th>\n",
       "      <td>250000.0</td>\n",
       "      <td>45.190444</td>\n",
       "      <td>11.793167</td>\n",
       "      <td>25.0</td>\n",
       "      <td>35.00</td>\n",
       "      <td>45.0</td>\n",
       "      <td>55.00</td>\n",
       "      <td>65.0</td>\n",
       "    </tr>\n",
       "    <tr>\n",
       "      <th>Nitrogen</th>\n",
       "      <td>250000.0</td>\n",
       "      <td>23.139612</td>\n",
       "      <td>11.215956</td>\n",
       "      <td>4.0</td>\n",
       "      <td>13.00</td>\n",
       "      <td>23.0</td>\n",
       "      <td>33.00</td>\n",
       "      <td>42.0</td>\n",
       "    </tr>\n",
       "    <tr>\n",
       "      <th>Potassium</th>\n",
       "      <td>250000.0</td>\n",
       "      <td>9.487764</td>\n",
       "      <td>5.766860</td>\n",
       "      <td>0.0</td>\n",
       "      <td>4.00</td>\n",
       "      <td>10.0</td>\n",
       "      <td>14.00</td>\n",
       "      <td>19.0</td>\n",
       "    </tr>\n",
       "    <tr>\n",
       "      <th>Phosphorous</th>\n",
       "      <td>250000.0</td>\n",
       "      <td>21.122060</td>\n",
       "      <td>12.380870</td>\n",
       "      <td>0.0</td>\n",
       "      <td>10.00</td>\n",
       "      <td>21.0</td>\n",
       "      <td>32.00</td>\n",
       "      <td>42.0</td>\n",
       "    </tr>\n",
       "  </tbody>\n",
       "</table>\n",
       "</div>"
      ],
      "text/plain": [
       "                count           mean           std       min        25%  \\\n",
       "id           250000.0  874999.500000  72168.927986  750000.0  812499.75   \n",
       "Temparature  250000.0      31.491648      4.024093      25.0      28.00   \n",
       "Humidity     250000.0      61.045120      6.636372      50.0      55.00   \n",
       "Moisture     250000.0      45.190444     11.793167      25.0      35.00   \n",
       "Nitrogen     250000.0      23.139612     11.215956       4.0      13.00   \n",
       "Potassium    250000.0       9.487764      5.766860       0.0       4.00   \n",
       "Phosphorous  250000.0      21.122060     12.380870       0.0      10.00   \n",
       "\n",
       "                  50%        75%       max  \n",
       "id           874999.5  937499.25  999999.0  \n",
       "Temparature      31.0      35.00      38.0  \n",
       "Humidity         61.0      67.00      72.0  \n",
       "Moisture         45.0      55.00      65.0  \n",
       "Nitrogen         23.0      33.00      42.0  \n",
       "Potassium        10.0      14.00      19.0  \n",
       "Phosphorous      21.0      32.00      42.0  "
      ]
     },
     "execution_count": 36,
     "metadata": {},
     "output_type": "execute_result"
    }
   ],
   "source": [
    "df_test.describe().T"
   ]
  },
  {
   "cell_type": "code",
   "execution_count": 37,
   "id": "824c8797",
   "metadata": {
    "execution": {
     "iopub.execute_input": "2025-06-25T02:14:39.539006Z",
     "iopub.status.busy": "2025-06-25T02:14:39.538461Z",
     "iopub.status.idle": "2025-06-25T02:14:39.611689Z",
     "shell.execute_reply": "2025-06-25T02:14:39.610823Z"
    },
    "papermill": {
     "duration": 0.08767,
     "end_time": "2025-06-25T02:14:39.613177",
     "exception": false,
     "start_time": "2025-06-25T02:14:39.525507",
     "status": "completed"
    },
    "tags": []
   },
   "outputs": [
    {
     "data": {
      "text/html": [
       "<div>\n",
       "<style scoped>\n",
       "    .dataframe tbody tr th:only-of-type {\n",
       "        vertical-align: middle;\n",
       "    }\n",
       "\n",
       "    .dataframe tbody tr th {\n",
       "        vertical-align: top;\n",
       "    }\n",
       "\n",
       "    .dataframe thead th {\n",
       "        text-align: right;\n",
       "    }\n",
       "</style>\n",
       "<table border=\"1\" class=\"dataframe\">\n",
       "  <thead>\n",
       "    <tr style=\"text-align: right;\">\n",
       "      <th></th>\n",
       "      <th>Soil Type</th>\n",
       "      <th>Crop Type</th>\n",
       "    </tr>\n",
       "  </thead>\n",
       "  <tbody>\n",
       "    <tr>\n",
       "      <th>count</th>\n",
       "      <td>250000</td>\n",
       "      <td>250000</td>\n",
       "    </tr>\n",
       "    <tr>\n",
       "      <th>unique</th>\n",
       "      <td>5</td>\n",
       "      <td>11</td>\n",
       "    </tr>\n",
       "    <tr>\n",
       "      <th>top</th>\n",
       "      <td>Sandy</td>\n",
       "      <td>Paddy</td>\n",
       "    </tr>\n",
       "    <tr>\n",
       "      <th>freq</th>\n",
       "      <td>52323</td>\n",
       "      <td>28332</td>\n",
       "    </tr>\n",
       "  </tbody>\n",
       "</table>\n",
       "</div>"
      ],
      "text/plain": [
       "       Soil Type Crop Type\n",
       "count     250000    250000\n",
       "unique         5        11\n",
       "top        Sandy     Paddy\n",
       "freq       52323     28332"
      ]
     },
     "execution_count": 37,
     "metadata": {},
     "output_type": "execute_result"
    }
   ],
   "source": [
    "df_test.describe(exclude = np.number)"
   ]
  },
  {
   "cell_type": "markdown",
   "id": "e98ad7f3",
   "metadata": {
    "papermill": {
     "duration": 0.011834,
     "end_time": "2025-06-25T02:14:39.637161",
     "exception": false,
     "start_time": "2025-06-25T02:14:39.625327",
     "status": "completed"
    },
    "tags": []
   },
   "source": [
    "## Data wrangling & Preprocessing"
   ]
  },
  {
   "cell_type": "code",
   "execution_count": 38,
   "id": "4a37a73e",
   "metadata": {
    "execution": {
     "iopub.execute_input": "2025-06-25T02:14:39.662146Z",
     "iopub.status.busy": "2025-06-25T02:14:39.661843Z",
     "iopub.status.idle": "2025-06-25T02:14:39.792541Z",
     "shell.execute_reply": "2025-06-25T02:14:39.791595Z"
    },
    "papermill": {
     "duration": 0.144971,
     "end_time": "2025-06-25T02:14:39.793926",
     "exception": false,
     "start_time": "2025-06-25T02:14:39.648955",
     "status": "completed"
    },
    "tags": []
   },
   "outputs": [
    {
     "name": "stdout",
     "output_type": "stream",
     "text": [
      "Length: 250000\n",
      "Duplicates: 0\n"
     ]
    }
   ],
   "source": [
    "# We check that no duplicate data is found\n",
    "\n",
    "print(f\"Length: {len(df_test.duplicated())}\")\n",
    "\n",
    "print(f\"Duplicates: {df_test.duplicated().sum()}\")"
   ]
  },
  {
   "cell_type": "code",
   "execution_count": 39,
   "id": "9f881e13",
   "metadata": {
    "execution": {
     "iopub.execute_input": "2025-06-25T02:14:39.819917Z",
     "iopub.status.busy": "2025-06-25T02:14:39.819071Z",
     "iopub.status.idle": "2025-06-25T02:14:39.885573Z",
     "shell.execute_reply": "2025-06-25T02:14:39.884741Z"
    },
    "papermill": {
     "duration": 0.081023,
     "end_time": "2025-06-25T02:14:39.887059",
     "exception": false,
     "start_time": "2025-06-25T02:14:39.806036",
     "status": "completed"
    },
    "tags": []
   },
   "outputs": [
    {
     "data": {
      "text/html": [
       "<div>\n",
       "<style scoped>\n",
       "    .dataframe tbody tr th:only-of-type {\n",
       "        vertical-align: middle;\n",
       "    }\n",
       "\n",
       "    .dataframe tbody tr th {\n",
       "        vertical-align: top;\n",
       "    }\n",
       "\n",
       "    .dataframe thead th {\n",
       "        text-align: right;\n",
       "    }\n",
       "</style>\n",
       "<table border=\"1\" class=\"dataframe\">\n",
       "  <thead>\n",
       "    <tr style=\"text-align: right;\">\n",
       "      <th></th>\n",
       "      <th>Null Data</th>\n",
       "      <th>Percentage</th>\n",
       "    </tr>\n",
       "  </thead>\n",
       "  <tbody>\n",
       "    <tr>\n",
       "      <th>id</th>\n",
       "      <td>0</td>\n",
       "      <td>0.0</td>\n",
       "    </tr>\n",
       "    <tr>\n",
       "      <th>Temparature</th>\n",
       "      <td>0</td>\n",
       "      <td>0.0</td>\n",
       "    </tr>\n",
       "    <tr>\n",
       "      <th>Humidity</th>\n",
       "      <td>0</td>\n",
       "      <td>0.0</td>\n",
       "    </tr>\n",
       "    <tr>\n",
       "      <th>Moisture</th>\n",
       "      <td>0</td>\n",
       "      <td>0.0</td>\n",
       "    </tr>\n",
       "    <tr>\n",
       "      <th>Soil Type</th>\n",
       "      <td>0</td>\n",
       "      <td>0.0</td>\n",
       "    </tr>\n",
       "    <tr>\n",
       "      <th>Crop Type</th>\n",
       "      <td>0</td>\n",
       "      <td>0.0</td>\n",
       "    </tr>\n",
       "    <tr>\n",
       "      <th>Nitrogen</th>\n",
       "      <td>0</td>\n",
       "      <td>0.0</td>\n",
       "    </tr>\n",
       "    <tr>\n",
       "      <th>Potassium</th>\n",
       "      <td>0</td>\n",
       "      <td>0.0</td>\n",
       "    </tr>\n",
       "    <tr>\n",
       "      <th>Phosphorous</th>\n",
       "      <td>0</td>\n",
       "      <td>0.0</td>\n",
       "    </tr>\n",
       "  </tbody>\n",
       "</table>\n",
       "</div>"
      ],
      "text/plain": [
       "             Null Data  Percentage\n",
       "id                   0         0.0\n",
       "Temparature          0         0.0\n",
       "Humidity             0         0.0\n",
       "Moisture             0         0.0\n",
       "Soil Type            0         0.0\n",
       "Crop Type            0         0.0\n",
       "Nitrogen             0         0.0\n",
       "Potassium            0         0.0\n",
       "Phosphorous          0         0.0"
      ]
     },
     "execution_count": 39,
     "metadata": {},
     "output_type": "execute_result"
    }
   ],
   "source": [
    "# We confirm that there is no null values\n",
    "\n",
    "null_values_test = pd.DataFrame(\n",
    "        {f\"Null Data\" : df_test.isnull().sum(), \n",
    "         \"Percentage\" : (df_test.isnull().sum()) / (len(df_test)) * (100)})\n",
    "\n",
    "null_values_test"
   ]
  },
  {
   "cell_type": "code",
   "execution_count": 40,
   "id": "f1e8a1b0",
   "metadata": {
    "execution": {
     "iopub.execute_input": "2025-06-25T02:14:39.913185Z",
     "iopub.status.busy": "2025-06-25T02:14:39.912865Z",
     "iopub.status.idle": "2025-06-25T02:14:39.922178Z",
     "shell.execute_reply": "2025-06-25T02:14:39.921416Z"
    },
    "papermill": {
     "duration": 0.02397,
     "end_time": "2025-06-25T02:14:39.923559",
     "exception": false,
     "start_time": "2025-06-25T02:14:39.899589",
     "status": "completed"
    },
    "tags": []
   },
   "outputs": [],
   "source": [
    "# We start by removing the variables that we will not use\n",
    "\n",
    "test_new = df_test.drop(columns=[\"id\"])"
   ]
  },
  {
   "cell_type": "code",
   "execution_count": 41,
   "id": "050660ae",
   "metadata": {
    "execution": {
     "iopub.execute_input": "2025-06-25T02:14:39.949597Z",
     "iopub.status.busy": "2025-06-25T02:14:39.949282Z",
     "iopub.status.idle": "2025-06-25T02:14:40.218614Z",
     "shell.execute_reply": "2025-06-25T02:14:40.217955Z"
    },
    "papermill": {
     "duration": 0.284035,
     "end_time": "2025-06-25T02:14:40.220145",
     "exception": false,
     "start_time": "2025-06-25T02:14:39.936110",
     "status": "completed"
    },
    "tags": []
   },
   "outputs": [],
   "source": [
    "# We encode categorical variables\n",
    "\n",
    "test_cat_cols = test_new[[\"Soil Type\", \"Crop Type\"]]\n",
    "test_rest_cols = test_new.drop(columns=[\"Soil Type\", \"Crop Type\"])\n",
    "test_cat_enc = encoder.fit_transform(test_cat_cols)\n",
    "test_encoded = pd.concat([test_rest_cols, test_cat_enc], axis=1)"
   ]
  },
  {
   "cell_type": "code",
   "execution_count": 42,
   "id": "bbc8e53b",
   "metadata": {
    "execution": {
     "iopub.execute_input": "2025-06-25T02:14:40.246158Z",
     "iopub.status.busy": "2025-06-25T02:14:40.245860Z",
     "iopub.status.idle": "2025-06-25T02:14:40.280127Z",
     "shell.execute_reply": "2025-06-25T02:14:40.279157Z"
    },
    "papermill": {
     "duration": 0.04907,
     "end_time": "2025-06-25T02:14:40.281691",
     "exception": false,
     "start_time": "2025-06-25T02:14:40.232621",
     "status": "completed"
    },
    "tags": []
   },
   "outputs": [
    {
     "name": "stdout",
     "output_type": "stream",
     "text": [
      "<class 'pandas.core.frame.DataFrame'>\n",
      "RangeIndex: 250000 entries, 0 to 249999\n",
      "Data columns (total 22 columns):\n",
      " #   Column                 Non-Null Count   Dtype  \n",
      "---  ------                 --------------   -----  \n",
      " 0   Temparature            250000 non-null  int64  \n",
      " 1   Humidity               250000 non-null  int64  \n",
      " 2   Moisture               250000 non-null  int64  \n",
      " 3   Nitrogen               250000 non-null  int64  \n",
      " 4   Potassium              250000 non-null  int64  \n",
      " 5   Phosphorous            250000 non-null  int64  \n",
      " 6   Soil Type_Black        250000 non-null  float64\n",
      " 7   Soil Type_Clayey       250000 non-null  float64\n",
      " 8   Soil Type_Loamy        250000 non-null  float64\n",
      " 9   Soil Type_Red          250000 non-null  float64\n",
      " 10  Soil Type_Sandy        250000 non-null  float64\n",
      " 11  Crop Type_Barley       250000 non-null  float64\n",
      " 12  Crop Type_Cotton       250000 non-null  float64\n",
      " 13  Crop Type_Ground Nuts  250000 non-null  float64\n",
      " 14  Crop Type_Maize        250000 non-null  float64\n",
      " 15  Crop Type_Millets      250000 non-null  float64\n",
      " 16  Crop Type_Oil seeds    250000 non-null  float64\n",
      " 17  Crop Type_Paddy        250000 non-null  float64\n",
      " 18  Crop Type_Pulses       250000 non-null  float64\n",
      " 19  Crop Type_Sugarcane    250000 non-null  float64\n",
      " 20  Crop Type_Tobacco      250000 non-null  float64\n",
      " 21  Crop Type_Wheat        250000 non-null  float64\n",
      "dtypes: float64(16), int64(6)\n",
      "memory usage: 42.0 MB\n"
     ]
    }
   ],
   "source": [
    "test_encoded.info()"
   ]
  },
  {
   "cell_type": "code",
   "execution_count": 43,
   "id": "b3ada11d",
   "metadata": {
    "execution": {
     "iopub.execute_input": "2025-06-25T02:14:40.308013Z",
     "iopub.status.busy": "2025-06-25T02:14:40.307671Z",
     "iopub.status.idle": "2025-06-25T02:14:40.363677Z",
     "shell.execute_reply": "2025-06-25T02:14:40.362985Z"
    },
    "papermill": {
     "duration": 0.071138,
     "end_time": "2025-06-25T02:14:40.365333",
     "exception": false,
     "start_time": "2025-06-25T02:14:40.294195",
     "status": "completed"
    },
    "tags": []
   },
   "outputs": [],
   "source": [
    "# Numerical variables to scale\n",
    "\n",
    "test_numeric = test_encoded[[\n",
    "    \"Temparature\",\n",
    "    \"Humidity\",\n",
    "    \"Moisture\",\n",
    "    \"Nitrogen\",\n",
    "    \"Potassium\",\n",
    "    \"Phosphorous\"\n",
    "]]\n",
    "test_scale_num = scaler.transform(test_numeric)\n",
    "test_rest = test_encoded.drop(columns=[\n",
    "    \"Temparature\",\n",
    "    \"Humidity\",\n",
    "    \"Moisture\",\n",
    "    \"Nitrogen\",\n",
    "    \"Potassium\",\n",
    "    \"Phosphorous\"\n",
    "])\n",
    "test_end = pd.concat([test_scale_num, test_rest], axis=1)"
   ]
  },
  {
   "cell_type": "code",
   "execution_count": 44,
   "id": "6257397d",
   "metadata": {
    "execution": {
     "iopub.execute_input": "2025-06-25T02:14:40.391469Z",
     "iopub.status.busy": "2025-06-25T02:14:40.391191Z",
     "iopub.status.idle": "2025-06-25T02:14:40.689122Z",
     "shell.execute_reply": "2025-06-25T02:14:40.688266Z"
    },
    "papermill": {
     "duration": 0.312461,
     "end_time": "2025-06-25T02:14:40.690431",
     "exception": false,
     "start_time": "2025-06-25T02:14:40.377970",
     "status": "completed"
    },
    "tags": []
   },
   "outputs": [
    {
     "data": {
      "text/html": [
       "<div>\n",
       "<style scoped>\n",
       "    .dataframe tbody tr th:only-of-type {\n",
       "        vertical-align: middle;\n",
       "    }\n",
       "\n",
       "    .dataframe tbody tr th {\n",
       "        vertical-align: top;\n",
       "    }\n",
       "\n",
       "    .dataframe thead th {\n",
       "        text-align: right;\n",
       "    }\n",
       "</style>\n",
       "<table border=\"1\" class=\"dataframe\">\n",
       "  <thead>\n",
       "    <tr style=\"text-align: right;\">\n",
       "      <th></th>\n",
       "      <th>count</th>\n",
       "      <th>mean</th>\n",
       "      <th>std</th>\n",
       "      <th>min</th>\n",
       "      <th>25%</th>\n",
       "      <th>50%</th>\n",
       "      <th>75%</th>\n",
       "      <th>max</th>\n",
       "    </tr>\n",
       "  </thead>\n",
       "  <tbody>\n",
       "    <tr>\n",
       "      <th>Temparature</th>\n",
       "      <td>250000.0</td>\n",
       "      <td>-0.002960</td>\n",
       "      <td>0.999633</td>\n",
       "      <td>-1.615563</td>\n",
       "      <td>-0.870328</td>\n",
       "      <td>-0.125092</td>\n",
       "      <td>0.868556</td>\n",
       "      <td>1.613792</td>\n",
       "    </tr>\n",
       "    <tr>\n",
       "      <th>Humidity</th>\n",
       "      <td>250000.0</td>\n",
       "      <td>0.000934</td>\n",
       "      <td>0.998297</td>\n",
       "      <td>-1.660563</td>\n",
       "      <td>-0.908422</td>\n",
       "      <td>-0.005853</td>\n",
       "      <td>0.896716</td>\n",
       "      <td>1.648856</td>\n",
       "    </tr>\n",
       "    <tr>\n",
       "      <th>Moisture</th>\n",
       "      <td>250000.0</td>\n",
       "      <td>0.000534</td>\n",
       "      <td>0.999880</td>\n",
       "      <td>-1.711306</td>\n",
       "      <td>-0.863459</td>\n",
       "      <td>-0.015613</td>\n",
       "      <td>0.832234</td>\n",
       "      <td>1.680080</td>\n",
       "    </tr>\n",
       "    <tr>\n",
       "      <th>Nitrogen</th>\n",
       "      <td>250000.0</td>\n",
       "      <td>0.004084</td>\n",
       "      <td>0.999986</td>\n",
       "      <td>-1.702354</td>\n",
       "      <td>-0.899938</td>\n",
       "      <td>-0.008364</td>\n",
       "      <td>0.883210</td>\n",
       "      <td>1.685627</td>\n",
       "    </tr>\n",
       "    <tr>\n",
       "      <th>Potassium</th>\n",
       "      <td>250000.0</td>\n",
       "      <td>0.001642</td>\n",
       "      <td>1.000215</td>\n",
       "      <td>-1.643934</td>\n",
       "      <td>-0.950166</td>\n",
       "      <td>0.090485</td>\n",
       "      <td>0.784253</td>\n",
       "      <td>1.651463</td>\n",
       "    </tr>\n",
       "    <tr>\n",
       "      <th>Phosphorous</th>\n",
       "      <td>250000.0</td>\n",
       "      <td>0.003955</td>\n",
       "      <td>1.002758</td>\n",
       "      <td>-1.706773</td>\n",
       "      <td>-0.896848</td>\n",
       "      <td>-0.005931</td>\n",
       "      <td>0.884987</td>\n",
       "      <td>1.694912</td>\n",
       "    </tr>\n",
       "    <tr>\n",
       "      <th>Soil Type_Black</th>\n",
       "      <td>250000.0</td>\n",
       "      <td>0.200588</td>\n",
       "      <td>0.400441</td>\n",
       "      <td>0.000000</td>\n",
       "      <td>0.000000</td>\n",
       "      <td>0.000000</td>\n",
       "      <td>0.000000</td>\n",
       "      <td>1.000000</td>\n",
       "    </tr>\n",
       "    <tr>\n",
       "      <th>Soil Type_Clayey</th>\n",
       "      <td>250000.0</td>\n",
       "      <td>0.199168</td>\n",
       "      <td>0.399375</td>\n",
       "      <td>0.000000</td>\n",
       "      <td>0.000000</td>\n",
       "      <td>0.000000</td>\n",
       "      <td>0.000000</td>\n",
       "      <td>1.000000</td>\n",
       "    </tr>\n",
       "    <tr>\n",
       "      <th>Soil Type_Loamy</th>\n",
       "      <td>250000.0</td>\n",
       "      <td>0.193516</td>\n",
       "      <td>0.395055</td>\n",
       "      <td>0.000000</td>\n",
       "      <td>0.000000</td>\n",
       "      <td>0.000000</td>\n",
       "      <td>0.000000</td>\n",
       "      <td>1.000000</td>\n",
       "    </tr>\n",
       "    <tr>\n",
       "      <th>Soil Type_Red</th>\n",
       "      <td>250000.0</td>\n",
       "      <td>0.197436</td>\n",
       "      <td>0.398065</td>\n",
       "      <td>0.000000</td>\n",
       "      <td>0.000000</td>\n",
       "      <td>0.000000</td>\n",
       "      <td>0.000000</td>\n",
       "      <td>1.000000</td>\n",
       "    </tr>\n",
       "    <tr>\n",
       "      <th>Soil Type_Sandy</th>\n",
       "      <td>250000.0</td>\n",
       "      <td>0.209292</td>\n",
       "      <td>0.406804</td>\n",
       "      <td>0.000000</td>\n",
       "      <td>0.000000</td>\n",
       "      <td>0.000000</td>\n",
       "      <td>0.000000</td>\n",
       "      <td>1.000000</td>\n",
       "    </tr>\n",
       "    <tr>\n",
       "      <th>Crop Type_Barley</th>\n",
       "      <td>250000.0</td>\n",
       "      <td>0.086864</td>\n",
       "      <td>0.281636</td>\n",
       "      <td>0.000000</td>\n",
       "      <td>0.000000</td>\n",
       "      <td>0.000000</td>\n",
       "      <td>0.000000</td>\n",
       "      <td>1.000000</td>\n",
       "    </tr>\n",
       "    <tr>\n",
       "      <th>Crop Type_Cotton</th>\n",
       "      <td>250000.0</td>\n",
       "      <td>0.092364</td>\n",
       "      <td>0.289540</td>\n",
       "      <td>0.000000</td>\n",
       "      <td>0.000000</td>\n",
       "      <td>0.000000</td>\n",
       "      <td>0.000000</td>\n",
       "      <td>1.000000</td>\n",
       "    </tr>\n",
       "    <tr>\n",
       "      <th>Crop Type_Ground Nuts</th>\n",
       "      <td>250000.0</td>\n",
       "      <td>0.079728</td>\n",
       "      <td>0.270872</td>\n",
       "      <td>0.000000</td>\n",
       "      <td>0.000000</td>\n",
       "      <td>0.000000</td>\n",
       "      <td>0.000000</td>\n",
       "      <td>1.000000</td>\n",
       "    </tr>\n",
       "    <tr>\n",
       "      <th>Crop Type_Maize</th>\n",
       "      <td>250000.0</td>\n",
       "      <td>0.083612</td>\n",
       "      <td>0.276806</td>\n",
       "      <td>0.000000</td>\n",
       "      <td>0.000000</td>\n",
       "      <td>0.000000</td>\n",
       "      <td>0.000000</td>\n",
       "      <td>1.000000</td>\n",
       "    </tr>\n",
       "    <tr>\n",
       "      <th>Crop Type_Millets</th>\n",
       "      <td>250000.0</td>\n",
       "      <td>0.087556</td>\n",
       "      <td>0.282649</td>\n",
       "      <td>0.000000</td>\n",
       "      <td>0.000000</td>\n",
       "      <td>0.000000</td>\n",
       "      <td>0.000000</td>\n",
       "      <td>1.000000</td>\n",
       "    </tr>\n",
       "    <tr>\n",
       "      <th>Crop Type_Oil seeds</th>\n",
       "      <td>250000.0</td>\n",
       "      <td>0.086108</td>\n",
       "      <td>0.280524</td>\n",
       "      <td>0.000000</td>\n",
       "      <td>0.000000</td>\n",
       "      <td>0.000000</td>\n",
       "      <td>0.000000</td>\n",
       "      <td>1.000000</td>\n",
       "    </tr>\n",
       "    <tr>\n",
       "      <th>Crop Type_Paddy</th>\n",
       "      <td>250000.0</td>\n",
       "      <td>0.113328</td>\n",
       "      <td>0.316994</td>\n",
       "      <td>0.000000</td>\n",
       "      <td>0.000000</td>\n",
       "      <td>0.000000</td>\n",
       "      <td>0.000000</td>\n",
       "      <td>1.000000</td>\n",
       "    </tr>\n",
       "    <tr>\n",
       "      <th>Crop Type_Pulses</th>\n",
       "      <td>250000.0</td>\n",
       "      <td>0.104884</td>\n",
       "      <td>0.306405</td>\n",
       "      <td>0.000000</td>\n",
       "      <td>0.000000</td>\n",
       "      <td>0.000000</td>\n",
       "      <td>0.000000</td>\n",
       "      <td>1.000000</td>\n",
       "    </tr>\n",
       "    <tr>\n",
       "      <th>Crop Type_Sugarcane</th>\n",
       "      <td>250000.0</td>\n",
       "      <td>0.086268</td>\n",
       "      <td>0.280760</td>\n",
       "      <td>0.000000</td>\n",
       "      <td>0.000000</td>\n",
       "      <td>0.000000</td>\n",
       "      <td>0.000000</td>\n",
       "      <td>1.000000</td>\n",
       "    </tr>\n",
       "    <tr>\n",
       "      <th>Crop Type_Tobacco</th>\n",
       "      <td>250000.0</td>\n",
       "      <td>0.090912</td>\n",
       "      <td>0.287485</td>\n",
       "      <td>0.000000</td>\n",
       "      <td>0.000000</td>\n",
       "      <td>0.000000</td>\n",
       "      <td>0.000000</td>\n",
       "      <td>1.000000</td>\n",
       "    </tr>\n",
       "    <tr>\n",
       "      <th>Crop Type_Wheat</th>\n",
       "      <td>250000.0</td>\n",
       "      <td>0.088376</td>\n",
       "      <td>0.283842</td>\n",
       "      <td>0.000000</td>\n",
       "      <td>0.000000</td>\n",
       "      <td>0.000000</td>\n",
       "      <td>0.000000</td>\n",
       "      <td>1.000000</td>\n",
       "    </tr>\n",
       "  </tbody>\n",
       "</table>\n",
       "</div>"
      ],
      "text/plain": [
       "                          count      mean       std       min       25%  \\\n",
       "Temparature            250000.0 -0.002960  0.999633 -1.615563 -0.870328   \n",
       "Humidity               250000.0  0.000934  0.998297 -1.660563 -0.908422   \n",
       "Moisture               250000.0  0.000534  0.999880 -1.711306 -0.863459   \n",
       "Nitrogen               250000.0  0.004084  0.999986 -1.702354 -0.899938   \n",
       "Potassium              250000.0  0.001642  1.000215 -1.643934 -0.950166   \n",
       "Phosphorous            250000.0  0.003955  1.002758 -1.706773 -0.896848   \n",
       "Soil Type_Black        250000.0  0.200588  0.400441  0.000000  0.000000   \n",
       "Soil Type_Clayey       250000.0  0.199168  0.399375  0.000000  0.000000   \n",
       "Soil Type_Loamy        250000.0  0.193516  0.395055  0.000000  0.000000   \n",
       "Soil Type_Red          250000.0  0.197436  0.398065  0.000000  0.000000   \n",
       "Soil Type_Sandy        250000.0  0.209292  0.406804  0.000000  0.000000   \n",
       "Crop Type_Barley       250000.0  0.086864  0.281636  0.000000  0.000000   \n",
       "Crop Type_Cotton       250000.0  0.092364  0.289540  0.000000  0.000000   \n",
       "Crop Type_Ground Nuts  250000.0  0.079728  0.270872  0.000000  0.000000   \n",
       "Crop Type_Maize        250000.0  0.083612  0.276806  0.000000  0.000000   \n",
       "Crop Type_Millets      250000.0  0.087556  0.282649  0.000000  0.000000   \n",
       "Crop Type_Oil seeds    250000.0  0.086108  0.280524  0.000000  0.000000   \n",
       "Crop Type_Paddy        250000.0  0.113328  0.316994  0.000000  0.000000   \n",
       "Crop Type_Pulses       250000.0  0.104884  0.306405  0.000000  0.000000   \n",
       "Crop Type_Sugarcane    250000.0  0.086268  0.280760  0.000000  0.000000   \n",
       "Crop Type_Tobacco      250000.0  0.090912  0.287485  0.000000  0.000000   \n",
       "Crop Type_Wheat        250000.0  0.088376  0.283842  0.000000  0.000000   \n",
       "\n",
       "                            50%       75%       max  \n",
       "Temparature           -0.125092  0.868556  1.613792  \n",
       "Humidity              -0.005853  0.896716  1.648856  \n",
       "Moisture              -0.015613  0.832234  1.680080  \n",
       "Nitrogen              -0.008364  0.883210  1.685627  \n",
       "Potassium              0.090485  0.784253  1.651463  \n",
       "Phosphorous           -0.005931  0.884987  1.694912  \n",
       "Soil Type_Black        0.000000  0.000000  1.000000  \n",
       "Soil Type_Clayey       0.000000  0.000000  1.000000  \n",
       "Soil Type_Loamy        0.000000  0.000000  1.000000  \n",
       "Soil Type_Red          0.000000  0.000000  1.000000  \n",
       "Soil Type_Sandy        0.000000  0.000000  1.000000  \n",
       "Crop Type_Barley       0.000000  0.000000  1.000000  \n",
       "Crop Type_Cotton       0.000000  0.000000  1.000000  \n",
       "Crop Type_Ground Nuts  0.000000  0.000000  1.000000  \n",
       "Crop Type_Maize        0.000000  0.000000  1.000000  \n",
       "Crop Type_Millets      0.000000  0.000000  1.000000  \n",
       "Crop Type_Oil seeds    0.000000  0.000000  1.000000  \n",
       "Crop Type_Paddy        0.000000  0.000000  1.000000  \n",
       "Crop Type_Pulses       0.000000  0.000000  1.000000  \n",
       "Crop Type_Sugarcane    0.000000  0.000000  1.000000  \n",
       "Crop Type_Tobacco      0.000000  0.000000  1.000000  \n",
       "Crop Type_Wheat        0.000000  0.000000  1.000000  "
      ]
     },
     "execution_count": 44,
     "metadata": {},
     "output_type": "execute_result"
    }
   ],
   "source": [
    "test_end.describe().T"
   ]
  },
  {
   "cell_type": "code",
   "execution_count": 45,
   "id": "a63e562a",
   "metadata": {
    "execution": {
     "iopub.execute_input": "2025-06-25T02:14:40.717519Z",
     "iopub.status.busy": "2025-06-25T02:14:40.716911Z",
     "iopub.status.idle": "2025-06-25T02:14:40.720424Z",
     "shell.execute_reply": "2025-06-25T02:14:40.719770Z"
    },
    "papermill": {
     "duration": 0.018169,
     "end_time": "2025-06-25T02:14:40.721602",
     "exception": false,
     "start_time": "2025-06-25T02:14:40.703433",
     "status": "completed"
    },
    "tags": []
   },
   "outputs": [],
   "source": [
    "# We remove the variables that we will not use\n",
    "\n",
    "#test_end_new = test_end.drop(columns=[])"
   ]
  },
  {
   "cell_type": "code",
   "execution_count": 46,
   "id": "9f11002b",
   "metadata": {
    "execution": {
     "iopub.execute_input": "2025-06-25T02:14:40.747713Z",
     "iopub.status.busy": "2025-06-25T02:14:40.747401Z",
     "iopub.status.idle": "2025-06-25T02:14:40.781582Z",
     "shell.execute_reply": "2025-06-25T02:14:40.780558Z"
    },
    "papermill": {
     "duration": 0.048724,
     "end_time": "2025-06-25T02:14:40.782998",
     "exception": false,
     "start_time": "2025-06-25T02:14:40.734274",
     "status": "completed"
    },
    "tags": []
   },
   "outputs": [
    {
     "name": "stdout",
     "output_type": "stream",
     "text": [
      "<class 'pandas.core.frame.DataFrame'>\n",
      "RangeIndex: 250000 entries, 0 to 249999\n",
      "Data columns (total 22 columns):\n",
      " #   Column                 Non-Null Count   Dtype  \n",
      "---  ------                 --------------   -----  \n",
      " 0   Temparature            250000 non-null  float64\n",
      " 1   Humidity               250000 non-null  float64\n",
      " 2   Moisture               250000 non-null  float64\n",
      " 3   Nitrogen               250000 non-null  float64\n",
      " 4   Potassium              250000 non-null  float64\n",
      " 5   Phosphorous            250000 non-null  float64\n",
      " 6   Soil Type_Black        250000 non-null  float64\n",
      " 7   Soil Type_Clayey       250000 non-null  float64\n",
      " 8   Soil Type_Loamy        250000 non-null  float64\n",
      " 9   Soil Type_Red          250000 non-null  float64\n",
      " 10  Soil Type_Sandy        250000 non-null  float64\n",
      " 11  Crop Type_Barley       250000 non-null  float64\n",
      " 12  Crop Type_Cotton       250000 non-null  float64\n",
      " 13  Crop Type_Ground Nuts  250000 non-null  float64\n",
      " 14  Crop Type_Maize        250000 non-null  float64\n",
      " 15  Crop Type_Millets      250000 non-null  float64\n",
      " 16  Crop Type_Oil seeds    250000 non-null  float64\n",
      " 17  Crop Type_Paddy        250000 non-null  float64\n",
      " 18  Crop Type_Pulses       250000 non-null  float64\n",
      " 19  Crop Type_Sugarcane    250000 non-null  float64\n",
      " 20  Crop Type_Tobacco      250000 non-null  float64\n",
      " 21  Crop Type_Wheat        250000 non-null  float64\n",
      "dtypes: float64(22)\n",
      "memory usage: 42.0 MB\n"
     ]
    }
   ],
   "source": [
    "test_end.info()"
   ]
  },
  {
   "cell_type": "markdown",
   "id": "e9ab11ac",
   "metadata": {
    "papermill": {
     "duration": 0.012614,
     "end_time": "2025-06-25T02:14:40.808375",
     "exception": false,
     "start_time": "2025-06-25T02:14:40.795761",
     "status": "completed"
    },
    "tags": []
   },
   "source": [
    "## Apply the Model & Submission File"
   ]
  },
  {
   "cell_type": "code",
   "execution_count": 47,
   "id": "c158169d",
   "metadata": {
    "execution": {
     "iopub.execute_input": "2025-06-25T02:14:40.834842Z",
     "iopub.status.busy": "2025-06-25T02:14:40.834495Z",
     "iopub.status.idle": "2025-06-25T02:15:05.923722Z",
     "shell.execute_reply": "2025-06-25T02:15:05.922863Z"
    },
    "papermill": {
     "duration": 25.104439,
     "end_time": "2025-06-25T02:15:05.925431",
     "exception": false,
     "start_time": "2025-06-25T02:14:40.820992",
     "status": "completed"
    },
    "tags": []
   },
   "outputs": [],
   "source": [
    "# We apply the trained model\n",
    "\n",
    "test_pred_prob = final_model.predict_proba(test_end)\n",
    "test_top_3 = np.argsort(-test_pred_prob, axis=1)[:, :3]\n",
    "\n",
    "top_3_fertilizer_names = []\n",
    "for row_indices in test_top_3:\n",
    "    valid_indices = [idx for idx in row_indices if idx < len(le.classes_)]\n",
    "    names = le.inverse_transform(valid_indices)\n",
    "    top_3_fertilizer_names.append(names)\n",
    "\n",
    "formatted_predictions = [\" \".join(names) for names in top_3_fertilizer_names]"
   ]
  },
  {
   "cell_type": "code",
   "execution_count": 48,
   "id": "1c6adac8",
   "metadata": {
    "execution": {
     "iopub.execute_input": "2025-06-25T02:15:05.953054Z",
     "iopub.status.busy": "2025-06-25T02:15:05.952385Z",
     "iopub.status.idle": "2025-06-25T02:15:05.956985Z",
     "shell.execute_reply": "2025-06-25T02:15:05.956120Z"
    },
    "papermill": {
     "duration": 0.019644,
     "end_time": "2025-06-25T02:15:05.958215",
     "exception": false,
     "start_time": "2025-06-25T02:15:05.938571",
     "status": "completed"
    },
    "tags": []
   },
   "outputs": [
    {
     "name": "stdout",
     "output_type": "stream",
     "text": [
      "Total predictions:  250000 \n",
      "\n"
     ]
    }
   ],
   "source": [
    "# We review the result\n",
    "\n",
    "print(\"Total predictions: \", len(formatted_predictions), \"\\n\")"
   ]
  },
  {
   "cell_type": "code",
   "execution_count": 49,
   "id": "666f29b4",
   "metadata": {
    "execution": {
     "iopub.execute_input": "2025-06-25T02:15:05.985426Z",
     "iopub.status.busy": "2025-06-25T02:15:05.985146Z",
     "iopub.status.idle": "2025-06-25T02:15:06.014900Z",
     "shell.execute_reply": "2025-06-25T02:15:06.014069Z"
    },
    "papermill": {
     "duration": 0.045163,
     "end_time": "2025-06-25T02:15:06.016476",
     "exception": false,
     "start_time": "2025-06-25T02:15:05.971313",
     "status": "completed"
    },
    "tags": []
   },
   "outputs": [
    {
     "data": {
      "text/html": [
       "<div>\n",
       "<style scoped>\n",
       "    .dataframe tbody tr th:only-of-type {\n",
       "        vertical-align: middle;\n",
       "    }\n",
       "\n",
       "    .dataframe tbody tr th {\n",
       "        vertical-align: top;\n",
       "    }\n",
       "\n",
       "    .dataframe thead th {\n",
       "        text-align: right;\n",
       "    }\n",
       "</style>\n",
       "<table border=\"1\" class=\"dataframe\">\n",
       "  <thead>\n",
       "    <tr style=\"text-align: right;\">\n",
       "      <th></th>\n",
       "      <th>id</th>\n",
       "      <th>Fertilizer Name</th>\n",
       "    </tr>\n",
       "  </thead>\n",
       "  <tbody>\n",
       "    <tr>\n",
       "      <th>0</th>\n",
       "      <td>750000</td>\n",
       "      <td>20-20 10-26-26 DAP</td>\n",
       "    </tr>\n",
       "    <tr>\n",
       "      <th>1</th>\n",
       "      <td>750001</td>\n",
       "      <td>14-35-14 20-20 10-26-26</td>\n",
       "    </tr>\n",
       "    <tr>\n",
       "      <th>2</th>\n",
       "      <td>750002</td>\n",
       "      <td>17-17-17 20-20 28-28</td>\n",
       "    </tr>\n",
       "    <tr>\n",
       "      <th>3</th>\n",
       "      <td>750003</td>\n",
       "      <td>14-35-14 28-28 20-20</td>\n",
       "    </tr>\n",
       "    <tr>\n",
       "      <th>4</th>\n",
       "      <td>750004</td>\n",
       "      <td>17-17-17 14-35-14 20-20</td>\n",
       "    </tr>\n",
       "  </tbody>\n",
       "</table>\n",
       "</div>"
      ],
      "text/plain": [
       "       id          Fertilizer Name\n",
       "0  750000       20-20 10-26-26 DAP\n",
       "1  750001  14-35-14 20-20 10-26-26\n",
       "2  750002     17-17-17 20-20 28-28\n",
       "3  750003     14-35-14 28-28 20-20\n",
       "4  750004  17-17-17 14-35-14 20-20"
      ]
     },
     "execution_count": 49,
     "metadata": {},
     "output_type": "execute_result"
    }
   ],
   "source": [
    "# We create the dataframe\n",
    "\n",
    "fertilizer_submission = pd.DataFrame({\n",
    "    \"id\" : df_test[\"id\"], \n",
    "    \"Fertilizer Name\" : formatted_predictions\n",
    "})\n",
    "\n",
    "fertilizer_submission.head()"
   ]
  },
  {
   "cell_type": "code",
   "execution_count": 50,
   "id": "2247e22b",
   "metadata": {
    "execution": {
     "iopub.execute_input": "2025-06-25T02:15:06.044390Z",
     "iopub.status.busy": "2025-06-25T02:15:06.044093Z",
     "iopub.status.idle": "2025-06-25T02:15:06.050760Z",
     "shell.execute_reply": "2025-06-25T02:15:06.049847Z"
    },
    "papermill": {
     "duration": 0.022161,
     "end_time": "2025-06-25T02:15:06.052104",
     "exception": false,
     "start_time": "2025-06-25T02:15:06.029943",
     "status": "completed"
    },
    "tags": []
   },
   "outputs": [
    {
     "name": "stdout",
     "output_type": "stream",
     "text": [
      "Shape Sample Submission: (250000, 2) \n",
      "Shape Fertilizer Submission: (250000, 2)\n",
      "\n",
      "        id         Fertilizer Name\n",
      "0  750000  14-35-14 10-26-26 Urea\n",
      "1  750001  14-35-14 10-26-26 Urea\n",
      "2  750002  14-35-14 10-26-26 Urea\n",
      "3  750003  14-35-14 10-26-26 Urea\n",
      "4  750004  14-35-14 10-26-26 Urea\n"
     ]
    }
   ],
   "source": [
    "# We compare the results with the sample\n",
    "\n",
    "print(\n",
    "    f\"Shape Sample Submission: {fertilizer_sample.shape}\",\n",
    "    f\"\\nShape Fertilizer Submission: {fertilizer_submission.shape}\"\n",
    ")\n",
    "print(\"\\n\", fertilizer_sample.head())"
   ]
  },
  {
   "cell_type": "code",
   "execution_count": 51,
   "id": "27be89e1",
   "metadata": {
    "execution": {
     "iopub.execute_input": "2025-06-25T02:15:06.079823Z",
     "iopub.status.busy": "2025-06-25T02:15:06.079341Z",
     "iopub.status.idle": "2025-06-25T02:15:06.468383Z",
     "shell.execute_reply": "2025-06-25T02:15:06.467483Z"
    },
    "papermill": {
     "duration": 0.404899,
     "end_time": "2025-06-25T02:15:06.470209",
     "exception": false,
     "start_time": "2025-06-25T02:15:06.065310",
     "status": "completed"
    },
    "tags": []
   },
   "outputs": [],
   "source": [
    "# We convert the dataframe to a csv file\n",
    "\n",
    "fertilizer_submission.to_csv(\"submission.csv\", index=False)"
   ]
  }
 ],
 "metadata": {
  "kaggle": {
   "accelerator": "none",
   "dataSources": [
    {
     "databundleVersionId": 12184666,
     "sourceId": 91717,
     "sourceType": "competition"
    }
   ],
   "dockerImageVersionId": 31040,
   "isGpuEnabled": false,
   "isInternetEnabled": true,
   "language": "python",
   "sourceType": "notebook"
  },
  "kernelspec": {
   "display_name": "Python 3",
   "language": "python",
   "name": "python3"
  },
  "language_info": {
   "codemirror_mode": {
    "name": "ipython",
    "version": 3
   },
   "file_extension": ".py",
   "mimetype": "text/x-python",
   "name": "python",
   "nbconvert_exporter": "python",
   "pygments_lexer": "ipython3",
   "version": "3.11.11"
  },
  "papermill": {
   "default_parameters": {},
   "duration": 93.103314,
   "end_time": "2025-06-25T02:15:09.103421",
   "environment_variables": {},
   "exception": null,
   "input_path": "__notebook__.ipynb",
   "output_path": "__notebook__.ipynb",
   "parameters": {},
   "start_time": "2025-06-25T02:13:36.000107",
   "version": "2.6.0"
  }
 },
 "nbformat": 4,
 "nbformat_minor": 5
}

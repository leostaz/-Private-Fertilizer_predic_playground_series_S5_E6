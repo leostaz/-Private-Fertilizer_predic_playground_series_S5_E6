{
 "cells": [
  {
   "cell_type": "markdown",
   "id": "1ee8cdaf",
   "metadata": {
    "papermill": {
     "duration": 0.012246,
     "end_time": "2025-06-26T01:05:58.171481",
     "exception": false,
     "start_time": "2025-06-26T01:05:58.159235",
     "status": "completed"
    },
    "tags": []
   },
   "source": [
    "# Predicting Optimal Fertilizers"
   ]
  },
  {
   "cell_type": "code",
   "execution_count": 1,
   "id": "d089c50c",
   "metadata": {
    "_cell_guid": "b1076dfc-b9ad-4769-8c92-a6c4dae69d19",
    "_uuid": "8f2839f25d086af736a60e9eeb907d3b93b6e0e5",
    "execution": {
     "iopub.execute_input": "2025-06-26T01:05:58.193691Z",
     "iopub.status.busy": "2025-06-26T01:05:58.193365Z",
     "iopub.status.idle": "2025-06-26T01:05:58.203062Z",
     "shell.execute_reply": "2025-06-26T01:05:58.202008Z"
    },
    "papermill": {
     "duration": 0.022526,
     "end_time": "2025-06-26T01:05:58.204686",
     "exception": false,
     "start_time": "2025-06-26T01:05:58.182160",
     "status": "completed"
    },
    "tags": []
   },
   "outputs": [
    {
     "name": "stdout",
     "output_type": "stream",
     "text": [
      "/kaggle/input/playground-series-s5e6/sample_submission.csv\n",
      "/kaggle/input/playground-series-s5e6/train.csv\n",
      "/kaggle/input/playground-series-s5e6/test.csv\n"
     ]
    }
   ],
   "source": [
    "import os\n",
    "for dirname, _, filenames in os.walk('/kaggle/input'):\n",
    "    for filename in filenames:\n",
    "        print(os.path.join(dirname, filename))\n",
    "\n",
    "import warnings\n",
    "warnings.filterwarnings(\"ignore\")"
   ]
  },
  {
   "cell_type": "markdown",
   "id": "74d2b9c8",
   "metadata": {
    "papermill": {
     "duration": 0.01022,
     "end_time": "2025-06-26T01:05:58.226029",
     "exception": false,
     "start_time": "2025-06-26T01:05:58.215809",
     "status": "completed"
    },
    "tags": []
   },
   "source": [
    "Private-fertilizer-predic-playground-series-s5-e6 Version 1 notebook Full EDA\n",
    "\n",
    "Public notebook: https://www.kaggle.com/code/les1781/optimal-fertilizer-predict-playground-series-s5-e6"
   ]
  },
  {
   "cell_type": "markdown",
   "id": "00ca93a3",
   "metadata": {
    "papermill": {
     "duration": 0.010169,
     "end_time": "2025-06-26T01:05:58.246609",
     "exception": false,
     "start_time": "2025-06-26T01:05:58.236440",
     "status": "completed"
    },
    "tags": []
   },
   "source": [
    "# Libraries"
   ]
  },
  {
   "cell_type": "code",
   "execution_count": 2,
   "id": "6b1d262e",
   "metadata": {
    "execution": {
     "iopub.execute_input": "2025-06-26T01:05:58.268960Z",
     "iopub.status.busy": "2025-06-26T01:05:58.268318Z",
     "iopub.status.idle": "2025-06-26T01:06:08.745982Z",
     "shell.execute_reply": "2025-06-26T01:06:08.744904Z"
    },
    "papermill": {
     "duration": 10.490834,
     "end_time": "2025-06-26T01:06:08.747863",
     "exception": false,
     "start_time": "2025-06-26T01:05:58.257029",
     "status": "completed"
    },
    "tags": []
   },
   "outputs": [],
   "source": [
    "import numpy as np\n",
    "import pandas as pd\n",
    "import matplotlib as mpl\n",
    "import matplotlib.pyplot as plt\n",
    "import seaborn as sns\n",
    "\n",
    "from sklearn.preprocessing import (\n",
    "    LabelEncoder,    \n",
    "    OneHotEncoder,\n",
    "    StandardScaler\n",
    ")\n",
    "from sklearn.feature_selection import mutual_info_classif\n",
    "from sklearn.model_selection import train_test_split, StratifiedKFold\n",
    "from sklearn.metrics import (\n",
    "    confusion_matrix, \n",
    "    classification_report, \n",
    "    f1_score, \n",
    "    accuracy_score,\n",
    "    make_scorer\n",
    ")\n",
    "from sklearn.linear_model import LogisticRegression\n",
    "from xgboost import XGBClassifier\n",
    "from lightgbm import LGBMClassifier\n",
    "from sklearn.inspection import permutation_importance"
   ]
  },
  {
   "cell_type": "markdown",
   "id": "818e8175",
   "metadata": {
    "papermill": {
     "duration": 0.011077,
     "end_time": "2025-06-26T01:06:08.769982",
     "exception": false,
     "start_time": "2025-06-26T01:06:08.758905",
     "status": "completed"
    },
    "tags": []
   },
   "source": [
    "# Initial analysis"
   ]
  },
  {
   "cell_type": "code",
   "execution_count": 3,
   "id": "074cd9f1",
   "metadata": {
    "execution": {
     "iopub.execute_input": "2025-06-26T01:06:08.793519Z",
     "iopub.status.busy": "2025-06-26T01:06:08.792897Z",
     "iopub.status.idle": "2025-06-26T01:06:09.870705Z",
     "shell.execute_reply": "2025-06-26T01:06:09.869774Z"
    },
    "papermill": {
     "duration": 1.091477,
     "end_time": "2025-06-26T01:06:09.872377",
     "exception": false,
     "start_time": "2025-06-26T01:06:08.780900",
     "status": "completed"
    },
    "tags": []
   },
   "outputs": [],
   "source": [
    "# We load the data\n",
    "\n",
    "fertilizers_train = pd.read_csv(\"/kaggle/input/playground-series-s5e6/train.csv\", index_col=\"id\")"
   ]
  },
  {
   "cell_type": "code",
   "execution_count": 4,
   "id": "b40674f0",
   "metadata": {
    "execution": {
     "iopub.execute_input": "2025-06-26T01:06:09.895242Z",
     "iopub.status.busy": "2025-06-26T01:06:09.894398Z",
     "iopub.status.idle": "2025-06-26T01:06:10.089440Z",
     "shell.execute_reply": "2025-06-26T01:06:10.088498Z"
    },
    "papermill": {
     "duration": 0.207947,
     "end_time": "2025-06-26T01:06:10.091042",
     "exception": false,
     "start_time": "2025-06-26T01:06:09.883095",
     "status": "completed"
    },
    "tags": []
   },
   "outputs": [
    {
     "data": {
      "text/html": [
       "<div>\n",
       "<style scoped>\n",
       "    .dataframe tbody tr th:only-of-type {\n",
       "        vertical-align: middle;\n",
       "    }\n",
       "\n",
       "    .dataframe tbody tr th {\n",
       "        vertical-align: top;\n",
       "    }\n",
       "\n",
       "    .dataframe thead th {\n",
       "        text-align: right;\n",
       "    }\n",
       "</style>\n",
       "<table border=\"1\" class=\"dataframe\">\n",
       "  <thead>\n",
       "    <tr style=\"text-align: right;\">\n",
       "      <th></th>\n",
       "      <th>count</th>\n",
       "      <th>mean</th>\n",
       "      <th>std</th>\n",
       "      <th>min</th>\n",
       "      <th>25%</th>\n",
       "      <th>50%</th>\n",
       "      <th>75%</th>\n",
       "      <th>max</th>\n",
       "    </tr>\n",
       "  </thead>\n",
       "  <tbody>\n",
       "    <tr>\n",
       "      <th>Temparature</th>\n",
       "      <td>750000.0</td>\n",
       "      <td>31.503565</td>\n",
       "      <td>4.025574</td>\n",
       "      <td>25.0</td>\n",
       "      <td>28.0</td>\n",
       "      <td>32.0</td>\n",
       "      <td>35.0</td>\n",
       "      <td>38.0</td>\n",
       "    </tr>\n",
       "    <tr>\n",
       "      <th>Humidity</th>\n",
       "      <td>750000.0</td>\n",
       "      <td>61.038912</td>\n",
       "      <td>6.647695</td>\n",
       "      <td>50.0</td>\n",
       "      <td>55.0</td>\n",
       "      <td>61.0</td>\n",
       "      <td>67.0</td>\n",
       "      <td>72.0</td>\n",
       "    </tr>\n",
       "    <tr>\n",
       "      <th>Moisture</th>\n",
       "      <td>750000.0</td>\n",
       "      <td>45.184147</td>\n",
       "      <td>11.794594</td>\n",
       "      <td>25.0</td>\n",
       "      <td>35.0</td>\n",
       "      <td>45.0</td>\n",
       "      <td>55.0</td>\n",
       "      <td>65.0</td>\n",
       "    </tr>\n",
       "    <tr>\n",
       "      <th>Nitrogen</th>\n",
       "      <td>750000.0</td>\n",
       "      <td>23.093808</td>\n",
       "      <td>11.216125</td>\n",
       "      <td>4.0</td>\n",
       "      <td>13.0</td>\n",
       "      <td>23.0</td>\n",
       "      <td>33.0</td>\n",
       "      <td>42.0</td>\n",
       "    </tr>\n",
       "    <tr>\n",
       "      <th>Potassium</th>\n",
       "      <td>750000.0</td>\n",
       "      <td>9.478296</td>\n",
       "      <td>5.765622</td>\n",
       "      <td>0.0</td>\n",
       "      <td>4.0</td>\n",
       "      <td>9.0</td>\n",
       "      <td>14.0</td>\n",
       "      <td>19.0</td>\n",
       "    </tr>\n",
       "    <tr>\n",
       "      <th>Phosphorous</th>\n",
       "      <td>750000.0</td>\n",
       "      <td>21.073227</td>\n",
       "      <td>12.346831</td>\n",
       "      <td>0.0</td>\n",
       "      <td>10.0</td>\n",
       "      <td>21.0</td>\n",
       "      <td>32.0</td>\n",
       "      <td>42.0</td>\n",
       "    </tr>\n",
       "  </tbody>\n",
       "</table>\n",
       "</div>"
      ],
      "text/plain": [
       "                count       mean        std   min   25%   50%   75%   max\n",
       "Temparature  750000.0  31.503565   4.025574  25.0  28.0  32.0  35.0  38.0\n",
       "Humidity     750000.0  61.038912   6.647695  50.0  55.0  61.0  67.0  72.0\n",
       "Moisture     750000.0  45.184147  11.794594  25.0  35.0  45.0  55.0  65.0\n",
       "Nitrogen     750000.0  23.093808  11.216125   4.0  13.0  23.0  33.0  42.0\n",
       "Potassium    750000.0   9.478296   5.765622   0.0   4.0   9.0  14.0  19.0\n",
       "Phosphorous  750000.0  21.073227  12.346831   0.0  10.0  21.0  32.0  42.0"
      ]
     },
     "execution_count": 4,
     "metadata": {},
     "output_type": "execute_result"
    }
   ],
   "source": [
    "fertilizers_train.describe().T"
   ]
  },
  {
   "cell_type": "code",
   "execution_count": 5,
   "id": "392aa10a",
   "metadata": {
    "execution": {
     "iopub.execute_input": "2025-06-26T01:06:10.113739Z",
     "iopub.status.busy": "2025-06-26T01:06:10.113398Z",
     "iopub.status.idle": "2025-06-26T01:06:10.247398Z",
     "shell.execute_reply": "2025-06-26T01:06:10.246429Z"
    },
    "papermill": {
     "duration": 0.14724,
     "end_time": "2025-06-26T01:06:10.249086",
     "exception": false,
     "start_time": "2025-06-26T01:06:10.101846",
     "status": "completed"
    },
    "tags": []
   },
   "outputs": [
    {
     "name": "stdout",
     "output_type": "stream",
     "text": [
      "<class 'pandas.core.frame.DataFrame'>\n",
      "Index: 750000 entries, 0 to 749999\n",
      "Data columns (total 9 columns):\n",
      " #   Column           Non-Null Count   Dtype \n",
      "---  ------           --------------   ----- \n",
      " 0   Temparature      750000 non-null  int64 \n",
      " 1   Humidity         750000 non-null  int64 \n",
      " 2   Moisture         750000 non-null  int64 \n",
      " 3   Soil Type        750000 non-null  object\n",
      " 4   Crop Type        750000 non-null  object\n",
      " 5   Nitrogen         750000 non-null  int64 \n",
      " 6   Potassium        750000 non-null  int64 \n",
      " 7   Phosphorous      750000 non-null  int64 \n",
      " 8   Fertilizer Name  750000 non-null  object\n",
      "dtypes: int64(6), object(3)\n",
      "memory usage: 57.2+ MB\n"
     ]
    }
   ],
   "source": [
    "fertilizers_train.info()"
   ]
  },
  {
   "cell_type": "markdown",
   "id": "3c32b0b3",
   "metadata": {
    "papermill": {
     "duration": 0.010413,
     "end_time": "2025-06-26T01:06:10.270243",
     "exception": false,
     "start_time": "2025-06-26T01:06:10.259830",
     "status": "completed"
    },
    "tags": []
   },
   "source": [
    "# Data wrangling"
   ]
  },
  {
   "cell_type": "code",
   "execution_count": 6,
   "id": "ac77f0a7",
   "metadata": {
    "execution": {
     "iopub.execute_input": "2025-06-26T01:06:10.293027Z",
     "iopub.status.busy": "2025-06-26T01:06:10.292723Z",
     "iopub.status.idle": "2025-06-26T01:06:10.320596Z",
     "shell.execute_reply": "2025-06-26T01:06:10.319719Z"
    },
    "papermill": {
     "duration": 0.041261,
     "end_time": "2025-06-26T01:06:10.322248",
     "exception": false,
     "start_time": "2025-06-26T01:06:10.280987",
     "status": "completed"
    },
    "tags": []
   },
   "outputs": [],
   "source": [
    "# We make a copy of the original dataset\n",
    "\n",
    "fertilizers_new = fertilizers_train.copy()"
   ]
  },
  {
   "cell_type": "code",
   "execution_count": 7,
   "id": "ae916213",
   "metadata": {
    "execution": {
     "iopub.execute_input": "2025-06-26T01:06:10.344944Z",
     "iopub.status.busy": "2025-06-26T01:06:10.344569Z",
     "iopub.status.idle": "2025-06-26T01:06:10.592746Z",
     "shell.execute_reply": "2025-06-26T01:06:10.591917Z"
    },
    "papermill": {
     "duration": 0.261321,
     "end_time": "2025-06-26T01:06:10.594367",
     "exception": false,
     "start_time": "2025-06-26T01:06:10.333046",
     "status": "completed"
    },
    "tags": []
   },
   "outputs": [
    {
     "data": {
      "text/html": [
       "<div>\n",
       "<style scoped>\n",
       "    .dataframe tbody tr th:only-of-type {\n",
       "        vertical-align: middle;\n",
       "    }\n",
       "\n",
       "    .dataframe tbody tr th {\n",
       "        vertical-align: top;\n",
       "    }\n",
       "\n",
       "    .dataframe thead th {\n",
       "        text-align: right;\n",
       "    }\n",
       "</style>\n",
       "<table border=\"1\" class=\"dataframe\">\n",
       "  <thead>\n",
       "    <tr style=\"text-align: right;\">\n",
       "      <th></th>\n",
       "      <th>Null Data</th>\n",
       "      <th>Percentage</th>\n",
       "    </tr>\n",
       "  </thead>\n",
       "  <tbody>\n",
       "    <tr>\n",
       "      <th>Temparature</th>\n",
       "      <td>0</td>\n",
       "      <td>0.0</td>\n",
       "    </tr>\n",
       "    <tr>\n",
       "      <th>Humidity</th>\n",
       "      <td>0</td>\n",
       "      <td>0.0</td>\n",
       "    </tr>\n",
       "    <tr>\n",
       "      <th>Moisture</th>\n",
       "      <td>0</td>\n",
       "      <td>0.0</td>\n",
       "    </tr>\n",
       "    <tr>\n",
       "      <th>Soil Type</th>\n",
       "      <td>0</td>\n",
       "      <td>0.0</td>\n",
       "    </tr>\n",
       "    <tr>\n",
       "      <th>Crop Type</th>\n",
       "      <td>0</td>\n",
       "      <td>0.0</td>\n",
       "    </tr>\n",
       "    <tr>\n",
       "      <th>Nitrogen</th>\n",
       "      <td>0</td>\n",
       "      <td>0.0</td>\n",
       "    </tr>\n",
       "    <tr>\n",
       "      <th>Potassium</th>\n",
       "      <td>0</td>\n",
       "      <td>0.0</td>\n",
       "    </tr>\n",
       "    <tr>\n",
       "      <th>Phosphorous</th>\n",
       "      <td>0</td>\n",
       "      <td>0.0</td>\n",
       "    </tr>\n",
       "    <tr>\n",
       "      <th>Fertilizer Name</th>\n",
       "      <td>0</td>\n",
       "      <td>0.0</td>\n",
       "    </tr>\n",
       "  </tbody>\n",
       "</table>\n",
       "</div>"
      ],
      "text/plain": [
       "                 Null Data  Percentage\n",
       "Temparature              0         0.0\n",
       "Humidity                 0         0.0\n",
       "Moisture                 0         0.0\n",
       "Soil Type                0         0.0\n",
       "Crop Type                0         0.0\n",
       "Nitrogen                 0         0.0\n",
       "Potassium                0         0.0\n",
       "Phosphorous              0         0.0\n",
       "Fertilizer Name          0         0.0"
      ]
     },
     "execution_count": 7,
     "metadata": {},
     "output_type": "execute_result"
    }
   ],
   "source": [
    "# We confirm that there is no null values\n",
    "\n",
    "null_values = pd.DataFrame(\n",
    "        {f\"Null Data\" : fertilizers_new.isnull().sum(), \n",
    "         \"Percentage\" : (fertilizers_new.isnull().sum()) / (len(fertilizers_new)) * (100)})\n",
    "\n",
    "null_values"
   ]
  },
  {
   "cell_type": "code",
   "execution_count": 8,
   "id": "d93b168e",
   "metadata": {
    "execution": {
     "iopub.execute_input": "2025-06-26T01:06:10.618850Z",
     "iopub.status.busy": "2025-06-26T01:06:10.618215Z",
     "iopub.status.idle": "2025-06-26T01:06:11.170672Z",
     "shell.execute_reply": "2025-06-26T01:06:11.169749Z"
    },
    "papermill": {
     "duration": 0.566851,
     "end_time": "2025-06-26T01:06:11.172221",
     "exception": false,
     "start_time": "2025-06-26T01:06:10.605370",
     "status": "completed"
    },
    "tags": []
   },
   "outputs": [
    {
     "name": "stdout",
     "output_type": "stream",
     "text": [
      "Length: 750000\n",
      "Duplicates: 0\n"
     ]
    }
   ],
   "source": [
    "# We check the duplicate data found\n",
    "\n",
    "print(f\"Length: {len(fertilizers_new.duplicated())}\")\n",
    "print(f\"Duplicates: {fertilizers_new.duplicated().sum()}\")"
   ]
  },
  {
   "cell_type": "code",
   "execution_count": 9,
   "id": "1ffc11ba",
   "metadata": {
    "execution": {
     "iopub.execute_input": "2025-06-26T01:06:11.261094Z",
     "iopub.status.busy": "2025-06-26T01:06:11.260778Z",
     "iopub.status.idle": "2025-06-26T01:06:11.266147Z",
     "shell.execute_reply": "2025-06-26T01:06:11.265377Z"
    },
    "papermill": {
     "duration": 0.083624,
     "end_time": "2025-06-26T01:06:11.267515",
     "exception": false,
     "start_time": "2025-06-26T01:06:11.183891",
     "status": "completed"
    },
    "tags": []
   },
   "outputs": [
    {
     "data": {
      "text/plain": [
       "'\\neval_out = sns.PairGrid(fertilizers_new, palette=sns.light_palette(\"seagreen\"))\\neval_out.map(sns.boxplot)\\neval_out.tick_params(axis=\"both\", labelbottom=False)\\n'"
      ]
     },
     "execution_count": 9,
     "metadata": {},
     "output_type": "execute_result"
    }
   ],
   "source": [
    "'''\n",
    "eval_out = sns.PairGrid(fertilizers_new, palette=sns.light_palette(\"seagreen\"))\n",
    "eval_out.map(sns.boxplot)\n",
    "eval_out.tick_params(axis=\"both\", labelbottom=False)\n",
    "'''"
   ]
  },
  {
   "cell_type": "markdown",
   "id": "4ac43a8d",
   "metadata": {
    "papermill": {
     "duration": 0.01144,
     "end_time": "2025-06-26T01:06:11.290276",
     "exception": false,
     "start_time": "2025-06-26T01:06:11.278836",
     "status": "completed"
    },
    "tags": []
   },
   "source": [
    "# Data Preprocessing"
   ]
  },
  {
   "cell_type": "code",
   "execution_count": 10,
   "id": "4d590d1e",
   "metadata": {
    "execution": {
     "iopub.execute_input": "2025-06-26T01:06:11.314323Z",
     "iopub.status.busy": "2025-06-26T01:06:11.313486Z",
     "iopub.status.idle": "2025-06-26T01:06:11.349836Z",
     "shell.execute_reply": "2025-06-26T01:06:11.348900Z"
    },
    "papermill": {
     "duration": 0.050095,
     "end_time": "2025-06-26T01:06:11.351488",
     "exception": false,
     "start_time": "2025-06-26T01:06:11.301393",
     "status": "completed"
    },
    "tags": []
   },
   "outputs": [],
   "source": [
    "fertilizers_end = fertilizers_new.copy()"
   ]
  },
  {
   "cell_type": "markdown",
   "id": "e8cd1ef4",
   "metadata": {
    "papermill": {
     "duration": 0.011087,
     "end_time": "2025-06-26T01:06:11.373849",
     "exception": false,
     "start_time": "2025-06-26T01:06:11.362762",
     "status": "completed"
    },
    "tags": []
   },
   "source": [
    "## Feature Engineering"
   ]
  },
  {
   "cell_type": "markdown",
   "id": "7527c25a",
   "metadata": {
    "papermill": {
     "duration": 0.0109,
     "end_time": "2025-06-26T01:06:11.395947",
     "exception": false,
     "start_time": "2025-06-26T01:06:11.385047",
     "status": "completed"
    },
    "tags": []
   },
   "source": [
    "First approach with original variables only."
   ]
  },
  {
   "cell_type": "markdown",
   "id": "e398453e",
   "metadata": {
    "papermill": {
     "duration": 0.010911,
     "end_time": "2025-06-26T01:06:11.417929",
     "exception": false,
     "start_time": "2025-06-26T01:06:11.407018",
     "status": "completed"
    },
    "tags": []
   },
   "source": [
    "## Encoding"
   ]
  },
  {
   "cell_type": "code",
   "execution_count": 11,
   "id": "51cc2ec2",
   "metadata": {
    "execution": {
     "iopub.execute_input": "2025-06-26T01:06:11.441824Z",
     "iopub.status.busy": "2025-06-26T01:06:11.441497Z",
     "iopub.status.idle": "2025-06-26T01:06:11.584158Z",
     "shell.execute_reply": "2025-06-26T01:06:11.583143Z"
    },
    "papermill": {
     "duration": 0.156987,
     "end_time": "2025-06-26T01:06:11.585858",
     "exception": false,
     "start_time": "2025-06-26T01:06:11.428871",
     "status": "completed"
    },
    "tags": []
   },
   "outputs": [],
   "source": [
    "# We apply LabelEncoder to the target variable\n",
    "\n",
    "le = LabelEncoder()\n",
    "\n",
    "fertilizers_end[\"Fertilizer Name\"] = le.fit_transform(fertilizers_end[\"Fertilizer Name\"])"
   ]
  },
  {
   "cell_type": "code",
   "execution_count": 12,
   "id": "e7abff81",
   "metadata": {
    "execution": {
     "iopub.execute_input": "2025-06-26T01:06:11.609157Z",
     "iopub.status.busy": "2025-06-26T01:06:11.608820Z",
     "iopub.status.idle": "2025-06-26T01:06:11.612879Z",
     "shell.execute_reply": "2025-06-26T01:06:11.612143Z"
    },
    "papermill": {
     "duration": 0.017133,
     "end_time": "2025-06-26T01:06:11.614115",
     "exception": false,
     "start_time": "2025-06-26T01:06:11.596982",
     "status": "completed"
    },
    "tags": []
   },
   "outputs": [],
   "source": [
    "le_values = le.classes_"
   ]
  },
  {
   "cell_type": "code",
   "execution_count": 13,
   "id": "b3eb0311",
   "metadata": {
    "execution": {
     "iopub.execute_input": "2025-06-26T01:06:11.638766Z",
     "iopub.status.busy": "2025-06-26T01:06:11.638433Z",
     "iopub.status.idle": "2025-06-26T01:06:12.542646Z",
     "shell.execute_reply": "2025-06-26T01:06:12.541686Z"
    },
    "papermill": {
     "duration": 0.917852,
     "end_time": "2025-06-26T01:06:12.544364",
     "exception": false,
     "start_time": "2025-06-26T01:06:11.626512",
     "status": "completed"
    },
    "tags": []
   },
   "outputs": [],
   "source": [
    "# We create a df with the encoded categorical variables\n",
    "\n",
    "cat_cols = fertilizers_end[[\"Soil Type\", \"Crop Type\"]]\n",
    "rest_cols = fertilizers_end.drop(columns=[\"Soil Type\", \"Crop Type\"])\n",
    "encoder = OneHotEncoder(sparse=False, drop=\"if_binary\").set_output(transform=\"pandas\")\n",
    "cat_enc = encoder.fit_transform(cat_cols)\n",
    "df_encoded = pd.concat([rest_cols, cat_enc], axis=1)"
   ]
  },
  {
   "cell_type": "code",
   "execution_count": 14,
   "id": "1654be13",
   "metadata": {
    "execution": {
     "iopub.execute_input": "2025-06-26T01:06:12.568123Z",
     "iopub.status.busy": "2025-06-26T01:06:12.567782Z",
     "iopub.status.idle": "2025-06-26T01:06:12.635282Z",
     "shell.execute_reply": "2025-06-26T01:06:12.634226Z"
    },
    "papermill": {
     "duration": 0.081144,
     "end_time": "2025-06-26T01:06:12.636930",
     "exception": false,
     "start_time": "2025-06-26T01:06:12.555786",
     "status": "completed"
    },
    "tags": []
   },
   "outputs": [
    {
     "name": "stdout",
     "output_type": "stream",
     "text": [
      "<class 'pandas.core.frame.DataFrame'>\n",
      "Index: 750000 entries, 0 to 749999\n",
      "Data columns (total 23 columns):\n",
      " #   Column                 Non-Null Count   Dtype  \n",
      "---  ------                 --------------   -----  \n",
      " 0   Temparature            750000 non-null  int64  \n",
      " 1   Humidity               750000 non-null  int64  \n",
      " 2   Moisture               750000 non-null  int64  \n",
      " 3   Nitrogen               750000 non-null  int64  \n",
      " 4   Potassium              750000 non-null  int64  \n",
      " 5   Phosphorous            750000 non-null  int64  \n",
      " 6   Fertilizer Name        750000 non-null  int64  \n",
      " 7   Soil Type_Black        750000 non-null  float64\n",
      " 8   Soil Type_Clayey       750000 non-null  float64\n",
      " 9   Soil Type_Loamy        750000 non-null  float64\n",
      " 10  Soil Type_Red          750000 non-null  float64\n",
      " 11  Soil Type_Sandy        750000 non-null  float64\n",
      " 12  Crop Type_Barley       750000 non-null  float64\n",
      " 13  Crop Type_Cotton       750000 non-null  float64\n",
      " 14  Crop Type_Ground Nuts  750000 non-null  float64\n",
      " 15  Crop Type_Maize        750000 non-null  float64\n",
      " 16  Crop Type_Millets      750000 non-null  float64\n",
      " 17  Crop Type_Oil seeds    750000 non-null  float64\n",
      " 18  Crop Type_Paddy        750000 non-null  float64\n",
      " 19  Crop Type_Pulses       750000 non-null  float64\n",
      " 20  Crop Type_Sugarcane    750000 non-null  float64\n",
      " 21  Crop Type_Tobacco      750000 non-null  float64\n",
      " 22  Crop Type_Wheat        750000 non-null  float64\n",
      "dtypes: float64(16), int64(7)\n",
      "memory usage: 137.3 MB\n"
     ]
    }
   ],
   "source": [
    "df_encoded.info()"
   ]
  },
  {
   "cell_type": "code",
   "execution_count": 15,
   "id": "e2ae64be",
   "metadata": {
    "execution": {
     "iopub.execute_input": "2025-06-26T01:06:12.661007Z",
     "iopub.status.busy": "2025-06-26T01:06:12.660588Z",
     "iopub.status.idle": "2025-06-26T01:06:12.664817Z",
     "shell.execute_reply": "2025-06-26T01:06:12.663888Z"
    },
    "papermill": {
     "duration": 0.018002,
     "end_time": "2025-06-26T01:06:12.666396",
     "exception": false,
     "start_time": "2025-06-26T01:06:12.648394",
     "status": "completed"
    },
    "tags": []
   },
   "outputs": [],
   "source": [
    "#df_encoded.corr(numeric_only=True).round(2)"
   ]
  },
  {
   "cell_type": "markdown",
   "id": "aafd90c5",
   "metadata": {
    "papermill": {
     "duration": 0.010795,
     "end_time": "2025-06-26T01:06:12.688674",
     "exception": false,
     "start_time": "2025-06-26T01:06:12.677879",
     "status": "completed"
    },
    "tags": []
   },
   "source": [
    "## Scaling"
   ]
  },
  {
   "cell_type": "code",
   "execution_count": 16,
   "id": "27b1ffdf",
   "metadata": {
    "execution": {
     "iopub.execute_input": "2025-06-26T01:06:12.712487Z",
     "iopub.status.busy": "2025-06-26T01:06:12.712201Z",
     "iopub.status.idle": "2025-06-26T01:06:13.400542Z",
     "shell.execute_reply": "2025-06-26T01:06:13.399482Z"
    },
    "papermill": {
     "duration": 0.701865,
     "end_time": "2025-06-26T01:06:13.402073",
     "exception": false,
     "start_time": "2025-06-26T01:06:12.700208",
     "status": "completed"
    },
    "tags": []
   },
   "outputs": [
    {
     "data": {
      "text/html": [
       "<div>\n",
       "<style scoped>\n",
       "    .dataframe tbody tr th:only-of-type {\n",
       "        vertical-align: middle;\n",
       "    }\n",
       "\n",
       "    .dataframe tbody tr th {\n",
       "        vertical-align: top;\n",
       "    }\n",
       "\n",
       "    .dataframe thead th {\n",
       "        text-align: right;\n",
       "    }\n",
       "</style>\n",
       "<table border=\"1\" class=\"dataframe\">\n",
       "  <thead>\n",
       "    <tr style=\"text-align: right;\">\n",
       "      <th></th>\n",
       "      <th>count</th>\n",
       "      <th>mean</th>\n",
       "      <th>std</th>\n",
       "      <th>min</th>\n",
       "      <th>25%</th>\n",
       "      <th>50%</th>\n",
       "      <th>75%</th>\n",
       "      <th>max</th>\n",
       "    </tr>\n",
       "  </thead>\n",
       "  <tbody>\n",
       "    <tr>\n",
       "      <th>Temparature</th>\n",
       "      <td>750000.0</td>\n",
       "      <td>31.503565</td>\n",
       "      <td>4.025574</td>\n",
       "      <td>25.0</td>\n",
       "      <td>28.0</td>\n",
       "      <td>32.0</td>\n",
       "      <td>35.0</td>\n",
       "      <td>38.0</td>\n",
       "    </tr>\n",
       "    <tr>\n",
       "      <th>Humidity</th>\n",
       "      <td>750000.0</td>\n",
       "      <td>61.038912</td>\n",
       "      <td>6.647695</td>\n",
       "      <td>50.0</td>\n",
       "      <td>55.0</td>\n",
       "      <td>61.0</td>\n",
       "      <td>67.0</td>\n",
       "      <td>72.0</td>\n",
       "    </tr>\n",
       "    <tr>\n",
       "      <th>Moisture</th>\n",
       "      <td>750000.0</td>\n",
       "      <td>45.184147</td>\n",
       "      <td>11.794594</td>\n",
       "      <td>25.0</td>\n",
       "      <td>35.0</td>\n",
       "      <td>45.0</td>\n",
       "      <td>55.0</td>\n",
       "      <td>65.0</td>\n",
       "    </tr>\n",
       "    <tr>\n",
       "      <th>Nitrogen</th>\n",
       "      <td>750000.0</td>\n",
       "      <td>23.093808</td>\n",
       "      <td>11.216125</td>\n",
       "      <td>4.0</td>\n",
       "      <td>13.0</td>\n",
       "      <td>23.0</td>\n",
       "      <td>33.0</td>\n",
       "      <td>42.0</td>\n",
       "    </tr>\n",
       "    <tr>\n",
       "      <th>Potassium</th>\n",
       "      <td>750000.0</td>\n",
       "      <td>9.478296</td>\n",
       "      <td>5.765622</td>\n",
       "      <td>0.0</td>\n",
       "      <td>4.0</td>\n",
       "      <td>9.0</td>\n",
       "      <td>14.0</td>\n",
       "      <td>19.0</td>\n",
       "    </tr>\n",
       "    <tr>\n",
       "      <th>Phosphorous</th>\n",
       "      <td>750000.0</td>\n",
       "      <td>21.073227</td>\n",
       "      <td>12.346831</td>\n",
       "      <td>0.0</td>\n",
       "      <td>10.0</td>\n",
       "      <td>21.0</td>\n",
       "      <td>32.0</td>\n",
       "      <td>42.0</td>\n",
       "    </tr>\n",
       "    <tr>\n",
       "      <th>Fertilizer Name</th>\n",
       "      <td>750000.0</td>\n",
       "      <td>2.859791</td>\n",
       "      <td>1.967025</td>\n",
       "      <td>0.0</td>\n",
       "      <td>1.0</td>\n",
       "      <td>3.0</td>\n",
       "      <td>4.0</td>\n",
       "      <td>6.0</td>\n",
       "    </tr>\n",
       "    <tr>\n",
       "      <th>Soil Type_Black</th>\n",
       "      <td>750000.0</td>\n",
       "      <td>0.201275</td>\n",
       "      <td>0.400953</td>\n",
       "      <td>0.0</td>\n",
       "      <td>0.0</td>\n",
       "      <td>0.0</td>\n",
       "      <td>0.0</td>\n",
       "      <td>1.0</td>\n",
       "    </tr>\n",
       "    <tr>\n",
       "      <th>Soil Type_Clayey</th>\n",
       "      <td>750000.0</td>\n",
       "      <td>0.197843</td>\n",
       "      <td>0.398373</td>\n",
       "      <td>0.0</td>\n",
       "      <td>0.0</td>\n",
       "      <td>0.0</td>\n",
       "      <td>0.0</td>\n",
       "      <td>1.0</td>\n",
       "    </tr>\n",
       "    <tr>\n",
       "      <th>Soil Type_Loamy</th>\n",
       "      <td>750000.0</td>\n",
       "      <td>0.194467</td>\n",
       "      <td>0.395790</td>\n",
       "      <td>0.0</td>\n",
       "      <td>0.0</td>\n",
       "      <td>0.0</td>\n",
       "      <td>0.0</td>\n",
       "      <td>1.0</td>\n",
       "    </tr>\n",
       "    <tr>\n",
       "      <th>Soil Type_Red</th>\n",
       "      <td>750000.0</td>\n",
       "      <td>0.197469</td>\n",
       "      <td>0.398090</td>\n",
       "      <td>0.0</td>\n",
       "      <td>0.0</td>\n",
       "      <td>0.0</td>\n",
       "      <td>0.0</td>\n",
       "      <td>1.0</td>\n",
       "    </tr>\n",
       "    <tr>\n",
       "      <th>Soil Type_Sandy</th>\n",
       "      <td>750000.0</td>\n",
       "      <td>0.208947</td>\n",
       "      <td>0.406556</td>\n",
       "      <td>0.0</td>\n",
       "      <td>0.0</td>\n",
       "      <td>0.0</td>\n",
       "      <td>0.0</td>\n",
       "      <td>1.0</td>\n",
       "    </tr>\n",
       "    <tr>\n",
       "      <th>Crop Type_Barley</th>\n",
       "      <td>750000.0</td>\n",
       "      <td>0.086727</td>\n",
       "      <td>0.281434</td>\n",
       "      <td>0.0</td>\n",
       "      <td>0.0</td>\n",
       "      <td>0.0</td>\n",
       "      <td>0.0</td>\n",
       "      <td>1.0</td>\n",
       "    </tr>\n",
       "    <tr>\n",
       "      <th>Crop Type_Cotton</th>\n",
       "      <td>750000.0</td>\n",
       "      <td>0.092228</td>\n",
       "      <td>0.289348</td>\n",
       "      <td>0.0</td>\n",
       "      <td>0.0</td>\n",
       "      <td>0.0</td>\n",
       "      <td>0.0</td>\n",
       "      <td>1.0</td>\n",
       "    </tr>\n",
       "    <tr>\n",
       "      <th>Crop Type_Ground Nuts</th>\n",
       "      <td>750000.0</td>\n",
       "      <td>0.081212</td>\n",
       "      <td>0.273161</td>\n",
       "      <td>0.0</td>\n",
       "      <td>0.0</td>\n",
       "      <td>0.0</td>\n",
       "      <td>0.0</td>\n",
       "      <td>1.0</td>\n",
       "    </tr>\n",
       "    <tr>\n",
       "      <th>Crop Type_Maize</th>\n",
       "      <td>750000.0</td>\n",
       "      <td>0.083425</td>\n",
       "      <td>0.276524</td>\n",
       "      <td>0.0</td>\n",
       "      <td>0.0</td>\n",
       "      <td>0.0</td>\n",
       "      <td>0.0</td>\n",
       "      <td>1.0</td>\n",
       "    </tr>\n",
       "    <tr>\n",
       "      <th>Crop Type_Millets</th>\n",
       "      <td>750000.0</td>\n",
       "      <td>0.087055</td>\n",
       "      <td>0.281915</td>\n",
       "      <td>0.0</td>\n",
       "      <td>0.0</td>\n",
       "      <td>0.0</td>\n",
       "      <td>0.0</td>\n",
       "      <td>1.0</td>\n",
       "    </tr>\n",
       "    <tr>\n",
       "      <th>Crop Type_Oil seeds</th>\n",
       "      <td>750000.0</td>\n",
       "      <td>0.085579</td>\n",
       "      <td>0.279741</td>\n",
       "      <td>0.0</td>\n",
       "      <td>0.0</td>\n",
       "      <td>0.0</td>\n",
       "      <td>0.0</td>\n",
       "      <td>1.0</td>\n",
       "    </tr>\n",
       "    <tr>\n",
       "      <th>Crop Type_Paddy</th>\n",
       "      <td>750000.0</td>\n",
       "      <td>0.114339</td>\n",
       "      <td>0.318222</td>\n",
       "      <td>0.0</td>\n",
       "      <td>0.0</td>\n",
       "      <td>0.0</td>\n",
       "      <td>0.0</td>\n",
       "      <td>1.0</td>\n",
       "    </tr>\n",
       "    <tr>\n",
       "      <th>Crop Type_Pulses</th>\n",
       "      <td>750000.0</td>\n",
       "      <td>0.104240</td>\n",
       "      <td>0.305572</td>\n",
       "      <td>0.0</td>\n",
       "      <td>0.0</td>\n",
       "      <td>0.0</td>\n",
       "      <td>0.0</td>\n",
       "      <td>1.0</td>\n",
       "    </tr>\n",
       "    <tr>\n",
       "      <th>Crop Type_Sugarcane</th>\n",
       "      <td>750000.0</td>\n",
       "      <td>0.085692</td>\n",
       "      <td>0.279909</td>\n",
       "      <td>0.0</td>\n",
       "      <td>0.0</td>\n",
       "      <td>0.0</td>\n",
       "      <td>0.0</td>\n",
       "      <td>1.0</td>\n",
       "    </tr>\n",
       "    <tr>\n",
       "      <th>Crop Type_Tobacco</th>\n",
       "      <td>750000.0</td>\n",
       "      <td>0.090667</td>\n",
       "      <td>0.287135</td>\n",
       "      <td>0.0</td>\n",
       "      <td>0.0</td>\n",
       "      <td>0.0</td>\n",
       "      <td>0.0</td>\n",
       "      <td>1.0</td>\n",
       "    </tr>\n",
       "    <tr>\n",
       "      <th>Crop Type_Wheat</th>\n",
       "      <td>750000.0</td>\n",
       "      <td>0.088837</td>\n",
       "      <td>0.284509</td>\n",
       "      <td>0.0</td>\n",
       "      <td>0.0</td>\n",
       "      <td>0.0</td>\n",
       "      <td>0.0</td>\n",
       "      <td>1.0</td>\n",
       "    </tr>\n",
       "  </tbody>\n",
       "</table>\n",
       "</div>"
      ],
      "text/plain": [
       "                          count       mean        std   min   25%   50%   75%  \\\n",
       "Temparature            750000.0  31.503565   4.025574  25.0  28.0  32.0  35.0   \n",
       "Humidity               750000.0  61.038912   6.647695  50.0  55.0  61.0  67.0   \n",
       "Moisture               750000.0  45.184147  11.794594  25.0  35.0  45.0  55.0   \n",
       "Nitrogen               750000.0  23.093808  11.216125   4.0  13.0  23.0  33.0   \n",
       "Potassium              750000.0   9.478296   5.765622   0.0   4.0   9.0  14.0   \n",
       "Phosphorous            750000.0  21.073227  12.346831   0.0  10.0  21.0  32.0   \n",
       "Fertilizer Name        750000.0   2.859791   1.967025   0.0   1.0   3.0   4.0   \n",
       "Soil Type_Black        750000.0   0.201275   0.400953   0.0   0.0   0.0   0.0   \n",
       "Soil Type_Clayey       750000.0   0.197843   0.398373   0.0   0.0   0.0   0.0   \n",
       "Soil Type_Loamy        750000.0   0.194467   0.395790   0.0   0.0   0.0   0.0   \n",
       "Soil Type_Red          750000.0   0.197469   0.398090   0.0   0.0   0.0   0.0   \n",
       "Soil Type_Sandy        750000.0   0.208947   0.406556   0.0   0.0   0.0   0.0   \n",
       "Crop Type_Barley       750000.0   0.086727   0.281434   0.0   0.0   0.0   0.0   \n",
       "Crop Type_Cotton       750000.0   0.092228   0.289348   0.0   0.0   0.0   0.0   \n",
       "Crop Type_Ground Nuts  750000.0   0.081212   0.273161   0.0   0.0   0.0   0.0   \n",
       "Crop Type_Maize        750000.0   0.083425   0.276524   0.0   0.0   0.0   0.0   \n",
       "Crop Type_Millets      750000.0   0.087055   0.281915   0.0   0.0   0.0   0.0   \n",
       "Crop Type_Oil seeds    750000.0   0.085579   0.279741   0.0   0.0   0.0   0.0   \n",
       "Crop Type_Paddy        750000.0   0.114339   0.318222   0.0   0.0   0.0   0.0   \n",
       "Crop Type_Pulses       750000.0   0.104240   0.305572   0.0   0.0   0.0   0.0   \n",
       "Crop Type_Sugarcane    750000.0   0.085692   0.279909   0.0   0.0   0.0   0.0   \n",
       "Crop Type_Tobacco      750000.0   0.090667   0.287135   0.0   0.0   0.0   0.0   \n",
       "Crop Type_Wheat        750000.0   0.088837   0.284509   0.0   0.0   0.0   0.0   \n",
       "\n",
       "                        max  \n",
       "Temparature            38.0  \n",
       "Humidity               72.0  \n",
       "Moisture               65.0  \n",
       "Nitrogen               42.0  \n",
       "Potassium              19.0  \n",
       "Phosphorous            42.0  \n",
       "Fertilizer Name         6.0  \n",
       "Soil Type_Black         1.0  \n",
       "Soil Type_Clayey        1.0  \n",
       "Soil Type_Loamy         1.0  \n",
       "Soil Type_Red           1.0  \n",
       "Soil Type_Sandy         1.0  \n",
       "Crop Type_Barley        1.0  \n",
       "Crop Type_Cotton        1.0  \n",
       "Crop Type_Ground Nuts   1.0  \n",
       "Crop Type_Maize         1.0  \n",
       "Crop Type_Millets       1.0  \n",
       "Crop Type_Oil seeds     1.0  \n",
       "Crop Type_Paddy         1.0  \n",
       "Crop Type_Pulses        1.0  \n",
       "Crop Type_Sugarcane     1.0  \n",
       "Crop Type_Tobacco       1.0  \n",
       "Crop Type_Wheat         1.0  "
      ]
     },
     "execution_count": 16,
     "metadata": {},
     "output_type": "execute_result"
    }
   ],
   "source": [
    "df_encoded.describe().T"
   ]
  },
  {
   "cell_type": "code",
   "execution_count": 17,
   "id": "9d34a39c",
   "metadata": {
    "execution": {
     "iopub.execute_input": "2025-06-26T01:06:13.427421Z",
     "iopub.status.busy": "2025-06-26T01:06:13.426394Z",
     "iopub.status.idle": "2025-06-26T01:06:13.478753Z",
     "shell.execute_reply": "2025-06-26T01:06:13.477843Z"
    },
    "papermill": {
     "duration": 0.066639,
     "end_time": "2025-06-26T01:06:13.480521",
     "exception": false,
     "start_time": "2025-06-26T01:06:13.413882",
     "status": "completed"
    },
    "tags": []
   },
   "outputs": [],
   "source": [
    "# We separate the target variable from the features\n",
    "\n",
    "x_fertilizers = df_encoded.drop(columns=\"Fertilizer Name\")\n",
    "y_fertilizers = df_encoded[\"Fertilizer Name\"]"
   ]
  },
  {
   "cell_type": "code",
   "execution_count": 18,
   "id": "22611f41",
   "metadata": {
    "execution": {
     "iopub.execute_input": "2025-06-26T01:06:13.505580Z",
     "iopub.status.busy": "2025-06-26T01:06:13.504557Z",
     "iopub.status.idle": "2025-06-26T01:06:13.753851Z",
     "shell.execute_reply": "2025-06-26T01:06:13.753096Z"
    },
    "papermill": {
     "duration": 0.263339,
     "end_time": "2025-06-26T01:06:13.755468",
     "exception": false,
     "start_time": "2025-06-26T01:06:13.492129",
     "status": "completed"
    },
    "tags": []
   },
   "outputs": [],
   "source": [
    "# Numerical variables to scale\n",
    "\n",
    "fertilizer_numeric = x_fertilizers[[\n",
    "    \"Temparature\",\n",
    "    \"Humidity\",\n",
    "    \"Moisture\",\n",
    "    \"Nitrogen\",\n",
    "    \"Potassium\",\n",
    "    \"Phosphorous\"\n",
    "]]\n",
    "\n",
    "scaler = StandardScaler().set_output(transform=\"pandas\")\n",
    "scale_num = scaler.fit_transform(fertilizer_numeric)\n",
    "\n",
    "# We create a df with the remaining variables\n",
    "\n",
    "fertilizer_rest = x_fertilizers.drop(columns=[\n",
    "    \"Temparature\",\n",
    "    \"Humidity\",\n",
    "    \"Moisture\",\n",
    "    \"Nitrogen\",\n",
    "    \"Potassium\",\n",
    "    \"Phosphorous\"\n",
    "])\n",
    "\n",
    "# We concatenate the dataframes\n",
    "\n",
    "x_end = pd.concat([scale_num, fertilizer_rest], axis=1)"
   ]
  },
  {
   "cell_type": "code",
   "execution_count": 19,
   "id": "f0a64c55",
   "metadata": {
    "execution": {
     "iopub.execute_input": "2025-06-26T01:06:13.780715Z",
     "iopub.status.busy": "2025-06-26T01:06:13.780366Z",
     "iopub.status.idle": "2025-06-26T01:06:13.846358Z",
     "shell.execute_reply": "2025-06-26T01:06:13.845292Z"
    },
    "papermill": {
     "duration": 0.08066,
     "end_time": "2025-06-26T01:06:13.848125",
     "exception": false,
     "start_time": "2025-06-26T01:06:13.767465",
     "status": "completed"
    },
    "tags": []
   },
   "outputs": [
    {
     "name": "stdout",
     "output_type": "stream",
     "text": [
      "<class 'pandas.core.frame.DataFrame'>\n",
      "Index: 750000 entries, 0 to 749999\n",
      "Data columns (total 22 columns):\n",
      " #   Column                 Non-Null Count   Dtype  \n",
      "---  ------                 --------------   -----  \n",
      " 0   Temparature            750000 non-null  float64\n",
      " 1   Humidity               750000 non-null  float64\n",
      " 2   Moisture               750000 non-null  float64\n",
      " 3   Nitrogen               750000 non-null  float64\n",
      " 4   Potassium              750000 non-null  float64\n",
      " 5   Phosphorous            750000 non-null  float64\n",
      " 6   Soil Type_Black        750000 non-null  float64\n",
      " 7   Soil Type_Clayey       750000 non-null  float64\n",
      " 8   Soil Type_Loamy        750000 non-null  float64\n",
      " 9   Soil Type_Red          750000 non-null  float64\n",
      " 10  Soil Type_Sandy        750000 non-null  float64\n",
      " 11  Crop Type_Barley       750000 non-null  float64\n",
      " 12  Crop Type_Cotton       750000 non-null  float64\n",
      " 13  Crop Type_Ground Nuts  750000 non-null  float64\n",
      " 14  Crop Type_Maize        750000 non-null  float64\n",
      " 15  Crop Type_Millets      750000 non-null  float64\n",
      " 16  Crop Type_Oil seeds    750000 non-null  float64\n",
      " 17  Crop Type_Paddy        750000 non-null  float64\n",
      " 18  Crop Type_Pulses       750000 non-null  float64\n",
      " 19  Crop Type_Sugarcane    750000 non-null  float64\n",
      " 20  Crop Type_Tobacco      750000 non-null  float64\n",
      " 21  Crop Type_Wheat        750000 non-null  float64\n",
      "dtypes: float64(22)\n",
      "memory usage: 131.6 MB\n"
     ]
    }
   ],
   "source": [
    "x_end.info()"
   ]
  },
  {
   "cell_type": "code",
   "execution_count": 20,
   "id": "e2941d01",
   "metadata": {
    "execution": {
     "iopub.execute_input": "2025-06-26T01:06:13.873343Z",
     "iopub.status.busy": "2025-06-26T01:06:13.873025Z",
     "iopub.status.idle": "2025-06-26T01:06:14.715938Z",
     "shell.execute_reply": "2025-06-26T01:06:14.714940Z"
    },
    "papermill": {
     "duration": 0.857407,
     "end_time": "2025-06-26T01:06:14.717445",
     "exception": false,
     "start_time": "2025-06-26T01:06:13.860038",
     "status": "completed"
    },
    "tags": []
   },
   "outputs": [
    {
     "data": {
      "text/html": [
       "<div>\n",
       "<style scoped>\n",
       "    .dataframe tbody tr th:only-of-type {\n",
       "        vertical-align: middle;\n",
       "    }\n",
       "\n",
       "    .dataframe tbody tr th {\n",
       "        vertical-align: top;\n",
       "    }\n",
       "\n",
       "    .dataframe thead th {\n",
       "        text-align: right;\n",
       "    }\n",
       "</style>\n",
       "<table border=\"1\" class=\"dataframe\">\n",
       "  <thead>\n",
       "    <tr style=\"text-align: right;\">\n",
       "      <th></th>\n",
       "      <th>count</th>\n",
       "      <th>mean</th>\n",
       "      <th>std</th>\n",
       "      <th>min</th>\n",
       "      <th>25%</th>\n",
       "      <th>50%</th>\n",
       "      <th>75%</th>\n",
       "      <th>max</th>\n",
       "    </tr>\n",
       "  </thead>\n",
       "  <tbody>\n",
       "    <tr>\n",
       "      <th>Temparature</th>\n",
       "      <td>750000.0</td>\n",
       "      <td>-2.430625e-16</td>\n",
       "      <td>1.000001</td>\n",
       "      <td>-1.615563</td>\n",
       "      <td>-0.870328</td>\n",
       "      <td>0.123320</td>\n",
       "      <td>0.868556</td>\n",
       "      <td>1.613792</td>\n",
       "    </tr>\n",
       "    <tr>\n",
       "      <th>Humidity</th>\n",
       "      <td>750000.0</td>\n",
       "      <td>-5.286627e-16</td>\n",
       "      <td>1.000001</td>\n",
       "      <td>-1.660563</td>\n",
       "      <td>-0.908422</td>\n",
       "      <td>-0.005853</td>\n",
       "      <td>0.896716</td>\n",
       "      <td>1.648856</td>\n",
       "    </tr>\n",
       "    <tr>\n",
       "      <th>Moisture</th>\n",
       "      <td>750000.0</td>\n",
       "      <td>2.707263e-16</td>\n",
       "      <td>1.000001</td>\n",
       "      <td>-1.711306</td>\n",
       "      <td>-0.863459</td>\n",
       "      <td>-0.015613</td>\n",
       "      <td>0.832234</td>\n",
       "      <td>1.680080</td>\n",
       "    </tr>\n",
       "    <tr>\n",
       "      <th>Nitrogen</th>\n",
       "      <td>750000.0</td>\n",
       "      <td>3.865352e-17</td>\n",
       "      <td>1.000001</td>\n",
       "      <td>-1.702354</td>\n",
       "      <td>-0.899938</td>\n",
       "      <td>-0.008364</td>\n",
       "      <td>0.883210</td>\n",
       "      <td>1.685627</td>\n",
       "    </tr>\n",
       "    <tr>\n",
       "      <th>Potassium</th>\n",
       "      <td>750000.0</td>\n",
       "      <td>-5.222015e-17</td>\n",
       "      <td>1.000001</td>\n",
       "      <td>-1.643934</td>\n",
       "      <td>-0.950166</td>\n",
       "      <td>-0.082957</td>\n",
       "      <td>0.784253</td>\n",
       "      <td>1.651463</td>\n",
       "    </tr>\n",
       "    <tr>\n",
       "      <th>Phosphorous</th>\n",
       "      <td>750000.0</td>\n",
       "      <td>-2.046363e-18</td>\n",
       "      <td>1.000001</td>\n",
       "      <td>-1.706773</td>\n",
       "      <td>-0.896848</td>\n",
       "      <td>-0.005931</td>\n",
       "      <td>0.884987</td>\n",
       "      <td>1.694912</td>\n",
       "    </tr>\n",
       "    <tr>\n",
       "      <th>Soil Type_Black</th>\n",
       "      <td>750000.0</td>\n",
       "      <td>2.012747e-01</td>\n",
       "      <td>0.400953</td>\n",
       "      <td>0.000000</td>\n",
       "      <td>0.000000</td>\n",
       "      <td>0.000000</td>\n",
       "      <td>0.000000</td>\n",
       "      <td>1.000000</td>\n",
       "    </tr>\n",
       "    <tr>\n",
       "      <th>Soil Type_Clayey</th>\n",
       "      <td>750000.0</td>\n",
       "      <td>1.978427e-01</td>\n",
       "      <td>0.398373</td>\n",
       "      <td>0.000000</td>\n",
       "      <td>0.000000</td>\n",
       "      <td>0.000000</td>\n",
       "      <td>0.000000</td>\n",
       "      <td>1.000000</td>\n",
       "    </tr>\n",
       "    <tr>\n",
       "      <th>Soil Type_Loamy</th>\n",
       "      <td>750000.0</td>\n",
       "      <td>1.944667e-01</td>\n",
       "      <td>0.395790</td>\n",
       "      <td>0.000000</td>\n",
       "      <td>0.000000</td>\n",
       "      <td>0.000000</td>\n",
       "      <td>0.000000</td>\n",
       "      <td>1.000000</td>\n",
       "    </tr>\n",
       "    <tr>\n",
       "      <th>Soil Type_Red</th>\n",
       "      <td>750000.0</td>\n",
       "      <td>1.974693e-01</td>\n",
       "      <td>0.398090</td>\n",
       "      <td>0.000000</td>\n",
       "      <td>0.000000</td>\n",
       "      <td>0.000000</td>\n",
       "      <td>0.000000</td>\n",
       "      <td>1.000000</td>\n",
       "    </tr>\n",
       "    <tr>\n",
       "      <th>Soil Type_Sandy</th>\n",
       "      <td>750000.0</td>\n",
       "      <td>2.089467e-01</td>\n",
       "      <td>0.406556</td>\n",
       "      <td>0.000000</td>\n",
       "      <td>0.000000</td>\n",
       "      <td>0.000000</td>\n",
       "      <td>0.000000</td>\n",
       "      <td>1.000000</td>\n",
       "    </tr>\n",
       "    <tr>\n",
       "      <th>Crop Type_Barley</th>\n",
       "      <td>750000.0</td>\n",
       "      <td>8.672667e-02</td>\n",
       "      <td>0.281434</td>\n",
       "      <td>0.000000</td>\n",
       "      <td>0.000000</td>\n",
       "      <td>0.000000</td>\n",
       "      <td>0.000000</td>\n",
       "      <td>1.000000</td>\n",
       "    </tr>\n",
       "    <tr>\n",
       "      <th>Crop Type_Cotton</th>\n",
       "      <td>750000.0</td>\n",
       "      <td>9.222800e-02</td>\n",
       "      <td>0.289348</td>\n",
       "      <td>0.000000</td>\n",
       "      <td>0.000000</td>\n",
       "      <td>0.000000</td>\n",
       "      <td>0.000000</td>\n",
       "      <td>1.000000</td>\n",
       "    </tr>\n",
       "    <tr>\n",
       "      <th>Crop Type_Ground Nuts</th>\n",
       "      <td>750000.0</td>\n",
       "      <td>8.121200e-02</td>\n",
       "      <td>0.273161</td>\n",
       "      <td>0.000000</td>\n",
       "      <td>0.000000</td>\n",
       "      <td>0.000000</td>\n",
       "      <td>0.000000</td>\n",
       "      <td>1.000000</td>\n",
       "    </tr>\n",
       "    <tr>\n",
       "      <th>Crop Type_Maize</th>\n",
       "      <td>750000.0</td>\n",
       "      <td>8.342533e-02</td>\n",
       "      <td>0.276524</td>\n",
       "      <td>0.000000</td>\n",
       "      <td>0.000000</td>\n",
       "      <td>0.000000</td>\n",
       "      <td>0.000000</td>\n",
       "      <td>1.000000</td>\n",
       "    </tr>\n",
       "    <tr>\n",
       "      <th>Crop Type_Millets</th>\n",
       "      <td>750000.0</td>\n",
       "      <td>8.705467e-02</td>\n",
       "      <td>0.281915</td>\n",
       "      <td>0.000000</td>\n",
       "      <td>0.000000</td>\n",
       "      <td>0.000000</td>\n",
       "      <td>0.000000</td>\n",
       "      <td>1.000000</td>\n",
       "    </tr>\n",
       "    <tr>\n",
       "      <th>Crop Type_Oil seeds</th>\n",
       "      <td>750000.0</td>\n",
       "      <td>8.557867e-02</td>\n",
       "      <td>0.279741</td>\n",
       "      <td>0.000000</td>\n",
       "      <td>0.000000</td>\n",
       "      <td>0.000000</td>\n",
       "      <td>0.000000</td>\n",
       "      <td>1.000000</td>\n",
       "    </tr>\n",
       "    <tr>\n",
       "      <th>Crop Type_Paddy</th>\n",
       "      <td>750000.0</td>\n",
       "      <td>1.143387e-01</td>\n",
       "      <td>0.318222</td>\n",
       "      <td>0.000000</td>\n",
       "      <td>0.000000</td>\n",
       "      <td>0.000000</td>\n",
       "      <td>0.000000</td>\n",
       "      <td>1.000000</td>\n",
       "    </tr>\n",
       "    <tr>\n",
       "      <th>Crop Type_Pulses</th>\n",
       "      <td>750000.0</td>\n",
       "      <td>1.042400e-01</td>\n",
       "      <td>0.305572</td>\n",
       "      <td>0.000000</td>\n",
       "      <td>0.000000</td>\n",
       "      <td>0.000000</td>\n",
       "      <td>0.000000</td>\n",
       "      <td>1.000000</td>\n",
       "    </tr>\n",
       "    <tr>\n",
       "      <th>Crop Type_Sugarcane</th>\n",
       "      <td>750000.0</td>\n",
       "      <td>8.569200e-02</td>\n",
       "      <td>0.279909</td>\n",
       "      <td>0.000000</td>\n",
       "      <td>0.000000</td>\n",
       "      <td>0.000000</td>\n",
       "      <td>0.000000</td>\n",
       "      <td>1.000000</td>\n",
       "    </tr>\n",
       "    <tr>\n",
       "      <th>Crop Type_Tobacco</th>\n",
       "      <td>750000.0</td>\n",
       "      <td>9.066667e-02</td>\n",
       "      <td>0.287135</td>\n",
       "      <td>0.000000</td>\n",
       "      <td>0.000000</td>\n",
       "      <td>0.000000</td>\n",
       "      <td>0.000000</td>\n",
       "      <td>1.000000</td>\n",
       "    </tr>\n",
       "    <tr>\n",
       "      <th>Crop Type_Wheat</th>\n",
       "      <td>750000.0</td>\n",
       "      <td>8.883733e-02</td>\n",
       "      <td>0.284509</td>\n",
       "      <td>0.000000</td>\n",
       "      <td>0.000000</td>\n",
       "      <td>0.000000</td>\n",
       "      <td>0.000000</td>\n",
       "      <td>1.000000</td>\n",
       "    </tr>\n",
       "  </tbody>\n",
       "</table>\n",
       "</div>"
      ],
      "text/plain": [
       "                          count          mean       std       min       25%  \\\n",
       "Temparature            750000.0 -2.430625e-16  1.000001 -1.615563 -0.870328   \n",
       "Humidity               750000.0 -5.286627e-16  1.000001 -1.660563 -0.908422   \n",
       "Moisture               750000.0  2.707263e-16  1.000001 -1.711306 -0.863459   \n",
       "Nitrogen               750000.0  3.865352e-17  1.000001 -1.702354 -0.899938   \n",
       "Potassium              750000.0 -5.222015e-17  1.000001 -1.643934 -0.950166   \n",
       "Phosphorous            750000.0 -2.046363e-18  1.000001 -1.706773 -0.896848   \n",
       "Soil Type_Black        750000.0  2.012747e-01  0.400953  0.000000  0.000000   \n",
       "Soil Type_Clayey       750000.0  1.978427e-01  0.398373  0.000000  0.000000   \n",
       "Soil Type_Loamy        750000.0  1.944667e-01  0.395790  0.000000  0.000000   \n",
       "Soil Type_Red          750000.0  1.974693e-01  0.398090  0.000000  0.000000   \n",
       "Soil Type_Sandy        750000.0  2.089467e-01  0.406556  0.000000  0.000000   \n",
       "Crop Type_Barley       750000.0  8.672667e-02  0.281434  0.000000  0.000000   \n",
       "Crop Type_Cotton       750000.0  9.222800e-02  0.289348  0.000000  0.000000   \n",
       "Crop Type_Ground Nuts  750000.0  8.121200e-02  0.273161  0.000000  0.000000   \n",
       "Crop Type_Maize        750000.0  8.342533e-02  0.276524  0.000000  0.000000   \n",
       "Crop Type_Millets      750000.0  8.705467e-02  0.281915  0.000000  0.000000   \n",
       "Crop Type_Oil seeds    750000.0  8.557867e-02  0.279741  0.000000  0.000000   \n",
       "Crop Type_Paddy        750000.0  1.143387e-01  0.318222  0.000000  0.000000   \n",
       "Crop Type_Pulses       750000.0  1.042400e-01  0.305572  0.000000  0.000000   \n",
       "Crop Type_Sugarcane    750000.0  8.569200e-02  0.279909  0.000000  0.000000   \n",
       "Crop Type_Tobacco      750000.0  9.066667e-02  0.287135  0.000000  0.000000   \n",
       "Crop Type_Wheat        750000.0  8.883733e-02  0.284509  0.000000  0.000000   \n",
       "\n",
       "                            50%       75%       max  \n",
       "Temparature            0.123320  0.868556  1.613792  \n",
       "Humidity              -0.005853  0.896716  1.648856  \n",
       "Moisture              -0.015613  0.832234  1.680080  \n",
       "Nitrogen              -0.008364  0.883210  1.685627  \n",
       "Potassium             -0.082957  0.784253  1.651463  \n",
       "Phosphorous           -0.005931  0.884987  1.694912  \n",
       "Soil Type_Black        0.000000  0.000000  1.000000  \n",
       "Soil Type_Clayey       0.000000  0.000000  1.000000  \n",
       "Soil Type_Loamy        0.000000  0.000000  1.000000  \n",
       "Soil Type_Red          0.000000  0.000000  1.000000  \n",
       "Soil Type_Sandy        0.000000  0.000000  1.000000  \n",
       "Crop Type_Barley       0.000000  0.000000  1.000000  \n",
       "Crop Type_Cotton       0.000000  0.000000  1.000000  \n",
       "Crop Type_Ground Nuts  0.000000  0.000000  1.000000  \n",
       "Crop Type_Maize        0.000000  0.000000  1.000000  \n",
       "Crop Type_Millets      0.000000  0.000000  1.000000  \n",
       "Crop Type_Oil seeds    0.000000  0.000000  1.000000  \n",
       "Crop Type_Paddy        0.000000  0.000000  1.000000  \n",
       "Crop Type_Pulses       0.000000  0.000000  1.000000  \n",
       "Crop Type_Sugarcane    0.000000  0.000000  1.000000  \n",
       "Crop Type_Tobacco      0.000000  0.000000  1.000000  \n",
       "Crop Type_Wheat        0.000000  0.000000  1.000000  "
      ]
     },
     "execution_count": 20,
     "metadata": {},
     "output_type": "execute_result"
    }
   ],
   "source": [
    "x_end.describe().T"
   ]
  },
  {
   "cell_type": "markdown",
   "id": "efd389f8",
   "metadata": {
    "papermill": {
     "duration": 0.011659,
     "end_time": "2025-06-26T01:06:14.741251",
     "exception": false,
     "start_time": "2025-06-26T01:06:14.729592",
     "status": "completed"
    },
    "tags": []
   },
   "source": [
    "## Feature Selection"
   ]
  },
  {
   "cell_type": "code",
   "execution_count": 21,
   "id": "37879d35",
   "metadata": {
    "execution": {
     "iopub.execute_input": "2025-06-26T01:06:14.767426Z",
     "iopub.status.busy": "2025-06-26T01:06:14.767119Z",
     "iopub.status.idle": "2025-06-26T01:06:14.772720Z",
     "shell.execute_reply": "2025-06-26T01:06:14.771952Z"
    },
    "papermill": {
     "duration": 0.020041,
     "end_time": "2025-06-26T01:06:14.774029",
     "exception": false,
     "start_time": "2025-06-26T01:06:14.753988",
     "status": "completed"
    },
    "tags": []
   },
   "outputs": [
    {
     "data": {
      "text/plain": [
       "'\\nfertilizers_scores = mutual_info_classif(x_end, y_fertilizers)\\nfertilizers_scores = pd.Series(fertilizers_scores, name=\"Fertilizers MI Scores\", index=x_end.columns)\\nfertilizers_scores = fertilizers_scores.sort_values(ascending=False)\\nfertilizers_scores\\n'"
      ]
     },
     "execution_count": 21,
     "metadata": {},
     "output_type": "execute_result"
    }
   ],
   "source": [
    "'''\n",
    "fertilizers_scores = mutual_info_classif(x_end, y_fertilizers)\n",
    "fertilizers_scores = pd.Series(fertilizers_scores, name=\"Fertilizers MI Scores\", index=x_end.columns)\n",
    "fertilizers_scores = fertilizers_scores.sort_values(ascending=False)\n",
    "fertilizers_scores\n",
    "'''"
   ]
  },
  {
   "cell_type": "markdown",
   "id": "7a394dcc",
   "metadata": {
    "papermill": {
     "duration": 0.011822,
     "end_time": "2025-06-26T01:06:14.798085",
     "exception": false,
     "start_time": "2025-06-26T01:06:14.786263",
     "status": "completed"
    },
    "tags": []
   },
   "source": [
    "First feature analysis:\n",
    "\n",
    "    Moisture                 0.004975\n",
    "    Soil Type_Black          0.004838\n",
    "    Phosphorous              0.004139\n",
    "    Soil Type_Clayey         0.003320\n",
    "    Soil Type_Loamy          0.003201\n",
    "    Nitrogen                 0.002672\n",
    "    Soil Type_Sandy          0.002432\n",
    "    Soil Type_Red            0.002427\n",
    "    Crop Type_Oil seeds      0.002218\n",
    "    Potassium                0.001786\n",
    "    Temparature              0.001252\n",
    "    Crop Type_Paddy          0.001237\n",
    "    Crop Type_Tobacco        0.001203\n",
    "    Crop Type_Pulses         0.001140\n",
    "    Crop Type_Maize          0.001094\n",
    "    Crop Type_Wheat          0.000915\n",
    "    Crop Type_Barley         0.000832\n",
    "    Crop Type_Cotton         0.000788\n",
    "    Humidity                 0.000540\n",
    "    Crop Type_Ground Nuts    0.000466\n",
    "    Crop Type_Sugarcane      0.000300\n",
    "    Crop Type_Millets        0.000000"
   ]
  },
  {
   "cell_type": "code",
   "execution_count": 22,
   "id": "9effef07",
   "metadata": {
    "execution": {
     "iopub.execute_input": "2025-06-26T01:06:14.823505Z",
     "iopub.status.busy": "2025-06-26T01:06:14.823185Z",
     "iopub.status.idle": "2025-06-26T01:06:14.828898Z",
     "shell.execute_reply": "2025-06-26T01:06:14.828061Z"
    },
    "papermill": {
     "duration": 0.02019,
     "end_time": "2025-06-26T01:06:14.830276",
     "exception": false,
     "start_time": "2025-06-26T01:06:14.810086",
     "status": "completed"
    },
    "tags": []
   },
   "outputs": [
    {
     "data": {
      "text/plain": [
       "'\\nscores = fertilizers_scores.sort_values(ascending=True)\\nwidth = np.arange(len(fertilizers_scores))\\nticks = list(fertilizers_scores.index)\\nplt.barh(width, fertilizers_scores)\\nplt.yticks(width, ticks)\\nplt.title(\"Mutual Information Scores\")\\nplt.figure(dpi=100, figsize=(8, 5))\\nplt.show()\\n'"
      ]
     },
     "execution_count": 22,
     "metadata": {},
     "output_type": "execute_result"
    }
   ],
   "source": [
    "'''\n",
    "scores = fertilizers_scores.sort_values(ascending=True)\n",
    "width = np.arange(len(fertilizers_scores))\n",
    "ticks = list(fertilizers_scores.index)\n",
    "plt.barh(width, fertilizers_scores)\n",
    "plt.yticks(width, ticks)\n",
    "plt.title(\"Mutual Information Scores\")\n",
    "plt.figure(dpi=100, figsize=(8, 5))\n",
    "plt.show()\n",
    "'''"
   ]
  },
  {
   "cell_type": "code",
   "execution_count": 23,
   "id": "3097e74e",
   "metadata": {
    "execution": {
     "iopub.execute_input": "2025-06-26T01:06:14.855532Z",
     "iopub.status.busy": "2025-06-26T01:06:14.855218Z",
     "iopub.status.idle": "2025-06-26T01:06:14.859081Z",
     "shell.execute_reply": "2025-06-26T01:06:14.858179Z"
    },
    "papermill": {
     "duration": 0.018156,
     "end_time": "2025-06-26T01:06:14.860472",
     "exception": false,
     "start_time": "2025-06-26T01:06:14.842316",
     "status": "completed"
    },
    "tags": []
   },
   "outputs": [],
   "source": [
    "#x_end = x_end.drop(columns=[])"
   ]
  },
  {
   "cell_type": "markdown",
   "id": "9c5a66d0",
   "metadata": {
    "papermill": {
     "duration": 0.011988,
     "end_time": "2025-06-26T01:06:14.884807",
     "exception": false,
     "start_time": "2025-06-26T01:06:14.872819",
     "status": "completed"
    },
    "tags": []
   },
   "source": [
    "# Model Selection"
   ]
  },
  {
   "cell_type": "code",
   "execution_count": 24,
   "id": "86583960",
   "metadata": {
    "execution": {
     "iopub.execute_input": "2025-06-26T01:06:14.910943Z",
     "iopub.status.busy": "2025-06-26T01:06:14.910585Z",
     "iopub.status.idle": "2025-06-26T01:06:15.121981Z",
     "shell.execute_reply": "2025-06-26T01:06:15.121088Z"
    },
    "papermill": {
     "duration": 0.226667,
     "end_time": "2025-06-26T01:06:15.123597",
     "exception": false,
     "start_time": "2025-06-26T01:06:14.896930",
     "status": "completed"
    },
    "tags": []
   },
   "outputs": [],
   "source": [
    "# We separate the data into training and validation sets\n",
    "\n",
    "x_train, x_val, y_train, y_val = (\n",
    "    train_test_split(x_end, y_fertilizers, test_size=0.2, random_state=42)\n",
    ")"
   ]
  },
  {
   "cell_type": "code",
   "execution_count": 25,
   "id": "a5e611d7",
   "metadata": {
    "execution": {
     "iopub.execute_input": "2025-06-26T01:06:15.150256Z",
     "iopub.status.busy": "2025-06-26T01:06:15.149912Z",
     "iopub.status.idle": "2025-06-26T01:06:15.172143Z",
     "shell.execute_reply": "2025-06-26T01:06:15.171152Z"
    },
    "papermill": {
     "duration": 0.036782,
     "end_time": "2025-06-26T01:06:15.173622",
     "exception": false,
     "start_time": "2025-06-26T01:06:15.136840",
     "status": "completed"
    },
    "tags": []
   },
   "outputs": [
    {
     "name": "stdout",
     "output_type": "stream",
     "text": [
      "[[    0     1     2     3     4     5     6]\n",
      " [91046 91797 89689 88879 88774 75712 74103]]\n"
     ]
    }
   ],
   "source": [
    "# We review the balance of the target variable\n",
    "\n",
    "values_counts = np.asarray(np.unique(y_train, return_counts=True))\n",
    "\n",
    "print(values_counts)"
   ]
  },
  {
   "cell_type": "code",
   "execution_count": 26,
   "id": "3e6d37d7",
   "metadata": {
    "execution": {
     "iopub.execute_input": "2025-06-26T01:06:15.199325Z",
     "iopub.status.busy": "2025-06-26T01:06:15.199055Z",
     "iopub.status.idle": "2025-06-26T01:06:15.204969Z",
     "shell.execute_reply": "2025-06-26T01:06:15.204160Z"
    },
    "papermill": {
     "duration": 0.020495,
     "end_time": "2025-06-26T01:06:15.206373",
     "exception": false,
     "start_time": "2025-06-26T01:06:15.185878",
     "status": "completed"
    },
    "tags": []
   },
   "outputs": [],
   "source": [
    "# Common function to calculate AP@K and then MAP@K\n",
    "\n",
    "def apk(actual, predicted, k):\n",
    "\n",
    "    if len(predicted)>k:\n",
    "        predicted = predicted[:k]\n",
    "\n",
    "    score = 0.0\n",
    "    num_hits = 0.0\n",
    "\n",
    "    for i,p in enumerate(predicted):\n",
    "        if p in actual and p not in predicted[:i]:\n",
    "            num_hits += 1.0\n",
    "            score += num_hits / (i+1.0)\n",
    "\n",
    "    if not actual:\n",
    "        return 0.0\n",
    "\n",
    "    return score\n",
    "\n",
    "def mapk(actual, predicted, k):\n",
    "\n",
    "    return np.mean([apk(a,p,k) for a,p in zip(actual, predicted)])"
   ]
  },
  {
   "cell_type": "code",
   "execution_count": 27,
   "id": "38ca95ae",
   "metadata": {
    "execution": {
     "iopub.execute_input": "2025-06-26T01:06:15.232394Z",
     "iopub.status.busy": "2025-06-26T01:06:15.232128Z",
     "iopub.status.idle": "2025-06-26T01:06:15.238066Z",
     "shell.execute_reply": "2025-06-26T01:06:15.237323Z"
    },
    "papermill": {
     "duration": 0.020327,
     "end_time": "2025-06-26T01:06:15.239404",
     "exception": false,
     "start_time": "2025-06-26T01:06:15.219077",
     "status": "completed"
    },
    "tags": []
   },
   "outputs": [],
   "source": [
    "# Function for an initial evaluation of the model\n",
    "\n",
    "def evaluator(model, val_x, val_y, enc, k, model_name):\n",
    "    \n",
    "    y_pred_prob = model.predict_proba(val_x)\n",
    "    top_3_indices_val = np.argsort(-y_pred_prob, axis=1)[:, :3]\n",
    "    \n",
    "    predicted_val = []\n",
    "    \n",
    "    for row_indices in top_3_indices_val:\n",
    "        names = enc.inverse_transform(row_indices)\n",
    "        predicted_val.append(list(names))\n",
    "    \n",
    "    actual_val = [[enc.inverse_transform([label])[0]] for label in val_y]\n",
    "    map_3_score_val = mapk(actual_val, predicted_val, k=k)\n",
    "    \n",
    "    print(f\"\\n{model_name} initial MAP@3 Score: {map_3_score_val:.4f}\")"
   ]
  },
  {
   "cell_type": "code",
   "execution_count": 28,
   "id": "95f33cce",
   "metadata": {
    "execution": {
     "iopub.execute_input": "2025-06-26T01:06:15.264993Z",
     "iopub.status.busy": "2025-06-26T01:06:15.264683Z",
     "iopub.status.idle": "2025-06-26T01:06:15.268910Z",
     "shell.execute_reply": "2025-06-26T01:06:15.268135Z"
    },
    "papermill": {
     "duration": 0.018469,
     "end_time": "2025-06-26T01:06:15.270289",
     "exception": false,
     "start_time": "2025-06-26T01:06:15.251820",
     "status": "completed"
    },
    "tags": []
   },
   "outputs": [],
   "source": [
    "# we create the StratifiedKFold object\n",
    "\n",
    "n_splits = 5\n",
    "skf = StratifiedKFold(n_splits=n_splits, shuffle=True, random_state=42)"
   ]
  },
  {
   "cell_type": "code",
   "execution_count": 29,
   "id": "15c101b5",
   "metadata": {
    "execution": {
     "iopub.execute_input": "2025-06-26T01:06:15.296609Z",
     "iopub.status.busy": "2025-06-26T01:06:15.296299Z",
     "iopub.status.idle": "2025-06-26T01:06:15.304435Z",
     "shell.execute_reply": "2025-06-26T01:06:15.303609Z"
    },
    "papermill": {
     "duration": 0.022958,
     "end_time": "2025-06-26T01:06:15.305893",
     "exception": false,
     "start_time": "2025-06-26T01:06:15.282935",
     "status": "completed"
    },
    "tags": []
   },
   "outputs": [],
   "source": [
    "# Function to evaluate models with a cross-validation method\n",
    "\n",
    "def cv_evaluator(model_class, model_params, x, y, enc, k_map, model_name):\n",
    "\n",
    "    fold_scores = []\n",
    "\n",
    "    for fold, (train_idx, val_idx) in enumerate(skf.split(x, y)):\n",
    "\n",
    "        print(f\"\\nFold {fold + 1}/{n_splits}\")\n",
    "        x_train_fold, x_val_fold = x.iloc[train_idx], x.iloc[val_idx]\n",
    "        y_train_fold, y_val_fold = y.iloc[train_idx], y.iloc[val_idx]\n",
    "\n",
    "        model = model_class(**model_params)\n",
    "        model.fit(x_train_fold, y_train_fold)\n",
    "\n",
    "        y_pred_prob = model.predict_proba(x_val_fold)\n",
    "        top_k_indices_val = np.argsort(-y_pred_prob, axis=1)[:, :k_map]\n",
    "\n",
    "        predicted_fold = []\n",
    "\n",
    "        for row_indices in top_k_indices_val:\n",
    "\n",
    "            valid_indices = [idx for idx in row_indices if idx < len(enc.classes_)]\n",
    "            names = enc.inverse_transform(valid_indices)\n",
    "            predicted_fold.append(list(names))\n",
    "\n",
    "        actual_fold = [[enc.inverse_transform([label])[0]] for label in y_val_fold]\n",
    "\n",
    "        fold_map_score = mapk(actual_fold, predicted_fold, k=k_map)\n",
    "        fold_scores.append(fold_map_score)\n",
    "        print(f\"MAP@{k_map} Fold {fold + 1}: {fold_map_score:.4f}\")\n",
    "\n",
    "    print(f\"\\n--- CV Summary for {model_name} ---\\n\")\n",
    "    print(f\"MAP@{k_map} Scores for fold: {np.round(fold_scores, 4)}\")\n",
    "    print(f\"MAP@{k_map} average: {np.mean(fold_scores):.4f}\")\n",
    "    print(f\"Standard deviation of MAP@{k_map}: {np.std(fold_scores):.4f}\")\n",
    "\n",
    "    return fold_scores"
   ]
  },
  {
   "cell_type": "markdown",
   "id": "1bc5bd13",
   "metadata": {
    "papermill": {
     "duration": 0.011977,
     "end_time": "2025-06-26T01:06:15.330110",
     "exception": false,
     "start_time": "2025-06-26T01:06:15.318133",
     "status": "completed"
    },
    "tags": []
   },
   "source": [
    "## First model: LogisticRegression"
   ]
  },
  {
   "cell_type": "code",
   "execution_count": 30,
   "id": "eb5420e8",
   "metadata": {
    "execution": {
     "iopub.execute_input": "2025-06-26T01:06:15.355979Z",
     "iopub.status.busy": "2025-06-26T01:06:15.355610Z",
     "iopub.status.idle": "2025-06-26T01:06:15.359736Z",
     "shell.execute_reply": "2025-06-26T01:06:15.358865Z"
    },
    "papermill": {
     "duration": 0.01875,
     "end_time": "2025-06-26T01:06:15.361257",
     "exception": false,
     "start_time": "2025-06-26T01:06:15.342507",
     "status": "completed"
    },
    "tags": []
   },
   "outputs": [],
   "source": [
    "# We create the model instance\n",
    "\n",
    "#lrc = LogisticRegression(multi_class=\"multinomial\")\n",
    "\n",
    "# Train the model with the data\n",
    "\n",
    "#lrc.fit(x_train, y_train)"
   ]
  },
  {
   "cell_type": "code",
   "execution_count": 31,
   "id": "2d695d90",
   "metadata": {
    "execution": {
     "iopub.execute_input": "2025-06-26T01:06:15.387467Z",
     "iopub.status.busy": "2025-06-26T01:06:15.386600Z",
     "iopub.status.idle": "2025-06-26T01:06:15.390604Z",
     "shell.execute_reply": "2025-06-26T01:06:15.389839Z"
    },
    "papermill": {
     "duration": 0.018624,
     "end_time": "2025-06-26T01:06:15.392162",
     "exception": false,
     "start_time": "2025-06-26T01:06:15.373538",
     "status": "completed"
    },
    "tags": []
   },
   "outputs": [],
   "source": [
    "#evaluator(lrc, x_val, y_val, le, 3, \"LogisticRegression\")"
   ]
  },
  {
   "cell_type": "markdown",
   "id": "0e7d9aa6",
   "metadata": {
    "papermill": {
     "duration": 0.011841,
     "end_time": "2025-06-26T01:06:15.417432",
     "exception": false,
     "start_time": "2025-06-26T01:06:15.405591",
     "status": "completed"
    },
    "tags": []
   },
   "source": [
    "LogisticRegression initial MAP@3 Score: 0.2870"
   ]
  },
  {
   "cell_type": "code",
   "execution_count": 32,
   "id": "cd5ee6ed",
   "metadata": {
    "execution": {
     "iopub.execute_input": "2025-06-26T01:06:15.443502Z",
     "iopub.status.busy": "2025-06-26T01:06:15.442562Z",
     "iopub.status.idle": "2025-06-26T01:06:15.448188Z",
     "shell.execute_reply": "2025-06-26T01:06:15.447408Z"
    },
    "papermill": {
     "duration": 0.019916,
     "end_time": "2025-06-26T01:06:15.449470",
     "exception": false,
     "start_time": "2025-06-26T01:06:15.429554",
     "status": "completed"
    },
    "tags": []
   },
   "outputs": [
    {
     "data": {
      "text/plain": [
       "'\\n# We apply the function for CV\\n\\nlrc_params = {\"multi_class\": \"multinomial\", \"random_state\": 42}\\n\\nlrc_cv_scores = cv_evaluator(\\n    model_class=LogisticRegression,\\n    model_params=lrc_params,\\n    x=x_end,\\n    y=y_fertilizers, \\n    enc=le,\\n    k_map=3,\\n    model_name=\"Logistic Regression\"\\n)\\n'"
      ]
     },
     "execution_count": 32,
     "metadata": {},
     "output_type": "execute_result"
    }
   ],
   "source": [
    "'''\n",
    "# We apply the function for CV\n",
    "\n",
    "lrc_params = {\"multi_class\": \"multinomial\", \"random_state\": 42}\n",
    "\n",
    "lrc_cv_scores = cv_evaluator(\n",
    "    model_class=LogisticRegression,\n",
    "    model_params=lrc_params,\n",
    "    x=x_end,\n",
    "    y=y_fertilizers, \n",
    "    enc=le,\n",
    "    k_map=3,\n",
    "    model_name=\"Logistic Regression\"\n",
    ")\n",
    "'''"
   ]
  },
  {
   "cell_type": "markdown",
   "id": "2f673ed2",
   "metadata": {
    "papermill": {
     "duration": 0.012575,
     "end_time": "2025-06-26T01:06:15.474236",
     "exception": false,
     "start_time": "2025-06-26T01:06:15.461661",
     "status": "completed"
    },
    "tags": []
   },
   "source": [
    "\n",
    "--- CV Summary for Logistic Regression ---\n",
    "\n",
    "\n",
    "MAP@3 Scores for fold: [0.2871 0.2875 0.2861 0.2856 0.2871]\n",
    "\n",
    "MAP@3 average: 0.2867\n",
    "\n",
    "Standard deviation of MAP@3: 0.0007"
   ]
  },
  {
   "cell_type": "markdown",
   "id": "2a33ba0e",
   "metadata": {
    "papermill": {
     "duration": 0.011989,
     "end_time": "2025-06-26T01:06:15.498477",
     "exception": false,
     "start_time": "2025-06-26T01:06:15.486488",
     "status": "completed"
    },
    "tags": []
   },
   "source": [
    "## Second model: XGBClassifier"
   ]
  },
  {
   "cell_type": "code",
   "execution_count": 33,
   "id": "95225cc7",
   "metadata": {
    "execution": {
     "iopub.execute_input": "2025-06-26T01:06:15.524405Z",
     "iopub.status.busy": "2025-06-26T01:06:15.523547Z",
     "iopub.status.idle": "2025-06-26T01:06:42.125033Z",
     "shell.execute_reply": "2025-06-26T01:06:42.124211Z"
    },
    "papermill": {
     "duration": 26.615876,
     "end_time": "2025-06-26T01:06:42.126425",
     "exception": false,
     "start_time": "2025-06-26T01:06:15.510549",
     "status": "completed"
    },
    "tags": []
   },
   "outputs": [
    {
     "data": {
      "text/html": [
       "<style>#sk-container-id-1 {color: black;background-color: white;}#sk-container-id-1 pre{padding: 0;}#sk-container-id-1 div.sk-toggleable {background-color: white;}#sk-container-id-1 label.sk-toggleable__label {cursor: pointer;display: block;width: 100%;margin-bottom: 0;padding: 0.3em;box-sizing: border-box;text-align: center;}#sk-container-id-1 label.sk-toggleable__label-arrow:before {content: \"▸\";float: left;margin-right: 0.25em;color: #696969;}#sk-container-id-1 label.sk-toggleable__label-arrow:hover:before {color: black;}#sk-container-id-1 div.sk-estimator:hover label.sk-toggleable__label-arrow:before {color: black;}#sk-container-id-1 div.sk-toggleable__content {max-height: 0;max-width: 0;overflow: hidden;text-align: left;background-color: #f0f8ff;}#sk-container-id-1 div.sk-toggleable__content pre {margin: 0.2em;color: black;border-radius: 0.25em;background-color: #f0f8ff;}#sk-container-id-1 input.sk-toggleable__control:checked~div.sk-toggleable__content {max-height: 200px;max-width: 100%;overflow: auto;}#sk-container-id-1 input.sk-toggleable__control:checked~label.sk-toggleable__label-arrow:before {content: \"▾\";}#sk-container-id-1 div.sk-estimator input.sk-toggleable__control:checked~label.sk-toggleable__label {background-color: #d4ebff;}#sk-container-id-1 div.sk-label input.sk-toggleable__control:checked~label.sk-toggleable__label {background-color: #d4ebff;}#sk-container-id-1 input.sk-hidden--visually {border: 0;clip: rect(1px 1px 1px 1px);clip: rect(1px, 1px, 1px, 1px);height: 1px;margin: -1px;overflow: hidden;padding: 0;position: absolute;width: 1px;}#sk-container-id-1 div.sk-estimator {font-family: monospace;background-color: #f0f8ff;border: 1px dotted black;border-radius: 0.25em;box-sizing: border-box;margin-bottom: 0.5em;}#sk-container-id-1 div.sk-estimator:hover {background-color: #d4ebff;}#sk-container-id-1 div.sk-parallel-item::after {content: \"\";width: 100%;border-bottom: 1px solid gray;flex-grow: 1;}#sk-container-id-1 div.sk-label:hover label.sk-toggleable__label {background-color: #d4ebff;}#sk-container-id-1 div.sk-serial::before {content: \"\";position: absolute;border-left: 1px solid gray;box-sizing: border-box;top: 0;bottom: 0;left: 50%;z-index: 0;}#sk-container-id-1 div.sk-serial {display: flex;flex-direction: column;align-items: center;background-color: white;padding-right: 0.2em;padding-left: 0.2em;position: relative;}#sk-container-id-1 div.sk-item {position: relative;z-index: 1;}#sk-container-id-1 div.sk-parallel {display: flex;align-items: stretch;justify-content: center;background-color: white;position: relative;}#sk-container-id-1 div.sk-item::before, #sk-container-id-1 div.sk-parallel-item::before {content: \"\";position: absolute;border-left: 1px solid gray;box-sizing: border-box;top: 0;bottom: 0;left: 50%;z-index: -1;}#sk-container-id-1 div.sk-parallel-item {display: flex;flex-direction: column;z-index: 1;position: relative;background-color: white;}#sk-container-id-1 div.sk-parallel-item:first-child::after {align-self: flex-end;width: 50%;}#sk-container-id-1 div.sk-parallel-item:last-child::after {align-self: flex-start;width: 50%;}#sk-container-id-1 div.sk-parallel-item:only-child::after {width: 0;}#sk-container-id-1 div.sk-dashed-wrapped {border: 1px dashed gray;margin: 0 0.4em 0.5em 0.4em;box-sizing: border-box;padding-bottom: 0.4em;background-color: white;}#sk-container-id-1 div.sk-label label {font-family: monospace;font-weight: bold;display: inline-block;line-height: 1.2em;}#sk-container-id-1 div.sk-label-container {text-align: center;}#sk-container-id-1 div.sk-container {/* jupyter's `normalize.less` sets `[hidden] { display: none; }` but bootstrap.min.css set `[hidden] { display: none !important; }` so we also need the `!important` here to be able to override the default hidden behavior on the sphinx rendered scikit-learn.org. See: https://github.com/scikit-learn/scikit-learn/issues/21755 */display: inline-block !important;position: relative;}#sk-container-id-1 div.sk-text-repr-fallback {display: none;}</style><div id=\"sk-container-id-1\" class=\"sk-top-container\"><div class=\"sk-text-repr-fallback\"><pre>XGBClassifier(base_score=None, booster=None, callbacks=None,\n",
       "              colsample_bylevel=None, colsample_bynode=None,\n",
       "              colsample_bytree=None, device=None, early_stopping_rounds=None,\n",
       "              enable_categorical=False, eval_metric=None, feature_types=None,\n",
       "              gamma=None, grow_policy=None, importance_type=None,\n",
       "              interaction_constraints=None, learning_rate=None, max_bin=None,\n",
       "              max_cat_threshold=None, max_cat_to_onehot=None,\n",
       "              max_delta_step=None, max_depth=None, max_leaves=None,\n",
       "              min_child_weight=None, missing=nan, monotone_constraints=None,\n",
       "              multi_strategy=None, n_estimators=None, n_jobs=None,\n",
       "              num_parallel_tree=None, objective=&#x27;multi:softprob&#x27;, ...)</pre><b>In a Jupyter environment, please rerun this cell to show the HTML representation or trust the notebook. <br />On GitHub, the HTML representation is unable to render, please try loading this page with nbviewer.org.</b></div><div class=\"sk-container\" hidden><div class=\"sk-item\"><div class=\"sk-estimator sk-toggleable\"><input class=\"sk-toggleable__control sk-hidden--visually\" id=\"sk-estimator-id-1\" type=\"checkbox\" checked><label for=\"sk-estimator-id-1\" class=\"sk-toggleable__label sk-toggleable__label-arrow\">XGBClassifier</label><div class=\"sk-toggleable__content\"><pre>XGBClassifier(base_score=None, booster=None, callbacks=None,\n",
       "              colsample_bylevel=None, colsample_bynode=None,\n",
       "              colsample_bytree=None, device=None, early_stopping_rounds=None,\n",
       "              enable_categorical=False, eval_metric=None, feature_types=None,\n",
       "              gamma=None, grow_policy=None, importance_type=None,\n",
       "              interaction_constraints=None, learning_rate=None, max_bin=None,\n",
       "              max_cat_threshold=None, max_cat_to_onehot=None,\n",
       "              max_delta_step=None, max_depth=None, max_leaves=None,\n",
       "              min_child_weight=None, missing=nan, monotone_constraints=None,\n",
       "              multi_strategy=None, n_estimators=None, n_jobs=None,\n",
       "              num_parallel_tree=None, objective=&#x27;multi:softprob&#x27;, ...)</pre></div></div></div></div></div>"
      ],
      "text/plain": [
       "XGBClassifier(base_score=None, booster=None, callbacks=None,\n",
       "              colsample_bylevel=None, colsample_bynode=None,\n",
       "              colsample_bytree=None, device=None, early_stopping_rounds=None,\n",
       "              enable_categorical=False, eval_metric=None, feature_types=None,\n",
       "              gamma=None, grow_policy=None, importance_type=None,\n",
       "              interaction_constraints=None, learning_rate=None, max_bin=None,\n",
       "              max_cat_threshold=None, max_cat_to_onehot=None,\n",
       "              max_delta_step=None, max_depth=None, max_leaves=None,\n",
       "              min_child_weight=None, missing=nan, monotone_constraints=None,\n",
       "              multi_strategy=None, n_estimators=None, n_jobs=None,\n",
       "              num_parallel_tree=None, objective='multi:softprob', ...)"
      ]
     },
     "execution_count": 33,
     "metadata": {},
     "output_type": "execute_result"
    }
   ],
   "source": [
    "# We create the model instance\n",
    "\n",
    "xgbc = XGBClassifier()\n",
    "\n",
    "# Train the model with the data\n",
    "\n",
    "xgbc.fit(x_train, y_train)"
   ]
  },
  {
   "cell_type": "code",
   "execution_count": 34,
   "id": "ae9f0f80",
   "metadata": {
    "execution": {
     "iopub.execute_input": "2025-06-26T01:06:42.153782Z",
     "iopub.status.busy": "2025-06-26T01:06:42.153150Z",
     "iopub.status.idle": "2025-06-26T01:07:12.312116Z",
     "shell.execute_reply": "2025-06-26T01:07:12.311182Z"
    },
    "papermill": {
     "duration": 30.186166,
     "end_time": "2025-06-26T01:07:12.325775",
     "exception": false,
     "start_time": "2025-06-26T01:06:42.139609",
     "status": "completed"
    },
    "tags": []
   },
   "outputs": [
    {
     "name": "stdout",
     "output_type": "stream",
     "text": [
      "\n",
      "XGBClassifier initial MAP@3 Score: 0.3307\n"
     ]
    }
   ],
   "source": [
    "evaluator(xgbc, x_val, y_val, le, 3, \"XGBClassifier\")"
   ]
  },
  {
   "cell_type": "code",
   "execution_count": 35,
   "id": "69ed38cd",
   "metadata": {
    "execution": {
     "iopub.execute_input": "2025-06-26T01:07:12.353232Z",
     "iopub.status.busy": "2025-06-26T01:07:12.352913Z",
     "iopub.status.idle": "2025-06-26T01:11:58.925479Z",
     "shell.execute_reply": "2025-06-26T01:11:58.924559Z"
    },
    "papermill": {
     "duration": 286.600663,
     "end_time": "2025-06-26T01:11:58.939770",
     "exception": false,
     "start_time": "2025-06-26T01:07:12.339107",
     "status": "completed"
    },
    "tags": []
   },
   "outputs": [
    {
     "name": "stdout",
     "output_type": "stream",
     "text": [
      "\n",
      "Fold 1/5\n",
      "MAP@3 Fold 1: 0.3294\n",
      "\n",
      "Fold 2/5\n",
      "MAP@3 Fold 2: 0.3306\n",
      "\n",
      "Fold 3/5\n",
      "MAP@3 Fold 3: 0.3304\n",
      "\n",
      "Fold 4/5\n",
      "MAP@3 Fold 4: 0.3308\n",
      "\n",
      "Fold 5/5\n",
      "MAP@3 Fold 5: 0.3305\n",
      "\n",
      "--- CV Summary for XGBClassifier ---\n",
      "\n",
      "MAP@3 Scores for fold: [0.3294 0.3306 0.3304 0.3308 0.3305]\n",
      "MAP@3 average: 0.3303\n",
      "Standard deviation of MAP@3: 0.0005\n"
     ]
    }
   ],
   "source": [
    "# We apply the function for CV\n",
    "\n",
    "xgbc_params = xgbc.get_params()\n",
    "\n",
    "lrc_cv_scores = cv_evaluator(\n",
    "    model_class=XGBClassifier,\n",
    "    model_params=xgbc_params,\n",
    "    x=x_end,\n",
    "    y=y_fertilizers, \n",
    "    enc=le,\n",
    "    k_map=3,\n",
    "    model_name=\"XGBClassifier\"\n",
    ")"
   ]
  },
  {
   "cell_type": "markdown",
   "id": "32d1d4ff",
   "metadata": {
    "papermill": {
     "duration": 0.013002,
     "end_time": "2025-06-26T01:11:58.966102",
     "exception": false,
     "start_time": "2025-06-26T01:11:58.953100",
     "status": "completed"
    },
    "tags": []
   },
   "source": [
    "# Modeling"
   ]
  },
  {
   "cell_type": "code",
   "execution_count": 36,
   "id": "1f257fc3",
   "metadata": {
    "execution": {
     "iopub.execute_input": "2025-06-26T01:11:58.994010Z",
     "iopub.status.busy": "2025-06-26T01:11:58.993340Z",
     "iopub.status.idle": "2025-06-26T01:11:58.999680Z",
     "shell.execute_reply": "2025-06-26T01:11:58.998711Z"
    },
    "papermill": {
     "duration": 0.022045,
     "end_time": "2025-06-26T01:11:59.001315",
     "exception": false,
     "start_time": "2025-06-26T01:11:58.979270",
     "status": "completed"
    },
    "tags": []
   },
   "outputs": [
    {
     "data": {
      "text/plain": [
       "{'objective': 'multi:softprob',\n",
       " 'base_score': None,\n",
       " 'booster': None,\n",
       " 'callbacks': None,\n",
       " 'colsample_bylevel': None,\n",
       " 'colsample_bynode': None,\n",
       " 'colsample_bytree': None,\n",
       " 'device': None,\n",
       " 'early_stopping_rounds': None,\n",
       " 'enable_categorical': False,\n",
       " 'eval_metric': None,\n",
       " 'feature_types': None,\n",
       " 'gamma': None,\n",
       " 'grow_policy': None,\n",
       " 'importance_type': None,\n",
       " 'interaction_constraints': None,\n",
       " 'learning_rate': None,\n",
       " 'max_bin': None,\n",
       " 'max_cat_threshold': None,\n",
       " 'max_cat_to_onehot': None,\n",
       " 'max_delta_step': None,\n",
       " 'max_depth': None,\n",
       " 'max_leaves': None,\n",
       " 'min_child_weight': None,\n",
       " 'missing': nan,\n",
       " 'monotone_constraints': None,\n",
       " 'multi_strategy': None,\n",
       " 'n_estimators': None,\n",
       " 'n_jobs': None,\n",
       " 'num_parallel_tree': None,\n",
       " 'random_state': None,\n",
       " 'reg_alpha': None,\n",
       " 'reg_lambda': None,\n",
       " 'sampling_method': None,\n",
       " 'scale_pos_weight': None,\n",
       " 'subsample': None,\n",
       " 'tree_method': None,\n",
       " 'validate_parameters': None,\n",
       " 'verbosity': None}"
      ]
     },
     "execution_count": 36,
     "metadata": {},
     "output_type": "execute_result"
    }
   ],
   "source": [
    "final_model = xgbc\n",
    "\n",
    "final_model.get_params()"
   ]
  },
  {
   "cell_type": "code",
   "execution_count": 37,
   "id": "46352d78",
   "metadata": {
    "execution": {
     "iopub.execute_input": "2025-06-26T01:11:59.029176Z",
     "iopub.status.busy": "2025-06-26T01:11:59.028857Z",
     "iopub.status.idle": "2025-06-26T01:25:16.048975Z",
     "shell.execute_reply": "2025-06-26T01:25:16.047890Z"
    },
    "papermill": {
     "duration": 797.049599,
     "end_time": "2025-06-26T01:25:16.064444",
     "exception": false,
     "start_time": "2025-06-26T01:11:59.014845",
     "status": "completed"
    },
    "tags": []
   },
   "outputs": [
    {
     "name": "stdout",
     "output_type": "stream",
     "text": [
      "\n",
      "Permutation Importance:\n",
      "\n",
      "                  Feature  Importance Mean  Importance Std\n",
      "5             Phosphorous         0.014369        0.000756\n",
      "2                Moisture         0.012838        0.000798\n",
      "3                Nitrogen         0.012112        0.000791\n",
      "4               Potassium         0.009043        0.000588\n",
      "1                Humidity         0.006347        0.000624\n",
      "0             Temparature         0.006166        0.000633\n",
      "10        Soil Type_Sandy         0.001643        0.000340\n",
      "8         Soil Type_Loamy         0.001471        0.000294\n",
      "13  Crop Type_Ground Nuts         0.001244        0.000227\n",
      "9           Soil Type_Red         0.001223        0.000210\n",
      "7        Soil Type_Clayey         0.001222        0.000309\n",
      "17        Crop Type_Paddy         0.001162        0.000200\n",
      "18       Crop Type_Pulses         0.001140        0.000225\n",
      "21        Crop Type_Wheat         0.001092        0.000254\n",
      "6         Soil Type_Black         0.001082        0.000181\n",
      "12       Crop Type_Cotton         0.001014        0.000279\n",
      "19    Crop Type_Sugarcane         0.000886        0.000229\n",
      "20      Crop Type_Tobacco         0.000881        0.000243\n",
      "11       Crop Type_Barley         0.000875        0.000177\n",
      "16    Crop Type_Oil seeds         0.000869        0.000173\n",
      "15      Crop Type_Millets         0.000766        0.000259\n",
      "14        Crop Type_Maize         0.000165        0.000208\n"
     ]
    }
   ],
   "source": [
    "# Permutation Importance\n",
    "\n",
    "perm_importance = permutation_importance(final_model, x_val, y_val, n_repeats=30, random_state=42, n_jobs=-1)\n",
    "perm_importance_df = pd.DataFrame({\n",
    "    'Feature': x_end.columns,\n",
    "    'Importance Mean': perm_importance.importances_mean,\n",
    "    'Importance Std': perm_importance.importances_std\n",
    "})\n",
    "print(\"\\nPermutation Importance:\\n\")\n",
    "print(perm_importance_df.sort_values(by='Importance Mean', ascending=False))"
   ]
  },
  {
   "cell_type": "markdown",
   "id": "d47dea50",
   "metadata": {
    "papermill": {
     "duration": 0.013054,
     "end_time": "2025-06-26T01:25:16.090945",
     "exception": false,
     "start_time": "2025-06-26T01:25:16.077891",
     "status": "completed"
    },
    "tags": []
   },
   "source": [
    "# Test data"
   ]
  },
  {
   "cell_type": "code",
   "execution_count": 38,
   "id": "88b58713",
   "metadata": {
    "execution": {
     "iopub.execute_input": "2025-06-26T01:25:16.118975Z",
     "iopub.status.busy": "2025-06-26T01:25:16.118496Z",
     "iopub.status.idle": "2025-06-26T01:25:16.508216Z",
     "shell.execute_reply": "2025-06-26T01:25:16.507155Z"
    },
    "papermill": {
     "duration": 0.405899,
     "end_time": "2025-06-26T01:25:16.509972",
     "exception": false,
     "start_time": "2025-06-26T01:25:16.104073",
     "status": "completed"
    },
    "tags": []
   },
   "outputs": [],
   "source": [
    "# We load the test data and submission sample data\n",
    "\n",
    "df_test = pd.read_csv(\"/kaggle/input/playground-series-s5e6/test.csv\")\n",
    "\n",
    "fertilizer_sample = pd.read_csv(\"/kaggle/input/playground-series-s5e6/sample_submission.csv\")"
   ]
  },
  {
   "cell_type": "code",
   "execution_count": 39,
   "id": "a958fbb8",
   "metadata": {
    "execution": {
     "iopub.execute_input": "2025-06-26T01:25:16.537548Z",
     "iopub.status.busy": "2025-06-26T01:25:16.537266Z",
     "iopub.status.idle": "2025-06-26T01:25:16.542299Z",
     "shell.execute_reply": "2025-06-26T01:25:16.541295Z"
    },
    "papermill": {
     "duration": 0.020496,
     "end_time": "2025-06-26T01:25:16.543802",
     "exception": false,
     "start_time": "2025-06-26T01:25:16.523306",
     "status": "completed"
    },
    "tags": []
   },
   "outputs": [
    {
     "name": "stdout",
     "output_type": "stream",
     "text": [
      "Shape: (250000, 9)\n"
     ]
    }
   ],
   "source": [
    "# We check the shape\n",
    "\n",
    "print(f\"Shape: {df_test.shape}\")"
   ]
  },
  {
   "cell_type": "code",
   "execution_count": 40,
   "id": "2f57a265",
   "metadata": {
    "execution": {
     "iopub.execute_input": "2025-06-26T01:25:16.571692Z",
     "iopub.status.busy": "2025-06-26T01:25:16.571336Z",
     "iopub.status.idle": "2025-06-26T01:25:16.581393Z",
     "shell.execute_reply": "2025-06-26T01:25:16.580496Z"
    },
    "papermill": {
     "duration": 0.025677,
     "end_time": "2025-06-26T01:25:16.582903",
     "exception": false,
     "start_time": "2025-06-26T01:25:16.557226",
     "status": "completed"
    },
    "tags": []
   },
   "outputs": [
    {
     "data": {
      "text/html": [
       "<div>\n",
       "<style scoped>\n",
       "    .dataframe tbody tr th:only-of-type {\n",
       "        vertical-align: middle;\n",
       "    }\n",
       "\n",
       "    .dataframe tbody tr th {\n",
       "        vertical-align: top;\n",
       "    }\n",
       "\n",
       "    .dataframe thead th {\n",
       "        text-align: right;\n",
       "    }\n",
       "</style>\n",
       "<table border=\"1\" class=\"dataframe\">\n",
       "  <thead>\n",
       "    <tr style=\"text-align: right;\">\n",
       "      <th></th>\n",
       "      <th>id</th>\n",
       "      <th>Temparature</th>\n",
       "      <th>Humidity</th>\n",
       "      <th>Moisture</th>\n",
       "      <th>Soil Type</th>\n",
       "      <th>Crop Type</th>\n",
       "      <th>Nitrogen</th>\n",
       "      <th>Potassium</th>\n",
       "      <th>Phosphorous</th>\n",
       "    </tr>\n",
       "  </thead>\n",
       "  <tbody>\n",
       "    <tr>\n",
       "      <th>0</th>\n",
       "      <td>750000</td>\n",
       "      <td>31</td>\n",
       "      <td>70</td>\n",
       "      <td>52</td>\n",
       "      <td>Sandy</td>\n",
       "      <td>Wheat</td>\n",
       "      <td>34</td>\n",
       "      <td>11</td>\n",
       "      <td>24</td>\n",
       "    </tr>\n",
       "    <tr>\n",
       "      <th>1</th>\n",
       "      <td>750001</td>\n",
       "      <td>27</td>\n",
       "      <td>62</td>\n",
       "      <td>45</td>\n",
       "      <td>Red</td>\n",
       "      <td>Sugarcane</td>\n",
       "      <td>30</td>\n",
       "      <td>14</td>\n",
       "      <td>15</td>\n",
       "    </tr>\n",
       "    <tr>\n",
       "      <th>2</th>\n",
       "      <td>750002</td>\n",
       "      <td>28</td>\n",
       "      <td>72</td>\n",
       "      <td>28</td>\n",
       "      <td>Clayey</td>\n",
       "      <td>Ground Nuts</td>\n",
       "      <td>14</td>\n",
       "      <td>15</td>\n",
       "      <td>4</td>\n",
       "    </tr>\n",
       "    <tr>\n",
       "      <th>3</th>\n",
       "      <td>750003</td>\n",
       "      <td>37</td>\n",
       "      <td>53</td>\n",
       "      <td>57</td>\n",
       "      <td>Black</td>\n",
       "      <td>Ground Nuts</td>\n",
       "      <td>18</td>\n",
       "      <td>17</td>\n",
       "      <td>36</td>\n",
       "    </tr>\n",
       "    <tr>\n",
       "      <th>4</th>\n",
       "      <td>750004</td>\n",
       "      <td>31</td>\n",
       "      <td>55</td>\n",
       "      <td>32</td>\n",
       "      <td>Red</td>\n",
       "      <td>Pulses</td>\n",
       "      <td>13</td>\n",
       "      <td>19</td>\n",
       "      <td>14</td>\n",
       "    </tr>\n",
       "  </tbody>\n",
       "</table>\n",
       "</div>"
      ],
      "text/plain": [
       "       id  Temparature  Humidity  Moisture Soil Type    Crop Type  Nitrogen  \\\n",
       "0  750000           31        70        52     Sandy        Wheat        34   \n",
       "1  750001           27        62        45       Red    Sugarcane        30   \n",
       "2  750002           28        72        28    Clayey  Ground Nuts        14   \n",
       "3  750003           37        53        57     Black  Ground Nuts        18   \n",
       "4  750004           31        55        32       Red       Pulses        13   \n",
       "\n",
       "   Potassium  Phosphorous  \n",
       "0         11           24  \n",
       "1         14           15  \n",
       "2         15            4  \n",
       "3         17           36  \n",
       "4         19           14  "
      ]
     },
     "execution_count": 40,
     "metadata": {},
     "output_type": "execute_result"
    }
   ],
   "source": [
    "df_test.head()"
   ]
  },
  {
   "cell_type": "code",
   "execution_count": 41,
   "id": "1ffcb951",
   "metadata": {
    "execution": {
     "iopub.execute_input": "2025-06-26T01:25:16.612399Z",
     "iopub.status.busy": "2025-06-26T01:25:16.612115Z",
     "iopub.status.idle": "2025-06-26T01:25:16.650083Z",
     "shell.execute_reply": "2025-06-26T01:25:16.648907Z"
    },
    "papermill": {
     "duration": 0.054691,
     "end_time": "2025-06-26T01:25:16.651967",
     "exception": false,
     "start_time": "2025-06-26T01:25:16.597276",
     "status": "completed"
    },
    "tags": []
   },
   "outputs": [
    {
     "name": "stdout",
     "output_type": "stream",
     "text": [
      "<class 'pandas.core.frame.DataFrame'>\n",
      "RangeIndex: 250000 entries, 0 to 249999\n",
      "Data columns (total 9 columns):\n",
      " #   Column       Non-Null Count   Dtype \n",
      "---  ------       --------------   ----- \n",
      " 0   id           250000 non-null  int64 \n",
      " 1   Temparature  250000 non-null  int64 \n",
      " 2   Humidity     250000 non-null  int64 \n",
      " 3   Moisture     250000 non-null  int64 \n",
      " 4   Soil Type    250000 non-null  object\n",
      " 5   Crop Type    250000 non-null  object\n",
      " 6   Nitrogen     250000 non-null  int64 \n",
      " 7   Potassium    250000 non-null  int64 \n",
      " 8   Phosphorous  250000 non-null  int64 \n",
      "dtypes: int64(7), object(2)\n",
      "memory usage: 17.2+ MB\n"
     ]
    }
   ],
   "source": [
    "df_test.info()"
   ]
  },
  {
   "cell_type": "code",
   "execution_count": 42,
   "id": "e05554a4",
   "metadata": {
    "execution": {
     "iopub.execute_input": "2025-06-26T01:25:16.680147Z",
     "iopub.status.busy": "2025-06-26T01:25:16.679858Z",
     "iopub.status.idle": "2025-06-26T01:25:16.756906Z",
     "shell.execute_reply": "2025-06-26T01:25:16.755945Z"
    },
    "papermill": {
     "duration": 0.092711,
     "end_time": "2025-06-26T01:25:16.758316",
     "exception": false,
     "start_time": "2025-06-26T01:25:16.665605",
     "status": "completed"
    },
    "tags": []
   },
   "outputs": [
    {
     "data": {
      "text/html": [
       "<div>\n",
       "<style scoped>\n",
       "    .dataframe tbody tr th:only-of-type {\n",
       "        vertical-align: middle;\n",
       "    }\n",
       "\n",
       "    .dataframe tbody tr th {\n",
       "        vertical-align: top;\n",
       "    }\n",
       "\n",
       "    .dataframe thead th {\n",
       "        text-align: right;\n",
       "    }\n",
       "</style>\n",
       "<table border=\"1\" class=\"dataframe\">\n",
       "  <thead>\n",
       "    <tr style=\"text-align: right;\">\n",
       "      <th></th>\n",
       "      <th>count</th>\n",
       "      <th>mean</th>\n",
       "      <th>std</th>\n",
       "      <th>min</th>\n",
       "      <th>25%</th>\n",
       "      <th>50%</th>\n",
       "      <th>75%</th>\n",
       "      <th>max</th>\n",
       "    </tr>\n",
       "  </thead>\n",
       "  <tbody>\n",
       "    <tr>\n",
       "      <th>id</th>\n",
       "      <td>250000.0</td>\n",
       "      <td>874999.500000</td>\n",
       "      <td>72168.927986</td>\n",
       "      <td>750000.0</td>\n",
       "      <td>812499.75</td>\n",
       "      <td>874999.5</td>\n",
       "      <td>937499.25</td>\n",
       "      <td>999999.0</td>\n",
       "    </tr>\n",
       "    <tr>\n",
       "      <th>Temparature</th>\n",
       "      <td>250000.0</td>\n",
       "      <td>31.491648</td>\n",
       "      <td>4.024093</td>\n",
       "      <td>25.0</td>\n",
       "      <td>28.00</td>\n",
       "      <td>31.0</td>\n",
       "      <td>35.00</td>\n",
       "      <td>38.0</td>\n",
       "    </tr>\n",
       "    <tr>\n",
       "      <th>Humidity</th>\n",
       "      <td>250000.0</td>\n",
       "      <td>61.045120</td>\n",
       "      <td>6.636372</td>\n",
       "      <td>50.0</td>\n",
       "      <td>55.00</td>\n",
       "      <td>61.0</td>\n",
       "      <td>67.00</td>\n",
       "      <td>72.0</td>\n",
       "    </tr>\n",
       "    <tr>\n",
       "      <th>Moisture</th>\n",
       "      <td>250000.0</td>\n",
       "      <td>45.190444</td>\n",
       "      <td>11.793167</td>\n",
       "      <td>25.0</td>\n",
       "      <td>35.00</td>\n",
       "      <td>45.0</td>\n",
       "      <td>55.00</td>\n",
       "      <td>65.0</td>\n",
       "    </tr>\n",
       "    <tr>\n",
       "      <th>Nitrogen</th>\n",
       "      <td>250000.0</td>\n",
       "      <td>23.139612</td>\n",
       "      <td>11.215956</td>\n",
       "      <td>4.0</td>\n",
       "      <td>13.00</td>\n",
       "      <td>23.0</td>\n",
       "      <td>33.00</td>\n",
       "      <td>42.0</td>\n",
       "    </tr>\n",
       "    <tr>\n",
       "      <th>Potassium</th>\n",
       "      <td>250000.0</td>\n",
       "      <td>9.487764</td>\n",
       "      <td>5.766860</td>\n",
       "      <td>0.0</td>\n",
       "      <td>4.00</td>\n",
       "      <td>10.0</td>\n",
       "      <td>14.00</td>\n",
       "      <td>19.0</td>\n",
       "    </tr>\n",
       "    <tr>\n",
       "      <th>Phosphorous</th>\n",
       "      <td>250000.0</td>\n",
       "      <td>21.122060</td>\n",
       "      <td>12.380870</td>\n",
       "      <td>0.0</td>\n",
       "      <td>10.00</td>\n",
       "      <td>21.0</td>\n",
       "      <td>32.00</td>\n",
       "      <td>42.0</td>\n",
       "    </tr>\n",
       "  </tbody>\n",
       "</table>\n",
       "</div>"
      ],
      "text/plain": [
       "                count           mean           std       min        25%  \\\n",
       "id           250000.0  874999.500000  72168.927986  750000.0  812499.75   \n",
       "Temparature  250000.0      31.491648      4.024093      25.0      28.00   \n",
       "Humidity     250000.0      61.045120      6.636372      50.0      55.00   \n",
       "Moisture     250000.0      45.190444     11.793167      25.0      35.00   \n",
       "Nitrogen     250000.0      23.139612     11.215956       4.0      13.00   \n",
       "Potassium    250000.0       9.487764      5.766860       0.0       4.00   \n",
       "Phosphorous  250000.0      21.122060     12.380870       0.0      10.00   \n",
       "\n",
       "                  50%        75%       max  \n",
       "id           874999.5  937499.25  999999.0  \n",
       "Temparature      31.0      35.00      38.0  \n",
       "Humidity         61.0      67.00      72.0  \n",
       "Moisture         45.0      55.00      65.0  \n",
       "Nitrogen         23.0      33.00      42.0  \n",
       "Potassium        10.0      14.00      19.0  \n",
       "Phosphorous      21.0      32.00      42.0  "
      ]
     },
     "execution_count": 42,
     "metadata": {},
     "output_type": "execute_result"
    }
   ],
   "source": [
    "df_test.describe().T"
   ]
  },
  {
   "cell_type": "code",
   "execution_count": 43,
   "id": "dd5628d8",
   "metadata": {
    "execution": {
     "iopub.execute_input": "2025-06-26T01:25:16.786603Z",
     "iopub.status.busy": "2025-06-26T01:25:16.786337Z",
     "iopub.status.idle": "2025-06-26T01:25:16.860366Z",
     "shell.execute_reply": "2025-06-26T01:25:16.859329Z"
    },
    "papermill": {
     "duration": 0.090019,
     "end_time": "2025-06-26T01:25:16.861975",
     "exception": false,
     "start_time": "2025-06-26T01:25:16.771956",
     "status": "completed"
    },
    "tags": []
   },
   "outputs": [
    {
     "data": {
      "text/html": [
       "<div>\n",
       "<style scoped>\n",
       "    .dataframe tbody tr th:only-of-type {\n",
       "        vertical-align: middle;\n",
       "    }\n",
       "\n",
       "    .dataframe tbody tr th {\n",
       "        vertical-align: top;\n",
       "    }\n",
       "\n",
       "    .dataframe thead th {\n",
       "        text-align: right;\n",
       "    }\n",
       "</style>\n",
       "<table border=\"1\" class=\"dataframe\">\n",
       "  <thead>\n",
       "    <tr style=\"text-align: right;\">\n",
       "      <th></th>\n",
       "      <th>Soil Type</th>\n",
       "      <th>Crop Type</th>\n",
       "    </tr>\n",
       "  </thead>\n",
       "  <tbody>\n",
       "    <tr>\n",
       "      <th>count</th>\n",
       "      <td>250000</td>\n",
       "      <td>250000</td>\n",
       "    </tr>\n",
       "    <tr>\n",
       "      <th>unique</th>\n",
       "      <td>5</td>\n",
       "      <td>11</td>\n",
       "    </tr>\n",
       "    <tr>\n",
       "      <th>top</th>\n",
       "      <td>Sandy</td>\n",
       "      <td>Paddy</td>\n",
       "    </tr>\n",
       "    <tr>\n",
       "      <th>freq</th>\n",
       "      <td>52323</td>\n",
       "      <td>28332</td>\n",
       "    </tr>\n",
       "  </tbody>\n",
       "</table>\n",
       "</div>"
      ],
      "text/plain": [
       "       Soil Type Crop Type\n",
       "count     250000    250000\n",
       "unique         5        11\n",
       "top        Sandy     Paddy\n",
       "freq       52323     28332"
      ]
     },
     "execution_count": 43,
     "metadata": {},
     "output_type": "execute_result"
    }
   ],
   "source": [
    "df_test.describe(exclude = np.number)"
   ]
  },
  {
   "cell_type": "markdown",
   "id": "da818eff",
   "metadata": {
    "papermill": {
     "duration": 0.013697,
     "end_time": "2025-06-26T01:25:16.890082",
     "exception": false,
     "start_time": "2025-06-26T01:25:16.876385",
     "status": "completed"
    },
    "tags": []
   },
   "source": [
    "## Data wrangling & Preprocessing"
   ]
  },
  {
   "cell_type": "code",
   "execution_count": 44,
   "id": "6ee6ec97",
   "metadata": {
    "execution": {
     "iopub.execute_input": "2025-06-26T01:25:16.919165Z",
     "iopub.status.busy": "2025-06-26T01:25:16.918872Z",
     "iopub.status.idle": "2025-06-26T01:25:17.050757Z",
     "shell.execute_reply": "2025-06-26T01:25:17.049708Z"
    },
    "papermill": {
     "duration": 0.148143,
     "end_time": "2025-06-26T01:25:17.052244",
     "exception": false,
     "start_time": "2025-06-26T01:25:16.904101",
     "status": "completed"
    },
    "tags": []
   },
   "outputs": [
    {
     "name": "stdout",
     "output_type": "stream",
     "text": [
      "Length: 250000\n",
      "Duplicates: 0\n"
     ]
    }
   ],
   "source": [
    "# We check that no duplicate data is found\n",
    "\n",
    "print(f\"Length: {len(df_test.duplicated())}\")\n",
    "\n",
    "print(f\"Duplicates: {df_test.duplicated().sum()}\")"
   ]
  },
  {
   "cell_type": "code",
   "execution_count": 45,
   "id": "c7a2ee10",
   "metadata": {
    "execution": {
     "iopub.execute_input": "2025-06-26T01:25:17.081258Z",
     "iopub.status.busy": "2025-06-26T01:25:17.080967Z",
     "iopub.status.idle": "2025-06-26T01:25:17.147930Z",
     "shell.execute_reply": "2025-06-26T01:25:17.146912Z"
    },
    "papermill": {
     "duration": 0.083197,
     "end_time": "2025-06-26T01:25:17.149437",
     "exception": false,
     "start_time": "2025-06-26T01:25:17.066240",
     "status": "completed"
    },
    "tags": []
   },
   "outputs": [
    {
     "data": {
      "text/html": [
       "<div>\n",
       "<style scoped>\n",
       "    .dataframe tbody tr th:only-of-type {\n",
       "        vertical-align: middle;\n",
       "    }\n",
       "\n",
       "    .dataframe tbody tr th {\n",
       "        vertical-align: top;\n",
       "    }\n",
       "\n",
       "    .dataframe thead th {\n",
       "        text-align: right;\n",
       "    }\n",
       "</style>\n",
       "<table border=\"1\" class=\"dataframe\">\n",
       "  <thead>\n",
       "    <tr style=\"text-align: right;\">\n",
       "      <th></th>\n",
       "      <th>Null Data</th>\n",
       "      <th>Percentage</th>\n",
       "    </tr>\n",
       "  </thead>\n",
       "  <tbody>\n",
       "    <tr>\n",
       "      <th>id</th>\n",
       "      <td>0</td>\n",
       "      <td>0.0</td>\n",
       "    </tr>\n",
       "    <tr>\n",
       "      <th>Temparature</th>\n",
       "      <td>0</td>\n",
       "      <td>0.0</td>\n",
       "    </tr>\n",
       "    <tr>\n",
       "      <th>Humidity</th>\n",
       "      <td>0</td>\n",
       "      <td>0.0</td>\n",
       "    </tr>\n",
       "    <tr>\n",
       "      <th>Moisture</th>\n",
       "      <td>0</td>\n",
       "      <td>0.0</td>\n",
       "    </tr>\n",
       "    <tr>\n",
       "      <th>Soil Type</th>\n",
       "      <td>0</td>\n",
       "      <td>0.0</td>\n",
       "    </tr>\n",
       "    <tr>\n",
       "      <th>Crop Type</th>\n",
       "      <td>0</td>\n",
       "      <td>0.0</td>\n",
       "    </tr>\n",
       "    <tr>\n",
       "      <th>Nitrogen</th>\n",
       "      <td>0</td>\n",
       "      <td>0.0</td>\n",
       "    </tr>\n",
       "    <tr>\n",
       "      <th>Potassium</th>\n",
       "      <td>0</td>\n",
       "      <td>0.0</td>\n",
       "    </tr>\n",
       "    <tr>\n",
       "      <th>Phosphorous</th>\n",
       "      <td>0</td>\n",
       "      <td>0.0</td>\n",
       "    </tr>\n",
       "  </tbody>\n",
       "</table>\n",
       "</div>"
      ],
      "text/plain": [
       "             Null Data  Percentage\n",
       "id                   0         0.0\n",
       "Temparature          0         0.0\n",
       "Humidity             0         0.0\n",
       "Moisture             0         0.0\n",
       "Soil Type            0         0.0\n",
       "Crop Type            0         0.0\n",
       "Nitrogen             0         0.0\n",
       "Potassium            0         0.0\n",
       "Phosphorous          0         0.0"
      ]
     },
     "execution_count": 45,
     "metadata": {},
     "output_type": "execute_result"
    }
   ],
   "source": [
    "# We confirm that there is no null values\n",
    "\n",
    "null_values_test = pd.DataFrame(\n",
    "        {f\"Null Data\" : df_test.isnull().sum(), \n",
    "         \"Percentage\" : (df_test.isnull().sum()) / (len(df_test)) * (100)})\n",
    "\n",
    "null_values_test"
   ]
  },
  {
   "cell_type": "code",
   "execution_count": 46,
   "id": "a85e5b65",
   "metadata": {
    "execution": {
     "iopub.execute_input": "2025-06-26T01:25:17.178966Z",
     "iopub.status.busy": "2025-06-26T01:25:17.178672Z",
     "iopub.status.idle": "2025-06-26T01:25:17.187665Z",
     "shell.execute_reply": "2025-06-26T01:25:17.186800Z"
    },
    "papermill": {
     "duration": 0.02565,
     "end_time": "2025-06-26T01:25:17.189354",
     "exception": false,
     "start_time": "2025-06-26T01:25:17.163704",
     "status": "completed"
    },
    "tags": []
   },
   "outputs": [],
   "source": [
    "# We start by removing the variables that we will not use\n",
    "\n",
    "test_new = df_test.drop(columns=[\"id\"])"
   ]
  },
  {
   "cell_type": "code",
   "execution_count": 47,
   "id": "a198a33f",
   "metadata": {
    "execution": {
     "iopub.execute_input": "2025-06-26T01:25:17.218680Z",
     "iopub.status.busy": "2025-06-26T01:25:17.218343Z",
     "iopub.status.idle": "2025-06-26T01:25:17.491674Z",
     "shell.execute_reply": "2025-06-26T01:25:17.490801Z"
    },
    "papermill": {
     "duration": 0.289796,
     "end_time": "2025-06-26T01:25:17.493293",
     "exception": false,
     "start_time": "2025-06-26T01:25:17.203497",
     "status": "completed"
    },
    "tags": []
   },
   "outputs": [],
   "source": [
    "# We encode categorical variables\n",
    "\n",
    "test_cat_cols = test_new[[\"Soil Type\", \"Crop Type\"]]\n",
    "test_rest_cols = test_new.drop(columns=[\"Soil Type\", \"Crop Type\"])\n",
    "test_cat_enc = encoder.fit_transform(test_cat_cols)\n",
    "test_encoded = pd.concat([test_rest_cols, test_cat_enc], axis=1)"
   ]
  },
  {
   "cell_type": "code",
   "execution_count": 48,
   "id": "bf277d01",
   "metadata": {
    "execution": {
     "iopub.execute_input": "2025-06-26T01:25:17.522314Z",
     "iopub.status.busy": "2025-06-26T01:25:17.521998Z",
     "iopub.status.idle": "2025-06-26T01:25:17.548504Z",
     "shell.execute_reply": "2025-06-26T01:25:17.547426Z"
    },
    "papermill": {
     "duration": 0.042833,
     "end_time": "2025-06-26T01:25:17.550136",
     "exception": false,
     "start_time": "2025-06-26T01:25:17.507303",
     "status": "completed"
    },
    "tags": []
   },
   "outputs": [
    {
     "name": "stdout",
     "output_type": "stream",
     "text": [
      "<class 'pandas.core.frame.DataFrame'>\n",
      "RangeIndex: 250000 entries, 0 to 249999\n",
      "Data columns (total 22 columns):\n",
      " #   Column                 Non-Null Count   Dtype  \n",
      "---  ------                 --------------   -----  \n",
      " 0   Temparature            250000 non-null  int64  \n",
      " 1   Humidity               250000 non-null  int64  \n",
      " 2   Moisture               250000 non-null  int64  \n",
      " 3   Nitrogen               250000 non-null  int64  \n",
      " 4   Potassium              250000 non-null  int64  \n",
      " 5   Phosphorous            250000 non-null  int64  \n",
      " 6   Soil Type_Black        250000 non-null  float64\n",
      " 7   Soil Type_Clayey       250000 non-null  float64\n",
      " 8   Soil Type_Loamy        250000 non-null  float64\n",
      " 9   Soil Type_Red          250000 non-null  float64\n",
      " 10  Soil Type_Sandy        250000 non-null  float64\n",
      " 11  Crop Type_Barley       250000 non-null  float64\n",
      " 12  Crop Type_Cotton       250000 non-null  float64\n",
      " 13  Crop Type_Ground Nuts  250000 non-null  float64\n",
      " 14  Crop Type_Maize        250000 non-null  float64\n",
      " 15  Crop Type_Millets      250000 non-null  float64\n",
      " 16  Crop Type_Oil seeds    250000 non-null  float64\n",
      " 17  Crop Type_Paddy        250000 non-null  float64\n",
      " 18  Crop Type_Pulses       250000 non-null  float64\n",
      " 19  Crop Type_Sugarcane    250000 non-null  float64\n",
      " 20  Crop Type_Tobacco      250000 non-null  float64\n",
      " 21  Crop Type_Wheat        250000 non-null  float64\n",
      "dtypes: float64(16), int64(6)\n",
      "memory usage: 42.0 MB\n"
     ]
    }
   ],
   "source": [
    "test_encoded.info()"
   ]
  },
  {
   "cell_type": "code",
   "execution_count": 49,
   "id": "6d80d259",
   "metadata": {
    "execution": {
     "iopub.execute_input": "2025-06-26T01:25:17.579592Z",
     "iopub.status.busy": "2025-06-26T01:25:17.579288Z",
     "iopub.status.idle": "2025-06-26T01:25:17.683388Z",
     "shell.execute_reply": "2025-06-26T01:25:17.682422Z"
    },
    "papermill": {
     "duration": 0.120588,
     "end_time": "2025-06-26T01:25:17.684894",
     "exception": false,
     "start_time": "2025-06-26T01:25:17.564306",
     "status": "completed"
    },
    "tags": []
   },
   "outputs": [],
   "source": [
    "# Numerical variables to scale\n",
    "\n",
    "test_numeric = test_encoded[[\n",
    "    \"Temparature\",\n",
    "    \"Humidity\",\n",
    "    \"Moisture\",\n",
    "    \"Nitrogen\",\n",
    "    \"Potassium\",\n",
    "    \"Phosphorous\"\n",
    "]]\n",
    "test_scale_num = scaler.transform(test_numeric)\n",
    "test_rest = test_encoded.drop(columns=[\n",
    "    \"Temparature\",\n",
    "    \"Humidity\",\n",
    "    \"Moisture\",\n",
    "    \"Nitrogen\",\n",
    "    \"Potassium\",\n",
    "    \"Phosphorous\"\n",
    "])\n",
    "test_end = pd.concat([test_scale_num, test_rest], axis=1)"
   ]
  },
  {
   "cell_type": "code",
   "execution_count": 50,
   "id": "cbf96291",
   "metadata": {
    "execution": {
     "iopub.execute_input": "2025-06-26T01:25:17.715202Z",
     "iopub.status.busy": "2025-06-26T01:25:17.714503Z",
     "iopub.status.idle": "2025-06-26T01:25:18.009990Z",
     "shell.execute_reply": "2025-06-26T01:25:18.009168Z"
    },
    "papermill": {
     "duration": 0.312383,
     "end_time": "2025-06-26T01:25:18.011463",
     "exception": false,
     "start_time": "2025-06-26T01:25:17.699080",
     "status": "completed"
    },
    "tags": []
   },
   "outputs": [
    {
     "data": {
      "text/html": [
       "<div>\n",
       "<style scoped>\n",
       "    .dataframe tbody tr th:only-of-type {\n",
       "        vertical-align: middle;\n",
       "    }\n",
       "\n",
       "    .dataframe tbody tr th {\n",
       "        vertical-align: top;\n",
       "    }\n",
       "\n",
       "    .dataframe thead th {\n",
       "        text-align: right;\n",
       "    }\n",
       "</style>\n",
       "<table border=\"1\" class=\"dataframe\">\n",
       "  <thead>\n",
       "    <tr style=\"text-align: right;\">\n",
       "      <th></th>\n",
       "      <th>count</th>\n",
       "      <th>mean</th>\n",
       "      <th>std</th>\n",
       "      <th>min</th>\n",
       "      <th>25%</th>\n",
       "      <th>50%</th>\n",
       "      <th>75%</th>\n",
       "      <th>max</th>\n",
       "    </tr>\n",
       "  </thead>\n",
       "  <tbody>\n",
       "    <tr>\n",
       "      <th>Temparature</th>\n",
       "      <td>250000.0</td>\n",
       "      <td>-0.002960</td>\n",
       "      <td>0.999633</td>\n",
       "      <td>-1.615563</td>\n",
       "      <td>-0.870328</td>\n",
       "      <td>-0.125092</td>\n",
       "      <td>0.868556</td>\n",
       "      <td>1.613792</td>\n",
       "    </tr>\n",
       "    <tr>\n",
       "      <th>Humidity</th>\n",
       "      <td>250000.0</td>\n",
       "      <td>0.000934</td>\n",
       "      <td>0.998297</td>\n",
       "      <td>-1.660563</td>\n",
       "      <td>-0.908422</td>\n",
       "      <td>-0.005853</td>\n",
       "      <td>0.896716</td>\n",
       "      <td>1.648856</td>\n",
       "    </tr>\n",
       "    <tr>\n",
       "      <th>Moisture</th>\n",
       "      <td>250000.0</td>\n",
       "      <td>0.000534</td>\n",
       "      <td>0.999880</td>\n",
       "      <td>-1.711306</td>\n",
       "      <td>-0.863459</td>\n",
       "      <td>-0.015613</td>\n",
       "      <td>0.832234</td>\n",
       "      <td>1.680080</td>\n",
       "    </tr>\n",
       "    <tr>\n",
       "      <th>Nitrogen</th>\n",
       "      <td>250000.0</td>\n",
       "      <td>0.004084</td>\n",
       "      <td>0.999986</td>\n",
       "      <td>-1.702354</td>\n",
       "      <td>-0.899938</td>\n",
       "      <td>-0.008364</td>\n",
       "      <td>0.883210</td>\n",
       "      <td>1.685627</td>\n",
       "    </tr>\n",
       "    <tr>\n",
       "      <th>Potassium</th>\n",
       "      <td>250000.0</td>\n",
       "      <td>0.001642</td>\n",
       "      <td>1.000215</td>\n",
       "      <td>-1.643934</td>\n",
       "      <td>-0.950166</td>\n",
       "      <td>0.090485</td>\n",
       "      <td>0.784253</td>\n",
       "      <td>1.651463</td>\n",
       "    </tr>\n",
       "    <tr>\n",
       "      <th>Phosphorous</th>\n",
       "      <td>250000.0</td>\n",
       "      <td>0.003955</td>\n",
       "      <td>1.002758</td>\n",
       "      <td>-1.706773</td>\n",
       "      <td>-0.896848</td>\n",
       "      <td>-0.005931</td>\n",
       "      <td>0.884987</td>\n",
       "      <td>1.694912</td>\n",
       "    </tr>\n",
       "    <tr>\n",
       "      <th>Soil Type_Black</th>\n",
       "      <td>250000.0</td>\n",
       "      <td>0.200588</td>\n",
       "      <td>0.400441</td>\n",
       "      <td>0.000000</td>\n",
       "      <td>0.000000</td>\n",
       "      <td>0.000000</td>\n",
       "      <td>0.000000</td>\n",
       "      <td>1.000000</td>\n",
       "    </tr>\n",
       "    <tr>\n",
       "      <th>Soil Type_Clayey</th>\n",
       "      <td>250000.0</td>\n",
       "      <td>0.199168</td>\n",
       "      <td>0.399375</td>\n",
       "      <td>0.000000</td>\n",
       "      <td>0.000000</td>\n",
       "      <td>0.000000</td>\n",
       "      <td>0.000000</td>\n",
       "      <td>1.000000</td>\n",
       "    </tr>\n",
       "    <tr>\n",
       "      <th>Soil Type_Loamy</th>\n",
       "      <td>250000.0</td>\n",
       "      <td>0.193516</td>\n",
       "      <td>0.395055</td>\n",
       "      <td>0.000000</td>\n",
       "      <td>0.000000</td>\n",
       "      <td>0.000000</td>\n",
       "      <td>0.000000</td>\n",
       "      <td>1.000000</td>\n",
       "    </tr>\n",
       "    <tr>\n",
       "      <th>Soil Type_Red</th>\n",
       "      <td>250000.0</td>\n",
       "      <td>0.197436</td>\n",
       "      <td>0.398065</td>\n",
       "      <td>0.000000</td>\n",
       "      <td>0.000000</td>\n",
       "      <td>0.000000</td>\n",
       "      <td>0.000000</td>\n",
       "      <td>1.000000</td>\n",
       "    </tr>\n",
       "    <tr>\n",
       "      <th>Soil Type_Sandy</th>\n",
       "      <td>250000.0</td>\n",
       "      <td>0.209292</td>\n",
       "      <td>0.406804</td>\n",
       "      <td>0.000000</td>\n",
       "      <td>0.000000</td>\n",
       "      <td>0.000000</td>\n",
       "      <td>0.000000</td>\n",
       "      <td>1.000000</td>\n",
       "    </tr>\n",
       "    <tr>\n",
       "      <th>Crop Type_Barley</th>\n",
       "      <td>250000.0</td>\n",
       "      <td>0.086864</td>\n",
       "      <td>0.281636</td>\n",
       "      <td>0.000000</td>\n",
       "      <td>0.000000</td>\n",
       "      <td>0.000000</td>\n",
       "      <td>0.000000</td>\n",
       "      <td>1.000000</td>\n",
       "    </tr>\n",
       "    <tr>\n",
       "      <th>Crop Type_Cotton</th>\n",
       "      <td>250000.0</td>\n",
       "      <td>0.092364</td>\n",
       "      <td>0.289540</td>\n",
       "      <td>0.000000</td>\n",
       "      <td>0.000000</td>\n",
       "      <td>0.000000</td>\n",
       "      <td>0.000000</td>\n",
       "      <td>1.000000</td>\n",
       "    </tr>\n",
       "    <tr>\n",
       "      <th>Crop Type_Ground Nuts</th>\n",
       "      <td>250000.0</td>\n",
       "      <td>0.079728</td>\n",
       "      <td>0.270872</td>\n",
       "      <td>0.000000</td>\n",
       "      <td>0.000000</td>\n",
       "      <td>0.000000</td>\n",
       "      <td>0.000000</td>\n",
       "      <td>1.000000</td>\n",
       "    </tr>\n",
       "    <tr>\n",
       "      <th>Crop Type_Maize</th>\n",
       "      <td>250000.0</td>\n",
       "      <td>0.083612</td>\n",
       "      <td>0.276806</td>\n",
       "      <td>0.000000</td>\n",
       "      <td>0.000000</td>\n",
       "      <td>0.000000</td>\n",
       "      <td>0.000000</td>\n",
       "      <td>1.000000</td>\n",
       "    </tr>\n",
       "    <tr>\n",
       "      <th>Crop Type_Millets</th>\n",
       "      <td>250000.0</td>\n",
       "      <td>0.087556</td>\n",
       "      <td>0.282649</td>\n",
       "      <td>0.000000</td>\n",
       "      <td>0.000000</td>\n",
       "      <td>0.000000</td>\n",
       "      <td>0.000000</td>\n",
       "      <td>1.000000</td>\n",
       "    </tr>\n",
       "    <tr>\n",
       "      <th>Crop Type_Oil seeds</th>\n",
       "      <td>250000.0</td>\n",
       "      <td>0.086108</td>\n",
       "      <td>0.280524</td>\n",
       "      <td>0.000000</td>\n",
       "      <td>0.000000</td>\n",
       "      <td>0.000000</td>\n",
       "      <td>0.000000</td>\n",
       "      <td>1.000000</td>\n",
       "    </tr>\n",
       "    <tr>\n",
       "      <th>Crop Type_Paddy</th>\n",
       "      <td>250000.0</td>\n",
       "      <td>0.113328</td>\n",
       "      <td>0.316994</td>\n",
       "      <td>0.000000</td>\n",
       "      <td>0.000000</td>\n",
       "      <td>0.000000</td>\n",
       "      <td>0.000000</td>\n",
       "      <td>1.000000</td>\n",
       "    </tr>\n",
       "    <tr>\n",
       "      <th>Crop Type_Pulses</th>\n",
       "      <td>250000.0</td>\n",
       "      <td>0.104884</td>\n",
       "      <td>0.306405</td>\n",
       "      <td>0.000000</td>\n",
       "      <td>0.000000</td>\n",
       "      <td>0.000000</td>\n",
       "      <td>0.000000</td>\n",
       "      <td>1.000000</td>\n",
       "    </tr>\n",
       "    <tr>\n",
       "      <th>Crop Type_Sugarcane</th>\n",
       "      <td>250000.0</td>\n",
       "      <td>0.086268</td>\n",
       "      <td>0.280760</td>\n",
       "      <td>0.000000</td>\n",
       "      <td>0.000000</td>\n",
       "      <td>0.000000</td>\n",
       "      <td>0.000000</td>\n",
       "      <td>1.000000</td>\n",
       "    </tr>\n",
       "    <tr>\n",
       "      <th>Crop Type_Tobacco</th>\n",
       "      <td>250000.0</td>\n",
       "      <td>0.090912</td>\n",
       "      <td>0.287485</td>\n",
       "      <td>0.000000</td>\n",
       "      <td>0.000000</td>\n",
       "      <td>0.000000</td>\n",
       "      <td>0.000000</td>\n",
       "      <td>1.000000</td>\n",
       "    </tr>\n",
       "    <tr>\n",
       "      <th>Crop Type_Wheat</th>\n",
       "      <td>250000.0</td>\n",
       "      <td>0.088376</td>\n",
       "      <td>0.283842</td>\n",
       "      <td>0.000000</td>\n",
       "      <td>0.000000</td>\n",
       "      <td>0.000000</td>\n",
       "      <td>0.000000</td>\n",
       "      <td>1.000000</td>\n",
       "    </tr>\n",
       "  </tbody>\n",
       "</table>\n",
       "</div>"
      ],
      "text/plain": [
       "                          count      mean       std       min       25%  \\\n",
       "Temparature            250000.0 -0.002960  0.999633 -1.615563 -0.870328   \n",
       "Humidity               250000.0  0.000934  0.998297 -1.660563 -0.908422   \n",
       "Moisture               250000.0  0.000534  0.999880 -1.711306 -0.863459   \n",
       "Nitrogen               250000.0  0.004084  0.999986 -1.702354 -0.899938   \n",
       "Potassium              250000.0  0.001642  1.000215 -1.643934 -0.950166   \n",
       "Phosphorous            250000.0  0.003955  1.002758 -1.706773 -0.896848   \n",
       "Soil Type_Black        250000.0  0.200588  0.400441  0.000000  0.000000   \n",
       "Soil Type_Clayey       250000.0  0.199168  0.399375  0.000000  0.000000   \n",
       "Soil Type_Loamy        250000.0  0.193516  0.395055  0.000000  0.000000   \n",
       "Soil Type_Red          250000.0  0.197436  0.398065  0.000000  0.000000   \n",
       "Soil Type_Sandy        250000.0  0.209292  0.406804  0.000000  0.000000   \n",
       "Crop Type_Barley       250000.0  0.086864  0.281636  0.000000  0.000000   \n",
       "Crop Type_Cotton       250000.0  0.092364  0.289540  0.000000  0.000000   \n",
       "Crop Type_Ground Nuts  250000.0  0.079728  0.270872  0.000000  0.000000   \n",
       "Crop Type_Maize        250000.0  0.083612  0.276806  0.000000  0.000000   \n",
       "Crop Type_Millets      250000.0  0.087556  0.282649  0.000000  0.000000   \n",
       "Crop Type_Oil seeds    250000.0  0.086108  0.280524  0.000000  0.000000   \n",
       "Crop Type_Paddy        250000.0  0.113328  0.316994  0.000000  0.000000   \n",
       "Crop Type_Pulses       250000.0  0.104884  0.306405  0.000000  0.000000   \n",
       "Crop Type_Sugarcane    250000.0  0.086268  0.280760  0.000000  0.000000   \n",
       "Crop Type_Tobacco      250000.0  0.090912  0.287485  0.000000  0.000000   \n",
       "Crop Type_Wheat        250000.0  0.088376  0.283842  0.000000  0.000000   \n",
       "\n",
       "                            50%       75%       max  \n",
       "Temparature           -0.125092  0.868556  1.613792  \n",
       "Humidity              -0.005853  0.896716  1.648856  \n",
       "Moisture              -0.015613  0.832234  1.680080  \n",
       "Nitrogen              -0.008364  0.883210  1.685627  \n",
       "Potassium              0.090485  0.784253  1.651463  \n",
       "Phosphorous           -0.005931  0.884987  1.694912  \n",
       "Soil Type_Black        0.000000  0.000000  1.000000  \n",
       "Soil Type_Clayey       0.000000  0.000000  1.000000  \n",
       "Soil Type_Loamy        0.000000  0.000000  1.000000  \n",
       "Soil Type_Red          0.000000  0.000000  1.000000  \n",
       "Soil Type_Sandy        0.000000  0.000000  1.000000  \n",
       "Crop Type_Barley       0.000000  0.000000  1.000000  \n",
       "Crop Type_Cotton       0.000000  0.000000  1.000000  \n",
       "Crop Type_Ground Nuts  0.000000  0.000000  1.000000  \n",
       "Crop Type_Maize        0.000000  0.000000  1.000000  \n",
       "Crop Type_Millets      0.000000  0.000000  1.000000  \n",
       "Crop Type_Oil seeds    0.000000  0.000000  1.000000  \n",
       "Crop Type_Paddy        0.000000  0.000000  1.000000  \n",
       "Crop Type_Pulses       0.000000  0.000000  1.000000  \n",
       "Crop Type_Sugarcane    0.000000  0.000000  1.000000  \n",
       "Crop Type_Tobacco      0.000000  0.000000  1.000000  \n",
       "Crop Type_Wheat        0.000000  0.000000  1.000000  "
      ]
     },
     "execution_count": 50,
     "metadata": {},
     "output_type": "execute_result"
    }
   ],
   "source": [
    "test_end.describe().T"
   ]
  },
  {
   "cell_type": "code",
   "execution_count": 51,
   "id": "32aeedf1",
   "metadata": {
    "execution": {
     "iopub.execute_input": "2025-06-26T01:25:18.041589Z",
     "iopub.status.busy": "2025-06-26T01:25:18.041298Z",
     "iopub.status.idle": "2025-06-26T01:25:18.045420Z",
     "shell.execute_reply": "2025-06-26T01:25:18.044490Z"
    },
    "papermill": {
     "duration": 0.020735,
     "end_time": "2025-06-26T01:25:18.046878",
     "exception": false,
     "start_time": "2025-06-26T01:25:18.026143",
     "status": "completed"
    },
    "tags": []
   },
   "outputs": [],
   "source": [
    "# We remove the variables that we will not use\n",
    "\n",
    "#test_end_new = test_end.drop(columns=[])"
   ]
  },
  {
   "cell_type": "code",
   "execution_count": 52,
   "id": "35f25d99",
   "metadata": {
    "execution": {
     "iopub.execute_input": "2025-06-26T01:25:18.077744Z",
     "iopub.status.busy": "2025-06-26T01:25:18.077375Z",
     "iopub.status.idle": "2025-06-26T01:25:18.107395Z",
     "shell.execute_reply": "2025-06-26T01:25:18.105981Z"
    },
    "papermill": {
     "duration": 0.047507,
     "end_time": "2025-06-26T01:25:18.109284",
     "exception": false,
     "start_time": "2025-06-26T01:25:18.061777",
     "status": "completed"
    },
    "tags": []
   },
   "outputs": [
    {
     "name": "stdout",
     "output_type": "stream",
     "text": [
      "<class 'pandas.core.frame.DataFrame'>\n",
      "RangeIndex: 250000 entries, 0 to 249999\n",
      "Data columns (total 22 columns):\n",
      " #   Column                 Non-Null Count   Dtype  \n",
      "---  ------                 --------------   -----  \n",
      " 0   Temparature            250000 non-null  float64\n",
      " 1   Humidity               250000 non-null  float64\n",
      " 2   Moisture               250000 non-null  float64\n",
      " 3   Nitrogen               250000 non-null  float64\n",
      " 4   Potassium              250000 non-null  float64\n",
      " 5   Phosphorous            250000 non-null  float64\n",
      " 6   Soil Type_Black        250000 non-null  float64\n",
      " 7   Soil Type_Clayey       250000 non-null  float64\n",
      " 8   Soil Type_Loamy        250000 non-null  float64\n",
      " 9   Soil Type_Red          250000 non-null  float64\n",
      " 10  Soil Type_Sandy        250000 non-null  float64\n",
      " 11  Crop Type_Barley       250000 non-null  float64\n",
      " 12  Crop Type_Cotton       250000 non-null  float64\n",
      " 13  Crop Type_Ground Nuts  250000 non-null  float64\n",
      " 14  Crop Type_Maize        250000 non-null  float64\n",
      " 15  Crop Type_Millets      250000 non-null  float64\n",
      " 16  Crop Type_Oil seeds    250000 non-null  float64\n",
      " 17  Crop Type_Paddy        250000 non-null  float64\n",
      " 18  Crop Type_Pulses       250000 non-null  float64\n",
      " 19  Crop Type_Sugarcane    250000 non-null  float64\n",
      " 20  Crop Type_Tobacco      250000 non-null  float64\n",
      " 21  Crop Type_Wheat        250000 non-null  float64\n",
      "dtypes: float64(22)\n",
      "memory usage: 42.0 MB\n"
     ]
    }
   ],
   "source": [
    "test_end.info()"
   ]
  },
  {
   "cell_type": "markdown",
   "id": "c1bf289f",
   "metadata": {
    "papermill": {
     "duration": 0.01421,
     "end_time": "2025-06-26T01:25:18.138430",
     "exception": false,
     "start_time": "2025-06-26T01:25:18.124220",
     "status": "completed"
    },
    "tags": []
   },
   "source": [
    "## Apply the Model & Submission File"
   ]
  },
  {
   "cell_type": "code",
   "execution_count": 53,
   "id": "404e3ebf",
   "metadata": {
    "execution": {
     "iopub.execute_input": "2025-06-26T01:25:18.168564Z",
     "iopub.status.busy": "2025-06-26T01:25:18.168264Z",
     "iopub.status.idle": "2025-06-26T01:25:45.033545Z",
     "shell.execute_reply": "2025-06-26T01:25:45.032438Z"
    },
    "papermill": {
     "duration": 26.882355,
     "end_time": "2025-06-26T01:25:45.035367",
     "exception": false,
     "start_time": "2025-06-26T01:25:18.153012",
     "status": "completed"
    },
    "tags": []
   },
   "outputs": [],
   "source": [
    "# We apply the trained model\n",
    "\n",
    "test_pred_prob = final_model.predict_proba(test_end)\n",
    "test_top_3 = np.argsort(-test_pred_prob, axis=1)[:, :3]\n",
    "\n",
    "top_3_fertilizer_names = []\n",
    "for row_indices in test_top_3:\n",
    "    valid_indices = [idx for idx in row_indices if idx < len(le.classes_)]\n",
    "    names = le.inverse_transform(valid_indices)\n",
    "    top_3_fertilizer_names.append(names)\n",
    "\n",
    "formatted_predictions = [\" \".join(names) for names in top_3_fertilizer_names]"
   ]
  },
  {
   "cell_type": "code",
   "execution_count": 54,
   "id": "f6e2089f",
   "metadata": {
    "execution": {
     "iopub.execute_input": "2025-06-26T01:25:45.065783Z",
     "iopub.status.busy": "2025-06-26T01:25:45.065450Z",
     "iopub.status.idle": "2025-06-26T01:25:45.070533Z",
     "shell.execute_reply": "2025-06-26T01:25:45.069483Z"
    },
    "papermill": {
     "duration": 0.021737,
     "end_time": "2025-06-26T01:25:45.071957",
     "exception": false,
     "start_time": "2025-06-26T01:25:45.050220",
     "status": "completed"
    },
    "tags": []
   },
   "outputs": [
    {
     "name": "stdout",
     "output_type": "stream",
     "text": [
      "Total predictions:  250000 \n",
      "\n"
     ]
    }
   ],
   "source": [
    "# We review the result\n",
    "\n",
    "print(\"Total predictions: \", len(formatted_predictions), \"\\n\")"
   ]
  },
  {
   "cell_type": "code",
   "execution_count": 55,
   "id": "cf0f55dc",
   "metadata": {
    "execution": {
     "iopub.execute_input": "2025-06-26T01:25:45.102537Z",
     "iopub.status.busy": "2025-06-26T01:25:45.102226Z",
     "iopub.status.idle": "2025-06-26T01:25:45.132051Z",
     "shell.execute_reply": "2025-06-26T01:25:45.131149Z"
    },
    "papermill": {
     "duration": 0.046775,
     "end_time": "2025-06-26T01:25:45.133481",
     "exception": false,
     "start_time": "2025-06-26T01:25:45.086706",
     "status": "completed"
    },
    "tags": []
   },
   "outputs": [
    {
     "data": {
      "text/html": [
       "<div>\n",
       "<style scoped>\n",
       "    .dataframe tbody tr th:only-of-type {\n",
       "        vertical-align: middle;\n",
       "    }\n",
       "\n",
       "    .dataframe tbody tr th {\n",
       "        vertical-align: top;\n",
       "    }\n",
       "\n",
       "    .dataframe thead th {\n",
       "        text-align: right;\n",
       "    }\n",
       "</style>\n",
       "<table border=\"1\" class=\"dataframe\">\n",
       "  <thead>\n",
       "    <tr style=\"text-align: right;\">\n",
       "      <th></th>\n",
       "      <th>id</th>\n",
       "      <th>Fertilizer Name</th>\n",
       "    </tr>\n",
       "  </thead>\n",
       "  <tbody>\n",
       "    <tr>\n",
       "      <th>0</th>\n",
       "      <td>750000</td>\n",
       "      <td>28-28 DAP Urea</td>\n",
       "    </tr>\n",
       "    <tr>\n",
       "      <th>1</th>\n",
       "      <td>750001</td>\n",
       "      <td>17-17-17 20-20 10-26-26</td>\n",
       "    </tr>\n",
       "    <tr>\n",
       "      <th>2</th>\n",
       "      <td>750002</td>\n",
       "      <td>20-20 28-28 10-26-26</td>\n",
       "    </tr>\n",
       "    <tr>\n",
       "      <th>3</th>\n",
       "      <td>750003</td>\n",
       "      <td>14-35-14 Urea 17-17-17</td>\n",
       "    </tr>\n",
       "    <tr>\n",
       "      <th>4</th>\n",
       "      <td>750004</td>\n",
       "      <td>20-20 28-28 10-26-26</td>\n",
       "    </tr>\n",
       "  </tbody>\n",
       "</table>\n",
       "</div>"
      ],
      "text/plain": [
       "       id          Fertilizer Name\n",
       "0  750000           28-28 DAP Urea\n",
       "1  750001  17-17-17 20-20 10-26-26\n",
       "2  750002     20-20 28-28 10-26-26\n",
       "3  750003   14-35-14 Urea 17-17-17\n",
       "4  750004     20-20 28-28 10-26-26"
      ]
     },
     "execution_count": 55,
     "metadata": {},
     "output_type": "execute_result"
    }
   ],
   "source": [
    "# We create the dataframe\n",
    "\n",
    "fertilizer_submission = pd.DataFrame({\n",
    "    \"id\" : df_test[\"id\"], \n",
    "    \"Fertilizer Name\" : formatted_predictions\n",
    "})\n",
    "\n",
    "fertilizer_submission.head()"
   ]
  },
  {
   "cell_type": "code",
   "execution_count": 56,
   "id": "ee14371d",
   "metadata": {
    "execution": {
     "iopub.execute_input": "2025-06-26T01:25:45.164325Z",
     "iopub.status.busy": "2025-06-26T01:25:45.163998Z",
     "iopub.status.idle": "2025-06-26T01:25:45.170334Z",
     "shell.execute_reply": "2025-06-26T01:25:45.169443Z"
    },
    "papermill": {
     "duration": 0.02336,
     "end_time": "2025-06-26T01:25:45.171679",
     "exception": false,
     "start_time": "2025-06-26T01:25:45.148319",
     "status": "completed"
    },
    "tags": []
   },
   "outputs": [
    {
     "name": "stdout",
     "output_type": "stream",
     "text": [
      "Shape Sample Submission: (250000, 2) \n",
      "Shape Fertilizer Submission: (250000, 2)\n",
      "\n",
      "        id         Fertilizer Name\n",
      "0  750000  14-35-14 10-26-26 Urea\n",
      "1  750001  14-35-14 10-26-26 Urea\n",
      "2  750002  14-35-14 10-26-26 Urea\n",
      "3  750003  14-35-14 10-26-26 Urea\n",
      "4  750004  14-35-14 10-26-26 Urea\n"
     ]
    }
   ],
   "source": [
    "# We compare the results with the sample\n",
    "\n",
    "print(\n",
    "    f\"Shape Sample Submission: {fertilizer_sample.shape}\",\n",
    "    f\"\\nShape Fertilizer Submission: {fertilizer_submission.shape}\"\n",
    ")\n",
    "print(\"\\n\", fertilizer_sample.head())"
   ]
  },
  {
   "cell_type": "code",
   "execution_count": 57,
   "id": "e47fade2",
   "metadata": {
    "execution": {
     "iopub.execute_input": "2025-06-26T01:25:45.203018Z",
     "iopub.status.busy": "2025-06-26T01:25:45.202737Z",
     "iopub.status.idle": "2025-06-26T01:25:45.577806Z",
     "shell.execute_reply": "2025-06-26T01:25:45.576927Z"
    },
    "papermill": {
     "duration": 0.392922,
     "end_time": "2025-06-26T01:25:45.579470",
     "exception": false,
     "start_time": "2025-06-26T01:25:45.186548",
     "status": "completed"
    },
    "tags": []
   },
   "outputs": [],
   "source": [
    "# We convert the dataframe to a csv file\n",
    "\n",
    "fertilizer_submission.to_csv(\"submission.csv\", index=False)"
   ]
  }
 ],
 "metadata": {
  "kaggle": {
   "accelerator": "none",
   "dataSources": [
    {
     "databundleVersionId": 12184666,
     "sourceId": 91717,
     "sourceType": "competition"
    }
   ],
   "dockerImageVersionId": 31040,
   "isGpuEnabled": false,
   "isInternetEnabled": true,
   "language": "python",
   "sourceType": "notebook"
  },
  "kernelspec": {
   "display_name": "Python 3",
   "language": "python",
   "name": "python3"
  },
  "language_info": {
   "codemirror_mode": {
    "name": "ipython",
    "version": 3
   },
   "file_extension": ".py",
   "mimetype": "text/x-python",
   "name": "python",
   "nbconvert_exporter": "python",
   "pygments_lexer": "ipython3",
   "version": "3.11.11"
  },
  "papermill": {
   "default_parameters": {},
   "duration": 1194.939232,
   "end_time": "2025-06-26T01:25:48.215059",
   "environment_variables": {},
   "exception": null,
   "input_path": "__notebook__.ipynb",
   "output_path": "__notebook__.ipynb",
   "parameters": {},
   "start_time": "2025-06-26T01:05:53.275827",
   "version": "2.6.0"
  }
 },
 "nbformat": 4,
 "nbformat_minor": 5
}

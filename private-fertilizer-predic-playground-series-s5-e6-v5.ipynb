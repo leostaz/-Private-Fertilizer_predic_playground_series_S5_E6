{
 "cells": [
  {
   "cell_type": "markdown",
   "id": "1399cee4",
   "metadata": {
    "papermill": {
     "duration": 0.010905,
     "end_time": "2025-06-28T01:34:33.601697",
     "exception": false,
     "start_time": "2025-06-28T01:34:33.590792",
     "status": "completed"
    },
    "tags": []
   },
   "source": [
    "# Predicting Optimal Fertilizers"
   ]
  },
  {
   "cell_type": "code",
   "execution_count": 1,
   "id": "f86cd74a",
   "metadata": {
    "_cell_guid": "b1076dfc-b9ad-4769-8c92-a6c4dae69d19",
    "_uuid": "8f2839f25d086af736a60e9eeb907d3b93b6e0e5",
    "execution": {
     "iopub.execute_input": "2025-06-28T01:34:33.622145Z",
     "iopub.status.busy": "2025-06-28T01:34:33.621889Z",
     "iopub.status.idle": "2025-06-28T01:34:33.632875Z",
     "shell.execute_reply": "2025-06-28T01:34:33.632436Z"
    },
    "papermill": {
     "duration": 0.022858,
     "end_time": "2025-06-28T01:34:33.634053",
     "exception": false,
     "start_time": "2025-06-28T01:34:33.611195",
     "status": "completed"
    },
    "tags": []
   },
   "outputs": [
    {
     "name": "stdout",
     "output_type": "stream",
     "text": [
      "/kaggle/input/playground-series-s5e6/sample_submission.csv\n",
      "/kaggle/input/playground-series-s5e6/train.csv\n",
      "/kaggle/input/playground-series-s5e6/test.csv\n"
     ]
    }
   ],
   "source": [
    "import os\n",
    "for dirname, _, filenames in os.walk('/kaggle/input'):\n",
    "    for filename in filenames:\n",
    "        print(os.path.join(dirname, filename))\n",
    "\n",
    "import warnings\n",
    "warnings.filterwarnings(\"ignore\")"
   ]
  },
  {
   "cell_type": "markdown",
   "id": "ffc9c8a3",
   "metadata": {
    "papermill": {
     "duration": 0.013694,
     "end_time": "2025-06-28T01:34:33.663681",
     "exception": false,
     "start_time": "2025-06-28T01:34:33.649987",
     "status": "completed"
    },
    "tags": []
   },
   "source": [
    "Private-fertilizer-predic-playground-series-s5-e6 Version 1 notebook Full EDA\n",
    "\n",
    "Public notebook: https://www.kaggle.com/code/les1781/optimal-fertilizer-predict-playground-series-s5-e6"
   ]
  },
  {
   "cell_type": "markdown",
   "id": "cf3ceaf2",
   "metadata": {
    "papermill": {
     "duration": 0.009079,
     "end_time": "2025-06-28T01:34:33.682096",
     "exception": false,
     "start_time": "2025-06-28T01:34:33.673017",
     "status": "completed"
    },
    "tags": []
   },
   "source": [
    "# Libraries"
   ]
  },
  {
   "cell_type": "code",
   "execution_count": 2,
   "id": "ab93c1c0",
   "metadata": {
    "execution": {
     "iopub.execute_input": "2025-06-28T01:34:33.703734Z",
     "iopub.status.busy": "2025-06-28T01:34:33.703135Z",
     "iopub.status.idle": "2025-06-28T01:34:41.159307Z",
     "shell.execute_reply": "2025-06-28T01:34:41.158757Z"
    },
    "papermill": {
     "duration": 7.469128,
     "end_time": "2025-06-28T01:34:41.160520",
     "exception": false,
     "start_time": "2025-06-28T01:34:33.691392",
     "status": "completed"
    },
    "tags": []
   },
   "outputs": [],
   "source": [
    "import numpy as np\n",
    "import pandas as pd\n",
    "import matplotlib as mpl\n",
    "import matplotlib.pyplot as plt\n",
    "import seaborn as sns\n",
    "\n",
    "from sklearn.preprocessing import (\n",
    "    LabelEncoder,    \n",
    "    OneHotEncoder,\n",
    "    StandardScaler\n",
    ")\n",
    "from sklearn.feature_selection import mutual_info_classif\n",
    "from sklearn.model_selection import train_test_split, StratifiedKFold\n",
    "from sklearn.metrics import (\n",
    "    confusion_matrix, \n",
    "    classification_report, \n",
    "    f1_score, \n",
    "    accuracy_score,\n",
    "    make_scorer\n",
    ")\n",
    "from sklearn.linear_model import LogisticRegression\n",
    "from xgboost import XGBClassifier\n",
    "from lightgbm import LGBMClassifier\n",
    "from catboost import CatBoostClassifier\n",
    "from sklearn.ensemble import AdaBoostClassifier, VotingClassifier, StackingClassifier\n",
    "from sklearn.inspection import permutation_importance"
   ]
  },
  {
   "cell_type": "markdown",
   "id": "7c8b32a4",
   "metadata": {
    "papermill": {
     "duration": 0.009505,
     "end_time": "2025-06-28T01:34:41.180114",
     "exception": false,
     "start_time": "2025-06-28T01:34:41.170609",
     "status": "completed"
    },
    "tags": []
   },
   "source": [
    "# Initial analysis"
   ]
  },
  {
   "cell_type": "code",
   "execution_count": 3,
   "id": "35bd6159",
   "metadata": {
    "execution": {
     "iopub.execute_input": "2025-06-28T01:34:41.201459Z",
     "iopub.status.busy": "2025-06-28T01:34:41.200654Z",
     "iopub.status.idle": "2025-06-28T01:34:41.956816Z",
     "shell.execute_reply": "2025-06-28T01:34:41.956095Z"
    },
    "papermill": {
     "duration": 0.768506,
     "end_time": "2025-06-28T01:34:41.958043",
     "exception": false,
     "start_time": "2025-06-28T01:34:41.189537",
     "status": "completed"
    },
    "tags": []
   },
   "outputs": [],
   "source": [
    "# We load the data\n",
    "\n",
    "fertilizers_train = pd.read_csv(\"/kaggle/input/playground-series-s5e6/train.csv\", index_col=\"id\")"
   ]
  },
  {
   "cell_type": "code",
   "execution_count": 4,
   "id": "24c820cc",
   "metadata": {
    "execution": {
     "iopub.execute_input": "2025-06-28T01:34:41.979088Z",
     "iopub.status.busy": "2025-06-28T01:34:41.978852Z",
     "iopub.status.idle": "2025-06-28T01:34:42.093527Z",
     "shell.execute_reply": "2025-06-28T01:34:42.092999Z"
    },
    "papermill": {
     "duration": 0.126051,
     "end_time": "2025-06-28T01:34:42.094432",
     "exception": false,
     "start_time": "2025-06-28T01:34:41.968381",
     "status": "completed"
    },
    "tags": []
   },
   "outputs": [
    {
     "data": {
      "text/html": [
       "<div>\n",
       "<style scoped>\n",
       "    .dataframe tbody tr th:only-of-type {\n",
       "        vertical-align: middle;\n",
       "    }\n",
       "\n",
       "    .dataframe tbody tr th {\n",
       "        vertical-align: top;\n",
       "    }\n",
       "\n",
       "    .dataframe thead th {\n",
       "        text-align: right;\n",
       "    }\n",
       "</style>\n",
       "<table border=\"1\" class=\"dataframe\">\n",
       "  <thead>\n",
       "    <tr style=\"text-align: right;\">\n",
       "      <th></th>\n",
       "      <th>count</th>\n",
       "      <th>mean</th>\n",
       "      <th>std</th>\n",
       "      <th>min</th>\n",
       "      <th>25%</th>\n",
       "      <th>50%</th>\n",
       "      <th>75%</th>\n",
       "      <th>max</th>\n",
       "    </tr>\n",
       "  </thead>\n",
       "  <tbody>\n",
       "    <tr>\n",
       "      <th>Temparature</th>\n",
       "      <td>750000.0</td>\n",
       "      <td>31.503565</td>\n",
       "      <td>4.025574</td>\n",
       "      <td>25.0</td>\n",
       "      <td>28.0</td>\n",
       "      <td>32.0</td>\n",
       "      <td>35.0</td>\n",
       "      <td>38.0</td>\n",
       "    </tr>\n",
       "    <tr>\n",
       "      <th>Humidity</th>\n",
       "      <td>750000.0</td>\n",
       "      <td>61.038912</td>\n",
       "      <td>6.647695</td>\n",
       "      <td>50.0</td>\n",
       "      <td>55.0</td>\n",
       "      <td>61.0</td>\n",
       "      <td>67.0</td>\n",
       "      <td>72.0</td>\n",
       "    </tr>\n",
       "    <tr>\n",
       "      <th>Moisture</th>\n",
       "      <td>750000.0</td>\n",
       "      <td>45.184147</td>\n",
       "      <td>11.794594</td>\n",
       "      <td>25.0</td>\n",
       "      <td>35.0</td>\n",
       "      <td>45.0</td>\n",
       "      <td>55.0</td>\n",
       "      <td>65.0</td>\n",
       "    </tr>\n",
       "    <tr>\n",
       "      <th>Nitrogen</th>\n",
       "      <td>750000.0</td>\n",
       "      <td>23.093808</td>\n",
       "      <td>11.216125</td>\n",
       "      <td>4.0</td>\n",
       "      <td>13.0</td>\n",
       "      <td>23.0</td>\n",
       "      <td>33.0</td>\n",
       "      <td>42.0</td>\n",
       "    </tr>\n",
       "    <tr>\n",
       "      <th>Potassium</th>\n",
       "      <td>750000.0</td>\n",
       "      <td>9.478296</td>\n",
       "      <td>5.765622</td>\n",
       "      <td>0.0</td>\n",
       "      <td>4.0</td>\n",
       "      <td>9.0</td>\n",
       "      <td>14.0</td>\n",
       "      <td>19.0</td>\n",
       "    </tr>\n",
       "    <tr>\n",
       "      <th>Phosphorous</th>\n",
       "      <td>750000.0</td>\n",
       "      <td>21.073227</td>\n",
       "      <td>12.346831</td>\n",
       "      <td>0.0</td>\n",
       "      <td>10.0</td>\n",
       "      <td>21.0</td>\n",
       "      <td>32.0</td>\n",
       "      <td>42.0</td>\n",
       "    </tr>\n",
       "  </tbody>\n",
       "</table>\n",
       "</div>"
      ],
      "text/plain": [
       "                count       mean        std   min   25%   50%   75%   max\n",
       "Temparature  750000.0  31.503565   4.025574  25.0  28.0  32.0  35.0  38.0\n",
       "Humidity     750000.0  61.038912   6.647695  50.0  55.0  61.0  67.0  72.0\n",
       "Moisture     750000.0  45.184147  11.794594  25.0  35.0  45.0  55.0  65.0\n",
       "Nitrogen     750000.0  23.093808  11.216125   4.0  13.0  23.0  33.0  42.0\n",
       "Potassium    750000.0   9.478296   5.765622   0.0   4.0   9.0  14.0  19.0\n",
       "Phosphorous  750000.0  21.073227  12.346831   0.0  10.0  21.0  32.0  42.0"
      ]
     },
     "execution_count": 4,
     "metadata": {},
     "output_type": "execute_result"
    }
   ],
   "source": [
    "fertilizers_train.describe().T"
   ]
  },
  {
   "cell_type": "code",
   "execution_count": 5,
   "id": "6599d474",
   "metadata": {
    "execution": {
     "iopub.execute_input": "2025-06-28T01:34:42.152968Z",
     "iopub.status.busy": "2025-06-28T01:34:42.152748Z",
     "iopub.status.idle": "2025-06-28T01:34:42.248004Z",
     "shell.execute_reply": "2025-06-28T01:34:42.247014Z"
    },
    "papermill": {
     "duration": 0.107116,
     "end_time": "2025-06-28T01:34:42.249304",
     "exception": false,
     "start_time": "2025-06-28T01:34:42.142188",
     "status": "completed"
    },
    "tags": []
   },
   "outputs": [
    {
     "name": "stdout",
     "output_type": "stream",
     "text": [
      "<class 'pandas.core.frame.DataFrame'>\n",
      "Index: 750000 entries, 0 to 749999\n",
      "Data columns (total 9 columns):\n",
      " #   Column           Non-Null Count   Dtype \n",
      "---  ------           --------------   ----- \n",
      " 0   Temparature      750000 non-null  int64 \n",
      " 1   Humidity         750000 non-null  int64 \n",
      " 2   Moisture         750000 non-null  int64 \n",
      " 3   Soil Type        750000 non-null  object\n",
      " 4   Crop Type        750000 non-null  object\n",
      " 5   Nitrogen         750000 non-null  int64 \n",
      " 6   Potassium        750000 non-null  int64 \n",
      " 7   Phosphorous      750000 non-null  int64 \n",
      " 8   Fertilizer Name  750000 non-null  object\n",
      "dtypes: int64(6), object(3)\n",
      "memory usage: 57.2+ MB\n"
     ]
    }
   ],
   "source": [
    "fertilizers_train.info()"
   ]
  },
  {
   "cell_type": "markdown",
   "id": "1f745602",
   "metadata": {
    "papermill": {
     "duration": 0.009347,
     "end_time": "2025-06-28T01:34:42.268899",
     "exception": false,
     "start_time": "2025-06-28T01:34:42.259552",
     "status": "completed"
    },
    "tags": []
   },
   "source": [
    "# Data wrangling"
   ]
  },
  {
   "cell_type": "code",
   "execution_count": 6,
   "id": "c5ea4ca7",
   "metadata": {
    "execution": {
     "iopub.execute_input": "2025-06-28T01:34:42.291094Z",
     "iopub.status.busy": "2025-06-28T01:34:42.290837Z",
     "iopub.status.idle": "2025-06-28T01:34:42.304822Z",
     "shell.execute_reply": "2025-06-28T01:34:42.304282Z"
    },
    "papermill": {
     "duration": 0.027522,
     "end_time": "2025-06-28T01:34:42.305976",
     "exception": false,
     "start_time": "2025-06-28T01:34:42.278454",
     "status": "completed"
    },
    "tags": []
   },
   "outputs": [],
   "source": [
    "# We make a copy of the original dataset\n",
    "\n",
    "fertilizers_new = fertilizers_train.copy()"
   ]
  },
  {
   "cell_type": "code",
   "execution_count": 7,
   "id": "f0b575c4",
   "metadata": {
    "execution": {
     "iopub.execute_input": "2025-06-28T01:34:42.326629Z",
     "iopub.status.busy": "2025-06-28T01:34:42.326429Z",
     "iopub.status.idle": "2025-06-28T01:34:42.495541Z",
     "shell.execute_reply": "2025-06-28T01:34:42.494877Z"
    },
    "papermill": {
     "duration": 0.180281,
     "end_time": "2025-06-28T01:34:42.496586",
     "exception": false,
     "start_time": "2025-06-28T01:34:42.316305",
     "status": "completed"
    },
    "tags": []
   },
   "outputs": [
    {
     "data": {
      "text/html": [
       "<div>\n",
       "<style scoped>\n",
       "    .dataframe tbody tr th:only-of-type {\n",
       "        vertical-align: middle;\n",
       "    }\n",
       "\n",
       "    .dataframe tbody tr th {\n",
       "        vertical-align: top;\n",
       "    }\n",
       "\n",
       "    .dataframe thead th {\n",
       "        text-align: right;\n",
       "    }\n",
       "</style>\n",
       "<table border=\"1\" class=\"dataframe\">\n",
       "  <thead>\n",
       "    <tr style=\"text-align: right;\">\n",
       "      <th></th>\n",
       "      <th>Null Data</th>\n",
       "      <th>Percentage</th>\n",
       "    </tr>\n",
       "  </thead>\n",
       "  <tbody>\n",
       "    <tr>\n",
       "      <th>Temparature</th>\n",
       "      <td>0</td>\n",
       "      <td>0.0</td>\n",
       "    </tr>\n",
       "    <tr>\n",
       "      <th>Humidity</th>\n",
       "      <td>0</td>\n",
       "      <td>0.0</td>\n",
       "    </tr>\n",
       "    <tr>\n",
       "      <th>Moisture</th>\n",
       "      <td>0</td>\n",
       "      <td>0.0</td>\n",
       "    </tr>\n",
       "    <tr>\n",
       "      <th>Soil Type</th>\n",
       "      <td>0</td>\n",
       "      <td>0.0</td>\n",
       "    </tr>\n",
       "    <tr>\n",
       "      <th>Crop Type</th>\n",
       "      <td>0</td>\n",
       "      <td>0.0</td>\n",
       "    </tr>\n",
       "    <tr>\n",
       "      <th>Nitrogen</th>\n",
       "      <td>0</td>\n",
       "      <td>0.0</td>\n",
       "    </tr>\n",
       "    <tr>\n",
       "      <th>Potassium</th>\n",
       "      <td>0</td>\n",
       "      <td>0.0</td>\n",
       "    </tr>\n",
       "    <tr>\n",
       "      <th>Phosphorous</th>\n",
       "      <td>0</td>\n",
       "      <td>0.0</td>\n",
       "    </tr>\n",
       "    <tr>\n",
       "      <th>Fertilizer Name</th>\n",
       "      <td>0</td>\n",
       "      <td>0.0</td>\n",
       "    </tr>\n",
       "  </tbody>\n",
       "</table>\n",
       "</div>"
      ],
      "text/plain": [
       "                 Null Data  Percentage\n",
       "Temparature              0         0.0\n",
       "Humidity                 0         0.0\n",
       "Moisture                 0         0.0\n",
       "Soil Type                0         0.0\n",
       "Crop Type                0         0.0\n",
       "Nitrogen                 0         0.0\n",
       "Potassium                0         0.0\n",
       "Phosphorous              0         0.0\n",
       "Fertilizer Name          0         0.0"
      ]
     },
     "execution_count": 7,
     "metadata": {},
     "output_type": "execute_result"
    }
   ],
   "source": [
    "# We confirm that there is no null values\n",
    "\n",
    "null_values = pd.DataFrame(\n",
    "        {f\"Null Data\" : fertilizers_new.isnull().sum(), \n",
    "         \"Percentage\" : (fertilizers_new.isnull().sum()) / (len(fertilizers_new)) * (100)})\n",
    "\n",
    "null_values"
   ]
  },
  {
   "cell_type": "code",
   "execution_count": 8,
   "id": "2b8bf744",
   "metadata": {
    "execution": {
     "iopub.execute_input": "2025-06-28T01:34:42.517800Z",
     "iopub.status.busy": "2025-06-28T01:34:42.517578Z",
     "iopub.status.idle": "2025-06-28T01:34:42.851467Z",
     "shell.execute_reply": "2025-06-28T01:34:42.850685Z"
    },
    "papermill": {
     "duration": 0.345445,
     "end_time": "2025-06-28T01:34:42.852532",
     "exception": false,
     "start_time": "2025-06-28T01:34:42.507087",
     "status": "completed"
    },
    "tags": []
   },
   "outputs": [
    {
     "name": "stdout",
     "output_type": "stream",
     "text": [
      "Length: 750000\n",
      "Duplicates: 0\n"
     ]
    }
   ],
   "source": [
    "# We check the duplicate data found\n",
    "\n",
    "print(f\"Length: {len(fertilizers_new.duplicated())}\")\n",
    "print(f\"Duplicates: {fertilizers_new.duplicated().sum()}\")"
   ]
  },
  {
   "cell_type": "code",
   "execution_count": 9,
   "id": "c87c1a67",
   "metadata": {
    "execution": {
     "iopub.execute_input": "2025-06-28T01:34:42.873844Z",
     "iopub.status.busy": "2025-06-28T01:34:42.873600Z",
     "iopub.status.idle": "2025-06-28T01:34:42.877506Z",
     "shell.execute_reply": "2025-06-28T01:34:42.877004Z"
    },
    "papermill": {
     "duration": 0.015172,
     "end_time": "2025-06-28T01:34:42.878323",
     "exception": false,
     "start_time": "2025-06-28T01:34:42.863151",
     "status": "completed"
    },
    "tags": []
   },
   "outputs": [
    {
     "data": {
      "text/plain": [
       "'\\neval_out = sns.PairGrid(fertilizers_new, palette=sns.light_palette(\"seagreen\"))\\neval_out.map(sns.boxplot)\\neval_out.tick_params(axis=\"both\", labelbottom=False)\\n'"
      ]
     },
     "execution_count": 9,
     "metadata": {},
     "output_type": "execute_result"
    }
   ],
   "source": [
    "'''\n",
    "eval_out = sns.PairGrid(fertilizers_new, palette=sns.light_palette(\"seagreen\"))\n",
    "eval_out.map(sns.boxplot)\n",
    "eval_out.tick_params(axis=\"both\", labelbottom=False)\n",
    "'''"
   ]
  },
  {
   "cell_type": "markdown",
   "id": "d4ce9f7f",
   "metadata": {
    "papermill": {
     "duration": 0.009599,
     "end_time": "2025-06-28T01:34:42.897685",
     "exception": false,
     "start_time": "2025-06-28T01:34:42.888086",
     "status": "completed"
    },
    "tags": []
   },
   "source": [
    "# Data Preprocessing"
   ]
  },
  {
   "cell_type": "code",
   "execution_count": 10,
   "id": "4de12cdf",
   "metadata": {
    "execution": {
     "iopub.execute_input": "2025-06-28T01:34:42.917814Z",
     "iopub.status.busy": "2025-06-28T01:34:42.917616Z",
     "iopub.status.idle": "2025-06-28T01:34:42.937676Z",
     "shell.execute_reply": "2025-06-28T01:34:42.937149Z"
    },
    "papermill": {
     "duration": 0.031361,
     "end_time": "2025-06-28T01:34:42.938796",
     "exception": false,
     "start_time": "2025-06-28T01:34:42.907435",
     "status": "completed"
    },
    "tags": []
   },
   "outputs": [],
   "source": [
    "fertilizers_end = fertilizers_new.copy()"
   ]
  },
  {
   "cell_type": "markdown",
   "id": "28ee156a",
   "metadata": {
    "papermill": {
     "duration": 0.009717,
     "end_time": "2025-06-28T01:34:42.959787",
     "exception": false,
     "start_time": "2025-06-28T01:34:42.950070",
     "status": "completed"
    },
    "tags": []
   },
   "source": [
    "## Feature Engineering"
   ]
  },
  {
   "cell_type": "code",
   "execution_count": 11,
   "id": "ad981a61",
   "metadata": {
    "execution": {
     "iopub.execute_input": "2025-06-28T01:34:42.979908Z",
     "iopub.status.busy": "2025-06-28T01:34:42.979704Z",
     "iopub.status.idle": "2025-06-28T01:34:43.063633Z",
     "shell.execute_reply": "2025-06-28T01:34:43.063105Z"
    },
    "papermill": {
     "duration": 0.095396,
     "end_time": "2025-06-28T01:34:43.064842",
     "exception": false,
     "start_time": "2025-06-28T01:34:42.969446",
     "status": "completed"
    },
    "tags": []
   },
   "outputs": [],
   "source": [
    "# We separate the climate variables into bins\n",
    "\n",
    "bins_tem = [0.0, 29.0, 33.0, 39.0]\n",
    "bins_hum = [0.0, 57.0, 65.0, 73.0]\n",
    "bins_moi = [0.0, 36.0, 51.0, 66.0]\n",
    "\n",
    "# Specify bin labels\n",
    "\n",
    "labels_climate = [\"Low\", \"Medium\", \"High\"]\n",
    "\n",
    "# We create the new features\n",
    "\n",
    "fertilizers_end[\"Temparature_Bins\"] = pd.cut(fertilizers_end[\"Temparature\"], bins_tem, labels=labels_climate)\n",
    "fertilizers_end[\"Humidity_Bins\"] = pd.cut(fertilizers_end[\"Humidity\"], bins_hum, labels=labels_climate)\n",
    "fertilizers_end[\"Moisture_Bins\"] = pd.cut(fertilizers_end[\"Moisture\"], bins_moi, labels=labels_climate)\n",
    "\n",
    "# We separate the elements variables into bins\n",
    "\n",
    "bins_n = [0.0, 15.0, 30.0, 43.0]\n",
    "bins_k = [-0.1, 6.0, 12.0, 20.0]\n",
    "bins_p = [-0.1, 15.0, 30.0, 43.0]\n",
    "\n",
    "# Specify bin labels\n",
    "\n",
    "labels_elements = [\"Small\", \"Medium\", \"Large\"]\n",
    "\n",
    "# We create the new features\n",
    "\n",
    "fertilizers_end[\"Nitrogen_Bins\"] = pd.cut(fertilizers_end[\"Nitrogen\"], bins_n, labels=labels_elements)\n",
    "fertilizers_end[\"Potassium_Bins\"] = pd.cut(fertilizers_end[\"Potassium\"], bins_k, labels=labels_elements)\n",
    "fertilizers_end[\"Phosphorous_Bins\"] = pd.cut(fertilizers_end[\"Phosphorous\"], bins_p, labels=labels_elements)"
   ]
  },
  {
   "cell_type": "code",
   "execution_count": 12,
   "id": "2a2c0516",
   "metadata": {
    "execution": {
     "iopub.execute_input": "2025-06-28T01:34:43.085967Z",
     "iopub.status.busy": "2025-06-28T01:34:43.085786Z",
     "iopub.status.idle": "2025-06-28T01:34:43.181667Z",
     "shell.execute_reply": "2025-06-28T01:34:43.181026Z"
    },
    "papermill": {
     "duration": 0.107451,
     "end_time": "2025-06-28T01:34:43.182904",
     "exception": false,
     "start_time": "2025-06-28T01:34:43.075453",
     "status": "completed"
    },
    "tags": []
   },
   "outputs": [],
   "source": [
    "# Polynomial / transforms\n",
    "\n",
    "fertilizers_end[\"tem_log\"] = np.log1p(fertilizers_end[\"Temparature\"])\n",
    "fertilizers_end[\"tem_sq\"]  = fertilizers_end[\"Temparature\"] ** 2\n",
    "fertilizers_end[\"tem_cubert\"] = np.cbrt(fertilizers_end[\"Temparature\"])\n",
    "\n",
    "fertilizers_end[\"hum_log\"] = np.log1p(fertilizers_end[\"Humidity\"])\n",
    "fertilizers_end[\"hum_sq\"]  = fertilizers_end[\"Humidity\"] ** 2\n",
    "fertilizers_end[\"hum_cubert\"] = np.cbrt(fertilizers_end[\"Humidity\"])\n",
    "\n",
    "fertilizers_end[\"moi_log\"] = np.log1p(fertilizers_end[\"Moisture\"])\n",
    "fertilizers_end[\"moi_sq\"]  = fertilizers_end[\"Moisture\"] ** 2\n",
    "fertilizers_end[\"moi_cubert\"] = np.cbrt(fertilizers_end[\"Moisture\"])\n",
    "\n",
    "fertilizers_end[\"n_log\"] = np.log1p(fertilizers_end[\"Nitrogen\"])\n",
    "fertilizers_end[\"n_sq\"]  = fertilizers_end[\"Nitrogen\"] ** 2\n",
    "fertilizers_end[\"n_cubert\"] = np.cbrt(fertilizers_end[\"Nitrogen\"])\n",
    "\n",
    "fertilizers_end[\"k_log\"] = np.log1p(fertilizers_end[\"Potassium\"])\n",
    "fertilizers_end[\"k_sq\"]  = fertilizers_end[\"Potassium\"] ** 2\n",
    "fertilizers_end[\"k_cubert\"] = np.cbrt(fertilizers_end[\"Potassium\"])\n",
    "\n",
    "fertilizers_end[\"p_log\"] = np.log1p(fertilizers_end[\"Phosphorous\"])\n",
    "fertilizers_end[\"p_sq\"]  = fertilizers_end[\"Phosphorous\"] ** 2\n",
    "fertilizers_end[\"p_cubert\"] = np.cbrt(fertilizers_end[\"Phosphorous\"])"
   ]
  },
  {
   "cell_type": "code",
   "execution_count": 13,
   "id": "3fdc3d7a",
   "metadata": {
    "execution": {
     "iopub.execute_input": "2025-06-28T01:34:43.209745Z",
     "iopub.status.busy": "2025-06-28T01:34:43.209543Z",
     "iopub.status.idle": "2025-06-28T01:34:43.338588Z",
     "shell.execute_reply": "2025-06-28T01:34:43.337848Z"
    },
    "papermill": {
     "duration": 0.142447,
     "end_time": "2025-06-28T01:34:43.339655",
     "exception": false,
     "start_time": "2025-06-28T01:34:43.197208",
     "status": "completed"
    },
    "tags": []
   },
   "outputs": [
    {
     "name": "stdout",
     "output_type": "stream",
     "text": [
      "<class 'pandas.core.frame.DataFrame'>\n",
      "Index: 750000 entries, 0 to 749999\n",
      "Data columns (total 33 columns):\n",
      " #   Column            Non-Null Count   Dtype   \n",
      "---  ------            --------------   -----   \n",
      " 0   Temparature       750000 non-null  int64   \n",
      " 1   Humidity          750000 non-null  int64   \n",
      " 2   Moisture          750000 non-null  int64   \n",
      " 3   Soil Type         750000 non-null  object  \n",
      " 4   Crop Type         750000 non-null  object  \n",
      " 5   Nitrogen          750000 non-null  int64   \n",
      " 6   Potassium         750000 non-null  int64   \n",
      " 7   Phosphorous       750000 non-null  int64   \n",
      " 8   Fertilizer Name   750000 non-null  object  \n",
      " 9   Temparature_Bins  750000 non-null  category\n",
      " 10  Humidity_Bins     750000 non-null  category\n",
      " 11  Moisture_Bins     750000 non-null  category\n",
      " 12  Nitrogen_Bins     750000 non-null  category\n",
      " 13  Potassium_Bins    750000 non-null  category\n",
      " 14  Phosphorous_Bins  750000 non-null  category\n",
      " 15  tem_log           750000 non-null  float64 \n",
      " 16  tem_sq            750000 non-null  int64   \n",
      " 17  tem_cubert        750000 non-null  float64 \n",
      " 18  hum_log           750000 non-null  float64 \n",
      " 19  hum_sq            750000 non-null  int64   \n",
      " 20  hum_cubert        750000 non-null  float64 \n",
      " 21  moi_log           750000 non-null  float64 \n",
      " 22  moi_sq            750000 non-null  int64   \n",
      " 23  moi_cubert        750000 non-null  float64 \n",
      " 24  n_log             750000 non-null  float64 \n",
      " 25  n_sq              750000 non-null  int64   \n",
      " 26  n_cubert          750000 non-null  float64 \n",
      " 27  k_log             750000 non-null  float64 \n",
      " 28  k_sq              750000 non-null  int64   \n",
      " 29  k_cubert          750000 non-null  float64 \n",
      " 30  p_log             750000 non-null  float64 \n",
      " 31  p_sq              750000 non-null  int64   \n",
      " 32  p_cubert          750000 non-null  float64 \n",
      "dtypes: category(6), float64(12), int64(12), object(3)\n",
      "memory usage: 164.5+ MB\n"
     ]
    }
   ],
   "source": [
    "fertilizers_end.info()"
   ]
  },
  {
   "cell_type": "markdown",
   "id": "26ce66e0",
   "metadata": {
    "papermill": {
     "duration": 0.00982,
     "end_time": "2025-06-28T01:34:43.359908",
     "exception": false,
     "start_time": "2025-06-28T01:34:43.350088",
     "status": "completed"
    },
    "tags": []
   },
   "source": [
    "## Encoding"
   ]
  },
  {
   "cell_type": "code",
   "execution_count": 14,
   "id": "ac3dd325",
   "metadata": {
    "execution": {
     "iopub.execute_input": "2025-06-28T01:34:43.381096Z",
     "iopub.status.busy": "2025-06-28T01:34:43.380862Z",
     "iopub.status.idle": "2025-06-28T01:34:43.477877Z",
     "shell.execute_reply": "2025-06-28T01:34:43.477268Z"
    },
    "papermill": {
     "duration": 0.109186,
     "end_time": "2025-06-28T01:34:43.479006",
     "exception": false,
     "start_time": "2025-06-28T01:34:43.369820",
     "status": "completed"
    },
    "tags": []
   },
   "outputs": [],
   "source": [
    "# We apply LabelEncoder to the target variable\n",
    "\n",
    "le = LabelEncoder()\n",
    "\n",
    "fertilizers_end[\"Fertilizer Name\"] = le.fit_transform(fertilizers_end[\"Fertilizer Name\"])"
   ]
  },
  {
   "cell_type": "code",
   "execution_count": 15,
   "id": "5d4cc2e1",
   "metadata": {
    "execution": {
     "iopub.execute_input": "2025-06-28T01:34:43.499868Z",
     "iopub.status.busy": "2025-06-28T01:34:43.499655Z",
     "iopub.status.idle": "2025-06-28T01:34:43.502474Z",
     "shell.execute_reply": "2025-06-28T01:34:43.501943Z"
    },
    "papermill": {
     "duration": 0.013928,
     "end_time": "2025-06-28T01:34:43.503306",
     "exception": false,
     "start_time": "2025-06-28T01:34:43.489378",
     "status": "completed"
    },
    "tags": []
   },
   "outputs": [],
   "source": [
    "le_values = le.classes_"
   ]
  },
  {
   "cell_type": "code",
   "execution_count": 16,
   "id": "b1a00af8",
   "metadata": {
    "execution": {
     "iopub.execute_input": "2025-06-28T01:34:43.523599Z",
     "iopub.status.busy": "2025-06-28T01:34:43.523406Z",
     "iopub.status.idle": "2025-06-28T01:34:44.170321Z",
     "shell.execute_reply": "2025-06-28T01:34:44.169760Z"
    },
    "papermill": {
     "duration": 0.65822,
     "end_time": "2025-06-28T01:34:44.171483",
     "exception": false,
     "start_time": "2025-06-28T01:34:43.513263",
     "status": "completed"
    },
    "tags": []
   },
   "outputs": [],
   "source": [
    "# We create a df with the encoded categorical variables\n",
    "\n",
    "cat_cols = fertilizers_end[[\"Soil Type\", \"Crop Type\"]]\n",
    "rest_cols = fertilizers_end.drop(columns=[\"Soil Type\", \"Crop Type\"])\n",
    "encoder = OneHotEncoder(sparse=False, drop=\"if_binary\").set_output(transform=\"pandas\")\n",
    "cat_enc = encoder.fit_transform(cat_cols)\n",
    "df_encoded = pd.concat([rest_cols, cat_enc], axis=1)"
   ]
  },
  {
   "cell_type": "code",
   "execution_count": 17,
   "id": "601e410d",
   "metadata": {
    "execution": {
     "iopub.execute_input": "2025-06-28T01:34:44.193145Z",
     "iopub.status.busy": "2025-06-28T01:34:44.192923Z",
     "iopub.status.idle": "2025-06-28T01:34:44.196516Z",
     "shell.execute_reply": "2025-06-28T01:34:44.195987Z"
    },
    "papermill": {
     "duration": 0.015496,
     "end_time": "2025-06-28T01:34:44.197517",
     "exception": false,
     "start_time": "2025-06-28T01:34:44.182021",
     "status": "completed"
    },
    "tags": []
   },
   "outputs": [],
   "source": [
    "# We create a useful function\n",
    "\n",
    "def mapper(data, column, order):\n",
    "    \n",
    "    data[column] = data[column].map(order)\n",
    "    data[column] = data[column].astype(\"float64\")\n",
    "\n",
    "    print(data[column].value_counts())"
   ]
  },
  {
   "cell_type": "code",
   "execution_count": 18,
   "id": "c08229b7",
   "metadata": {
    "execution": {
     "iopub.execute_input": "2025-06-28T01:34:44.219352Z",
     "iopub.status.busy": "2025-06-28T01:34:44.219142Z",
     "iopub.status.idle": "2025-06-28T01:34:44.296963Z",
     "shell.execute_reply": "2025-06-28T01:34:44.296270Z"
    },
    "papermill": {
     "duration": 0.089077,
     "end_time": "2025-06-28T01:34:44.297952",
     "exception": false,
     "start_time": "2025-06-28T01:34:44.208875",
     "status": "completed"
    },
    "tags": []
   },
   "outputs": [
    {
     "name": "stdout",
     "output_type": "stream",
     "text": [
      "Temparature_Bins\n",
      "2.0    268332\n",
      "0.0    267043\n",
      "1.0    214625\n",
      "Name: count, dtype: int64\n",
      "Humidity_Bins\n",
      "0.0    260326\n",
      "1.0    259289\n",
      "2.0    230385\n",
      "Name: count, dtype: int64\n",
      "Moisture_Bins\n",
      "1.0    276824\n",
      "2.0    259353\n",
      "0.0    213823\n",
      "Name: count, dtype: int64\n",
      "Nitrogen_Bins\n",
      "1.0    292080\n",
      "2.0    231010\n",
      "0.0    226910\n",
      "Name: count, dtype: int64\n",
      "Potassium_Bins\n",
      "0.0    262455\n",
      "2.0    262427\n",
      "1.0    225118\n",
      "Name: count, dtype: int64\n",
      "Phosphorous_Bins\n",
      "0.0    275369\n",
      "1.0    267395\n",
      "2.0    207236\n",
      "Name: count, dtype: int64\n"
     ]
    }
   ],
   "source": [
    "# We map the variables and change the format\n",
    "\n",
    "climate_order = {\"Low\" : 0, \"Medium\" : 1, \"High\" : 2}\n",
    "elements_order = {\"Small\" : 0, \"Medium\" : 1, \"Large\" : 2}\n",
    "\n",
    "mapper(df_encoded, \"Temparature_Bins\", climate_order)\n",
    "mapper(df_encoded, \"Humidity_Bins\", climate_order)\n",
    "mapper(df_encoded, \"Moisture_Bins\", climate_order)\n",
    "mapper(df_encoded, \"Nitrogen_Bins\", elements_order)\n",
    "mapper(df_encoded, \"Potassium_Bins\", elements_order)\n",
    "mapper(df_encoded, \"Phosphorous_Bins\", elements_order)"
   ]
  },
  {
   "cell_type": "code",
   "execution_count": 19,
   "id": "c03273b0",
   "metadata": {
    "execution": {
     "iopub.execute_input": "2025-06-28T01:34:44.318630Z",
     "iopub.status.busy": "2025-06-28T01:34:44.318446Z",
     "iopub.status.idle": "2025-06-28T01:34:44.382442Z",
     "shell.execute_reply": "2025-06-28T01:34:44.381533Z"
    },
    "papermill": {
     "duration": 0.075376,
     "end_time": "2025-06-28T01:34:44.383681",
     "exception": false,
     "start_time": "2025-06-28T01:34:44.308305",
     "status": "completed"
    },
    "tags": []
   },
   "outputs": [
    {
     "name": "stdout",
     "output_type": "stream",
     "text": [
      "<class 'pandas.core.frame.DataFrame'>\n",
      "Index: 750000 entries, 0 to 749999\n",
      "Data columns (total 47 columns):\n",
      " #   Column                 Non-Null Count   Dtype  \n",
      "---  ------                 --------------   -----  \n",
      " 0   Temparature            750000 non-null  int64  \n",
      " 1   Humidity               750000 non-null  int64  \n",
      " 2   Moisture               750000 non-null  int64  \n",
      " 3   Nitrogen               750000 non-null  int64  \n",
      " 4   Potassium              750000 non-null  int64  \n",
      " 5   Phosphorous            750000 non-null  int64  \n",
      " 6   Fertilizer Name        750000 non-null  int64  \n",
      " 7   Temparature_Bins       750000 non-null  float64\n",
      " 8   Humidity_Bins          750000 non-null  float64\n",
      " 9   Moisture_Bins          750000 non-null  float64\n",
      " 10  Nitrogen_Bins          750000 non-null  float64\n",
      " 11  Potassium_Bins         750000 non-null  float64\n",
      " 12  Phosphorous_Bins       750000 non-null  float64\n",
      " 13  tem_log                750000 non-null  float64\n",
      " 14  tem_sq                 750000 non-null  int64  \n",
      " 15  tem_cubert             750000 non-null  float64\n",
      " 16  hum_log                750000 non-null  float64\n",
      " 17  hum_sq                 750000 non-null  int64  \n",
      " 18  hum_cubert             750000 non-null  float64\n",
      " 19  moi_log                750000 non-null  float64\n",
      " 20  moi_sq                 750000 non-null  int64  \n",
      " 21  moi_cubert             750000 non-null  float64\n",
      " 22  n_log                  750000 non-null  float64\n",
      " 23  n_sq                   750000 non-null  int64  \n",
      " 24  n_cubert               750000 non-null  float64\n",
      " 25  k_log                  750000 non-null  float64\n",
      " 26  k_sq                   750000 non-null  int64  \n",
      " 27  k_cubert               750000 non-null  float64\n",
      " 28  p_log                  750000 non-null  float64\n",
      " 29  p_sq                   750000 non-null  int64  \n",
      " 30  p_cubert               750000 non-null  float64\n",
      " 31  Soil Type_Black        750000 non-null  float64\n",
      " 32  Soil Type_Clayey       750000 non-null  float64\n",
      " 33  Soil Type_Loamy        750000 non-null  float64\n",
      " 34  Soil Type_Red          750000 non-null  float64\n",
      " 35  Soil Type_Sandy        750000 non-null  float64\n",
      " 36  Crop Type_Barley       750000 non-null  float64\n",
      " 37  Crop Type_Cotton       750000 non-null  float64\n",
      " 38  Crop Type_Ground Nuts  750000 non-null  float64\n",
      " 39  Crop Type_Maize        750000 non-null  float64\n",
      " 40  Crop Type_Millets      750000 non-null  float64\n",
      " 41  Crop Type_Oil seeds    750000 non-null  float64\n",
      " 42  Crop Type_Paddy        750000 non-null  float64\n",
      " 43  Crop Type_Pulses       750000 non-null  float64\n",
      " 44  Crop Type_Sugarcane    750000 non-null  float64\n",
      " 45  Crop Type_Tobacco      750000 non-null  float64\n",
      " 46  Crop Type_Wheat        750000 non-null  float64\n",
      "dtypes: float64(34), int64(13)\n",
      "memory usage: 274.7 MB\n"
     ]
    }
   ],
   "source": [
    "df_encoded.info()"
   ]
  },
  {
   "cell_type": "code",
   "execution_count": 20,
   "id": "19134c86",
   "metadata": {
    "execution": {
     "iopub.execute_input": "2025-06-28T01:34:44.405901Z",
     "iopub.status.busy": "2025-06-28T01:34:44.405686Z",
     "iopub.status.idle": "2025-06-28T01:34:44.408701Z",
     "shell.execute_reply": "2025-06-28T01:34:44.408147Z"
    },
    "papermill": {
     "duration": 0.014989,
     "end_time": "2025-06-28T01:34:44.409599",
     "exception": false,
     "start_time": "2025-06-28T01:34:44.394610",
     "status": "completed"
    },
    "tags": []
   },
   "outputs": [],
   "source": [
    "#df_encoded.corr(numeric_only=True).round(2)"
   ]
  },
  {
   "cell_type": "markdown",
   "id": "3f86f80a",
   "metadata": {
    "papermill": {
     "duration": 0.009893,
     "end_time": "2025-06-28T01:34:44.430272",
     "exception": false,
     "start_time": "2025-06-28T01:34:44.420379",
     "status": "completed"
    },
    "tags": []
   },
   "source": [
    "## Scaling"
   ]
  },
  {
   "cell_type": "code",
   "execution_count": 21,
   "id": "8840054f",
   "metadata": {
    "execution": {
     "iopub.execute_input": "2025-06-28T01:34:44.451026Z",
     "iopub.status.busy": "2025-06-28T01:34:44.450813Z",
     "iopub.status.idle": "2025-06-28T01:34:45.441904Z",
     "shell.execute_reply": "2025-06-28T01:34:45.441296Z"
    },
    "papermill": {
     "duration": 1.002673,
     "end_time": "2025-06-28T01:34:45.443012",
     "exception": false,
     "start_time": "2025-06-28T01:34:44.440339",
     "status": "completed"
    },
    "tags": []
   },
   "outputs": [
    {
     "data": {
      "text/html": [
       "<div>\n",
       "<style scoped>\n",
       "    .dataframe tbody tr th:only-of-type {\n",
       "        vertical-align: middle;\n",
       "    }\n",
       "\n",
       "    .dataframe tbody tr th {\n",
       "        vertical-align: top;\n",
       "    }\n",
       "\n",
       "    .dataframe thead th {\n",
       "        text-align: right;\n",
       "    }\n",
       "</style>\n",
       "<table border=\"1\" class=\"dataframe\">\n",
       "  <thead>\n",
       "    <tr style=\"text-align: right;\">\n",
       "      <th></th>\n",
       "      <th>count</th>\n",
       "      <th>mean</th>\n",
       "      <th>std</th>\n",
       "      <th>min</th>\n",
       "      <th>25%</th>\n",
       "      <th>50%</th>\n",
       "      <th>75%</th>\n",
       "      <th>max</th>\n",
       "    </tr>\n",
       "  </thead>\n",
       "  <tbody>\n",
       "    <tr>\n",
       "      <th>Temparature</th>\n",
       "      <td>750000.0</td>\n",
       "      <td>31.503565</td>\n",
       "      <td>4.025574</td>\n",
       "      <td>25.000000</td>\n",
       "      <td>28.000000</td>\n",
       "      <td>32.000000</td>\n",
       "      <td>35.000000</td>\n",
       "      <td>38.000000</td>\n",
       "    </tr>\n",
       "    <tr>\n",
       "      <th>Humidity</th>\n",
       "      <td>750000.0</td>\n",
       "      <td>61.038912</td>\n",
       "      <td>6.647695</td>\n",
       "      <td>50.000000</td>\n",
       "      <td>55.000000</td>\n",
       "      <td>61.000000</td>\n",
       "      <td>67.000000</td>\n",
       "      <td>72.000000</td>\n",
       "    </tr>\n",
       "    <tr>\n",
       "      <th>Moisture</th>\n",
       "      <td>750000.0</td>\n",
       "      <td>45.184147</td>\n",
       "      <td>11.794594</td>\n",
       "      <td>25.000000</td>\n",
       "      <td>35.000000</td>\n",
       "      <td>45.000000</td>\n",
       "      <td>55.000000</td>\n",
       "      <td>65.000000</td>\n",
       "    </tr>\n",
       "    <tr>\n",
       "      <th>Nitrogen</th>\n",
       "      <td>750000.0</td>\n",
       "      <td>23.093808</td>\n",
       "      <td>11.216125</td>\n",
       "      <td>4.000000</td>\n",
       "      <td>13.000000</td>\n",
       "      <td>23.000000</td>\n",
       "      <td>33.000000</td>\n",
       "      <td>42.000000</td>\n",
       "    </tr>\n",
       "    <tr>\n",
       "      <th>Potassium</th>\n",
       "      <td>750000.0</td>\n",
       "      <td>9.478296</td>\n",
       "      <td>5.765622</td>\n",
       "      <td>0.000000</td>\n",
       "      <td>4.000000</td>\n",
       "      <td>9.000000</td>\n",
       "      <td>14.000000</td>\n",
       "      <td>19.000000</td>\n",
       "    </tr>\n",
       "    <tr>\n",
       "      <th>Phosphorous</th>\n",
       "      <td>750000.0</td>\n",
       "      <td>21.073227</td>\n",
       "      <td>12.346831</td>\n",
       "      <td>0.000000</td>\n",
       "      <td>10.000000</td>\n",
       "      <td>21.000000</td>\n",
       "      <td>32.000000</td>\n",
       "      <td>42.000000</td>\n",
       "    </tr>\n",
       "    <tr>\n",
       "      <th>Fertilizer Name</th>\n",
       "      <td>750000.0</td>\n",
       "      <td>2.859791</td>\n",
       "      <td>1.967025</td>\n",
       "      <td>0.000000</td>\n",
       "      <td>1.000000</td>\n",
       "      <td>3.000000</td>\n",
       "      <td>4.000000</td>\n",
       "      <td>6.000000</td>\n",
       "    </tr>\n",
       "    <tr>\n",
       "      <th>Temparature_Bins</th>\n",
       "      <td>750000.0</td>\n",
       "      <td>1.001719</td>\n",
       "      <td>0.844885</td>\n",
       "      <td>0.000000</td>\n",
       "      <td>0.000000</td>\n",
       "      <td>1.000000</td>\n",
       "      <td>2.000000</td>\n",
       "      <td>2.000000</td>\n",
       "    </tr>\n",
       "    <tr>\n",
       "      <th>Humidity_Bins</th>\n",
       "      <td>750000.0</td>\n",
       "      <td>0.960079</td>\n",
       "      <td>0.807891</td>\n",
       "      <td>0.000000</td>\n",
       "      <td>0.000000</td>\n",
       "      <td>1.000000</td>\n",
       "      <td>2.000000</td>\n",
       "      <td>2.000000</td>\n",
       "    </tr>\n",
       "    <tr>\n",
       "      <th>Moisture_Bins</th>\n",
       "      <td>750000.0</td>\n",
       "      <td>1.060707</td>\n",
       "      <td>0.791970</td>\n",
       "      <td>0.000000</td>\n",
       "      <td>0.000000</td>\n",
       "      <td>1.000000</td>\n",
       "      <td>2.000000</td>\n",
       "      <td>2.000000</td>\n",
       "    </tr>\n",
       "    <tr>\n",
       "      <th>Nitrogen_Bins</th>\n",
       "      <td>750000.0</td>\n",
       "      <td>1.005467</td>\n",
       "      <td>0.781365</td>\n",
       "      <td>0.000000</td>\n",
       "      <td>0.000000</td>\n",
       "      <td>1.000000</td>\n",
       "      <td>2.000000</td>\n",
       "      <td>2.000000</td>\n",
       "    </tr>\n",
       "    <tr>\n",
       "      <th>Potassium_Bins</th>\n",
       "      <td>750000.0</td>\n",
       "      <td>0.999963</td>\n",
       "      <td>0.836567</td>\n",
       "      <td>0.000000</td>\n",
       "      <td>0.000000</td>\n",
       "      <td>1.000000</td>\n",
       "      <td>2.000000</td>\n",
       "      <td>2.000000</td>\n",
       "    </tr>\n",
       "    <tr>\n",
       "      <th>Phosphorous_Bins</th>\n",
       "      <td>750000.0</td>\n",
       "      <td>0.909156</td>\n",
       "      <td>0.797008</td>\n",
       "      <td>0.000000</td>\n",
       "      <td>0.000000</td>\n",
       "      <td>1.000000</td>\n",
       "      <td>2.000000</td>\n",
       "      <td>2.000000</td>\n",
       "    </tr>\n",
       "    <tr>\n",
       "      <th>tem_log</th>\n",
       "      <td>750000.0</td>\n",
       "      <td>3.473571</td>\n",
       "      <td>0.125216</td>\n",
       "      <td>3.258097</td>\n",
       "      <td>3.367296</td>\n",
       "      <td>3.496508</td>\n",
       "      <td>3.583519</td>\n",
       "      <td>3.663562</td>\n",
       "    </tr>\n",
       "    <tr>\n",
       "      <th>tem_sq</th>\n",
       "      <td>750000.0</td>\n",
       "      <td>1008.679851</td>\n",
       "      <td>254.015331</td>\n",
       "      <td>625.000000</td>\n",
       "      <td>784.000000</td>\n",
       "      <td>1024.000000</td>\n",
       "      <td>1225.000000</td>\n",
       "      <td>1444.000000</td>\n",
       "    </tr>\n",
       "    <tr>\n",
       "      <th>tem_cubert</th>\n",
       "      <td>750000.0</td>\n",
       "      <td>3.152505</td>\n",
       "      <td>0.135375</td>\n",
       "      <td>2.924018</td>\n",
       "      <td>3.036589</td>\n",
       "      <td>3.174802</td>\n",
       "      <td>3.271066</td>\n",
       "      <td>3.361975</td>\n",
       "    </tr>\n",
       "    <tr>\n",
       "      <th>hum_log</th>\n",
       "      <td>750000.0</td>\n",
       "      <td>4.121958</td>\n",
       "      <td>0.108070</td>\n",
       "      <td>3.931826</td>\n",
       "      <td>4.025352</td>\n",
       "      <td>4.127134</td>\n",
       "      <td>4.219508</td>\n",
       "      <td>4.290459</td>\n",
       "    </tr>\n",
       "    <tr>\n",
       "      <th>hum_sq</th>\n",
       "      <td>750000.0</td>\n",
       "      <td>3769.940573</td>\n",
       "      <td>812.130071</td>\n",
       "      <td>2500.000000</td>\n",
       "      <td>3025.000000</td>\n",
       "      <td>3721.000000</td>\n",
       "      <td>4489.000000</td>\n",
       "      <td>5184.000000</td>\n",
       "    </tr>\n",
       "    <tr>\n",
       "      <th>hum_cubert</th>\n",
       "      <td>750000.0</td>\n",
       "      <td>3.932101</td>\n",
       "      <td>0.143625</td>\n",
       "      <td>3.684031</td>\n",
       "      <td>3.802952</td>\n",
       "      <td>3.936497</td>\n",
       "      <td>4.061548</td>\n",
       "      <td>4.160168</td>\n",
       "    </tr>\n",
       "    <tr>\n",
       "      <th>moi_log</th>\n",
       "      <td>750000.0</td>\n",
       "      <td>3.797778</td>\n",
       "      <td>0.269067</td>\n",
       "      <td>3.258097</td>\n",
       "      <td>3.583519</td>\n",
       "      <td>3.828641</td>\n",
       "      <td>4.025352</td>\n",
       "      <td>4.189655</td>\n",
       "    </tr>\n",
       "    <tr>\n",
       "      <th>moi_sq</th>\n",
       "      <td>750000.0</td>\n",
       "      <td>2180.719363</td>\n",
       "      <td>1070.662546</td>\n",
       "      <td>625.000000</td>\n",
       "      <td>1225.000000</td>\n",
       "      <td>2025.000000</td>\n",
       "      <td>3025.000000</td>\n",
       "      <td>4225.000000</td>\n",
       "    </tr>\n",
       "    <tr>\n",
       "      <th>moi_cubert</th>\n",
       "      <td>750000.0</td>\n",
       "      <td>3.533343</td>\n",
       "      <td>0.319196</td>\n",
       "      <td>2.924018</td>\n",
       "      <td>3.271066</td>\n",
       "      <td>3.556893</td>\n",
       "      <td>3.802952</td>\n",
       "      <td>4.020726</td>\n",
       "    </tr>\n",
       "    <tr>\n",
       "      <th>n_log</th>\n",
       "      <td>750000.0</td>\n",
       "      <td>3.040651</td>\n",
       "      <td>0.576531</td>\n",
       "      <td>1.609438</td>\n",
       "      <td>2.639057</td>\n",
       "      <td>3.178054</td>\n",
       "      <td>3.526361</td>\n",
       "      <td>3.761200</td>\n",
       "    </tr>\n",
       "    <tr>\n",
       "      <th>n_sq</th>\n",
       "      <td>750000.0</td>\n",
       "      <td>659.125264</td>\n",
       "      <td>529.496102</td>\n",
       "      <td>16.000000</td>\n",
       "      <td>169.000000</td>\n",
       "      <td>529.000000</td>\n",
       "      <td>1089.000000</td>\n",
       "      <td>1764.000000</td>\n",
       "    </tr>\n",
       "    <tr>\n",
       "      <th>n_cubert</th>\n",
       "      <td>750000.0</td>\n",
       "      <td>2.755232</td>\n",
       "      <td>0.522080</td>\n",
       "      <td>1.587401</td>\n",
       "      <td>2.351335</td>\n",
       "      <td>2.843867</td>\n",
       "      <td>3.207534</td>\n",
       "      <td>3.476027</td>\n",
       "    </tr>\n",
       "    <tr>\n",
       "      <th>k_log</th>\n",
       "      <td>750000.0</td>\n",
       "      <td>2.112580</td>\n",
       "      <td>0.796839</td>\n",
       "      <td>0.000000</td>\n",
       "      <td>1.609438</td>\n",
       "      <td>2.302585</td>\n",
       "      <td>2.708050</td>\n",
       "      <td>2.995732</td>\n",
       "    </tr>\n",
       "    <tr>\n",
       "      <th>k_sq</th>\n",
       "      <td>750000.0</td>\n",
       "      <td>123.080445</td>\n",
       "      <td>113.121865</td>\n",
       "      <td>0.000000</td>\n",
       "      <td>16.000000</td>\n",
       "      <td>81.000000</td>\n",
       "      <td>196.000000</td>\n",
       "      <td>361.000000</td>\n",
       "    </tr>\n",
       "    <tr>\n",
       "      <th>k_cubert</th>\n",
       "      <td>750000.0</td>\n",
       "      <td>1.950234</td>\n",
       "      <td>0.646199</td>\n",
       "      <td>0.000000</td>\n",
       "      <td>1.587401</td>\n",
       "      <td>2.080084</td>\n",
       "      <td>2.410142</td>\n",
       "      <td>2.668402</td>\n",
       "    </tr>\n",
       "    <tr>\n",
       "      <th>p_log</th>\n",
       "      <td>750000.0</td>\n",
       "      <td>2.832328</td>\n",
       "      <td>0.866593</td>\n",
       "      <td>0.000000</td>\n",
       "      <td>2.397895</td>\n",
       "      <td>3.091042</td>\n",
       "      <td>3.496508</td>\n",
       "      <td>3.761200</td>\n",
       "    </tr>\n",
       "    <tr>\n",
       "      <th>p_sq</th>\n",
       "      <td>750000.0</td>\n",
       "      <td>596.524912</td>\n",
       "      <td>536.981263</td>\n",
       "      <td>0.000000</td>\n",
       "      <td>100.000000</td>\n",
       "      <td>441.000000</td>\n",
       "      <td>1024.000000</td>\n",
       "      <td>1764.000000</td>\n",
       "    </tr>\n",
       "    <tr>\n",
       "      <th>p_cubert</th>\n",
       "      <td>750000.0</td>\n",
       "      <td>2.584851</td>\n",
       "      <td>0.747395</td>\n",
       "      <td>0.000000</td>\n",
       "      <td>2.154435</td>\n",
       "      <td>2.758924</td>\n",
       "      <td>3.174802</td>\n",
       "      <td>3.476027</td>\n",
       "    </tr>\n",
       "    <tr>\n",
       "      <th>Soil Type_Black</th>\n",
       "      <td>750000.0</td>\n",
       "      <td>0.201275</td>\n",
       "      <td>0.400953</td>\n",
       "      <td>0.000000</td>\n",
       "      <td>0.000000</td>\n",
       "      <td>0.000000</td>\n",
       "      <td>0.000000</td>\n",
       "      <td>1.000000</td>\n",
       "    </tr>\n",
       "    <tr>\n",
       "      <th>Soil Type_Clayey</th>\n",
       "      <td>750000.0</td>\n",
       "      <td>0.197843</td>\n",
       "      <td>0.398373</td>\n",
       "      <td>0.000000</td>\n",
       "      <td>0.000000</td>\n",
       "      <td>0.000000</td>\n",
       "      <td>0.000000</td>\n",
       "      <td>1.000000</td>\n",
       "    </tr>\n",
       "    <tr>\n",
       "      <th>Soil Type_Loamy</th>\n",
       "      <td>750000.0</td>\n",
       "      <td>0.194467</td>\n",
       "      <td>0.395790</td>\n",
       "      <td>0.000000</td>\n",
       "      <td>0.000000</td>\n",
       "      <td>0.000000</td>\n",
       "      <td>0.000000</td>\n",
       "      <td>1.000000</td>\n",
       "    </tr>\n",
       "    <tr>\n",
       "      <th>Soil Type_Red</th>\n",
       "      <td>750000.0</td>\n",
       "      <td>0.197469</td>\n",
       "      <td>0.398090</td>\n",
       "      <td>0.000000</td>\n",
       "      <td>0.000000</td>\n",
       "      <td>0.000000</td>\n",
       "      <td>0.000000</td>\n",
       "      <td>1.000000</td>\n",
       "    </tr>\n",
       "    <tr>\n",
       "      <th>Soil Type_Sandy</th>\n",
       "      <td>750000.0</td>\n",
       "      <td>0.208947</td>\n",
       "      <td>0.406556</td>\n",
       "      <td>0.000000</td>\n",
       "      <td>0.000000</td>\n",
       "      <td>0.000000</td>\n",
       "      <td>0.000000</td>\n",
       "      <td>1.000000</td>\n",
       "    </tr>\n",
       "    <tr>\n",
       "      <th>Crop Type_Barley</th>\n",
       "      <td>750000.0</td>\n",
       "      <td>0.086727</td>\n",
       "      <td>0.281434</td>\n",
       "      <td>0.000000</td>\n",
       "      <td>0.000000</td>\n",
       "      <td>0.000000</td>\n",
       "      <td>0.000000</td>\n",
       "      <td>1.000000</td>\n",
       "    </tr>\n",
       "    <tr>\n",
       "      <th>Crop Type_Cotton</th>\n",
       "      <td>750000.0</td>\n",
       "      <td>0.092228</td>\n",
       "      <td>0.289348</td>\n",
       "      <td>0.000000</td>\n",
       "      <td>0.000000</td>\n",
       "      <td>0.000000</td>\n",
       "      <td>0.000000</td>\n",
       "      <td>1.000000</td>\n",
       "    </tr>\n",
       "    <tr>\n",
       "      <th>Crop Type_Ground Nuts</th>\n",
       "      <td>750000.0</td>\n",
       "      <td>0.081212</td>\n",
       "      <td>0.273161</td>\n",
       "      <td>0.000000</td>\n",
       "      <td>0.000000</td>\n",
       "      <td>0.000000</td>\n",
       "      <td>0.000000</td>\n",
       "      <td>1.000000</td>\n",
       "    </tr>\n",
       "    <tr>\n",
       "      <th>Crop Type_Maize</th>\n",
       "      <td>750000.0</td>\n",
       "      <td>0.083425</td>\n",
       "      <td>0.276524</td>\n",
       "      <td>0.000000</td>\n",
       "      <td>0.000000</td>\n",
       "      <td>0.000000</td>\n",
       "      <td>0.000000</td>\n",
       "      <td>1.000000</td>\n",
       "    </tr>\n",
       "    <tr>\n",
       "      <th>Crop Type_Millets</th>\n",
       "      <td>750000.0</td>\n",
       "      <td>0.087055</td>\n",
       "      <td>0.281915</td>\n",
       "      <td>0.000000</td>\n",
       "      <td>0.000000</td>\n",
       "      <td>0.000000</td>\n",
       "      <td>0.000000</td>\n",
       "      <td>1.000000</td>\n",
       "    </tr>\n",
       "    <tr>\n",
       "      <th>Crop Type_Oil seeds</th>\n",
       "      <td>750000.0</td>\n",
       "      <td>0.085579</td>\n",
       "      <td>0.279741</td>\n",
       "      <td>0.000000</td>\n",
       "      <td>0.000000</td>\n",
       "      <td>0.000000</td>\n",
       "      <td>0.000000</td>\n",
       "      <td>1.000000</td>\n",
       "    </tr>\n",
       "    <tr>\n",
       "      <th>Crop Type_Paddy</th>\n",
       "      <td>750000.0</td>\n",
       "      <td>0.114339</td>\n",
       "      <td>0.318222</td>\n",
       "      <td>0.000000</td>\n",
       "      <td>0.000000</td>\n",
       "      <td>0.000000</td>\n",
       "      <td>0.000000</td>\n",
       "      <td>1.000000</td>\n",
       "    </tr>\n",
       "    <tr>\n",
       "      <th>Crop Type_Pulses</th>\n",
       "      <td>750000.0</td>\n",
       "      <td>0.104240</td>\n",
       "      <td>0.305572</td>\n",
       "      <td>0.000000</td>\n",
       "      <td>0.000000</td>\n",
       "      <td>0.000000</td>\n",
       "      <td>0.000000</td>\n",
       "      <td>1.000000</td>\n",
       "    </tr>\n",
       "    <tr>\n",
       "      <th>Crop Type_Sugarcane</th>\n",
       "      <td>750000.0</td>\n",
       "      <td>0.085692</td>\n",
       "      <td>0.279909</td>\n",
       "      <td>0.000000</td>\n",
       "      <td>0.000000</td>\n",
       "      <td>0.000000</td>\n",
       "      <td>0.000000</td>\n",
       "      <td>1.000000</td>\n",
       "    </tr>\n",
       "    <tr>\n",
       "      <th>Crop Type_Tobacco</th>\n",
       "      <td>750000.0</td>\n",
       "      <td>0.090667</td>\n",
       "      <td>0.287135</td>\n",
       "      <td>0.000000</td>\n",
       "      <td>0.000000</td>\n",
       "      <td>0.000000</td>\n",
       "      <td>0.000000</td>\n",
       "      <td>1.000000</td>\n",
       "    </tr>\n",
       "    <tr>\n",
       "      <th>Crop Type_Wheat</th>\n",
       "      <td>750000.0</td>\n",
       "      <td>0.088837</td>\n",
       "      <td>0.284509</td>\n",
       "      <td>0.000000</td>\n",
       "      <td>0.000000</td>\n",
       "      <td>0.000000</td>\n",
       "      <td>0.000000</td>\n",
       "      <td>1.000000</td>\n",
       "    </tr>\n",
       "  </tbody>\n",
       "</table>\n",
       "</div>"
      ],
      "text/plain": [
       "                          count         mean          std          min  \\\n",
       "Temparature            750000.0    31.503565     4.025574    25.000000   \n",
       "Humidity               750000.0    61.038912     6.647695    50.000000   \n",
       "Moisture               750000.0    45.184147    11.794594    25.000000   \n",
       "Nitrogen               750000.0    23.093808    11.216125     4.000000   \n",
       "Potassium              750000.0     9.478296     5.765622     0.000000   \n",
       "Phosphorous            750000.0    21.073227    12.346831     0.000000   \n",
       "Fertilizer Name        750000.0     2.859791     1.967025     0.000000   \n",
       "Temparature_Bins       750000.0     1.001719     0.844885     0.000000   \n",
       "Humidity_Bins          750000.0     0.960079     0.807891     0.000000   \n",
       "Moisture_Bins          750000.0     1.060707     0.791970     0.000000   \n",
       "Nitrogen_Bins          750000.0     1.005467     0.781365     0.000000   \n",
       "Potassium_Bins         750000.0     0.999963     0.836567     0.000000   \n",
       "Phosphorous_Bins       750000.0     0.909156     0.797008     0.000000   \n",
       "tem_log                750000.0     3.473571     0.125216     3.258097   \n",
       "tem_sq                 750000.0  1008.679851   254.015331   625.000000   \n",
       "tem_cubert             750000.0     3.152505     0.135375     2.924018   \n",
       "hum_log                750000.0     4.121958     0.108070     3.931826   \n",
       "hum_sq                 750000.0  3769.940573   812.130071  2500.000000   \n",
       "hum_cubert             750000.0     3.932101     0.143625     3.684031   \n",
       "moi_log                750000.0     3.797778     0.269067     3.258097   \n",
       "moi_sq                 750000.0  2180.719363  1070.662546   625.000000   \n",
       "moi_cubert             750000.0     3.533343     0.319196     2.924018   \n",
       "n_log                  750000.0     3.040651     0.576531     1.609438   \n",
       "n_sq                   750000.0   659.125264   529.496102    16.000000   \n",
       "n_cubert               750000.0     2.755232     0.522080     1.587401   \n",
       "k_log                  750000.0     2.112580     0.796839     0.000000   \n",
       "k_sq                   750000.0   123.080445   113.121865     0.000000   \n",
       "k_cubert               750000.0     1.950234     0.646199     0.000000   \n",
       "p_log                  750000.0     2.832328     0.866593     0.000000   \n",
       "p_sq                   750000.0   596.524912   536.981263     0.000000   \n",
       "p_cubert               750000.0     2.584851     0.747395     0.000000   \n",
       "Soil Type_Black        750000.0     0.201275     0.400953     0.000000   \n",
       "Soil Type_Clayey       750000.0     0.197843     0.398373     0.000000   \n",
       "Soil Type_Loamy        750000.0     0.194467     0.395790     0.000000   \n",
       "Soil Type_Red          750000.0     0.197469     0.398090     0.000000   \n",
       "Soil Type_Sandy        750000.0     0.208947     0.406556     0.000000   \n",
       "Crop Type_Barley       750000.0     0.086727     0.281434     0.000000   \n",
       "Crop Type_Cotton       750000.0     0.092228     0.289348     0.000000   \n",
       "Crop Type_Ground Nuts  750000.0     0.081212     0.273161     0.000000   \n",
       "Crop Type_Maize        750000.0     0.083425     0.276524     0.000000   \n",
       "Crop Type_Millets      750000.0     0.087055     0.281915     0.000000   \n",
       "Crop Type_Oil seeds    750000.0     0.085579     0.279741     0.000000   \n",
       "Crop Type_Paddy        750000.0     0.114339     0.318222     0.000000   \n",
       "Crop Type_Pulses       750000.0     0.104240     0.305572     0.000000   \n",
       "Crop Type_Sugarcane    750000.0     0.085692     0.279909     0.000000   \n",
       "Crop Type_Tobacco      750000.0     0.090667     0.287135     0.000000   \n",
       "Crop Type_Wheat        750000.0     0.088837     0.284509     0.000000   \n",
       "\n",
       "                               25%          50%          75%          max  \n",
       "Temparature              28.000000    32.000000    35.000000    38.000000  \n",
       "Humidity                 55.000000    61.000000    67.000000    72.000000  \n",
       "Moisture                 35.000000    45.000000    55.000000    65.000000  \n",
       "Nitrogen                 13.000000    23.000000    33.000000    42.000000  \n",
       "Potassium                 4.000000     9.000000    14.000000    19.000000  \n",
       "Phosphorous              10.000000    21.000000    32.000000    42.000000  \n",
       "Fertilizer Name           1.000000     3.000000     4.000000     6.000000  \n",
       "Temparature_Bins          0.000000     1.000000     2.000000     2.000000  \n",
       "Humidity_Bins             0.000000     1.000000     2.000000     2.000000  \n",
       "Moisture_Bins             0.000000     1.000000     2.000000     2.000000  \n",
       "Nitrogen_Bins             0.000000     1.000000     2.000000     2.000000  \n",
       "Potassium_Bins            0.000000     1.000000     2.000000     2.000000  \n",
       "Phosphorous_Bins          0.000000     1.000000     2.000000     2.000000  \n",
       "tem_log                   3.367296     3.496508     3.583519     3.663562  \n",
       "tem_sq                  784.000000  1024.000000  1225.000000  1444.000000  \n",
       "tem_cubert                3.036589     3.174802     3.271066     3.361975  \n",
       "hum_log                   4.025352     4.127134     4.219508     4.290459  \n",
       "hum_sq                 3025.000000  3721.000000  4489.000000  5184.000000  \n",
       "hum_cubert                3.802952     3.936497     4.061548     4.160168  \n",
       "moi_log                   3.583519     3.828641     4.025352     4.189655  \n",
       "moi_sq                 1225.000000  2025.000000  3025.000000  4225.000000  \n",
       "moi_cubert                3.271066     3.556893     3.802952     4.020726  \n",
       "n_log                     2.639057     3.178054     3.526361     3.761200  \n",
       "n_sq                    169.000000   529.000000  1089.000000  1764.000000  \n",
       "n_cubert                  2.351335     2.843867     3.207534     3.476027  \n",
       "k_log                     1.609438     2.302585     2.708050     2.995732  \n",
       "k_sq                     16.000000    81.000000   196.000000   361.000000  \n",
       "k_cubert                  1.587401     2.080084     2.410142     2.668402  \n",
       "p_log                     2.397895     3.091042     3.496508     3.761200  \n",
       "p_sq                    100.000000   441.000000  1024.000000  1764.000000  \n",
       "p_cubert                  2.154435     2.758924     3.174802     3.476027  \n",
       "Soil Type_Black           0.000000     0.000000     0.000000     1.000000  \n",
       "Soil Type_Clayey          0.000000     0.000000     0.000000     1.000000  \n",
       "Soil Type_Loamy           0.000000     0.000000     0.000000     1.000000  \n",
       "Soil Type_Red             0.000000     0.000000     0.000000     1.000000  \n",
       "Soil Type_Sandy           0.000000     0.000000     0.000000     1.000000  \n",
       "Crop Type_Barley          0.000000     0.000000     0.000000     1.000000  \n",
       "Crop Type_Cotton          0.000000     0.000000     0.000000     1.000000  \n",
       "Crop Type_Ground Nuts     0.000000     0.000000     0.000000     1.000000  \n",
       "Crop Type_Maize           0.000000     0.000000     0.000000     1.000000  \n",
       "Crop Type_Millets         0.000000     0.000000     0.000000     1.000000  \n",
       "Crop Type_Oil seeds       0.000000     0.000000     0.000000     1.000000  \n",
       "Crop Type_Paddy           0.000000     0.000000     0.000000     1.000000  \n",
       "Crop Type_Pulses          0.000000     0.000000     0.000000     1.000000  \n",
       "Crop Type_Sugarcane       0.000000     0.000000     0.000000     1.000000  \n",
       "Crop Type_Tobacco         0.000000     0.000000     0.000000     1.000000  \n",
       "Crop Type_Wheat           0.000000     0.000000     0.000000     1.000000  "
      ]
     },
     "execution_count": 21,
     "metadata": {},
     "output_type": "execute_result"
    }
   ],
   "source": [
    "df_encoded.describe().T"
   ]
  },
  {
   "cell_type": "code",
   "execution_count": 22,
   "id": "5cd218bc",
   "metadata": {
    "execution": {
     "iopub.execute_input": "2025-06-28T01:34:45.465776Z",
     "iopub.status.busy": "2025-06-28T01:34:45.465548Z",
     "iopub.status.idle": "2025-06-28T01:34:45.522767Z",
     "shell.execute_reply": "2025-06-28T01:34:45.522156Z"
    },
    "papermill": {
     "duration": 0.069879,
     "end_time": "2025-06-28T01:34:45.524148",
     "exception": false,
     "start_time": "2025-06-28T01:34:45.454269",
     "status": "completed"
    },
    "tags": []
   },
   "outputs": [],
   "source": [
    "# We separate the target variable from the features\n",
    "\n",
    "x_fertilizers = df_encoded.drop(columns=\"Fertilizer Name\")\n",
    "y_fertilizers = df_encoded[\"Fertilizer Name\"]"
   ]
  },
  {
   "cell_type": "code",
   "execution_count": 23,
   "id": "05a9a641",
   "metadata": {
    "execution": {
     "iopub.execute_input": "2025-06-28T01:34:45.547261Z",
     "iopub.status.busy": "2025-06-28T01:34:45.547008Z",
     "iopub.status.idle": "2025-06-28T01:34:45.835437Z",
     "shell.execute_reply": "2025-06-28T01:34:45.834754Z"
    },
    "papermill": {
     "duration": 0.301205,
     "end_time": "2025-06-28T01:34:45.836803",
     "exception": false,
     "start_time": "2025-06-28T01:34:45.535598",
     "status": "completed"
    },
    "tags": []
   },
   "outputs": [],
   "source": [
    "# Numerical variables to scale\n",
    "\n",
    "fertilizer_numeric = x_fertilizers[[\n",
    "    \"Temparature\",\n",
    "    \"Humidity\",\n",
    "    \"Moisture\",\n",
    "    \"Nitrogen\",\n",
    "    \"Potassium\",\n",
    "    \"Phosphorous\",\n",
    "    \"tem_sq\",\n",
    "    \"hum_sq\",\n",
    "    \"moi_sq\",\n",
    "    \"n_sq\",\n",
    "    \"k_sq\",\n",
    "    \"p_sq\"\n",
    "]]\n",
    "\n",
    "scaler = StandardScaler().set_output(transform=\"pandas\")\n",
    "scale_num = scaler.fit_transform(fertilizer_numeric)\n",
    "\n",
    "# We create a df with the remaining variables\n",
    "\n",
    "fertilizer_rest = x_fertilizers.drop(columns=[\n",
    "    \"Temparature\",\n",
    "    \"Humidity\",\n",
    "    \"Moisture\",\n",
    "    \"Nitrogen\",\n",
    "    \"Potassium\",\n",
    "    \"Phosphorous\",\n",
    "    \"tem_sq\",\n",
    "    \"hum_sq\",\n",
    "    \"moi_sq\",\n",
    "    \"n_sq\",\n",
    "    \"k_sq\",\n",
    "    \"p_sq\"\n",
    "])\n",
    "\n",
    "# We concatenate the dataframes\n",
    "\n",
    "x_end = pd.concat([scale_num, fertilizer_rest], axis=1)"
   ]
  },
  {
   "cell_type": "code",
   "execution_count": 24,
   "id": "1a071742",
   "metadata": {
    "execution": {
     "iopub.execute_input": "2025-06-28T01:34:45.860569Z",
     "iopub.status.busy": "2025-06-28T01:34:45.860335Z",
     "iopub.status.idle": "2025-06-28T01:34:45.921147Z",
     "shell.execute_reply": "2025-06-28T01:34:45.920406Z"
    },
    "papermill": {
     "duration": 0.074281,
     "end_time": "2025-06-28T01:34:45.922311",
     "exception": false,
     "start_time": "2025-06-28T01:34:45.848030",
     "status": "completed"
    },
    "tags": []
   },
   "outputs": [
    {
     "name": "stdout",
     "output_type": "stream",
     "text": [
      "<class 'pandas.core.frame.DataFrame'>\n",
      "Index: 750000 entries, 0 to 749999\n",
      "Data columns (total 46 columns):\n",
      " #   Column                 Non-Null Count   Dtype  \n",
      "---  ------                 --------------   -----  \n",
      " 0   Temparature            750000 non-null  float64\n",
      " 1   Humidity               750000 non-null  float64\n",
      " 2   Moisture               750000 non-null  float64\n",
      " 3   Nitrogen               750000 non-null  float64\n",
      " 4   Potassium              750000 non-null  float64\n",
      " 5   Phosphorous            750000 non-null  float64\n",
      " 6   tem_sq                 750000 non-null  float64\n",
      " 7   hum_sq                 750000 non-null  float64\n",
      " 8   moi_sq                 750000 non-null  float64\n",
      " 9   n_sq                   750000 non-null  float64\n",
      " 10  k_sq                   750000 non-null  float64\n",
      " 11  p_sq                   750000 non-null  float64\n",
      " 12  Temparature_Bins       750000 non-null  float64\n",
      " 13  Humidity_Bins          750000 non-null  float64\n",
      " 14  Moisture_Bins          750000 non-null  float64\n",
      " 15  Nitrogen_Bins          750000 non-null  float64\n",
      " 16  Potassium_Bins         750000 non-null  float64\n",
      " 17  Phosphorous_Bins       750000 non-null  float64\n",
      " 18  tem_log                750000 non-null  float64\n",
      " 19  tem_cubert             750000 non-null  float64\n",
      " 20  hum_log                750000 non-null  float64\n",
      " 21  hum_cubert             750000 non-null  float64\n",
      " 22  moi_log                750000 non-null  float64\n",
      " 23  moi_cubert             750000 non-null  float64\n",
      " 24  n_log                  750000 non-null  float64\n",
      " 25  n_cubert               750000 non-null  float64\n",
      " 26  k_log                  750000 non-null  float64\n",
      " 27  k_cubert               750000 non-null  float64\n",
      " 28  p_log                  750000 non-null  float64\n",
      " 29  p_cubert               750000 non-null  float64\n",
      " 30  Soil Type_Black        750000 non-null  float64\n",
      " 31  Soil Type_Clayey       750000 non-null  float64\n",
      " 32  Soil Type_Loamy        750000 non-null  float64\n",
      " 33  Soil Type_Red          750000 non-null  float64\n",
      " 34  Soil Type_Sandy        750000 non-null  float64\n",
      " 35  Crop Type_Barley       750000 non-null  float64\n",
      " 36  Crop Type_Cotton       750000 non-null  float64\n",
      " 37  Crop Type_Ground Nuts  750000 non-null  float64\n",
      " 38  Crop Type_Maize        750000 non-null  float64\n",
      " 39  Crop Type_Millets      750000 non-null  float64\n",
      " 40  Crop Type_Oil seeds    750000 non-null  float64\n",
      " 41  Crop Type_Paddy        750000 non-null  float64\n",
      " 42  Crop Type_Pulses       750000 non-null  float64\n",
      " 43  Crop Type_Sugarcane    750000 non-null  float64\n",
      " 44  Crop Type_Tobacco      750000 non-null  float64\n",
      " 45  Crop Type_Wheat        750000 non-null  float64\n",
      "dtypes: float64(46)\n",
      "memory usage: 268.9 MB\n"
     ]
    }
   ],
   "source": [
    "x_end.info()"
   ]
  },
  {
   "cell_type": "code",
   "execution_count": 25,
   "id": "a64242a5",
   "metadata": {
    "execution": {
     "iopub.execute_input": "2025-06-28T01:34:45.944390Z",
     "iopub.status.busy": "2025-06-28T01:34:45.944176Z",
     "iopub.status.idle": "2025-06-28T01:34:47.064037Z",
     "shell.execute_reply": "2025-06-28T01:34:47.063481Z"
    },
    "papermill": {
     "duration": 1.13166,
     "end_time": "2025-06-28T01:34:47.065163",
     "exception": false,
     "start_time": "2025-06-28T01:34:45.933503",
     "status": "completed"
    },
    "tags": []
   },
   "outputs": [
    {
     "data": {
      "text/html": [
       "<div>\n",
       "<style scoped>\n",
       "    .dataframe tbody tr th:only-of-type {\n",
       "        vertical-align: middle;\n",
       "    }\n",
       "\n",
       "    .dataframe tbody tr th {\n",
       "        vertical-align: top;\n",
       "    }\n",
       "\n",
       "    .dataframe thead th {\n",
       "        text-align: right;\n",
       "    }\n",
       "</style>\n",
       "<table border=\"1\" class=\"dataframe\">\n",
       "  <thead>\n",
       "    <tr style=\"text-align: right;\">\n",
       "      <th></th>\n",
       "      <th>count</th>\n",
       "      <th>mean</th>\n",
       "      <th>std</th>\n",
       "      <th>min</th>\n",
       "      <th>25%</th>\n",
       "      <th>50%</th>\n",
       "      <th>75%</th>\n",
       "      <th>max</th>\n",
       "    </tr>\n",
       "  </thead>\n",
       "  <tbody>\n",
       "    <tr>\n",
       "      <th>Temparature</th>\n",
       "      <td>750000.0</td>\n",
       "      <td>-2.430625e-16</td>\n",
       "      <td>1.000001</td>\n",
       "      <td>-1.615563</td>\n",
       "      <td>-0.870328</td>\n",
       "      <td>0.123320</td>\n",
       "      <td>0.868556</td>\n",
       "      <td>1.613792</td>\n",
       "    </tr>\n",
       "    <tr>\n",
       "      <th>Humidity</th>\n",
       "      <td>750000.0</td>\n",
       "      <td>-5.286627e-16</td>\n",
       "      <td>1.000001</td>\n",
       "      <td>-1.660563</td>\n",
       "      <td>-0.908422</td>\n",
       "      <td>-0.005853</td>\n",
       "      <td>0.896716</td>\n",
       "      <td>1.648856</td>\n",
       "    </tr>\n",
       "    <tr>\n",
       "      <th>Moisture</th>\n",
       "      <td>750000.0</td>\n",
       "      <td>2.707263e-16</td>\n",
       "      <td>1.000001</td>\n",
       "      <td>-1.711306</td>\n",
       "      <td>-0.863459</td>\n",
       "      <td>-0.015613</td>\n",
       "      <td>0.832234</td>\n",
       "      <td>1.680080</td>\n",
       "    </tr>\n",
       "    <tr>\n",
       "      <th>Nitrogen</th>\n",
       "      <td>750000.0</td>\n",
       "      <td>3.865352e-17</td>\n",
       "      <td>1.000001</td>\n",
       "      <td>-1.702354</td>\n",
       "      <td>-0.899938</td>\n",
       "      <td>-0.008364</td>\n",
       "      <td>0.883210</td>\n",
       "      <td>1.685627</td>\n",
       "    </tr>\n",
       "    <tr>\n",
       "      <th>Potassium</th>\n",
       "      <td>750000.0</td>\n",
       "      <td>-5.222015e-17</td>\n",
       "      <td>1.000001</td>\n",
       "      <td>-1.643934</td>\n",
       "      <td>-0.950166</td>\n",
       "      <td>-0.082957</td>\n",
       "      <td>0.784253</td>\n",
       "      <td>1.651463</td>\n",
       "    </tr>\n",
       "    <tr>\n",
       "      <th>Phosphorous</th>\n",
       "      <td>750000.0</td>\n",
       "      <td>-2.046363e-18</td>\n",
       "      <td>1.000001</td>\n",
       "      <td>-1.706773</td>\n",
       "      <td>-0.896848</td>\n",
       "      <td>-0.005931</td>\n",
       "      <td>0.884987</td>\n",
       "      <td>1.694912</td>\n",
       "    </tr>\n",
       "    <tr>\n",
       "      <th>tem_sq</th>\n",
       "      <td>750000.0</td>\n",
       "      <td>5.752554e-17</td>\n",
       "      <td>1.000001</td>\n",
       "      <td>-1.510460</td>\n",
       "      <td>-0.884514</td>\n",
       "      <td>0.060312</td>\n",
       "      <td>0.851603</td>\n",
       "      <td>1.713757</td>\n",
       "    </tr>\n",
       "    <tr>\n",
       "      <th>hum_sq</th>\n",
       "      <td>750000.0</td>\n",
       "      <td>3.772508e-17</td>\n",
       "      <td>1.000001</td>\n",
       "      <td>-1.563717</td>\n",
       "      <td>-0.917268</td>\n",
       "      <td>-0.060262</td>\n",
       "      <td>0.885400</td>\n",
       "      <td>1.741175</td>\n",
       "    </tr>\n",
       "    <tr>\n",
       "      <th>moi_sq</th>\n",
       "      <td>750000.0</td>\n",
       "      <td>-5.229595e-17</td>\n",
       "      <td>1.000001</td>\n",
       "      <td>-1.453045</td>\n",
       "      <td>-0.892644</td>\n",
       "      <td>-0.145442</td>\n",
       "      <td>0.788560</td>\n",
       "      <td>1.909362</td>\n",
       "    </tr>\n",
       "    <tr>\n",
       "      <th>n_sq</th>\n",
       "      <td>750000.0</td>\n",
       "      <td>-2.410161e-17</td>\n",
       "      <td>1.000001</td>\n",
       "      <td>-1.214599</td>\n",
       "      <td>-0.925645</td>\n",
       "      <td>-0.245753</td>\n",
       "      <td>0.811857</td>\n",
       "      <td>2.086655</td>\n",
       "    </tr>\n",
       "    <tr>\n",
       "      <th>k_sq</th>\n",
       "      <td>750000.0</td>\n",
       "      <td>1.303609e-17</td>\n",
       "      <td>1.000001</td>\n",
       "      <td>-1.088035</td>\n",
       "      <td>-0.946594</td>\n",
       "      <td>-0.371992</td>\n",
       "      <td>0.644611</td>\n",
       "      <td>2.103216</td>\n",
       "    </tr>\n",
       "    <tr>\n",
       "      <th>p_sq</th>\n",
       "      <td>750000.0</td>\n",
       "      <td>6.146668e-17</td>\n",
       "      <td>1.000001</td>\n",
       "      <td>-1.110887</td>\n",
       "      <td>-0.924660</td>\n",
       "      <td>-0.289628</td>\n",
       "      <td>0.796071</td>\n",
       "      <td>2.174146</td>\n",
       "    </tr>\n",
       "    <tr>\n",
       "      <th>Temparature_Bins</th>\n",
       "      <td>750000.0</td>\n",
       "      <td>1.001719e+00</td>\n",
       "      <td>0.844885</td>\n",
       "      <td>0.000000</td>\n",
       "      <td>0.000000</td>\n",
       "      <td>1.000000</td>\n",
       "      <td>2.000000</td>\n",
       "      <td>2.000000</td>\n",
       "    </tr>\n",
       "    <tr>\n",
       "      <th>Humidity_Bins</th>\n",
       "      <td>750000.0</td>\n",
       "      <td>9.600787e-01</td>\n",
       "      <td>0.807891</td>\n",
       "      <td>0.000000</td>\n",
       "      <td>0.000000</td>\n",
       "      <td>1.000000</td>\n",
       "      <td>2.000000</td>\n",
       "      <td>2.000000</td>\n",
       "    </tr>\n",
       "    <tr>\n",
       "      <th>Moisture_Bins</th>\n",
       "      <td>750000.0</td>\n",
       "      <td>1.060707e+00</td>\n",
       "      <td>0.791970</td>\n",
       "      <td>0.000000</td>\n",
       "      <td>0.000000</td>\n",
       "      <td>1.000000</td>\n",
       "      <td>2.000000</td>\n",
       "      <td>2.000000</td>\n",
       "    </tr>\n",
       "    <tr>\n",
       "      <th>Nitrogen_Bins</th>\n",
       "      <td>750000.0</td>\n",
       "      <td>1.005467e+00</td>\n",
       "      <td>0.781365</td>\n",
       "      <td>0.000000</td>\n",
       "      <td>0.000000</td>\n",
       "      <td>1.000000</td>\n",
       "      <td>2.000000</td>\n",
       "      <td>2.000000</td>\n",
       "    </tr>\n",
       "    <tr>\n",
       "      <th>Potassium_Bins</th>\n",
       "      <td>750000.0</td>\n",
       "      <td>9.999627e-01</td>\n",
       "      <td>0.836567</td>\n",
       "      <td>0.000000</td>\n",
       "      <td>0.000000</td>\n",
       "      <td>1.000000</td>\n",
       "      <td>2.000000</td>\n",
       "      <td>2.000000</td>\n",
       "    </tr>\n",
       "    <tr>\n",
       "      <th>Phosphorous_Bins</th>\n",
       "      <td>750000.0</td>\n",
       "      <td>9.091560e-01</td>\n",
       "      <td>0.797008</td>\n",
       "      <td>0.000000</td>\n",
       "      <td>0.000000</td>\n",
       "      <td>1.000000</td>\n",
       "      <td>2.000000</td>\n",
       "      <td>2.000000</td>\n",
       "    </tr>\n",
       "    <tr>\n",
       "      <th>tem_log</th>\n",
       "      <td>750000.0</td>\n",
       "      <td>3.473571e+00</td>\n",
       "      <td>0.125216</td>\n",
       "      <td>3.258097</td>\n",
       "      <td>3.367296</td>\n",
       "      <td>3.496508</td>\n",
       "      <td>3.583519</td>\n",
       "      <td>3.663562</td>\n",
       "    </tr>\n",
       "    <tr>\n",
       "      <th>tem_cubert</th>\n",
       "      <td>750000.0</td>\n",
       "      <td>3.152505e+00</td>\n",
       "      <td>0.135375</td>\n",
       "      <td>2.924018</td>\n",
       "      <td>3.036589</td>\n",
       "      <td>3.174802</td>\n",
       "      <td>3.271066</td>\n",
       "      <td>3.361975</td>\n",
       "    </tr>\n",
       "    <tr>\n",
       "      <th>hum_log</th>\n",
       "      <td>750000.0</td>\n",
       "      <td>4.121958e+00</td>\n",
       "      <td>0.108070</td>\n",
       "      <td>3.931826</td>\n",
       "      <td>4.025352</td>\n",
       "      <td>4.127134</td>\n",
       "      <td>4.219508</td>\n",
       "      <td>4.290459</td>\n",
       "    </tr>\n",
       "    <tr>\n",
       "      <th>hum_cubert</th>\n",
       "      <td>750000.0</td>\n",
       "      <td>3.932101e+00</td>\n",
       "      <td>0.143625</td>\n",
       "      <td>3.684031</td>\n",
       "      <td>3.802952</td>\n",
       "      <td>3.936497</td>\n",
       "      <td>4.061548</td>\n",
       "      <td>4.160168</td>\n",
       "    </tr>\n",
       "    <tr>\n",
       "      <th>moi_log</th>\n",
       "      <td>750000.0</td>\n",
       "      <td>3.797778e+00</td>\n",
       "      <td>0.269067</td>\n",
       "      <td>3.258097</td>\n",
       "      <td>3.583519</td>\n",
       "      <td>3.828641</td>\n",
       "      <td>4.025352</td>\n",
       "      <td>4.189655</td>\n",
       "    </tr>\n",
       "    <tr>\n",
       "      <th>moi_cubert</th>\n",
       "      <td>750000.0</td>\n",
       "      <td>3.533343e+00</td>\n",
       "      <td>0.319196</td>\n",
       "      <td>2.924018</td>\n",
       "      <td>3.271066</td>\n",
       "      <td>3.556893</td>\n",
       "      <td>3.802952</td>\n",
       "      <td>4.020726</td>\n",
       "    </tr>\n",
       "    <tr>\n",
       "      <th>n_log</th>\n",
       "      <td>750000.0</td>\n",
       "      <td>3.040651e+00</td>\n",
       "      <td>0.576531</td>\n",
       "      <td>1.609438</td>\n",
       "      <td>2.639057</td>\n",
       "      <td>3.178054</td>\n",
       "      <td>3.526361</td>\n",
       "      <td>3.761200</td>\n",
       "    </tr>\n",
       "    <tr>\n",
       "      <th>n_cubert</th>\n",
       "      <td>750000.0</td>\n",
       "      <td>2.755232e+00</td>\n",
       "      <td>0.522080</td>\n",
       "      <td>1.587401</td>\n",
       "      <td>2.351335</td>\n",
       "      <td>2.843867</td>\n",
       "      <td>3.207534</td>\n",
       "      <td>3.476027</td>\n",
       "    </tr>\n",
       "    <tr>\n",
       "      <th>k_log</th>\n",
       "      <td>750000.0</td>\n",
       "      <td>2.112580e+00</td>\n",
       "      <td>0.796839</td>\n",
       "      <td>0.000000</td>\n",
       "      <td>1.609438</td>\n",
       "      <td>2.302585</td>\n",
       "      <td>2.708050</td>\n",
       "      <td>2.995732</td>\n",
       "    </tr>\n",
       "    <tr>\n",
       "      <th>k_cubert</th>\n",
       "      <td>750000.0</td>\n",
       "      <td>1.950234e+00</td>\n",
       "      <td>0.646199</td>\n",
       "      <td>0.000000</td>\n",
       "      <td>1.587401</td>\n",
       "      <td>2.080084</td>\n",
       "      <td>2.410142</td>\n",
       "      <td>2.668402</td>\n",
       "    </tr>\n",
       "    <tr>\n",
       "      <th>p_log</th>\n",
       "      <td>750000.0</td>\n",
       "      <td>2.832328e+00</td>\n",
       "      <td>0.866593</td>\n",
       "      <td>0.000000</td>\n",
       "      <td>2.397895</td>\n",
       "      <td>3.091042</td>\n",
       "      <td>3.496508</td>\n",
       "      <td>3.761200</td>\n",
       "    </tr>\n",
       "    <tr>\n",
       "      <th>p_cubert</th>\n",
       "      <td>750000.0</td>\n",
       "      <td>2.584851e+00</td>\n",
       "      <td>0.747395</td>\n",
       "      <td>0.000000</td>\n",
       "      <td>2.154435</td>\n",
       "      <td>2.758924</td>\n",
       "      <td>3.174802</td>\n",
       "      <td>3.476027</td>\n",
       "    </tr>\n",
       "    <tr>\n",
       "      <th>Soil Type_Black</th>\n",
       "      <td>750000.0</td>\n",
       "      <td>2.012747e-01</td>\n",
       "      <td>0.400953</td>\n",
       "      <td>0.000000</td>\n",
       "      <td>0.000000</td>\n",
       "      <td>0.000000</td>\n",
       "      <td>0.000000</td>\n",
       "      <td>1.000000</td>\n",
       "    </tr>\n",
       "    <tr>\n",
       "      <th>Soil Type_Clayey</th>\n",
       "      <td>750000.0</td>\n",
       "      <td>1.978427e-01</td>\n",
       "      <td>0.398373</td>\n",
       "      <td>0.000000</td>\n",
       "      <td>0.000000</td>\n",
       "      <td>0.000000</td>\n",
       "      <td>0.000000</td>\n",
       "      <td>1.000000</td>\n",
       "    </tr>\n",
       "    <tr>\n",
       "      <th>Soil Type_Loamy</th>\n",
       "      <td>750000.0</td>\n",
       "      <td>1.944667e-01</td>\n",
       "      <td>0.395790</td>\n",
       "      <td>0.000000</td>\n",
       "      <td>0.000000</td>\n",
       "      <td>0.000000</td>\n",
       "      <td>0.000000</td>\n",
       "      <td>1.000000</td>\n",
       "    </tr>\n",
       "    <tr>\n",
       "      <th>Soil Type_Red</th>\n",
       "      <td>750000.0</td>\n",
       "      <td>1.974693e-01</td>\n",
       "      <td>0.398090</td>\n",
       "      <td>0.000000</td>\n",
       "      <td>0.000000</td>\n",
       "      <td>0.000000</td>\n",
       "      <td>0.000000</td>\n",
       "      <td>1.000000</td>\n",
       "    </tr>\n",
       "    <tr>\n",
       "      <th>Soil Type_Sandy</th>\n",
       "      <td>750000.0</td>\n",
       "      <td>2.089467e-01</td>\n",
       "      <td>0.406556</td>\n",
       "      <td>0.000000</td>\n",
       "      <td>0.000000</td>\n",
       "      <td>0.000000</td>\n",
       "      <td>0.000000</td>\n",
       "      <td>1.000000</td>\n",
       "    </tr>\n",
       "    <tr>\n",
       "      <th>Crop Type_Barley</th>\n",
       "      <td>750000.0</td>\n",
       "      <td>8.672667e-02</td>\n",
       "      <td>0.281434</td>\n",
       "      <td>0.000000</td>\n",
       "      <td>0.000000</td>\n",
       "      <td>0.000000</td>\n",
       "      <td>0.000000</td>\n",
       "      <td>1.000000</td>\n",
       "    </tr>\n",
       "    <tr>\n",
       "      <th>Crop Type_Cotton</th>\n",
       "      <td>750000.0</td>\n",
       "      <td>9.222800e-02</td>\n",
       "      <td>0.289348</td>\n",
       "      <td>0.000000</td>\n",
       "      <td>0.000000</td>\n",
       "      <td>0.000000</td>\n",
       "      <td>0.000000</td>\n",
       "      <td>1.000000</td>\n",
       "    </tr>\n",
       "    <tr>\n",
       "      <th>Crop Type_Ground Nuts</th>\n",
       "      <td>750000.0</td>\n",
       "      <td>8.121200e-02</td>\n",
       "      <td>0.273161</td>\n",
       "      <td>0.000000</td>\n",
       "      <td>0.000000</td>\n",
       "      <td>0.000000</td>\n",
       "      <td>0.000000</td>\n",
       "      <td>1.000000</td>\n",
       "    </tr>\n",
       "    <tr>\n",
       "      <th>Crop Type_Maize</th>\n",
       "      <td>750000.0</td>\n",
       "      <td>8.342533e-02</td>\n",
       "      <td>0.276524</td>\n",
       "      <td>0.000000</td>\n",
       "      <td>0.000000</td>\n",
       "      <td>0.000000</td>\n",
       "      <td>0.000000</td>\n",
       "      <td>1.000000</td>\n",
       "    </tr>\n",
       "    <tr>\n",
       "      <th>Crop Type_Millets</th>\n",
       "      <td>750000.0</td>\n",
       "      <td>8.705467e-02</td>\n",
       "      <td>0.281915</td>\n",
       "      <td>0.000000</td>\n",
       "      <td>0.000000</td>\n",
       "      <td>0.000000</td>\n",
       "      <td>0.000000</td>\n",
       "      <td>1.000000</td>\n",
       "    </tr>\n",
       "    <tr>\n",
       "      <th>Crop Type_Oil seeds</th>\n",
       "      <td>750000.0</td>\n",
       "      <td>8.557867e-02</td>\n",
       "      <td>0.279741</td>\n",
       "      <td>0.000000</td>\n",
       "      <td>0.000000</td>\n",
       "      <td>0.000000</td>\n",
       "      <td>0.000000</td>\n",
       "      <td>1.000000</td>\n",
       "    </tr>\n",
       "    <tr>\n",
       "      <th>Crop Type_Paddy</th>\n",
       "      <td>750000.0</td>\n",
       "      <td>1.143387e-01</td>\n",
       "      <td>0.318222</td>\n",
       "      <td>0.000000</td>\n",
       "      <td>0.000000</td>\n",
       "      <td>0.000000</td>\n",
       "      <td>0.000000</td>\n",
       "      <td>1.000000</td>\n",
       "    </tr>\n",
       "    <tr>\n",
       "      <th>Crop Type_Pulses</th>\n",
       "      <td>750000.0</td>\n",
       "      <td>1.042400e-01</td>\n",
       "      <td>0.305572</td>\n",
       "      <td>0.000000</td>\n",
       "      <td>0.000000</td>\n",
       "      <td>0.000000</td>\n",
       "      <td>0.000000</td>\n",
       "      <td>1.000000</td>\n",
       "    </tr>\n",
       "    <tr>\n",
       "      <th>Crop Type_Sugarcane</th>\n",
       "      <td>750000.0</td>\n",
       "      <td>8.569200e-02</td>\n",
       "      <td>0.279909</td>\n",
       "      <td>0.000000</td>\n",
       "      <td>0.000000</td>\n",
       "      <td>0.000000</td>\n",
       "      <td>0.000000</td>\n",
       "      <td>1.000000</td>\n",
       "    </tr>\n",
       "    <tr>\n",
       "      <th>Crop Type_Tobacco</th>\n",
       "      <td>750000.0</td>\n",
       "      <td>9.066667e-02</td>\n",
       "      <td>0.287135</td>\n",
       "      <td>0.000000</td>\n",
       "      <td>0.000000</td>\n",
       "      <td>0.000000</td>\n",
       "      <td>0.000000</td>\n",
       "      <td>1.000000</td>\n",
       "    </tr>\n",
       "    <tr>\n",
       "      <th>Crop Type_Wheat</th>\n",
       "      <td>750000.0</td>\n",
       "      <td>8.883733e-02</td>\n",
       "      <td>0.284509</td>\n",
       "      <td>0.000000</td>\n",
       "      <td>0.000000</td>\n",
       "      <td>0.000000</td>\n",
       "      <td>0.000000</td>\n",
       "      <td>1.000000</td>\n",
       "    </tr>\n",
       "  </tbody>\n",
       "</table>\n",
       "</div>"
      ],
      "text/plain": [
       "                          count          mean       std       min       25%  \\\n",
       "Temparature            750000.0 -2.430625e-16  1.000001 -1.615563 -0.870328   \n",
       "Humidity               750000.0 -5.286627e-16  1.000001 -1.660563 -0.908422   \n",
       "Moisture               750000.0  2.707263e-16  1.000001 -1.711306 -0.863459   \n",
       "Nitrogen               750000.0  3.865352e-17  1.000001 -1.702354 -0.899938   \n",
       "Potassium              750000.0 -5.222015e-17  1.000001 -1.643934 -0.950166   \n",
       "Phosphorous            750000.0 -2.046363e-18  1.000001 -1.706773 -0.896848   \n",
       "tem_sq                 750000.0  5.752554e-17  1.000001 -1.510460 -0.884514   \n",
       "hum_sq                 750000.0  3.772508e-17  1.000001 -1.563717 -0.917268   \n",
       "moi_sq                 750000.0 -5.229595e-17  1.000001 -1.453045 -0.892644   \n",
       "n_sq                   750000.0 -2.410161e-17  1.000001 -1.214599 -0.925645   \n",
       "k_sq                   750000.0  1.303609e-17  1.000001 -1.088035 -0.946594   \n",
       "p_sq                   750000.0  6.146668e-17  1.000001 -1.110887 -0.924660   \n",
       "Temparature_Bins       750000.0  1.001719e+00  0.844885  0.000000  0.000000   \n",
       "Humidity_Bins          750000.0  9.600787e-01  0.807891  0.000000  0.000000   \n",
       "Moisture_Bins          750000.0  1.060707e+00  0.791970  0.000000  0.000000   \n",
       "Nitrogen_Bins          750000.0  1.005467e+00  0.781365  0.000000  0.000000   \n",
       "Potassium_Bins         750000.0  9.999627e-01  0.836567  0.000000  0.000000   \n",
       "Phosphorous_Bins       750000.0  9.091560e-01  0.797008  0.000000  0.000000   \n",
       "tem_log                750000.0  3.473571e+00  0.125216  3.258097  3.367296   \n",
       "tem_cubert             750000.0  3.152505e+00  0.135375  2.924018  3.036589   \n",
       "hum_log                750000.0  4.121958e+00  0.108070  3.931826  4.025352   \n",
       "hum_cubert             750000.0  3.932101e+00  0.143625  3.684031  3.802952   \n",
       "moi_log                750000.0  3.797778e+00  0.269067  3.258097  3.583519   \n",
       "moi_cubert             750000.0  3.533343e+00  0.319196  2.924018  3.271066   \n",
       "n_log                  750000.0  3.040651e+00  0.576531  1.609438  2.639057   \n",
       "n_cubert               750000.0  2.755232e+00  0.522080  1.587401  2.351335   \n",
       "k_log                  750000.0  2.112580e+00  0.796839  0.000000  1.609438   \n",
       "k_cubert               750000.0  1.950234e+00  0.646199  0.000000  1.587401   \n",
       "p_log                  750000.0  2.832328e+00  0.866593  0.000000  2.397895   \n",
       "p_cubert               750000.0  2.584851e+00  0.747395  0.000000  2.154435   \n",
       "Soil Type_Black        750000.0  2.012747e-01  0.400953  0.000000  0.000000   \n",
       "Soil Type_Clayey       750000.0  1.978427e-01  0.398373  0.000000  0.000000   \n",
       "Soil Type_Loamy        750000.0  1.944667e-01  0.395790  0.000000  0.000000   \n",
       "Soil Type_Red          750000.0  1.974693e-01  0.398090  0.000000  0.000000   \n",
       "Soil Type_Sandy        750000.0  2.089467e-01  0.406556  0.000000  0.000000   \n",
       "Crop Type_Barley       750000.0  8.672667e-02  0.281434  0.000000  0.000000   \n",
       "Crop Type_Cotton       750000.0  9.222800e-02  0.289348  0.000000  0.000000   \n",
       "Crop Type_Ground Nuts  750000.0  8.121200e-02  0.273161  0.000000  0.000000   \n",
       "Crop Type_Maize        750000.0  8.342533e-02  0.276524  0.000000  0.000000   \n",
       "Crop Type_Millets      750000.0  8.705467e-02  0.281915  0.000000  0.000000   \n",
       "Crop Type_Oil seeds    750000.0  8.557867e-02  0.279741  0.000000  0.000000   \n",
       "Crop Type_Paddy        750000.0  1.143387e-01  0.318222  0.000000  0.000000   \n",
       "Crop Type_Pulses       750000.0  1.042400e-01  0.305572  0.000000  0.000000   \n",
       "Crop Type_Sugarcane    750000.0  8.569200e-02  0.279909  0.000000  0.000000   \n",
       "Crop Type_Tobacco      750000.0  9.066667e-02  0.287135  0.000000  0.000000   \n",
       "Crop Type_Wheat        750000.0  8.883733e-02  0.284509  0.000000  0.000000   \n",
       "\n",
       "                            50%       75%       max  \n",
       "Temparature            0.123320  0.868556  1.613792  \n",
       "Humidity              -0.005853  0.896716  1.648856  \n",
       "Moisture              -0.015613  0.832234  1.680080  \n",
       "Nitrogen              -0.008364  0.883210  1.685627  \n",
       "Potassium             -0.082957  0.784253  1.651463  \n",
       "Phosphorous           -0.005931  0.884987  1.694912  \n",
       "tem_sq                 0.060312  0.851603  1.713757  \n",
       "hum_sq                -0.060262  0.885400  1.741175  \n",
       "moi_sq                -0.145442  0.788560  1.909362  \n",
       "n_sq                  -0.245753  0.811857  2.086655  \n",
       "k_sq                  -0.371992  0.644611  2.103216  \n",
       "p_sq                  -0.289628  0.796071  2.174146  \n",
       "Temparature_Bins       1.000000  2.000000  2.000000  \n",
       "Humidity_Bins          1.000000  2.000000  2.000000  \n",
       "Moisture_Bins          1.000000  2.000000  2.000000  \n",
       "Nitrogen_Bins          1.000000  2.000000  2.000000  \n",
       "Potassium_Bins         1.000000  2.000000  2.000000  \n",
       "Phosphorous_Bins       1.000000  2.000000  2.000000  \n",
       "tem_log                3.496508  3.583519  3.663562  \n",
       "tem_cubert             3.174802  3.271066  3.361975  \n",
       "hum_log                4.127134  4.219508  4.290459  \n",
       "hum_cubert             3.936497  4.061548  4.160168  \n",
       "moi_log                3.828641  4.025352  4.189655  \n",
       "moi_cubert             3.556893  3.802952  4.020726  \n",
       "n_log                  3.178054  3.526361  3.761200  \n",
       "n_cubert               2.843867  3.207534  3.476027  \n",
       "k_log                  2.302585  2.708050  2.995732  \n",
       "k_cubert               2.080084  2.410142  2.668402  \n",
       "p_log                  3.091042  3.496508  3.761200  \n",
       "p_cubert               2.758924  3.174802  3.476027  \n",
       "Soil Type_Black        0.000000  0.000000  1.000000  \n",
       "Soil Type_Clayey       0.000000  0.000000  1.000000  \n",
       "Soil Type_Loamy        0.000000  0.000000  1.000000  \n",
       "Soil Type_Red          0.000000  0.000000  1.000000  \n",
       "Soil Type_Sandy        0.000000  0.000000  1.000000  \n",
       "Crop Type_Barley       0.000000  0.000000  1.000000  \n",
       "Crop Type_Cotton       0.000000  0.000000  1.000000  \n",
       "Crop Type_Ground Nuts  0.000000  0.000000  1.000000  \n",
       "Crop Type_Maize        0.000000  0.000000  1.000000  \n",
       "Crop Type_Millets      0.000000  0.000000  1.000000  \n",
       "Crop Type_Oil seeds    0.000000  0.000000  1.000000  \n",
       "Crop Type_Paddy        0.000000  0.000000  1.000000  \n",
       "Crop Type_Pulses       0.000000  0.000000  1.000000  \n",
       "Crop Type_Sugarcane    0.000000  0.000000  1.000000  \n",
       "Crop Type_Tobacco      0.000000  0.000000  1.000000  \n",
       "Crop Type_Wheat        0.000000  0.000000  1.000000  "
      ]
     },
     "execution_count": 25,
     "metadata": {},
     "output_type": "execute_result"
    }
   ],
   "source": [
    "x_end.describe().T"
   ]
  },
  {
   "cell_type": "markdown",
   "id": "2d9fe656",
   "metadata": {
    "papermill": {
     "duration": 0.010714,
     "end_time": "2025-06-28T01:34:47.087685",
     "exception": false,
     "start_time": "2025-06-28T01:34:47.076971",
     "status": "completed"
    },
    "tags": []
   },
   "source": [
    "## Feature Selection"
   ]
  },
  {
   "cell_type": "code",
   "execution_count": 26,
   "id": "4b1ffee9",
   "metadata": {
    "execution": {
     "iopub.execute_input": "2025-06-28T01:34:47.109842Z",
     "iopub.status.busy": "2025-06-28T01:34:47.109629Z",
     "iopub.status.idle": "2025-06-28T01:34:47.113603Z",
     "shell.execute_reply": "2025-06-28T01:34:47.113000Z"
    },
    "papermill": {
     "duration": 0.016233,
     "end_time": "2025-06-28T01:34:47.114572",
     "exception": false,
     "start_time": "2025-06-28T01:34:47.098339",
     "status": "completed"
    },
    "tags": []
   },
   "outputs": [
    {
     "data": {
      "text/plain": [
       "'\\nfertilizers_scores = mutual_info_classif(x_end, y_fertilizers)\\nfertilizers_scores = pd.Series(fertilizers_scores, name=\"Fertilizers MI Scores\", index=x_end.columns)\\nfertilizers_scores = fertilizers_scores.sort_values(ascending=False)\\nfertilizers_scores\\n'"
      ]
     },
     "execution_count": 26,
     "metadata": {},
     "output_type": "execute_result"
    }
   ],
   "source": [
    "'''\n",
    "fertilizers_scores = mutual_info_classif(x_end, y_fertilizers)\n",
    "fertilizers_scores = pd.Series(fertilizers_scores, name=\"Fertilizers MI Scores\", index=x_end.columns)\n",
    "fertilizers_scores = fertilizers_scores.sort_values(ascending=False)\n",
    "fertilizers_scores\n",
    "'''"
   ]
  },
  {
   "cell_type": "markdown",
   "id": "77e3fa66",
   "metadata": {
    "papermill": {
     "duration": 0.010803,
     "end_time": "2025-06-28T01:34:47.137841",
     "exception": false,
     "start_time": "2025-06-28T01:34:47.127038",
     "status": "completed"
    },
    "tags": []
   },
   "source": [
    "First feature analysis:\n",
    "\n",
    "    Moisture_Bins            0.010722\n",
    "    Potassium_Bins           0.010263\n",
    "    Nitrogen_Bins            0.009758\n",
    "    Temparature_Bins         0.009301\n",
    "    Humidity_Bins            0.009003\n",
    "    Phosphorous_Bins         0.008652\n",
    "    p_sq                     0.004939\n",
    "    Soil Type_Red            0.004646\n",
    "    moi_sq                   0.004591\n",
    "    Soil Type_Clayey         0.004016\n",
    "    tem_sq                   0.003965\n",
    "    p_log                    0.003829\n",
    "    Phosphorous              0.003596\n",
    "    moi_cubert               0.003573\n",
    "    p_cubert                 0.003512\n",
    "    k_log                    0.003362\n",
    "    Soil Type_Loamy          0.003089\n",
    "    Moisture                 0.002972\n",
    "    moi_log                  0.002962\n",
    "    tem_log                  0.002932\n",
    "    Temparature              0.002869\n",
    "    Crop Type_Tobacco        0.002838\n",
    "    Potassium                0.002815\n",
    "    Crop Type_Cotton         0.002729\n",
    "    k_sq                     0.002702\n",
    "    Nitrogen                 0.002574\n",
    "    Soil Type_Sandy          0.002465\n",
    "    hum_log                  0.002205\n",
    "    Humidity                 0.002096\n",
    "    n_cubert                 0.002027\n",
    "    Crop Type_Paddy          0.002016\n",
    "    k_cubert                 0.001883\n",
    "    n_sq                     0.001818\n",
    "    Crop Type_Oil seeds      0.001802\n",
    "    hum_cubert               0.001699\n",
    "    n_log                    0.001666\n",
    "    Soil Type_Black          0.001601\n",
    "    hum_sq                   0.001590\n",
    "    Crop Type_Pulses         0.001401\n",
    "    tem_cubert               0.001277\n",
    "    Crop Type_Wheat          0.001178\n",
    "    Crop Type_Millets        0.000953\n",
    "    Crop Type_Ground Nuts    0.000540\n",
    "    Crop Type_Sugarcane      0.000244\n",
    "    Crop Type_Maize          0.000215\n",
    "    Crop Type_Barley         0.000000"
   ]
  },
  {
   "cell_type": "code",
   "execution_count": 27,
   "id": "435cb817",
   "metadata": {
    "execution": {
     "iopub.execute_input": "2025-06-28T01:34:47.160855Z",
     "iopub.status.busy": "2025-06-28T01:34:47.160625Z",
     "iopub.status.idle": "2025-06-28T01:34:47.164447Z",
     "shell.execute_reply": "2025-06-28T01:34:47.163983Z"
    },
    "papermill": {
     "duration": 0.016568,
     "end_time": "2025-06-28T01:34:47.165325",
     "exception": false,
     "start_time": "2025-06-28T01:34:47.148757",
     "status": "completed"
    },
    "tags": []
   },
   "outputs": [
    {
     "data": {
      "text/plain": [
       "'\\nscores = fertilizers_scores.sort_values(ascending=True)\\nwidth = np.arange(len(fertilizers_scores))\\nticks = list(fertilizers_scores.index)\\nplt.barh(width, fertilizers_scores)\\nplt.yticks(width, ticks)\\nplt.title(\"Mutual Information Scores\")\\nplt.figure(dpi=100, figsize=(8, 5))\\nplt.show()\\n'"
      ]
     },
     "execution_count": 27,
     "metadata": {},
     "output_type": "execute_result"
    }
   ],
   "source": [
    "'''\n",
    "scores = fertilizers_scores.sort_values(ascending=True)\n",
    "width = np.arange(len(fertilizers_scores))\n",
    "ticks = list(fertilizers_scores.index)\n",
    "plt.barh(width, fertilizers_scores)\n",
    "plt.yticks(width, ticks)\n",
    "plt.title(\"Mutual Information Scores\")\n",
    "plt.figure(dpi=100, figsize=(8, 5))\n",
    "plt.show()\n",
    "'''"
   ]
  },
  {
   "cell_type": "code",
   "execution_count": 28,
   "id": "1b33e9fa",
   "metadata": {
    "execution": {
     "iopub.execute_input": "2025-06-28T01:34:47.188497Z",
     "iopub.status.busy": "2025-06-28T01:34:47.188305Z",
     "iopub.status.idle": "2025-06-28T01:34:47.190993Z",
     "shell.execute_reply": "2025-06-28T01:34:47.190540Z"
    },
    "papermill": {
     "duration": 0.01516,
     "end_time": "2025-06-28T01:34:47.191800",
     "exception": false,
     "start_time": "2025-06-28T01:34:47.176640",
     "status": "completed"
    },
    "tags": []
   },
   "outputs": [],
   "source": [
    "#x_end = x_end.drop(columns=[])"
   ]
  },
  {
   "cell_type": "markdown",
   "id": "d755d79e",
   "metadata": {
    "papermill": {
     "duration": 0.013257,
     "end_time": "2025-06-28T01:34:47.215979",
     "exception": false,
     "start_time": "2025-06-28T01:34:47.202722",
     "status": "completed"
    },
    "tags": []
   },
   "source": [
    "# Model Selection"
   ]
  },
  {
   "cell_type": "code",
   "execution_count": 29,
   "id": "36eb4b06",
   "metadata": {
    "execution": {
     "iopub.execute_input": "2025-06-28T01:34:47.240827Z",
     "iopub.status.busy": "2025-06-28T01:34:47.240607Z",
     "iopub.status.idle": "2025-06-28T01:34:47.468157Z",
     "shell.execute_reply": "2025-06-28T01:34:47.467641Z"
    },
    "papermill": {
     "duration": 0.241253,
     "end_time": "2025-06-28T01:34:47.469420",
     "exception": false,
     "start_time": "2025-06-28T01:34:47.228167",
     "status": "completed"
    },
    "tags": []
   },
   "outputs": [],
   "source": [
    "# We separate the data into training and validation sets\n",
    "\n",
    "x_train, x_val, y_train, y_val = (\n",
    "    train_test_split(x_end, y_fertilizers, test_size=0.2, random_state=42)\n",
    ")"
   ]
  },
  {
   "cell_type": "code",
   "execution_count": 30,
   "id": "9103f76d",
   "metadata": {
    "execution": {
     "iopub.execute_input": "2025-06-28T01:34:47.492615Z",
     "iopub.status.busy": "2025-06-28T01:34:47.492358Z",
     "iopub.status.idle": "2025-06-28T01:34:47.508143Z",
     "shell.execute_reply": "2025-06-28T01:34:47.507476Z"
    },
    "papermill": {
     "duration": 0.028206,
     "end_time": "2025-06-28T01:34:47.509063",
     "exception": false,
     "start_time": "2025-06-28T01:34:47.480857",
     "status": "completed"
    },
    "tags": []
   },
   "outputs": [
    {
     "name": "stdout",
     "output_type": "stream",
     "text": [
      "[[    0     1     2     3     4     5     6]\n",
      " [91046 91797 89689 88879 88774 75712 74103]]\n"
     ]
    }
   ],
   "source": [
    "# We review the balance of the target variable\n",
    "\n",
    "values_counts = np.asarray(np.unique(y_train, return_counts=True))\n",
    "\n",
    "print(values_counts)"
   ]
  },
  {
   "cell_type": "code",
   "execution_count": 31,
   "id": "d0b919af",
   "metadata": {
    "execution": {
     "iopub.execute_input": "2025-06-28T01:34:47.531668Z",
     "iopub.status.busy": "2025-06-28T01:34:47.531485Z",
     "iopub.status.idle": "2025-06-28T01:34:47.535509Z",
     "shell.execute_reply": "2025-06-28T01:34:47.534989Z"
    },
    "papermill": {
     "duration": 0.01637,
     "end_time": "2025-06-28T01:34:47.536431",
     "exception": false,
     "start_time": "2025-06-28T01:34:47.520061",
     "status": "completed"
    },
    "tags": []
   },
   "outputs": [],
   "source": [
    "# Common function to calculate AP@K and then MAP@K\n",
    "\n",
    "def apk(actual, predicted, k):\n",
    "\n",
    "    if len(predicted)>k:\n",
    "        predicted = predicted[:k]\n",
    "\n",
    "    score = 0.0\n",
    "    num_hits = 0.0\n",
    "\n",
    "    for i,p in enumerate(predicted):\n",
    "        if p in actual and p not in predicted[:i]:\n",
    "            num_hits += 1.0\n",
    "            score += num_hits / (i+1.0)\n",
    "\n",
    "    if not actual:\n",
    "        return 0.0\n",
    "\n",
    "    return score\n",
    "\n",
    "def mapk(actual, predicted, k):\n",
    "\n",
    "    return np.mean([apk(a,p,k) for a,p in zip(actual, predicted)])"
   ]
  },
  {
   "cell_type": "code",
   "execution_count": 32,
   "id": "6c05e09c",
   "metadata": {
    "execution": {
     "iopub.execute_input": "2025-06-28T01:34:47.560571Z",
     "iopub.status.busy": "2025-06-28T01:34:47.560140Z",
     "iopub.status.idle": "2025-06-28T01:34:47.564479Z",
     "shell.execute_reply": "2025-06-28T01:34:47.563901Z"
    },
    "papermill": {
     "duration": 0.016932,
     "end_time": "2025-06-28T01:34:47.565532",
     "exception": false,
     "start_time": "2025-06-28T01:34:47.548600",
     "status": "completed"
    },
    "tags": []
   },
   "outputs": [],
   "source": [
    "# Function for an initial evaluation of the model\n",
    "\n",
    "def evaluator(model, val_x, val_y, enc, k, model_name):\n",
    "    \n",
    "    y_pred_prob = model.predict_proba(val_x)\n",
    "    top_3_indices_val = np.argsort(-y_pred_prob, axis=1)[:, :3]\n",
    "    \n",
    "    predicted_val = []\n",
    "    \n",
    "    for row_indices in top_3_indices_val:\n",
    "        names = enc.inverse_transform(row_indices)\n",
    "        predicted_val.append(list(names))\n",
    "    \n",
    "    actual_val = [[enc.inverse_transform([label])[0]] for label in val_y]\n",
    "    map_3_score_val = mapk(actual_val, predicted_val, k=k)\n",
    "    \n",
    "    print(f\"\\n{model_name} initial MAP@3 Score: {map_3_score_val:.4f}\")"
   ]
  },
  {
   "cell_type": "code",
   "execution_count": 33,
   "id": "3217d621",
   "metadata": {
    "execution": {
     "iopub.execute_input": "2025-06-28T01:34:47.589722Z",
     "iopub.status.busy": "2025-06-28T01:34:47.589524Z",
     "iopub.status.idle": "2025-06-28T01:34:47.592531Z",
     "shell.execute_reply": "2025-06-28T01:34:47.592018Z"
    },
    "papermill": {
     "duration": 0.015587,
     "end_time": "2025-06-28T01:34:47.593542",
     "exception": false,
     "start_time": "2025-06-28T01:34:47.577955",
     "status": "completed"
    },
    "tags": []
   },
   "outputs": [],
   "source": [
    "# we create the StratifiedKFold object\n",
    "\n",
    "n_splits = 5\n",
    "skf = StratifiedKFold(n_splits=n_splits, shuffle=True, random_state=42)"
   ]
  },
  {
   "cell_type": "code",
   "execution_count": 34,
   "id": "9875ece4",
   "metadata": {
    "execution": {
     "iopub.execute_input": "2025-06-28T01:34:47.616574Z",
     "iopub.status.busy": "2025-06-28T01:34:47.616388Z",
     "iopub.status.idle": "2025-06-28T01:34:47.621966Z",
     "shell.execute_reply": "2025-06-28T01:34:47.621426Z"
    },
    "papermill": {
     "duration": 0.018045,
     "end_time": "2025-06-28T01:34:47.622849",
     "exception": false,
     "start_time": "2025-06-28T01:34:47.604804",
     "status": "completed"
    },
    "tags": []
   },
   "outputs": [],
   "source": [
    "# Function to evaluate models with a cross-validation method\n",
    "\n",
    "def cv_evaluator(model_class, model_params, x, y, enc, k_map, model_name):\n",
    "\n",
    "    fold_scores = []\n",
    "\n",
    "    for fold, (train_idx, val_idx) in enumerate(skf.split(x, y)):\n",
    "\n",
    "        print(f\"\\nFold {fold + 1}/{n_splits}\")\n",
    "        x_train_fold, x_val_fold = x.iloc[train_idx], x.iloc[val_idx]\n",
    "        y_train_fold, y_val_fold = y.iloc[train_idx], y.iloc[val_idx]\n",
    "\n",
    "        model = model_class(**model_params)\n",
    "        model.fit(x_train_fold, y_train_fold)\n",
    "\n",
    "        y_pred_prob = model.predict_proba(x_val_fold)\n",
    "        top_k_indices_val = np.argsort(-y_pred_prob, axis=1)[:, :k_map]\n",
    "\n",
    "        predicted_fold = []\n",
    "\n",
    "        for row_indices in top_k_indices_val:\n",
    "\n",
    "            valid_indices = [idx for idx in row_indices if idx < len(enc.classes_)]\n",
    "            names = enc.inverse_transform(valid_indices)\n",
    "            predicted_fold.append(list(names))\n",
    "\n",
    "        actual_fold = [[enc.inverse_transform([label])[0]] for label in y_val_fold]\n",
    "\n",
    "        fold_map_score = mapk(actual_fold, predicted_fold, k=k_map)\n",
    "        fold_scores.append(fold_map_score)\n",
    "        print(f\"MAP@{k_map} Fold {fold + 1}: {fold_map_score:.4f}\")\n",
    "\n",
    "    print(f\"\\n--- CV Summary for {model_name} ---\\n\")\n",
    "    print(f\"MAP@{k_map} Scores for fold: {np.round(fold_scores, 4)}\")\n",
    "    print(f\"MAP@{k_map} average: {np.mean(fold_scores):.4f}\")\n",
    "    print(f\"Standard deviation of MAP@{k_map}: {np.std(fold_scores):.4f}\")\n",
    "\n",
    "    return fold_scores"
   ]
  },
  {
   "cell_type": "markdown",
   "id": "0c730c80",
   "metadata": {
    "papermill": {
     "duration": 0.010773,
     "end_time": "2025-06-28T01:34:47.645706",
     "exception": false,
     "start_time": "2025-06-28T01:34:47.634933",
     "status": "completed"
    },
    "tags": []
   },
   "source": [
    "## First model: LogisticRegression"
   ]
  },
  {
   "cell_type": "code",
   "execution_count": 35,
   "id": "cc84dd34",
   "metadata": {
    "execution": {
     "iopub.execute_input": "2025-06-28T01:34:47.669288Z",
     "iopub.status.busy": "2025-06-28T01:34:47.668561Z",
     "iopub.status.idle": "2025-06-28T01:34:47.671994Z",
     "shell.execute_reply": "2025-06-28T01:34:47.671409Z"
    },
    "papermill": {
     "duration": 0.01643,
     "end_time": "2025-06-28T01:34:47.673106",
     "exception": false,
     "start_time": "2025-06-28T01:34:47.656676",
     "status": "completed"
    },
    "tags": []
   },
   "outputs": [],
   "source": [
    "# We create the model instance\n",
    "\n",
    "#lrc = LogisticRegression(multi_class=\"multinomial\")\n",
    "\n",
    "# Train the model with the data\n",
    "\n",
    "#lrc.fit(x_train, y_train)"
   ]
  },
  {
   "cell_type": "code",
   "execution_count": 36,
   "id": "b0f381f5",
   "metadata": {
    "execution": {
     "iopub.execute_input": "2025-06-28T01:34:47.696527Z",
     "iopub.status.busy": "2025-06-28T01:34:47.696310Z",
     "iopub.status.idle": "2025-06-28T01:34:47.699378Z",
     "shell.execute_reply": "2025-06-28T01:34:47.698769Z"
    },
    "papermill": {
     "duration": 0.015794,
     "end_time": "2025-06-28T01:34:47.700481",
     "exception": false,
     "start_time": "2025-06-28T01:34:47.684687",
     "status": "completed"
    },
    "tags": []
   },
   "outputs": [],
   "source": [
    "#evaluator(lrc, x_val, y_val, le, 3, \"LogisticRegression\")"
   ]
  },
  {
   "cell_type": "markdown",
   "id": "8fdf35a6",
   "metadata": {
    "papermill": {
     "duration": 0.010848,
     "end_time": "2025-06-28T01:34:47.723652",
     "exception": false,
     "start_time": "2025-06-28T01:34:47.712804",
     "status": "completed"
    },
    "tags": []
   },
   "source": [
    "LogisticRegression initial MAP@3 Score: 0.2870\n",
    "\n",
    "LogisticRegression initial MAP@3 Score: 0.2894 (post feature engineering)"
   ]
  },
  {
   "cell_type": "code",
   "execution_count": 37,
   "id": "6bac244a",
   "metadata": {
    "execution": {
     "iopub.execute_input": "2025-06-28T01:34:47.746628Z",
     "iopub.status.busy": "2025-06-28T01:34:47.746375Z",
     "iopub.status.idle": "2025-06-28T01:34:47.750358Z",
     "shell.execute_reply": "2025-06-28T01:34:47.749808Z"
    },
    "papermill": {
     "duration": 0.017125,
     "end_time": "2025-06-28T01:34:47.751774",
     "exception": false,
     "start_time": "2025-06-28T01:34:47.734649",
     "status": "completed"
    },
    "tags": []
   },
   "outputs": [
    {
     "data": {
      "text/plain": [
       "'\\n# We apply the function for CV\\n\\nlrc_params = {\"multi_class\": \"multinomial\", \"random_state\": 42}\\n\\nlrc_cv_scores = cv_evaluator(\\n    model_class=LogisticRegression,\\n    model_params=lrc_params,\\n    x=x_end,\\n    y=y_fertilizers, \\n    enc=le,\\n    k_map=3,\\n    model_name=\"Logistic Regression\"\\n)\\n'"
      ]
     },
     "execution_count": 37,
     "metadata": {},
     "output_type": "execute_result"
    }
   ],
   "source": [
    "'''\n",
    "# We apply the function for CV\n",
    "\n",
    "lrc_params = {\"multi_class\": \"multinomial\", \"random_state\": 42}\n",
    "\n",
    "lrc_cv_scores = cv_evaluator(\n",
    "    model_class=LogisticRegression,\n",
    "    model_params=lrc_params,\n",
    "    x=x_end,\n",
    "    y=y_fertilizers, \n",
    "    enc=le,\n",
    "    k_map=3,\n",
    "    model_name=\"Logistic Regression\"\n",
    ")\n",
    "'''"
   ]
  },
  {
   "cell_type": "markdown",
   "id": "b7b6f024",
   "metadata": {
    "papermill": {
     "duration": 0.01161,
     "end_time": "2025-06-28T01:34:47.776571",
     "exception": false,
     "start_time": "2025-06-28T01:34:47.764961",
     "status": "completed"
    },
    "tags": []
   },
   "source": [
    "\n",
    "--- CV Summary for Logistic Regression ---\n",
    "\n",
    "\n",
    "MAP@3 Scores for fold: [0.2871 0.2875 0.2861 0.2856 0.2871]\n",
    "\n",
    "MAP@3 average: 0.2867\n",
    "\n",
    "Standard deviation of MAP@3: 0.0007"
   ]
  },
  {
   "cell_type": "markdown",
   "id": "4a442622",
   "metadata": {
    "papermill": {
     "duration": 0.011264,
     "end_time": "2025-06-28T01:34:47.800067",
     "exception": false,
     "start_time": "2025-06-28T01:34:47.788803",
     "status": "completed"
    },
    "tags": []
   },
   "source": [
    "## Second model: XGBClassifier"
   ]
  },
  {
   "cell_type": "code",
   "execution_count": 38,
   "id": "2ef4e90e",
   "metadata": {
    "execution": {
     "iopub.execute_input": "2025-06-28T01:34:47.824930Z",
     "iopub.status.busy": "2025-06-28T01:34:47.824221Z",
     "iopub.status.idle": "2025-06-28T01:35:12.612405Z",
     "shell.execute_reply": "2025-06-28T01:35:12.611937Z"
    },
    "papermill": {
     "duration": 24.801397,
     "end_time": "2025-06-28T01:35:12.613375",
     "exception": false,
     "start_time": "2025-06-28T01:34:47.811978",
     "status": "completed"
    },
    "tags": []
   },
   "outputs": [
    {
     "data": {
      "text/html": [
       "<style>#sk-container-id-1 {color: black;background-color: white;}#sk-container-id-1 pre{padding: 0;}#sk-container-id-1 div.sk-toggleable {background-color: white;}#sk-container-id-1 label.sk-toggleable__label {cursor: pointer;display: block;width: 100%;margin-bottom: 0;padding: 0.3em;box-sizing: border-box;text-align: center;}#sk-container-id-1 label.sk-toggleable__label-arrow:before {content: \"▸\";float: left;margin-right: 0.25em;color: #696969;}#sk-container-id-1 label.sk-toggleable__label-arrow:hover:before {color: black;}#sk-container-id-1 div.sk-estimator:hover label.sk-toggleable__label-arrow:before {color: black;}#sk-container-id-1 div.sk-toggleable__content {max-height: 0;max-width: 0;overflow: hidden;text-align: left;background-color: #f0f8ff;}#sk-container-id-1 div.sk-toggleable__content pre {margin: 0.2em;color: black;border-radius: 0.25em;background-color: #f0f8ff;}#sk-container-id-1 input.sk-toggleable__control:checked~div.sk-toggleable__content {max-height: 200px;max-width: 100%;overflow: auto;}#sk-container-id-1 input.sk-toggleable__control:checked~label.sk-toggleable__label-arrow:before {content: \"▾\";}#sk-container-id-1 div.sk-estimator input.sk-toggleable__control:checked~label.sk-toggleable__label {background-color: #d4ebff;}#sk-container-id-1 div.sk-label input.sk-toggleable__control:checked~label.sk-toggleable__label {background-color: #d4ebff;}#sk-container-id-1 input.sk-hidden--visually {border: 0;clip: rect(1px 1px 1px 1px);clip: rect(1px, 1px, 1px, 1px);height: 1px;margin: -1px;overflow: hidden;padding: 0;position: absolute;width: 1px;}#sk-container-id-1 div.sk-estimator {font-family: monospace;background-color: #f0f8ff;border: 1px dotted black;border-radius: 0.25em;box-sizing: border-box;margin-bottom: 0.5em;}#sk-container-id-1 div.sk-estimator:hover {background-color: #d4ebff;}#sk-container-id-1 div.sk-parallel-item::after {content: \"\";width: 100%;border-bottom: 1px solid gray;flex-grow: 1;}#sk-container-id-1 div.sk-label:hover label.sk-toggleable__label {background-color: #d4ebff;}#sk-container-id-1 div.sk-serial::before {content: \"\";position: absolute;border-left: 1px solid gray;box-sizing: border-box;top: 0;bottom: 0;left: 50%;z-index: 0;}#sk-container-id-1 div.sk-serial {display: flex;flex-direction: column;align-items: center;background-color: white;padding-right: 0.2em;padding-left: 0.2em;position: relative;}#sk-container-id-1 div.sk-item {position: relative;z-index: 1;}#sk-container-id-1 div.sk-parallel {display: flex;align-items: stretch;justify-content: center;background-color: white;position: relative;}#sk-container-id-1 div.sk-item::before, #sk-container-id-1 div.sk-parallel-item::before {content: \"\";position: absolute;border-left: 1px solid gray;box-sizing: border-box;top: 0;bottom: 0;left: 50%;z-index: -1;}#sk-container-id-1 div.sk-parallel-item {display: flex;flex-direction: column;z-index: 1;position: relative;background-color: white;}#sk-container-id-1 div.sk-parallel-item:first-child::after {align-self: flex-end;width: 50%;}#sk-container-id-1 div.sk-parallel-item:last-child::after {align-self: flex-start;width: 50%;}#sk-container-id-1 div.sk-parallel-item:only-child::after {width: 0;}#sk-container-id-1 div.sk-dashed-wrapped {border: 1px dashed gray;margin: 0 0.4em 0.5em 0.4em;box-sizing: border-box;padding-bottom: 0.4em;background-color: white;}#sk-container-id-1 div.sk-label label {font-family: monospace;font-weight: bold;display: inline-block;line-height: 1.2em;}#sk-container-id-1 div.sk-label-container {text-align: center;}#sk-container-id-1 div.sk-container {/* jupyter's `normalize.less` sets `[hidden] { display: none; }` but bootstrap.min.css set `[hidden] { display: none !important; }` so we also need the `!important` here to be able to override the default hidden behavior on the sphinx rendered scikit-learn.org. See: https://github.com/scikit-learn/scikit-learn/issues/21755 */display: inline-block !important;position: relative;}#sk-container-id-1 div.sk-text-repr-fallback {display: none;}</style><div id=\"sk-container-id-1\" class=\"sk-top-container\"><div class=\"sk-text-repr-fallback\"><pre>XGBClassifier(base_score=None, booster=None, callbacks=None,\n",
       "              colsample_bylevel=None, colsample_bynode=None,\n",
       "              colsample_bytree=None, device=None, early_stopping_rounds=None,\n",
       "              enable_categorical=False, eval_metric=None, feature_types=None,\n",
       "              gamma=None, grow_policy=None, importance_type=None,\n",
       "              interaction_constraints=None, learning_rate=None, max_bin=None,\n",
       "              max_cat_threshold=None, max_cat_to_onehot=None,\n",
       "              max_delta_step=None, max_depth=None, max_leaves=None,\n",
       "              min_child_weight=None, missing=nan, monotone_constraints=None,\n",
       "              multi_strategy=None, n_estimators=None, n_jobs=None,\n",
       "              num_parallel_tree=None, objective=&#x27;multi:softprob&#x27;, ...)</pre><b>In a Jupyter environment, please rerun this cell to show the HTML representation or trust the notebook. <br />On GitHub, the HTML representation is unable to render, please try loading this page with nbviewer.org.</b></div><div class=\"sk-container\" hidden><div class=\"sk-item\"><div class=\"sk-estimator sk-toggleable\"><input class=\"sk-toggleable__control sk-hidden--visually\" id=\"sk-estimator-id-1\" type=\"checkbox\" checked><label for=\"sk-estimator-id-1\" class=\"sk-toggleable__label sk-toggleable__label-arrow\">XGBClassifier</label><div class=\"sk-toggleable__content\"><pre>XGBClassifier(base_score=None, booster=None, callbacks=None,\n",
       "              colsample_bylevel=None, colsample_bynode=None,\n",
       "              colsample_bytree=None, device=None, early_stopping_rounds=None,\n",
       "              enable_categorical=False, eval_metric=None, feature_types=None,\n",
       "              gamma=None, grow_policy=None, importance_type=None,\n",
       "              interaction_constraints=None, learning_rate=None, max_bin=None,\n",
       "              max_cat_threshold=None, max_cat_to_onehot=None,\n",
       "              max_delta_step=None, max_depth=None, max_leaves=None,\n",
       "              min_child_weight=None, missing=nan, monotone_constraints=None,\n",
       "              multi_strategy=None, n_estimators=None, n_jobs=None,\n",
       "              num_parallel_tree=None, objective=&#x27;multi:softprob&#x27;, ...)</pre></div></div></div></div></div>"
      ],
      "text/plain": [
       "XGBClassifier(base_score=None, booster=None, callbacks=None,\n",
       "              colsample_bylevel=None, colsample_bynode=None,\n",
       "              colsample_bytree=None, device=None, early_stopping_rounds=None,\n",
       "              enable_categorical=False, eval_metric=None, feature_types=None,\n",
       "              gamma=None, grow_policy=None, importance_type=None,\n",
       "              interaction_constraints=None, learning_rate=None, max_bin=None,\n",
       "              max_cat_threshold=None, max_cat_to_onehot=None,\n",
       "              max_delta_step=None, max_depth=None, max_leaves=None,\n",
       "              min_child_weight=None, missing=nan, monotone_constraints=None,\n",
       "              multi_strategy=None, n_estimators=None, n_jobs=None,\n",
       "              num_parallel_tree=None, objective='multi:softprob', ...)"
      ]
     },
     "execution_count": 38,
     "metadata": {},
     "output_type": "execute_result"
    }
   ],
   "source": [
    "# We create the model instance\n",
    "\n",
    "xgbc = XGBClassifier()\n",
    "\n",
    "# Train the model with the data\n",
    "\n",
    "xgbc.fit(x_train, y_train)"
   ]
  },
  {
   "cell_type": "code",
   "execution_count": 39,
   "id": "67451e3b",
   "metadata": {
    "execution": {
     "iopub.execute_input": "2025-06-28T01:35:12.639088Z",
     "iopub.status.busy": "2025-06-28T01:35:12.638838Z",
     "iopub.status.idle": "2025-06-28T01:35:12.641844Z",
     "shell.execute_reply": "2025-06-28T01:35:12.641283Z"
    },
    "papermill": {
     "duration": 0.016742,
     "end_time": "2025-06-28T01:35:12.642825",
     "exception": false,
     "start_time": "2025-06-28T01:35:12.626083",
     "status": "completed"
    },
    "tags": []
   },
   "outputs": [],
   "source": [
    "#evaluator(xgbc, x_val, y_val, le, 3, \"XGBClassifier\")"
   ]
  },
  {
   "cell_type": "markdown",
   "id": "d0c83b64",
   "metadata": {
    "papermill": {
     "duration": 0.01276,
     "end_time": "2025-06-28T01:35:12.667967",
     "exception": false,
     "start_time": "2025-06-28T01:35:12.655207",
     "status": "completed"
    },
    "tags": []
   },
   "source": [
    "XGBClassifier initial MAP@3 Score: 0.3307"
   ]
  },
  {
   "cell_type": "code",
   "execution_count": 40,
   "id": "33c937ce",
   "metadata": {
    "execution": {
     "iopub.execute_input": "2025-06-28T01:35:12.693356Z",
     "iopub.status.busy": "2025-06-28T01:35:12.693113Z",
     "iopub.status.idle": "2025-06-28T01:35:12.696921Z",
     "shell.execute_reply": "2025-06-28T01:35:12.696372Z"
    },
    "papermill": {
     "duration": 0.018337,
     "end_time": "2025-06-28T01:35:12.698007",
     "exception": false,
     "start_time": "2025-06-28T01:35:12.679670",
     "status": "completed"
    },
    "tags": []
   },
   "outputs": [
    {
     "data": {
      "text/plain": [
       "'\\n# We apply the function for CV\\n\\nxgbc_params = xgbc.get_params()\\n\\nxgbc_cv_scores = cv_evaluator(\\n    model_class=XGBClassifier,\\n    model_params=xgbc_params,\\n    x=x_end,\\n    y=y_fertilizers, \\n    enc=le,\\n    k_map=3,\\n    model_name=\"XGBClassifier\"\\n)\\n'"
      ]
     },
     "execution_count": 40,
     "metadata": {},
     "output_type": "execute_result"
    }
   ],
   "source": [
    "'''\n",
    "# We apply the function for CV\n",
    "\n",
    "xgbc_params = xgbc.get_params()\n",
    "\n",
    "xgbc_cv_scores = cv_evaluator(\n",
    "    model_class=XGBClassifier,\n",
    "    model_params=xgbc_params,\n",
    "    x=x_end,\n",
    "    y=y_fertilizers, \n",
    "    enc=le,\n",
    "    k_map=3,\n",
    "    model_name=\"XGBClassifier\"\n",
    ")\n",
    "'''"
   ]
  },
  {
   "cell_type": "markdown",
   "id": "faf2d09a",
   "metadata": {
    "papermill": {
     "duration": 0.011127,
     "end_time": "2025-06-28T01:35:12.721750",
     "exception": false,
     "start_time": "2025-06-28T01:35:12.710623",
     "status": "completed"
    },
    "tags": []
   },
   "source": [
    "--- CV Summary for XGBClassifier ---\n",
    "\n",
    "MAP@3 Scores for fold: [0.3294 0.3306 0.3304 0.3308 0.3305]\n",
    "\n",
    "MAP@3 average: 0.3303\n",
    "\n",
    "Standard deviation of MAP@3: 0.0005"
   ]
  },
  {
   "cell_type": "markdown",
   "id": "2d4a161e",
   "metadata": {
    "papermill": {
     "duration": 0.011213,
     "end_time": "2025-06-28T01:35:12.744316",
     "exception": false,
     "start_time": "2025-06-28T01:35:12.733103",
     "status": "completed"
    },
    "tags": []
   },
   "source": [
    "## Third model: LGBMClassifier"
   ]
  },
  {
   "cell_type": "code",
   "execution_count": 41,
   "id": "ead70045",
   "metadata": {
    "execution": {
     "iopub.execute_input": "2025-06-28T01:35:12.768334Z",
     "iopub.status.busy": "2025-06-28T01:35:12.768083Z",
     "iopub.status.idle": "2025-06-28T01:35:32.482799Z",
     "shell.execute_reply": "2025-06-28T01:35:32.482192Z"
    },
    "papermill": {
     "duration": 19.728433,
     "end_time": "2025-06-28T01:35:32.484048",
     "exception": false,
     "start_time": "2025-06-28T01:35:12.755615",
     "status": "completed"
    },
    "tags": []
   },
   "outputs": [
    {
     "name": "stdout",
     "output_type": "stream",
     "text": [
      "[LightGBM] [Warning] Found whitespace in feature_names, replace with underlines\n"
     ]
    },
    {
     "data": {
      "text/html": [
       "<style>#sk-container-id-2 {color: black;background-color: white;}#sk-container-id-2 pre{padding: 0;}#sk-container-id-2 div.sk-toggleable {background-color: white;}#sk-container-id-2 label.sk-toggleable__label {cursor: pointer;display: block;width: 100%;margin-bottom: 0;padding: 0.3em;box-sizing: border-box;text-align: center;}#sk-container-id-2 label.sk-toggleable__label-arrow:before {content: \"▸\";float: left;margin-right: 0.25em;color: #696969;}#sk-container-id-2 label.sk-toggleable__label-arrow:hover:before {color: black;}#sk-container-id-2 div.sk-estimator:hover label.sk-toggleable__label-arrow:before {color: black;}#sk-container-id-2 div.sk-toggleable__content {max-height: 0;max-width: 0;overflow: hidden;text-align: left;background-color: #f0f8ff;}#sk-container-id-2 div.sk-toggleable__content pre {margin: 0.2em;color: black;border-radius: 0.25em;background-color: #f0f8ff;}#sk-container-id-2 input.sk-toggleable__control:checked~div.sk-toggleable__content {max-height: 200px;max-width: 100%;overflow: auto;}#sk-container-id-2 input.sk-toggleable__control:checked~label.sk-toggleable__label-arrow:before {content: \"▾\";}#sk-container-id-2 div.sk-estimator input.sk-toggleable__control:checked~label.sk-toggleable__label {background-color: #d4ebff;}#sk-container-id-2 div.sk-label input.sk-toggleable__control:checked~label.sk-toggleable__label {background-color: #d4ebff;}#sk-container-id-2 input.sk-hidden--visually {border: 0;clip: rect(1px 1px 1px 1px);clip: rect(1px, 1px, 1px, 1px);height: 1px;margin: -1px;overflow: hidden;padding: 0;position: absolute;width: 1px;}#sk-container-id-2 div.sk-estimator {font-family: monospace;background-color: #f0f8ff;border: 1px dotted black;border-radius: 0.25em;box-sizing: border-box;margin-bottom: 0.5em;}#sk-container-id-2 div.sk-estimator:hover {background-color: #d4ebff;}#sk-container-id-2 div.sk-parallel-item::after {content: \"\";width: 100%;border-bottom: 1px solid gray;flex-grow: 1;}#sk-container-id-2 div.sk-label:hover label.sk-toggleable__label {background-color: #d4ebff;}#sk-container-id-2 div.sk-serial::before {content: \"\";position: absolute;border-left: 1px solid gray;box-sizing: border-box;top: 0;bottom: 0;left: 50%;z-index: 0;}#sk-container-id-2 div.sk-serial {display: flex;flex-direction: column;align-items: center;background-color: white;padding-right: 0.2em;padding-left: 0.2em;position: relative;}#sk-container-id-2 div.sk-item {position: relative;z-index: 1;}#sk-container-id-2 div.sk-parallel {display: flex;align-items: stretch;justify-content: center;background-color: white;position: relative;}#sk-container-id-2 div.sk-item::before, #sk-container-id-2 div.sk-parallel-item::before {content: \"\";position: absolute;border-left: 1px solid gray;box-sizing: border-box;top: 0;bottom: 0;left: 50%;z-index: -1;}#sk-container-id-2 div.sk-parallel-item {display: flex;flex-direction: column;z-index: 1;position: relative;background-color: white;}#sk-container-id-2 div.sk-parallel-item:first-child::after {align-self: flex-end;width: 50%;}#sk-container-id-2 div.sk-parallel-item:last-child::after {align-self: flex-start;width: 50%;}#sk-container-id-2 div.sk-parallel-item:only-child::after {width: 0;}#sk-container-id-2 div.sk-dashed-wrapped {border: 1px dashed gray;margin: 0 0.4em 0.5em 0.4em;box-sizing: border-box;padding-bottom: 0.4em;background-color: white;}#sk-container-id-2 div.sk-label label {font-family: monospace;font-weight: bold;display: inline-block;line-height: 1.2em;}#sk-container-id-2 div.sk-label-container {text-align: center;}#sk-container-id-2 div.sk-container {/* jupyter's `normalize.less` sets `[hidden] { display: none; }` but bootstrap.min.css set `[hidden] { display: none !important; }` so we also need the `!important` here to be able to override the default hidden behavior on the sphinx rendered scikit-learn.org. See: https://github.com/scikit-learn/scikit-learn/issues/21755 */display: inline-block !important;position: relative;}#sk-container-id-2 div.sk-text-repr-fallback {display: none;}</style><div id=\"sk-container-id-2\" class=\"sk-top-container\"><div class=\"sk-text-repr-fallback\"><pre>LGBMClassifier(verbose=0)</pre><b>In a Jupyter environment, please rerun this cell to show the HTML representation or trust the notebook. <br />On GitHub, the HTML representation is unable to render, please try loading this page with nbviewer.org.</b></div><div class=\"sk-container\" hidden><div class=\"sk-item\"><div class=\"sk-estimator sk-toggleable\"><input class=\"sk-toggleable__control sk-hidden--visually\" id=\"sk-estimator-id-2\" type=\"checkbox\" checked><label for=\"sk-estimator-id-2\" class=\"sk-toggleable__label sk-toggleable__label-arrow\">LGBMClassifier</label><div class=\"sk-toggleable__content\"><pre>LGBMClassifier(verbose=0)</pre></div></div></div></div></div>"
      ],
      "text/plain": [
       "LGBMClassifier(verbose=0)"
      ]
     },
     "execution_count": 41,
     "metadata": {},
     "output_type": "execute_result"
    }
   ],
   "source": [
    "# We create the model instance\n",
    "\n",
    "lgbmc = LGBMClassifier(verbose=0)\n",
    "\n",
    "# Train the model with the data\n",
    "\n",
    "lgbmc.fit(x_train, y_train)"
   ]
  },
  {
   "cell_type": "code",
   "execution_count": 42,
   "id": "7cfe79ed",
   "metadata": {
    "execution": {
     "iopub.execute_input": "2025-06-28T01:35:32.509383Z",
     "iopub.status.busy": "2025-06-28T01:35:32.509113Z",
     "iopub.status.idle": "2025-06-28T01:35:32.512194Z",
     "shell.execute_reply": "2025-06-28T01:35:32.511594Z"
    },
    "papermill": {
     "duration": 0.016407,
     "end_time": "2025-06-28T01:35:32.513135",
     "exception": false,
     "start_time": "2025-06-28T01:35:32.496728",
     "status": "completed"
    },
    "tags": []
   },
   "outputs": [],
   "source": [
    "#evaluator(lgbmc, x_val, y_val, le, 3, \"LGBMClassifier\")"
   ]
  },
  {
   "cell_type": "markdown",
   "id": "ad4ecb0e",
   "metadata": {
    "papermill": {
     "duration": 0.011154,
     "end_time": "2025-06-28T01:35:32.536783",
     "exception": false,
     "start_time": "2025-06-28T01:35:32.525629",
     "status": "completed"
    },
    "tags": []
   },
   "source": [
    "LGBMClassifier initial MAP@3 Score: 0.3230"
   ]
  },
  {
   "cell_type": "code",
   "execution_count": 43,
   "id": "4764b4bd",
   "metadata": {
    "execution": {
     "iopub.execute_input": "2025-06-28T01:35:32.560596Z",
     "iopub.status.busy": "2025-06-28T01:35:32.560345Z",
     "iopub.status.idle": "2025-06-28T01:35:32.564454Z",
     "shell.execute_reply": "2025-06-28T01:35:32.563881Z"
    },
    "papermill": {
     "duration": 0.017517,
     "end_time": "2025-06-28T01:35:32.565614",
     "exception": false,
     "start_time": "2025-06-28T01:35:32.548097",
     "status": "completed"
    },
    "tags": []
   },
   "outputs": [
    {
     "data": {
      "text/plain": [
       "'\\n# We apply the function for CV\\n\\nlgbmc_params = lgbmc.get_params()\\n\\nlgbmc_cv_scores = cv_evaluator(\\n    model_class=LGBMClassifier,\\n    model_params=lgbmc_params,\\n    x=x_end,\\n    y=y_fertilizers, \\n    enc=le,\\n    k_map=3,\\n    model_name=\"LGBMClassifier\"\\n)\\n'"
      ]
     },
     "execution_count": 43,
     "metadata": {},
     "output_type": "execute_result"
    }
   ],
   "source": [
    "'''\n",
    "# We apply the function for CV\n",
    "\n",
    "lgbmc_params = lgbmc.get_params()\n",
    "\n",
    "lgbmc_cv_scores = cv_evaluator(\n",
    "    model_class=LGBMClassifier,\n",
    "    model_params=lgbmc_params,\n",
    "    x=x_end,\n",
    "    y=y_fertilizers, \n",
    "    enc=le,\n",
    "    k_map=3,\n",
    "    model_name=\"LGBMClassifier\"\n",
    ")\n",
    "'''"
   ]
  },
  {
   "cell_type": "markdown",
   "id": "6590960d",
   "metadata": {
    "papermill": {
     "duration": 0.011226,
     "end_time": "2025-06-28T01:35:32.588366",
     "exception": false,
     "start_time": "2025-06-28T01:35:32.577140",
     "status": "completed"
    },
    "tags": []
   },
   "source": [
    "--- CV Summary for LGBMClassifier ---\n",
    "\n",
    "MAP@3 Scores for fold: [0.3219 0.3236 0.3228 0.3225 0.3226]\n",
    "\n",
    "MAP@3 average: 0.3227\n",
    "\n",
    "Standard deviation of MAP@3: 0.0005"
   ]
  },
  {
   "cell_type": "markdown",
   "id": "3fde4261",
   "metadata": {
    "papermill": {
     "duration": 0.011311,
     "end_time": "2025-06-28T01:35:32.611081",
     "exception": false,
     "start_time": "2025-06-28T01:35:32.599770",
     "status": "completed"
    },
    "tags": []
   },
   "source": [
    "## Fourth model: CatBoostClassifier"
   ]
  },
  {
   "cell_type": "code",
   "execution_count": 44,
   "id": "89808098",
   "metadata": {
    "execution": {
     "iopub.execute_input": "2025-06-28T01:35:32.635148Z",
     "iopub.status.busy": "2025-06-28T01:35:32.634870Z",
     "iopub.status.idle": "2025-06-28T01:39:55.164067Z",
     "shell.execute_reply": "2025-06-28T01:39:55.163422Z"
    },
    "papermill": {
     "duration": 262.554967,
     "end_time": "2025-06-28T01:39:55.177488",
     "exception": false,
     "start_time": "2025-06-28T01:35:32.622521",
     "status": "completed"
    },
    "tags": []
   },
   "outputs": [
    {
     "data": {
      "text/plain": [
       "<catboost.core.CatBoostClassifier at 0x7c2d51199710>"
      ]
     },
     "execution_count": 44,
     "metadata": {},
     "output_type": "execute_result"
    }
   ],
   "source": [
    "# We create the model instance\n",
    "\n",
    "cbc = CatBoostClassifier(silent=True)\n",
    "\n",
    "# Train the model with the data\n",
    "\n",
    "cbc.fit(x_train, y_train)"
   ]
  },
  {
   "cell_type": "code",
   "execution_count": 45,
   "id": "4531a275",
   "metadata": {
    "execution": {
     "iopub.execute_input": "2025-06-28T01:39:55.203512Z",
     "iopub.status.busy": "2025-06-28T01:39:55.202803Z",
     "iopub.status.idle": "2025-06-28T01:39:55.205848Z",
     "shell.execute_reply": "2025-06-28T01:39:55.205280Z"
    },
    "papermill": {
     "duration": 0.017161,
     "end_time": "2025-06-28T01:39:55.206876",
     "exception": false,
     "start_time": "2025-06-28T01:39:55.189715",
     "status": "completed"
    },
    "tags": []
   },
   "outputs": [],
   "source": [
    "#evaluator(cbc, x_val, y_val, le, 3, \"CatBoostClassifier\")"
   ]
  },
  {
   "cell_type": "markdown",
   "id": "ddb32682",
   "metadata": {
    "papermill": {
     "duration": 0.01139,
     "end_time": "2025-06-28T01:39:55.230937",
     "exception": false,
     "start_time": "2025-06-28T01:39:55.219547",
     "status": "completed"
    },
    "tags": []
   },
   "source": [
    "CatBoostClassifier initial MAP@3 Score: 0.3275"
   ]
  },
  {
   "cell_type": "code",
   "execution_count": 46,
   "id": "551b7be5",
   "metadata": {
    "execution": {
     "iopub.execute_input": "2025-06-28T01:39:55.255141Z",
     "iopub.status.busy": "2025-06-28T01:39:55.254862Z",
     "iopub.status.idle": "2025-06-28T01:39:55.259157Z",
     "shell.execute_reply": "2025-06-28T01:39:55.258584Z"
    },
    "papermill": {
     "duration": 0.017489,
     "end_time": "2025-06-28T01:39:55.260025",
     "exception": false,
     "start_time": "2025-06-28T01:39:55.242536",
     "status": "completed"
    },
    "tags": []
   },
   "outputs": [
    {
     "data": {
      "text/plain": [
       "'\\n# We apply the function for CV\\n\\ncbc_params = cbc.get_all_params()\\n\\ncbc_cv_scores = cv_evaluator(\\n    model_class=CatBoostClassifier,\\n    model_params=cbc_params,\\n    x=x_end,\\n    y=y_fertilizers, \\n    enc=le,\\n    k_map=3,\\n    model_name=\"CatBoostClassifier\"\\n)\\n'"
      ]
     },
     "execution_count": 46,
     "metadata": {},
     "output_type": "execute_result"
    }
   ],
   "source": [
    "'''\n",
    "# We apply the function for CV\n",
    "\n",
    "cbc_params = cbc.get_all_params()\n",
    "\n",
    "cbc_cv_scores = cv_evaluator(\n",
    "    model_class=CatBoostClassifier,\n",
    "    model_params=cbc_params,\n",
    "    x=x_end,\n",
    "    y=y_fertilizers, \n",
    "    enc=le,\n",
    "    k_map=3,\n",
    "    model_name=\"CatBoostClassifier\"\n",
    ")\n",
    "'''"
   ]
  },
  {
   "cell_type": "markdown",
   "id": "e0940e60",
   "metadata": {
    "papermill": {
     "duration": 0.011637,
     "end_time": "2025-06-28T01:39:55.283539",
     "exception": false,
     "start_time": "2025-06-28T01:39:55.271902",
     "status": "completed"
    },
    "tags": []
   },
   "source": [
    "## Ensemble Method"
   ]
  },
  {
   "cell_type": "markdown",
   "id": "25f843b7",
   "metadata": {
    "papermill": {
     "duration": 0.011802,
     "end_time": "2025-06-28T01:39:55.306968",
     "exception": false,
     "start_time": "2025-06-28T01:39:55.295166",
     "status": "completed"
    },
    "tags": []
   },
   "source": [
    "AdaBoostClassifier initial MAP@3 Score: 0.2783 - estimator=xgbc\n",
    "\n",
    "BaggingClassifier initial MAP@3 Score: 0.3342"
   ]
  },
  {
   "cell_type": "code",
   "execution_count": 47,
   "id": "90faf7f9",
   "metadata": {
    "execution": {
     "iopub.execute_input": "2025-06-28T01:39:55.331166Z",
     "iopub.status.busy": "2025-06-28T01:39:55.330952Z",
     "iopub.status.idle": "2025-06-28T01:44:57.429850Z",
     "shell.execute_reply": "2025-06-28T01:44:57.429083Z"
    },
    "papermill": {
     "duration": 302.124493,
     "end_time": "2025-06-28T01:44:57.443124",
     "exception": false,
     "start_time": "2025-06-28T01:39:55.318631",
     "status": "completed"
    },
    "tags": []
   },
   "outputs": [
    {
     "name": "stdout",
     "output_type": "stream",
     "text": [
      "[LightGBM] [Warning] Found whitespace in feature_names, replace with underlines\n"
     ]
    },
    {
     "data": {
      "text/html": [
       "<style>#sk-container-id-3 {color: black;background-color: white;}#sk-container-id-3 pre{padding: 0;}#sk-container-id-3 div.sk-toggleable {background-color: white;}#sk-container-id-3 label.sk-toggleable__label {cursor: pointer;display: block;width: 100%;margin-bottom: 0;padding: 0.3em;box-sizing: border-box;text-align: center;}#sk-container-id-3 label.sk-toggleable__label-arrow:before {content: \"▸\";float: left;margin-right: 0.25em;color: #696969;}#sk-container-id-3 label.sk-toggleable__label-arrow:hover:before {color: black;}#sk-container-id-3 div.sk-estimator:hover label.sk-toggleable__label-arrow:before {color: black;}#sk-container-id-3 div.sk-toggleable__content {max-height: 0;max-width: 0;overflow: hidden;text-align: left;background-color: #f0f8ff;}#sk-container-id-3 div.sk-toggleable__content pre {margin: 0.2em;color: black;border-radius: 0.25em;background-color: #f0f8ff;}#sk-container-id-3 input.sk-toggleable__control:checked~div.sk-toggleable__content {max-height: 200px;max-width: 100%;overflow: auto;}#sk-container-id-3 input.sk-toggleable__control:checked~label.sk-toggleable__label-arrow:before {content: \"▾\";}#sk-container-id-3 div.sk-estimator input.sk-toggleable__control:checked~label.sk-toggleable__label {background-color: #d4ebff;}#sk-container-id-3 div.sk-label input.sk-toggleable__control:checked~label.sk-toggleable__label {background-color: #d4ebff;}#sk-container-id-3 input.sk-hidden--visually {border: 0;clip: rect(1px 1px 1px 1px);clip: rect(1px, 1px, 1px, 1px);height: 1px;margin: -1px;overflow: hidden;padding: 0;position: absolute;width: 1px;}#sk-container-id-3 div.sk-estimator {font-family: monospace;background-color: #f0f8ff;border: 1px dotted black;border-radius: 0.25em;box-sizing: border-box;margin-bottom: 0.5em;}#sk-container-id-3 div.sk-estimator:hover {background-color: #d4ebff;}#sk-container-id-3 div.sk-parallel-item::after {content: \"\";width: 100%;border-bottom: 1px solid gray;flex-grow: 1;}#sk-container-id-3 div.sk-label:hover label.sk-toggleable__label {background-color: #d4ebff;}#sk-container-id-3 div.sk-serial::before {content: \"\";position: absolute;border-left: 1px solid gray;box-sizing: border-box;top: 0;bottom: 0;left: 50%;z-index: 0;}#sk-container-id-3 div.sk-serial {display: flex;flex-direction: column;align-items: center;background-color: white;padding-right: 0.2em;padding-left: 0.2em;position: relative;}#sk-container-id-3 div.sk-item {position: relative;z-index: 1;}#sk-container-id-3 div.sk-parallel {display: flex;align-items: stretch;justify-content: center;background-color: white;position: relative;}#sk-container-id-3 div.sk-item::before, #sk-container-id-3 div.sk-parallel-item::before {content: \"\";position: absolute;border-left: 1px solid gray;box-sizing: border-box;top: 0;bottom: 0;left: 50%;z-index: -1;}#sk-container-id-3 div.sk-parallel-item {display: flex;flex-direction: column;z-index: 1;position: relative;background-color: white;}#sk-container-id-3 div.sk-parallel-item:first-child::after {align-self: flex-end;width: 50%;}#sk-container-id-3 div.sk-parallel-item:last-child::after {align-self: flex-start;width: 50%;}#sk-container-id-3 div.sk-parallel-item:only-child::after {width: 0;}#sk-container-id-3 div.sk-dashed-wrapped {border: 1px dashed gray;margin: 0 0.4em 0.5em 0.4em;box-sizing: border-box;padding-bottom: 0.4em;background-color: white;}#sk-container-id-3 div.sk-label label {font-family: monospace;font-weight: bold;display: inline-block;line-height: 1.2em;}#sk-container-id-3 div.sk-label-container {text-align: center;}#sk-container-id-3 div.sk-container {/* jupyter's `normalize.less` sets `[hidden] { display: none; }` but bootstrap.min.css set `[hidden] { display: none !important; }` so we also need the `!important` here to be able to override the default hidden behavior on the sphinx rendered scikit-learn.org. See: https://github.com/scikit-learn/scikit-learn/issues/21755 */display: inline-block !important;position: relative;}#sk-container-id-3 div.sk-text-repr-fallback {display: none;}</style><div id=\"sk-container-id-3\" class=\"sk-top-container\"><div class=\"sk-text-repr-fallback\"><pre>VotingClassifier(estimators=[(&#x27;xgbc&#x27;,\n",
       "                              XGBClassifier(base_score=None, booster=None,\n",
       "                                            callbacks=None,\n",
       "                                            colsample_bylevel=None,\n",
       "                                            colsample_bynode=None,\n",
       "                                            colsample_bytree=None, device=None,\n",
       "                                            early_stopping_rounds=None,\n",
       "                                            enable_categorical=False,\n",
       "                                            eval_metric=None,\n",
       "                                            feature_types=None, gamma=None,\n",
       "                                            grow_policy=None,\n",
       "                                            importance_type=None,\n",
       "                                            interaction_constraints=None,\n",
       "                                            learning_r...\n",
       "                                            max_cat_to_onehot=None,\n",
       "                                            max_delta_step=None, max_depth=None,\n",
       "                                            max_leaves=None,\n",
       "                                            min_child_weight=None, missing=nan,\n",
       "                                            monotone_constraints=None,\n",
       "                                            multi_strategy=None,\n",
       "                                            n_estimators=None, n_jobs=None,\n",
       "                                            num_parallel_tree=None,\n",
       "                                            objective=&#x27;multi:softprob&#x27;, ...)),\n",
       "                             (&#x27;lgbmc&#x27;, LGBMClassifier(verbose=0)),\n",
       "                             (&#x27;cbc&#x27;,\n",
       "                              &lt;catboost.core.CatBoostClassifier object at 0x7c2d51199710&gt;)],\n",
       "                 voting=&#x27;soft&#x27;)</pre><b>In a Jupyter environment, please rerun this cell to show the HTML representation or trust the notebook. <br />On GitHub, the HTML representation is unable to render, please try loading this page with nbviewer.org.</b></div><div class=\"sk-container\" hidden><div class=\"sk-item sk-dashed-wrapped\"><div class=\"sk-label-container\"><div class=\"sk-label sk-toggleable\"><input class=\"sk-toggleable__control sk-hidden--visually\" id=\"sk-estimator-id-3\" type=\"checkbox\" ><label for=\"sk-estimator-id-3\" class=\"sk-toggleable__label sk-toggleable__label-arrow\">VotingClassifier</label><div class=\"sk-toggleable__content\"><pre>VotingClassifier(estimators=[(&#x27;xgbc&#x27;,\n",
       "                              XGBClassifier(base_score=None, booster=None,\n",
       "                                            callbacks=None,\n",
       "                                            colsample_bylevel=None,\n",
       "                                            colsample_bynode=None,\n",
       "                                            colsample_bytree=None, device=None,\n",
       "                                            early_stopping_rounds=None,\n",
       "                                            enable_categorical=False,\n",
       "                                            eval_metric=None,\n",
       "                                            feature_types=None, gamma=None,\n",
       "                                            grow_policy=None,\n",
       "                                            importance_type=None,\n",
       "                                            interaction_constraints=None,\n",
       "                                            learning_r...\n",
       "                                            max_cat_to_onehot=None,\n",
       "                                            max_delta_step=None, max_depth=None,\n",
       "                                            max_leaves=None,\n",
       "                                            min_child_weight=None, missing=nan,\n",
       "                                            monotone_constraints=None,\n",
       "                                            multi_strategy=None,\n",
       "                                            n_estimators=None, n_jobs=None,\n",
       "                                            num_parallel_tree=None,\n",
       "                                            objective=&#x27;multi:softprob&#x27;, ...)),\n",
       "                             (&#x27;lgbmc&#x27;, LGBMClassifier(verbose=0)),\n",
       "                             (&#x27;cbc&#x27;,\n",
       "                              &lt;catboost.core.CatBoostClassifier object at 0x7c2d51199710&gt;)],\n",
       "                 voting=&#x27;soft&#x27;)</pre></div></div></div><div class=\"sk-parallel\"><div class=\"sk-parallel-item\"><div class=\"sk-item\"><div class=\"sk-label-container\"><div class=\"sk-label sk-toggleable\"><label>xgbc</label></div></div><div class=\"sk-serial\"><div class=\"sk-item\"><div class=\"sk-estimator sk-toggleable\"><input class=\"sk-toggleable__control sk-hidden--visually\" id=\"sk-estimator-id-4\" type=\"checkbox\" ><label for=\"sk-estimator-id-4\" class=\"sk-toggleable__label sk-toggleable__label-arrow\">XGBClassifier</label><div class=\"sk-toggleable__content\"><pre>XGBClassifier(base_score=None, booster=None, callbacks=None,\n",
       "              colsample_bylevel=None, colsample_bynode=None,\n",
       "              colsample_bytree=None, device=None, early_stopping_rounds=None,\n",
       "              enable_categorical=False, eval_metric=None, feature_types=None,\n",
       "              gamma=None, grow_policy=None, importance_type=None,\n",
       "              interaction_constraints=None, learning_rate=None, max_bin=None,\n",
       "              max_cat_threshold=None, max_cat_to_onehot=None,\n",
       "              max_delta_step=None, max_depth=None, max_leaves=None,\n",
       "              min_child_weight=None, missing=nan, monotone_constraints=None,\n",
       "              multi_strategy=None, n_estimators=None, n_jobs=None,\n",
       "              num_parallel_tree=None, objective=&#x27;multi:softprob&#x27;, ...)</pre></div></div></div></div></div></div><div class=\"sk-parallel-item\"><div class=\"sk-item\"><div class=\"sk-label-container\"><div class=\"sk-label sk-toggleable\"><label>lgbmc</label></div></div><div class=\"sk-serial\"><div class=\"sk-item\"><div class=\"sk-estimator sk-toggleable\"><input class=\"sk-toggleable__control sk-hidden--visually\" id=\"sk-estimator-id-5\" type=\"checkbox\" ><label for=\"sk-estimator-id-5\" class=\"sk-toggleable__label sk-toggleable__label-arrow\">LGBMClassifier</label><div class=\"sk-toggleable__content\"><pre>LGBMClassifier(verbose=0)</pre></div></div></div></div></div></div><div class=\"sk-parallel-item\"><div class=\"sk-item\"><div class=\"sk-label-container\"><div class=\"sk-label sk-toggleable\"><label>cbc</label></div></div><div class=\"sk-serial\"><div class=\"sk-item\"><div class=\"sk-estimator sk-toggleable\"><input class=\"sk-toggleable__control sk-hidden--visually\" id=\"sk-estimator-id-6\" type=\"checkbox\" ><label for=\"sk-estimator-id-6\" class=\"sk-toggleable__label sk-toggleable__label-arrow\">CatBoostClassifier</label><div class=\"sk-toggleable__content\"><pre>&lt;catboost.core.CatBoostClassifier object at 0x7c2d51199710&gt;</pre></div></div></div></div></div></div></div></div></div></div>"
      ],
      "text/plain": [
       "VotingClassifier(estimators=[('xgbc',\n",
       "                              XGBClassifier(base_score=None, booster=None,\n",
       "                                            callbacks=None,\n",
       "                                            colsample_bylevel=None,\n",
       "                                            colsample_bynode=None,\n",
       "                                            colsample_bytree=None, device=None,\n",
       "                                            early_stopping_rounds=None,\n",
       "                                            enable_categorical=False,\n",
       "                                            eval_metric=None,\n",
       "                                            feature_types=None, gamma=None,\n",
       "                                            grow_policy=None,\n",
       "                                            importance_type=None,\n",
       "                                            interaction_constraints=None,\n",
       "                                            learning_r...\n",
       "                                            max_cat_to_onehot=None,\n",
       "                                            max_delta_step=None, max_depth=None,\n",
       "                                            max_leaves=None,\n",
       "                                            min_child_weight=None, missing=nan,\n",
       "                                            monotone_constraints=None,\n",
       "                                            multi_strategy=None,\n",
       "                                            n_estimators=None, n_jobs=None,\n",
       "                                            num_parallel_tree=None,\n",
       "                                            objective='multi:softprob', ...)),\n",
       "                             ('lgbmc', LGBMClassifier(verbose=0)),\n",
       "                             ('cbc',\n",
       "                              <catboost.core.CatBoostClassifier object at 0x7c2d51199710>)],\n",
       "                 voting='soft')"
      ]
     },
     "execution_count": 47,
     "metadata": {},
     "output_type": "execute_result"
    }
   ],
   "source": [
    "# We create the model instance\n",
    "\n",
    "voc = VotingClassifier(\n",
    "    estimators=[(\"xgbc\", xgbc), (\"lgbmc\", lgbmc), (\"cbc\", cbc)], voting=\"soft\"\n",
    ")\n",
    "\n",
    "# Train the model with the data\n",
    "\n",
    "voc.fit(x_train, y_train)"
   ]
  },
  {
   "cell_type": "code",
   "execution_count": 48,
   "id": "a4effe46",
   "metadata": {
    "execution": {
     "iopub.execute_input": "2025-06-28T01:44:57.467564Z",
     "iopub.status.busy": "2025-06-28T01:44:57.467368Z",
     "iopub.status.idle": "2025-06-28T01:45:23.160926Z",
     "shell.execute_reply": "2025-06-28T01:45:23.160348Z"
    },
    "papermill": {
     "duration": 25.707075,
     "end_time": "2025-06-28T01:45:23.162090",
     "exception": false,
     "start_time": "2025-06-28T01:44:57.455015",
     "status": "completed"
    },
    "tags": []
   },
   "outputs": [
    {
     "name": "stdout",
     "output_type": "stream",
     "text": [
      "\n",
      "VotingClassifier initial MAP@3 Score: 0.3315\n"
     ]
    }
   ],
   "source": [
    "evaluator(voc, x_val, y_val, le, 3, \"VotingClassifier\")"
   ]
  },
  {
   "cell_type": "markdown",
   "id": "941bae7c",
   "metadata": {
    "papermill": {
     "duration": 0.011572,
     "end_time": "2025-06-28T01:45:23.186448",
     "exception": false,
     "start_time": "2025-06-28T01:45:23.174876",
     "status": "completed"
    },
    "tags": []
   },
   "source": [
    "VotingClassifier initial MAP@3 Score: 0.3299 - estimators=[(\"lrc\", lrc), (\"xgbc\", xgbc), (\"cbc\", cbc)]\n",
    "\n",
    "VotingClassifier initial MAP@3 Score: 0.3315 - estimators=[(\"xgbc\", xgbc), (\"lgbmc\", lgbmc), (\"cbc\", cbc)]"
   ]
  },
  {
   "cell_type": "code",
   "execution_count": 49,
   "id": "c1dd2ca7",
   "metadata": {
    "execution": {
     "iopub.execute_input": "2025-06-28T01:45:23.210812Z",
     "iopub.status.busy": "2025-06-28T01:45:23.210636Z",
     "iopub.status.idle": "2025-06-28T01:45:23.214487Z",
     "shell.execute_reply": "2025-06-28T01:45:23.213928Z"
    },
    "papermill": {
     "duration": 0.017078,
     "end_time": "2025-06-28T01:45:23.215371",
     "exception": false,
     "start_time": "2025-06-28T01:45:23.198293",
     "status": "completed"
    },
    "tags": []
   },
   "outputs": [
    {
     "data": {
      "text/plain": [
       "'\\n# We apply the function for CV\\n\\nvoc_params = {\\n    \"estimators\" : [(\"xgbc\", xgbc), (\"lgbmc\", lgbmc), (\"cbc\", cbc)], \\n    \"voting\" : \"soft\"\\n}\\n\\nvoc_cv_scores = cv_evaluator(\\n    model_class=VotingClassifier,\\n    model_params=voc_params,\\n    x=x_end,\\n    y=y_fertilizers, \\n    enc=le,\\n    k_map=3,\\n    model_name=\"VotingClassifier\"\\n)\\n'"
      ]
     },
     "execution_count": 49,
     "metadata": {},
     "output_type": "execute_result"
    }
   ],
   "source": [
    "'''\n",
    "# We apply the function for CV\n",
    "\n",
    "voc_params = {\n",
    "    \"estimators\" : [(\"xgbc\", xgbc), (\"lgbmc\", lgbmc), (\"cbc\", cbc)], \n",
    "    \"voting\" : \"soft\"\n",
    "}\n",
    "\n",
    "voc_cv_scores = cv_evaluator(\n",
    "    model_class=VotingClassifier,\n",
    "    model_params=voc_params,\n",
    "    x=x_end,\n",
    "    y=y_fertilizers, \n",
    "    enc=le,\n",
    "    k_map=3,\n",
    "    model_name=\"VotingClassifier\"\n",
    ")\n",
    "'''"
   ]
  },
  {
   "cell_type": "markdown",
   "id": "be82e872",
   "metadata": {
    "papermill": {
     "duration": 0.011582,
     "end_time": "2025-06-28T01:45:23.238853",
     "exception": false,
     "start_time": "2025-06-28T01:45:23.227271",
     "status": "completed"
    },
    "tags": []
   },
   "source": [
    "--- CV Summary for VotingClassifier ---\n",
    "\n",
    "MAP@3 Scores for fold: [0.3308 0.3316 0.3321 0.3309 0.3312]\n",
    "\n",
    "MAP@3 average: 0.3313\n",
    "\n",
    "Standard deviation of MAP@3: 0.0005"
   ]
  },
  {
   "cell_type": "markdown",
   "id": "e3ddcd45",
   "metadata": {
    "papermill": {
     "duration": 0.011832,
     "end_time": "2025-06-28T01:45:23.262467",
     "exception": false,
     "start_time": "2025-06-28T01:45:23.250635",
     "status": "completed"
    },
    "tags": []
   },
   "source": [
    "# Modeling"
   ]
  },
  {
   "cell_type": "code",
   "execution_count": 50,
   "id": "2f409d98",
   "metadata": {
    "execution": {
     "iopub.execute_input": "2025-06-28T01:45:23.287182Z",
     "iopub.status.busy": "2025-06-28T01:45:23.286918Z",
     "iopub.status.idle": "2025-06-28T01:45:23.294167Z",
     "shell.execute_reply": "2025-06-28T01:45:23.293555Z"
    },
    "papermill": {
     "duration": 0.020829,
     "end_time": "2025-06-28T01:45:23.295085",
     "exception": false,
     "start_time": "2025-06-28T01:45:23.274256",
     "status": "completed"
    },
    "tags": []
   },
   "outputs": [
    {
     "data": {
      "text/plain": [
       "{'estimators': [('xgbc',\n",
       "   XGBClassifier(base_score=None, booster=None, callbacks=None,\n",
       "                 colsample_bylevel=None, colsample_bynode=None,\n",
       "                 colsample_bytree=None, device=None, early_stopping_rounds=None,\n",
       "                 enable_categorical=False, eval_metric=None, feature_types=None,\n",
       "                 gamma=None, grow_policy=None, importance_type=None,\n",
       "                 interaction_constraints=None, learning_rate=None, max_bin=None,\n",
       "                 max_cat_threshold=None, max_cat_to_onehot=None,\n",
       "                 max_delta_step=None, max_depth=None, max_leaves=None,\n",
       "                 min_child_weight=None, missing=nan, monotone_constraints=None,\n",
       "                 multi_strategy=None, n_estimators=None, n_jobs=None,\n",
       "                 num_parallel_tree=None, objective='multi:softprob', ...)),\n",
       "  ('lgbmc', LGBMClassifier(verbose=0)),\n",
       "  ('cbc', <catboost.core.CatBoostClassifier at 0x7c2d51199710>)],\n",
       " 'flatten_transform': True,\n",
       " 'n_jobs': None,\n",
       " 'verbose': False,\n",
       " 'voting': 'soft',\n",
       " 'weights': None,\n",
       " 'xgbc': XGBClassifier(base_score=None, booster=None, callbacks=None,\n",
       "               colsample_bylevel=None, colsample_bynode=None,\n",
       "               colsample_bytree=None, device=None, early_stopping_rounds=None,\n",
       "               enable_categorical=False, eval_metric=None, feature_types=None,\n",
       "               gamma=None, grow_policy=None, importance_type=None,\n",
       "               interaction_constraints=None, learning_rate=None, max_bin=None,\n",
       "               max_cat_threshold=None, max_cat_to_onehot=None,\n",
       "               max_delta_step=None, max_depth=None, max_leaves=None,\n",
       "               min_child_weight=None, missing=nan, monotone_constraints=None,\n",
       "               multi_strategy=None, n_estimators=None, n_jobs=None,\n",
       "               num_parallel_tree=None, objective='multi:softprob', ...),\n",
       " 'lgbmc': LGBMClassifier(verbose=0),\n",
       " 'cbc': <catboost.core.CatBoostClassifier at 0x7c2d51199710>,\n",
       " 'xgbc__objective': 'multi:softprob',\n",
       " 'xgbc__base_score': None,\n",
       " 'xgbc__booster': None,\n",
       " 'xgbc__callbacks': None,\n",
       " 'xgbc__colsample_bylevel': None,\n",
       " 'xgbc__colsample_bynode': None,\n",
       " 'xgbc__colsample_bytree': None,\n",
       " 'xgbc__device': None,\n",
       " 'xgbc__early_stopping_rounds': None,\n",
       " 'xgbc__enable_categorical': False,\n",
       " 'xgbc__eval_metric': None,\n",
       " 'xgbc__feature_types': None,\n",
       " 'xgbc__gamma': None,\n",
       " 'xgbc__grow_policy': None,\n",
       " 'xgbc__importance_type': None,\n",
       " 'xgbc__interaction_constraints': None,\n",
       " 'xgbc__learning_rate': None,\n",
       " 'xgbc__max_bin': None,\n",
       " 'xgbc__max_cat_threshold': None,\n",
       " 'xgbc__max_cat_to_onehot': None,\n",
       " 'xgbc__max_delta_step': None,\n",
       " 'xgbc__max_depth': None,\n",
       " 'xgbc__max_leaves': None,\n",
       " 'xgbc__min_child_weight': None,\n",
       " 'xgbc__missing': nan,\n",
       " 'xgbc__monotone_constraints': None,\n",
       " 'xgbc__multi_strategy': None,\n",
       " 'xgbc__n_estimators': None,\n",
       " 'xgbc__n_jobs': None,\n",
       " 'xgbc__num_parallel_tree': None,\n",
       " 'xgbc__random_state': None,\n",
       " 'xgbc__reg_alpha': None,\n",
       " 'xgbc__reg_lambda': None,\n",
       " 'xgbc__sampling_method': None,\n",
       " 'xgbc__scale_pos_weight': None,\n",
       " 'xgbc__subsample': None,\n",
       " 'xgbc__tree_method': None,\n",
       " 'xgbc__validate_parameters': None,\n",
       " 'xgbc__verbosity': None,\n",
       " 'lgbmc__boosting_type': 'gbdt',\n",
       " 'lgbmc__class_weight': None,\n",
       " 'lgbmc__colsample_bytree': 1.0,\n",
       " 'lgbmc__importance_type': 'split',\n",
       " 'lgbmc__learning_rate': 0.1,\n",
       " 'lgbmc__max_depth': -1,\n",
       " 'lgbmc__min_child_samples': 20,\n",
       " 'lgbmc__min_child_weight': 0.001,\n",
       " 'lgbmc__min_split_gain': 0.0,\n",
       " 'lgbmc__n_estimators': 100,\n",
       " 'lgbmc__n_jobs': None,\n",
       " 'lgbmc__num_leaves': 31,\n",
       " 'lgbmc__objective': None,\n",
       " 'lgbmc__random_state': None,\n",
       " 'lgbmc__reg_alpha': 0.0,\n",
       " 'lgbmc__reg_lambda': 0.0,\n",
       " 'lgbmc__subsample': 1.0,\n",
       " 'lgbmc__subsample_for_bin': 200000,\n",
       " 'lgbmc__subsample_freq': 0,\n",
       " 'lgbmc__verbose': 0,\n",
       " 'cbc__silent': True}"
      ]
     },
     "execution_count": 50,
     "metadata": {},
     "output_type": "execute_result"
    }
   ],
   "source": [
    "final_model = voc\n",
    "\n",
    "final_model.get_params()"
   ]
  },
  {
   "cell_type": "code",
   "execution_count": 51,
   "id": "12e48293",
   "metadata": {
    "execution": {
     "iopub.execute_input": "2025-06-28T01:45:23.320077Z",
     "iopub.status.busy": "2025-06-28T01:45:23.319850Z",
     "iopub.status.idle": "2025-06-28T01:45:23.324054Z",
     "shell.execute_reply": "2025-06-28T01:45:23.323562Z"
    },
    "papermill": {
     "duration": 0.017648,
     "end_time": "2025-06-28T01:45:23.325036",
     "exception": false,
     "start_time": "2025-06-28T01:45:23.307388",
     "status": "completed"
    },
    "tags": []
   },
   "outputs": [
    {
     "data": {
      "text/plain": [
       "'\\n# Permutation Importance\\n\\nperm_importance = permutation_importance(final_model, x_val, y_val, n_repeats=30, random_state=42, n_jobs=-1)\\nperm_importance_df = pd.DataFrame({\\n    \\'Feature\\': x_end.columns,\\n    \\'Importance Mean\\': perm_importance.importances_mean,\\n    \\'Importance Std\\': perm_importance.importances_std\\n})\\nprint(\"\\nPermutation Importance:\\n\")\\nprint(perm_importance_df.sort_values(by=\\'Importance Mean\\', ascending=False))\\n'"
      ]
     },
     "execution_count": 51,
     "metadata": {},
     "output_type": "execute_result"
    }
   ],
   "source": [
    "'''\n",
    "# Permutation Importance\n",
    "\n",
    "perm_importance = permutation_importance(final_model, x_val, y_val, n_repeats=30, random_state=42, n_jobs=-1)\n",
    "perm_importance_df = pd.DataFrame({\n",
    "    'Feature': x_end.columns,\n",
    "    'Importance Mean': perm_importance.importances_mean,\n",
    "    'Importance Std': perm_importance.importances_std\n",
    "})\n",
    "print(\"\\nPermutation Importance:\\n\")\n",
    "print(perm_importance_df.sort_values(by='Importance Mean', ascending=False))\n",
    "'''"
   ]
  },
  {
   "cell_type": "markdown",
   "id": "e3b3b796",
   "metadata": {
    "papermill": {
     "duration": 0.012081,
     "end_time": "2025-06-28T01:45:23.351118",
     "exception": false,
     "start_time": "2025-06-28T01:45:23.339037",
     "status": "completed"
    },
    "tags": []
   },
   "source": [
    "# Test data"
   ]
  },
  {
   "cell_type": "code",
   "execution_count": 52,
   "id": "50fc5a66",
   "metadata": {
    "execution": {
     "iopub.execute_input": "2025-06-28T01:45:23.376340Z",
     "iopub.status.busy": "2025-06-28T01:45:23.376122Z",
     "iopub.status.idle": "2025-06-28T01:45:23.679170Z",
     "shell.execute_reply": "2025-06-28T01:45:23.678686Z"
    },
    "papermill": {
     "duration": 0.316872,
     "end_time": "2025-06-28T01:45:23.680298",
     "exception": false,
     "start_time": "2025-06-28T01:45:23.363426",
     "status": "completed"
    },
    "tags": []
   },
   "outputs": [],
   "source": [
    "# We load the test data and submission sample data\n",
    "\n",
    "df_test = pd.read_csv(\"/kaggle/input/playground-series-s5e6/test.csv\")\n",
    "\n",
    "fertilizer_sample = pd.read_csv(\"/kaggle/input/playground-series-s5e6/sample_submission.csv\")"
   ]
  },
  {
   "cell_type": "code",
   "execution_count": 53,
   "id": "8356da70",
   "metadata": {
    "execution": {
     "iopub.execute_input": "2025-06-28T01:45:23.708317Z",
     "iopub.status.busy": "2025-06-28T01:45:23.708103Z",
     "iopub.status.idle": "2025-06-28T01:45:23.711982Z",
     "shell.execute_reply": "2025-06-28T01:45:23.711322Z"
    },
    "papermill": {
     "duration": 0.018999,
     "end_time": "2025-06-28T01:45:23.713031",
     "exception": false,
     "start_time": "2025-06-28T01:45:23.694032",
     "status": "completed"
    },
    "tags": []
   },
   "outputs": [
    {
     "name": "stdout",
     "output_type": "stream",
     "text": [
      "Shape: (250000, 9)\n"
     ]
    }
   ],
   "source": [
    "# We check the shape\n",
    "\n",
    "print(f\"Shape: {df_test.shape}\")"
   ]
  },
  {
   "cell_type": "code",
   "execution_count": 54,
   "id": "965fa61e",
   "metadata": {
    "execution": {
     "iopub.execute_input": "2025-06-28T01:45:23.739693Z",
     "iopub.status.busy": "2025-06-28T01:45:23.739118Z",
     "iopub.status.idle": "2025-06-28T01:45:23.746553Z",
     "shell.execute_reply": "2025-06-28T01:45:23.745983Z"
    },
    "papermill": {
     "duration": 0.021546,
     "end_time": "2025-06-28T01:45:23.747542",
     "exception": false,
     "start_time": "2025-06-28T01:45:23.725996",
     "status": "completed"
    },
    "tags": []
   },
   "outputs": [
    {
     "data": {
      "text/html": [
       "<div>\n",
       "<style scoped>\n",
       "    .dataframe tbody tr th:only-of-type {\n",
       "        vertical-align: middle;\n",
       "    }\n",
       "\n",
       "    .dataframe tbody tr th {\n",
       "        vertical-align: top;\n",
       "    }\n",
       "\n",
       "    .dataframe thead th {\n",
       "        text-align: right;\n",
       "    }\n",
       "</style>\n",
       "<table border=\"1\" class=\"dataframe\">\n",
       "  <thead>\n",
       "    <tr style=\"text-align: right;\">\n",
       "      <th></th>\n",
       "      <th>id</th>\n",
       "      <th>Temparature</th>\n",
       "      <th>Humidity</th>\n",
       "      <th>Moisture</th>\n",
       "      <th>Soil Type</th>\n",
       "      <th>Crop Type</th>\n",
       "      <th>Nitrogen</th>\n",
       "      <th>Potassium</th>\n",
       "      <th>Phosphorous</th>\n",
       "    </tr>\n",
       "  </thead>\n",
       "  <tbody>\n",
       "    <tr>\n",
       "      <th>0</th>\n",
       "      <td>750000</td>\n",
       "      <td>31</td>\n",
       "      <td>70</td>\n",
       "      <td>52</td>\n",
       "      <td>Sandy</td>\n",
       "      <td>Wheat</td>\n",
       "      <td>34</td>\n",
       "      <td>11</td>\n",
       "      <td>24</td>\n",
       "    </tr>\n",
       "    <tr>\n",
       "      <th>1</th>\n",
       "      <td>750001</td>\n",
       "      <td>27</td>\n",
       "      <td>62</td>\n",
       "      <td>45</td>\n",
       "      <td>Red</td>\n",
       "      <td>Sugarcane</td>\n",
       "      <td>30</td>\n",
       "      <td>14</td>\n",
       "      <td>15</td>\n",
       "    </tr>\n",
       "    <tr>\n",
       "      <th>2</th>\n",
       "      <td>750002</td>\n",
       "      <td>28</td>\n",
       "      <td>72</td>\n",
       "      <td>28</td>\n",
       "      <td>Clayey</td>\n",
       "      <td>Ground Nuts</td>\n",
       "      <td>14</td>\n",
       "      <td>15</td>\n",
       "      <td>4</td>\n",
       "    </tr>\n",
       "    <tr>\n",
       "      <th>3</th>\n",
       "      <td>750003</td>\n",
       "      <td>37</td>\n",
       "      <td>53</td>\n",
       "      <td>57</td>\n",
       "      <td>Black</td>\n",
       "      <td>Ground Nuts</td>\n",
       "      <td>18</td>\n",
       "      <td>17</td>\n",
       "      <td>36</td>\n",
       "    </tr>\n",
       "    <tr>\n",
       "      <th>4</th>\n",
       "      <td>750004</td>\n",
       "      <td>31</td>\n",
       "      <td>55</td>\n",
       "      <td>32</td>\n",
       "      <td>Red</td>\n",
       "      <td>Pulses</td>\n",
       "      <td>13</td>\n",
       "      <td>19</td>\n",
       "      <td>14</td>\n",
       "    </tr>\n",
       "  </tbody>\n",
       "</table>\n",
       "</div>"
      ],
      "text/plain": [
       "       id  Temparature  Humidity  Moisture Soil Type    Crop Type  Nitrogen  \\\n",
       "0  750000           31        70        52     Sandy        Wheat        34   \n",
       "1  750001           27        62        45       Red    Sugarcane        30   \n",
       "2  750002           28        72        28    Clayey  Ground Nuts        14   \n",
       "3  750003           37        53        57     Black  Ground Nuts        18   \n",
       "4  750004           31        55        32       Red       Pulses        13   \n",
       "\n",
       "   Potassium  Phosphorous  \n",
       "0         11           24  \n",
       "1         14           15  \n",
       "2         15            4  \n",
       "3         17           36  \n",
       "4         19           14  "
      ]
     },
     "execution_count": 54,
     "metadata": {},
     "output_type": "execute_result"
    }
   ],
   "source": [
    "df_test.head()"
   ]
  },
  {
   "cell_type": "code",
   "execution_count": 55,
   "id": "de30b871",
   "metadata": {
    "execution": {
     "iopub.execute_input": "2025-06-28T01:45:23.772834Z",
     "iopub.status.busy": "2025-06-28T01:45:23.772623Z",
     "iopub.status.idle": "2025-06-28T01:45:23.797800Z",
     "shell.execute_reply": "2025-06-28T01:45:23.797158Z"
    },
    "papermill": {
     "duration": 0.039221,
     "end_time": "2025-06-28T01:45:23.799080",
     "exception": false,
     "start_time": "2025-06-28T01:45:23.759859",
     "status": "completed"
    },
    "tags": []
   },
   "outputs": [
    {
     "name": "stdout",
     "output_type": "stream",
     "text": [
      "<class 'pandas.core.frame.DataFrame'>\n",
      "RangeIndex: 250000 entries, 0 to 249999\n",
      "Data columns (total 9 columns):\n",
      " #   Column       Non-Null Count   Dtype \n",
      "---  ------       --------------   ----- \n",
      " 0   id           250000 non-null  int64 \n",
      " 1   Temparature  250000 non-null  int64 \n",
      " 2   Humidity     250000 non-null  int64 \n",
      " 3   Moisture     250000 non-null  int64 \n",
      " 4   Soil Type    250000 non-null  object\n",
      " 5   Crop Type    250000 non-null  object\n",
      " 6   Nitrogen     250000 non-null  int64 \n",
      " 7   Potassium    250000 non-null  int64 \n",
      " 8   Phosphorous  250000 non-null  int64 \n",
      "dtypes: int64(7), object(2)\n",
      "memory usage: 17.2+ MB\n"
     ]
    }
   ],
   "source": [
    "df_test.info()"
   ]
  },
  {
   "cell_type": "code",
   "execution_count": 56,
   "id": "3bbee338",
   "metadata": {
    "execution": {
     "iopub.execute_input": "2025-06-28T01:45:23.826923Z",
     "iopub.status.busy": "2025-06-28T01:45:23.826685Z",
     "iopub.status.idle": "2025-06-28T01:45:23.874540Z",
     "shell.execute_reply": "2025-06-28T01:45:23.874008Z"
    },
    "papermill": {
     "duration": 0.06263,
     "end_time": "2025-06-28T01:45:23.875438",
     "exception": false,
     "start_time": "2025-06-28T01:45:23.812808",
     "status": "completed"
    },
    "tags": []
   },
   "outputs": [
    {
     "data": {
      "text/html": [
       "<div>\n",
       "<style scoped>\n",
       "    .dataframe tbody tr th:only-of-type {\n",
       "        vertical-align: middle;\n",
       "    }\n",
       "\n",
       "    .dataframe tbody tr th {\n",
       "        vertical-align: top;\n",
       "    }\n",
       "\n",
       "    .dataframe thead th {\n",
       "        text-align: right;\n",
       "    }\n",
       "</style>\n",
       "<table border=\"1\" class=\"dataframe\">\n",
       "  <thead>\n",
       "    <tr style=\"text-align: right;\">\n",
       "      <th></th>\n",
       "      <th>count</th>\n",
       "      <th>mean</th>\n",
       "      <th>std</th>\n",
       "      <th>min</th>\n",
       "      <th>25%</th>\n",
       "      <th>50%</th>\n",
       "      <th>75%</th>\n",
       "      <th>max</th>\n",
       "    </tr>\n",
       "  </thead>\n",
       "  <tbody>\n",
       "    <tr>\n",
       "      <th>id</th>\n",
       "      <td>250000.0</td>\n",
       "      <td>874999.500000</td>\n",
       "      <td>72168.927986</td>\n",
       "      <td>750000.0</td>\n",
       "      <td>812499.75</td>\n",
       "      <td>874999.5</td>\n",
       "      <td>937499.25</td>\n",
       "      <td>999999.0</td>\n",
       "    </tr>\n",
       "    <tr>\n",
       "      <th>Temparature</th>\n",
       "      <td>250000.0</td>\n",
       "      <td>31.491648</td>\n",
       "      <td>4.024093</td>\n",
       "      <td>25.0</td>\n",
       "      <td>28.00</td>\n",
       "      <td>31.0</td>\n",
       "      <td>35.00</td>\n",
       "      <td>38.0</td>\n",
       "    </tr>\n",
       "    <tr>\n",
       "      <th>Humidity</th>\n",
       "      <td>250000.0</td>\n",
       "      <td>61.045120</td>\n",
       "      <td>6.636372</td>\n",
       "      <td>50.0</td>\n",
       "      <td>55.00</td>\n",
       "      <td>61.0</td>\n",
       "      <td>67.00</td>\n",
       "      <td>72.0</td>\n",
       "    </tr>\n",
       "    <tr>\n",
       "      <th>Moisture</th>\n",
       "      <td>250000.0</td>\n",
       "      <td>45.190444</td>\n",
       "      <td>11.793167</td>\n",
       "      <td>25.0</td>\n",
       "      <td>35.00</td>\n",
       "      <td>45.0</td>\n",
       "      <td>55.00</td>\n",
       "      <td>65.0</td>\n",
       "    </tr>\n",
       "    <tr>\n",
       "      <th>Nitrogen</th>\n",
       "      <td>250000.0</td>\n",
       "      <td>23.139612</td>\n",
       "      <td>11.215956</td>\n",
       "      <td>4.0</td>\n",
       "      <td>13.00</td>\n",
       "      <td>23.0</td>\n",
       "      <td>33.00</td>\n",
       "      <td>42.0</td>\n",
       "    </tr>\n",
       "    <tr>\n",
       "      <th>Potassium</th>\n",
       "      <td>250000.0</td>\n",
       "      <td>9.487764</td>\n",
       "      <td>5.766860</td>\n",
       "      <td>0.0</td>\n",
       "      <td>4.00</td>\n",
       "      <td>10.0</td>\n",
       "      <td>14.00</td>\n",
       "      <td>19.0</td>\n",
       "    </tr>\n",
       "    <tr>\n",
       "      <th>Phosphorous</th>\n",
       "      <td>250000.0</td>\n",
       "      <td>21.122060</td>\n",
       "      <td>12.380870</td>\n",
       "      <td>0.0</td>\n",
       "      <td>10.00</td>\n",
       "      <td>21.0</td>\n",
       "      <td>32.00</td>\n",
       "      <td>42.0</td>\n",
       "    </tr>\n",
       "  </tbody>\n",
       "</table>\n",
       "</div>"
      ],
      "text/plain": [
       "                count           mean           std       min        25%  \\\n",
       "id           250000.0  874999.500000  72168.927986  750000.0  812499.75   \n",
       "Temparature  250000.0      31.491648      4.024093      25.0      28.00   \n",
       "Humidity     250000.0      61.045120      6.636372      50.0      55.00   \n",
       "Moisture     250000.0      45.190444     11.793167      25.0      35.00   \n",
       "Nitrogen     250000.0      23.139612     11.215956       4.0      13.00   \n",
       "Potassium    250000.0       9.487764      5.766860       0.0       4.00   \n",
       "Phosphorous  250000.0      21.122060     12.380870       0.0      10.00   \n",
       "\n",
       "                  50%        75%       max  \n",
       "id           874999.5  937499.25  999999.0  \n",
       "Temparature      31.0      35.00      38.0  \n",
       "Humidity         61.0      67.00      72.0  \n",
       "Moisture         45.0      55.00      65.0  \n",
       "Nitrogen         23.0      33.00      42.0  \n",
       "Potassium        10.0      14.00      19.0  \n",
       "Phosphorous      21.0      32.00      42.0  "
      ]
     },
     "execution_count": 56,
     "metadata": {},
     "output_type": "execute_result"
    }
   ],
   "source": [
    "df_test.describe().T"
   ]
  },
  {
   "cell_type": "code",
   "execution_count": 57,
   "id": "1538661a",
   "metadata": {
    "execution": {
     "iopub.execute_input": "2025-06-28T01:45:23.901533Z",
     "iopub.status.busy": "2025-06-28T01:45:23.901337Z",
     "iopub.status.idle": "2025-06-28T01:45:23.948737Z",
     "shell.execute_reply": "2025-06-28T01:45:23.948270Z"
    },
    "papermill": {
     "duration": 0.061137,
     "end_time": "2025-06-28T01:45:23.949584",
     "exception": false,
     "start_time": "2025-06-28T01:45:23.888447",
     "status": "completed"
    },
    "tags": []
   },
   "outputs": [
    {
     "data": {
      "text/html": [
       "<div>\n",
       "<style scoped>\n",
       "    .dataframe tbody tr th:only-of-type {\n",
       "        vertical-align: middle;\n",
       "    }\n",
       "\n",
       "    .dataframe tbody tr th {\n",
       "        vertical-align: top;\n",
       "    }\n",
       "\n",
       "    .dataframe thead th {\n",
       "        text-align: right;\n",
       "    }\n",
       "</style>\n",
       "<table border=\"1\" class=\"dataframe\">\n",
       "  <thead>\n",
       "    <tr style=\"text-align: right;\">\n",
       "      <th></th>\n",
       "      <th>Soil Type</th>\n",
       "      <th>Crop Type</th>\n",
       "    </tr>\n",
       "  </thead>\n",
       "  <tbody>\n",
       "    <tr>\n",
       "      <th>count</th>\n",
       "      <td>250000</td>\n",
       "      <td>250000</td>\n",
       "    </tr>\n",
       "    <tr>\n",
       "      <th>unique</th>\n",
       "      <td>5</td>\n",
       "      <td>11</td>\n",
       "    </tr>\n",
       "    <tr>\n",
       "      <th>top</th>\n",
       "      <td>Sandy</td>\n",
       "      <td>Paddy</td>\n",
       "    </tr>\n",
       "    <tr>\n",
       "      <th>freq</th>\n",
       "      <td>52323</td>\n",
       "      <td>28332</td>\n",
       "    </tr>\n",
       "  </tbody>\n",
       "</table>\n",
       "</div>"
      ],
      "text/plain": [
       "       Soil Type Crop Type\n",
       "count     250000    250000\n",
       "unique         5        11\n",
       "top        Sandy     Paddy\n",
       "freq       52323     28332"
      ]
     },
     "execution_count": 57,
     "metadata": {},
     "output_type": "execute_result"
    }
   ],
   "source": [
    "df_test.describe(exclude = np.number)"
   ]
  },
  {
   "cell_type": "markdown",
   "id": "7e6e8252",
   "metadata": {
    "papermill": {
     "duration": 0.012435,
     "end_time": "2025-06-28T01:45:23.975104",
     "exception": false,
     "start_time": "2025-06-28T01:45:23.962669",
     "status": "completed"
    },
    "tags": []
   },
   "source": [
    "## Data wrangling & Preprocessing"
   ]
  },
  {
   "cell_type": "code",
   "execution_count": 58,
   "id": "be252732",
   "metadata": {
    "execution": {
     "iopub.execute_input": "2025-06-28T01:45:24.001163Z",
     "iopub.status.busy": "2025-06-28T01:45:24.000934Z",
     "iopub.status.idle": "2025-06-28T01:45:24.084016Z",
     "shell.execute_reply": "2025-06-28T01:45:24.083269Z"
    },
    "papermill": {
     "duration": 0.097297,
     "end_time": "2025-06-28T01:45:24.084920",
     "exception": false,
     "start_time": "2025-06-28T01:45:23.987623",
     "status": "completed"
    },
    "tags": []
   },
   "outputs": [
    {
     "name": "stdout",
     "output_type": "stream",
     "text": [
      "Length: 250000\n",
      "Duplicates: 0\n"
     ]
    }
   ],
   "source": [
    "# We check that no duplicate data is found\n",
    "\n",
    "print(f\"Length: {len(df_test.duplicated())}\")\n",
    "\n",
    "print(f\"Duplicates: {df_test.duplicated().sum()}\")"
   ]
  },
  {
   "cell_type": "code",
   "execution_count": 59,
   "id": "507d3dfc",
   "metadata": {
    "execution": {
     "iopub.execute_input": "2025-06-28T01:45:24.111784Z",
     "iopub.status.busy": "2025-06-28T01:45:24.111563Z",
     "iopub.status.idle": "2025-06-28T01:45:24.157668Z",
     "shell.execute_reply": "2025-06-28T01:45:24.157049Z"
    },
    "papermill": {
     "duration": 0.060411,
     "end_time": "2025-06-28T01:45:24.158632",
     "exception": false,
     "start_time": "2025-06-28T01:45:24.098221",
     "status": "completed"
    },
    "tags": []
   },
   "outputs": [
    {
     "data": {
      "text/html": [
       "<div>\n",
       "<style scoped>\n",
       "    .dataframe tbody tr th:only-of-type {\n",
       "        vertical-align: middle;\n",
       "    }\n",
       "\n",
       "    .dataframe tbody tr th {\n",
       "        vertical-align: top;\n",
       "    }\n",
       "\n",
       "    .dataframe thead th {\n",
       "        text-align: right;\n",
       "    }\n",
       "</style>\n",
       "<table border=\"1\" class=\"dataframe\">\n",
       "  <thead>\n",
       "    <tr style=\"text-align: right;\">\n",
       "      <th></th>\n",
       "      <th>Null Data</th>\n",
       "      <th>Percentage</th>\n",
       "    </tr>\n",
       "  </thead>\n",
       "  <tbody>\n",
       "    <tr>\n",
       "      <th>id</th>\n",
       "      <td>0</td>\n",
       "      <td>0.0</td>\n",
       "    </tr>\n",
       "    <tr>\n",
       "      <th>Temparature</th>\n",
       "      <td>0</td>\n",
       "      <td>0.0</td>\n",
       "    </tr>\n",
       "    <tr>\n",
       "      <th>Humidity</th>\n",
       "      <td>0</td>\n",
       "      <td>0.0</td>\n",
       "    </tr>\n",
       "    <tr>\n",
       "      <th>Moisture</th>\n",
       "      <td>0</td>\n",
       "      <td>0.0</td>\n",
       "    </tr>\n",
       "    <tr>\n",
       "      <th>Soil Type</th>\n",
       "      <td>0</td>\n",
       "      <td>0.0</td>\n",
       "    </tr>\n",
       "    <tr>\n",
       "      <th>Crop Type</th>\n",
       "      <td>0</td>\n",
       "      <td>0.0</td>\n",
       "    </tr>\n",
       "    <tr>\n",
       "      <th>Nitrogen</th>\n",
       "      <td>0</td>\n",
       "      <td>0.0</td>\n",
       "    </tr>\n",
       "    <tr>\n",
       "      <th>Potassium</th>\n",
       "      <td>0</td>\n",
       "      <td>0.0</td>\n",
       "    </tr>\n",
       "    <tr>\n",
       "      <th>Phosphorous</th>\n",
       "      <td>0</td>\n",
       "      <td>0.0</td>\n",
       "    </tr>\n",
       "  </tbody>\n",
       "</table>\n",
       "</div>"
      ],
      "text/plain": [
       "             Null Data  Percentage\n",
       "id                   0         0.0\n",
       "Temparature          0         0.0\n",
       "Humidity             0         0.0\n",
       "Moisture             0         0.0\n",
       "Soil Type            0         0.0\n",
       "Crop Type            0         0.0\n",
       "Nitrogen             0         0.0\n",
       "Potassium            0         0.0\n",
       "Phosphorous          0         0.0"
      ]
     },
     "execution_count": 59,
     "metadata": {},
     "output_type": "execute_result"
    }
   ],
   "source": [
    "# We confirm that there is no null values\n",
    "\n",
    "null_values_test = pd.DataFrame(\n",
    "        {f\"Null Data\" : df_test.isnull().sum(), \n",
    "         \"Percentage\" : (df_test.isnull().sum()) / (len(df_test)) * (100)})\n",
    "\n",
    "null_values_test"
   ]
  },
  {
   "cell_type": "code",
   "execution_count": 60,
   "id": "5f5ba3d7",
   "metadata": {
    "execution": {
     "iopub.execute_input": "2025-06-28T01:45:24.186643Z",
     "iopub.status.busy": "2025-06-28T01:45:24.186393Z",
     "iopub.status.idle": "2025-06-28T01:45:24.192099Z",
     "shell.execute_reply": "2025-06-28T01:45:24.191606Z"
    },
    "papermill": {
     "duration": 0.020665,
     "end_time": "2025-06-28T01:45:24.193263",
     "exception": false,
     "start_time": "2025-06-28T01:45:24.172598",
     "status": "completed"
    },
    "tags": []
   },
   "outputs": [],
   "source": [
    "# We start by removing the variables that we will not use\n",
    "\n",
    "test_new = df_test.drop(columns=[\"id\"])"
   ]
  },
  {
   "cell_type": "code",
   "execution_count": 61,
   "id": "c253c171",
   "metadata": {
    "execution": {
     "iopub.execute_input": "2025-06-28T01:45:24.220144Z",
     "iopub.status.busy": "2025-06-28T01:45:24.219895Z",
     "iopub.status.idle": "2025-06-28T01:45:24.250793Z",
     "shell.execute_reply": "2025-06-28T01:45:24.250209Z"
    },
    "papermill": {
     "duration": 0.045402,
     "end_time": "2025-06-28T01:45:24.251977",
     "exception": false,
     "start_time": "2025-06-28T01:45:24.206575",
     "status": "completed"
    },
    "tags": []
   },
   "outputs": [],
   "source": [
    "# We separate the climate variables into bins\n",
    "\n",
    "test_new[\"Temparature_Bins\"] = pd.cut(test_new[\"Temparature\"], bins_tem, labels=labels_climate)\n",
    "test_new[\"Humidity_Bins\"] = pd.cut(test_new[\"Humidity\"], bins_hum, labels=labels_climate)\n",
    "test_new[\"Moisture_Bins\"] = pd.cut(test_new[\"Moisture\"], bins_moi, labels=labels_climate)\n",
    "\n",
    "# We separate the elements variables into bins\n",
    "\n",
    "test_new[\"Nitrogen_Bins\"] = pd.cut(test_new[\"Nitrogen\"], bins_n, labels=labels_elements)\n",
    "test_new[\"Potassium_Bins\"] = pd.cut(test_new[\"Potassium\"], bins_k, labels=labels_elements)\n",
    "test_new[\"Phosphorous_Bins\"] = pd.cut(test_new[\"Phosphorous\"], bins_p, labels=labels_elements)"
   ]
  },
  {
   "cell_type": "code",
   "execution_count": 62,
   "id": "a7fc5415",
   "metadata": {
    "execution": {
     "iopub.execute_input": "2025-06-28T01:45:24.281984Z",
     "iopub.status.busy": "2025-06-28T01:45:24.281756Z",
     "iopub.status.idle": "2025-06-28T01:45:24.307704Z",
     "shell.execute_reply": "2025-06-28T01:45:24.307084Z"
    },
    "papermill": {
     "duration": 0.042068,
     "end_time": "2025-06-28T01:45:24.309046",
     "exception": false,
     "start_time": "2025-06-28T01:45:24.266978",
     "status": "completed"
    },
    "tags": []
   },
   "outputs": [],
   "source": [
    "# Polynomial / transforms\n",
    "\n",
    "test_new[\"tem_log\"] = np.log1p(test_new[\"Temparature\"])\n",
    "test_new[\"tem_sq\"]  = test_new[\"Temparature\"] ** 2\n",
    "test_new[\"tem_cubert\"] = np.cbrt(test_new[\"Temparature\"])\n",
    "\n",
    "test_new[\"hum_log\"] = np.log1p(test_new[\"Humidity\"])\n",
    "test_new[\"hum_sq\"]  = test_new[\"Humidity\"] ** 2\n",
    "test_new[\"hum_cubert\"] = np.cbrt(test_new[\"Humidity\"])\n",
    "\n",
    "test_new[\"moi_log\"] = np.log1p(test_new[\"Moisture\"])\n",
    "test_new[\"moi_sq\"]  = test_new[\"Moisture\"] ** 2\n",
    "test_new[\"moi_cubert\"] = np.cbrt(test_new[\"Moisture\"])\n",
    "\n",
    "test_new[\"n_log\"] = np.log1p(test_new[\"Nitrogen\"])\n",
    "test_new[\"n_sq\"]  = test_new[\"Nitrogen\"] ** 2\n",
    "test_new[\"n_cubert\"] = np.cbrt(test_new[\"Nitrogen\"])\n",
    "\n",
    "test_new[\"k_log\"] = np.log1p(test_new[\"Potassium\"])\n",
    "test_new[\"k_sq\"]  = test_new[\"Potassium\"] ** 2\n",
    "test_new[\"k_cubert\"] = np.cbrt(test_new[\"Potassium\"])\n",
    "\n",
    "test_new[\"p_log\"] = np.log1p(test_new[\"Phosphorous\"])\n",
    "test_new[\"p_sq\"]  = test_new[\"Phosphorous\"] ** 2\n",
    "test_new[\"p_cubert\"] = np.cbrt(test_new[\"Phosphorous\"])"
   ]
  },
  {
   "cell_type": "code",
   "execution_count": 63,
   "id": "55052dae",
   "metadata": {
    "execution": {
     "iopub.execute_input": "2025-06-28T01:45:24.336961Z",
     "iopub.status.busy": "2025-06-28T01:45:24.336748Z",
     "iopub.status.idle": "2025-06-28T01:45:24.537551Z",
     "shell.execute_reply": "2025-06-28T01:45:24.536901Z"
    },
    "papermill": {
     "duration": 0.215809,
     "end_time": "2025-06-28T01:45:24.538917",
     "exception": false,
     "start_time": "2025-06-28T01:45:24.323108",
     "status": "completed"
    },
    "tags": []
   },
   "outputs": [],
   "source": [
    "# We encode categorical variables\n",
    "\n",
    "test_cat_cols = test_new[[\"Soil Type\", \"Crop Type\"]]\n",
    "test_rest_cols = test_new.drop(columns=[\"Soil Type\", \"Crop Type\"])\n",
    "test_cat_enc = encoder.fit_transform(test_cat_cols)\n",
    "test_encoded = pd.concat([test_rest_cols, test_cat_enc], axis=1)"
   ]
  },
  {
   "cell_type": "code",
   "execution_count": 64,
   "id": "89759107",
   "metadata": {
    "execution": {
     "iopub.execute_input": "2025-06-28T01:45:24.566915Z",
     "iopub.status.busy": "2025-06-28T01:45:24.566669Z",
     "iopub.status.idle": "2025-06-28T01:45:24.594074Z",
     "shell.execute_reply": "2025-06-28T01:45:24.593426Z"
    },
    "papermill": {
     "duration": 0.042389,
     "end_time": "2025-06-28T01:45:24.595077",
     "exception": false,
     "start_time": "2025-06-28T01:45:24.552688",
     "status": "completed"
    },
    "tags": []
   },
   "outputs": [
    {
     "name": "stdout",
     "output_type": "stream",
     "text": [
      "Temparature_Bins\n",
      "0.0    89313\n",
      "2.0    88986\n",
      "1.0    71701\n",
      "Name: count, dtype: int64\n",
      "Humidity_Bins\n",
      "1.0    86642\n",
      "0.0    86495\n",
      "2.0    76863\n",
      "Name: count, dtype: int64\n",
      "Moisture_Bins\n",
      "1.0    92250\n",
      "2.0    86522\n",
      "0.0    71228\n",
      "Name: count, dtype: int64\n",
      "Nitrogen_Bins\n",
      "1.0    97364\n",
      "2.0    77401\n",
      "0.0    75235\n",
      "Name: count, dtype: int64\n",
      "Potassium_Bins\n",
      "2.0    87702\n",
      "0.0    87318\n",
      "1.0    74980\n",
      "Name: count, dtype: int64\n",
      "Phosphorous_Bins\n",
      "0.0    91568\n",
      "1.0    88700\n",
      "2.0    69732\n",
      "Name: count, dtype: int64\n"
     ]
    }
   ],
   "source": [
    "mapper(test_encoded, \"Temparature_Bins\", climate_order)\n",
    "mapper(test_encoded, \"Humidity_Bins\", climate_order)\n",
    "mapper(test_encoded, \"Moisture_Bins\", climate_order)\n",
    "mapper(test_encoded, \"Nitrogen_Bins\", elements_order)\n",
    "mapper(test_encoded, \"Potassium_Bins\", elements_order)\n",
    "mapper(test_encoded, \"Phosphorous_Bins\", elements_order)"
   ]
  },
  {
   "cell_type": "code",
   "execution_count": 65,
   "id": "72c6d617",
   "metadata": {
    "execution": {
     "iopub.execute_input": "2025-06-28T01:45:24.621592Z",
     "iopub.status.busy": "2025-06-28T01:45:24.621381Z",
     "iopub.status.idle": "2025-06-28T01:45:24.640794Z",
     "shell.execute_reply": "2025-06-28T01:45:24.640155Z"
    },
    "papermill": {
     "duration": 0.033381,
     "end_time": "2025-06-28T01:45:24.641706",
     "exception": false,
     "start_time": "2025-06-28T01:45:24.608325",
     "status": "completed"
    },
    "tags": []
   },
   "outputs": [
    {
     "name": "stdout",
     "output_type": "stream",
     "text": [
      "<class 'pandas.core.frame.DataFrame'>\n",
      "RangeIndex: 250000 entries, 0 to 249999\n",
      "Data columns (total 46 columns):\n",
      " #   Column                 Non-Null Count   Dtype  \n",
      "---  ------                 --------------   -----  \n",
      " 0   Temparature            250000 non-null  int64  \n",
      " 1   Humidity               250000 non-null  int64  \n",
      " 2   Moisture               250000 non-null  int64  \n",
      " 3   Nitrogen               250000 non-null  int64  \n",
      " 4   Potassium              250000 non-null  int64  \n",
      " 5   Phosphorous            250000 non-null  int64  \n",
      " 6   Temparature_Bins       250000 non-null  float64\n",
      " 7   Humidity_Bins          250000 non-null  float64\n",
      " 8   Moisture_Bins          250000 non-null  float64\n",
      " 9   Nitrogen_Bins          250000 non-null  float64\n",
      " 10  Potassium_Bins         250000 non-null  float64\n",
      " 11  Phosphorous_Bins       250000 non-null  float64\n",
      " 12  tem_log                250000 non-null  float64\n",
      " 13  tem_sq                 250000 non-null  int64  \n",
      " 14  tem_cubert             250000 non-null  float64\n",
      " 15  hum_log                250000 non-null  float64\n",
      " 16  hum_sq                 250000 non-null  int64  \n",
      " 17  hum_cubert             250000 non-null  float64\n",
      " 18  moi_log                250000 non-null  float64\n",
      " 19  moi_sq                 250000 non-null  int64  \n",
      " 20  moi_cubert             250000 non-null  float64\n",
      " 21  n_log                  250000 non-null  float64\n",
      " 22  n_sq                   250000 non-null  int64  \n",
      " 23  n_cubert               250000 non-null  float64\n",
      " 24  k_log                  250000 non-null  float64\n",
      " 25  k_sq                   250000 non-null  int64  \n",
      " 26  k_cubert               250000 non-null  float64\n",
      " 27  p_log                  250000 non-null  float64\n",
      " 28  p_sq                   250000 non-null  int64  \n",
      " 29  p_cubert               250000 non-null  float64\n",
      " 30  Soil Type_Black        250000 non-null  float64\n",
      " 31  Soil Type_Clayey       250000 non-null  float64\n",
      " 32  Soil Type_Loamy        250000 non-null  float64\n",
      " 33  Soil Type_Red          250000 non-null  float64\n",
      " 34  Soil Type_Sandy        250000 non-null  float64\n",
      " 35  Crop Type_Barley       250000 non-null  float64\n",
      " 36  Crop Type_Cotton       250000 non-null  float64\n",
      " 37  Crop Type_Ground Nuts  250000 non-null  float64\n",
      " 38  Crop Type_Maize        250000 non-null  float64\n",
      " 39  Crop Type_Millets      250000 non-null  float64\n",
      " 40  Crop Type_Oil seeds    250000 non-null  float64\n",
      " 41  Crop Type_Paddy        250000 non-null  float64\n",
      " 42  Crop Type_Pulses       250000 non-null  float64\n",
      " 43  Crop Type_Sugarcane    250000 non-null  float64\n",
      " 44  Crop Type_Tobacco      250000 non-null  float64\n",
      " 45  Crop Type_Wheat        250000 non-null  float64\n",
      "dtypes: float64(34), int64(12)\n",
      "memory usage: 87.7 MB\n"
     ]
    }
   ],
   "source": [
    "test_encoded.info()"
   ]
  },
  {
   "cell_type": "code",
   "execution_count": 66,
   "id": "b34aacf9",
   "metadata": {
    "execution": {
     "iopub.execute_input": "2025-06-28T01:45:24.668980Z",
     "iopub.status.busy": "2025-06-28T01:45:24.668805Z",
     "iopub.status.idle": "2025-06-28T01:45:24.751871Z",
     "shell.execute_reply": "2025-06-28T01:45:24.751268Z"
    },
    "papermill": {
     "duration": 0.097659,
     "end_time": "2025-06-28T01:45:24.752995",
     "exception": false,
     "start_time": "2025-06-28T01:45:24.655336",
     "status": "completed"
    },
    "tags": []
   },
   "outputs": [],
   "source": [
    "# Numerical variables to scale\n",
    "\n",
    "test_numeric = test_encoded[[\n",
    "    \"Temparature\",\n",
    "    \"Humidity\",\n",
    "    \"Moisture\",\n",
    "    \"Nitrogen\",\n",
    "    \"Potassium\",\n",
    "    \"Phosphorous\",\n",
    "    \"tem_sq\",\n",
    "    \"hum_sq\",\n",
    "    \"moi_sq\",\n",
    "    \"n_sq\",\n",
    "    \"k_sq\",\n",
    "    \"p_sq\"\n",
    "]]\n",
    "test_scale_num = scaler.transform(test_numeric)\n",
    "test_rest = test_encoded.drop(columns=[\n",
    "    \"Temparature\",\n",
    "    \"Humidity\",\n",
    "    \"Moisture\",\n",
    "    \"Nitrogen\",\n",
    "    \"Potassium\",\n",
    "    \"Phosphorous\",\n",
    "    \"tem_sq\",\n",
    "    \"hum_sq\",\n",
    "    \"moi_sq\",\n",
    "    \"n_sq\",\n",
    "    \"k_sq\",\n",
    "    \"p_sq\"\n",
    "])\n",
    "test_end = pd.concat([test_scale_num, test_rest], axis=1)"
   ]
  },
  {
   "cell_type": "code",
   "execution_count": 67,
   "id": "8e3d0fa4",
   "metadata": {
    "execution": {
     "iopub.execute_input": "2025-06-28T01:45:24.781401Z",
     "iopub.status.busy": "2025-06-28T01:45:24.781159Z",
     "iopub.status.idle": "2025-06-28T01:45:25.176310Z",
     "shell.execute_reply": "2025-06-28T01:45:25.175656Z"
    },
    "papermill": {
     "duration": 0.410333,
     "end_time": "2025-06-28T01:45:25.177411",
     "exception": false,
     "start_time": "2025-06-28T01:45:24.767078",
     "status": "completed"
    },
    "tags": []
   },
   "outputs": [
    {
     "data": {
      "text/html": [
       "<div>\n",
       "<style scoped>\n",
       "    .dataframe tbody tr th:only-of-type {\n",
       "        vertical-align: middle;\n",
       "    }\n",
       "\n",
       "    .dataframe tbody tr th {\n",
       "        vertical-align: top;\n",
       "    }\n",
       "\n",
       "    .dataframe thead th {\n",
       "        text-align: right;\n",
       "    }\n",
       "</style>\n",
       "<table border=\"1\" class=\"dataframe\">\n",
       "  <thead>\n",
       "    <tr style=\"text-align: right;\">\n",
       "      <th></th>\n",
       "      <th>count</th>\n",
       "      <th>mean</th>\n",
       "      <th>std</th>\n",
       "      <th>min</th>\n",
       "      <th>25%</th>\n",
       "      <th>50%</th>\n",
       "      <th>75%</th>\n",
       "      <th>max</th>\n",
       "    </tr>\n",
       "  </thead>\n",
       "  <tbody>\n",
       "    <tr>\n",
       "      <th>Temparature</th>\n",
       "      <td>250000.0</td>\n",
       "      <td>-0.002960</td>\n",
       "      <td>0.999633</td>\n",
       "      <td>-1.615563</td>\n",
       "      <td>-0.870328</td>\n",
       "      <td>-0.125092</td>\n",
       "      <td>0.868556</td>\n",
       "      <td>1.613792</td>\n",
       "    </tr>\n",
       "    <tr>\n",
       "      <th>Humidity</th>\n",
       "      <td>250000.0</td>\n",
       "      <td>0.000934</td>\n",
       "      <td>0.998297</td>\n",
       "      <td>-1.660563</td>\n",
       "      <td>-0.908422</td>\n",
       "      <td>-0.005853</td>\n",
       "      <td>0.896716</td>\n",
       "      <td>1.648856</td>\n",
       "    </tr>\n",
       "    <tr>\n",
       "      <th>Moisture</th>\n",
       "      <td>250000.0</td>\n",
       "      <td>0.000534</td>\n",
       "      <td>0.999880</td>\n",
       "      <td>-1.711306</td>\n",
       "      <td>-0.863459</td>\n",
       "      <td>-0.015613</td>\n",
       "      <td>0.832234</td>\n",
       "      <td>1.680080</td>\n",
       "    </tr>\n",
       "    <tr>\n",
       "      <th>Nitrogen</th>\n",
       "      <td>250000.0</td>\n",
       "      <td>0.004084</td>\n",
       "      <td>0.999986</td>\n",
       "      <td>-1.702354</td>\n",
       "      <td>-0.899938</td>\n",
       "      <td>-0.008364</td>\n",
       "      <td>0.883210</td>\n",
       "      <td>1.685627</td>\n",
       "    </tr>\n",
       "    <tr>\n",
       "      <th>Potassium</th>\n",
       "      <td>250000.0</td>\n",
       "      <td>0.001642</td>\n",
       "      <td>1.000215</td>\n",
       "      <td>-1.643934</td>\n",
       "      <td>-0.950166</td>\n",
       "      <td>0.090485</td>\n",
       "      <td>0.784253</td>\n",
       "      <td>1.651463</td>\n",
       "    </tr>\n",
       "    <tr>\n",
       "      <th>Phosphorous</th>\n",
       "      <td>250000.0</td>\n",
       "      <td>0.003955</td>\n",
       "      <td>1.002758</td>\n",
       "      <td>-1.706773</td>\n",
       "      <td>-0.896848</td>\n",
       "      <td>-0.005931</td>\n",
       "      <td>0.884987</td>\n",
       "      <td>1.694912</td>\n",
       "    </tr>\n",
       "    <tr>\n",
       "      <th>tem_sq</th>\n",
       "      <td>250000.0</td>\n",
       "      <td>-0.003003</td>\n",
       "      <td>0.999629</td>\n",
       "      <td>-1.510460</td>\n",
       "      <td>-0.884514</td>\n",
       "      <td>-0.187705</td>\n",
       "      <td>0.851603</td>\n",
       "      <td>1.713757</td>\n",
       "    </tr>\n",
       "    <tr>\n",
       "      <th>hum_sq</th>\n",
       "      <td>250000.0</td>\n",
       "      <td>0.000748</td>\n",
       "      <td>0.998151</td>\n",
       "      <td>-1.563717</td>\n",
       "      <td>-0.917268</td>\n",
       "      <td>-0.060262</td>\n",
       "      <td>0.885400</td>\n",
       "      <td>1.741175</td>\n",
       "    </tr>\n",
       "    <tr>\n",
       "      <th>moi_sq</th>\n",
       "      <td>250000.0</td>\n",
       "      <td>0.000500</td>\n",
       "      <td>0.999989</td>\n",
       "      <td>-1.453045</td>\n",
       "      <td>-0.892644</td>\n",
       "      <td>-0.145442</td>\n",
       "      <td>0.788560</td>\n",
       "      <td>1.909362</td>\n",
       "    </tr>\n",
       "    <tr>\n",
       "      <th>n_sq</th>\n",
       "      <td>250000.0</td>\n",
       "      <td>0.003992</td>\n",
       "      <td>1.000356</td>\n",
       "      <td>-1.214599</td>\n",
       "      <td>-0.925645</td>\n",
       "      <td>-0.245753</td>\n",
       "      <td>0.811857</td>\n",
       "      <td>2.086655</td>\n",
       "    </tr>\n",
       "    <tr>\n",
       "      <th>k_sq</th>\n",
       "      <td>250000.0</td>\n",
       "      <td>0.001713</td>\n",
       "      <td>1.000320</td>\n",
       "      <td>-1.088035</td>\n",
       "      <td>-0.946594</td>\n",
       "      <td>-0.204032</td>\n",
       "      <td>0.644611</td>\n",
       "      <td>2.103216</td>\n",
       "    </tr>\n",
       "    <tr>\n",
       "      <th>p_sq</th>\n",
       "      <td>250000.0</td>\n",
       "      <td>0.005404</td>\n",
       "      <td>1.003206</td>\n",
       "      <td>-1.110887</td>\n",
       "      <td>-0.924660</td>\n",
       "      <td>-0.289628</td>\n",
       "      <td>0.796071</td>\n",
       "      <td>2.174146</td>\n",
       "    </tr>\n",
       "    <tr>\n",
       "      <th>Temparature_Bins</th>\n",
       "      <td>250000.0</td>\n",
       "      <td>0.998692</td>\n",
       "      <td>0.844510</td>\n",
       "      <td>0.000000</td>\n",
       "      <td>0.000000</td>\n",
       "      <td>1.000000</td>\n",
       "      <td>2.000000</td>\n",
       "      <td>2.000000</td>\n",
       "    </tr>\n",
       "    <tr>\n",
       "      <th>Humidity_Bins</th>\n",
       "      <td>250000.0</td>\n",
       "      <td>0.961472</td>\n",
       "      <td>0.807434</td>\n",
       "      <td>0.000000</td>\n",
       "      <td>0.000000</td>\n",
       "      <td>1.000000</td>\n",
       "      <td>2.000000</td>\n",
       "      <td>2.000000</td>\n",
       "    </tr>\n",
       "    <tr>\n",
       "      <th>Moisture_Bins</th>\n",
       "      <td>250000.0</td>\n",
       "      <td>1.061176</td>\n",
       "      <td>0.791997</td>\n",
       "      <td>0.000000</td>\n",
       "      <td>0.000000</td>\n",
       "      <td>1.000000</td>\n",
       "      <td>2.000000</td>\n",
       "      <td>2.000000</td>\n",
       "    </tr>\n",
       "    <tr>\n",
       "      <th>Nitrogen_Bins</th>\n",
       "      <td>250000.0</td>\n",
       "      <td>1.008664</td>\n",
       "      <td>0.781327</td>\n",
       "      <td>0.000000</td>\n",
       "      <td>0.000000</td>\n",
       "      <td>1.000000</td>\n",
       "      <td>2.000000</td>\n",
       "      <td>2.000000</td>\n",
       "    </tr>\n",
       "    <tr>\n",
       "      <th>Potassium_Bins</th>\n",
       "      <td>250000.0</td>\n",
       "      <td>1.001536</td>\n",
       "      <td>0.836708</td>\n",
       "      <td>0.000000</td>\n",
       "      <td>0.000000</td>\n",
       "      <td>1.000000</td>\n",
       "      <td>2.000000</td>\n",
       "      <td>2.000000</td>\n",
       "    </tr>\n",
       "    <tr>\n",
       "      <th>Phosphorous_Bins</th>\n",
       "      <td>250000.0</td>\n",
       "      <td>0.912656</td>\n",
       "      <td>0.798482</td>\n",
       "      <td>0.000000</td>\n",
       "      <td>0.000000</td>\n",
       "      <td>1.000000</td>\n",
       "      <td>2.000000</td>\n",
       "      <td>2.000000</td>\n",
       "    </tr>\n",
       "    <tr>\n",
       "      <th>tem_log</th>\n",
       "      <td>250000.0</td>\n",
       "      <td>3.473209</td>\n",
       "      <td>0.125169</td>\n",
       "      <td>3.258097</td>\n",
       "      <td>3.367296</td>\n",
       "      <td>3.465736</td>\n",
       "      <td>3.583519</td>\n",
       "      <td>3.663562</td>\n",
       "    </tr>\n",
       "    <tr>\n",
       "      <th>tem_cubert</th>\n",
       "      <td>250000.0</td>\n",
       "      <td>3.152110</td>\n",
       "      <td>0.135325</td>\n",
       "      <td>2.924018</td>\n",
       "      <td>3.036589</td>\n",
       "      <td>3.141381</td>\n",
       "      <td>3.271066</td>\n",
       "      <td>3.361975</td>\n",
       "    </tr>\n",
       "    <tr>\n",
       "      <th>hum_log</th>\n",
       "      <td>250000.0</td>\n",
       "      <td>4.122077</td>\n",
       "      <td>0.107899</td>\n",
       "      <td>3.931826</td>\n",
       "      <td>4.025352</td>\n",
       "      <td>4.127134</td>\n",
       "      <td>4.219508</td>\n",
       "      <td>4.290459</td>\n",
       "    </tr>\n",
       "    <tr>\n",
       "      <th>hum_cubert</th>\n",
       "      <td>250000.0</td>\n",
       "      <td>3.932252</td>\n",
       "      <td>0.143392</td>\n",
       "      <td>3.684031</td>\n",
       "      <td>3.802952</td>\n",
       "      <td>3.936497</td>\n",
       "      <td>4.061548</td>\n",
       "      <td>4.160168</td>\n",
       "    </tr>\n",
       "    <tr>\n",
       "      <th>moi_log</th>\n",
       "      <td>250000.0</td>\n",
       "      <td>3.797930</td>\n",
       "      <td>0.269012</td>\n",
       "      <td>3.258097</td>\n",
       "      <td>3.583519</td>\n",
       "      <td>3.828641</td>\n",
       "      <td>4.025352</td>\n",
       "      <td>4.189655</td>\n",
       "    </tr>\n",
       "    <tr>\n",
       "      <th>moi_cubert</th>\n",
       "      <td>250000.0</td>\n",
       "      <td>3.533520</td>\n",
       "      <td>0.319139</td>\n",
       "      <td>2.924018</td>\n",
       "      <td>3.271066</td>\n",
       "      <td>3.556893</td>\n",
       "      <td>3.802952</td>\n",
       "      <td>4.020726</td>\n",
       "    </tr>\n",
       "    <tr>\n",
       "      <th>n_log</th>\n",
       "      <td>250000.0</td>\n",
       "      <td>3.042754</td>\n",
       "      <td>0.576500</td>\n",
       "      <td>1.609438</td>\n",
       "      <td>2.639057</td>\n",
       "      <td>3.178054</td>\n",
       "      <td>3.526361</td>\n",
       "      <td>3.761200</td>\n",
       "    </tr>\n",
       "    <tr>\n",
       "      <th>n_cubert</th>\n",
       "      <td>250000.0</td>\n",
       "      <td>2.757235</td>\n",
       "      <td>0.522036</td>\n",
       "      <td>1.587401</td>\n",
       "      <td>2.351335</td>\n",
       "      <td>2.843867</td>\n",
       "      <td>3.207534</td>\n",
       "      <td>3.476027</td>\n",
       "    </tr>\n",
       "    <tr>\n",
       "      <th>k_log</th>\n",
       "      <td>250000.0</td>\n",
       "      <td>2.113633</td>\n",
       "      <td>0.796700</td>\n",
       "      <td>0.000000</td>\n",
       "      <td>1.609438</td>\n",
       "      <td>2.397895</td>\n",
       "      <td>2.708050</td>\n",
       "      <td>2.995732</td>\n",
       "    </tr>\n",
       "    <tr>\n",
       "      <th>k_cubert</th>\n",
       "      <td>250000.0</td>\n",
       "      <td>1.951085</td>\n",
       "      <td>0.646030</td>\n",
       "      <td>0.000000</td>\n",
       "      <td>1.587401</td>\n",
       "      <td>2.154435</td>\n",
       "      <td>2.410142</td>\n",
       "      <td>2.668402</td>\n",
       "    </tr>\n",
       "    <tr>\n",
       "      <th>p_log</th>\n",
       "      <td>250000.0</td>\n",
       "      <td>2.833679</td>\n",
       "      <td>0.868217</td>\n",
       "      <td>0.000000</td>\n",
       "      <td>2.397895</td>\n",
       "      <td>3.091042</td>\n",
       "      <td>3.496508</td>\n",
       "      <td>3.761200</td>\n",
       "    </tr>\n",
       "    <tr>\n",
       "      <th>p_cubert</th>\n",
       "      <td>250000.0</td>\n",
       "      <td>2.586445</td>\n",
       "      <td>0.748772</td>\n",
       "      <td>0.000000</td>\n",
       "      <td>2.154435</td>\n",
       "      <td>2.758924</td>\n",
       "      <td>3.174802</td>\n",
       "      <td>3.476027</td>\n",
       "    </tr>\n",
       "    <tr>\n",
       "      <th>Soil Type_Black</th>\n",
       "      <td>250000.0</td>\n",
       "      <td>0.200588</td>\n",
       "      <td>0.400441</td>\n",
       "      <td>0.000000</td>\n",
       "      <td>0.000000</td>\n",
       "      <td>0.000000</td>\n",
       "      <td>0.000000</td>\n",
       "      <td>1.000000</td>\n",
       "    </tr>\n",
       "    <tr>\n",
       "      <th>Soil Type_Clayey</th>\n",
       "      <td>250000.0</td>\n",
       "      <td>0.199168</td>\n",
       "      <td>0.399375</td>\n",
       "      <td>0.000000</td>\n",
       "      <td>0.000000</td>\n",
       "      <td>0.000000</td>\n",
       "      <td>0.000000</td>\n",
       "      <td>1.000000</td>\n",
       "    </tr>\n",
       "    <tr>\n",
       "      <th>Soil Type_Loamy</th>\n",
       "      <td>250000.0</td>\n",
       "      <td>0.193516</td>\n",
       "      <td>0.395055</td>\n",
       "      <td>0.000000</td>\n",
       "      <td>0.000000</td>\n",
       "      <td>0.000000</td>\n",
       "      <td>0.000000</td>\n",
       "      <td>1.000000</td>\n",
       "    </tr>\n",
       "    <tr>\n",
       "      <th>Soil Type_Red</th>\n",
       "      <td>250000.0</td>\n",
       "      <td>0.197436</td>\n",
       "      <td>0.398065</td>\n",
       "      <td>0.000000</td>\n",
       "      <td>0.000000</td>\n",
       "      <td>0.000000</td>\n",
       "      <td>0.000000</td>\n",
       "      <td>1.000000</td>\n",
       "    </tr>\n",
       "    <tr>\n",
       "      <th>Soil Type_Sandy</th>\n",
       "      <td>250000.0</td>\n",
       "      <td>0.209292</td>\n",
       "      <td>0.406804</td>\n",
       "      <td>0.000000</td>\n",
       "      <td>0.000000</td>\n",
       "      <td>0.000000</td>\n",
       "      <td>0.000000</td>\n",
       "      <td>1.000000</td>\n",
       "    </tr>\n",
       "    <tr>\n",
       "      <th>Crop Type_Barley</th>\n",
       "      <td>250000.0</td>\n",
       "      <td>0.086864</td>\n",
       "      <td>0.281636</td>\n",
       "      <td>0.000000</td>\n",
       "      <td>0.000000</td>\n",
       "      <td>0.000000</td>\n",
       "      <td>0.000000</td>\n",
       "      <td>1.000000</td>\n",
       "    </tr>\n",
       "    <tr>\n",
       "      <th>Crop Type_Cotton</th>\n",
       "      <td>250000.0</td>\n",
       "      <td>0.092364</td>\n",
       "      <td>0.289540</td>\n",
       "      <td>0.000000</td>\n",
       "      <td>0.000000</td>\n",
       "      <td>0.000000</td>\n",
       "      <td>0.000000</td>\n",
       "      <td>1.000000</td>\n",
       "    </tr>\n",
       "    <tr>\n",
       "      <th>Crop Type_Ground Nuts</th>\n",
       "      <td>250000.0</td>\n",
       "      <td>0.079728</td>\n",
       "      <td>0.270872</td>\n",
       "      <td>0.000000</td>\n",
       "      <td>0.000000</td>\n",
       "      <td>0.000000</td>\n",
       "      <td>0.000000</td>\n",
       "      <td>1.000000</td>\n",
       "    </tr>\n",
       "    <tr>\n",
       "      <th>Crop Type_Maize</th>\n",
       "      <td>250000.0</td>\n",
       "      <td>0.083612</td>\n",
       "      <td>0.276806</td>\n",
       "      <td>0.000000</td>\n",
       "      <td>0.000000</td>\n",
       "      <td>0.000000</td>\n",
       "      <td>0.000000</td>\n",
       "      <td>1.000000</td>\n",
       "    </tr>\n",
       "    <tr>\n",
       "      <th>Crop Type_Millets</th>\n",
       "      <td>250000.0</td>\n",
       "      <td>0.087556</td>\n",
       "      <td>0.282649</td>\n",
       "      <td>0.000000</td>\n",
       "      <td>0.000000</td>\n",
       "      <td>0.000000</td>\n",
       "      <td>0.000000</td>\n",
       "      <td>1.000000</td>\n",
       "    </tr>\n",
       "    <tr>\n",
       "      <th>Crop Type_Oil seeds</th>\n",
       "      <td>250000.0</td>\n",
       "      <td>0.086108</td>\n",
       "      <td>0.280524</td>\n",
       "      <td>0.000000</td>\n",
       "      <td>0.000000</td>\n",
       "      <td>0.000000</td>\n",
       "      <td>0.000000</td>\n",
       "      <td>1.000000</td>\n",
       "    </tr>\n",
       "    <tr>\n",
       "      <th>Crop Type_Paddy</th>\n",
       "      <td>250000.0</td>\n",
       "      <td>0.113328</td>\n",
       "      <td>0.316994</td>\n",
       "      <td>0.000000</td>\n",
       "      <td>0.000000</td>\n",
       "      <td>0.000000</td>\n",
       "      <td>0.000000</td>\n",
       "      <td>1.000000</td>\n",
       "    </tr>\n",
       "    <tr>\n",
       "      <th>Crop Type_Pulses</th>\n",
       "      <td>250000.0</td>\n",
       "      <td>0.104884</td>\n",
       "      <td>0.306405</td>\n",
       "      <td>0.000000</td>\n",
       "      <td>0.000000</td>\n",
       "      <td>0.000000</td>\n",
       "      <td>0.000000</td>\n",
       "      <td>1.000000</td>\n",
       "    </tr>\n",
       "    <tr>\n",
       "      <th>Crop Type_Sugarcane</th>\n",
       "      <td>250000.0</td>\n",
       "      <td>0.086268</td>\n",
       "      <td>0.280760</td>\n",
       "      <td>0.000000</td>\n",
       "      <td>0.000000</td>\n",
       "      <td>0.000000</td>\n",
       "      <td>0.000000</td>\n",
       "      <td>1.000000</td>\n",
       "    </tr>\n",
       "    <tr>\n",
       "      <th>Crop Type_Tobacco</th>\n",
       "      <td>250000.0</td>\n",
       "      <td>0.090912</td>\n",
       "      <td>0.287485</td>\n",
       "      <td>0.000000</td>\n",
       "      <td>0.000000</td>\n",
       "      <td>0.000000</td>\n",
       "      <td>0.000000</td>\n",
       "      <td>1.000000</td>\n",
       "    </tr>\n",
       "    <tr>\n",
       "      <th>Crop Type_Wheat</th>\n",
       "      <td>250000.0</td>\n",
       "      <td>0.088376</td>\n",
       "      <td>0.283842</td>\n",
       "      <td>0.000000</td>\n",
       "      <td>0.000000</td>\n",
       "      <td>0.000000</td>\n",
       "      <td>0.000000</td>\n",
       "      <td>1.000000</td>\n",
       "    </tr>\n",
       "  </tbody>\n",
       "</table>\n",
       "</div>"
      ],
      "text/plain": [
       "                          count      mean       std       min       25%  \\\n",
       "Temparature            250000.0 -0.002960  0.999633 -1.615563 -0.870328   \n",
       "Humidity               250000.0  0.000934  0.998297 -1.660563 -0.908422   \n",
       "Moisture               250000.0  0.000534  0.999880 -1.711306 -0.863459   \n",
       "Nitrogen               250000.0  0.004084  0.999986 -1.702354 -0.899938   \n",
       "Potassium              250000.0  0.001642  1.000215 -1.643934 -0.950166   \n",
       "Phosphorous            250000.0  0.003955  1.002758 -1.706773 -0.896848   \n",
       "tem_sq                 250000.0 -0.003003  0.999629 -1.510460 -0.884514   \n",
       "hum_sq                 250000.0  0.000748  0.998151 -1.563717 -0.917268   \n",
       "moi_sq                 250000.0  0.000500  0.999989 -1.453045 -0.892644   \n",
       "n_sq                   250000.0  0.003992  1.000356 -1.214599 -0.925645   \n",
       "k_sq                   250000.0  0.001713  1.000320 -1.088035 -0.946594   \n",
       "p_sq                   250000.0  0.005404  1.003206 -1.110887 -0.924660   \n",
       "Temparature_Bins       250000.0  0.998692  0.844510  0.000000  0.000000   \n",
       "Humidity_Bins          250000.0  0.961472  0.807434  0.000000  0.000000   \n",
       "Moisture_Bins          250000.0  1.061176  0.791997  0.000000  0.000000   \n",
       "Nitrogen_Bins          250000.0  1.008664  0.781327  0.000000  0.000000   \n",
       "Potassium_Bins         250000.0  1.001536  0.836708  0.000000  0.000000   \n",
       "Phosphorous_Bins       250000.0  0.912656  0.798482  0.000000  0.000000   \n",
       "tem_log                250000.0  3.473209  0.125169  3.258097  3.367296   \n",
       "tem_cubert             250000.0  3.152110  0.135325  2.924018  3.036589   \n",
       "hum_log                250000.0  4.122077  0.107899  3.931826  4.025352   \n",
       "hum_cubert             250000.0  3.932252  0.143392  3.684031  3.802952   \n",
       "moi_log                250000.0  3.797930  0.269012  3.258097  3.583519   \n",
       "moi_cubert             250000.0  3.533520  0.319139  2.924018  3.271066   \n",
       "n_log                  250000.0  3.042754  0.576500  1.609438  2.639057   \n",
       "n_cubert               250000.0  2.757235  0.522036  1.587401  2.351335   \n",
       "k_log                  250000.0  2.113633  0.796700  0.000000  1.609438   \n",
       "k_cubert               250000.0  1.951085  0.646030  0.000000  1.587401   \n",
       "p_log                  250000.0  2.833679  0.868217  0.000000  2.397895   \n",
       "p_cubert               250000.0  2.586445  0.748772  0.000000  2.154435   \n",
       "Soil Type_Black        250000.0  0.200588  0.400441  0.000000  0.000000   \n",
       "Soil Type_Clayey       250000.0  0.199168  0.399375  0.000000  0.000000   \n",
       "Soil Type_Loamy        250000.0  0.193516  0.395055  0.000000  0.000000   \n",
       "Soil Type_Red          250000.0  0.197436  0.398065  0.000000  0.000000   \n",
       "Soil Type_Sandy        250000.0  0.209292  0.406804  0.000000  0.000000   \n",
       "Crop Type_Barley       250000.0  0.086864  0.281636  0.000000  0.000000   \n",
       "Crop Type_Cotton       250000.0  0.092364  0.289540  0.000000  0.000000   \n",
       "Crop Type_Ground Nuts  250000.0  0.079728  0.270872  0.000000  0.000000   \n",
       "Crop Type_Maize        250000.0  0.083612  0.276806  0.000000  0.000000   \n",
       "Crop Type_Millets      250000.0  0.087556  0.282649  0.000000  0.000000   \n",
       "Crop Type_Oil seeds    250000.0  0.086108  0.280524  0.000000  0.000000   \n",
       "Crop Type_Paddy        250000.0  0.113328  0.316994  0.000000  0.000000   \n",
       "Crop Type_Pulses       250000.0  0.104884  0.306405  0.000000  0.000000   \n",
       "Crop Type_Sugarcane    250000.0  0.086268  0.280760  0.000000  0.000000   \n",
       "Crop Type_Tobacco      250000.0  0.090912  0.287485  0.000000  0.000000   \n",
       "Crop Type_Wheat        250000.0  0.088376  0.283842  0.000000  0.000000   \n",
       "\n",
       "                            50%       75%       max  \n",
       "Temparature           -0.125092  0.868556  1.613792  \n",
       "Humidity              -0.005853  0.896716  1.648856  \n",
       "Moisture              -0.015613  0.832234  1.680080  \n",
       "Nitrogen              -0.008364  0.883210  1.685627  \n",
       "Potassium              0.090485  0.784253  1.651463  \n",
       "Phosphorous           -0.005931  0.884987  1.694912  \n",
       "tem_sq                -0.187705  0.851603  1.713757  \n",
       "hum_sq                -0.060262  0.885400  1.741175  \n",
       "moi_sq                -0.145442  0.788560  1.909362  \n",
       "n_sq                  -0.245753  0.811857  2.086655  \n",
       "k_sq                  -0.204032  0.644611  2.103216  \n",
       "p_sq                  -0.289628  0.796071  2.174146  \n",
       "Temparature_Bins       1.000000  2.000000  2.000000  \n",
       "Humidity_Bins          1.000000  2.000000  2.000000  \n",
       "Moisture_Bins          1.000000  2.000000  2.000000  \n",
       "Nitrogen_Bins          1.000000  2.000000  2.000000  \n",
       "Potassium_Bins         1.000000  2.000000  2.000000  \n",
       "Phosphorous_Bins       1.000000  2.000000  2.000000  \n",
       "tem_log                3.465736  3.583519  3.663562  \n",
       "tem_cubert             3.141381  3.271066  3.361975  \n",
       "hum_log                4.127134  4.219508  4.290459  \n",
       "hum_cubert             3.936497  4.061548  4.160168  \n",
       "moi_log                3.828641  4.025352  4.189655  \n",
       "moi_cubert             3.556893  3.802952  4.020726  \n",
       "n_log                  3.178054  3.526361  3.761200  \n",
       "n_cubert               2.843867  3.207534  3.476027  \n",
       "k_log                  2.397895  2.708050  2.995732  \n",
       "k_cubert               2.154435  2.410142  2.668402  \n",
       "p_log                  3.091042  3.496508  3.761200  \n",
       "p_cubert               2.758924  3.174802  3.476027  \n",
       "Soil Type_Black        0.000000  0.000000  1.000000  \n",
       "Soil Type_Clayey       0.000000  0.000000  1.000000  \n",
       "Soil Type_Loamy        0.000000  0.000000  1.000000  \n",
       "Soil Type_Red          0.000000  0.000000  1.000000  \n",
       "Soil Type_Sandy        0.000000  0.000000  1.000000  \n",
       "Crop Type_Barley       0.000000  0.000000  1.000000  \n",
       "Crop Type_Cotton       0.000000  0.000000  1.000000  \n",
       "Crop Type_Ground Nuts  0.000000  0.000000  1.000000  \n",
       "Crop Type_Maize        0.000000  0.000000  1.000000  \n",
       "Crop Type_Millets      0.000000  0.000000  1.000000  \n",
       "Crop Type_Oil seeds    0.000000  0.000000  1.000000  \n",
       "Crop Type_Paddy        0.000000  0.000000  1.000000  \n",
       "Crop Type_Pulses       0.000000  0.000000  1.000000  \n",
       "Crop Type_Sugarcane    0.000000  0.000000  1.000000  \n",
       "Crop Type_Tobacco      0.000000  0.000000  1.000000  \n",
       "Crop Type_Wheat        0.000000  0.000000  1.000000  "
      ]
     },
     "execution_count": 67,
     "metadata": {},
     "output_type": "execute_result"
    }
   ],
   "source": [
    "test_end.describe().T"
   ]
  },
  {
   "cell_type": "code",
   "execution_count": 68,
   "id": "61161ee3",
   "metadata": {
    "execution": {
     "iopub.execute_input": "2025-06-28T01:45:25.209451Z",
     "iopub.status.busy": "2025-06-28T01:45:25.209151Z",
     "iopub.status.idle": "2025-06-28T01:45:25.212744Z",
     "shell.execute_reply": "2025-06-28T01:45:25.212047Z"
    },
    "papermill": {
     "duration": 0.02183,
     "end_time": "2025-06-28T01:45:25.214062",
     "exception": false,
     "start_time": "2025-06-28T01:45:25.192232",
     "status": "completed"
    },
    "tags": []
   },
   "outputs": [],
   "source": [
    "# We remove the variables that we will not use\n",
    "\n",
    "#test_end_new = test_end.drop(columns=[])"
   ]
  },
  {
   "cell_type": "code",
   "execution_count": 69,
   "id": "6b3f284e",
   "metadata": {
    "execution": {
     "iopub.execute_input": "2025-06-28T01:45:25.246556Z",
     "iopub.status.busy": "2025-06-28T01:45:25.246275Z",
     "iopub.status.idle": "2025-06-28T01:45:25.268056Z",
     "shell.execute_reply": "2025-06-28T01:45:25.267255Z"
    },
    "papermill": {
     "duration": 0.037977,
     "end_time": "2025-06-28T01:45:25.269055",
     "exception": false,
     "start_time": "2025-06-28T01:45:25.231078",
     "status": "completed"
    },
    "tags": []
   },
   "outputs": [
    {
     "name": "stdout",
     "output_type": "stream",
     "text": [
      "<class 'pandas.core.frame.DataFrame'>\n",
      "RangeIndex: 250000 entries, 0 to 249999\n",
      "Data columns (total 46 columns):\n",
      " #   Column                 Non-Null Count   Dtype  \n",
      "---  ------                 --------------   -----  \n",
      " 0   Temparature            250000 non-null  float64\n",
      " 1   Humidity               250000 non-null  float64\n",
      " 2   Moisture               250000 non-null  float64\n",
      " 3   Nitrogen               250000 non-null  float64\n",
      " 4   Potassium              250000 non-null  float64\n",
      " 5   Phosphorous            250000 non-null  float64\n",
      " 6   tem_sq                 250000 non-null  float64\n",
      " 7   hum_sq                 250000 non-null  float64\n",
      " 8   moi_sq                 250000 non-null  float64\n",
      " 9   n_sq                   250000 non-null  float64\n",
      " 10  k_sq                   250000 non-null  float64\n",
      " 11  p_sq                   250000 non-null  float64\n",
      " 12  Temparature_Bins       250000 non-null  float64\n",
      " 13  Humidity_Bins          250000 non-null  float64\n",
      " 14  Moisture_Bins          250000 non-null  float64\n",
      " 15  Nitrogen_Bins          250000 non-null  float64\n",
      " 16  Potassium_Bins         250000 non-null  float64\n",
      " 17  Phosphorous_Bins       250000 non-null  float64\n",
      " 18  tem_log                250000 non-null  float64\n",
      " 19  tem_cubert             250000 non-null  float64\n",
      " 20  hum_log                250000 non-null  float64\n",
      " 21  hum_cubert             250000 non-null  float64\n",
      " 22  moi_log                250000 non-null  float64\n",
      " 23  moi_cubert             250000 non-null  float64\n",
      " 24  n_log                  250000 non-null  float64\n",
      " 25  n_cubert               250000 non-null  float64\n",
      " 26  k_log                  250000 non-null  float64\n",
      " 27  k_cubert               250000 non-null  float64\n",
      " 28  p_log                  250000 non-null  float64\n",
      " 29  p_cubert               250000 non-null  float64\n",
      " 30  Soil Type_Black        250000 non-null  float64\n",
      " 31  Soil Type_Clayey       250000 non-null  float64\n",
      " 32  Soil Type_Loamy        250000 non-null  float64\n",
      " 33  Soil Type_Red          250000 non-null  float64\n",
      " 34  Soil Type_Sandy        250000 non-null  float64\n",
      " 35  Crop Type_Barley       250000 non-null  float64\n",
      " 36  Crop Type_Cotton       250000 non-null  float64\n",
      " 37  Crop Type_Ground Nuts  250000 non-null  float64\n",
      " 38  Crop Type_Maize        250000 non-null  float64\n",
      " 39  Crop Type_Millets      250000 non-null  float64\n",
      " 40  Crop Type_Oil seeds    250000 non-null  float64\n",
      " 41  Crop Type_Paddy        250000 non-null  float64\n",
      " 42  Crop Type_Pulses       250000 non-null  float64\n",
      " 43  Crop Type_Sugarcane    250000 non-null  float64\n",
      " 44  Crop Type_Tobacco      250000 non-null  float64\n",
      " 45  Crop Type_Wheat        250000 non-null  float64\n",
      "dtypes: float64(46)\n",
      "memory usage: 87.7 MB\n"
     ]
    }
   ],
   "source": [
    "test_end.info()"
   ]
  },
  {
   "cell_type": "markdown",
   "id": "ebd0f607",
   "metadata": {
    "papermill": {
     "duration": 0.015075,
     "end_time": "2025-06-28T01:45:25.298501",
     "exception": false,
     "start_time": "2025-06-28T01:45:25.283426",
     "status": "completed"
    },
    "tags": []
   },
   "source": [
    "## Apply the Model & Submission File"
   ]
  },
  {
   "cell_type": "code",
   "execution_count": 70,
   "id": "9bb64917",
   "metadata": {
    "execution": {
     "iopub.execute_input": "2025-06-28T01:45:25.327474Z",
     "iopub.status.busy": "2025-06-28T01:45:25.327178Z",
     "iopub.status.idle": "2025-06-28T01:45:51.096378Z",
     "shell.execute_reply": "2025-06-28T01:45:51.095705Z"
    },
    "papermill": {
     "duration": 25.785482,
     "end_time": "2025-06-28T01:45:51.097856",
     "exception": false,
     "start_time": "2025-06-28T01:45:25.312374",
     "status": "completed"
    },
    "tags": []
   },
   "outputs": [],
   "source": [
    "# We apply the trained model\n",
    "\n",
    "test_pred_prob = final_model.predict_proba(test_end)\n",
    "test_top_3 = np.argsort(-test_pred_prob, axis=1)[:, :3]\n",
    "\n",
    "top_3_fertilizer_names = []\n",
    "for row_indices in test_top_3:\n",
    "    valid_indices = [idx for idx in row_indices if idx < len(le.classes_)]\n",
    "    names = le.inverse_transform(valid_indices)\n",
    "    top_3_fertilizer_names.append(names)\n",
    "\n",
    "formatted_predictions = [\" \".join(names) for names in top_3_fertilizer_names]"
   ]
  },
  {
   "cell_type": "code",
   "execution_count": 71,
   "id": "9110b60f",
   "metadata": {
    "execution": {
     "iopub.execute_input": "2025-06-28T01:45:51.127789Z",
     "iopub.status.busy": "2025-06-28T01:45:51.127555Z",
     "iopub.status.idle": "2025-06-28T01:45:51.131679Z",
     "shell.execute_reply": "2025-06-28T01:45:51.130902Z"
    },
    "papermill": {
     "duration": 0.0202,
     "end_time": "2025-06-28T01:45:51.132611",
     "exception": false,
     "start_time": "2025-06-28T01:45:51.112411",
     "status": "completed"
    },
    "tags": []
   },
   "outputs": [
    {
     "name": "stdout",
     "output_type": "stream",
     "text": [
      "Total predictions:  250000 \n",
      "\n"
     ]
    }
   ],
   "source": [
    "# We review the result\n",
    "\n",
    "print(\"Total predictions: \", len(formatted_predictions), \"\\n\")"
   ]
  },
  {
   "cell_type": "code",
   "execution_count": 72,
   "id": "b9d35933",
   "metadata": {
    "execution": {
     "iopub.execute_input": "2025-06-28T01:45:51.164150Z",
     "iopub.status.busy": "2025-06-28T01:45:51.163936Z",
     "iopub.status.idle": "2025-06-28T01:45:51.184297Z",
     "shell.execute_reply": "2025-06-28T01:45:51.183692Z"
    },
    "papermill": {
     "duration": 0.038143,
     "end_time": "2025-06-28T01:45:51.185275",
     "exception": false,
     "start_time": "2025-06-28T01:45:51.147132",
     "status": "completed"
    },
    "tags": []
   },
   "outputs": [
    {
     "data": {
      "text/html": [
       "<div>\n",
       "<style scoped>\n",
       "    .dataframe tbody tr th:only-of-type {\n",
       "        vertical-align: middle;\n",
       "    }\n",
       "\n",
       "    .dataframe tbody tr th {\n",
       "        vertical-align: top;\n",
       "    }\n",
       "\n",
       "    .dataframe thead th {\n",
       "        text-align: right;\n",
       "    }\n",
       "</style>\n",
       "<table border=\"1\" class=\"dataframe\">\n",
       "  <thead>\n",
       "    <tr style=\"text-align: right;\">\n",
       "      <th></th>\n",
       "      <th>id</th>\n",
       "      <th>Fertilizer Name</th>\n",
       "    </tr>\n",
       "  </thead>\n",
       "  <tbody>\n",
       "    <tr>\n",
       "      <th>0</th>\n",
       "      <td>750000</td>\n",
       "      <td>DAP 28-28 20-20</td>\n",
       "    </tr>\n",
       "    <tr>\n",
       "      <th>1</th>\n",
       "      <td>750001</td>\n",
       "      <td>17-17-17 20-20 10-26-26</td>\n",
       "    </tr>\n",
       "    <tr>\n",
       "      <th>2</th>\n",
       "      <td>750002</td>\n",
       "      <td>20-20 10-26-26 28-28</td>\n",
       "    </tr>\n",
       "    <tr>\n",
       "      <th>3</th>\n",
       "      <td>750003</td>\n",
       "      <td>14-35-14 17-17-17 Urea</td>\n",
       "    </tr>\n",
       "    <tr>\n",
       "      <th>4</th>\n",
       "      <td>750004</td>\n",
       "      <td>20-20 10-26-26 17-17-17</td>\n",
       "    </tr>\n",
       "  </tbody>\n",
       "</table>\n",
       "</div>"
      ],
      "text/plain": [
       "       id          Fertilizer Name\n",
       "0  750000          DAP 28-28 20-20\n",
       "1  750001  17-17-17 20-20 10-26-26\n",
       "2  750002     20-20 10-26-26 28-28\n",
       "3  750003   14-35-14 17-17-17 Urea\n",
       "4  750004  20-20 10-26-26 17-17-17"
      ]
     },
     "execution_count": 72,
     "metadata": {},
     "output_type": "execute_result"
    }
   ],
   "source": [
    "# We create the dataframe\n",
    "\n",
    "fertilizer_submission = pd.DataFrame({\n",
    "    \"id\" : df_test[\"id\"], \n",
    "    \"Fertilizer Name\" : formatted_predictions\n",
    "})\n",
    "\n",
    "fertilizer_submission.head()"
   ]
  },
  {
   "cell_type": "code",
   "execution_count": 73,
   "id": "94039904",
   "metadata": {
    "execution": {
     "iopub.execute_input": "2025-06-28T01:45:51.214975Z",
     "iopub.status.busy": "2025-06-28T01:45:51.214750Z",
     "iopub.status.idle": "2025-06-28T01:45:51.219362Z",
     "shell.execute_reply": "2025-06-28T01:45:51.218804Z"
    },
    "papermill": {
     "duration": 0.020654,
     "end_time": "2025-06-28T01:45:51.220138",
     "exception": false,
     "start_time": "2025-06-28T01:45:51.199484",
     "status": "completed"
    },
    "tags": []
   },
   "outputs": [
    {
     "name": "stdout",
     "output_type": "stream",
     "text": [
      "Shape Sample Submission: (250000, 2) \n",
      "Shape Fertilizer Submission: (250000, 2)\n",
      "\n",
      "        id         Fertilizer Name\n",
      "0  750000  14-35-14 10-26-26 Urea\n",
      "1  750001  14-35-14 10-26-26 Urea\n",
      "2  750002  14-35-14 10-26-26 Urea\n",
      "3  750003  14-35-14 10-26-26 Urea\n",
      "4  750004  14-35-14 10-26-26 Urea\n"
     ]
    }
   ],
   "source": [
    "# We compare the results with the sample\n",
    "\n",
    "print(\n",
    "    f\"Shape Sample Submission: {fertilizer_sample.shape}\",\n",
    "    f\"\\nShape Fertilizer Submission: {fertilizer_submission.shape}\"\n",
    ")\n",
    "print(\"\\n\", fertilizer_sample.head())"
   ]
  },
  {
   "cell_type": "code",
   "execution_count": 74,
   "id": "8b5adff3",
   "metadata": {
    "execution": {
     "iopub.execute_input": "2025-06-28T01:45:51.248607Z",
     "iopub.status.busy": "2025-06-28T01:45:51.248332Z",
     "iopub.status.idle": "2025-06-28T01:45:51.447935Z",
     "shell.execute_reply": "2025-06-28T01:45:51.447272Z"
    },
    "papermill": {
     "duration": 0.215451,
     "end_time": "2025-06-28T01:45:51.449401",
     "exception": false,
     "start_time": "2025-06-28T01:45:51.233950",
     "status": "completed"
    },
    "tags": []
   },
   "outputs": [],
   "source": [
    "# We convert the dataframe to a csv file\n",
    "\n",
    "fertilizer_submission.to_csv(\"submission.csv\", index=False)"
   ]
  }
 ],
 "metadata": {
  "kaggle": {
   "accelerator": "none",
   "dataSources": [
    {
     "databundleVersionId": 12184666,
     "sourceId": 91717,
     "sourceType": "competition"
    }
   ],
   "dockerImageVersionId": 31040,
   "isGpuEnabled": false,
   "isInternetEnabled": true,
   "language": "python",
   "sourceType": "notebook"
  },
  "kernelspec": {
   "display_name": "Python 3",
   "language": "python",
   "name": "python3"
  },
  "language_info": {
   "codemirror_mode": {
    "name": "ipython",
    "version": 3
   },
   "file_extension": ".py",
   "mimetype": "text/x-python",
   "name": "python",
   "nbconvert_exporter": "python",
   "pygments_lexer": "ipython3",
   "version": "3.11.11"
  },
  "papermill": {
   "default_parameters": {},
   "duration": 682.362811,
   "end_time": "2025-06-28T01:45:52.485455",
   "environment_variables": {},
   "exception": null,
   "input_path": "__notebook__.ipynb",
   "output_path": "__notebook__.ipynb",
   "parameters": {},
   "start_time": "2025-06-28T01:34:30.122644",
   "version": "2.6.0"
  }
 },
 "nbformat": 4,
 "nbformat_minor": 5
}

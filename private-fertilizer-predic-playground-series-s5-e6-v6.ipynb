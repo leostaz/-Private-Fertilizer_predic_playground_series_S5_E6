{
 "cells": [
  {
   "cell_type": "markdown",
   "id": "1d883a2c",
   "metadata": {
    "papermill": {
     "duration": 0.017861,
     "end_time": "2025-06-30T14:00:11.347444",
     "exception": false,
     "start_time": "2025-06-30T14:00:11.329583",
     "status": "completed"
    },
    "tags": []
   },
   "source": [
    "# Predicting Optimal Fertilizers"
   ]
  },
  {
   "cell_type": "code",
   "execution_count": 1,
   "id": "ee589a01",
   "metadata": {
    "_cell_guid": "b1076dfc-b9ad-4769-8c92-a6c4dae69d19",
    "_uuid": "8f2839f25d086af736a60e9eeb907d3b93b6e0e5",
    "execution": {
     "iopub.execute_input": "2025-06-30T14:00:11.381089Z",
     "iopub.status.busy": "2025-06-30T14:00:11.380753Z",
     "iopub.status.idle": "2025-06-30T14:00:11.391907Z",
     "shell.execute_reply": "2025-06-30T14:00:11.391018Z"
    },
    "papermill": {
     "duration": 0.02948,
     "end_time": "2025-06-30T14:00:11.393543",
     "exception": false,
     "start_time": "2025-06-30T14:00:11.364063",
     "status": "completed"
    },
    "tags": []
   },
   "outputs": [
    {
     "name": "stdout",
     "output_type": "stream",
     "text": [
      "/kaggle/input/playground-series-s5e6/sample_submission.csv\n",
      "/kaggle/input/playground-series-s5e6/train.csv\n",
      "/kaggle/input/playground-series-s5e6/test.csv\n"
     ]
    }
   ],
   "source": [
    "import os\n",
    "for dirname, _, filenames in os.walk('/kaggle/input'):\n",
    "    for filename in filenames:\n",
    "        print(os.path.join(dirname, filename))\n",
    "\n",
    "import warnings\n",
    "warnings.filterwarnings(\"ignore\")"
   ]
  },
  {
   "cell_type": "markdown",
   "id": "237c6566",
   "metadata": {
    "papermill": {
     "duration": 0.015752,
     "end_time": "2025-06-30T14:00:11.425273",
     "exception": false,
     "start_time": "2025-06-30T14:00:11.409521",
     "status": "completed"
    },
    "tags": []
   },
   "source": [
    "Private-fertilizer-predic-playground-series-s5-e6 Version 1 notebook Full EDA\n",
    "\n",
    "Public notebook: https://www.kaggle.com/code/les1781/optimal-fertilizer-predict-playground-series-s5-e6"
   ]
  },
  {
   "cell_type": "markdown",
   "id": "c7156864",
   "metadata": {
    "papermill": {
     "duration": 0.015529,
     "end_time": "2025-06-30T14:00:11.456589",
     "exception": false,
     "start_time": "2025-06-30T14:00:11.441060",
     "status": "completed"
    },
    "tags": []
   },
   "source": [
    "# Libraries"
   ]
  },
  {
   "cell_type": "code",
   "execution_count": 2,
   "id": "6313163e",
   "metadata": {
    "execution": {
     "iopub.execute_input": "2025-06-30T14:00:11.489949Z",
     "iopub.status.busy": "2025-06-30T14:00:11.489606Z",
     "iopub.status.idle": "2025-06-30T14:00:22.357402Z",
     "shell.execute_reply": "2025-06-30T14:00:22.356405Z"
    },
    "papermill": {
     "duration": 10.886626,
     "end_time": "2025-06-30T14:00:22.359105",
     "exception": false,
     "start_time": "2025-06-30T14:00:11.472479",
     "status": "completed"
    },
    "tags": []
   },
   "outputs": [],
   "source": [
    "import numpy as np\n",
    "import pandas as pd\n",
    "import matplotlib as mpl\n",
    "import matplotlib.pyplot as plt\n",
    "import seaborn as sns\n",
    "\n",
    "from sklearn.preprocessing import (\n",
    "    LabelEncoder,    \n",
    "    OneHotEncoder,\n",
    "    StandardScaler,\n",
    "    MinMaxScaler\n",
    ")\n",
    "from sklearn.feature_selection import mutual_info_classif\n",
    "from sklearn.model_selection import train_test_split, StratifiedKFold\n",
    "from sklearn.metrics import make_scorer\n",
    "from sklearn.decomposition import PCA\n",
    "from sklearn.linear_model import LogisticRegression\n",
    "from xgboost import XGBClassifier\n",
    "from lightgbm import LGBMClassifier\n",
    "from catboost import CatBoostClassifier\n",
    "from sklearn.ensemble import VotingClassifier, StackingClassifier\n",
    "from sklearn.inspection import permutation_importance"
   ]
  },
  {
   "cell_type": "markdown",
   "id": "45a30a93",
   "metadata": {
    "papermill": {
     "duration": 0.015756,
     "end_time": "2025-06-30T14:00:22.391194",
     "exception": false,
     "start_time": "2025-06-30T14:00:22.375438",
     "status": "completed"
    },
    "tags": []
   },
   "source": [
    "# Initial analysis"
   ]
  },
  {
   "cell_type": "code",
   "execution_count": 3,
   "id": "c707b06b",
   "metadata": {
    "execution": {
     "iopub.execute_input": "2025-06-30T14:00:22.423242Z",
     "iopub.status.busy": "2025-06-30T14:00:22.422552Z",
     "iopub.status.idle": "2025-06-30T14:00:23.465443Z",
     "shell.execute_reply": "2025-06-30T14:00:23.464271Z"
    },
    "papermill": {
     "duration": 1.061081,
     "end_time": "2025-06-30T14:00:23.467227",
     "exception": false,
     "start_time": "2025-06-30T14:00:22.406146",
     "status": "completed"
    },
    "tags": []
   },
   "outputs": [],
   "source": [
    "# We load the data\n",
    "\n",
    "fertilizers_train = pd.read_csv(\"/kaggle/input/playground-series-s5e6/train.csv\", index_col=\"id\")"
   ]
  },
  {
   "cell_type": "code",
   "execution_count": 4,
   "id": "473061b1",
   "metadata": {
    "execution": {
     "iopub.execute_input": "2025-06-30T14:00:23.561917Z",
     "iopub.status.busy": "2025-06-30T14:00:23.561582Z",
     "iopub.status.idle": "2025-06-30T14:00:23.758988Z",
     "shell.execute_reply": "2025-06-30T14:00:23.758115Z"
    },
    "papermill": {
     "duration": 0.215217,
     "end_time": "2025-06-30T14:00:23.760563",
     "exception": false,
     "start_time": "2025-06-30T14:00:23.545346",
     "status": "completed"
    },
    "tags": []
   },
   "outputs": [
    {
     "data": {
      "text/html": [
       "<div>\n",
       "<style scoped>\n",
       "    .dataframe tbody tr th:only-of-type {\n",
       "        vertical-align: middle;\n",
       "    }\n",
       "\n",
       "    .dataframe tbody tr th {\n",
       "        vertical-align: top;\n",
       "    }\n",
       "\n",
       "    .dataframe thead th {\n",
       "        text-align: right;\n",
       "    }\n",
       "</style>\n",
       "<table border=\"1\" class=\"dataframe\">\n",
       "  <thead>\n",
       "    <tr style=\"text-align: right;\">\n",
       "      <th></th>\n",
       "      <th>count</th>\n",
       "      <th>mean</th>\n",
       "      <th>std</th>\n",
       "      <th>min</th>\n",
       "      <th>25%</th>\n",
       "      <th>50%</th>\n",
       "      <th>75%</th>\n",
       "      <th>max</th>\n",
       "    </tr>\n",
       "  </thead>\n",
       "  <tbody>\n",
       "    <tr>\n",
       "      <th>Temparature</th>\n",
       "      <td>750000.0</td>\n",
       "      <td>31.503565</td>\n",
       "      <td>4.025574</td>\n",
       "      <td>25.0</td>\n",
       "      <td>28.0</td>\n",
       "      <td>32.0</td>\n",
       "      <td>35.0</td>\n",
       "      <td>38.0</td>\n",
       "    </tr>\n",
       "    <tr>\n",
       "      <th>Humidity</th>\n",
       "      <td>750000.0</td>\n",
       "      <td>61.038912</td>\n",
       "      <td>6.647695</td>\n",
       "      <td>50.0</td>\n",
       "      <td>55.0</td>\n",
       "      <td>61.0</td>\n",
       "      <td>67.0</td>\n",
       "      <td>72.0</td>\n",
       "    </tr>\n",
       "    <tr>\n",
       "      <th>Moisture</th>\n",
       "      <td>750000.0</td>\n",
       "      <td>45.184147</td>\n",
       "      <td>11.794594</td>\n",
       "      <td>25.0</td>\n",
       "      <td>35.0</td>\n",
       "      <td>45.0</td>\n",
       "      <td>55.0</td>\n",
       "      <td>65.0</td>\n",
       "    </tr>\n",
       "    <tr>\n",
       "      <th>Nitrogen</th>\n",
       "      <td>750000.0</td>\n",
       "      <td>23.093808</td>\n",
       "      <td>11.216125</td>\n",
       "      <td>4.0</td>\n",
       "      <td>13.0</td>\n",
       "      <td>23.0</td>\n",
       "      <td>33.0</td>\n",
       "      <td>42.0</td>\n",
       "    </tr>\n",
       "    <tr>\n",
       "      <th>Potassium</th>\n",
       "      <td>750000.0</td>\n",
       "      <td>9.478296</td>\n",
       "      <td>5.765622</td>\n",
       "      <td>0.0</td>\n",
       "      <td>4.0</td>\n",
       "      <td>9.0</td>\n",
       "      <td>14.0</td>\n",
       "      <td>19.0</td>\n",
       "    </tr>\n",
       "    <tr>\n",
       "      <th>Phosphorous</th>\n",
       "      <td>750000.0</td>\n",
       "      <td>21.073227</td>\n",
       "      <td>12.346831</td>\n",
       "      <td>0.0</td>\n",
       "      <td>10.0</td>\n",
       "      <td>21.0</td>\n",
       "      <td>32.0</td>\n",
       "      <td>42.0</td>\n",
       "    </tr>\n",
       "  </tbody>\n",
       "</table>\n",
       "</div>"
      ],
      "text/plain": [
       "                count       mean        std   min   25%   50%   75%   max\n",
       "Temparature  750000.0  31.503565   4.025574  25.0  28.0  32.0  35.0  38.0\n",
       "Humidity     750000.0  61.038912   6.647695  50.0  55.0  61.0  67.0  72.0\n",
       "Moisture     750000.0  45.184147  11.794594  25.0  35.0  45.0  55.0  65.0\n",
       "Nitrogen     750000.0  23.093808  11.216125   4.0  13.0  23.0  33.0  42.0\n",
       "Potassium    750000.0   9.478296   5.765622   0.0   4.0   9.0  14.0  19.0\n",
       "Phosphorous  750000.0  21.073227  12.346831   0.0  10.0  21.0  32.0  42.0"
      ]
     },
     "execution_count": 4,
     "metadata": {},
     "output_type": "execute_result"
    }
   ],
   "source": [
    "fertilizers_train.describe().T"
   ]
  },
  {
   "cell_type": "code",
   "execution_count": 5,
   "id": "0d0c2150",
   "metadata": {
    "execution": {
     "iopub.execute_input": "2025-06-30T14:00:23.793605Z",
     "iopub.status.busy": "2025-06-30T14:00:23.792894Z",
     "iopub.status.idle": "2025-06-30T14:00:23.927081Z",
     "shell.execute_reply": "2025-06-30T14:00:23.926103Z"
    },
    "papermill": {
     "duration": 0.152063,
     "end_time": "2025-06-30T14:00:23.928715",
     "exception": false,
     "start_time": "2025-06-30T14:00:23.776652",
     "status": "completed"
    },
    "tags": []
   },
   "outputs": [
    {
     "name": "stdout",
     "output_type": "stream",
     "text": [
      "<class 'pandas.core.frame.DataFrame'>\n",
      "Index: 750000 entries, 0 to 749999\n",
      "Data columns (total 9 columns):\n",
      " #   Column           Non-Null Count   Dtype \n",
      "---  ------           --------------   ----- \n",
      " 0   Temparature      750000 non-null  int64 \n",
      " 1   Humidity         750000 non-null  int64 \n",
      " 2   Moisture         750000 non-null  int64 \n",
      " 3   Soil Type        750000 non-null  object\n",
      " 4   Crop Type        750000 non-null  object\n",
      " 5   Nitrogen         750000 non-null  int64 \n",
      " 6   Potassium        750000 non-null  int64 \n",
      " 7   Phosphorous      750000 non-null  int64 \n",
      " 8   Fertilizer Name  750000 non-null  object\n",
      "dtypes: int64(6), object(3)\n",
      "memory usage: 57.2+ MB\n"
     ]
    }
   ],
   "source": [
    "fertilizers_train.info()"
   ]
  },
  {
   "cell_type": "markdown",
   "id": "cef331d0",
   "metadata": {
    "papermill": {
     "duration": 0.01559,
     "end_time": "2025-06-30T14:00:23.960542",
     "exception": false,
     "start_time": "2025-06-30T14:00:23.944952",
     "status": "completed"
    },
    "tags": []
   },
   "source": [
    "# Data wrangling"
   ]
  },
  {
   "cell_type": "code",
   "execution_count": 6,
   "id": "5eddf2da",
   "metadata": {
    "execution": {
     "iopub.execute_input": "2025-06-30T14:00:23.993150Z",
     "iopub.status.busy": "2025-06-30T14:00:23.992814Z",
     "iopub.status.idle": "2025-06-30T14:00:24.020965Z",
     "shell.execute_reply": "2025-06-30T14:00:24.020077Z"
    },
    "papermill": {
     "duration": 0.046459,
     "end_time": "2025-06-30T14:00:24.022663",
     "exception": false,
     "start_time": "2025-06-30T14:00:23.976204",
     "status": "completed"
    },
    "tags": []
   },
   "outputs": [],
   "source": [
    "# We make a copy of the original dataset\n",
    "\n",
    "fertilizers_new = fertilizers_train.copy()"
   ]
  },
  {
   "cell_type": "code",
   "execution_count": 7,
   "id": "ed5228c2",
   "metadata": {
    "execution": {
     "iopub.execute_input": "2025-06-30T14:00:24.055305Z",
     "iopub.status.busy": "2025-06-30T14:00:24.054969Z",
     "iopub.status.idle": "2025-06-30T14:00:24.300679Z",
     "shell.execute_reply": "2025-06-30T14:00:24.299988Z"
    },
    "papermill": {
     "duration": 0.263494,
     "end_time": "2025-06-30T14:00:24.301979",
     "exception": false,
     "start_time": "2025-06-30T14:00:24.038485",
     "status": "completed"
    },
    "tags": []
   },
   "outputs": [
    {
     "data": {
      "text/html": [
       "<div>\n",
       "<style scoped>\n",
       "    .dataframe tbody tr th:only-of-type {\n",
       "        vertical-align: middle;\n",
       "    }\n",
       "\n",
       "    .dataframe tbody tr th {\n",
       "        vertical-align: top;\n",
       "    }\n",
       "\n",
       "    .dataframe thead th {\n",
       "        text-align: right;\n",
       "    }\n",
       "</style>\n",
       "<table border=\"1\" class=\"dataframe\">\n",
       "  <thead>\n",
       "    <tr style=\"text-align: right;\">\n",
       "      <th></th>\n",
       "      <th>Null Data</th>\n",
       "      <th>Percentage</th>\n",
       "    </tr>\n",
       "  </thead>\n",
       "  <tbody>\n",
       "    <tr>\n",
       "      <th>Temparature</th>\n",
       "      <td>0</td>\n",
       "      <td>0.0</td>\n",
       "    </tr>\n",
       "    <tr>\n",
       "      <th>Humidity</th>\n",
       "      <td>0</td>\n",
       "      <td>0.0</td>\n",
       "    </tr>\n",
       "    <tr>\n",
       "      <th>Moisture</th>\n",
       "      <td>0</td>\n",
       "      <td>0.0</td>\n",
       "    </tr>\n",
       "    <tr>\n",
       "      <th>Soil Type</th>\n",
       "      <td>0</td>\n",
       "      <td>0.0</td>\n",
       "    </tr>\n",
       "    <tr>\n",
       "      <th>Crop Type</th>\n",
       "      <td>0</td>\n",
       "      <td>0.0</td>\n",
       "    </tr>\n",
       "    <tr>\n",
       "      <th>Nitrogen</th>\n",
       "      <td>0</td>\n",
       "      <td>0.0</td>\n",
       "    </tr>\n",
       "    <tr>\n",
       "      <th>Potassium</th>\n",
       "      <td>0</td>\n",
       "      <td>0.0</td>\n",
       "    </tr>\n",
       "    <tr>\n",
       "      <th>Phosphorous</th>\n",
       "      <td>0</td>\n",
       "      <td>0.0</td>\n",
       "    </tr>\n",
       "    <tr>\n",
       "      <th>Fertilizer Name</th>\n",
       "      <td>0</td>\n",
       "      <td>0.0</td>\n",
       "    </tr>\n",
       "  </tbody>\n",
       "</table>\n",
       "</div>"
      ],
      "text/plain": [
       "                 Null Data  Percentage\n",
       "Temparature              0         0.0\n",
       "Humidity                 0         0.0\n",
       "Moisture                 0         0.0\n",
       "Soil Type                0         0.0\n",
       "Crop Type                0         0.0\n",
       "Nitrogen                 0         0.0\n",
       "Potassium                0         0.0\n",
       "Phosphorous              0         0.0\n",
       "Fertilizer Name          0         0.0"
      ]
     },
     "execution_count": 7,
     "metadata": {},
     "output_type": "execute_result"
    }
   ],
   "source": [
    "# We confirm that there is no null values\n",
    "\n",
    "null_values = pd.DataFrame(\n",
    "        {f\"Null Data\" : fertilizers_new.isnull().sum(), \n",
    "         \"Percentage\" : (fertilizers_new.isnull().sum()) / (len(fertilizers_new)) * (100)})\n",
    "\n",
    "null_values"
   ]
  },
  {
   "cell_type": "code",
   "execution_count": 8,
   "id": "da78a302",
   "metadata": {
    "execution": {
     "iopub.execute_input": "2025-06-30T14:00:24.334733Z",
     "iopub.status.busy": "2025-06-30T14:00:24.334426Z",
     "iopub.status.idle": "2025-06-30T14:00:24.864840Z",
     "shell.execute_reply": "2025-06-30T14:00:24.863929Z"
    },
    "papermill": {
     "duration": 0.548505,
     "end_time": "2025-06-30T14:00:24.866363",
     "exception": false,
     "start_time": "2025-06-30T14:00:24.317858",
     "status": "completed"
    },
    "tags": []
   },
   "outputs": [
    {
     "name": "stdout",
     "output_type": "stream",
     "text": [
      "Length: 750000\n",
      "Duplicates: 0\n"
     ]
    }
   ],
   "source": [
    "# We check the duplicate data found\n",
    "\n",
    "print(f\"Length: {len(fertilizers_new.duplicated())}\")\n",
    "print(f\"Duplicates: {fertilizers_new.duplicated().sum()}\")"
   ]
  },
  {
   "cell_type": "code",
   "execution_count": 9,
   "id": "4683d743",
   "metadata": {
    "execution": {
     "iopub.execute_input": "2025-06-30T14:00:24.899329Z",
     "iopub.status.busy": "2025-06-30T14:00:24.899021Z",
     "iopub.status.idle": "2025-06-30T14:00:24.904738Z",
     "shell.execute_reply": "2025-06-30T14:00:24.903930Z"
    },
    "papermill": {
     "duration": 0.02379,
     "end_time": "2025-06-30T14:00:24.906137",
     "exception": false,
     "start_time": "2025-06-30T14:00:24.882347",
     "status": "completed"
    },
    "tags": []
   },
   "outputs": [
    {
     "data": {
      "text/plain": [
       "'\\neval_out = sns.PairGrid(fertilizers_new, palette=sns.light_palette(\"seagreen\"))\\neval_out.map(sns.boxplot)\\neval_out.tick_params(axis=\"both\", labelbottom=False)\\n'"
      ]
     },
     "execution_count": 9,
     "metadata": {},
     "output_type": "execute_result"
    }
   ],
   "source": [
    "'''\n",
    "eval_out = sns.PairGrid(fertilizers_new, palette=sns.light_palette(\"seagreen\"))\n",
    "eval_out.map(sns.boxplot)\n",
    "eval_out.tick_params(axis=\"both\", labelbottom=False)\n",
    "'''"
   ]
  },
  {
   "cell_type": "markdown",
   "id": "ef54c7ec",
   "metadata": {
    "papermill": {
     "duration": 0.016321,
     "end_time": "2025-06-30T14:00:24.939738",
     "exception": false,
     "start_time": "2025-06-30T14:00:24.923417",
     "status": "completed"
    },
    "tags": []
   },
   "source": [
    "# Data Preprocessing"
   ]
  },
  {
   "cell_type": "code",
   "execution_count": 10,
   "id": "c509f030",
   "metadata": {
    "execution": {
     "iopub.execute_input": "2025-06-30T14:00:24.973983Z",
     "iopub.status.busy": "2025-06-30T14:00:24.973648Z",
     "iopub.status.idle": "2025-06-30T14:00:25.010871Z",
     "shell.execute_reply": "2025-06-30T14:00:25.009961Z"
    },
    "papermill": {
     "duration": 0.056261,
     "end_time": "2025-06-30T14:00:25.012569",
     "exception": false,
     "start_time": "2025-06-30T14:00:24.956308",
     "status": "completed"
    },
    "tags": []
   },
   "outputs": [],
   "source": [
    "fertilizers_end = fertilizers_new.copy()"
   ]
  },
  {
   "cell_type": "markdown",
   "id": "768de489",
   "metadata": {
    "papermill": {
     "duration": 0.016149,
     "end_time": "2025-06-30T14:00:25.045360",
     "exception": false,
     "start_time": "2025-06-30T14:00:25.029211",
     "status": "completed"
    },
    "tags": []
   },
   "source": [
    "## Feature Engineering"
   ]
  },
  {
   "cell_type": "code",
   "execution_count": 11,
   "id": "26469eb1",
   "metadata": {
    "execution": {
     "iopub.execute_input": "2025-06-30T14:00:25.079946Z",
     "iopub.status.busy": "2025-06-30T14:00:25.079619Z",
     "iopub.status.idle": "2025-06-30T14:00:25.219323Z",
     "shell.execute_reply": "2025-06-30T14:00:25.217994Z"
    },
    "papermill": {
     "duration": 0.159719,
     "end_time": "2025-06-30T14:00:25.221248",
     "exception": false,
     "start_time": "2025-06-30T14:00:25.061529",
     "status": "completed"
    },
    "tags": []
   },
   "outputs": [],
   "source": [
    "# We separate the climate variables into bins\n",
    "\n",
    "bins_tem = [0.0, 29.0, 33.0, 39.0]\n",
    "bins_hum = [0.0, 57.0, 65.0, 73.0]\n",
    "bins_moi = [0.0, 36.0, 51.0, 66.0]\n",
    "\n",
    "# Specify bin labels\n",
    "\n",
    "labels_climate = [\"Low\", \"Medium\", \"High\"]\n",
    "\n",
    "# We create the new features\n",
    "\n",
    "fertilizers_end[\"Temparature_Bins\"] = pd.cut(fertilizers_end[\"Temparature\"], bins_tem, labels=labels_climate)\n",
    "fertilizers_end[\"Humidity_Bins\"] = pd.cut(fertilizers_end[\"Humidity\"], bins_hum, labels=labels_climate)\n",
    "fertilizers_end[\"Moisture_Bins\"] = pd.cut(fertilizers_end[\"Moisture\"], bins_moi, labels=labels_climate)\n",
    "\n",
    "# We separate the elements variables into bins\n",
    "\n",
    "bins_n = [0.0, 15.0, 30.0, 43.0]\n",
    "bins_k = [-0.1, 6.0, 12.0, 20.0]\n",
    "bins_p = [-0.1, 15.0, 30.0, 43.0]\n",
    "\n",
    "# Specify bin labels\n",
    "\n",
    "labels_elements = [\"Small\", \"Medium\", \"Large\"]\n",
    "\n",
    "# We create the new features\n",
    "\n",
    "fertilizers_end[\"Nitrogen_Bins\"] = pd.cut(fertilizers_end[\"Nitrogen\"], bins_n, labels=labels_elements)\n",
    "fertilizers_end[\"Potassium_Bins\"] = pd.cut(fertilizers_end[\"Potassium\"], bins_k, labels=labels_elements)\n",
    "fertilizers_end[\"Phosphorous_Bins\"] = pd.cut(fertilizers_end[\"Phosphorous\"], bins_p, labels=labels_elements)"
   ]
  },
  {
   "cell_type": "code",
   "execution_count": 12,
   "id": "17abbb0c",
   "metadata": {
    "execution": {
     "iopub.execute_input": "2025-06-30T14:00:25.256016Z",
     "iopub.status.busy": "2025-06-30T14:00:25.255640Z",
     "iopub.status.idle": "2025-06-30T14:00:25.263214Z",
     "shell.execute_reply": "2025-06-30T14:00:25.261946Z"
    },
    "papermill": {
     "duration": 0.026637,
     "end_time": "2025-06-30T14:00:25.264736",
     "exception": false,
     "start_time": "2025-06-30T14:00:25.238099",
     "status": "completed"
    },
    "tags": []
   },
   "outputs": [
    {
     "data": {
      "text/plain": [
       "'\\n# Polynomial / transforms\\n\\nfertilizers_end[\"tem_log\"] = np.log1p(fertilizers_end[\"Temparature\"])\\nfertilizers_end[\"tem_sq\"]  = fertilizers_end[\"Temparature\"] ** 2\\nfertilizers_end[\"tem_cubert\"] = np.cbrt(fertilizers_end[\"Temparature\"])\\n\\nfertilizers_end[\"hum_log\"] = np.log1p(fertilizers_end[\"Humidity\"])\\nfertilizers_end[\"hum_sq\"]  = fertilizers_end[\"Humidity\"] ** 2\\nfertilizers_end[\"hum_cubert\"] = np.cbrt(fertilizers_end[\"Humidity\"])\\n\\nfertilizers_end[\"moi_log\"] = np.log1p(fertilizers_end[\"Moisture\"])\\nfertilizers_end[\"moi_sq\"]  = fertilizers_end[\"Moisture\"] ** 2\\nfertilizers_end[\"moi_cubert\"] = np.cbrt(fertilizers_end[\"Moisture\"])\\n\\nfertilizers_end[\"n_log\"] = np.log1p(fertilizers_end[\"Nitrogen\"])\\nfertilizers_end[\"n_sq\"]  = fertilizers_end[\"Nitrogen\"] ** 2\\nfertilizers_end[\"n_cubert\"] = np.cbrt(fertilizers_end[\"Nitrogen\"])\\n\\nfertilizers_end[\"k_log\"] = np.log1p(fertilizers_end[\"Potassium\"])\\nfertilizers_end[\"k_sq\"]  = fertilizers_end[\"Potassium\"] ** 2\\nfertilizers_end[\"k_cubert\"] = np.cbrt(fertilizers_end[\"Potassium\"])\\n\\nfertilizers_end[\"p_log\"] = np.log1p(fertilizers_end[\"Phosphorous\"])\\nfertilizers_end[\"p_sq\"]  = fertilizers_end[\"Phosphorous\"] ** 2\\nfertilizers_end[\"p_cubert\"] = np.cbrt(fertilizers_end[\"Phosphorous\"])\\n'"
      ]
     },
     "execution_count": 12,
     "metadata": {},
     "output_type": "execute_result"
    }
   ],
   "source": [
    "'''\n",
    "# Polynomial / transforms\n",
    "\n",
    "fertilizers_end[\"tem_log\"] = np.log1p(fertilizers_end[\"Temparature\"])\n",
    "fertilizers_end[\"tem_sq\"]  = fertilizers_end[\"Temparature\"] ** 2\n",
    "fertilizers_end[\"tem_cubert\"] = np.cbrt(fertilizers_end[\"Temparature\"])\n",
    "\n",
    "fertilizers_end[\"hum_log\"] = np.log1p(fertilizers_end[\"Humidity\"])\n",
    "fertilizers_end[\"hum_sq\"]  = fertilizers_end[\"Humidity\"] ** 2\n",
    "fertilizers_end[\"hum_cubert\"] = np.cbrt(fertilizers_end[\"Humidity\"])\n",
    "\n",
    "fertilizers_end[\"moi_log\"] = np.log1p(fertilizers_end[\"Moisture\"])\n",
    "fertilizers_end[\"moi_sq\"]  = fertilizers_end[\"Moisture\"] ** 2\n",
    "fertilizers_end[\"moi_cubert\"] = np.cbrt(fertilizers_end[\"Moisture\"])\n",
    "\n",
    "fertilizers_end[\"n_log\"] = np.log1p(fertilizers_end[\"Nitrogen\"])\n",
    "fertilizers_end[\"n_sq\"]  = fertilizers_end[\"Nitrogen\"] ** 2\n",
    "fertilizers_end[\"n_cubert\"] = np.cbrt(fertilizers_end[\"Nitrogen\"])\n",
    "\n",
    "fertilizers_end[\"k_log\"] = np.log1p(fertilizers_end[\"Potassium\"])\n",
    "fertilizers_end[\"k_sq\"]  = fertilizers_end[\"Potassium\"] ** 2\n",
    "fertilizers_end[\"k_cubert\"] = np.cbrt(fertilizers_end[\"Potassium\"])\n",
    "\n",
    "fertilizers_end[\"p_log\"] = np.log1p(fertilizers_end[\"Phosphorous\"])\n",
    "fertilizers_end[\"p_sq\"]  = fertilizers_end[\"Phosphorous\"] ** 2\n",
    "fertilizers_end[\"p_cubert\"] = np.cbrt(fertilizers_end[\"Phosphorous\"])\n",
    "'''"
   ]
  },
  {
   "cell_type": "code",
   "execution_count": 13,
   "id": "2b28521a",
   "metadata": {
    "execution": {
     "iopub.execute_input": "2025-06-30T14:00:25.301599Z",
     "iopub.status.busy": "2025-06-30T14:00:25.301292Z",
     "iopub.status.idle": "2025-06-30T14:00:25.448892Z",
     "shell.execute_reply": "2025-06-30T14:00:25.447862Z"
    },
    "papermill": {
     "duration": 0.167429,
     "end_time": "2025-06-30T14:00:25.450415",
     "exception": false,
     "start_time": "2025-06-30T14:00:25.282986",
     "status": "completed"
    },
    "tags": []
   },
   "outputs": [
    {
     "name": "stdout",
     "output_type": "stream",
     "text": [
      "<class 'pandas.core.frame.DataFrame'>\n",
      "Index: 750000 entries, 0 to 749999\n",
      "Data columns (total 15 columns):\n",
      " #   Column            Non-Null Count   Dtype   \n",
      "---  ------            --------------   -----   \n",
      " 0   Temparature       750000 non-null  int64   \n",
      " 1   Humidity          750000 non-null  int64   \n",
      " 2   Moisture          750000 non-null  int64   \n",
      " 3   Soil Type         750000 non-null  object  \n",
      " 4   Crop Type         750000 non-null  object  \n",
      " 5   Nitrogen          750000 non-null  int64   \n",
      " 6   Potassium         750000 non-null  int64   \n",
      " 7   Phosphorous       750000 non-null  int64   \n",
      " 8   Fertilizer Name   750000 non-null  object  \n",
      " 9   Temparature_Bins  750000 non-null  category\n",
      " 10  Humidity_Bins     750000 non-null  category\n",
      " 11  Moisture_Bins     750000 non-null  category\n",
      " 12  Nitrogen_Bins     750000 non-null  category\n",
      " 13  Potassium_Bins    750000 non-null  category\n",
      " 14  Phosphorous_Bins  750000 non-null  category\n",
      "dtypes: category(6), int64(6), object(3)\n",
      "memory usage: 61.5+ MB\n"
     ]
    }
   ],
   "source": [
    "fertilizers_end.info()"
   ]
  },
  {
   "cell_type": "markdown",
   "id": "ec15126a",
   "metadata": {
    "papermill": {
     "duration": 0.015809,
     "end_time": "2025-06-30T14:00:25.482297",
     "exception": false,
     "start_time": "2025-06-30T14:00:25.466488",
     "status": "completed"
    },
    "tags": []
   },
   "source": [
    "## Encoding"
   ]
  },
  {
   "cell_type": "code",
   "execution_count": 14,
   "id": "1ba73953",
   "metadata": {
    "execution": {
     "iopub.execute_input": "2025-06-30T14:00:25.516764Z",
     "iopub.status.busy": "2025-06-30T14:00:25.516019Z",
     "iopub.status.idle": "2025-06-30T14:00:25.661977Z",
     "shell.execute_reply": "2025-06-30T14:00:25.660961Z"
    },
    "papermill": {
     "duration": 0.165364,
     "end_time": "2025-06-30T14:00:25.663722",
     "exception": false,
     "start_time": "2025-06-30T14:00:25.498358",
     "status": "completed"
    },
    "tags": []
   },
   "outputs": [],
   "source": [
    "# We apply LabelEncoder to the target variable\n",
    "\n",
    "le = LabelEncoder()\n",
    "\n",
    "fertilizers_end[\"Fertilizer Name\"] = le.fit_transform(fertilizers_end[\"Fertilizer Name\"])"
   ]
  },
  {
   "cell_type": "code",
   "execution_count": 15,
   "id": "adcea8b1",
   "metadata": {
    "execution": {
     "iopub.execute_input": "2025-06-30T14:00:25.699495Z",
     "iopub.status.busy": "2025-06-30T14:00:25.698621Z",
     "iopub.status.idle": "2025-06-30T14:00:25.703548Z",
     "shell.execute_reply": "2025-06-30T14:00:25.702799Z"
    },
    "papermill": {
     "duration": 0.022915,
     "end_time": "2025-06-30T14:00:25.704893",
     "exception": false,
     "start_time": "2025-06-30T14:00:25.681978",
     "status": "completed"
    },
    "tags": []
   },
   "outputs": [],
   "source": [
    "le_values = le.classes_"
   ]
  },
  {
   "cell_type": "code",
   "execution_count": 16,
   "id": "d824e8f2",
   "metadata": {
    "execution": {
     "iopub.execute_input": "2025-06-30T14:00:25.739393Z",
     "iopub.status.busy": "2025-06-30T14:00:25.738568Z",
     "iopub.status.idle": "2025-06-30T14:00:26.646596Z",
     "shell.execute_reply": "2025-06-30T14:00:26.645683Z"
    },
    "papermill": {
     "duration": 0.927009,
     "end_time": "2025-06-30T14:00:26.648317",
     "exception": false,
     "start_time": "2025-06-30T14:00:25.721308",
     "status": "completed"
    },
    "tags": []
   },
   "outputs": [],
   "source": [
    "# We create a df with the encoded categorical variables\n",
    "\n",
    "cat_cols = fertilizers_end[[\"Soil Type\", \"Crop Type\"]]\n",
    "rest_cols = fertilizers_end.drop(columns=[\"Soil Type\", \"Crop Type\"])\n",
    "encoder = OneHotEncoder(sparse=False, drop=\"if_binary\").set_output(transform=\"pandas\")\n",
    "cat_enc = encoder.fit_transform(cat_cols)\n",
    "df_encoded = pd.concat([rest_cols, cat_enc], axis=1)"
   ]
  },
  {
   "cell_type": "code",
   "execution_count": 17,
   "id": "828c6a66",
   "metadata": {
    "execution": {
     "iopub.execute_input": "2025-06-30T14:00:26.683169Z",
     "iopub.status.busy": "2025-06-30T14:00:26.682854Z",
     "iopub.status.idle": "2025-06-30T14:00:26.688485Z",
     "shell.execute_reply": "2025-06-30T14:00:26.687671Z"
    },
    "papermill": {
     "duration": 0.024657,
     "end_time": "2025-06-30T14:00:26.690044",
     "exception": false,
     "start_time": "2025-06-30T14:00:26.665387",
     "status": "completed"
    },
    "tags": []
   },
   "outputs": [],
   "source": [
    "# We create a useful function\n",
    "\n",
    "def mapper(data, column, order):\n",
    "    \n",
    "    data[column] = data[column].map(order)\n",
    "    data[column] = data[column].astype(\"float64\")\n",
    "\n",
    "    print(data[column].value_counts())"
   ]
  },
  {
   "cell_type": "code",
   "execution_count": 18,
   "id": "aebbd987",
   "metadata": {
    "execution": {
     "iopub.execute_input": "2025-06-30T14:00:26.723531Z",
     "iopub.status.busy": "2025-06-30T14:00:26.723241Z",
     "iopub.status.idle": "2025-06-30T14:00:26.850700Z",
     "shell.execute_reply": "2025-06-30T14:00:26.849665Z"
    },
    "papermill": {
     "duration": 0.145913,
     "end_time": "2025-06-30T14:00:26.852280",
     "exception": false,
     "start_time": "2025-06-30T14:00:26.706367",
     "status": "completed"
    },
    "tags": []
   },
   "outputs": [
    {
     "name": "stdout",
     "output_type": "stream",
     "text": [
      "Temparature_Bins\n",
      "2.0    268332\n",
      "0.0    267043\n",
      "1.0    214625\n",
      "Name: count, dtype: int64\n",
      "Humidity_Bins\n",
      "0.0    260326\n",
      "1.0    259289\n",
      "2.0    230385\n",
      "Name: count, dtype: int64\n",
      "Moisture_Bins\n",
      "1.0    276824\n",
      "2.0    259353\n",
      "0.0    213823\n",
      "Name: count, dtype: int64\n",
      "Nitrogen_Bins\n",
      "1.0    292080\n",
      "2.0    231010\n",
      "0.0    226910\n",
      "Name: count, dtype: int64\n",
      "Potassium_Bins\n",
      "0.0    262455\n",
      "2.0    262427\n",
      "1.0    225118\n",
      "Name: count, dtype: int64\n",
      "Phosphorous_Bins\n",
      "0.0    275369\n",
      "1.0    267395\n",
      "2.0    207236\n",
      "Name: count, dtype: int64\n"
     ]
    }
   ],
   "source": [
    "# We map the variables and change the format\n",
    "\n",
    "climate_order = {\"Low\" : 0, \"Medium\" : 1, \"High\" : 2}\n",
    "elements_order = {\"Small\" : 0, \"Medium\" : 1, \"Large\" : 2}\n",
    "\n",
    "mapper(df_encoded, \"Temparature_Bins\", climate_order)\n",
    "mapper(df_encoded, \"Humidity_Bins\", climate_order)\n",
    "mapper(df_encoded, \"Moisture_Bins\", climate_order)\n",
    "mapper(df_encoded, \"Nitrogen_Bins\", elements_order)\n",
    "mapper(df_encoded, \"Potassium_Bins\", elements_order)\n",
    "mapper(df_encoded, \"Phosphorous_Bins\", elements_order)"
   ]
  },
  {
   "cell_type": "code",
   "execution_count": 19,
   "id": "8a5345cd",
   "metadata": {
    "execution": {
     "iopub.execute_input": "2025-06-30T14:00:26.887711Z",
     "iopub.status.busy": "2025-06-30T14:00:26.887091Z",
     "iopub.status.idle": "2025-06-30T14:00:26.979635Z",
     "shell.execute_reply": "2025-06-30T14:00:26.978678Z"
    },
    "papermill": {
     "duration": 0.112026,
     "end_time": "2025-06-30T14:00:26.981183",
     "exception": false,
     "start_time": "2025-06-30T14:00:26.869157",
     "status": "completed"
    },
    "tags": []
   },
   "outputs": [
    {
     "name": "stdout",
     "output_type": "stream",
     "text": [
      "<class 'pandas.core.frame.DataFrame'>\n",
      "Index: 750000 entries, 0 to 749999\n",
      "Data columns (total 29 columns):\n",
      " #   Column                 Non-Null Count   Dtype  \n",
      "---  ------                 --------------   -----  \n",
      " 0   Temparature            750000 non-null  int64  \n",
      " 1   Humidity               750000 non-null  int64  \n",
      " 2   Moisture               750000 non-null  int64  \n",
      " 3   Nitrogen               750000 non-null  int64  \n",
      " 4   Potassium              750000 non-null  int64  \n",
      " 5   Phosphorous            750000 non-null  int64  \n",
      " 6   Fertilizer Name        750000 non-null  int64  \n",
      " 7   Temparature_Bins       750000 non-null  float64\n",
      " 8   Humidity_Bins          750000 non-null  float64\n",
      " 9   Moisture_Bins          750000 non-null  float64\n",
      " 10  Nitrogen_Bins          750000 non-null  float64\n",
      " 11  Potassium_Bins         750000 non-null  float64\n",
      " 12  Phosphorous_Bins       750000 non-null  float64\n",
      " 13  Soil Type_Black        750000 non-null  float64\n",
      " 14  Soil Type_Clayey       750000 non-null  float64\n",
      " 15  Soil Type_Loamy        750000 non-null  float64\n",
      " 16  Soil Type_Red          750000 non-null  float64\n",
      " 17  Soil Type_Sandy        750000 non-null  float64\n",
      " 18  Crop Type_Barley       750000 non-null  float64\n",
      " 19  Crop Type_Cotton       750000 non-null  float64\n",
      " 20  Crop Type_Ground Nuts  750000 non-null  float64\n",
      " 21  Crop Type_Maize        750000 non-null  float64\n",
      " 22  Crop Type_Millets      750000 non-null  float64\n",
      " 23  Crop Type_Oil seeds    750000 non-null  float64\n",
      " 24  Crop Type_Paddy        750000 non-null  float64\n",
      " 25  Crop Type_Pulses       750000 non-null  float64\n",
      " 26  Crop Type_Sugarcane    750000 non-null  float64\n",
      " 27  Crop Type_Tobacco      750000 non-null  float64\n",
      " 28  Crop Type_Wheat        750000 non-null  float64\n",
      "dtypes: float64(22), int64(7)\n",
      "memory usage: 171.7 MB\n"
     ]
    }
   ],
   "source": [
    "df_encoded.info()"
   ]
  },
  {
   "cell_type": "code",
   "execution_count": 20,
   "id": "2cccf764",
   "metadata": {
    "execution": {
     "iopub.execute_input": "2025-06-30T14:00:27.016390Z",
     "iopub.status.busy": "2025-06-30T14:00:27.015624Z",
     "iopub.status.idle": "2025-06-30T14:00:27.020568Z",
     "shell.execute_reply": "2025-06-30T14:00:27.019642Z"
    },
    "papermill": {
     "duration": 0.023767,
     "end_time": "2025-06-30T14:00:27.022093",
     "exception": false,
     "start_time": "2025-06-30T14:00:26.998326",
     "status": "completed"
    },
    "tags": []
   },
   "outputs": [],
   "source": [
    "#df_encoded.corr(numeric_only=True).round(2)"
   ]
  },
  {
   "cell_type": "markdown",
   "id": "5eed641e",
   "metadata": {
    "papermill": {
     "duration": 0.015655,
     "end_time": "2025-06-30T14:00:27.054088",
     "exception": false,
     "start_time": "2025-06-30T14:00:27.038433",
     "status": "completed"
    },
    "tags": []
   },
   "source": [
    "## Scaling"
   ]
  },
  {
   "cell_type": "code",
   "execution_count": 21,
   "id": "8f5abf54",
   "metadata": {
    "execution": {
     "iopub.execute_input": "2025-06-30T14:00:27.088176Z",
     "iopub.status.busy": "2025-06-30T14:00:27.087848Z",
     "iopub.status.idle": "2025-06-30T14:00:28.117532Z",
     "shell.execute_reply": "2025-06-30T14:00:28.116448Z"
    },
    "papermill": {
     "duration": 1.048938,
     "end_time": "2025-06-30T14:00:28.119213",
     "exception": false,
     "start_time": "2025-06-30T14:00:27.070275",
     "status": "completed"
    },
    "tags": []
   },
   "outputs": [
    {
     "data": {
      "text/html": [
       "<div>\n",
       "<style scoped>\n",
       "    .dataframe tbody tr th:only-of-type {\n",
       "        vertical-align: middle;\n",
       "    }\n",
       "\n",
       "    .dataframe tbody tr th {\n",
       "        vertical-align: top;\n",
       "    }\n",
       "\n",
       "    .dataframe thead th {\n",
       "        text-align: right;\n",
       "    }\n",
       "</style>\n",
       "<table border=\"1\" class=\"dataframe\">\n",
       "  <thead>\n",
       "    <tr style=\"text-align: right;\">\n",
       "      <th></th>\n",
       "      <th>count</th>\n",
       "      <th>mean</th>\n",
       "      <th>std</th>\n",
       "      <th>min</th>\n",
       "      <th>25%</th>\n",
       "      <th>50%</th>\n",
       "      <th>75%</th>\n",
       "      <th>max</th>\n",
       "    </tr>\n",
       "  </thead>\n",
       "  <tbody>\n",
       "    <tr>\n",
       "      <th>Temparature</th>\n",
       "      <td>750000.0</td>\n",
       "      <td>31.503565</td>\n",
       "      <td>4.025574</td>\n",
       "      <td>25.0</td>\n",
       "      <td>28.0</td>\n",
       "      <td>32.0</td>\n",
       "      <td>35.0</td>\n",
       "      <td>38.0</td>\n",
       "    </tr>\n",
       "    <tr>\n",
       "      <th>Humidity</th>\n",
       "      <td>750000.0</td>\n",
       "      <td>61.038912</td>\n",
       "      <td>6.647695</td>\n",
       "      <td>50.0</td>\n",
       "      <td>55.0</td>\n",
       "      <td>61.0</td>\n",
       "      <td>67.0</td>\n",
       "      <td>72.0</td>\n",
       "    </tr>\n",
       "    <tr>\n",
       "      <th>Moisture</th>\n",
       "      <td>750000.0</td>\n",
       "      <td>45.184147</td>\n",
       "      <td>11.794594</td>\n",
       "      <td>25.0</td>\n",
       "      <td>35.0</td>\n",
       "      <td>45.0</td>\n",
       "      <td>55.0</td>\n",
       "      <td>65.0</td>\n",
       "    </tr>\n",
       "    <tr>\n",
       "      <th>Nitrogen</th>\n",
       "      <td>750000.0</td>\n",
       "      <td>23.093808</td>\n",
       "      <td>11.216125</td>\n",
       "      <td>4.0</td>\n",
       "      <td>13.0</td>\n",
       "      <td>23.0</td>\n",
       "      <td>33.0</td>\n",
       "      <td>42.0</td>\n",
       "    </tr>\n",
       "    <tr>\n",
       "      <th>Potassium</th>\n",
       "      <td>750000.0</td>\n",
       "      <td>9.478296</td>\n",
       "      <td>5.765622</td>\n",
       "      <td>0.0</td>\n",
       "      <td>4.0</td>\n",
       "      <td>9.0</td>\n",
       "      <td>14.0</td>\n",
       "      <td>19.0</td>\n",
       "    </tr>\n",
       "    <tr>\n",
       "      <th>Phosphorous</th>\n",
       "      <td>750000.0</td>\n",
       "      <td>21.073227</td>\n",
       "      <td>12.346831</td>\n",
       "      <td>0.0</td>\n",
       "      <td>10.0</td>\n",
       "      <td>21.0</td>\n",
       "      <td>32.0</td>\n",
       "      <td>42.0</td>\n",
       "    </tr>\n",
       "    <tr>\n",
       "      <th>Fertilizer Name</th>\n",
       "      <td>750000.0</td>\n",
       "      <td>2.859791</td>\n",
       "      <td>1.967025</td>\n",
       "      <td>0.0</td>\n",
       "      <td>1.0</td>\n",
       "      <td>3.0</td>\n",
       "      <td>4.0</td>\n",
       "      <td>6.0</td>\n",
       "    </tr>\n",
       "    <tr>\n",
       "      <th>Temparature_Bins</th>\n",
       "      <td>750000.0</td>\n",
       "      <td>1.001719</td>\n",
       "      <td>0.844885</td>\n",
       "      <td>0.0</td>\n",
       "      <td>0.0</td>\n",
       "      <td>1.0</td>\n",
       "      <td>2.0</td>\n",
       "      <td>2.0</td>\n",
       "    </tr>\n",
       "    <tr>\n",
       "      <th>Humidity_Bins</th>\n",
       "      <td>750000.0</td>\n",
       "      <td>0.960079</td>\n",
       "      <td>0.807891</td>\n",
       "      <td>0.0</td>\n",
       "      <td>0.0</td>\n",
       "      <td>1.0</td>\n",
       "      <td>2.0</td>\n",
       "      <td>2.0</td>\n",
       "    </tr>\n",
       "    <tr>\n",
       "      <th>Moisture_Bins</th>\n",
       "      <td>750000.0</td>\n",
       "      <td>1.060707</td>\n",
       "      <td>0.791970</td>\n",
       "      <td>0.0</td>\n",
       "      <td>0.0</td>\n",
       "      <td>1.0</td>\n",
       "      <td>2.0</td>\n",
       "      <td>2.0</td>\n",
       "    </tr>\n",
       "    <tr>\n",
       "      <th>Nitrogen_Bins</th>\n",
       "      <td>750000.0</td>\n",
       "      <td>1.005467</td>\n",
       "      <td>0.781365</td>\n",
       "      <td>0.0</td>\n",
       "      <td>0.0</td>\n",
       "      <td>1.0</td>\n",
       "      <td>2.0</td>\n",
       "      <td>2.0</td>\n",
       "    </tr>\n",
       "    <tr>\n",
       "      <th>Potassium_Bins</th>\n",
       "      <td>750000.0</td>\n",
       "      <td>0.999963</td>\n",
       "      <td>0.836567</td>\n",
       "      <td>0.0</td>\n",
       "      <td>0.0</td>\n",
       "      <td>1.0</td>\n",
       "      <td>2.0</td>\n",
       "      <td>2.0</td>\n",
       "    </tr>\n",
       "    <tr>\n",
       "      <th>Phosphorous_Bins</th>\n",
       "      <td>750000.0</td>\n",
       "      <td>0.909156</td>\n",
       "      <td>0.797008</td>\n",
       "      <td>0.0</td>\n",
       "      <td>0.0</td>\n",
       "      <td>1.0</td>\n",
       "      <td>2.0</td>\n",
       "      <td>2.0</td>\n",
       "    </tr>\n",
       "    <tr>\n",
       "      <th>Soil Type_Black</th>\n",
       "      <td>750000.0</td>\n",
       "      <td>0.201275</td>\n",
       "      <td>0.400953</td>\n",
       "      <td>0.0</td>\n",
       "      <td>0.0</td>\n",
       "      <td>0.0</td>\n",
       "      <td>0.0</td>\n",
       "      <td>1.0</td>\n",
       "    </tr>\n",
       "    <tr>\n",
       "      <th>Soil Type_Clayey</th>\n",
       "      <td>750000.0</td>\n",
       "      <td>0.197843</td>\n",
       "      <td>0.398373</td>\n",
       "      <td>0.0</td>\n",
       "      <td>0.0</td>\n",
       "      <td>0.0</td>\n",
       "      <td>0.0</td>\n",
       "      <td>1.0</td>\n",
       "    </tr>\n",
       "    <tr>\n",
       "      <th>Soil Type_Loamy</th>\n",
       "      <td>750000.0</td>\n",
       "      <td>0.194467</td>\n",
       "      <td>0.395790</td>\n",
       "      <td>0.0</td>\n",
       "      <td>0.0</td>\n",
       "      <td>0.0</td>\n",
       "      <td>0.0</td>\n",
       "      <td>1.0</td>\n",
       "    </tr>\n",
       "    <tr>\n",
       "      <th>Soil Type_Red</th>\n",
       "      <td>750000.0</td>\n",
       "      <td>0.197469</td>\n",
       "      <td>0.398090</td>\n",
       "      <td>0.0</td>\n",
       "      <td>0.0</td>\n",
       "      <td>0.0</td>\n",
       "      <td>0.0</td>\n",
       "      <td>1.0</td>\n",
       "    </tr>\n",
       "    <tr>\n",
       "      <th>Soil Type_Sandy</th>\n",
       "      <td>750000.0</td>\n",
       "      <td>0.208947</td>\n",
       "      <td>0.406556</td>\n",
       "      <td>0.0</td>\n",
       "      <td>0.0</td>\n",
       "      <td>0.0</td>\n",
       "      <td>0.0</td>\n",
       "      <td>1.0</td>\n",
       "    </tr>\n",
       "    <tr>\n",
       "      <th>Crop Type_Barley</th>\n",
       "      <td>750000.0</td>\n",
       "      <td>0.086727</td>\n",
       "      <td>0.281434</td>\n",
       "      <td>0.0</td>\n",
       "      <td>0.0</td>\n",
       "      <td>0.0</td>\n",
       "      <td>0.0</td>\n",
       "      <td>1.0</td>\n",
       "    </tr>\n",
       "    <tr>\n",
       "      <th>Crop Type_Cotton</th>\n",
       "      <td>750000.0</td>\n",
       "      <td>0.092228</td>\n",
       "      <td>0.289348</td>\n",
       "      <td>0.0</td>\n",
       "      <td>0.0</td>\n",
       "      <td>0.0</td>\n",
       "      <td>0.0</td>\n",
       "      <td>1.0</td>\n",
       "    </tr>\n",
       "    <tr>\n",
       "      <th>Crop Type_Ground Nuts</th>\n",
       "      <td>750000.0</td>\n",
       "      <td>0.081212</td>\n",
       "      <td>0.273161</td>\n",
       "      <td>0.0</td>\n",
       "      <td>0.0</td>\n",
       "      <td>0.0</td>\n",
       "      <td>0.0</td>\n",
       "      <td>1.0</td>\n",
       "    </tr>\n",
       "    <tr>\n",
       "      <th>Crop Type_Maize</th>\n",
       "      <td>750000.0</td>\n",
       "      <td>0.083425</td>\n",
       "      <td>0.276524</td>\n",
       "      <td>0.0</td>\n",
       "      <td>0.0</td>\n",
       "      <td>0.0</td>\n",
       "      <td>0.0</td>\n",
       "      <td>1.0</td>\n",
       "    </tr>\n",
       "    <tr>\n",
       "      <th>Crop Type_Millets</th>\n",
       "      <td>750000.0</td>\n",
       "      <td>0.087055</td>\n",
       "      <td>0.281915</td>\n",
       "      <td>0.0</td>\n",
       "      <td>0.0</td>\n",
       "      <td>0.0</td>\n",
       "      <td>0.0</td>\n",
       "      <td>1.0</td>\n",
       "    </tr>\n",
       "    <tr>\n",
       "      <th>Crop Type_Oil seeds</th>\n",
       "      <td>750000.0</td>\n",
       "      <td>0.085579</td>\n",
       "      <td>0.279741</td>\n",
       "      <td>0.0</td>\n",
       "      <td>0.0</td>\n",
       "      <td>0.0</td>\n",
       "      <td>0.0</td>\n",
       "      <td>1.0</td>\n",
       "    </tr>\n",
       "    <tr>\n",
       "      <th>Crop Type_Paddy</th>\n",
       "      <td>750000.0</td>\n",
       "      <td>0.114339</td>\n",
       "      <td>0.318222</td>\n",
       "      <td>0.0</td>\n",
       "      <td>0.0</td>\n",
       "      <td>0.0</td>\n",
       "      <td>0.0</td>\n",
       "      <td>1.0</td>\n",
       "    </tr>\n",
       "    <tr>\n",
       "      <th>Crop Type_Pulses</th>\n",
       "      <td>750000.0</td>\n",
       "      <td>0.104240</td>\n",
       "      <td>0.305572</td>\n",
       "      <td>0.0</td>\n",
       "      <td>0.0</td>\n",
       "      <td>0.0</td>\n",
       "      <td>0.0</td>\n",
       "      <td>1.0</td>\n",
       "    </tr>\n",
       "    <tr>\n",
       "      <th>Crop Type_Sugarcane</th>\n",
       "      <td>750000.0</td>\n",
       "      <td>0.085692</td>\n",
       "      <td>0.279909</td>\n",
       "      <td>0.0</td>\n",
       "      <td>0.0</td>\n",
       "      <td>0.0</td>\n",
       "      <td>0.0</td>\n",
       "      <td>1.0</td>\n",
       "    </tr>\n",
       "    <tr>\n",
       "      <th>Crop Type_Tobacco</th>\n",
       "      <td>750000.0</td>\n",
       "      <td>0.090667</td>\n",
       "      <td>0.287135</td>\n",
       "      <td>0.0</td>\n",
       "      <td>0.0</td>\n",
       "      <td>0.0</td>\n",
       "      <td>0.0</td>\n",
       "      <td>1.0</td>\n",
       "    </tr>\n",
       "    <tr>\n",
       "      <th>Crop Type_Wheat</th>\n",
       "      <td>750000.0</td>\n",
       "      <td>0.088837</td>\n",
       "      <td>0.284509</td>\n",
       "      <td>0.0</td>\n",
       "      <td>0.0</td>\n",
       "      <td>0.0</td>\n",
       "      <td>0.0</td>\n",
       "      <td>1.0</td>\n",
       "    </tr>\n",
       "  </tbody>\n",
       "</table>\n",
       "</div>"
      ],
      "text/plain": [
       "                          count       mean        std   min   25%   50%   75%  \\\n",
       "Temparature            750000.0  31.503565   4.025574  25.0  28.0  32.0  35.0   \n",
       "Humidity               750000.0  61.038912   6.647695  50.0  55.0  61.0  67.0   \n",
       "Moisture               750000.0  45.184147  11.794594  25.0  35.0  45.0  55.0   \n",
       "Nitrogen               750000.0  23.093808  11.216125   4.0  13.0  23.0  33.0   \n",
       "Potassium              750000.0   9.478296   5.765622   0.0   4.0   9.0  14.0   \n",
       "Phosphorous            750000.0  21.073227  12.346831   0.0  10.0  21.0  32.0   \n",
       "Fertilizer Name        750000.0   2.859791   1.967025   0.0   1.0   3.0   4.0   \n",
       "Temparature_Bins       750000.0   1.001719   0.844885   0.0   0.0   1.0   2.0   \n",
       "Humidity_Bins          750000.0   0.960079   0.807891   0.0   0.0   1.0   2.0   \n",
       "Moisture_Bins          750000.0   1.060707   0.791970   0.0   0.0   1.0   2.0   \n",
       "Nitrogen_Bins          750000.0   1.005467   0.781365   0.0   0.0   1.0   2.0   \n",
       "Potassium_Bins         750000.0   0.999963   0.836567   0.0   0.0   1.0   2.0   \n",
       "Phosphorous_Bins       750000.0   0.909156   0.797008   0.0   0.0   1.0   2.0   \n",
       "Soil Type_Black        750000.0   0.201275   0.400953   0.0   0.0   0.0   0.0   \n",
       "Soil Type_Clayey       750000.0   0.197843   0.398373   0.0   0.0   0.0   0.0   \n",
       "Soil Type_Loamy        750000.0   0.194467   0.395790   0.0   0.0   0.0   0.0   \n",
       "Soil Type_Red          750000.0   0.197469   0.398090   0.0   0.0   0.0   0.0   \n",
       "Soil Type_Sandy        750000.0   0.208947   0.406556   0.0   0.0   0.0   0.0   \n",
       "Crop Type_Barley       750000.0   0.086727   0.281434   0.0   0.0   0.0   0.0   \n",
       "Crop Type_Cotton       750000.0   0.092228   0.289348   0.0   0.0   0.0   0.0   \n",
       "Crop Type_Ground Nuts  750000.0   0.081212   0.273161   0.0   0.0   0.0   0.0   \n",
       "Crop Type_Maize        750000.0   0.083425   0.276524   0.0   0.0   0.0   0.0   \n",
       "Crop Type_Millets      750000.0   0.087055   0.281915   0.0   0.0   0.0   0.0   \n",
       "Crop Type_Oil seeds    750000.0   0.085579   0.279741   0.0   0.0   0.0   0.0   \n",
       "Crop Type_Paddy        750000.0   0.114339   0.318222   0.0   0.0   0.0   0.0   \n",
       "Crop Type_Pulses       750000.0   0.104240   0.305572   0.0   0.0   0.0   0.0   \n",
       "Crop Type_Sugarcane    750000.0   0.085692   0.279909   0.0   0.0   0.0   0.0   \n",
       "Crop Type_Tobacco      750000.0   0.090667   0.287135   0.0   0.0   0.0   0.0   \n",
       "Crop Type_Wheat        750000.0   0.088837   0.284509   0.0   0.0   0.0   0.0   \n",
       "\n",
       "                        max  \n",
       "Temparature            38.0  \n",
       "Humidity               72.0  \n",
       "Moisture               65.0  \n",
       "Nitrogen               42.0  \n",
       "Potassium              19.0  \n",
       "Phosphorous            42.0  \n",
       "Fertilizer Name         6.0  \n",
       "Temparature_Bins        2.0  \n",
       "Humidity_Bins           2.0  \n",
       "Moisture_Bins           2.0  \n",
       "Nitrogen_Bins           2.0  \n",
       "Potassium_Bins          2.0  \n",
       "Phosphorous_Bins        2.0  \n",
       "Soil Type_Black         1.0  \n",
       "Soil Type_Clayey        1.0  \n",
       "Soil Type_Loamy         1.0  \n",
       "Soil Type_Red           1.0  \n",
       "Soil Type_Sandy         1.0  \n",
       "Crop Type_Barley        1.0  \n",
       "Crop Type_Cotton        1.0  \n",
       "Crop Type_Ground Nuts   1.0  \n",
       "Crop Type_Maize         1.0  \n",
       "Crop Type_Millets       1.0  \n",
       "Crop Type_Oil seeds     1.0  \n",
       "Crop Type_Paddy         1.0  \n",
       "Crop Type_Pulses        1.0  \n",
       "Crop Type_Sugarcane     1.0  \n",
       "Crop Type_Tobacco       1.0  \n",
       "Crop Type_Wheat         1.0  "
      ]
     },
     "execution_count": 21,
     "metadata": {},
     "output_type": "execute_result"
    }
   ],
   "source": [
    "df_encoded.describe().T"
   ]
  },
  {
   "cell_type": "code",
   "execution_count": 22,
   "id": "fc303978",
   "metadata": {
    "execution": {
     "iopub.execute_input": "2025-06-30T14:00:28.155293Z",
     "iopub.status.busy": "2025-06-30T14:00:28.154987Z",
     "iopub.status.idle": "2025-06-30T14:00:28.234377Z",
     "shell.execute_reply": "2025-06-30T14:00:28.233446Z"
    },
    "papermill": {
     "duration": 0.099814,
     "end_time": "2025-06-30T14:00:28.236068",
     "exception": false,
     "start_time": "2025-06-30T14:00:28.136254",
     "status": "completed"
    },
    "tags": []
   },
   "outputs": [],
   "source": [
    "# We separate the target variable from the features\n",
    "\n",
    "x_fertilizers = df_encoded.drop(columns=\"Fertilizer Name\")\n",
    "y_fertilizers = df_encoded[\"Fertilizer Name\"]"
   ]
  },
  {
   "cell_type": "code",
   "execution_count": 23,
   "id": "70c53109",
   "metadata": {
    "execution": {
     "iopub.execute_input": "2025-06-30T14:00:28.271420Z",
     "iopub.status.busy": "2025-06-30T14:00:28.271083Z",
     "iopub.status.idle": "2025-06-30T14:00:28.277184Z",
     "shell.execute_reply": "2025-06-30T14:00:28.276423Z"
    },
    "papermill": {
     "duration": 0.02553,
     "end_time": "2025-06-30T14:00:28.278535",
     "exception": false,
     "start_time": "2025-06-30T14:00:28.253005",
     "status": "completed"
    },
    "tags": []
   },
   "outputs": [
    {
     "data": {
      "text/plain": [
       "'\\n# Numerical variables to scale\\n\\nfertilizer_numeric = x_fertilizers[[\\n    \"Temparature\",\\n    \"Humidity\",\\n    \"Moisture\",\\n    \"Nitrogen\",\\n    \"Potassium\",\\n    \"Phosphorous\",\\n    \"tem_sq\",\\n    \"hum_sq\",\\n    \"moi_sq\",\\n    \"n_sq\",\\n    \"k_sq\",\\n    \"p_sq\"\\n]]\\n\\nscaler = MinMaxScaler().set_output(transform=\"pandas\")\\nscale_num = scaler.fit_transform(fertilizer_numeric)\\n\\n# We create a df with the remaining variables\\n\\nfertilizer_rest = x_fertilizers.drop(columns=[\\n    \"Temparature\",\\n    \"Humidity\",\\n    \"Moisture\",\\n    \"Nitrogen\",\\n    \"Potassium\",\\n    \"Phosphorous\",\\n    \"tem_sq\",\\n    \"hum_sq\",\\n    \"moi_sq\",\\n    \"n_sq\",\\n    \"k_sq\",\\n    \"p_sq\"\\n])\\n\\n# We concatenate the dataframes\\n\\nx_end = pd.concat([scale_num, fertilizer_rest], axis=1)\\n'"
      ]
     },
     "execution_count": 23,
     "metadata": {},
     "output_type": "execute_result"
    }
   ],
   "source": [
    "'''\n",
    "# Numerical variables to scale\n",
    "\n",
    "fertilizer_numeric = x_fertilizers[[\n",
    "    \"Temparature\",\n",
    "    \"Humidity\",\n",
    "    \"Moisture\",\n",
    "    \"Nitrogen\",\n",
    "    \"Potassium\",\n",
    "    \"Phosphorous\",\n",
    "    \"tem_sq\",\n",
    "    \"hum_sq\",\n",
    "    \"moi_sq\",\n",
    "    \"n_sq\",\n",
    "    \"k_sq\",\n",
    "    \"p_sq\"\n",
    "]]\n",
    "\n",
    "scaler = MinMaxScaler().set_output(transform=\"pandas\")\n",
    "scale_num = scaler.fit_transform(fertilizer_numeric)\n",
    "\n",
    "# We create a df with the remaining variables\n",
    "\n",
    "fertilizer_rest = x_fertilizers.drop(columns=[\n",
    "    \"Temparature\",\n",
    "    \"Humidity\",\n",
    "    \"Moisture\",\n",
    "    \"Nitrogen\",\n",
    "    \"Potassium\",\n",
    "    \"Phosphorous\",\n",
    "    \"tem_sq\",\n",
    "    \"hum_sq\",\n",
    "    \"moi_sq\",\n",
    "    \"n_sq\",\n",
    "    \"k_sq\",\n",
    "    \"p_sq\"\n",
    "])\n",
    "\n",
    "# We concatenate the dataframes\n",
    "\n",
    "x_end = pd.concat([scale_num, fertilizer_rest], axis=1)\n",
    "'''"
   ]
  },
  {
   "cell_type": "code",
   "execution_count": 24,
   "id": "d44f5cb7",
   "metadata": {
    "execution": {
     "iopub.execute_input": "2025-06-30T14:00:28.315084Z",
     "iopub.status.busy": "2025-06-30T14:00:28.314228Z",
     "iopub.status.idle": "2025-06-30T14:00:28.629490Z",
     "shell.execute_reply": "2025-06-30T14:00:28.628409Z"
    },
    "papermill": {
     "duration": 0.335628,
     "end_time": "2025-06-30T14:00:28.631060",
     "exception": false,
     "start_time": "2025-06-30T14:00:28.295432",
     "status": "completed"
    },
    "tags": []
   },
   "outputs": [],
   "source": [
    "# Numerical variables to scale\n",
    "\n",
    "fertilizer_numeric = x_fertilizers[[\n",
    "    \"Temparature\",\n",
    "    \"Humidity\",\n",
    "    \"Moisture\",\n",
    "    \"Nitrogen\",\n",
    "    \"Potassium\",\n",
    "    \"Phosphorous\"\n",
    "]]\n",
    "\n",
    "scaler = MinMaxScaler().set_output(transform=\"pandas\")\n",
    "scale_num = scaler.fit_transform(fertilizer_numeric)\n",
    "\n",
    "# We create a df with the remaining variables\n",
    "\n",
    "fertilizer_rest = x_fertilizers.drop(columns=[\n",
    "    \"Temparature\",\n",
    "    \"Humidity\",\n",
    "    \"Moisture\",\n",
    "    \"Nitrogen\",\n",
    "    \"Potassium\",\n",
    "    \"Phosphorous\"\n",
    "])\n",
    "\n",
    "# We concatenate the dataframes\n",
    "\n",
    "x_end = pd.concat([scale_num, fertilizer_rest], axis=1)"
   ]
  },
  {
   "cell_type": "code",
   "execution_count": 25,
   "id": "69b4f0d6",
   "metadata": {
    "execution": {
     "iopub.execute_input": "2025-06-30T14:00:28.667260Z",
     "iopub.status.busy": "2025-06-30T14:00:28.666453Z",
     "iopub.status.idle": "2025-06-30T14:00:28.762476Z",
     "shell.execute_reply": "2025-06-30T14:00:28.761373Z"
    },
    "papermill": {
     "duration": 0.115128,
     "end_time": "2025-06-30T14:00:28.763894",
     "exception": false,
     "start_time": "2025-06-30T14:00:28.648766",
     "status": "completed"
    },
    "tags": []
   },
   "outputs": [
    {
     "name": "stdout",
     "output_type": "stream",
     "text": [
      "<class 'pandas.core.frame.DataFrame'>\n",
      "Index: 750000 entries, 0 to 749999\n",
      "Data columns (total 28 columns):\n",
      " #   Column                 Non-Null Count   Dtype  \n",
      "---  ------                 --------------   -----  \n",
      " 0   Temparature            750000 non-null  float64\n",
      " 1   Humidity               750000 non-null  float64\n",
      " 2   Moisture               750000 non-null  float64\n",
      " 3   Nitrogen               750000 non-null  float64\n",
      " 4   Potassium              750000 non-null  float64\n",
      " 5   Phosphorous            750000 non-null  float64\n",
      " 6   Temparature_Bins       750000 non-null  float64\n",
      " 7   Humidity_Bins          750000 non-null  float64\n",
      " 8   Moisture_Bins          750000 non-null  float64\n",
      " 9   Nitrogen_Bins          750000 non-null  float64\n",
      " 10  Potassium_Bins         750000 non-null  float64\n",
      " 11  Phosphorous_Bins       750000 non-null  float64\n",
      " 12  Soil Type_Black        750000 non-null  float64\n",
      " 13  Soil Type_Clayey       750000 non-null  float64\n",
      " 14  Soil Type_Loamy        750000 non-null  float64\n",
      " 15  Soil Type_Red          750000 non-null  float64\n",
      " 16  Soil Type_Sandy        750000 non-null  float64\n",
      " 17  Crop Type_Barley       750000 non-null  float64\n",
      " 18  Crop Type_Cotton       750000 non-null  float64\n",
      " 19  Crop Type_Ground Nuts  750000 non-null  float64\n",
      " 20  Crop Type_Maize        750000 non-null  float64\n",
      " 21  Crop Type_Millets      750000 non-null  float64\n",
      " 22  Crop Type_Oil seeds    750000 non-null  float64\n",
      " 23  Crop Type_Paddy        750000 non-null  float64\n",
      " 24  Crop Type_Pulses       750000 non-null  float64\n",
      " 25  Crop Type_Sugarcane    750000 non-null  float64\n",
      " 26  Crop Type_Tobacco      750000 non-null  float64\n",
      " 27  Crop Type_Wheat        750000 non-null  float64\n",
      "dtypes: float64(28)\n",
      "memory usage: 165.9 MB\n"
     ]
    }
   ],
   "source": [
    "x_end.info()"
   ]
  },
  {
   "cell_type": "code",
   "execution_count": 26,
   "id": "d29d6f08",
   "metadata": {
    "execution": {
     "iopub.execute_input": "2025-06-30T14:00:28.802319Z",
     "iopub.status.busy": "2025-06-30T14:00:28.801974Z",
     "iopub.status.idle": "2025-06-30T14:00:29.924112Z",
     "shell.execute_reply": "2025-06-30T14:00:29.923206Z"
    },
    "papermill": {
     "duration": 1.143797,
     "end_time": "2025-06-30T14:00:29.925665",
     "exception": false,
     "start_time": "2025-06-30T14:00:28.781868",
     "status": "completed"
    },
    "tags": []
   },
   "outputs": [
    {
     "data": {
      "text/html": [
       "<div>\n",
       "<style scoped>\n",
       "    .dataframe tbody tr th:only-of-type {\n",
       "        vertical-align: middle;\n",
       "    }\n",
       "\n",
       "    .dataframe tbody tr th {\n",
       "        vertical-align: top;\n",
       "    }\n",
       "\n",
       "    .dataframe thead th {\n",
       "        text-align: right;\n",
       "    }\n",
       "</style>\n",
       "<table border=\"1\" class=\"dataframe\">\n",
       "  <thead>\n",
       "    <tr style=\"text-align: right;\">\n",
       "      <th></th>\n",
       "      <th>count</th>\n",
       "      <th>mean</th>\n",
       "      <th>std</th>\n",
       "      <th>min</th>\n",
       "      <th>25%</th>\n",
       "      <th>50%</th>\n",
       "      <th>75%</th>\n",
       "      <th>max</th>\n",
       "    </tr>\n",
       "  </thead>\n",
       "  <tbody>\n",
       "    <tr>\n",
       "      <th>Temparature</th>\n",
       "      <td>750000.0</td>\n",
       "      <td>0.500274</td>\n",
       "      <td>0.309660</td>\n",
       "      <td>0.0</td>\n",
       "      <td>0.230769</td>\n",
       "      <td>0.538462</td>\n",
       "      <td>0.769231</td>\n",
       "      <td>1.0</td>\n",
       "    </tr>\n",
       "    <tr>\n",
       "      <th>Humidity</th>\n",
       "      <td>750000.0</td>\n",
       "      <td>0.501769</td>\n",
       "      <td>0.302168</td>\n",
       "      <td>0.0</td>\n",
       "      <td>0.227273</td>\n",
       "      <td>0.500000</td>\n",
       "      <td>0.772727</td>\n",
       "      <td>1.0</td>\n",
       "    </tr>\n",
       "    <tr>\n",
       "      <th>Moisture</th>\n",
       "      <td>750000.0</td>\n",
       "      <td>0.504604</td>\n",
       "      <td>0.294865</td>\n",
       "      <td>0.0</td>\n",
       "      <td>0.250000</td>\n",
       "      <td>0.500000</td>\n",
       "      <td>0.750000</td>\n",
       "      <td>1.0</td>\n",
       "    </tr>\n",
       "    <tr>\n",
       "      <th>Nitrogen</th>\n",
       "      <td>750000.0</td>\n",
       "      <td>0.502469</td>\n",
       "      <td>0.295161</td>\n",
       "      <td>0.0</td>\n",
       "      <td>0.236842</td>\n",
       "      <td>0.500000</td>\n",
       "      <td>0.763158</td>\n",
       "      <td>1.0</td>\n",
       "    </tr>\n",
       "    <tr>\n",
       "      <th>Potassium</th>\n",
       "      <td>750000.0</td>\n",
       "      <td>0.498858</td>\n",
       "      <td>0.303454</td>\n",
       "      <td>0.0</td>\n",
       "      <td>0.210526</td>\n",
       "      <td>0.473684</td>\n",
       "      <td>0.736842</td>\n",
       "      <td>1.0</td>\n",
       "    </tr>\n",
       "    <tr>\n",
       "      <th>Phosphorous</th>\n",
       "      <td>750000.0</td>\n",
       "      <td>0.501743</td>\n",
       "      <td>0.293972</td>\n",
       "      <td>0.0</td>\n",
       "      <td>0.238095</td>\n",
       "      <td>0.500000</td>\n",
       "      <td>0.761905</td>\n",
       "      <td>1.0</td>\n",
       "    </tr>\n",
       "    <tr>\n",
       "      <th>Temparature_Bins</th>\n",
       "      <td>750000.0</td>\n",
       "      <td>1.001719</td>\n",
       "      <td>0.844885</td>\n",
       "      <td>0.0</td>\n",
       "      <td>0.000000</td>\n",
       "      <td>1.000000</td>\n",
       "      <td>2.000000</td>\n",
       "      <td>2.0</td>\n",
       "    </tr>\n",
       "    <tr>\n",
       "      <th>Humidity_Bins</th>\n",
       "      <td>750000.0</td>\n",
       "      <td>0.960079</td>\n",
       "      <td>0.807891</td>\n",
       "      <td>0.0</td>\n",
       "      <td>0.000000</td>\n",
       "      <td>1.000000</td>\n",
       "      <td>2.000000</td>\n",
       "      <td>2.0</td>\n",
       "    </tr>\n",
       "    <tr>\n",
       "      <th>Moisture_Bins</th>\n",
       "      <td>750000.0</td>\n",
       "      <td>1.060707</td>\n",
       "      <td>0.791970</td>\n",
       "      <td>0.0</td>\n",
       "      <td>0.000000</td>\n",
       "      <td>1.000000</td>\n",
       "      <td>2.000000</td>\n",
       "      <td>2.0</td>\n",
       "    </tr>\n",
       "    <tr>\n",
       "      <th>Nitrogen_Bins</th>\n",
       "      <td>750000.0</td>\n",
       "      <td>1.005467</td>\n",
       "      <td>0.781365</td>\n",
       "      <td>0.0</td>\n",
       "      <td>0.000000</td>\n",
       "      <td>1.000000</td>\n",
       "      <td>2.000000</td>\n",
       "      <td>2.0</td>\n",
       "    </tr>\n",
       "    <tr>\n",
       "      <th>Potassium_Bins</th>\n",
       "      <td>750000.0</td>\n",
       "      <td>0.999963</td>\n",
       "      <td>0.836567</td>\n",
       "      <td>0.0</td>\n",
       "      <td>0.000000</td>\n",
       "      <td>1.000000</td>\n",
       "      <td>2.000000</td>\n",
       "      <td>2.0</td>\n",
       "    </tr>\n",
       "    <tr>\n",
       "      <th>Phosphorous_Bins</th>\n",
       "      <td>750000.0</td>\n",
       "      <td>0.909156</td>\n",
       "      <td>0.797008</td>\n",
       "      <td>0.0</td>\n",
       "      <td>0.000000</td>\n",
       "      <td>1.000000</td>\n",
       "      <td>2.000000</td>\n",
       "      <td>2.0</td>\n",
       "    </tr>\n",
       "    <tr>\n",
       "      <th>Soil Type_Black</th>\n",
       "      <td>750000.0</td>\n",
       "      <td>0.201275</td>\n",
       "      <td>0.400953</td>\n",
       "      <td>0.0</td>\n",
       "      <td>0.000000</td>\n",
       "      <td>0.000000</td>\n",
       "      <td>0.000000</td>\n",
       "      <td>1.0</td>\n",
       "    </tr>\n",
       "    <tr>\n",
       "      <th>Soil Type_Clayey</th>\n",
       "      <td>750000.0</td>\n",
       "      <td>0.197843</td>\n",
       "      <td>0.398373</td>\n",
       "      <td>0.0</td>\n",
       "      <td>0.000000</td>\n",
       "      <td>0.000000</td>\n",
       "      <td>0.000000</td>\n",
       "      <td>1.0</td>\n",
       "    </tr>\n",
       "    <tr>\n",
       "      <th>Soil Type_Loamy</th>\n",
       "      <td>750000.0</td>\n",
       "      <td>0.194467</td>\n",
       "      <td>0.395790</td>\n",
       "      <td>0.0</td>\n",
       "      <td>0.000000</td>\n",
       "      <td>0.000000</td>\n",
       "      <td>0.000000</td>\n",
       "      <td>1.0</td>\n",
       "    </tr>\n",
       "    <tr>\n",
       "      <th>Soil Type_Red</th>\n",
       "      <td>750000.0</td>\n",
       "      <td>0.197469</td>\n",
       "      <td>0.398090</td>\n",
       "      <td>0.0</td>\n",
       "      <td>0.000000</td>\n",
       "      <td>0.000000</td>\n",
       "      <td>0.000000</td>\n",
       "      <td>1.0</td>\n",
       "    </tr>\n",
       "    <tr>\n",
       "      <th>Soil Type_Sandy</th>\n",
       "      <td>750000.0</td>\n",
       "      <td>0.208947</td>\n",
       "      <td>0.406556</td>\n",
       "      <td>0.0</td>\n",
       "      <td>0.000000</td>\n",
       "      <td>0.000000</td>\n",
       "      <td>0.000000</td>\n",
       "      <td>1.0</td>\n",
       "    </tr>\n",
       "    <tr>\n",
       "      <th>Crop Type_Barley</th>\n",
       "      <td>750000.0</td>\n",
       "      <td>0.086727</td>\n",
       "      <td>0.281434</td>\n",
       "      <td>0.0</td>\n",
       "      <td>0.000000</td>\n",
       "      <td>0.000000</td>\n",
       "      <td>0.000000</td>\n",
       "      <td>1.0</td>\n",
       "    </tr>\n",
       "    <tr>\n",
       "      <th>Crop Type_Cotton</th>\n",
       "      <td>750000.0</td>\n",
       "      <td>0.092228</td>\n",
       "      <td>0.289348</td>\n",
       "      <td>0.0</td>\n",
       "      <td>0.000000</td>\n",
       "      <td>0.000000</td>\n",
       "      <td>0.000000</td>\n",
       "      <td>1.0</td>\n",
       "    </tr>\n",
       "    <tr>\n",
       "      <th>Crop Type_Ground Nuts</th>\n",
       "      <td>750000.0</td>\n",
       "      <td>0.081212</td>\n",
       "      <td>0.273161</td>\n",
       "      <td>0.0</td>\n",
       "      <td>0.000000</td>\n",
       "      <td>0.000000</td>\n",
       "      <td>0.000000</td>\n",
       "      <td>1.0</td>\n",
       "    </tr>\n",
       "    <tr>\n",
       "      <th>Crop Type_Maize</th>\n",
       "      <td>750000.0</td>\n",
       "      <td>0.083425</td>\n",
       "      <td>0.276524</td>\n",
       "      <td>0.0</td>\n",
       "      <td>0.000000</td>\n",
       "      <td>0.000000</td>\n",
       "      <td>0.000000</td>\n",
       "      <td>1.0</td>\n",
       "    </tr>\n",
       "    <tr>\n",
       "      <th>Crop Type_Millets</th>\n",
       "      <td>750000.0</td>\n",
       "      <td>0.087055</td>\n",
       "      <td>0.281915</td>\n",
       "      <td>0.0</td>\n",
       "      <td>0.000000</td>\n",
       "      <td>0.000000</td>\n",
       "      <td>0.000000</td>\n",
       "      <td>1.0</td>\n",
       "    </tr>\n",
       "    <tr>\n",
       "      <th>Crop Type_Oil seeds</th>\n",
       "      <td>750000.0</td>\n",
       "      <td>0.085579</td>\n",
       "      <td>0.279741</td>\n",
       "      <td>0.0</td>\n",
       "      <td>0.000000</td>\n",
       "      <td>0.000000</td>\n",
       "      <td>0.000000</td>\n",
       "      <td>1.0</td>\n",
       "    </tr>\n",
       "    <tr>\n",
       "      <th>Crop Type_Paddy</th>\n",
       "      <td>750000.0</td>\n",
       "      <td>0.114339</td>\n",
       "      <td>0.318222</td>\n",
       "      <td>0.0</td>\n",
       "      <td>0.000000</td>\n",
       "      <td>0.000000</td>\n",
       "      <td>0.000000</td>\n",
       "      <td>1.0</td>\n",
       "    </tr>\n",
       "    <tr>\n",
       "      <th>Crop Type_Pulses</th>\n",
       "      <td>750000.0</td>\n",
       "      <td>0.104240</td>\n",
       "      <td>0.305572</td>\n",
       "      <td>0.0</td>\n",
       "      <td>0.000000</td>\n",
       "      <td>0.000000</td>\n",
       "      <td>0.000000</td>\n",
       "      <td>1.0</td>\n",
       "    </tr>\n",
       "    <tr>\n",
       "      <th>Crop Type_Sugarcane</th>\n",
       "      <td>750000.0</td>\n",
       "      <td>0.085692</td>\n",
       "      <td>0.279909</td>\n",
       "      <td>0.0</td>\n",
       "      <td>0.000000</td>\n",
       "      <td>0.000000</td>\n",
       "      <td>0.000000</td>\n",
       "      <td>1.0</td>\n",
       "    </tr>\n",
       "    <tr>\n",
       "      <th>Crop Type_Tobacco</th>\n",
       "      <td>750000.0</td>\n",
       "      <td>0.090667</td>\n",
       "      <td>0.287135</td>\n",
       "      <td>0.0</td>\n",
       "      <td>0.000000</td>\n",
       "      <td>0.000000</td>\n",
       "      <td>0.000000</td>\n",
       "      <td>1.0</td>\n",
       "    </tr>\n",
       "    <tr>\n",
       "      <th>Crop Type_Wheat</th>\n",
       "      <td>750000.0</td>\n",
       "      <td>0.088837</td>\n",
       "      <td>0.284509</td>\n",
       "      <td>0.0</td>\n",
       "      <td>0.000000</td>\n",
       "      <td>0.000000</td>\n",
       "      <td>0.000000</td>\n",
       "      <td>1.0</td>\n",
       "    </tr>\n",
       "  </tbody>\n",
       "</table>\n",
       "</div>"
      ],
      "text/plain": [
       "                          count      mean       std  min       25%       50%  \\\n",
       "Temparature            750000.0  0.500274  0.309660  0.0  0.230769  0.538462   \n",
       "Humidity               750000.0  0.501769  0.302168  0.0  0.227273  0.500000   \n",
       "Moisture               750000.0  0.504604  0.294865  0.0  0.250000  0.500000   \n",
       "Nitrogen               750000.0  0.502469  0.295161  0.0  0.236842  0.500000   \n",
       "Potassium              750000.0  0.498858  0.303454  0.0  0.210526  0.473684   \n",
       "Phosphorous            750000.0  0.501743  0.293972  0.0  0.238095  0.500000   \n",
       "Temparature_Bins       750000.0  1.001719  0.844885  0.0  0.000000  1.000000   \n",
       "Humidity_Bins          750000.0  0.960079  0.807891  0.0  0.000000  1.000000   \n",
       "Moisture_Bins          750000.0  1.060707  0.791970  0.0  0.000000  1.000000   \n",
       "Nitrogen_Bins          750000.0  1.005467  0.781365  0.0  0.000000  1.000000   \n",
       "Potassium_Bins         750000.0  0.999963  0.836567  0.0  0.000000  1.000000   \n",
       "Phosphorous_Bins       750000.0  0.909156  0.797008  0.0  0.000000  1.000000   \n",
       "Soil Type_Black        750000.0  0.201275  0.400953  0.0  0.000000  0.000000   \n",
       "Soil Type_Clayey       750000.0  0.197843  0.398373  0.0  0.000000  0.000000   \n",
       "Soil Type_Loamy        750000.0  0.194467  0.395790  0.0  0.000000  0.000000   \n",
       "Soil Type_Red          750000.0  0.197469  0.398090  0.0  0.000000  0.000000   \n",
       "Soil Type_Sandy        750000.0  0.208947  0.406556  0.0  0.000000  0.000000   \n",
       "Crop Type_Barley       750000.0  0.086727  0.281434  0.0  0.000000  0.000000   \n",
       "Crop Type_Cotton       750000.0  0.092228  0.289348  0.0  0.000000  0.000000   \n",
       "Crop Type_Ground Nuts  750000.0  0.081212  0.273161  0.0  0.000000  0.000000   \n",
       "Crop Type_Maize        750000.0  0.083425  0.276524  0.0  0.000000  0.000000   \n",
       "Crop Type_Millets      750000.0  0.087055  0.281915  0.0  0.000000  0.000000   \n",
       "Crop Type_Oil seeds    750000.0  0.085579  0.279741  0.0  0.000000  0.000000   \n",
       "Crop Type_Paddy        750000.0  0.114339  0.318222  0.0  0.000000  0.000000   \n",
       "Crop Type_Pulses       750000.0  0.104240  0.305572  0.0  0.000000  0.000000   \n",
       "Crop Type_Sugarcane    750000.0  0.085692  0.279909  0.0  0.000000  0.000000   \n",
       "Crop Type_Tobacco      750000.0  0.090667  0.287135  0.0  0.000000  0.000000   \n",
       "Crop Type_Wheat        750000.0  0.088837  0.284509  0.0  0.000000  0.000000   \n",
       "\n",
       "                            75%  max  \n",
       "Temparature            0.769231  1.0  \n",
       "Humidity               0.772727  1.0  \n",
       "Moisture               0.750000  1.0  \n",
       "Nitrogen               0.763158  1.0  \n",
       "Potassium              0.736842  1.0  \n",
       "Phosphorous            0.761905  1.0  \n",
       "Temparature_Bins       2.000000  2.0  \n",
       "Humidity_Bins          2.000000  2.0  \n",
       "Moisture_Bins          2.000000  2.0  \n",
       "Nitrogen_Bins          2.000000  2.0  \n",
       "Potassium_Bins         2.000000  2.0  \n",
       "Phosphorous_Bins       2.000000  2.0  \n",
       "Soil Type_Black        0.000000  1.0  \n",
       "Soil Type_Clayey       0.000000  1.0  \n",
       "Soil Type_Loamy        0.000000  1.0  \n",
       "Soil Type_Red          0.000000  1.0  \n",
       "Soil Type_Sandy        0.000000  1.0  \n",
       "Crop Type_Barley       0.000000  1.0  \n",
       "Crop Type_Cotton       0.000000  1.0  \n",
       "Crop Type_Ground Nuts  0.000000  1.0  \n",
       "Crop Type_Maize        0.000000  1.0  \n",
       "Crop Type_Millets      0.000000  1.0  \n",
       "Crop Type_Oil seeds    0.000000  1.0  \n",
       "Crop Type_Paddy        0.000000  1.0  \n",
       "Crop Type_Pulses       0.000000  1.0  \n",
       "Crop Type_Sugarcane    0.000000  1.0  \n",
       "Crop Type_Tobacco      0.000000  1.0  \n",
       "Crop Type_Wheat        0.000000  1.0  "
      ]
     },
     "execution_count": 26,
     "metadata": {},
     "output_type": "execute_result"
    }
   ],
   "source": [
    "x_end.describe().T"
   ]
  },
  {
   "cell_type": "markdown",
   "id": "12616ae5",
   "metadata": {
    "papermill": {
     "duration": 0.017302,
     "end_time": "2025-06-30T14:00:29.961206",
     "exception": false,
     "start_time": "2025-06-30T14:00:29.943904",
     "status": "completed"
    },
    "tags": []
   },
   "source": [
    "## Feature Selection"
   ]
  },
  {
   "cell_type": "code",
   "execution_count": 27,
   "id": "3e1ee00b",
   "metadata": {
    "execution": {
     "iopub.execute_input": "2025-06-30T14:00:29.998935Z",
     "iopub.status.busy": "2025-06-30T14:00:29.998598Z",
     "iopub.status.idle": "2025-06-30T14:03:43.634386Z",
     "shell.execute_reply": "2025-06-30T14:03:43.633551Z"
    },
    "papermill": {
     "duration": 193.674787,
     "end_time": "2025-06-30T14:03:43.653932",
     "exception": false,
     "start_time": "2025-06-30T14:00:29.979145",
     "status": "completed"
    },
    "tags": []
   },
   "outputs": [
    {
     "data": {
      "text/plain": [
       "Moisture_Bins            0.010182\n",
       "Potassium_Bins           0.010178\n",
       "Nitrogen_Bins            0.010081\n",
       "Temparature_Bins         0.009796\n",
       "Humidity_Bins            0.008730\n",
       "Phosphorous_Bins         0.008328\n",
       "Soil Type_Clayey         0.003656\n",
       "Moisture                 0.003411\n",
       "Soil Type_Black          0.003398\n",
       "Soil Type_Sandy          0.003335\n",
       "Soil Type_Loamy          0.003314\n",
       "Temparature              0.002990\n",
       "Potassium                0.002913\n",
       "Phosphorous              0.002868\n",
       "Nitrogen                 0.002473\n",
       "Soil Type_Red            0.002008\n",
       "Crop Type_Pulses         0.001631\n",
       "Crop Type_Sugarcane      0.001362\n",
       "Crop Type_Wheat          0.001280\n",
       "Crop Type_Ground Nuts    0.001029\n",
       "Crop Type_Barley         0.000866\n",
       "Crop Type_Cotton         0.000487\n",
       "Crop Type_Maize          0.000442\n",
       "Crop Type_Paddy          0.000430\n",
       "Crop Type_Millets        0.000379\n",
       "Humidity                 0.000333\n",
       "Crop Type_Tobacco        0.000201\n",
       "Crop Type_Oil seeds      0.000000\n",
       "Name: Fertilizers MI Scores, dtype: float64"
      ]
     },
     "execution_count": 27,
     "metadata": {},
     "output_type": "execute_result"
    }
   ],
   "source": [
    "fertilizers_scores = mutual_info_classif(x_end, y_fertilizers)\n",
    "fertilizers_scores = pd.Series(fertilizers_scores, name=\"Fertilizers MI Scores\", index=x_end.columns)\n",
    "fertilizers_scores = fertilizers_scores.sort_values(ascending=False)\n",
    "fertilizers_scores"
   ]
  },
  {
   "cell_type": "markdown",
   "id": "f07051d6",
   "metadata": {
    "papermill": {
     "duration": 0.017649,
     "end_time": "2025-06-30T14:03:43.689779",
     "exception": false,
     "start_time": "2025-06-30T14:03:43.672130",
     "status": "completed"
    },
    "tags": []
   },
   "source": [
    "First feature analysis: All Features\n",
    "\n",
    "    Moisture_Bins            0.010722\n",
    "    Potassium_Bins           0.010263\n",
    "    Nitrogen_Bins            0.009758\n",
    "    Temparature_Bins         0.009301\n",
    "    Humidity_Bins            0.009003\n",
    "    Phosphorous_Bins         0.008652\n",
    "    p_sq                     0.004939\n",
    "    Soil Type_Red            0.004646\n",
    "    moi_sq                   0.004591\n",
    "    Soil Type_Clayey         0.004016\n",
    "    tem_sq                   0.003965\n",
    "    p_log                    0.003829\n",
    "    Phosphorous              0.003596\n",
    "    moi_cubert               0.003573\n",
    "    p_cubert                 0.003512\n",
    "    k_log                    0.003362\n",
    "    Soil Type_Loamy          0.003089\n",
    "    Moisture                 0.002972\n",
    "    moi_log                  0.002962\n",
    "    tem_log                  0.002932\n",
    "    Temparature              0.002869\n",
    "    Crop Type_Tobacco        0.002838\n",
    "    Potassium                0.002815\n",
    "    Crop Type_Cotton         0.002729\n",
    "    k_sq                     0.002702\n",
    "    Nitrogen                 0.002574\n",
    "    Soil Type_Sandy          0.002465\n",
    "    hum_log                  0.002205\n",
    "    Humidity                 0.002096\n",
    "    n_cubert                 0.002027\n",
    "    Crop Type_Paddy          0.002016\n",
    "    k_cubert                 0.001883\n",
    "    n_sq                     0.001818\n",
    "    Crop Type_Oil seeds      0.001802\n",
    "    hum_cubert               0.001699\n",
    "    n_log                    0.001666\n",
    "    Soil Type_Black          0.001601\n",
    "    hum_sq                   0.001590\n",
    "    Crop Type_Pulses         0.001401\n",
    "    tem_cubert               0.001277\n",
    "    Crop Type_Wheat          0.001178\n",
    "    Crop Type_Millets        0.000953\n",
    "    Crop Type_Ground Nuts    0.000540\n",
    "    Crop Type_Sugarcane      0.000244\n",
    "    Crop Type_Maize          0.000215\n",
    "    Crop Type_Barley         0.000000"
   ]
  },
  {
   "cell_type": "code",
   "execution_count": 28,
   "id": "bc993d3b",
   "metadata": {
    "execution": {
     "iopub.execute_input": "2025-06-30T14:03:43.727011Z",
     "iopub.status.busy": "2025-06-30T14:03:43.726700Z",
     "iopub.status.idle": "2025-06-30T14:03:43.733451Z",
     "shell.execute_reply": "2025-06-30T14:03:43.732569Z"
    },
    "papermill": {
     "duration": 0.027291,
     "end_time": "2025-06-30T14:03:43.735025",
     "exception": false,
     "start_time": "2025-06-30T14:03:43.707734",
     "status": "completed"
    },
    "tags": []
   },
   "outputs": [
    {
     "data": {
      "text/plain": [
       "'\\nscores = fertilizers_scores.sort_values(ascending=True)\\nwidth = np.arange(len(fertilizers_scores))\\nticks = list(fertilizers_scores.index)\\nplt.barh(width, fertilizers_scores)\\nplt.yticks(width, ticks)\\nplt.title(\"Mutual Information Scores\")\\nplt.figure(dpi=100, figsize=(8, 5))\\nplt.show()\\n'"
      ]
     },
     "execution_count": 28,
     "metadata": {},
     "output_type": "execute_result"
    }
   ],
   "source": [
    "'''\n",
    "scores = fertilizers_scores.sort_values(ascending=True)\n",
    "width = np.arange(len(fertilizers_scores))\n",
    "ticks = list(fertilizers_scores.index)\n",
    "plt.barh(width, fertilizers_scores)\n",
    "plt.yticks(width, ticks)\n",
    "plt.title(\"Mutual Information Scores\")\n",
    "plt.figure(dpi=100, figsize=(8, 5))\n",
    "plt.show()\n",
    "'''"
   ]
  },
  {
   "cell_type": "code",
   "execution_count": 29,
   "id": "12d1b7c9",
   "metadata": {
    "execution": {
     "iopub.execute_input": "2025-06-30T14:03:43.774456Z",
     "iopub.status.busy": "2025-06-30T14:03:43.774043Z",
     "iopub.status.idle": "2025-06-30T14:03:43.780366Z",
     "shell.execute_reply": "2025-06-30T14:03:43.779529Z"
    },
    "papermill": {
     "duration": 0.028045,
     "end_time": "2025-06-30T14:03:43.781882",
     "exception": false,
     "start_time": "2025-06-30T14:03:43.753837",
     "status": "completed"
    },
    "tags": []
   },
   "outputs": [
    {
     "data": {
      "text/plain": [
       "Index(['Temparature', 'Humidity', 'Moisture', 'Nitrogen', 'Potassium',\n",
       "       'Phosphorous', 'Temparature_Bins', 'Humidity_Bins', 'Moisture_Bins',\n",
       "       'Nitrogen_Bins', 'Potassium_Bins', 'Phosphorous_Bins',\n",
       "       'Soil Type_Black', 'Soil Type_Clayey', 'Soil Type_Loamy',\n",
       "       'Soil Type_Red', 'Soil Type_Sandy', 'Crop Type_Barley',\n",
       "       'Crop Type_Cotton', 'Crop Type_Ground Nuts', 'Crop Type_Maize',\n",
       "       'Crop Type_Millets', 'Crop Type_Oil seeds', 'Crop Type_Paddy',\n",
       "       'Crop Type_Pulses', 'Crop Type_Sugarcane', 'Crop Type_Tobacco',\n",
       "       'Crop Type_Wheat'],\n",
       "      dtype='object')"
      ]
     },
     "execution_count": 29,
     "metadata": {},
     "output_type": "execute_result"
    }
   ],
   "source": [
    "x_end.columns"
   ]
  },
  {
   "cell_type": "code",
   "execution_count": 30,
   "id": "4a10ea73",
   "metadata": {
    "execution": {
     "iopub.execute_input": "2025-06-30T14:03:43.820105Z",
     "iopub.status.busy": "2025-06-30T14:03:43.819773Z",
     "iopub.status.idle": "2025-06-30T14:03:45.576118Z",
     "shell.execute_reply": "2025-06-30T14:03:45.575238Z"
    },
    "papermill": {
     "duration": 1.777054,
     "end_time": "2025-06-30T14:03:45.577883",
     "exception": false,
     "start_time": "2025-06-30T14:03:43.800829",
     "status": "completed"
    },
    "tags": []
   },
   "outputs": [],
   "source": [
    "x_comp = x_end[['Soil Type_Black',\n",
    "       'Soil Type_Clayey', 'Soil Type_Loamy', 'Soil Type_Red',\n",
    "       'Soil Type_Sandy', 'Crop Type_Barley', 'Crop Type_Cotton',\n",
    "       'Crop Type_Ground Nuts', 'Crop Type_Maize', 'Crop Type_Millets',\n",
    "       'Crop Type_Oil seeds', 'Crop Type_Paddy', 'Crop Type_Pulses',\n",
    "       'Crop Type_Sugarcane', 'Crop Type_Tobacco', 'Crop Type_Wheat']]\n",
    "\n",
    "pca = PCA(n_components=2).set_output(transform=\"pandas\")\n",
    "x_pca = pca.fit_transform(x_comp)"
   ]
  },
  {
   "cell_type": "code",
   "execution_count": 31,
   "id": "83c60c3e",
   "metadata": {
    "execution": {
     "iopub.execute_input": "2025-06-30T14:03:45.616320Z",
     "iopub.status.busy": "2025-06-30T14:03:45.615966Z",
     "iopub.status.idle": "2025-06-30T14:03:45.650132Z",
     "shell.execute_reply": "2025-06-30T14:03:45.649235Z"
    },
    "papermill": {
     "duration": 0.055654,
     "end_time": "2025-06-30T14:03:45.651792",
     "exception": false,
     "start_time": "2025-06-30T14:03:45.596138",
     "status": "completed"
    },
    "tags": []
   },
   "outputs": [],
   "source": [
    "x_keep = x_end.drop(columns=['Soil Type_Black',\n",
    "       'Soil Type_Clayey', 'Soil Type_Loamy', 'Soil Type_Red',\n",
    "       'Soil Type_Sandy', 'Crop Type_Barley', 'Crop Type_Cotton',\n",
    "       'Crop Type_Ground Nuts', 'Crop Type_Maize', 'Crop Type_Millets',\n",
    "       'Crop Type_Oil seeds', 'Crop Type_Paddy', 'Crop Type_Pulses',\n",
    "       'Crop Type_Sugarcane', 'Crop Type_Tobacco', 'Crop Type_Wheat'])"
   ]
  },
  {
   "cell_type": "code",
   "execution_count": 32,
   "id": "e5a3e437",
   "metadata": {
    "execution": {
     "iopub.execute_input": "2025-06-30T14:03:45.690114Z",
     "iopub.status.busy": "2025-06-30T14:03:45.689705Z",
     "iopub.status.idle": "2025-06-30T14:03:45.786276Z",
     "shell.execute_reply": "2025-06-30T14:03:45.785274Z"
    },
    "papermill": {
     "duration": 0.11847,
     "end_time": "2025-06-30T14:03:45.788243",
     "exception": false,
     "start_time": "2025-06-30T14:03:45.669773",
     "status": "completed"
    },
    "tags": []
   },
   "outputs": [],
   "source": [
    "x_end_new = pd.concat([x_keep, x_pca], axis=1)"
   ]
  },
  {
   "cell_type": "code",
   "execution_count": 33,
   "id": "a9f93610",
   "metadata": {
    "execution": {
     "iopub.execute_input": "2025-06-30T14:03:45.826929Z",
     "iopub.status.busy": "2025-06-30T14:03:45.826562Z",
     "iopub.status.idle": "2025-06-30T14:03:45.831108Z",
     "shell.execute_reply": "2025-06-30T14:03:45.830252Z"
    },
    "papermill": {
     "duration": 0.025949,
     "end_time": "2025-06-30T14:03:45.832761",
     "exception": false,
     "start_time": "2025-06-30T14:03:45.806812",
     "status": "completed"
    },
    "tags": []
   },
   "outputs": [],
   "source": [
    "#x_end_new = x_end.drop(columns=[])"
   ]
  },
  {
   "cell_type": "code",
   "execution_count": 34,
   "id": "d84980bd",
   "metadata": {
    "execution": {
     "iopub.execute_input": "2025-06-30T14:03:45.870075Z",
     "iopub.status.busy": "2025-06-30T14:03:45.869751Z",
     "iopub.status.idle": "2025-06-30T14:03:45.922058Z",
     "shell.execute_reply": "2025-06-30T14:03:45.921191Z"
    },
    "papermill": {
     "duration": 0.072701,
     "end_time": "2025-06-30T14:03:45.923595",
     "exception": false,
     "start_time": "2025-06-30T14:03:45.850894",
     "status": "completed"
    },
    "tags": []
   },
   "outputs": [
    {
     "name": "stdout",
     "output_type": "stream",
     "text": [
      "<class 'pandas.core.frame.DataFrame'>\n",
      "Index: 750000 entries, 0 to 749999\n",
      "Data columns (total 14 columns):\n",
      " #   Column            Non-Null Count   Dtype  \n",
      "---  ------            --------------   -----  \n",
      " 0   Temparature       750000 non-null  float64\n",
      " 1   Humidity          750000 non-null  float64\n",
      " 2   Moisture          750000 non-null  float64\n",
      " 3   Nitrogen          750000 non-null  float64\n",
      " 4   Potassium         750000 non-null  float64\n",
      " 5   Phosphorous       750000 non-null  float64\n",
      " 6   Temparature_Bins  750000 non-null  float64\n",
      " 7   Humidity_Bins     750000 non-null  float64\n",
      " 8   Moisture_Bins     750000 non-null  float64\n",
      " 9   Nitrogen_Bins     750000 non-null  float64\n",
      " 10  Potassium_Bins    750000 non-null  float64\n",
      " 11  Phosphorous_Bins  750000 non-null  float64\n",
      " 12  pca0              750000 non-null  float64\n",
      " 13  pca1              750000 non-null  float64\n",
      "dtypes: float64(14)\n",
      "memory usage: 85.8 MB\n"
     ]
    }
   ],
   "source": [
    "x_end_new.info()"
   ]
  },
  {
   "cell_type": "markdown",
   "id": "75f58083",
   "metadata": {
    "papermill": {
     "duration": 0.018554,
     "end_time": "2025-06-30T14:03:45.961500",
     "exception": false,
     "start_time": "2025-06-30T14:03:45.942946",
     "status": "completed"
    },
    "tags": []
   },
   "source": [
    "# Model Selection"
   ]
  },
  {
   "cell_type": "code",
   "execution_count": 35,
   "id": "1fbaaf07",
   "metadata": {
    "execution": {
     "iopub.execute_input": "2025-06-30T14:03:45.998865Z",
     "iopub.status.busy": "2025-06-30T14:03:45.998284Z",
     "iopub.status.idle": "2025-06-30T14:03:46.172442Z",
     "shell.execute_reply": "2025-06-30T14:03:46.171186Z"
    },
    "papermill": {
     "duration": 0.194828,
     "end_time": "2025-06-30T14:03:46.174331",
     "exception": false,
     "start_time": "2025-06-30T14:03:45.979503",
     "status": "completed"
    },
    "tags": []
   },
   "outputs": [],
   "source": [
    "# We separate the data into training and validation sets\n",
    "\n",
    "x_train, x_val, y_train, y_val = (\n",
    "    train_test_split(x_end_new, y_fertilizers, test_size=0.2, random_state=42)\n",
    ")"
   ]
  },
  {
   "cell_type": "code",
   "execution_count": 36,
   "id": "699ab723",
   "metadata": {
    "execution": {
     "iopub.execute_input": "2025-06-30T14:03:46.212609Z",
     "iopub.status.busy": "2025-06-30T14:03:46.212298Z",
     "iopub.status.idle": "2025-06-30T14:03:46.236188Z",
     "shell.execute_reply": "2025-06-30T14:03:46.235154Z"
    },
    "papermill": {
     "duration": 0.044404,
     "end_time": "2025-06-30T14:03:46.237849",
     "exception": false,
     "start_time": "2025-06-30T14:03:46.193445",
     "status": "completed"
    },
    "tags": []
   },
   "outputs": [
    {
     "name": "stdout",
     "output_type": "stream",
     "text": [
      "[[    0     1     2     3     4     5     6]\n",
      " [91046 91797 89689 88879 88774 75712 74103]]\n"
     ]
    }
   ],
   "source": [
    "# We review the balance of the target variable\n",
    "\n",
    "values_counts = np.asarray(np.unique(y_train, return_counts=True))\n",
    "\n",
    "print(values_counts)"
   ]
  },
  {
   "cell_type": "code",
   "execution_count": 37,
   "id": "9690da45",
   "metadata": {
    "execution": {
     "iopub.execute_input": "2025-06-30T14:03:46.278179Z",
     "iopub.status.busy": "2025-06-30T14:03:46.277760Z",
     "iopub.status.idle": "2025-06-30T14:03:46.286160Z",
     "shell.execute_reply": "2025-06-30T14:03:46.285174Z"
    },
    "papermill": {
     "duration": 0.031735,
     "end_time": "2025-06-30T14:03:46.287656",
     "exception": false,
     "start_time": "2025-06-30T14:03:46.255921",
     "status": "completed"
    },
    "tags": []
   },
   "outputs": [],
   "source": [
    "# Common function to calculate AP@K and then MAP@K\n",
    "\n",
    "def apk(actual, predicted, k):\n",
    "\n",
    "    if len(predicted)>k:\n",
    "        predicted = predicted[:k]\n",
    "\n",
    "    score = 0.0\n",
    "    num_hits = 0.0\n",
    "\n",
    "    for i,p in enumerate(predicted):\n",
    "        if p in actual and p not in predicted[:i]:\n",
    "            num_hits += 1.0\n",
    "            score += num_hits / (i+1.0)\n",
    "\n",
    "    if not actual:\n",
    "        return 0.0\n",
    "\n",
    "    return score\n",
    "\n",
    "def mapk(actual, predicted, k):\n",
    "\n",
    "    return np.mean([apk(a,p,k) for a,p in zip(actual, predicted)])"
   ]
  },
  {
   "cell_type": "code",
   "execution_count": 38,
   "id": "e4ac5314",
   "metadata": {
    "execution": {
     "iopub.execute_input": "2025-06-30T14:03:46.324940Z",
     "iopub.status.busy": "2025-06-30T14:03:46.324613Z",
     "iopub.status.idle": "2025-06-30T14:03:46.330994Z",
     "shell.execute_reply": "2025-06-30T14:03:46.330124Z"
    },
    "papermill": {
     "duration": 0.026623,
     "end_time": "2025-06-30T14:03:46.332493",
     "exception": false,
     "start_time": "2025-06-30T14:03:46.305870",
     "status": "completed"
    },
    "tags": []
   },
   "outputs": [],
   "source": [
    "# Function for an initial evaluation of the model\n",
    "\n",
    "def evaluator(model, val_x, val_y, enc, k, model_name):\n",
    "    \n",
    "    y_pred_prob = model.predict_proba(val_x)\n",
    "    top_3_indices_val = np.argsort(-y_pred_prob, axis=1)[:, :3]\n",
    "    \n",
    "    predicted_val = []\n",
    "    \n",
    "    for row_indices in top_3_indices_val:\n",
    "        names = enc.inverse_transform(row_indices)\n",
    "        predicted_val.append(list(names))\n",
    "    \n",
    "    actual_val = [[enc.inverse_transform([label])[0]] for label in val_y]\n",
    "    map_3_score_val = mapk(actual_val, predicted_val, k=k)\n",
    "    \n",
    "    print(f\"\\n{model_name} initial MAP@3 Score: {map_3_score_val:.4f}\")"
   ]
  },
  {
   "cell_type": "code",
   "execution_count": 39,
   "id": "9569aed4",
   "metadata": {
    "execution": {
     "iopub.execute_input": "2025-06-30T14:03:46.369702Z",
     "iopub.status.busy": "2025-06-30T14:03:46.369384Z",
     "iopub.status.idle": "2025-06-30T14:03:46.373786Z",
     "shell.execute_reply": "2025-06-30T14:03:46.373107Z"
    },
    "papermill": {
     "duration": 0.024399,
     "end_time": "2025-06-30T14:03:46.375110",
     "exception": false,
     "start_time": "2025-06-30T14:03:46.350711",
     "status": "completed"
    },
    "tags": []
   },
   "outputs": [],
   "source": [
    "# we create the StratifiedKFold object\n",
    "\n",
    "n_splits = 5\n",
    "skf = StratifiedKFold(n_splits=n_splits, shuffle=True, random_state=42)"
   ]
  },
  {
   "cell_type": "code",
   "execution_count": 40,
   "id": "0be68511",
   "metadata": {
    "execution": {
     "iopub.execute_input": "2025-06-30T14:03:46.412985Z",
     "iopub.status.busy": "2025-06-30T14:03:46.411978Z",
     "iopub.status.idle": "2025-06-30T14:03:46.420774Z",
     "shell.execute_reply": "2025-06-30T14:03:46.420064Z"
    },
    "papermill": {
     "duration": 0.029041,
     "end_time": "2025-06-30T14:03:46.422133",
     "exception": false,
     "start_time": "2025-06-30T14:03:46.393092",
     "status": "completed"
    },
    "tags": []
   },
   "outputs": [],
   "source": [
    "# Function to evaluate models with a cross-validation method\n",
    "\n",
    "def cv_evaluator(model_class, model_params, x, y, enc, k_map, model_name):\n",
    "\n",
    "    fold_scores = []\n",
    "\n",
    "    for fold, (train_idx, val_idx) in enumerate(skf.split(x, y)):\n",
    "\n",
    "        print(f\"\\nFold {fold + 1}/{n_splits}\")\n",
    "        x_train_fold, x_val_fold = x.iloc[train_idx], x.iloc[val_idx]\n",
    "        y_train_fold, y_val_fold = y.iloc[train_idx], y.iloc[val_idx]\n",
    "\n",
    "        model = model_class(**model_params)\n",
    "        model.fit(x_train_fold, y_train_fold)\n",
    "\n",
    "        y_pred_prob = model.predict_proba(x_val_fold)\n",
    "        top_k_indices_val = np.argsort(-y_pred_prob, axis=1)[:, :k_map]\n",
    "\n",
    "        predicted_fold = []\n",
    "\n",
    "        for row_indices in top_k_indices_val:\n",
    "\n",
    "            valid_indices = [idx for idx in row_indices if idx < len(enc.classes_)]\n",
    "            names = enc.inverse_transform(valid_indices)\n",
    "            predicted_fold.append(list(names))\n",
    "\n",
    "        actual_fold = [[enc.inverse_transform([label])[0]] for label in y_val_fold]\n",
    "\n",
    "        fold_map_score = mapk(actual_fold, predicted_fold, k=k_map)\n",
    "        fold_scores.append(fold_map_score)\n",
    "        print(f\"MAP@{k_map} Fold {fold + 1}: {fold_map_score:.4f}\")\n",
    "\n",
    "    print(f\"\\n--- CV Summary for {model_name} ---\\n\")\n",
    "    print(f\"MAP@{k_map} Scores for fold: {np.round(fold_scores, 4)}\")\n",
    "    print(f\"MAP@{k_map} average: {np.mean(fold_scores):.4f}\")\n",
    "    print(f\"Standard deviation of MAP@{k_map}: {np.std(fold_scores):.4f}\")\n",
    "\n",
    "    return fold_scores"
   ]
  },
  {
   "cell_type": "markdown",
   "id": "9d910d03",
   "metadata": {
    "papermill": {
     "duration": 0.018061,
     "end_time": "2025-06-30T14:03:46.457916",
     "exception": false,
     "start_time": "2025-06-30T14:03:46.439855",
     "status": "completed"
    },
    "tags": []
   },
   "source": [
    "## First model: LogisticRegression"
   ]
  },
  {
   "cell_type": "code",
   "execution_count": 41,
   "id": "1ec3e2ca",
   "metadata": {
    "execution": {
     "iopub.execute_input": "2025-06-30T14:03:46.494834Z",
     "iopub.status.busy": "2025-06-30T14:03:46.493996Z",
     "iopub.status.idle": "2025-06-30T14:03:46.498892Z",
     "shell.execute_reply": "2025-06-30T14:03:46.498118Z"
    },
    "papermill": {
     "duration": 0.024809,
     "end_time": "2025-06-30T14:03:46.500390",
     "exception": false,
     "start_time": "2025-06-30T14:03:46.475581",
     "status": "completed"
    },
    "tags": []
   },
   "outputs": [],
   "source": [
    "# We create the model instance\n",
    "\n",
    "#lrc = LogisticRegression(multi_class=\"multinomial\")\n",
    "\n",
    "# Train the model with the data\n",
    "\n",
    "#lrc.fit(x_train, y_train)"
   ]
  },
  {
   "cell_type": "code",
   "execution_count": 42,
   "id": "3aefb7ca",
   "metadata": {
    "execution": {
     "iopub.execute_input": "2025-06-30T14:03:46.537042Z",
     "iopub.status.busy": "2025-06-30T14:03:46.536693Z",
     "iopub.status.idle": "2025-06-30T14:03:46.540829Z",
     "shell.execute_reply": "2025-06-30T14:03:46.540090Z"
    },
    "papermill": {
     "duration": 0.024044,
     "end_time": "2025-06-30T14:03:46.542292",
     "exception": false,
     "start_time": "2025-06-30T14:03:46.518248",
     "status": "completed"
    },
    "tags": []
   },
   "outputs": [],
   "source": [
    "#evaluator(lrc, x_val, y_val, le, 3, \"LogisticRegression\")"
   ]
  },
  {
   "cell_type": "markdown",
   "id": "21c67335",
   "metadata": {
    "papermill": {
     "duration": 0.017842,
     "end_time": "2025-06-30T14:03:46.578510",
     "exception": false,
     "start_time": "2025-06-30T14:03:46.560668",
     "status": "completed"
    },
    "tags": []
   },
   "source": [
    "LogisticRegression initial MAP@3 Score: 0.2870\n",
    "\n",
    "LogisticRegression initial MAP@3 Score: 0.2894 (post feature engineering)"
   ]
  },
  {
   "cell_type": "code",
   "execution_count": 43,
   "id": "e92465a1",
   "metadata": {
    "execution": {
     "iopub.execute_input": "2025-06-30T14:03:46.615040Z",
     "iopub.status.busy": "2025-06-30T14:03:46.614665Z",
     "iopub.status.idle": "2025-06-30T14:03:46.619864Z",
     "shell.execute_reply": "2025-06-30T14:03:46.619068Z"
    },
    "papermill": {
     "duration": 0.02497,
     "end_time": "2025-06-30T14:03:46.621287",
     "exception": false,
     "start_time": "2025-06-30T14:03:46.596317",
     "status": "completed"
    },
    "tags": []
   },
   "outputs": [
    {
     "data": {
      "text/plain": [
       "'\\n# We apply the function for CV\\n\\nlrc_params = {\"multi_class\": \"multinomial\", \"random_state\": 42}\\n\\nlrc_cv_scores = cv_evaluator(\\n    model_class=LogisticRegression,\\n    model_params=lrc_params,\\n    x=x_end_new,\\n    y=y_fertilizers, \\n    enc=le,\\n    k_map=3,\\n    model_name=\"Logistic Regression\"\\n)\\n'"
      ]
     },
     "execution_count": 43,
     "metadata": {},
     "output_type": "execute_result"
    }
   ],
   "source": [
    "'''\n",
    "# We apply the function for CV\n",
    "\n",
    "lrc_params = {\"multi_class\": \"multinomial\", \"random_state\": 42}\n",
    "\n",
    "lrc_cv_scores = cv_evaluator(\n",
    "    model_class=LogisticRegression,\n",
    "    model_params=lrc_params,\n",
    "    x=x_end_new,\n",
    "    y=y_fertilizers, \n",
    "    enc=le,\n",
    "    k_map=3,\n",
    "    model_name=\"Logistic Regression\"\n",
    ")\n",
    "'''"
   ]
  },
  {
   "cell_type": "markdown",
   "id": "94c21e49",
   "metadata": {
    "papermill": {
     "duration": 0.017529,
     "end_time": "2025-06-30T14:03:46.656788",
     "exception": false,
     "start_time": "2025-06-30T14:03:46.639259",
     "status": "completed"
    },
    "tags": []
   },
   "source": [
    "\n",
    "--- CV Summary for Logistic Regression ---\n",
    "\n",
    "\n",
    "MAP@3 Scores for fold: [0.2871 0.2875 0.2861 0.2856 0.2871]\n",
    "\n",
    "MAP@3 average: 0.2867\n",
    "\n",
    "Standard deviation of MAP@3: 0.0007"
   ]
  },
  {
   "cell_type": "markdown",
   "id": "f51e11eb",
   "metadata": {
    "papermill": {
     "duration": 0.018362,
     "end_time": "2025-06-30T14:03:46.692969",
     "exception": false,
     "start_time": "2025-06-30T14:03:46.674607",
     "status": "completed"
    },
    "tags": []
   },
   "source": [
    "## Second model: XGBClassifier"
   ]
  },
  {
   "cell_type": "code",
   "execution_count": 44,
   "id": "10eef4d4",
   "metadata": {
    "execution": {
     "iopub.execute_input": "2025-06-30T14:03:46.729698Z",
     "iopub.status.busy": "2025-06-30T14:03:46.729405Z",
     "iopub.status.idle": "2025-06-30T14:04:11.390262Z",
     "shell.execute_reply": "2025-06-30T14:04:11.389322Z"
    },
    "papermill": {
     "duration": 24.680877,
     "end_time": "2025-06-30T14:04:11.391767",
     "exception": false,
     "start_time": "2025-06-30T14:03:46.710890",
     "status": "completed"
    },
    "tags": []
   },
   "outputs": [
    {
     "data": {
      "text/html": [
       "<style>#sk-container-id-1 {color: black;background-color: white;}#sk-container-id-1 pre{padding: 0;}#sk-container-id-1 div.sk-toggleable {background-color: white;}#sk-container-id-1 label.sk-toggleable__label {cursor: pointer;display: block;width: 100%;margin-bottom: 0;padding: 0.3em;box-sizing: border-box;text-align: center;}#sk-container-id-1 label.sk-toggleable__label-arrow:before {content: \"▸\";float: left;margin-right: 0.25em;color: #696969;}#sk-container-id-1 label.sk-toggleable__label-arrow:hover:before {color: black;}#sk-container-id-1 div.sk-estimator:hover label.sk-toggleable__label-arrow:before {color: black;}#sk-container-id-1 div.sk-toggleable__content {max-height: 0;max-width: 0;overflow: hidden;text-align: left;background-color: #f0f8ff;}#sk-container-id-1 div.sk-toggleable__content pre {margin: 0.2em;color: black;border-radius: 0.25em;background-color: #f0f8ff;}#sk-container-id-1 input.sk-toggleable__control:checked~div.sk-toggleable__content {max-height: 200px;max-width: 100%;overflow: auto;}#sk-container-id-1 input.sk-toggleable__control:checked~label.sk-toggleable__label-arrow:before {content: \"▾\";}#sk-container-id-1 div.sk-estimator input.sk-toggleable__control:checked~label.sk-toggleable__label {background-color: #d4ebff;}#sk-container-id-1 div.sk-label input.sk-toggleable__control:checked~label.sk-toggleable__label {background-color: #d4ebff;}#sk-container-id-1 input.sk-hidden--visually {border: 0;clip: rect(1px 1px 1px 1px);clip: rect(1px, 1px, 1px, 1px);height: 1px;margin: -1px;overflow: hidden;padding: 0;position: absolute;width: 1px;}#sk-container-id-1 div.sk-estimator {font-family: monospace;background-color: #f0f8ff;border: 1px dotted black;border-radius: 0.25em;box-sizing: border-box;margin-bottom: 0.5em;}#sk-container-id-1 div.sk-estimator:hover {background-color: #d4ebff;}#sk-container-id-1 div.sk-parallel-item::after {content: \"\";width: 100%;border-bottom: 1px solid gray;flex-grow: 1;}#sk-container-id-1 div.sk-label:hover label.sk-toggleable__label {background-color: #d4ebff;}#sk-container-id-1 div.sk-serial::before {content: \"\";position: absolute;border-left: 1px solid gray;box-sizing: border-box;top: 0;bottom: 0;left: 50%;z-index: 0;}#sk-container-id-1 div.sk-serial {display: flex;flex-direction: column;align-items: center;background-color: white;padding-right: 0.2em;padding-left: 0.2em;position: relative;}#sk-container-id-1 div.sk-item {position: relative;z-index: 1;}#sk-container-id-1 div.sk-parallel {display: flex;align-items: stretch;justify-content: center;background-color: white;position: relative;}#sk-container-id-1 div.sk-item::before, #sk-container-id-1 div.sk-parallel-item::before {content: \"\";position: absolute;border-left: 1px solid gray;box-sizing: border-box;top: 0;bottom: 0;left: 50%;z-index: -1;}#sk-container-id-1 div.sk-parallel-item {display: flex;flex-direction: column;z-index: 1;position: relative;background-color: white;}#sk-container-id-1 div.sk-parallel-item:first-child::after {align-self: flex-end;width: 50%;}#sk-container-id-1 div.sk-parallel-item:last-child::after {align-self: flex-start;width: 50%;}#sk-container-id-1 div.sk-parallel-item:only-child::after {width: 0;}#sk-container-id-1 div.sk-dashed-wrapped {border: 1px dashed gray;margin: 0 0.4em 0.5em 0.4em;box-sizing: border-box;padding-bottom: 0.4em;background-color: white;}#sk-container-id-1 div.sk-label label {font-family: monospace;font-weight: bold;display: inline-block;line-height: 1.2em;}#sk-container-id-1 div.sk-label-container {text-align: center;}#sk-container-id-1 div.sk-container {/* jupyter's `normalize.less` sets `[hidden] { display: none; }` but bootstrap.min.css set `[hidden] { display: none !important; }` so we also need the `!important` here to be able to override the default hidden behavior on the sphinx rendered scikit-learn.org. See: https://github.com/scikit-learn/scikit-learn/issues/21755 */display: inline-block !important;position: relative;}#sk-container-id-1 div.sk-text-repr-fallback {display: none;}</style><div id=\"sk-container-id-1\" class=\"sk-top-container\"><div class=\"sk-text-repr-fallback\"><pre>XGBClassifier(base_score=None, booster=None, callbacks=None,\n",
       "              colsample_bylevel=None, colsample_bynode=None,\n",
       "              colsample_bytree=None, device=None, early_stopping_rounds=None,\n",
       "              enable_categorical=False, eval_metric=None, feature_types=None,\n",
       "              gamma=None, grow_policy=None, importance_type=None,\n",
       "              interaction_constraints=None, learning_rate=None, max_bin=None,\n",
       "              max_cat_threshold=None, max_cat_to_onehot=None,\n",
       "              max_delta_step=None, max_depth=None, max_leaves=None,\n",
       "              min_child_weight=None, missing=nan, monotone_constraints=None,\n",
       "              multi_strategy=None, n_estimators=None, n_jobs=None,\n",
       "              num_parallel_tree=None, objective=&#x27;multi:softprob&#x27;, ...)</pre><b>In a Jupyter environment, please rerun this cell to show the HTML representation or trust the notebook. <br />On GitHub, the HTML representation is unable to render, please try loading this page with nbviewer.org.</b></div><div class=\"sk-container\" hidden><div class=\"sk-item\"><div class=\"sk-estimator sk-toggleable\"><input class=\"sk-toggleable__control sk-hidden--visually\" id=\"sk-estimator-id-1\" type=\"checkbox\" checked><label for=\"sk-estimator-id-1\" class=\"sk-toggleable__label sk-toggleable__label-arrow\">XGBClassifier</label><div class=\"sk-toggleable__content\"><pre>XGBClassifier(base_score=None, booster=None, callbacks=None,\n",
       "              colsample_bylevel=None, colsample_bynode=None,\n",
       "              colsample_bytree=None, device=None, early_stopping_rounds=None,\n",
       "              enable_categorical=False, eval_metric=None, feature_types=None,\n",
       "              gamma=None, grow_policy=None, importance_type=None,\n",
       "              interaction_constraints=None, learning_rate=None, max_bin=None,\n",
       "              max_cat_threshold=None, max_cat_to_onehot=None,\n",
       "              max_delta_step=None, max_depth=None, max_leaves=None,\n",
       "              min_child_weight=None, missing=nan, monotone_constraints=None,\n",
       "              multi_strategy=None, n_estimators=None, n_jobs=None,\n",
       "              num_parallel_tree=None, objective=&#x27;multi:softprob&#x27;, ...)</pre></div></div></div></div></div>"
      ],
      "text/plain": [
       "XGBClassifier(base_score=None, booster=None, callbacks=None,\n",
       "              colsample_bylevel=None, colsample_bynode=None,\n",
       "              colsample_bytree=None, device=None, early_stopping_rounds=None,\n",
       "              enable_categorical=False, eval_metric=None, feature_types=None,\n",
       "              gamma=None, grow_policy=None, importance_type=None,\n",
       "              interaction_constraints=None, learning_rate=None, max_bin=None,\n",
       "              max_cat_threshold=None, max_cat_to_onehot=None,\n",
       "              max_delta_step=None, max_depth=None, max_leaves=None,\n",
       "              min_child_weight=None, missing=nan, monotone_constraints=None,\n",
       "              multi_strategy=None, n_estimators=None, n_jobs=None,\n",
       "              num_parallel_tree=None, objective='multi:softprob', ...)"
      ]
     },
     "execution_count": 44,
     "metadata": {},
     "output_type": "execute_result"
    }
   ],
   "source": [
    "# We create the model instance\n",
    "\n",
    "xgbc = XGBClassifier()\n",
    "\n",
    "# Train the model with the data\n",
    "\n",
    "xgbc.fit(x_train, y_train)"
   ]
  },
  {
   "cell_type": "code",
   "execution_count": 45,
   "id": "763451ae",
   "metadata": {
    "execution": {
     "iopub.execute_input": "2025-06-30T14:04:11.432860Z",
     "iopub.status.busy": "2025-06-30T14:04:11.432540Z",
     "iopub.status.idle": "2025-06-30T14:04:43.163622Z",
     "shell.execute_reply": "2025-06-30T14:04:43.162485Z"
    },
    "papermill": {
     "duration": 31.769139,
     "end_time": "2025-06-30T14:04:43.181990",
     "exception": false,
     "start_time": "2025-06-30T14:04:11.412851",
     "status": "completed"
    },
    "tags": []
   },
   "outputs": [
    {
     "name": "stdout",
     "output_type": "stream",
     "text": [
      "\n",
      "XGBClassifier initial MAP@3 Score: 0.3276\n"
     ]
    }
   ],
   "source": [
    "evaluator(xgbc, x_val, y_val, le, 3, \"XGBClassifier\")"
   ]
  },
  {
   "cell_type": "markdown",
   "id": "2074ad12",
   "metadata": {
    "papermill": {
     "duration": 0.018807,
     "end_time": "2025-06-30T14:04:43.218983",
     "exception": false,
     "start_time": "2025-06-30T14:04:43.200176",
     "status": "completed"
    },
    "tags": []
   },
   "source": [
    "XGBClassifier initial MAP@3 Score: 0.3307"
   ]
  },
  {
   "cell_type": "code",
   "execution_count": 46,
   "id": "3e912b76",
   "metadata": {
    "execution": {
     "iopub.execute_input": "2025-06-30T14:04:43.257501Z",
     "iopub.status.busy": "2025-06-30T14:04:43.257177Z",
     "iopub.status.idle": "2025-06-30T14:04:43.263697Z",
     "shell.execute_reply": "2025-06-30T14:04:43.262603Z"
    },
    "papermill": {
     "duration": 0.027683,
     "end_time": "2025-06-30T14:04:43.265339",
     "exception": false,
     "start_time": "2025-06-30T14:04:43.237656",
     "status": "completed"
    },
    "tags": []
   },
   "outputs": [
    {
     "data": {
      "text/plain": [
       "'\\n# We apply the function for CV\\n\\nxgbc_params = xgbc.get_params()\\n\\nxgbc_cv_scores = cv_evaluator(\\n    model_class=XGBClassifier,\\n    model_params=xgbc_params,\\n    x=x_end_new,\\n    y=y_fertilizers, \\n    enc=le,\\n    k_map=3,\\n    model_name=\"XGBClassifier\"\\n)\\n'"
      ]
     },
     "execution_count": 46,
     "metadata": {},
     "output_type": "execute_result"
    }
   ],
   "source": [
    "'''\n",
    "# We apply the function for CV\n",
    "\n",
    "xgbc_params = xgbc.get_params()\n",
    "\n",
    "xgbc_cv_scores = cv_evaluator(\n",
    "    model_class=XGBClassifier,\n",
    "    model_params=xgbc_params,\n",
    "    x=x_end_new,\n",
    "    y=y_fertilizers, \n",
    "    enc=le,\n",
    "    k_map=3,\n",
    "    model_name=\"XGBClassifier\"\n",
    ")\n",
    "'''"
   ]
  },
  {
   "cell_type": "markdown",
   "id": "bcbb6c98",
   "metadata": {
    "papermill": {
     "duration": 0.018006,
     "end_time": "2025-06-30T14:04:43.303075",
     "exception": false,
     "start_time": "2025-06-30T14:04:43.285069",
     "status": "completed"
    },
    "tags": []
   },
   "source": [
    "--- CV Summary for XGBClassifier ---\n",
    "\n",
    "MAP@3 Scores for fold: [0.3294 0.3306 0.3304 0.3308 0.3305]\n",
    "\n",
    "MAP@3 average: 0.3303\n",
    "\n",
    "Standard deviation of MAP@3: 0.0005"
   ]
  },
  {
   "cell_type": "markdown",
   "id": "d9157b84",
   "metadata": {
    "papermill": {
     "duration": 0.018199,
     "end_time": "2025-06-30T14:04:43.339884",
     "exception": false,
     "start_time": "2025-06-30T14:04:43.321685",
     "status": "completed"
    },
    "tags": []
   },
   "source": [
    "## Third model: LGBMClassifier"
   ]
  },
  {
   "cell_type": "code",
   "execution_count": 47,
   "id": "a23a298b",
   "metadata": {
    "execution": {
     "iopub.execute_input": "2025-06-30T14:04:43.378520Z",
     "iopub.status.busy": "2025-06-30T14:04:43.378171Z",
     "iopub.status.idle": "2025-06-30T14:05:04.303277Z",
     "shell.execute_reply": "2025-06-30T14:05:04.302208Z"
    },
    "papermill": {
     "duration": 20.946466,
     "end_time": "2025-06-30T14:05:04.305045",
     "exception": false,
     "start_time": "2025-06-30T14:04:43.358579",
     "status": "completed"
    },
    "tags": []
   },
   "outputs": [
    {
     "data": {
      "text/html": [
       "<style>#sk-container-id-2 {color: black;background-color: white;}#sk-container-id-2 pre{padding: 0;}#sk-container-id-2 div.sk-toggleable {background-color: white;}#sk-container-id-2 label.sk-toggleable__label {cursor: pointer;display: block;width: 100%;margin-bottom: 0;padding: 0.3em;box-sizing: border-box;text-align: center;}#sk-container-id-2 label.sk-toggleable__label-arrow:before {content: \"▸\";float: left;margin-right: 0.25em;color: #696969;}#sk-container-id-2 label.sk-toggleable__label-arrow:hover:before {color: black;}#sk-container-id-2 div.sk-estimator:hover label.sk-toggleable__label-arrow:before {color: black;}#sk-container-id-2 div.sk-toggleable__content {max-height: 0;max-width: 0;overflow: hidden;text-align: left;background-color: #f0f8ff;}#sk-container-id-2 div.sk-toggleable__content pre {margin: 0.2em;color: black;border-radius: 0.25em;background-color: #f0f8ff;}#sk-container-id-2 input.sk-toggleable__control:checked~div.sk-toggleable__content {max-height: 200px;max-width: 100%;overflow: auto;}#sk-container-id-2 input.sk-toggleable__control:checked~label.sk-toggleable__label-arrow:before {content: \"▾\";}#sk-container-id-2 div.sk-estimator input.sk-toggleable__control:checked~label.sk-toggleable__label {background-color: #d4ebff;}#sk-container-id-2 div.sk-label input.sk-toggleable__control:checked~label.sk-toggleable__label {background-color: #d4ebff;}#sk-container-id-2 input.sk-hidden--visually {border: 0;clip: rect(1px 1px 1px 1px);clip: rect(1px, 1px, 1px, 1px);height: 1px;margin: -1px;overflow: hidden;padding: 0;position: absolute;width: 1px;}#sk-container-id-2 div.sk-estimator {font-family: monospace;background-color: #f0f8ff;border: 1px dotted black;border-radius: 0.25em;box-sizing: border-box;margin-bottom: 0.5em;}#sk-container-id-2 div.sk-estimator:hover {background-color: #d4ebff;}#sk-container-id-2 div.sk-parallel-item::after {content: \"\";width: 100%;border-bottom: 1px solid gray;flex-grow: 1;}#sk-container-id-2 div.sk-label:hover label.sk-toggleable__label {background-color: #d4ebff;}#sk-container-id-2 div.sk-serial::before {content: \"\";position: absolute;border-left: 1px solid gray;box-sizing: border-box;top: 0;bottom: 0;left: 50%;z-index: 0;}#sk-container-id-2 div.sk-serial {display: flex;flex-direction: column;align-items: center;background-color: white;padding-right: 0.2em;padding-left: 0.2em;position: relative;}#sk-container-id-2 div.sk-item {position: relative;z-index: 1;}#sk-container-id-2 div.sk-parallel {display: flex;align-items: stretch;justify-content: center;background-color: white;position: relative;}#sk-container-id-2 div.sk-item::before, #sk-container-id-2 div.sk-parallel-item::before {content: \"\";position: absolute;border-left: 1px solid gray;box-sizing: border-box;top: 0;bottom: 0;left: 50%;z-index: -1;}#sk-container-id-2 div.sk-parallel-item {display: flex;flex-direction: column;z-index: 1;position: relative;background-color: white;}#sk-container-id-2 div.sk-parallel-item:first-child::after {align-self: flex-end;width: 50%;}#sk-container-id-2 div.sk-parallel-item:last-child::after {align-self: flex-start;width: 50%;}#sk-container-id-2 div.sk-parallel-item:only-child::after {width: 0;}#sk-container-id-2 div.sk-dashed-wrapped {border: 1px dashed gray;margin: 0 0.4em 0.5em 0.4em;box-sizing: border-box;padding-bottom: 0.4em;background-color: white;}#sk-container-id-2 div.sk-label label {font-family: monospace;font-weight: bold;display: inline-block;line-height: 1.2em;}#sk-container-id-2 div.sk-label-container {text-align: center;}#sk-container-id-2 div.sk-container {/* jupyter's `normalize.less` sets `[hidden] { display: none; }` but bootstrap.min.css set `[hidden] { display: none !important; }` so we also need the `!important` here to be able to override the default hidden behavior on the sphinx rendered scikit-learn.org. See: https://github.com/scikit-learn/scikit-learn/issues/21755 */display: inline-block !important;position: relative;}#sk-container-id-2 div.sk-text-repr-fallback {display: none;}</style><div id=\"sk-container-id-2\" class=\"sk-top-container\"><div class=\"sk-text-repr-fallback\"><pre>LGBMClassifier(verbose=0)</pre><b>In a Jupyter environment, please rerun this cell to show the HTML representation or trust the notebook. <br />On GitHub, the HTML representation is unable to render, please try loading this page with nbviewer.org.</b></div><div class=\"sk-container\" hidden><div class=\"sk-item\"><div class=\"sk-estimator sk-toggleable\"><input class=\"sk-toggleable__control sk-hidden--visually\" id=\"sk-estimator-id-2\" type=\"checkbox\" checked><label for=\"sk-estimator-id-2\" class=\"sk-toggleable__label sk-toggleable__label-arrow\">LGBMClassifier</label><div class=\"sk-toggleable__content\"><pre>LGBMClassifier(verbose=0)</pre></div></div></div></div></div>"
      ],
      "text/plain": [
       "LGBMClassifier(verbose=0)"
      ]
     },
     "execution_count": 47,
     "metadata": {},
     "output_type": "execute_result"
    }
   ],
   "source": [
    "# We create the model instance\n",
    "\n",
    "lgbmc = LGBMClassifier(verbose=0)\n",
    "\n",
    "# Train the model with the data\n",
    "\n",
    "lgbmc.fit(x_train, y_train)"
   ]
  },
  {
   "cell_type": "code",
   "execution_count": 48,
   "id": "57b265d1",
   "metadata": {
    "execution": {
     "iopub.execute_input": "2025-06-30T14:05:04.345239Z",
     "iopub.status.busy": "2025-06-30T14:05:04.344893Z",
     "iopub.status.idle": "2025-06-30T14:05:39.194819Z",
     "shell.execute_reply": "2025-06-30T14:05:39.193888Z"
    },
    "papermill": {
     "duration": 34.889871,
     "end_time": "2025-06-30T14:05:39.214688",
     "exception": false,
     "start_time": "2025-06-30T14:05:04.324817",
     "status": "completed"
    },
    "tags": []
   },
   "outputs": [
    {
     "name": "stdout",
     "output_type": "stream",
     "text": [
      "\n",
      "LGBMClassifier initial MAP@3 Score: 0.3203\n"
     ]
    }
   ],
   "source": [
    "evaluator(lgbmc, x_val, y_val, le, 3, \"LGBMClassifier\")"
   ]
  },
  {
   "cell_type": "markdown",
   "id": "b465afbd",
   "metadata": {
    "papermill": {
     "duration": 0.020273,
     "end_time": "2025-06-30T14:05:39.255395",
     "exception": false,
     "start_time": "2025-06-30T14:05:39.235122",
     "status": "completed"
    },
    "tags": []
   },
   "source": [
    "LGBMClassifier initial MAP@3 Score: 0.3230"
   ]
  },
  {
   "cell_type": "code",
   "execution_count": 49,
   "id": "ef673f4d",
   "metadata": {
    "execution": {
     "iopub.execute_input": "2025-06-30T14:05:39.295202Z",
     "iopub.status.busy": "2025-06-30T14:05:39.294875Z",
     "iopub.status.idle": "2025-06-30T14:05:39.300437Z",
     "shell.execute_reply": "2025-06-30T14:05:39.299648Z"
    },
    "papermill": {
     "duration": 0.026914,
     "end_time": "2025-06-30T14:05:39.301709",
     "exception": false,
     "start_time": "2025-06-30T14:05:39.274795",
     "status": "completed"
    },
    "tags": []
   },
   "outputs": [
    {
     "data": {
      "text/plain": [
       "'\\n# We apply the function for CV\\n\\nlgbmc_params = lgbmc.get_params()\\n\\nlgbmc_cv_scores = cv_evaluator(\\n    model_class=LGBMClassifier,\\n    model_params=lgbmc_params,\\n    x=x_end_new,\\n    y=y_fertilizers, \\n    enc=le,\\n    k_map=3,\\n    model_name=\"LGBMClassifier\"\\n)\\n'"
      ]
     },
     "execution_count": 49,
     "metadata": {},
     "output_type": "execute_result"
    }
   ],
   "source": [
    "'''\n",
    "# We apply the function for CV\n",
    "\n",
    "lgbmc_params = lgbmc.get_params()\n",
    "\n",
    "lgbmc_cv_scores = cv_evaluator(\n",
    "    model_class=LGBMClassifier,\n",
    "    model_params=lgbmc_params,\n",
    "    x=x_end_new,\n",
    "    y=y_fertilizers, \n",
    "    enc=le,\n",
    "    k_map=3,\n",
    "    model_name=\"LGBMClassifier\"\n",
    ")\n",
    "'''"
   ]
  },
  {
   "cell_type": "markdown",
   "id": "e3c4e7c2",
   "metadata": {
    "papermill": {
     "duration": 0.018721,
     "end_time": "2025-06-30T14:05:39.339817",
     "exception": false,
     "start_time": "2025-06-30T14:05:39.321096",
     "status": "completed"
    },
    "tags": []
   },
   "source": [
    "--- CV Summary for LGBMClassifier ---\n",
    "\n",
    "MAP@3 Scores for fold: [0.3219 0.3236 0.3228 0.3225 0.3226]\n",
    "\n",
    "MAP@3 average: 0.3227\n",
    "\n",
    "Standard deviation of MAP@3: 0.0005"
   ]
  },
  {
   "cell_type": "markdown",
   "id": "edcb395d",
   "metadata": {
    "papermill": {
     "duration": 0.018253,
     "end_time": "2025-06-30T14:05:39.376539",
     "exception": false,
     "start_time": "2025-06-30T14:05:39.358286",
     "status": "completed"
    },
    "tags": []
   },
   "source": [
    "## Fourth model: CatBoostClassifier"
   ]
  },
  {
   "cell_type": "code",
   "execution_count": 50,
   "id": "aa70ac74",
   "metadata": {
    "execution": {
     "iopub.execute_input": "2025-06-30T14:05:39.415296Z",
     "iopub.status.busy": "2025-06-30T14:05:39.414984Z",
     "iopub.status.idle": "2025-06-30T14:10:28.511695Z",
     "shell.execute_reply": "2025-06-30T14:10:28.510645Z"
    },
    "papermill": {
     "duration": 289.137419,
     "end_time": "2025-06-30T14:10:28.532599",
     "exception": false,
     "start_time": "2025-06-30T14:05:39.395180",
     "status": "completed"
    },
    "tags": []
   },
   "outputs": [
    {
     "data": {
      "text/plain": [
       "<catboost.core.CatBoostClassifier at 0x7b73289e4dd0>"
      ]
     },
     "execution_count": 50,
     "metadata": {},
     "output_type": "execute_result"
    }
   ],
   "source": [
    "# We create the model instance\n",
    "\n",
    "cbc = CatBoostClassifier(silent=True)\n",
    "\n",
    "# Train the model with the data\n",
    "\n",
    "cbc.fit(x_train, y_train)"
   ]
  },
  {
   "cell_type": "code",
   "execution_count": 51,
   "id": "83f8a581",
   "metadata": {
    "execution": {
     "iopub.execute_input": "2025-06-30T14:10:28.574349Z",
     "iopub.status.busy": "2025-06-30T14:10:28.573455Z",
     "iopub.status.idle": "2025-06-30T14:10:59.709890Z",
     "shell.execute_reply": "2025-06-30T14:10:59.708841Z"
    },
    "papermill": {
     "duration": 31.178961,
     "end_time": "2025-06-30T14:10:59.731264",
     "exception": false,
     "start_time": "2025-06-30T14:10:28.552303",
     "status": "completed"
    },
    "tags": []
   },
   "outputs": [
    {
     "name": "stdout",
     "output_type": "stream",
     "text": [
      "\n",
      "CatBoostClassifier initial MAP@3 Score: 0.3231\n"
     ]
    }
   ],
   "source": [
    "evaluator(cbc, x_val, y_val, le, 3, \"CatBoostClassifier\")"
   ]
  },
  {
   "cell_type": "markdown",
   "id": "dad0dfd9",
   "metadata": {
    "papermill": {
     "duration": 0.02099,
     "end_time": "2025-06-30T14:10:59.772367",
     "exception": false,
     "start_time": "2025-06-30T14:10:59.751377",
     "status": "completed"
    },
    "tags": []
   },
   "source": [
    "CatBoostClassifier initial MAP@3 Score: 0.3275"
   ]
  },
  {
   "cell_type": "code",
   "execution_count": 52,
   "id": "1fc1a863",
   "metadata": {
    "execution": {
     "iopub.execute_input": "2025-06-30T14:10:59.812248Z",
     "iopub.status.busy": "2025-06-30T14:10:59.811310Z",
     "iopub.status.idle": "2025-06-30T14:10:59.817661Z",
     "shell.execute_reply": "2025-06-30T14:10:59.816820Z"
    },
    "papermill": {
     "duration": 0.027723,
     "end_time": "2025-06-30T14:10:59.819351",
     "exception": false,
     "start_time": "2025-06-30T14:10:59.791628",
     "status": "completed"
    },
    "tags": []
   },
   "outputs": [
    {
     "data": {
      "text/plain": [
       "'\\n# We apply the function for CV\\n\\ncbc_params = cbc.get_all_params()\\n\\ncbc_cv_scores = cv_evaluator(\\n    model_class=CatBoostClassifier,\\n    model_params=cbc_params,\\n    x=x_end_new,\\n    y=y_fertilizers, \\n    enc=le,\\n    k_map=3,\\n    model_name=\"CatBoostClassifier\"\\n)\\n'"
      ]
     },
     "execution_count": 52,
     "metadata": {},
     "output_type": "execute_result"
    }
   ],
   "source": [
    "'''\n",
    "# We apply the function for CV\n",
    "\n",
    "cbc_params = cbc.get_all_params()\n",
    "\n",
    "cbc_cv_scores = cv_evaluator(\n",
    "    model_class=CatBoostClassifier,\n",
    "    model_params=cbc_params,\n",
    "    x=x_end_new,\n",
    "    y=y_fertilizers, \n",
    "    enc=le,\n",
    "    k_map=3,\n",
    "    model_name=\"CatBoostClassifier\"\n",
    ")\n",
    "'''"
   ]
  },
  {
   "cell_type": "markdown",
   "id": "79fb5cf1",
   "metadata": {
    "papermill": {
     "duration": 0.019049,
     "end_time": "2025-06-30T14:10:59.871172",
     "exception": false,
     "start_time": "2025-06-30T14:10:59.852123",
     "status": "completed"
    },
    "tags": []
   },
   "source": [
    "## Ensemble Method"
   ]
  },
  {
   "cell_type": "markdown",
   "id": "2840e99e",
   "metadata": {
    "papermill": {
     "duration": 0.027307,
     "end_time": "2025-06-30T14:10:59.918178",
     "exception": false,
     "start_time": "2025-06-30T14:10:59.890871",
     "status": "completed"
    },
    "tags": []
   },
   "source": [
    "AdaBoostClassifier initial MAP@3 Score: 0.2783 - estimator=xgbc\n",
    "\n",
    "BaggingClassifier initial MAP@3 Score: 0.3342 - estimator=xgbc\n",
    "\n",
    "VotingClassifier initial MAP@3 Score: 0.3315 - estimators=[(\"xgbc\", xgbc), (\"lgbmc\", lgbmc), (\"cbc\", cbc)]\n",
    "\n",
    "StackingClassifier initial MAP@3 Score: 0.3303 - [(\"xgbc\", xgbc), (\"lgbmc\", lgbmc), (\"cbc\", cbc)], final_estimator=LogisticRegression()"
   ]
  },
  {
   "cell_type": "markdown",
   "id": "da23d191",
   "metadata": {
    "papermill": {
     "duration": 0.021165,
     "end_time": "2025-06-30T14:10:59.961249",
     "exception": false,
     "start_time": "2025-06-30T14:10:59.940084",
     "status": "completed"
    },
    "tags": []
   },
   "source": [
    "### VotingClassifier"
   ]
  },
  {
   "cell_type": "code",
   "execution_count": 53,
   "id": "1c2dc68b",
   "metadata": {
    "execution": {
     "iopub.execute_input": "2025-06-30T14:11:00.004388Z",
     "iopub.status.busy": "2025-06-30T14:11:00.003606Z",
     "iopub.status.idle": "2025-06-30T14:11:00.009641Z",
     "shell.execute_reply": "2025-06-30T14:11:00.008800Z"
    },
    "papermill": {
     "duration": 0.030225,
     "end_time": "2025-06-30T14:11:00.011430",
     "exception": false,
     "start_time": "2025-06-30T14:10:59.981205",
     "status": "completed"
    },
    "tags": []
   },
   "outputs": [
    {
     "data": {
      "text/plain": [
       "'\\n# We create the model instance\\n\\nvoc = VotingClassifier(\\n    estimators=[(\"xgbc\", xgbc), (\"lgbmc\", lgbmc), (\"cbc\", cbc)], voting=\"soft\"\\n)\\n\\n# Train the model with the data\\n\\nvoc.fit(x_train, y_train)\\n'"
      ]
     },
     "execution_count": 53,
     "metadata": {},
     "output_type": "execute_result"
    }
   ],
   "source": [
    "'''\n",
    "# We create the model instance\n",
    "\n",
    "voc = VotingClassifier(\n",
    "    estimators=[(\"xgbc\", xgbc), (\"lgbmc\", lgbmc), (\"cbc\", cbc)], voting=\"soft\"\n",
    ")\n",
    "\n",
    "# Train the model with the data\n",
    "\n",
    "voc.fit(x_train, y_train)\n",
    "'''"
   ]
  },
  {
   "cell_type": "code",
   "execution_count": 54,
   "id": "7a59e415",
   "metadata": {
    "execution": {
     "iopub.execute_input": "2025-06-30T14:11:00.057891Z",
     "iopub.status.busy": "2025-06-30T14:11:00.057426Z",
     "iopub.status.idle": "2025-06-30T14:11:00.062686Z",
     "shell.execute_reply": "2025-06-30T14:11:00.061821Z"
    },
    "papermill": {
     "duration": 0.027849,
     "end_time": "2025-06-30T14:11:00.064416",
     "exception": false,
     "start_time": "2025-06-30T14:11:00.036567",
     "status": "completed"
    },
    "tags": []
   },
   "outputs": [],
   "source": [
    "#evaluator(voc, x_val, y_val, le, 3, \"VotingClassifier\")"
   ]
  },
  {
   "cell_type": "markdown",
   "id": "0e9ce7f5",
   "metadata": {
    "papermill": {
     "duration": 0.030895,
     "end_time": "2025-06-30T14:11:00.118648",
     "exception": false,
     "start_time": "2025-06-30T14:11:00.087753",
     "status": "completed"
    },
    "tags": []
   },
   "source": [
    "VotingClassifier initial MAP@3 Score: 0.3299 - estimators=[(\"lrc\", lrc), (\"xgbc\", xgbc), (\"cbc\", cbc)]\n",
    "\n",
    "VotingClassifier initial MAP@3 Score: 0.3315 - estimators=[(\"xgbc\", xgbc), (\"lgbmc\", lgbmc), (\"cbc\", cbc)]"
   ]
  },
  {
   "cell_type": "code",
   "execution_count": 55,
   "id": "b524bb0c",
   "metadata": {
    "execution": {
     "iopub.execute_input": "2025-06-30T14:11:00.169454Z",
     "iopub.status.busy": "2025-06-30T14:11:00.168574Z",
     "iopub.status.idle": "2025-06-30T14:11:00.175580Z",
     "shell.execute_reply": "2025-06-30T14:11:00.174767Z"
    },
    "papermill": {
     "duration": 0.029369,
     "end_time": "2025-06-30T14:11:00.177117",
     "exception": false,
     "start_time": "2025-06-30T14:11:00.147748",
     "status": "completed"
    },
    "tags": []
   },
   "outputs": [
    {
     "data": {
      "text/plain": [
       "'\\n# We apply the function for CV\\n\\nvoc_params = {\\n    \"estimators\" : [(\"xgbc\", xgbc), (\"lgbmc\", lgbmc), (\"cbc\", cbc)], \\n    \"voting\" : \"soft\"\\n}\\n\\nvoc_cv_scores = cv_evaluator(\\n    model_class=VotingClassifier,\\n    model_params=voc_params,\\n    x=x_end_new,\\n    y=y_fertilizers, \\n    enc=le,\\n    k_map=3,\\n    model_name=\"VotingClassifier\"\\n)\\n'"
      ]
     },
     "execution_count": 55,
     "metadata": {},
     "output_type": "execute_result"
    }
   ],
   "source": [
    "'''\n",
    "# We apply the function for CV\n",
    "\n",
    "voc_params = {\n",
    "    \"estimators\" : [(\"xgbc\", xgbc), (\"lgbmc\", lgbmc), (\"cbc\", cbc)], \n",
    "    \"voting\" : \"soft\"\n",
    "}\n",
    "\n",
    "voc_cv_scores = cv_evaluator(\n",
    "    model_class=VotingClassifier,\n",
    "    model_params=voc_params,\n",
    "    x=x_end_new,\n",
    "    y=y_fertilizers, \n",
    "    enc=le,\n",
    "    k_map=3,\n",
    "    model_name=\"VotingClassifier\"\n",
    ")\n",
    "'''"
   ]
  },
  {
   "cell_type": "markdown",
   "id": "42d19905",
   "metadata": {
    "papermill": {
     "duration": 0.023382,
     "end_time": "2025-06-30T14:11:00.221069",
     "exception": false,
     "start_time": "2025-06-30T14:11:00.197687",
     "status": "completed"
    },
    "tags": []
   },
   "source": [
    "--- CV Summary for VotingClassifier ---\n",
    "\n",
    "MAP@3 Scores for fold: [0.3308 0.3316 0.3321 0.3309 0.3312]\n",
    "\n",
    "MAP@3 average: 0.3313\n",
    "\n",
    "Standard deviation of MAP@3: 0.0005"
   ]
  },
  {
   "cell_type": "markdown",
   "id": "0d1d6178",
   "metadata": {
    "papermill": {
     "duration": 0.019869,
     "end_time": "2025-06-30T14:11:00.263774",
     "exception": false,
     "start_time": "2025-06-30T14:11:00.243905",
     "status": "completed"
    },
    "tags": []
   },
   "source": [
    "### StackingClassifier"
   ]
  },
  {
   "cell_type": "code",
   "execution_count": 56,
   "id": "e4ade515",
   "metadata": {
    "execution": {
     "iopub.execute_input": "2025-06-30T14:11:00.307384Z",
     "iopub.status.busy": "2025-06-30T14:11:00.307002Z",
     "iopub.status.idle": "2025-06-30T14:38:35.857755Z",
     "shell.execute_reply": "2025-06-30T14:38:35.856435Z"
    },
    "papermill": {
     "duration": 1655.594317,
     "end_time": "2025-06-30T14:38:35.879670",
     "exception": false,
     "start_time": "2025-06-30T14:11:00.285353",
     "status": "completed"
    },
    "tags": []
   },
   "outputs": [
    {
     "data": {
      "text/html": [
       "<style>#sk-container-id-3 {color: black;background-color: white;}#sk-container-id-3 pre{padding: 0;}#sk-container-id-3 div.sk-toggleable {background-color: white;}#sk-container-id-3 label.sk-toggleable__label {cursor: pointer;display: block;width: 100%;margin-bottom: 0;padding: 0.3em;box-sizing: border-box;text-align: center;}#sk-container-id-3 label.sk-toggleable__label-arrow:before {content: \"▸\";float: left;margin-right: 0.25em;color: #696969;}#sk-container-id-3 label.sk-toggleable__label-arrow:hover:before {color: black;}#sk-container-id-3 div.sk-estimator:hover label.sk-toggleable__label-arrow:before {color: black;}#sk-container-id-3 div.sk-toggleable__content {max-height: 0;max-width: 0;overflow: hidden;text-align: left;background-color: #f0f8ff;}#sk-container-id-3 div.sk-toggleable__content pre {margin: 0.2em;color: black;border-radius: 0.25em;background-color: #f0f8ff;}#sk-container-id-3 input.sk-toggleable__control:checked~div.sk-toggleable__content {max-height: 200px;max-width: 100%;overflow: auto;}#sk-container-id-3 input.sk-toggleable__control:checked~label.sk-toggleable__label-arrow:before {content: \"▾\";}#sk-container-id-3 div.sk-estimator input.sk-toggleable__control:checked~label.sk-toggleable__label {background-color: #d4ebff;}#sk-container-id-3 div.sk-label input.sk-toggleable__control:checked~label.sk-toggleable__label {background-color: #d4ebff;}#sk-container-id-3 input.sk-hidden--visually {border: 0;clip: rect(1px 1px 1px 1px);clip: rect(1px, 1px, 1px, 1px);height: 1px;margin: -1px;overflow: hidden;padding: 0;position: absolute;width: 1px;}#sk-container-id-3 div.sk-estimator {font-family: monospace;background-color: #f0f8ff;border: 1px dotted black;border-radius: 0.25em;box-sizing: border-box;margin-bottom: 0.5em;}#sk-container-id-3 div.sk-estimator:hover {background-color: #d4ebff;}#sk-container-id-3 div.sk-parallel-item::after {content: \"\";width: 100%;border-bottom: 1px solid gray;flex-grow: 1;}#sk-container-id-3 div.sk-label:hover label.sk-toggleable__label {background-color: #d4ebff;}#sk-container-id-3 div.sk-serial::before {content: \"\";position: absolute;border-left: 1px solid gray;box-sizing: border-box;top: 0;bottom: 0;left: 50%;z-index: 0;}#sk-container-id-3 div.sk-serial {display: flex;flex-direction: column;align-items: center;background-color: white;padding-right: 0.2em;padding-left: 0.2em;position: relative;}#sk-container-id-3 div.sk-item {position: relative;z-index: 1;}#sk-container-id-3 div.sk-parallel {display: flex;align-items: stretch;justify-content: center;background-color: white;position: relative;}#sk-container-id-3 div.sk-item::before, #sk-container-id-3 div.sk-parallel-item::before {content: \"\";position: absolute;border-left: 1px solid gray;box-sizing: border-box;top: 0;bottom: 0;left: 50%;z-index: -1;}#sk-container-id-3 div.sk-parallel-item {display: flex;flex-direction: column;z-index: 1;position: relative;background-color: white;}#sk-container-id-3 div.sk-parallel-item:first-child::after {align-self: flex-end;width: 50%;}#sk-container-id-3 div.sk-parallel-item:last-child::after {align-self: flex-start;width: 50%;}#sk-container-id-3 div.sk-parallel-item:only-child::after {width: 0;}#sk-container-id-3 div.sk-dashed-wrapped {border: 1px dashed gray;margin: 0 0.4em 0.5em 0.4em;box-sizing: border-box;padding-bottom: 0.4em;background-color: white;}#sk-container-id-3 div.sk-label label {font-family: monospace;font-weight: bold;display: inline-block;line-height: 1.2em;}#sk-container-id-3 div.sk-label-container {text-align: center;}#sk-container-id-3 div.sk-container {/* jupyter's `normalize.less` sets `[hidden] { display: none; }` but bootstrap.min.css set `[hidden] { display: none !important; }` so we also need the `!important` here to be able to override the default hidden behavior on the sphinx rendered scikit-learn.org. See: https://github.com/scikit-learn/scikit-learn/issues/21755 */display: inline-block !important;position: relative;}#sk-container-id-3 div.sk-text-repr-fallback {display: none;}</style><div id=\"sk-container-id-3\" class=\"sk-top-container\"><div class=\"sk-text-repr-fallback\"><pre>StackingClassifier(estimators=[(&#x27;xgbc&#x27;,\n",
       "                                XGBClassifier(base_score=None, booster=None,\n",
       "                                              callbacks=None,\n",
       "                                              colsample_bylevel=None,\n",
       "                                              colsample_bynode=None,\n",
       "                                              colsample_bytree=None,\n",
       "                                              device=None,\n",
       "                                              early_stopping_rounds=None,\n",
       "                                              enable_categorical=False,\n",
       "                                              eval_metric=None,\n",
       "                                              feature_types=None, gamma=None,\n",
       "                                              grow_policy=None,\n",
       "                                              importance_type=None,\n",
       "                                              interaction_constraints=None,\n",
       "                                              learning...\n",
       "                                              max_delta_step=None,\n",
       "                                              max_depth=None, max_leaves=None,\n",
       "                                              min_child_weight=None,\n",
       "                                              missing=nan,\n",
       "                                              monotone_constraints=None,\n",
       "                                              multi_strategy=None,\n",
       "                                              n_estimators=None, n_jobs=None,\n",
       "                                              num_parallel_tree=None,\n",
       "                                              objective=&#x27;multi:softprob&#x27;, ...)),\n",
       "                               (&#x27;lgbmc&#x27;, LGBMClassifier(verbose=0)),\n",
       "                               (&#x27;cbc&#x27;,\n",
       "                                &lt;catboost.core.CatBoostClassifier object at 0x7b73289e4dd0&gt;)],\n",
       "                   final_estimator=LogisticRegression())</pre><b>In a Jupyter environment, please rerun this cell to show the HTML representation or trust the notebook. <br />On GitHub, the HTML representation is unable to render, please try loading this page with nbviewer.org.</b></div><div class=\"sk-container\" hidden><div class=\"sk-item sk-dashed-wrapped\"><div class=\"sk-label-container\"><div class=\"sk-label sk-toggleable\"><input class=\"sk-toggleable__control sk-hidden--visually\" id=\"sk-estimator-id-3\" type=\"checkbox\" ><label for=\"sk-estimator-id-3\" class=\"sk-toggleable__label sk-toggleable__label-arrow\">StackingClassifier</label><div class=\"sk-toggleable__content\"><pre>StackingClassifier(estimators=[(&#x27;xgbc&#x27;,\n",
       "                                XGBClassifier(base_score=None, booster=None,\n",
       "                                              callbacks=None,\n",
       "                                              colsample_bylevel=None,\n",
       "                                              colsample_bynode=None,\n",
       "                                              colsample_bytree=None,\n",
       "                                              device=None,\n",
       "                                              early_stopping_rounds=None,\n",
       "                                              enable_categorical=False,\n",
       "                                              eval_metric=None,\n",
       "                                              feature_types=None, gamma=None,\n",
       "                                              grow_policy=None,\n",
       "                                              importance_type=None,\n",
       "                                              interaction_constraints=None,\n",
       "                                              learning...\n",
       "                                              max_delta_step=None,\n",
       "                                              max_depth=None, max_leaves=None,\n",
       "                                              min_child_weight=None,\n",
       "                                              missing=nan,\n",
       "                                              monotone_constraints=None,\n",
       "                                              multi_strategy=None,\n",
       "                                              n_estimators=None, n_jobs=None,\n",
       "                                              num_parallel_tree=None,\n",
       "                                              objective=&#x27;multi:softprob&#x27;, ...)),\n",
       "                               (&#x27;lgbmc&#x27;, LGBMClassifier(verbose=0)),\n",
       "                               (&#x27;cbc&#x27;,\n",
       "                                &lt;catboost.core.CatBoostClassifier object at 0x7b73289e4dd0&gt;)],\n",
       "                   final_estimator=LogisticRegression())</pre></div></div></div><div class=\"sk-serial\"><div class=\"sk-item\"><div class=\"sk-parallel\"><div class=\"sk-parallel-item\"><div class=\"sk-item\"><div class=\"sk-label-container\"><div class=\"sk-label sk-toggleable\"><label>xgbc</label></div></div><div class=\"sk-serial\"><div class=\"sk-item\"><div class=\"sk-estimator sk-toggleable\"><input class=\"sk-toggleable__control sk-hidden--visually\" id=\"sk-estimator-id-4\" type=\"checkbox\" ><label for=\"sk-estimator-id-4\" class=\"sk-toggleable__label sk-toggleable__label-arrow\">XGBClassifier</label><div class=\"sk-toggleable__content\"><pre>XGBClassifier(base_score=None, booster=None, callbacks=None,\n",
       "              colsample_bylevel=None, colsample_bynode=None,\n",
       "              colsample_bytree=None, device=None, early_stopping_rounds=None,\n",
       "              enable_categorical=False, eval_metric=None, feature_types=None,\n",
       "              gamma=None, grow_policy=None, importance_type=None,\n",
       "              interaction_constraints=None, learning_rate=None, max_bin=None,\n",
       "              max_cat_threshold=None, max_cat_to_onehot=None,\n",
       "              max_delta_step=None, max_depth=None, max_leaves=None,\n",
       "              min_child_weight=None, missing=nan, monotone_constraints=None,\n",
       "              multi_strategy=None, n_estimators=None, n_jobs=None,\n",
       "              num_parallel_tree=None, objective=&#x27;multi:softprob&#x27;, ...)</pre></div></div></div></div></div></div><div class=\"sk-parallel-item\"><div class=\"sk-item\"><div class=\"sk-label-container\"><div class=\"sk-label sk-toggleable\"><label>lgbmc</label></div></div><div class=\"sk-serial\"><div class=\"sk-item\"><div class=\"sk-estimator sk-toggleable\"><input class=\"sk-toggleable__control sk-hidden--visually\" id=\"sk-estimator-id-5\" type=\"checkbox\" ><label for=\"sk-estimator-id-5\" class=\"sk-toggleable__label sk-toggleable__label-arrow\">LGBMClassifier</label><div class=\"sk-toggleable__content\"><pre>LGBMClassifier(verbose=0)</pre></div></div></div></div></div></div><div class=\"sk-parallel-item\"><div class=\"sk-item\"><div class=\"sk-label-container\"><div class=\"sk-label sk-toggleable\"><label>cbc</label></div></div><div class=\"sk-serial\"><div class=\"sk-item\"><div class=\"sk-estimator sk-toggleable\"><input class=\"sk-toggleable__control sk-hidden--visually\" id=\"sk-estimator-id-6\" type=\"checkbox\" ><label for=\"sk-estimator-id-6\" class=\"sk-toggleable__label sk-toggleable__label-arrow\">CatBoostClassifier</label><div class=\"sk-toggleable__content\"><pre>&lt;catboost.core.CatBoostClassifier object at 0x7b73289e4dd0&gt;</pre></div></div></div></div></div></div></div></div><div class=\"sk-item\"><div class=\"sk-parallel\"><div class=\"sk-parallel-item\"><div class=\"sk-item\"><div class=\"sk-label-container\"><div class=\"sk-label sk-toggleable\"><label>final_estimator</label></div></div><div class=\"sk-serial\"><div class=\"sk-item\"><div class=\"sk-estimator sk-toggleable\"><input class=\"sk-toggleable__control sk-hidden--visually\" id=\"sk-estimator-id-7\" type=\"checkbox\" ><label for=\"sk-estimator-id-7\" class=\"sk-toggleable__label sk-toggleable__label-arrow\">LogisticRegression</label><div class=\"sk-toggleable__content\"><pre>LogisticRegression()</pre></div></div></div></div></div></div></div></div></div></div></div></div>"
      ],
      "text/plain": [
       "StackingClassifier(estimators=[('xgbc',\n",
       "                                XGBClassifier(base_score=None, booster=None,\n",
       "                                              callbacks=None,\n",
       "                                              colsample_bylevel=None,\n",
       "                                              colsample_bynode=None,\n",
       "                                              colsample_bytree=None,\n",
       "                                              device=None,\n",
       "                                              early_stopping_rounds=None,\n",
       "                                              enable_categorical=False,\n",
       "                                              eval_metric=None,\n",
       "                                              feature_types=None, gamma=None,\n",
       "                                              grow_policy=None,\n",
       "                                              importance_type=None,\n",
       "                                              interaction_constraints=None,\n",
       "                                              learning...\n",
       "                                              max_delta_step=None,\n",
       "                                              max_depth=None, max_leaves=None,\n",
       "                                              min_child_weight=None,\n",
       "                                              missing=nan,\n",
       "                                              monotone_constraints=None,\n",
       "                                              multi_strategy=None,\n",
       "                                              n_estimators=None, n_jobs=None,\n",
       "                                              num_parallel_tree=None,\n",
       "                                              objective='multi:softprob', ...)),\n",
       "                               ('lgbmc', LGBMClassifier(verbose=0)),\n",
       "                               ('cbc',\n",
       "                                <catboost.core.CatBoostClassifier object at 0x7b73289e4dd0>)],\n",
       "                   final_estimator=LogisticRegression())"
      ]
     },
     "execution_count": 56,
     "metadata": {},
     "output_type": "execute_result"
    }
   ],
   "source": [
    "# Create a stacking ensemble\n",
    "\n",
    "stc = StackingClassifier(\n",
    "    estimators=[(\"xgbc\", xgbc), (\"lgbmc\", lgbmc), (\"cbc\", cbc)], final_estimator=LogisticRegression()\n",
    ")\n",
    "\n",
    "# Train the model with the data\n",
    "\n",
    "stc.fit(x_train, y_train)"
   ]
  },
  {
   "cell_type": "code",
   "execution_count": 57,
   "id": "ebfdb9e5",
   "metadata": {
    "execution": {
     "iopub.execute_input": "2025-06-30T14:38:35.921489Z",
     "iopub.status.busy": "2025-06-30T14:38:35.921031Z",
     "iopub.status.idle": "2025-06-30T14:39:12.488705Z",
     "shell.execute_reply": "2025-06-30T14:39:12.486867Z"
    },
    "papermill": {
     "duration": 36.609501,
     "end_time": "2025-06-30T14:39:12.509074",
     "exception": false,
     "start_time": "2025-06-30T14:38:35.899573",
     "status": "completed"
    },
    "tags": []
   },
   "outputs": [
    {
     "name": "stdout",
     "output_type": "stream",
     "text": [
      "\n",
      "StackingClassifier initial MAP@3 Score: 0.3287\n"
     ]
    }
   ],
   "source": [
    "evaluator(stc, x_val, y_val, le, 3, \"StackingClassifier\")"
   ]
  },
  {
   "cell_type": "markdown",
   "id": "2ab14b5c",
   "metadata": {
    "papermill": {
     "duration": 0.020359,
     "end_time": "2025-06-30T14:39:12.548880",
     "exception": false,
     "start_time": "2025-06-30T14:39:12.528521",
     "status": "completed"
    },
    "tags": []
   },
   "source": [
    "StackingClassifier initial MAP@3 Score: 0.3303 - [(\"xgbc\", xgbc), (\"lgbmc\", lgbmc), (\"cbc\", cbc)], final_estimator=LogisticRegression()"
   ]
  },
  {
   "cell_type": "code",
   "execution_count": 58,
   "id": "f1106233",
   "metadata": {
    "execution": {
     "iopub.execute_input": "2025-06-30T14:39:12.593885Z",
     "iopub.status.busy": "2025-06-30T14:39:12.593526Z",
     "iopub.status.idle": "2025-06-30T14:39:12.599611Z",
     "shell.execute_reply": "2025-06-30T14:39:12.598824Z"
    },
    "papermill": {
     "duration": 0.030578,
     "end_time": "2025-06-30T14:39:12.601710",
     "exception": false,
     "start_time": "2025-06-30T14:39:12.571132",
     "status": "completed"
    },
    "tags": []
   },
   "outputs": [
    {
     "data": {
      "text/plain": [
       "'\\n# We apply the function for CV\\n\\nstc_params = {\\n    \"estimators\" : [(\"xgbc\", xgbc), (\"lgbmc\", lgbmc), (\"cbc\", cbc)], \\n    \"final_estimator\" : LogisticRegression()\\n}\\n\\nstc_cv_scores = cv_evaluator(\\n    model_class=StackingClassifier,\\n    model_params=voc_params,\\n    x=x_end_new,\\n    y=y_fertilizers, \\n    enc=le,\\n    k_map=3,\\n    model_name=\"StackingClassifier\"\\n)\\n'"
      ]
     },
     "execution_count": 58,
     "metadata": {},
     "output_type": "execute_result"
    }
   ],
   "source": [
    "'''\n",
    "# We apply the function for CV\n",
    "\n",
    "stc_params = {\n",
    "    \"estimators\" : [(\"xgbc\", xgbc), (\"lgbmc\", lgbmc), (\"cbc\", cbc)], \n",
    "    \"final_estimator\" : LogisticRegression()\n",
    "}\n",
    "\n",
    "stc_cv_scores = cv_evaluator(\n",
    "    model_class=StackingClassifier,\n",
    "    model_params=voc_params,\n",
    "    x=x_end_new,\n",
    "    y=y_fertilizers, \n",
    "    enc=le,\n",
    "    k_map=3,\n",
    "    model_name=\"StackingClassifier\"\n",
    ")\n",
    "'''"
   ]
  },
  {
   "cell_type": "markdown",
   "id": "9f1c3621",
   "metadata": {
    "papermill": {
     "duration": 0.022256,
     "end_time": "2025-06-30T14:39:12.645174",
     "exception": false,
     "start_time": "2025-06-30T14:39:12.622918",
     "status": "completed"
    },
    "tags": []
   },
   "source": [
    "# Modeling"
   ]
  },
  {
   "cell_type": "code",
   "execution_count": 59,
   "id": "1dcc2d04",
   "metadata": {
    "execution": {
     "iopub.execute_input": "2025-06-30T14:39:12.692107Z",
     "iopub.status.busy": "2025-06-30T14:39:12.691626Z",
     "iopub.status.idle": "2025-06-30T14:39:12.704198Z",
     "shell.execute_reply": "2025-06-30T14:39:12.702927Z"
    },
    "papermill": {
     "duration": 0.039143,
     "end_time": "2025-06-30T14:39:12.706142",
     "exception": false,
     "start_time": "2025-06-30T14:39:12.666999",
     "status": "completed"
    },
    "tags": []
   },
   "outputs": [
    {
     "data": {
      "text/plain": [
       "{'cv': None,\n",
       " 'estimators': [('xgbc',\n",
       "   XGBClassifier(base_score=None, booster=None, callbacks=None,\n",
       "                 colsample_bylevel=None, colsample_bynode=None,\n",
       "                 colsample_bytree=None, device=None, early_stopping_rounds=None,\n",
       "                 enable_categorical=False, eval_metric=None, feature_types=None,\n",
       "                 gamma=None, grow_policy=None, importance_type=None,\n",
       "                 interaction_constraints=None, learning_rate=None, max_bin=None,\n",
       "                 max_cat_threshold=None, max_cat_to_onehot=None,\n",
       "                 max_delta_step=None, max_depth=None, max_leaves=None,\n",
       "                 min_child_weight=None, missing=nan, monotone_constraints=None,\n",
       "                 multi_strategy=None, n_estimators=None, n_jobs=None,\n",
       "                 num_parallel_tree=None, objective='multi:softprob', ...)),\n",
       "  ('lgbmc', LGBMClassifier(verbose=0)),\n",
       "  ('cbc', <catboost.core.CatBoostClassifier at 0x7b73289e4dd0>)],\n",
       " 'final_estimator__C': 1.0,\n",
       " 'final_estimator__class_weight': None,\n",
       " 'final_estimator__dual': False,\n",
       " 'final_estimator__fit_intercept': True,\n",
       " 'final_estimator__intercept_scaling': 1,\n",
       " 'final_estimator__l1_ratio': None,\n",
       " 'final_estimator__max_iter': 100,\n",
       " 'final_estimator__multi_class': 'auto',\n",
       " 'final_estimator__n_jobs': None,\n",
       " 'final_estimator__penalty': 'l2',\n",
       " 'final_estimator__random_state': None,\n",
       " 'final_estimator__solver': 'lbfgs',\n",
       " 'final_estimator__tol': 0.0001,\n",
       " 'final_estimator__verbose': 0,\n",
       " 'final_estimator__warm_start': False,\n",
       " 'final_estimator': LogisticRegression(),\n",
       " 'n_jobs': None,\n",
       " 'passthrough': False,\n",
       " 'stack_method': 'auto',\n",
       " 'verbose': 0,\n",
       " 'xgbc': XGBClassifier(base_score=None, booster=None, callbacks=None,\n",
       "               colsample_bylevel=None, colsample_bynode=None,\n",
       "               colsample_bytree=None, device=None, early_stopping_rounds=None,\n",
       "               enable_categorical=False, eval_metric=None, feature_types=None,\n",
       "               gamma=None, grow_policy=None, importance_type=None,\n",
       "               interaction_constraints=None, learning_rate=None, max_bin=None,\n",
       "               max_cat_threshold=None, max_cat_to_onehot=None,\n",
       "               max_delta_step=None, max_depth=None, max_leaves=None,\n",
       "               min_child_weight=None, missing=nan, monotone_constraints=None,\n",
       "               multi_strategy=None, n_estimators=None, n_jobs=None,\n",
       "               num_parallel_tree=None, objective='multi:softprob', ...),\n",
       " 'lgbmc': LGBMClassifier(verbose=0),\n",
       " 'cbc': <catboost.core.CatBoostClassifier at 0x7b73289e4dd0>,\n",
       " 'xgbc__objective': 'multi:softprob',\n",
       " 'xgbc__base_score': None,\n",
       " 'xgbc__booster': None,\n",
       " 'xgbc__callbacks': None,\n",
       " 'xgbc__colsample_bylevel': None,\n",
       " 'xgbc__colsample_bynode': None,\n",
       " 'xgbc__colsample_bytree': None,\n",
       " 'xgbc__device': None,\n",
       " 'xgbc__early_stopping_rounds': None,\n",
       " 'xgbc__enable_categorical': False,\n",
       " 'xgbc__eval_metric': None,\n",
       " 'xgbc__feature_types': None,\n",
       " 'xgbc__gamma': None,\n",
       " 'xgbc__grow_policy': None,\n",
       " 'xgbc__importance_type': None,\n",
       " 'xgbc__interaction_constraints': None,\n",
       " 'xgbc__learning_rate': None,\n",
       " 'xgbc__max_bin': None,\n",
       " 'xgbc__max_cat_threshold': None,\n",
       " 'xgbc__max_cat_to_onehot': None,\n",
       " 'xgbc__max_delta_step': None,\n",
       " 'xgbc__max_depth': None,\n",
       " 'xgbc__max_leaves': None,\n",
       " 'xgbc__min_child_weight': None,\n",
       " 'xgbc__missing': nan,\n",
       " 'xgbc__monotone_constraints': None,\n",
       " 'xgbc__multi_strategy': None,\n",
       " 'xgbc__n_estimators': None,\n",
       " 'xgbc__n_jobs': None,\n",
       " 'xgbc__num_parallel_tree': None,\n",
       " 'xgbc__random_state': None,\n",
       " 'xgbc__reg_alpha': None,\n",
       " 'xgbc__reg_lambda': None,\n",
       " 'xgbc__sampling_method': None,\n",
       " 'xgbc__scale_pos_weight': None,\n",
       " 'xgbc__subsample': None,\n",
       " 'xgbc__tree_method': None,\n",
       " 'xgbc__validate_parameters': None,\n",
       " 'xgbc__verbosity': None,\n",
       " 'lgbmc__boosting_type': 'gbdt',\n",
       " 'lgbmc__class_weight': None,\n",
       " 'lgbmc__colsample_bytree': 1.0,\n",
       " 'lgbmc__importance_type': 'split',\n",
       " 'lgbmc__learning_rate': 0.1,\n",
       " 'lgbmc__max_depth': -1,\n",
       " 'lgbmc__min_child_samples': 20,\n",
       " 'lgbmc__min_child_weight': 0.001,\n",
       " 'lgbmc__min_split_gain': 0.0,\n",
       " 'lgbmc__n_estimators': 100,\n",
       " 'lgbmc__n_jobs': None,\n",
       " 'lgbmc__num_leaves': 31,\n",
       " 'lgbmc__objective': None,\n",
       " 'lgbmc__random_state': None,\n",
       " 'lgbmc__reg_alpha': 0.0,\n",
       " 'lgbmc__reg_lambda': 0.0,\n",
       " 'lgbmc__subsample': 1.0,\n",
       " 'lgbmc__subsample_for_bin': 200000,\n",
       " 'lgbmc__subsample_freq': 0,\n",
       " 'lgbmc__verbose': 0,\n",
       " 'cbc__silent': True}"
      ]
     },
     "execution_count": 59,
     "metadata": {},
     "output_type": "execute_result"
    }
   ],
   "source": [
    "final_model = stc\n",
    "\n",
    "final_model.get_params()"
   ]
  },
  {
   "cell_type": "code",
   "execution_count": 60,
   "id": "ade865f5",
   "metadata": {
    "execution": {
     "iopub.execute_input": "2025-06-30T14:39:12.748685Z",
     "iopub.status.busy": "2025-06-30T14:39:12.747745Z",
     "iopub.status.idle": "2025-06-30T14:39:12.753886Z",
     "shell.execute_reply": "2025-06-30T14:39:12.752973Z"
    },
    "papermill": {
     "duration": 0.02859,
     "end_time": "2025-06-30T14:39:12.755386",
     "exception": false,
     "start_time": "2025-06-30T14:39:12.726796",
     "status": "completed"
    },
    "tags": []
   },
   "outputs": [
    {
     "data": {
      "text/plain": [
       "'\\n# Permutation Importance\\n\\nperm_importance = permutation_importance(final_model, x_val, y_val, n_repeats=30, random_state=42, n_jobs=-1)\\nperm_importance_df = pd.DataFrame({\\n    \\'Feature\\': x_end.columns,\\n    \\'Importance Mean\\': perm_importance.importances_mean,\\n    \\'Importance Std\\': perm_importance.importances_std\\n})\\nprint(\"\\nPermutation Importance:\\n\")\\nprint(perm_importance_df.sort_values(by=\\'Importance Mean\\', ascending=False))\\n'"
      ]
     },
     "execution_count": 60,
     "metadata": {},
     "output_type": "execute_result"
    }
   ],
   "source": [
    "'''\n",
    "# Permutation Importance\n",
    "\n",
    "perm_importance = permutation_importance(final_model, x_val, y_val, n_repeats=30, random_state=42, n_jobs=-1)\n",
    "perm_importance_df = pd.DataFrame({\n",
    "    'Feature': x_end.columns,\n",
    "    'Importance Mean': perm_importance.importances_mean,\n",
    "    'Importance Std': perm_importance.importances_std\n",
    "})\n",
    "print(\"\\nPermutation Importance:\\n\")\n",
    "print(perm_importance_df.sort_values(by='Importance Mean', ascending=False))\n",
    "'''"
   ]
  },
  {
   "cell_type": "markdown",
   "id": "4ea79007",
   "metadata": {
    "papermill": {
     "duration": 0.022409,
     "end_time": "2025-06-30T14:39:12.799568",
     "exception": false,
     "start_time": "2025-06-30T14:39:12.777159",
     "status": "completed"
    },
    "tags": []
   },
   "source": [
    "# Test data"
   ]
  },
  {
   "cell_type": "code",
   "execution_count": 61,
   "id": "ecaacc3e",
   "metadata": {
    "execution": {
     "iopub.execute_input": "2025-06-30T14:39:12.847372Z",
     "iopub.status.busy": "2025-06-30T14:39:12.846969Z",
     "iopub.status.idle": "2025-06-30T14:39:13.275768Z",
     "shell.execute_reply": "2025-06-30T14:39:13.274689Z"
    },
    "papermill": {
     "duration": 0.45641,
     "end_time": "2025-06-30T14:39:13.277744",
     "exception": false,
     "start_time": "2025-06-30T14:39:12.821334",
     "status": "completed"
    },
    "tags": []
   },
   "outputs": [],
   "source": [
    "# We load the test data and submission sample data\n",
    "\n",
    "df_test = pd.read_csv(\"/kaggle/input/playground-series-s5e6/test.csv\")\n",
    "\n",
    "fertilizer_sample = pd.read_csv(\"/kaggle/input/playground-series-s5e6/sample_submission.csv\")"
   ]
  },
  {
   "cell_type": "code",
   "execution_count": 62,
   "id": "1130348d",
   "metadata": {
    "execution": {
     "iopub.execute_input": "2025-06-30T14:39:13.322170Z",
     "iopub.status.busy": "2025-06-30T14:39:13.321526Z",
     "iopub.status.idle": "2025-06-30T14:39:13.326787Z",
     "shell.execute_reply": "2025-06-30T14:39:13.325685Z"
    },
    "papermill": {
     "duration": 0.02904,
     "end_time": "2025-06-30T14:39:13.328482",
     "exception": false,
     "start_time": "2025-06-30T14:39:13.299442",
     "status": "completed"
    },
    "tags": []
   },
   "outputs": [
    {
     "name": "stdout",
     "output_type": "stream",
     "text": [
      "Shape: (250000, 9)\n"
     ]
    }
   ],
   "source": [
    "# We check the shape\n",
    "\n",
    "print(f\"Shape: {df_test.shape}\")"
   ]
  },
  {
   "cell_type": "code",
   "execution_count": 63,
   "id": "01277598",
   "metadata": {
    "execution": {
     "iopub.execute_input": "2025-06-30T14:39:13.383474Z",
     "iopub.status.busy": "2025-06-30T14:39:13.383076Z",
     "iopub.status.idle": "2025-06-30T14:39:13.395577Z",
     "shell.execute_reply": "2025-06-30T14:39:13.394707Z"
    },
    "papermill": {
     "duration": 0.041992,
     "end_time": "2025-06-30T14:39:13.397718",
     "exception": false,
     "start_time": "2025-06-30T14:39:13.355726",
     "status": "completed"
    },
    "tags": []
   },
   "outputs": [
    {
     "data": {
      "text/html": [
       "<div>\n",
       "<style scoped>\n",
       "    .dataframe tbody tr th:only-of-type {\n",
       "        vertical-align: middle;\n",
       "    }\n",
       "\n",
       "    .dataframe tbody tr th {\n",
       "        vertical-align: top;\n",
       "    }\n",
       "\n",
       "    .dataframe thead th {\n",
       "        text-align: right;\n",
       "    }\n",
       "</style>\n",
       "<table border=\"1\" class=\"dataframe\">\n",
       "  <thead>\n",
       "    <tr style=\"text-align: right;\">\n",
       "      <th></th>\n",
       "      <th>id</th>\n",
       "      <th>Temparature</th>\n",
       "      <th>Humidity</th>\n",
       "      <th>Moisture</th>\n",
       "      <th>Soil Type</th>\n",
       "      <th>Crop Type</th>\n",
       "      <th>Nitrogen</th>\n",
       "      <th>Potassium</th>\n",
       "      <th>Phosphorous</th>\n",
       "    </tr>\n",
       "  </thead>\n",
       "  <tbody>\n",
       "    <tr>\n",
       "      <th>0</th>\n",
       "      <td>750000</td>\n",
       "      <td>31</td>\n",
       "      <td>70</td>\n",
       "      <td>52</td>\n",
       "      <td>Sandy</td>\n",
       "      <td>Wheat</td>\n",
       "      <td>34</td>\n",
       "      <td>11</td>\n",
       "      <td>24</td>\n",
       "    </tr>\n",
       "    <tr>\n",
       "      <th>1</th>\n",
       "      <td>750001</td>\n",
       "      <td>27</td>\n",
       "      <td>62</td>\n",
       "      <td>45</td>\n",
       "      <td>Red</td>\n",
       "      <td>Sugarcane</td>\n",
       "      <td>30</td>\n",
       "      <td>14</td>\n",
       "      <td>15</td>\n",
       "    </tr>\n",
       "    <tr>\n",
       "      <th>2</th>\n",
       "      <td>750002</td>\n",
       "      <td>28</td>\n",
       "      <td>72</td>\n",
       "      <td>28</td>\n",
       "      <td>Clayey</td>\n",
       "      <td>Ground Nuts</td>\n",
       "      <td>14</td>\n",
       "      <td>15</td>\n",
       "      <td>4</td>\n",
       "    </tr>\n",
       "    <tr>\n",
       "      <th>3</th>\n",
       "      <td>750003</td>\n",
       "      <td>37</td>\n",
       "      <td>53</td>\n",
       "      <td>57</td>\n",
       "      <td>Black</td>\n",
       "      <td>Ground Nuts</td>\n",
       "      <td>18</td>\n",
       "      <td>17</td>\n",
       "      <td>36</td>\n",
       "    </tr>\n",
       "    <tr>\n",
       "      <th>4</th>\n",
       "      <td>750004</td>\n",
       "      <td>31</td>\n",
       "      <td>55</td>\n",
       "      <td>32</td>\n",
       "      <td>Red</td>\n",
       "      <td>Pulses</td>\n",
       "      <td>13</td>\n",
       "      <td>19</td>\n",
       "      <td>14</td>\n",
       "    </tr>\n",
       "  </tbody>\n",
       "</table>\n",
       "</div>"
      ],
      "text/plain": [
       "       id  Temparature  Humidity  Moisture Soil Type    Crop Type  Nitrogen  \\\n",
       "0  750000           31        70        52     Sandy        Wheat        34   \n",
       "1  750001           27        62        45       Red    Sugarcane        30   \n",
       "2  750002           28        72        28    Clayey  Ground Nuts        14   \n",
       "3  750003           37        53        57     Black  Ground Nuts        18   \n",
       "4  750004           31        55        32       Red       Pulses        13   \n",
       "\n",
       "   Potassium  Phosphorous  \n",
       "0         11           24  \n",
       "1         14           15  \n",
       "2         15            4  \n",
       "3         17           36  \n",
       "4         19           14  "
      ]
     },
     "execution_count": 63,
     "metadata": {},
     "output_type": "execute_result"
    }
   ],
   "source": [
    "df_test.head()"
   ]
  },
  {
   "cell_type": "code",
   "execution_count": 64,
   "id": "5ab4f2a0",
   "metadata": {
    "execution": {
     "iopub.execute_input": "2025-06-30T14:39:13.450381Z",
     "iopub.status.busy": "2025-06-30T14:39:13.449995Z",
     "iopub.status.idle": "2025-06-30T14:39:13.496544Z",
     "shell.execute_reply": "2025-06-30T14:39:13.495620Z"
    },
    "papermill": {
     "duration": 0.070014,
     "end_time": "2025-06-30T14:39:13.498155",
     "exception": false,
     "start_time": "2025-06-30T14:39:13.428141",
     "status": "completed"
    },
    "tags": []
   },
   "outputs": [
    {
     "name": "stdout",
     "output_type": "stream",
     "text": [
      "<class 'pandas.core.frame.DataFrame'>\n",
      "RangeIndex: 250000 entries, 0 to 249999\n",
      "Data columns (total 9 columns):\n",
      " #   Column       Non-Null Count   Dtype \n",
      "---  ------       --------------   ----- \n",
      " 0   id           250000 non-null  int64 \n",
      " 1   Temparature  250000 non-null  int64 \n",
      " 2   Humidity     250000 non-null  int64 \n",
      " 3   Moisture     250000 non-null  int64 \n",
      " 4   Soil Type    250000 non-null  object\n",
      " 5   Crop Type    250000 non-null  object\n",
      " 6   Nitrogen     250000 non-null  int64 \n",
      " 7   Potassium    250000 non-null  int64 \n",
      " 8   Phosphorous  250000 non-null  int64 \n",
      "dtypes: int64(7), object(2)\n",
      "memory usage: 17.2+ MB\n"
     ]
    }
   ],
   "source": [
    "df_test.info()"
   ]
  },
  {
   "cell_type": "code",
   "execution_count": 65,
   "id": "b5c43366",
   "metadata": {
    "execution": {
     "iopub.execute_input": "2025-06-30T14:39:13.542401Z",
     "iopub.status.busy": "2025-06-30T14:39:13.542103Z",
     "iopub.status.idle": "2025-06-30T14:39:13.624656Z",
     "shell.execute_reply": "2025-06-30T14:39:13.623677Z"
    },
    "papermill": {
     "duration": 0.106487,
     "end_time": "2025-06-30T14:39:13.626462",
     "exception": false,
     "start_time": "2025-06-30T14:39:13.519975",
     "status": "completed"
    },
    "tags": []
   },
   "outputs": [
    {
     "data": {
      "text/html": [
       "<div>\n",
       "<style scoped>\n",
       "    .dataframe tbody tr th:only-of-type {\n",
       "        vertical-align: middle;\n",
       "    }\n",
       "\n",
       "    .dataframe tbody tr th {\n",
       "        vertical-align: top;\n",
       "    }\n",
       "\n",
       "    .dataframe thead th {\n",
       "        text-align: right;\n",
       "    }\n",
       "</style>\n",
       "<table border=\"1\" class=\"dataframe\">\n",
       "  <thead>\n",
       "    <tr style=\"text-align: right;\">\n",
       "      <th></th>\n",
       "      <th>count</th>\n",
       "      <th>mean</th>\n",
       "      <th>std</th>\n",
       "      <th>min</th>\n",
       "      <th>25%</th>\n",
       "      <th>50%</th>\n",
       "      <th>75%</th>\n",
       "      <th>max</th>\n",
       "    </tr>\n",
       "  </thead>\n",
       "  <tbody>\n",
       "    <tr>\n",
       "      <th>id</th>\n",
       "      <td>250000.0</td>\n",
       "      <td>874999.500000</td>\n",
       "      <td>72168.927986</td>\n",
       "      <td>750000.0</td>\n",
       "      <td>812499.75</td>\n",
       "      <td>874999.5</td>\n",
       "      <td>937499.25</td>\n",
       "      <td>999999.0</td>\n",
       "    </tr>\n",
       "    <tr>\n",
       "      <th>Temparature</th>\n",
       "      <td>250000.0</td>\n",
       "      <td>31.491648</td>\n",
       "      <td>4.024093</td>\n",
       "      <td>25.0</td>\n",
       "      <td>28.00</td>\n",
       "      <td>31.0</td>\n",
       "      <td>35.00</td>\n",
       "      <td>38.0</td>\n",
       "    </tr>\n",
       "    <tr>\n",
       "      <th>Humidity</th>\n",
       "      <td>250000.0</td>\n",
       "      <td>61.045120</td>\n",
       "      <td>6.636372</td>\n",
       "      <td>50.0</td>\n",
       "      <td>55.00</td>\n",
       "      <td>61.0</td>\n",
       "      <td>67.00</td>\n",
       "      <td>72.0</td>\n",
       "    </tr>\n",
       "    <tr>\n",
       "      <th>Moisture</th>\n",
       "      <td>250000.0</td>\n",
       "      <td>45.190444</td>\n",
       "      <td>11.793167</td>\n",
       "      <td>25.0</td>\n",
       "      <td>35.00</td>\n",
       "      <td>45.0</td>\n",
       "      <td>55.00</td>\n",
       "      <td>65.0</td>\n",
       "    </tr>\n",
       "    <tr>\n",
       "      <th>Nitrogen</th>\n",
       "      <td>250000.0</td>\n",
       "      <td>23.139612</td>\n",
       "      <td>11.215956</td>\n",
       "      <td>4.0</td>\n",
       "      <td>13.00</td>\n",
       "      <td>23.0</td>\n",
       "      <td>33.00</td>\n",
       "      <td>42.0</td>\n",
       "    </tr>\n",
       "    <tr>\n",
       "      <th>Potassium</th>\n",
       "      <td>250000.0</td>\n",
       "      <td>9.487764</td>\n",
       "      <td>5.766860</td>\n",
       "      <td>0.0</td>\n",
       "      <td>4.00</td>\n",
       "      <td>10.0</td>\n",
       "      <td>14.00</td>\n",
       "      <td>19.0</td>\n",
       "    </tr>\n",
       "    <tr>\n",
       "      <th>Phosphorous</th>\n",
       "      <td>250000.0</td>\n",
       "      <td>21.122060</td>\n",
       "      <td>12.380870</td>\n",
       "      <td>0.0</td>\n",
       "      <td>10.00</td>\n",
       "      <td>21.0</td>\n",
       "      <td>32.00</td>\n",
       "      <td>42.0</td>\n",
       "    </tr>\n",
       "  </tbody>\n",
       "</table>\n",
       "</div>"
      ],
      "text/plain": [
       "                count           mean           std       min        25%  \\\n",
       "id           250000.0  874999.500000  72168.927986  750000.0  812499.75   \n",
       "Temparature  250000.0      31.491648      4.024093      25.0      28.00   \n",
       "Humidity     250000.0      61.045120      6.636372      50.0      55.00   \n",
       "Moisture     250000.0      45.190444     11.793167      25.0      35.00   \n",
       "Nitrogen     250000.0      23.139612     11.215956       4.0      13.00   \n",
       "Potassium    250000.0       9.487764      5.766860       0.0       4.00   \n",
       "Phosphorous  250000.0      21.122060     12.380870       0.0      10.00   \n",
       "\n",
       "                  50%        75%       max  \n",
       "id           874999.5  937499.25  999999.0  \n",
       "Temparature      31.0      35.00      38.0  \n",
       "Humidity         61.0      67.00      72.0  \n",
       "Moisture         45.0      55.00      65.0  \n",
       "Nitrogen         23.0      33.00      42.0  \n",
       "Potassium        10.0      14.00      19.0  \n",
       "Phosphorous      21.0      32.00      42.0  "
      ]
     },
     "execution_count": 65,
     "metadata": {},
     "output_type": "execute_result"
    }
   ],
   "source": [
    "df_test.describe().T"
   ]
  },
  {
   "cell_type": "code",
   "execution_count": 66,
   "id": "328692b8",
   "metadata": {
    "execution": {
     "iopub.execute_input": "2025-06-30T14:39:13.675433Z",
     "iopub.status.busy": "2025-06-30T14:39:13.675044Z",
     "iopub.status.idle": "2025-06-30T14:39:13.756445Z",
     "shell.execute_reply": "2025-06-30T14:39:13.755586Z"
    },
    "papermill": {
     "duration": 0.105404,
     "end_time": "2025-06-30T14:39:13.758394",
     "exception": false,
     "start_time": "2025-06-30T14:39:13.652990",
     "status": "completed"
    },
    "tags": []
   },
   "outputs": [
    {
     "data": {
      "text/html": [
       "<div>\n",
       "<style scoped>\n",
       "    .dataframe tbody tr th:only-of-type {\n",
       "        vertical-align: middle;\n",
       "    }\n",
       "\n",
       "    .dataframe tbody tr th {\n",
       "        vertical-align: top;\n",
       "    }\n",
       "\n",
       "    .dataframe thead th {\n",
       "        text-align: right;\n",
       "    }\n",
       "</style>\n",
       "<table border=\"1\" class=\"dataframe\">\n",
       "  <thead>\n",
       "    <tr style=\"text-align: right;\">\n",
       "      <th></th>\n",
       "      <th>Soil Type</th>\n",
       "      <th>Crop Type</th>\n",
       "    </tr>\n",
       "  </thead>\n",
       "  <tbody>\n",
       "    <tr>\n",
       "      <th>count</th>\n",
       "      <td>250000</td>\n",
       "      <td>250000</td>\n",
       "    </tr>\n",
       "    <tr>\n",
       "      <th>unique</th>\n",
       "      <td>5</td>\n",
       "      <td>11</td>\n",
       "    </tr>\n",
       "    <tr>\n",
       "      <th>top</th>\n",
       "      <td>Sandy</td>\n",
       "      <td>Paddy</td>\n",
       "    </tr>\n",
       "    <tr>\n",
       "      <th>freq</th>\n",
       "      <td>52323</td>\n",
       "      <td>28332</td>\n",
       "    </tr>\n",
       "  </tbody>\n",
       "</table>\n",
       "</div>"
      ],
      "text/plain": [
       "       Soil Type Crop Type\n",
       "count     250000    250000\n",
       "unique         5        11\n",
       "top        Sandy     Paddy\n",
       "freq       52323     28332"
      ]
     },
     "execution_count": 66,
     "metadata": {},
     "output_type": "execute_result"
    }
   ],
   "source": [
    "df_test.describe(exclude = np.number)"
   ]
  },
  {
   "cell_type": "markdown",
   "id": "81b3049a",
   "metadata": {
    "papermill": {
     "duration": 0.022295,
     "end_time": "2025-06-30T14:39:13.809598",
     "exception": false,
     "start_time": "2025-06-30T14:39:13.787303",
     "status": "completed"
    },
    "tags": []
   },
   "source": [
    "## Data wrangling & Preprocessing"
   ]
  },
  {
   "cell_type": "code",
   "execution_count": 67,
   "id": "8219b673",
   "metadata": {
    "execution": {
     "iopub.execute_input": "2025-06-30T14:39:13.853714Z",
     "iopub.status.busy": "2025-06-30T14:39:13.853312Z",
     "iopub.status.idle": "2025-06-30T14:39:13.993390Z",
     "shell.execute_reply": "2025-06-30T14:39:13.992538Z"
    },
    "papermill": {
     "duration": 0.164375,
     "end_time": "2025-06-30T14:39:13.994894",
     "exception": false,
     "start_time": "2025-06-30T14:39:13.830519",
     "status": "completed"
    },
    "tags": []
   },
   "outputs": [
    {
     "name": "stdout",
     "output_type": "stream",
     "text": [
      "Length: 250000\n",
      "Duplicates: 0\n"
     ]
    }
   ],
   "source": [
    "# We check that no duplicate data is found\n",
    "\n",
    "print(f\"Length: {len(df_test.duplicated())}\")\n",
    "\n",
    "print(f\"Duplicates: {df_test.duplicated().sum()}\")"
   ]
  },
  {
   "cell_type": "code",
   "execution_count": 68,
   "id": "54b27a94",
   "metadata": {
    "execution": {
     "iopub.execute_input": "2025-06-30T14:39:14.039672Z",
     "iopub.status.busy": "2025-06-30T14:39:14.039262Z",
     "iopub.status.idle": "2025-06-30T14:39:14.108533Z",
     "shell.execute_reply": "2025-06-30T14:39:14.107516Z"
    },
    "papermill": {
     "duration": 0.093509,
     "end_time": "2025-06-30T14:39:14.110267",
     "exception": false,
     "start_time": "2025-06-30T14:39:14.016758",
     "status": "completed"
    },
    "tags": []
   },
   "outputs": [
    {
     "data": {
      "text/html": [
       "<div>\n",
       "<style scoped>\n",
       "    .dataframe tbody tr th:only-of-type {\n",
       "        vertical-align: middle;\n",
       "    }\n",
       "\n",
       "    .dataframe tbody tr th {\n",
       "        vertical-align: top;\n",
       "    }\n",
       "\n",
       "    .dataframe thead th {\n",
       "        text-align: right;\n",
       "    }\n",
       "</style>\n",
       "<table border=\"1\" class=\"dataframe\">\n",
       "  <thead>\n",
       "    <tr style=\"text-align: right;\">\n",
       "      <th></th>\n",
       "      <th>Null Data</th>\n",
       "      <th>Percentage</th>\n",
       "    </tr>\n",
       "  </thead>\n",
       "  <tbody>\n",
       "    <tr>\n",
       "      <th>id</th>\n",
       "      <td>0</td>\n",
       "      <td>0.0</td>\n",
       "    </tr>\n",
       "    <tr>\n",
       "      <th>Temparature</th>\n",
       "      <td>0</td>\n",
       "      <td>0.0</td>\n",
       "    </tr>\n",
       "    <tr>\n",
       "      <th>Humidity</th>\n",
       "      <td>0</td>\n",
       "      <td>0.0</td>\n",
       "    </tr>\n",
       "    <tr>\n",
       "      <th>Moisture</th>\n",
       "      <td>0</td>\n",
       "      <td>0.0</td>\n",
       "    </tr>\n",
       "    <tr>\n",
       "      <th>Soil Type</th>\n",
       "      <td>0</td>\n",
       "      <td>0.0</td>\n",
       "    </tr>\n",
       "    <tr>\n",
       "      <th>Crop Type</th>\n",
       "      <td>0</td>\n",
       "      <td>0.0</td>\n",
       "    </tr>\n",
       "    <tr>\n",
       "      <th>Nitrogen</th>\n",
       "      <td>0</td>\n",
       "      <td>0.0</td>\n",
       "    </tr>\n",
       "    <tr>\n",
       "      <th>Potassium</th>\n",
       "      <td>0</td>\n",
       "      <td>0.0</td>\n",
       "    </tr>\n",
       "    <tr>\n",
       "      <th>Phosphorous</th>\n",
       "      <td>0</td>\n",
       "      <td>0.0</td>\n",
       "    </tr>\n",
       "  </tbody>\n",
       "</table>\n",
       "</div>"
      ],
      "text/plain": [
       "             Null Data  Percentage\n",
       "id                   0         0.0\n",
       "Temparature          0         0.0\n",
       "Humidity             0         0.0\n",
       "Moisture             0         0.0\n",
       "Soil Type            0         0.0\n",
       "Crop Type            0         0.0\n",
       "Nitrogen             0         0.0\n",
       "Potassium            0         0.0\n",
       "Phosphorous          0         0.0"
      ]
     },
     "execution_count": 68,
     "metadata": {},
     "output_type": "execute_result"
    }
   ],
   "source": [
    "# We confirm that there is no null values\n",
    "\n",
    "null_values_test = pd.DataFrame(\n",
    "        {f\"Null Data\" : df_test.isnull().sum(), \n",
    "         \"Percentage\" : (df_test.isnull().sum()) / (len(df_test)) * (100)})\n",
    "\n",
    "null_values_test"
   ]
  },
  {
   "cell_type": "code",
   "execution_count": 69,
   "id": "b70c8737",
   "metadata": {
    "execution": {
     "iopub.execute_input": "2025-06-30T14:39:14.155996Z",
     "iopub.status.busy": "2025-06-30T14:39:14.155016Z",
     "iopub.status.idle": "2025-06-30T14:39:14.165415Z",
     "shell.execute_reply": "2025-06-30T14:39:14.164523Z"
    },
    "papermill": {
     "duration": 0.034396,
     "end_time": "2025-06-30T14:39:14.167149",
     "exception": false,
     "start_time": "2025-06-30T14:39:14.132753",
     "status": "completed"
    },
    "tags": []
   },
   "outputs": [],
   "source": [
    "# We start by removing the variables that we will not use\n",
    "\n",
    "test_new = df_test.drop(columns=[\"id\"])"
   ]
  },
  {
   "cell_type": "code",
   "execution_count": 70,
   "id": "a930c3b0",
   "metadata": {
    "execution": {
     "iopub.execute_input": "2025-06-30T14:39:14.213002Z",
     "iopub.status.busy": "2025-06-30T14:39:14.212598Z",
     "iopub.status.idle": "2025-06-30T14:39:14.275441Z",
     "shell.execute_reply": "2025-06-30T14:39:14.274533Z"
    },
    "papermill": {
     "duration": 0.08734,
     "end_time": "2025-06-30T14:39:14.277154",
     "exception": false,
     "start_time": "2025-06-30T14:39:14.189814",
     "status": "completed"
    },
    "tags": []
   },
   "outputs": [],
   "source": [
    "# We separate the climate variables into bins\n",
    "\n",
    "test_new[\"Temparature_Bins\"] = pd.cut(test_new[\"Temparature\"], bins_tem, labels=labels_climate)\n",
    "test_new[\"Humidity_Bins\"] = pd.cut(test_new[\"Humidity\"], bins_hum, labels=labels_climate)\n",
    "test_new[\"Moisture_Bins\"] = pd.cut(test_new[\"Moisture\"], bins_moi, labels=labels_climate)\n",
    "\n",
    "# We separate the elements variables into bins\n",
    "\n",
    "test_new[\"Nitrogen_Bins\"] = pd.cut(test_new[\"Nitrogen\"], bins_n, labels=labels_elements)\n",
    "test_new[\"Potassium_Bins\"] = pd.cut(test_new[\"Potassium\"], bins_k, labels=labels_elements)\n",
    "test_new[\"Phosphorous_Bins\"] = pd.cut(test_new[\"Phosphorous\"], bins_p, labels=labels_elements)"
   ]
  },
  {
   "cell_type": "code",
   "execution_count": 71,
   "id": "3043a20f",
   "metadata": {
    "execution": {
     "iopub.execute_input": "2025-06-30T14:39:14.322294Z",
     "iopub.status.busy": "2025-06-30T14:39:14.321907Z",
     "iopub.status.idle": "2025-06-30T14:39:14.329481Z",
     "shell.execute_reply": "2025-06-30T14:39:14.328538Z"
    },
    "papermill": {
     "duration": 0.0314,
     "end_time": "2025-06-30T14:39:14.330957",
     "exception": false,
     "start_time": "2025-06-30T14:39:14.299557",
     "status": "completed"
    },
    "tags": []
   },
   "outputs": [
    {
     "data": {
      "text/plain": [
       "'\\n# Polynomial / transforms\\n\\ntest_new[\"tem_log\"] = np.log1p(test_new[\"Temparature\"])\\ntest_new[\"tem_sq\"]  = test_new[\"Temparature\"] ** 2\\ntest_new[\"tem_cubert\"] = np.cbrt(test_new[\"Temparature\"])\\n\\ntest_new[\"hum_log\"] = np.log1p(test_new[\"Humidity\"])\\ntest_new[\"hum_sq\"]  = test_new[\"Humidity\"] ** 2\\ntest_new[\"hum_cubert\"] = np.cbrt(test_new[\"Humidity\"])\\n\\ntest_new[\"moi_log\"] = np.log1p(test_new[\"Moisture\"])\\ntest_new[\"moi_sq\"]  = test_new[\"Moisture\"] ** 2\\ntest_new[\"moi_cubert\"] = np.cbrt(test_new[\"Moisture\"])\\n\\ntest_new[\"n_log\"] = np.log1p(test_new[\"Nitrogen\"])\\ntest_new[\"n_sq\"]  = test_new[\"Nitrogen\"] ** 2\\ntest_new[\"n_cubert\"] = np.cbrt(test_new[\"Nitrogen\"])\\n\\ntest_new[\"k_log\"] = np.log1p(test_new[\"Potassium\"])\\ntest_new[\"k_sq\"]  = test_new[\"Potassium\"] ** 2\\ntest_new[\"k_cubert\"] = np.cbrt(test_new[\"Potassium\"])\\n\\ntest_new[\"p_log\"] = np.log1p(test_new[\"Phosphorous\"])\\ntest_new[\"p_sq\"]  = test_new[\"Phosphorous\"] ** 2\\ntest_new[\"p_cubert\"] = np.cbrt(test_new[\"Phosphorous\"])\\n'"
      ]
     },
     "execution_count": 71,
     "metadata": {},
     "output_type": "execute_result"
    }
   ],
   "source": [
    "'''\n",
    "# Polynomial / transforms\n",
    "\n",
    "test_new[\"tem_log\"] = np.log1p(test_new[\"Temparature\"])\n",
    "test_new[\"tem_sq\"]  = test_new[\"Temparature\"] ** 2\n",
    "test_new[\"tem_cubert\"] = np.cbrt(test_new[\"Temparature\"])\n",
    "\n",
    "test_new[\"hum_log\"] = np.log1p(test_new[\"Humidity\"])\n",
    "test_new[\"hum_sq\"]  = test_new[\"Humidity\"] ** 2\n",
    "test_new[\"hum_cubert\"] = np.cbrt(test_new[\"Humidity\"])\n",
    "\n",
    "test_new[\"moi_log\"] = np.log1p(test_new[\"Moisture\"])\n",
    "test_new[\"moi_sq\"]  = test_new[\"Moisture\"] ** 2\n",
    "test_new[\"moi_cubert\"] = np.cbrt(test_new[\"Moisture\"])\n",
    "\n",
    "test_new[\"n_log\"] = np.log1p(test_new[\"Nitrogen\"])\n",
    "test_new[\"n_sq\"]  = test_new[\"Nitrogen\"] ** 2\n",
    "test_new[\"n_cubert\"] = np.cbrt(test_new[\"Nitrogen\"])\n",
    "\n",
    "test_new[\"k_log\"] = np.log1p(test_new[\"Potassium\"])\n",
    "test_new[\"k_sq\"]  = test_new[\"Potassium\"] ** 2\n",
    "test_new[\"k_cubert\"] = np.cbrt(test_new[\"Potassium\"])\n",
    "\n",
    "test_new[\"p_log\"] = np.log1p(test_new[\"Phosphorous\"])\n",
    "test_new[\"p_sq\"]  = test_new[\"Phosphorous\"] ** 2\n",
    "test_new[\"p_cubert\"] = np.cbrt(test_new[\"Phosphorous\"])\n",
    "'''"
   ]
  },
  {
   "cell_type": "code",
   "execution_count": 72,
   "id": "18cc0cc1",
   "metadata": {
    "execution": {
     "iopub.execute_input": "2025-06-30T14:39:14.380035Z",
     "iopub.status.busy": "2025-06-30T14:39:14.379633Z",
     "iopub.status.idle": "2025-06-30T14:39:14.669316Z",
     "shell.execute_reply": "2025-06-30T14:39:14.668496Z"
    },
    "papermill": {
     "duration": 0.316076,
     "end_time": "2025-06-30T14:39:14.670983",
     "exception": false,
     "start_time": "2025-06-30T14:39:14.354907",
     "status": "completed"
    },
    "tags": []
   },
   "outputs": [],
   "source": [
    "# We encode categorical variables\n",
    "\n",
    "test_cat_cols = test_new[[\"Soil Type\", \"Crop Type\"]]\n",
    "test_rest_cols = test_new.drop(columns=[\"Soil Type\", \"Crop Type\"])\n",
    "test_cat_enc = encoder.fit_transform(test_cat_cols)\n",
    "test_encoded = pd.concat([test_rest_cols, test_cat_enc], axis=1)"
   ]
  },
  {
   "cell_type": "code",
   "execution_count": 73,
   "id": "94342df0",
   "metadata": {
    "execution": {
     "iopub.execute_input": "2025-06-30T14:39:14.717091Z",
     "iopub.status.busy": "2025-06-30T14:39:14.716777Z",
     "iopub.status.idle": "2025-06-30T14:39:14.764487Z",
     "shell.execute_reply": "2025-06-30T14:39:14.763506Z"
    },
    "papermill": {
     "duration": 0.072167,
     "end_time": "2025-06-30T14:39:14.766064",
     "exception": false,
     "start_time": "2025-06-30T14:39:14.693897",
     "status": "completed"
    },
    "tags": []
   },
   "outputs": [
    {
     "name": "stdout",
     "output_type": "stream",
     "text": [
      "Temparature_Bins\n",
      "0.0    89313\n",
      "2.0    88986\n",
      "1.0    71701\n",
      "Name: count, dtype: int64\n",
      "Humidity_Bins\n",
      "1.0    86642\n",
      "0.0    86495\n",
      "2.0    76863\n",
      "Name: count, dtype: int64\n",
      "Moisture_Bins\n",
      "1.0    92250\n",
      "2.0    86522\n",
      "0.0    71228\n",
      "Name: count, dtype: int64\n",
      "Nitrogen_Bins\n",
      "1.0    97364\n",
      "2.0    77401\n",
      "0.0    75235\n",
      "Name: count, dtype: int64\n",
      "Potassium_Bins\n",
      "2.0    87702\n",
      "0.0    87318\n",
      "1.0    74980\n",
      "Name: count, dtype: int64\n",
      "Phosphorous_Bins\n",
      "0.0    91568\n",
      "1.0    88700\n",
      "2.0    69732\n",
      "Name: count, dtype: int64\n"
     ]
    }
   ],
   "source": [
    "mapper(test_encoded, \"Temparature_Bins\", climate_order)\n",
    "mapper(test_encoded, \"Humidity_Bins\", climate_order)\n",
    "mapper(test_encoded, \"Moisture_Bins\", climate_order)\n",
    "mapper(test_encoded, \"Nitrogen_Bins\", elements_order)\n",
    "mapper(test_encoded, \"Potassium_Bins\", elements_order)\n",
    "mapper(test_encoded, \"Phosphorous_Bins\", elements_order)"
   ]
  },
  {
   "cell_type": "code",
   "execution_count": 74,
   "id": "ef229834",
   "metadata": {
    "execution": {
     "iopub.execute_input": "2025-06-30T14:39:14.812274Z",
     "iopub.status.busy": "2025-06-30T14:39:14.811970Z",
     "iopub.status.idle": "2025-06-30T14:39:14.851241Z",
     "shell.execute_reply": "2025-06-30T14:39:14.850434Z"
    },
    "papermill": {
     "duration": 0.064599,
     "end_time": "2025-06-30T14:39:14.852739",
     "exception": false,
     "start_time": "2025-06-30T14:39:14.788140",
     "status": "completed"
    },
    "tags": []
   },
   "outputs": [
    {
     "name": "stdout",
     "output_type": "stream",
     "text": [
      "<class 'pandas.core.frame.DataFrame'>\n",
      "RangeIndex: 250000 entries, 0 to 249999\n",
      "Data columns (total 28 columns):\n",
      " #   Column                 Non-Null Count   Dtype  \n",
      "---  ------                 --------------   -----  \n",
      " 0   Temparature            250000 non-null  int64  \n",
      " 1   Humidity               250000 non-null  int64  \n",
      " 2   Moisture               250000 non-null  int64  \n",
      " 3   Nitrogen               250000 non-null  int64  \n",
      " 4   Potassium              250000 non-null  int64  \n",
      " 5   Phosphorous            250000 non-null  int64  \n",
      " 6   Temparature_Bins       250000 non-null  float64\n",
      " 7   Humidity_Bins          250000 non-null  float64\n",
      " 8   Moisture_Bins          250000 non-null  float64\n",
      " 9   Nitrogen_Bins          250000 non-null  float64\n",
      " 10  Potassium_Bins         250000 non-null  float64\n",
      " 11  Phosphorous_Bins       250000 non-null  float64\n",
      " 12  Soil Type_Black        250000 non-null  float64\n",
      " 13  Soil Type_Clayey       250000 non-null  float64\n",
      " 14  Soil Type_Loamy        250000 non-null  float64\n",
      " 15  Soil Type_Red          250000 non-null  float64\n",
      " 16  Soil Type_Sandy        250000 non-null  float64\n",
      " 17  Crop Type_Barley       250000 non-null  float64\n",
      " 18  Crop Type_Cotton       250000 non-null  float64\n",
      " 19  Crop Type_Ground Nuts  250000 non-null  float64\n",
      " 20  Crop Type_Maize        250000 non-null  float64\n",
      " 21  Crop Type_Millets      250000 non-null  float64\n",
      " 22  Crop Type_Oil seeds    250000 non-null  float64\n",
      " 23  Crop Type_Paddy        250000 non-null  float64\n",
      " 24  Crop Type_Pulses       250000 non-null  float64\n",
      " 25  Crop Type_Sugarcane    250000 non-null  float64\n",
      " 26  Crop Type_Tobacco      250000 non-null  float64\n",
      " 27  Crop Type_Wheat        250000 non-null  float64\n",
      "dtypes: float64(22), int64(6)\n",
      "memory usage: 53.4 MB\n"
     ]
    }
   ],
   "source": [
    "test_encoded.info()"
   ]
  },
  {
   "cell_type": "code",
   "execution_count": 75,
   "id": "6b398c69",
   "metadata": {
    "execution": {
     "iopub.execute_input": "2025-06-30T14:39:14.898214Z",
     "iopub.status.busy": "2025-06-30T14:39:14.897903Z",
     "iopub.status.idle": "2025-06-30T14:39:14.904307Z",
     "shell.execute_reply": "2025-06-30T14:39:14.903474Z"
    },
    "papermill": {
     "duration": 0.031529,
     "end_time": "2025-06-30T14:39:14.906083",
     "exception": false,
     "start_time": "2025-06-30T14:39:14.874554",
     "status": "completed"
    },
    "tags": []
   },
   "outputs": [
    {
     "data": {
      "text/plain": [
       "'\\n# Numerical variables to scale\\n\\ntest_numeric = test_encoded[[\\n    \"Temparature\",\\n    \"Humidity\",\\n    \"Moisture\",\\n    \"Nitrogen\",\\n    \"Potassium\",\\n    \"Phosphorous\",\\n    \"tem_sq\",\\n    \"hum_sq\",\\n    \"moi_sq\",\\n    \"n_sq\",\\n    \"k_sq\",\\n    \"p_sq\"\\n]]\\ntest_scale_num = scaler.transform(test_numeric)\\ntest_rest = test_encoded.drop(columns=[\\n    \"Temparature\",\\n    \"Humidity\",\\n    \"Moisture\",\\n    \"Nitrogen\",\\n    \"Potassium\",\\n    \"Phosphorous\",\\n    \"tem_sq\",\\n    \"hum_sq\",\\n    \"moi_sq\",\\n    \"n_sq\",\\n    \"k_sq\",\\n    \"p_sq\"\\n])\\ntest_end = pd.concat([test_scale_num, test_rest], axis=1)\\n'"
      ]
     },
     "execution_count": 75,
     "metadata": {},
     "output_type": "execute_result"
    }
   ],
   "source": [
    "'''\n",
    "# Numerical variables to scale\n",
    "\n",
    "test_numeric = test_encoded[[\n",
    "    \"Temparature\",\n",
    "    \"Humidity\",\n",
    "    \"Moisture\",\n",
    "    \"Nitrogen\",\n",
    "    \"Potassium\",\n",
    "    \"Phosphorous\",\n",
    "    \"tem_sq\",\n",
    "    \"hum_sq\",\n",
    "    \"moi_sq\",\n",
    "    \"n_sq\",\n",
    "    \"k_sq\",\n",
    "    \"p_sq\"\n",
    "]]\n",
    "test_scale_num = scaler.transform(test_numeric)\n",
    "test_rest = test_encoded.drop(columns=[\n",
    "    \"Temparature\",\n",
    "    \"Humidity\",\n",
    "    \"Moisture\",\n",
    "    \"Nitrogen\",\n",
    "    \"Potassium\",\n",
    "    \"Phosphorous\",\n",
    "    \"tem_sq\",\n",
    "    \"hum_sq\",\n",
    "    \"moi_sq\",\n",
    "    \"n_sq\",\n",
    "    \"k_sq\",\n",
    "    \"p_sq\"\n",
    "])\n",
    "test_end = pd.concat([test_scale_num, test_rest], axis=1)\n",
    "'''"
   ]
  },
  {
   "cell_type": "code",
   "execution_count": 76,
   "id": "ed25bac6",
   "metadata": {
    "execution": {
     "iopub.execute_input": "2025-06-30T14:39:14.952785Z",
     "iopub.status.busy": "2025-06-30T14:39:14.952482Z",
     "iopub.status.idle": "2025-06-30T14:39:15.054350Z",
     "shell.execute_reply": "2025-06-30T14:39:15.053438Z"
    },
    "papermill": {
     "duration": 0.127118,
     "end_time": "2025-06-30T14:39:15.056011",
     "exception": false,
     "start_time": "2025-06-30T14:39:14.928893",
     "status": "completed"
    },
    "tags": []
   },
   "outputs": [],
   "source": [
    "# Numerical variables to scale\n",
    "\n",
    "test_numeric = test_encoded[[\n",
    "    \"Temparature\", \"Humidity\", \"Moisture\",\n",
    "    \"Nitrogen\", \"Potassium\", \"Phosphorous\"\n",
    "]]\n",
    "test_scale_num = scaler.transform(test_numeric)\n",
    "test_rest = test_encoded.drop(columns=[\n",
    "    \"Temparature\", \"Humidity\", \"Moisture\",\n",
    "    \"Nitrogen\", \"Potassium\", \"Phosphorous\"\n",
    "])\n",
    "test_end = pd.concat([test_scale_num, test_rest], axis=1)"
   ]
  },
  {
   "cell_type": "code",
   "execution_count": 77,
   "id": "4adf6093",
   "metadata": {
    "execution": {
     "iopub.execute_input": "2025-06-30T14:39:15.100831Z",
     "iopub.status.busy": "2025-06-30T14:39:15.100540Z",
     "iopub.status.idle": "2025-06-30T14:39:15.499721Z",
     "shell.execute_reply": "2025-06-30T14:39:15.498393Z"
    },
    "papermill": {
     "duration": 0.423536,
     "end_time": "2025-06-30T14:39:15.501389",
     "exception": false,
     "start_time": "2025-06-30T14:39:15.077853",
     "status": "completed"
    },
    "tags": []
   },
   "outputs": [
    {
     "data": {
      "text/html": [
       "<div>\n",
       "<style scoped>\n",
       "    .dataframe tbody tr th:only-of-type {\n",
       "        vertical-align: middle;\n",
       "    }\n",
       "\n",
       "    .dataframe tbody tr th {\n",
       "        vertical-align: top;\n",
       "    }\n",
       "\n",
       "    .dataframe thead th {\n",
       "        text-align: right;\n",
       "    }\n",
       "</style>\n",
       "<table border=\"1\" class=\"dataframe\">\n",
       "  <thead>\n",
       "    <tr style=\"text-align: right;\">\n",
       "      <th></th>\n",
       "      <th>count</th>\n",
       "      <th>mean</th>\n",
       "      <th>std</th>\n",
       "      <th>min</th>\n",
       "      <th>25%</th>\n",
       "      <th>50%</th>\n",
       "      <th>75%</th>\n",
       "      <th>max</th>\n",
       "    </tr>\n",
       "  </thead>\n",
       "  <tbody>\n",
       "    <tr>\n",
       "      <th>Temparature</th>\n",
       "      <td>250000.0</td>\n",
       "      <td>0.499358</td>\n",
       "      <td>0.309546</td>\n",
       "      <td>0.0</td>\n",
       "      <td>0.230769</td>\n",
       "      <td>0.461538</td>\n",
       "      <td>0.769231</td>\n",
       "      <td>1.0</td>\n",
       "    </tr>\n",
       "    <tr>\n",
       "      <th>Humidity</th>\n",
       "      <td>250000.0</td>\n",
       "      <td>0.502051</td>\n",
       "      <td>0.301653</td>\n",
       "      <td>0.0</td>\n",
       "      <td>0.227273</td>\n",
       "      <td>0.500000</td>\n",
       "      <td>0.772727</td>\n",
       "      <td>1.0</td>\n",
       "    </tr>\n",
       "    <tr>\n",
       "      <th>Moisture</th>\n",
       "      <td>250000.0</td>\n",
       "      <td>0.504761</td>\n",
       "      <td>0.294829</td>\n",
       "      <td>0.0</td>\n",
       "      <td>0.250000</td>\n",
       "      <td>0.500000</td>\n",
       "      <td>0.750000</td>\n",
       "      <td>1.0</td>\n",
       "    </tr>\n",
       "    <tr>\n",
       "      <th>Nitrogen</th>\n",
       "      <td>250000.0</td>\n",
       "      <td>0.503674</td>\n",
       "      <td>0.295157</td>\n",
       "      <td>0.0</td>\n",
       "      <td>0.236842</td>\n",
       "      <td>0.500000</td>\n",
       "      <td>0.763158</td>\n",
       "      <td>1.0</td>\n",
       "    </tr>\n",
       "    <tr>\n",
       "      <th>Potassium</th>\n",
       "      <td>250000.0</td>\n",
       "      <td>0.499356</td>\n",
       "      <td>0.303519</td>\n",
       "      <td>0.0</td>\n",
       "      <td>0.210526</td>\n",
       "      <td>0.526316</td>\n",
       "      <td>0.736842</td>\n",
       "      <td>1.0</td>\n",
       "    </tr>\n",
       "    <tr>\n",
       "      <th>Phosphorous</th>\n",
       "      <td>250000.0</td>\n",
       "      <td>0.502906</td>\n",
       "      <td>0.294783</td>\n",
       "      <td>0.0</td>\n",
       "      <td>0.238095</td>\n",
       "      <td>0.500000</td>\n",
       "      <td>0.761905</td>\n",
       "      <td>1.0</td>\n",
       "    </tr>\n",
       "    <tr>\n",
       "      <th>Temparature_Bins</th>\n",
       "      <td>250000.0</td>\n",
       "      <td>0.998692</td>\n",
       "      <td>0.844510</td>\n",
       "      <td>0.0</td>\n",
       "      <td>0.000000</td>\n",
       "      <td>1.000000</td>\n",
       "      <td>2.000000</td>\n",
       "      <td>2.0</td>\n",
       "    </tr>\n",
       "    <tr>\n",
       "      <th>Humidity_Bins</th>\n",
       "      <td>250000.0</td>\n",
       "      <td>0.961472</td>\n",
       "      <td>0.807434</td>\n",
       "      <td>0.0</td>\n",
       "      <td>0.000000</td>\n",
       "      <td>1.000000</td>\n",
       "      <td>2.000000</td>\n",
       "      <td>2.0</td>\n",
       "    </tr>\n",
       "    <tr>\n",
       "      <th>Moisture_Bins</th>\n",
       "      <td>250000.0</td>\n",
       "      <td>1.061176</td>\n",
       "      <td>0.791997</td>\n",
       "      <td>0.0</td>\n",
       "      <td>0.000000</td>\n",
       "      <td>1.000000</td>\n",
       "      <td>2.000000</td>\n",
       "      <td>2.0</td>\n",
       "    </tr>\n",
       "    <tr>\n",
       "      <th>Nitrogen_Bins</th>\n",
       "      <td>250000.0</td>\n",
       "      <td>1.008664</td>\n",
       "      <td>0.781327</td>\n",
       "      <td>0.0</td>\n",
       "      <td>0.000000</td>\n",
       "      <td>1.000000</td>\n",
       "      <td>2.000000</td>\n",
       "      <td>2.0</td>\n",
       "    </tr>\n",
       "    <tr>\n",
       "      <th>Potassium_Bins</th>\n",
       "      <td>250000.0</td>\n",
       "      <td>1.001536</td>\n",
       "      <td>0.836708</td>\n",
       "      <td>0.0</td>\n",
       "      <td>0.000000</td>\n",
       "      <td>1.000000</td>\n",
       "      <td>2.000000</td>\n",
       "      <td>2.0</td>\n",
       "    </tr>\n",
       "    <tr>\n",
       "      <th>Phosphorous_Bins</th>\n",
       "      <td>250000.0</td>\n",
       "      <td>0.912656</td>\n",
       "      <td>0.798482</td>\n",
       "      <td>0.0</td>\n",
       "      <td>0.000000</td>\n",
       "      <td>1.000000</td>\n",
       "      <td>2.000000</td>\n",
       "      <td>2.0</td>\n",
       "    </tr>\n",
       "    <tr>\n",
       "      <th>Soil Type_Black</th>\n",
       "      <td>250000.0</td>\n",
       "      <td>0.200588</td>\n",
       "      <td>0.400441</td>\n",
       "      <td>0.0</td>\n",
       "      <td>0.000000</td>\n",
       "      <td>0.000000</td>\n",
       "      <td>0.000000</td>\n",
       "      <td>1.0</td>\n",
       "    </tr>\n",
       "    <tr>\n",
       "      <th>Soil Type_Clayey</th>\n",
       "      <td>250000.0</td>\n",
       "      <td>0.199168</td>\n",
       "      <td>0.399375</td>\n",
       "      <td>0.0</td>\n",
       "      <td>0.000000</td>\n",
       "      <td>0.000000</td>\n",
       "      <td>0.000000</td>\n",
       "      <td>1.0</td>\n",
       "    </tr>\n",
       "    <tr>\n",
       "      <th>Soil Type_Loamy</th>\n",
       "      <td>250000.0</td>\n",
       "      <td>0.193516</td>\n",
       "      <td>0.395055</td>\n",
       "      <td>0.0</td>\n",
       "      <td>0.000000</td>\n",
       "      <td>0.000000</td>\n",
       "      <td>0.000000</td>\n",
       "      <td>1.0</td>\n",
       "    </tr>\n",
       "    <tr>\n",
       "      <th>Soil Type_Red</th>\n",
       "      <td>250000.0</td>\n",
       "      <td>0.197436</td>\n",
       "      <td>0.398065</td>\n",
       "      <td>0.0</td>\n",
       "      <td>0.000000</td>\n",
       "      <td>0.000000</td>\n",
       "      <td>0.000000</td>\n",
       "      <td>1.0</td>\n",
       "    </tr>\n",
       "    <tr>\n",
       "      <th>Soil Type_Sandy</th>\n",
       "      <td>250000.0</td>\n",
       "      <td>0.209292</td>\n",
       "      <td>0.406804</td>\n",
       "      <td>0.0</td>\n",
       "      <td>0.000000</td>\n",
       "      <td>0.000000</td>\n",
       "      <td>0.000000</td>\n",
       "      <td>1.0</td>\n",
       "    </tr>\n",
       "    <tr>\n",
       "      <th>Crop Type_Barley</th>\n",
       "      <td>250000.0</td>\n",
       "      <td>0.086864</td>\n",
       "      <td>0.281636</td>\n",
       "      <td>0.0</td>\n",
       "      <td>0.000000</td>\n",
       "      <td>0.000000</td>\n",
       "      <td>0.000000</td>\n",
       "      <td>1.0</td>\n",
       "    </tr>\n",
       "    <tr>\n",
       "      <th>Crop Type_Cotton</th>\n",
       "      <td>250000.0</td>\n",
       "      <td>0.092364</td>\n",
       "      <td>0.289540</td>\n",
       "      <td>0.0</td>\n",
       "      <td>0.000000</td>\n",
       "      <td>0.000000</td>\n",
       "      <td>0.000000</td>\n",
       "      <td>1.0</td>\n",
       "    </tr>\n",
       "    <tr>\n",
       "      <th>Crop Type_Ground Nuts</th>\n",
       "      <td>250000.0</td>\n",
       "      <td>0.079728</td>\n",
       "      <td>0.270872</td>\n",
       "      <td>0.0</td>\n",
       "      <td>0.000000</td>\n",
       "      <td>0.000000</td>\n",
       "      <td>0.000000</td>\n",
       "      <td>1.0</td>\n",
       "    </tr>\n",
       "    <tr>\n",
       "      <th>Crop Type_Maize</th>\n",
       "      <td>250000.0</td>\n",
       "      <td>0.083612</td>\n",
       "      <td>0.276806</td>\n",
       "      <td>0.0</td>\n",
       "      <td>0.000000</td>\n",
       "      <td>0.000000</td>\n",
       "      <td>0.000000</td>\n",
       "      <td>1.0</td>\n",
       "    </tr>\n",
       "    <tr>\n",
       "      <th>Crop Type_Millets</th>\n",
       "      <td>250000.0</td>\n",
       "      <td>0.087556</td>\n",
       "      <td>0.282649</td>\n",
       "      <td>0.0</td>\n",
       "      <td>0.000000</td>\n",
       "      <td>0.000000</td>\n",
       "      <td>0.000000</td>\n",
       "      <td>1.0</td>\n",
       "    </tr>\n",
       "    <tr>\n",
       "      <th>Crop Type_Oil seeds</th>\n",
       "      <td>250000.0</td>\n",
       "      <td>0.086108</td>\n",
       "      <td>0.280524</td>\n",
       "      <td>0.0</td>\n",
       "      <td>0.000000</td>\n",
       "      <td>0.000000</td>\n",
       "      <td>0.000000</td>\n",
       "      <td>1.0</td>\n",
       "    </tr>\n",
       "    <tr>\n",
       "      <th>Crop Type_Paddy</th>\n",
       "      <td>250000.0</td>\n",
       "      <td>0.113328</td>\n",
       "      <td>0.316994</td>\n",
       "      <td>0.0</td>\n",
       "      <td>0.000000</td>\n",
       "      <td>0.000000</td>\n",
       "      <td>0.000000</td>\n",
       "      <td>1.0</td>\n",
       "    </tr>\n",
       "    <tr>\n",
       "      <th>Crop Type_Pulses</th>\n",
       "      <td>250000.0</td>\n",
       "      <td>0.104884</td>\n",
       "      <td>0.306405</td>\n",
       "      <td>0.0</td>\n",
       "      <td>0.000000</td>\n",
       "      <td>0.000000</td>\n",
       "      <td>0.000000</td>\n",
       "      <td>1.0</td>\n",
       "    </tr>\n",
       "    <tr>\n",
       "      <th>Crop Type_Sugarcane</th>\n",
       "      <td>250000.0</td>\n",
       "      <td>0.086268</td>\n",
       "      <td>0.280760</td>\n",
       "      <td>0.0</td>\n",
       "      <td>0.000000</td>\n",
       "      <td>0.000000</td>\n",
       "      <td>0.000000</td>\n",
       "      <td>1.0</td>\n",
       "    </tr>\n",
       "    <tr>\n",
       "      <th>Crop Type_Tobacco</th>\n",
       "      <td>250000.0</td>\n",
       "      <td>0.090912</td>\n",
       "      <td>0.287485</td>\n",
       "      <td>0.0</td>\n",
       "      <td>0.000000</td>\n",
       "      <td>0.000000</td>\n",
       "      <td>0.000000</td>\n",
       "      <td>1.0</td>\n",
       "    </tr>\n",
       "    <tr>\n",
       "      <th>Crop Type_Wheat</th>\n",
       "      <td>250000.0</td>\n",
       "      <td>0.088376</td>\n",
       "      <td>0.283842</td>\n",
       "      <td>0.0</td>\n",
       "      <td>0.000000</td>\n",
       "      <td>0.000000</td>\n",
       "      <td>0.000000</td>\n",
       "      <td>1.0</td>\n",
       "    </tr>\n",
       "  </tbody>\n",
       "</table>\n",
       "</div>"
      ],
      "text/plain": [
       "                          count      mean       std  min       25%       50%  \\\n",
       "Temparature            250000.0  0.499358  0.309546  0.0  0.230769  0.461538   \n",
       "Humidity               250000.0  0.502051  0.301653  0.0  0.227273  0.500000   \n",
       "Moisture               250000.0  0.504761  0.294829  0.0  0.250000  0.500000   \n",
       "Nitrogen               250000.0  0.503674  0.295157  0.0  0.236842  0.500000   \n",
       "Potassium              250000.0  0.499356  0.303519  0.0  0.210526  0.526316   \n",
       "Phosphorous            250000.0  0.502906  0.294783  0.0  0.238095  0.500000   \n",
       "Temparature_Bins       250000.0  0.998692  0.844510  0.0  0.000000  1.000000   \n",
       "Humidity_Bins          250000.0  0.961472  0.807434  0.0  0.000000  1.000000   \n",
       "Moisture_Bins          250000.0  1.061176  0.791997  0.0  0.000000  1.000000   \n",
       "Nitrogen_Bins          250000.0  1.008664  0.781327  0.0  0.000000  1.000000   \n",
       "Potassium_Bins         250000.0  1.001536  0.836708  0.0  0.000000  1.000000   \n",
       "Phosphorous_Bins       250000.0  0.912656  0.798482  0.0  0.000000  1.000000   \n",
       "Soil Type_Black        250000.0  0.200588  0.400441  0.0  0.000000  0.000000   \n",
       "Soil Type_Clayey       250000.0  0.199168  0.399375  0.0  0.000000  0.000000   \n",
       "Soil Type_Loamy        250000.0  0.193516  0.395055  0.0  0.000000  0.000000   \n",
       "Soil Type_Red          250000.0  0.197436  0.398065  0.0  0.000000  0.000000   \n",
       "Soil Type_Sandy        250000.0  0.209292  0.406804  0.0  0.000000  0.000000   \n",
       "Crop Type_Barley       250000.0  0.086864  0.281636  0.0  0.000000  0.000000   \n",
       "Crop Type_Cotton       250000.0  0.092364  0.289540  0.0  0.000000  0.000000   \n",
       "Crop Type_Ground Nuts  250000.0  0.079728  0.270872  0.0  0.000000  0.000000   \n",
       "Crop Type_Maize        250000.0  0.083612  0.276806  0.0  0.000000  0.000000   \n",
       "Crop Type_Millets      250000.0  0.087556  0.282649  0.0  0.000000  0.000000   \n",
       "Crop Type_Oil seeds    250000.0  0.086108  0.280524  0.0  0.000000  0.000000   \n",
       "Crop Type_Paddy        250000.0  0.113328  0.316994  0.0  0.000000  0.000000   \n",
       "Crop Type_Pulses       250000.0  0.104884  0.306405  0.0  0.000000  0.000000   \n",
       "Crop Type_Sugarcane    250000.0  0.086268  0.280760  0.0  0.000000  0.000000   \n",
       "Crop Type_Tobacco      250000.0  0.090912  0.287485  0.0  0.000000  0.000000   \n",
       "Crop Type_Wheat        250000.0  0.088376  0.283842  0.0  0.000000  0.000000   \n",
       "\n",
       "                            75%  max  \n",
       "Temparature            0.769231  1.0  \n",
       "Humidity               0.772727  1.0  \n",
       "Moisture               0.750000  1.0  \n",
       "Nitrogen               0.763158  1.0  \n",
       "Potassium              0.736842  1.0  \n",
       "Phosphorous            0.761905  1.0  \n",
       "Temparature_Bins       2.000000  2.0  \n",
       "Humidity_Bins          2.000000  2.0  \n",
       "Moisture_Bins          2.000000  2.0  \n",
       "Nitrogen_Bins          2.000000  2.0  \n",
       "Potassium_Bins         2.000000  2.0  \n",
       "Phosphorous_Bins       2.000000  2.0  \n",
       "Soil Type_Black        0.000000  1.0  \n",
       "Soil Type_Clayey       0.000000  1.0  \n",
       "Soil Type_Loamy        0.000000  1.0  \n",
       "Soil Type_Red          0.000000  1.0  \n",
       "Soil Type_Sandy        0.000000  1.0  \n",
       "Crop Type_Barley       0.000000  1.0  \n",
       "Crop Type_Cotton       0.000000  1.0  \n",
       "Crop Type_Ground Nuts  0.000000  1.0  \n",
       "Crop Type_Maize        0.000000  1.0  \n",
       "Crop Type_Millets      0.000000  1.0  \n",
       "Crop Type_Oil seeds    0.000000  1.0  \n",
       "Crop Type_Paddy        0.000000  1.0  \n",
       "Crop Type_Pulses       0.000000  1.0  \n",
       "Crop Type_Sugarcane    0.000000  1.0  \n",
       "Crop Type_Tobacco      0.000000  1.0  \n",
       "Crop Type_Wheat        0.000000  1.0  "
      ]
     },
     "execution_count": 77,
     "metadata": {},
     "output_type": "execute_result"
    }
   ],
   "source": [
    "test_end.describe().T"
   ]
  },
  {
   "cell_type": "code",
   "execution_count": 78,
   "id": "13550d79",
   "metadata": {
    "execution": {
     "iopub.execute_input": "2025-06-30T14:39:15.629722Z",
     "iopub.status.busy": "2025-06-30T14:39:15.629405Z",
     "iopub.status.idle": "2025-06-30T14:39:16.277214Z",
     "shell.execute_reply": "2025-06-30T14:39:16.276222Z"
    },
    "papermill": {
     "duration": 0.754166,
     "end_time": "2025-06-30T14:39:16.279043",
     "exception": false,
     "start_time": "2025-06-30T14:39:15.524877",
     "status": "completed"
    },
    "tags": []
   },
   "outputs": [],
   "source": [
    "test_x_comp = test_end[['Soil Type_Black',\n",
    "       'Soil Type_Clayey', 'Soil Type_Loamy', 'Soil Type_Red',\n",
    "       'Soil Type_Sandy', 'Crop Type_Barley', 'Crop Type_Cotton',\n",
    "       'Crop Type_Ground Nuts', 'Crop Type_Maize', 'Crop Type_Millets',\n",
    "       'Crop Type_Oil seeds', 'Crop Type_Paddy', 'Crop Type_Pulses',\n",
    "       'Crop Type_Sugarcane', 'Crop Type_Tobacco', 'Crop Type_Wheat']]\n",
    "\n",
    "test_x_pca = pca.fit_transform(test_x_comp)\n",
    "\n",
    "test_x_keep = test_end.drop(columns=['Soil Type_Black',\n",
    "       'Soil Type_Clayey', 'Soil Type_Loamy', 'Soil Type_Red',\n",
    "       'Soil Type_Sandy', 'Crop Type_Barley', 'Crop Type_Cotton',\n",
    "       'Crop Type_Ground Nuts', 'Crop Type_Maize', 'Crop Type_Millets',\n",
    "       'Crop Type_Oil seeds', 'Crop Type_Paddy', 'Crop Type_Pulses',\n",
    "       'Crop Type_Sugarcane', 'Crop Type_Tobacco', 'Crop Type_Wheat'])\n",
    "\n",
    "test_end_new = pd.concat([test_x_keep, test_x_pca], axis=1)"
   ]
  },
  {
   "cell_type": "code",
   "execution_count": 79,
   "id": "11ec9c1e",
   "metadata": {
    "execution": {
     "iopub.execute_input": "2025-06-30T14:39:16.327832Z",
     "iopub.status.busy": "2025-06-30T14:39:16.327537Z",
     "iopub.status.idle": "2025-06-30T14:39:16.332125Z",
     "shell.execute_reply": "2025-06-30T14:39:16.331243Z"
    },
    "papermill": {
     "duration": 0.031925,
     "end_time": "2025-06-30T14:39:16.333712",
     "exception": false,
     "start_time": "2025-06-30T14:39:16.301787",
     "status": "completed"
    },
    "tags": []
   },
   "outputs": [],
   "source": [
    "# We remove the variables that we will not use\n",
    "\n",
    "#test_end_new = test_end.drop(columns=[])"
   ]
  },
  {
   "cell_type": "code",
   "execution_count": 80,
   "id": "4a03c4c4",
   "metadata": {
    "execution": {
     "iopub.execute_input": "2025-06-30T14:39:16.380721Z",
     "iopub.status.busy": "2025-06-30T14:39:16.380369Z",
     "iopub.status.idle": "2025-06-30T14:39:16.404953Z",
     "shell.execute_reply": "2025-06-30T14:39:16.404178Z"
    },
    "papermill": {
     "duration": 0.049885,
     "end_time": "2025-06-30T14:39:16.406431",
     "exception": false,
     "start_time": "2025-06-30T14:39:16.356546",
     "status": "completed"
    },
    "tags": []
   },
   "outputs": [
    {
     "name": "stdout",
     "output_type": "stream",
     "text": [
      "<class 'pandas.core.frame.DataFrame'>\n",
      "RangeIndex: 250000 entries, 0 to 249999\n",
      "Data columns (total 14 columns):\n",
      " #   Column            Non-Null Count   Dtype  \n",
      "---  ------            --------------   -----  \n",
      " 0   Temparature       250000 non-null  float64\n",
      " 1   Humidity          250000 non-null  float64\n",
      " 2   Moisture          250000 non-null  float64\n",
      " 3   Nitrogen          250000 non-null  float64\n",
      " 4   Potassium         250000 non-null  float64\n",
      " 5   Phosphorous       250000 non-null  float64\n",
      " 6   Temparature_Bins  250000 non-null  float64\n",
      " 7   Humidity_Bins     250000 non-null  float64\n",
      " 8   Moisture_Bins     250000 non-null  float64\n",
      " 9   Nitrogen_Bins     250000 non-null  float64\n",
      " 10  Potassium_Bins    250000 non-null  float64\n",
      " 11  Phosphorous_Bins  250000 non-null  float64\n",
      " 12  pca0              250000 non-null  float64\n",
      " 13  pca1              250000 non-null  float64\n",
      "dtypes: float64(14)\n",
      "memory usage: 26.7 MB\n"
     ]
    }
   ],
   "source": [
    "test_end_new.info()"
   ]
  },
  {
   "cell_type": "markdown",
   "id": "333aa05c",
   "metadata": {
    "papermill": {
     "duration": 0.022925,
     "end_time": "2025-06-30T14:39:16.451372",
     "exception": false,
     "start_time": "2025-06-30T14:39:16.428447",
     "status": "completed"
    },
    "tags": []
   },
   "source": [
    "## Apply the Model & Submission File"
   ]
  },
  {
   "cell_type": "code",
   "execution_count": 81,
   "id": "789aec8e",
   "metadata": {
    "execution": {
     "iopub.execute_input": "2025-06-30T14:39:16.499025Z",
     "iopub.status.busy": "2025-06-30T14:39:16.498175Z",
     "iopub.status.idle": "2025-06-30T14:39:52.267871Z",
     "shell.execute_reply": "2025-06-30T14:39:52.266778Z"
    },
    "papermill": {
     "duration": 35.796085,
     "end_time": "2025-06-30T14:39:52.269840",
     "exception": false,
     "start_time": "2025-06-30T14:39:16.473755",
     "status": "completed"
    },
    "tags": []
   },
   "outputs": [],
   "source": [
    "# We apply the trained model\n",
    "\n",
    "test_pred_prob = final_model.predict_proba(test_end_new)\n",
    "test_top_3 = np.argsort(-test_pred_prob, axis=1)[:, :3]\n",
    "\n",
    "top_3_fertilizer_names = []\n",
    "for row_indices in test_top_3:\n",
    "    valid_indices = [idx for idx in row_indices if idx < len(le.classes_)]\n",
    "    names = le.inverse_transform(valid_indices)\n",
    "    top_3_fertilizer_names.append(names)\n",
    "\n",
    "formatted_predictions = [\" \".join(names) for names in top_3_fertilizer_names]"
   ]
  },
  {
   "cell_type": "code",
   "execution_count": 82,
   "id": "1bdb77de",
   "metadata": {
    "execution": {
     "iopub.execute_input": "2025-06-30T14:39:52.317521Z",
     "iopub.status.busy": "2025-06-30T14:39:52.316651Z",
     "iopub.status.idle": "2025-06-30T14:39:52.321609Z",
     "shell.execute_reply": "2025-06-30T14:39:52.320692Z"
    },
    "papermill": {
     "duration": 0.029934,
     "end_time": "2025-06-30T14:39:52.323097",
     "exception": false,
     "start_time": "2025-06-30T14:39:52.293163",
     "status": "completed"
    },
    "tags": []
   },
   "outputs": [
    {
     "name": "stdout",
     "output_type": "stream",
     "text": [
      "Total predictions:  250000 \n",
      "\n"
     ]
    }
   ],
   "source": [
    "# We review the result\n",
    "\n",
    "print(\"Total predictions: \", len(formatted_predictions), \"\\n\")"
   ]
  },
  {
   "cell_type": "code",
   "execution_count": 83,
   "id": "e8e99966",
   "metadata": {
    "execution": {
     "iopub.execute_input": "2025-06-30T14:39:52.371513Z",
     "iopub.status.busy": "2025-06-30T14:39:52.371169Z",
     "iopub.status.idle": "2025-06-30T14:39:52.401540Z",
     "shell.execute_reply": "2025-06-30T14:39:52.400698Z"
    },
    "papermill": {
     "duration": 0.056532,
     "end_time": "2025-06-30T14:39:52.403254",
     "exception": false,
     "start_time": "2025-06-30T14:39:52.346722",
     "status": "completed"
    },
    "tags": []
   },
   "outputs": [
    {
     "data": {
      "text/html": [
       "<div>\n",
       "<style scoped>\n",
       "    .dataframe tbody tr th:only-of-type {\n",
       "        vertical-align: middle;\n",
       "    }\n",
       "\n",
       "    .dataframe tbody tr th {\n",
       "        vertical-align: top;\n",
       "    }\n",
       "\n",
       "    .dataframe thead th {\n",
       "        text-align: right;\n",
       "    }\n",
       "</style>\n",
       "<table border=\"1\" class=\"dataframe\">\n",
       "  <thead>\n",
       "    <tr style=\"text-align: right;\">\n",
       "      <th></th>\n",
       "      <th>id</th>\n",
       "      <th>Fertilizer Name</th>\n",
       "    </tr>\n",
       "  </thead>\n",
       "  <tbody>\n",
       "    <tr>\n",
       "      <th>0</th>\n",
       "      <td>750000</td>\n",
       "      <td>28-28 10-26-26 DAP</td>\n",
       "    </tr>\n",
       "    <tr>\n",
       "      <th>1</th>\n",
       "      <td>750001</td>\n",
       "      <td>17-17-17 20-20 10-26-26</td>\n",
       "    </tr>\n",
       "    <tr>\n",
       "      <th>2</th>\n",
       "      <td>750002</td>\n",
       "      <td>20-20 10-26-26 Urea</td>\n",
       "    </tr>\n",
       "    <tr>\n",
       "      <th>3</th>\n",
       "      <td>750003</td>\n",
       "      <td>14-35-14 DAP Urea</td>\n",
       "    </tr>\n",
       "    <tr>\n",
       "      <th>4</th>\n",
       "      <td>750004</td>\n",
       "      <td>20-20 10-26-26 28-28</td>\n",
       "    </tr>\n",
       "  </tbody>\n",
       "</table>\n",
       "</div>"
      ],
      "text/plain": [
       "       id          Fertilizer Name\n",
       "0  750000       28-28 10-26-26 DAP\n",
       "1  750001  17-17-17 20-20 10-26-26\n",
       "2  750002      20-20 10-26-26 Urea\n",
       "3  750003        14-35-14 DAP Urea\n",
       "4  750004     20-20 10-26-26 28-28"
      ]
     },
     "execution_count": 83,
     "metadata": {},
     "output_type": "execute_result"
    }
   ],
   "source": [
    "# We create the dataframe\n",
    "\n",
    "fertilizer_submission = pd.DataFrame({\n",
    "    \"id\" : df_test[\"id\"], \n",
    "    \"Fertilizer Name\" : formatted_predictions\n",
    "})\n",
    "\n",
    "fertilizer_submission.head()"
   ]
  },
  {
   "cell_type": "code",
   "execution_count": 84,
   "id": "94e17a1a",
   "metadata": {
    "execution": {
     "iopub.execute_input": "2025-06-30T14:39:52.449601Z",
     "iopub.status.busy": "2025-06-30T14:39:52.449291Z",
     "iopub.status.idle": "2025-06-30T14:39:52.456493Z",
     "shell.execute_reply": "2025-06-30T14:39:52.455703Z"
    },
    "papermill": {
     "duration": 0.032128,
     "end_time": "2025-06-30T14:39:52.458127",
     "exception": false,
     "start_time": "2025-06-30T14:39:52.425999",
     "status": "completed"
    },
    "tags": []
   },
   "outputs": [
    {
     "name": "stdout",
     "output_type": "stream",
     "text": [
      "Shape Sample Submission: (250000, 2) \n",
      "Shape Fertilizer Submission: (250000, 2)\n",
      "\n",
      "        id         Fertilizer Name\n",
      "0  750000  14-35-14 10-26-26 Urea\n",
      "1  750001  14-35-14 10-26-26 Urea\n",
      "2  750002  14-35-14 10-26-26 Urea\n",
      "3  750003  14-35-14 10-26-26 Urea\n",
      "4  750004  14-35-14 10-26-26 Urea\n"
     ]
    }
   ],
   "source": [
    "# We compare the results with the sample\n",
    "\n",
    "print(\n",
    "    f\"Shape Sample Submission: {fertilizer_sample.shape}\",\n",
    "    f\"\\nShape Fertilizer Submission: {fertilizer_submission.shape}\"\n",
    ")\n",
    "print(\"\\n\", fertilizer_sample.head())"
   ]
  },
  {
   "cell_type": "code",
   "execution_count": 85,
   "id": "6e662c98",
   "metadata": {
    "execution": {
     "iopub.execute_input": "2025-06-30T14:39:52.506925Z",
     "iopub.status.busy": "2025-06-30T14:39:52.506598Z",
     "iopub.status.idle": "2025-06-30T14:39:52.893509Z",
     "shell.execute_reply": "2025-06-30T14:39:52.892643Z"
    },
    "papermill": {
     "duration": 0.413233,
     "end_time": "2025-06-30T14:39:52.895197",
     "exception": false,
     "start_time": "2025-06-30T14:39:52.481964",
     "status": "completed"
    },
    "tags": []
   },
   "outputs": [],
   "source": [
    "# We convert the dataframe to a csv file\n",
    "\n",
    "fertilizer_submission.to_csv(\"submission.csv\", index=False)"
   ]
  }
 ],
 "metadata": {
  "kaggle": {
   "accelerator": "none",
   "dataSources": [
    {
     "databundleVersionId": 12184666,
     "sourceId": 91717,
     "sourceType": "competition"
    }
   ],
   "dockerImageVersionId": 31040,
   "isGpuEnabled": false,
   "isInternetEnabled": true,
   "language": "python",
   "sourceType": "notebook"
  },
  "kernelspec": {
   "display_name": "Python 3",
   "language": "python",
   "name": "python3"
  },
  "language_info": {
   "codemirror_mode": {
    "name": "ipython",
    "version": 3
   },
   "file_extension": ".py",
   "mimetype": "text/x-python",
   "name": "python",
   "nbconvert_exporter": "python",
   "pygments_lexer": "ipython3",
   "version": "3.11.11"
  },
  "papermill": {
   "default_parameters": {},
   "duration": 2388.825663,
   "end_time": "2025-06-30T14:39:54.150732",
   "environment_variables": {},
   "exception": null,
   "input_path": "__notebook__.ipynb",
   "output_path": "__notebook__.ipynb",
   "parameters": {},
   "start_time": "2025-06-30T14:00:05.325069",
   "version": "2.6.0"
  }
 },
 "nbformat": 4,
 "nbformat_minor": 5
}

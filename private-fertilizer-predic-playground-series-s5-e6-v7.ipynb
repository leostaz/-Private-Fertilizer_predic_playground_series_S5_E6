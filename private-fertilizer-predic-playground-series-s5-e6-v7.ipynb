{
 "cells": [
  {
   "cell_type": "markdown",
   "id": "c38cb081",
   "metadata": {
    "papermill": {
     "duration": 0.018304,
     "end_time": "2025-07-01T00:17:46.656567",
     "exception": false,
     "start_time": "2025-07-01T00:17:46.638263",
     "status": "completed"
    },
    "tags": []
   },
   "source": [
    "# Predicting Optimal Fertilizers"
   ]
  },
  {
   "cell_type": "code",
   "execution_count": 1,
   "id": "52b750ee",
   "metadata": {
    "_cell_guid": "b1076dfc-b9ad-4769-8c92-a6c4dae69d19",
    "_uuid": "8f2839f25d086af736a60e9eeb907d3b93b6e0e5",
    "execution": {
     "iopub.execute_input": "2025-07-01T00:17:46.690513Z",
     "iopub.status.busy": "2025-07-01T00:17:46.690225Z",
     "iopub.status.idle": "2025-07-01T00:17:46.699542Z",
     "shell.execute_reply": "2025-07-01T00:17:46.698697Z"
    },
    "papermill": {
     "duration": 0.027225,
     "end_time": "2025-07-01T00:17:46.700848",
     "exception": false,
     "start_time": "2025-07-01T00:17:46.673623",
     "status": "completed"
    },
    "tags": []
   },
   "outputs": [
    {
     "name": "stdout",
     "output_type": "stream",
     "text": [
      "/kaggle/input/playground-series-s5e6/sample_submission.csv\n",
      "/kaggle/input/playground-series-s5e6/train.csv\n",
      "/kaggle/input/playground-series-s5e6/test.csv\n"
     ]
    }
   ],
   "source": [
    "import os\n",
    "for dirname, _, filenames in os.walk('/kaggle/input'):\n",
    "    for filename in filenames:\n",
    "        print(os.path.join(dirname, filename))\n",
    "\n",
    "import warnings\n",
    "warnings.filterwarnings(\"ignore\")"
   ]
  },
  {
   "cell_type": "markdown",
   "id": "492451dc",
   "metadata": {
    "papermill": {
     "duration": 0.015649,
     "end_time": "2025-07-01T00:17:46.732837",
     "exception": false,
     "start_time": "2025-07-01T00:17:46.717188",
     "status": "completed"
    },
    "tags": []
   },
   "source": [
    "Private-fertilizer-predic-playground-series-s5-e6 Version 1 notebook Full EDA\n",
    "\n",
    "Public notebook: https://www.kaggle.com/code/les1781/optimal-fertilizer-predict-playground-series-s5-e6"
   ]
  },
  {
   "cell_type": "markdown",
   "id": "a1959093",
   "metadata": {
    "papermill": {
     "duration": 0.015452,
     "end_time": "2025-07-01T00:17:46.763934",
     "exception": false,
     "start_time": "2025-07-01T00:17:46.748482",
     "status": "completed"
    },
    "tags": []
   },
   "source": [
    "# Libraries"
   ]
  },
  {
   "cell_type": "code",
   "execution_count": 2,
   "id": "091441cc",
   "metadata": {
    "execution": {
     "iopub.execute_input": "2025-07-01T00:17:46.797263Z",
     "iopub.status.busy": "2025-07-01T00:17:46.796901Z",
     "iopub.status.idle": "2025-07-01T00:17:56.734728Z",
     "shell.execute_reply": "2025-07-01T00:17:56.734018Z"
    },
    "papermill": {
     "duration": 9.956813,
     "end_time": "2025-07-01T00:17:56.736406",
     "exception": false,
     "start_time": "2025-07-01T00:17:46.779593",
     "status": "completed"
    },
    "tags": []
   },
   "outputs": [],
   "source": [
    "import numpy as np\n",
    "import pandas as pd\n",
    "import matplotlib as mpl\n",
    "import matplotlib.pyplot as plt\n",
    "import seaborn as sns\n",
    "\n",
    "from sklearn.preprocessing import (\n",
    "    LabelEncoder,    \n",
    "    OneHotEncoder,\n",
    "    StandardScaler,\n",
    "    MinMaxScaler\n",
    ")\n",
    "from sklearn.feature_selection import mutual_info_classif\n",
    "from sklearn.model_selection import train_test_split, StratifiedKFold, RandomizedSearchCV\n",
    "from sklearn.metrics import make_scorer, accuracy_score\n",
    "from sklearn.decomposition import PCA\n",
    "from sklearn.linear_model import LogisticRegression\n",
    "from xgboost import XGBClassifier\n",
    "from lightgbm import LGBMClassifier\n",
    "from catboost import CatBoostClassifier\n",
    "from sklearn.ensemble import VotingClassifier, StackingClassifier, BaggingClassifier\n",
    "from sklearn.inspection import permutation_importance"
   ]
  },
  {
   "cell_type": "markdown",
   "id": "f9b13277",
   "metadata": {
    "papermill": {
     "duration": 0.015869,
     "end_time": "2025-07-01T00:17:56.768571",
     "exception": false,
     "start_time": "2025-07-01T00:17:56.752702",
     "status": "completed"
    },
    "tags": []
   },
   "source": [
    "# Initial analysis"
   ]
  },
  {
   "cell_type": "code",
   "execution_count": 3,
   "id": "407d1fb2",
   "metadata": {
    "execution": {
     "iopub.execute_input": "2025-07-01T00:17:56.861831Z",
     "iopub.status.busy": "2025-07-01T00:17:56.861193Z",
     "iopub.status.idle": "2025-07-01T00:17:57.928710Z",
     "shell.execute_reply": "2025-07-01T00:17:57.927794Z"
    },
    "papermill": {
     "duration": 1.145912,
     "end_time": "2025-07-01T00:17:57.930345",
     "exception": false,
     "start_time": "2025-07-01T00:17:56.784433",
     "status": "completed"
    },
    "tags": []
   },
   "outputs": [],
   "source": [
    "# We load the data\n",
    "\n",
    "fertilizers_train = pd.read_csv(\"/kaggle/input/playground-series-s5e6/train.csv\", index_col=\"id\")"
   ]
  },
  {
   "cell_type": "code",
   "execution_count": 4,
   "id": "dfacead7",
   "metadata": {
    "execution": {
     "iopub.execute_input": "2025-07-01T00:17:57.963900Z",
     "iopub.status.busy": "2025-07-01T00:17:57.963561Z",
     "iopub.status.idle": "2025-07-01T00:17:58.147661Z",
     "shell.execute_reply": "2025-07-01T00:17:58.146755Z"
    },
    "papermill": {
     "duration": 0.202179,
     "end_time": "2025-07-01T00:17:58.148903",
     "exception": false,
     "start_time": "2025-07-01T00:17:57.946724",
     "status": "completed"
    },
    "tags": []
   },
   "outputs": [
    {
     "data": {
      "text/html": [
       "<div>\n",
       "<style scoped>\n",
       "    .dataframe tbody tr th:only-of-type {\n",
       "        vertical-align: middle;\n",
       "    }\n",
       "\n",
       "    .dataframe tbody tr th {\n",
       "        vertical-align: top;\n",
       "    }\n",
       "\n",
       "    .dataframe thead th {\n",
       "        text-align: right;\n",
       "    }\n",
       "</style>\n",
       "<table border=\"1\" class=\"dataframe\">\n",
       "  <thead>\n",
       "    <tr style=\"text-align: right;\">\n",
       "      <th></th>\n",
       "      <th>count</th>\n",
       "      <th>mean</th>\n",
       "      <th>std</th>\n",
       "      <th>min</th>\n",
       "      <th>25%</th>\n",
       "      <th>50%</th>\n",
       "      <th>75%</th>\n",
       "      <th>max</th>\n",
       "    </tr>\n",
       "  </thead>\n",
       "  <tbody>\n",
       "    <tr>\n",
       "      <th>Temparature</th>\n",
       "      <td>750000.0</td>\n",
       "      <td>31.503565</td>\n",
       "      <td>4.025574</td>\n",
       "      <td>25.0</td>\n",
       "      <td>28.0</td>\n",
       "      <td>32.0</td>\n",
       "      <td>35.0</td>\n",
       "      <td>38.0</td>\n",
       "    </tr>\n",
       "    <tr>\n",
       "      <th>Humidity</th>\n",
       "      <td>750000.0</td>\n",
       "      <td>61.038912</td>\n",
       "      <td>6.647695</td>\n",
       "      <td>50.0</td>\n",
       "      <td>55.0</td>\n",
       "      <td>61.0</td>\n",
       "      <td>67.0</td>\n",
       "      <td>72.0</td>\n",
       "    </tr>\n",
       "    <tr>\n",
       "      <th>Moisture</th>\n",
       "      <td>750000.0</td>\n",
       "      <td>45.184147</td>\n",
       "      <td>11.794594</td>\n",
       "      <td>25.0</td>\n",
       "      <td>35.0</td>\n",
       "      <td>45.0</td>\n",
       "      <td>55.0</td>\n",
       "      <td>65.0</td>\n",
       "    </tr>\n",
       "    <tr>\n",
       "      <th>Nitrogen</th>\n",
       "      <td>750000.0</td>\n",
       "      <td>23.093808</td>\n",
       "      <td>11.216125</td>\n",
       "      <td>4.0</td>\n",
       "      <td>13.0</td>\n",
       "      <td>23.0</td>\n",
       "      <td>33.0</td>\n",
       "      <td>42.0</td>\n",
       "    </tr>\n",
       "    <tr>\n",
       "      <th>Potassium</th>\n",
       "      <td>750000.0</td>\n",
       "      <td>9.478296</td>\n",
       "      <td>5.765622</td>\n",
       "      <td>0.0</td>\n",
       "      <td>4.0</td>\n",
       "      <td>9.0</td>\n",
       "      <td>14.0</td>\n",
       "      <td>19.0</td>\n",
       "    </tr>\n",
       "    <tr>\n",
       "      <th>Phosphorous</th>\n",
       "      <td>750000.0</td>\n",
       "      <td>21.073227</td>\n",
       "      <td>12.346831</td>\n",
       "      <td>0.0</td>\n",
       "      <td>10.0</td>\n",
       "      <td>21.0</td>\n",
       "      <td>32.0</td>\n",
       "      <td>42.0</td>\n",
       "    </tr>\n",
       "  </tbody>\n",
       "</table>\n",
       "</div>"
      ],
      "text/plain": [
       "                count       mean        std   min   25%   50%   75%   max\n",
       "Temparature  750000.0  31.503565   4.025574  25.0  28.0  32.0  35.0  38.0\n",
       "Humidity     750000.0  61.038912   6.647695  50.0  55.0  61.0  67.0  72.0\n",
       "Moisture     750000.0  45.184147  11.794594  25.0  35.0  45.0  55.0  65.0\n",
       "Nitrogen     750000.0  23.093808  11.216125   4.0  13.0  23.0  33.0  42.0\n",
       "Potassium    750000.0   9.478296   5.765622   0.0   4.0   9.0  14.0  19.0\n",
       "Phosphorous  750000.0  21.073227  12.346831   0.0  10.0  21.0  32.0  42.0"
      ]
     },
     "execution_count": 4,
     "metadata": {},
     "output_type": "execute_result"
    }
   ],
   "source": [
    "fertilizers_train.describe().T"
   ]
  },
  {
   "cell_type": "code",
   "execution_count": 5,
   "id": "df0bddde",
   "metadata": {
    "execution": {
     "iopub.execute_input": "2025-07-01T00:17:58.183143Z",
     "iopub.status.busy": "2025-07-01T00:17:58.182546Z",
     "iopub.status.idle": "2025-07-01T00:17:58.313797Z",
     "shell.execute_reply": "2025-07-01T00:17:58.312827Z"
    },
    "papermill": {
     "duration": 0.150252,
     "end_time": "2025-07-01T00:17:58.315307",
     "exception": false,
     "start_time": "2025-07-01T00:17:58.165055",
     "status": "completed"
    },
    "tags": []
   },
   "outputs": [
    {
     "name": "stdout",
     "output_type": "stream",
     "text": [
      "<class 'pandas.core.frame.DataFrame'>\n",
      "Index: 750000 entries, 0 to 749999\n",
      "Data columns (total 9 columns):\n",
      " #   Column           Non-Null Count   Dtype \n",
      "---  ------           --------------   ----- \n",
      " 0   Temparature      750000 non-null  int64 \n",
      " 1   Humidity         750000 non-null  int64 \n",
      " 2   Moisture         750000 non-null  int64 \n",
      " 3   Soil Type        750000 non-null  object\n",
      " 4   Crop Type        750000 non-null  object\n",
      " 5   Nitrogen         750000 non-null  int64 \n",
      " 6   Potassium        750000 non-null  int64 \n",
      " 7   Phosphorous      750000 non-null  int64 \n",
      " 8   Fertilizer Name  750000 non-null  object\n",
      "dtypes: int64(6), object(3)\n",
      "memory usage: 57.2+ MB\n"
     ]
    }
   ],
   "source": [
    "fertilizers_train.info()"
   ]
  },
  {
   "cell_type": "markdown",
   "id": "aac1f856",
   "metadata": {
    "papermill": {
     "duration": 0.016248,
     "end_time": "2025-07-01T00:17:58.348649",
     "exception": false,
     "start_time": "2025-07-01T00:17:58.332401",
     "status": "completed"
    },
    "tags": []
   },
   "source": [
    "# Data wrangling"
   ]
  },
  {
   "cell_type": "code",
   "execution_count": 6,
   "id": "296c5e3e",
   "metadata": {
    "execution": {
     "iopub.execute_input": "2025-07-01T00:17:58.383137Z",
     "iopub.status.busy": "2025-07-01T00:17:58.382038Z",
     "iopub.status.idle": "2025-07-01T00:17:58.410955Z",
     "shell.execute_reply": "2025-07-01T00:17:58.409921Z"
    },
    "papermill": {
     "duration": 0.047781,
     "end_time": "2025-07-01T00:17:58.412621",
     "exception": false,
     "start_time": "2025-07-01T00:17:58.364840",
     "status": "completed"
    },
    "tags": []
   },
   "outputs": [],
   "source": [
    "# We make a copy of the original dataset\n",
    "\n",
    "fertilizers_new = fertilizers_train.copy()"
   ]
  },
  {
   "cell_type": "code",
   "execution_count": 7,
   "id": "00d83c21",
   "metadata": {
    "execution": {
     "iopub.execute_input": "2025-07-01T00:17:58.446831Z",
     "iopub.status.busy": "2025-07-01T00:17:58.446533Z",
     "iopub.status.idle": "2025-07-01T00:17:58.691718Z",
     "shell.execute_reply": "2025-07-01T00:17:58.690861Z"
    },
    "papermill": {
     "duration": 0.263813,
     "end_time": "2025-07-01T00:17:58.693273",
     "exception": false,
     "start_time": "2025-07-01T00:17:58.429460",
     "status": "completed"
    },
    "tags": []
   },
   "outputs": [
    {
     "data": {
      "text/html": [
       "<div>\n",
       "<style scoped>\n",
       "    .dataframe tbody tr th:only-of-type {\n",
       "        vertical-align: middle;\n",
       "    }\n",
       "\n",
       "    .dataframe tbody tr th {\n",
       "        vertical-align: top;\n",
       "    }\n",
       "\n",
       "    .dataframe thead th {\n",
       "        text-align: right;\n",
       "    }\n",
       "</style>\n",
       "<table border=\"1\" class=\"dataframe\">\n",
       "  <thead>\n",
       "    <tr style=\"text-align: right;\">\n",
       "      <th></th>\n",
       "      <th>Null Data</th>\n",
       "      <th>Percentage</th>\n",
       "    </tr>\n",
       "  </thead>\n",
       "  <tbody>\n",
       "    <tr>\n",
       "      <th>Temparature</th>\n",
       "      <td>0</td>\n",
       "      <td>0.0</td>\n",
       "    </tr>\n",
       "    <tr>\n",
       "      <th>Humidity</th>\n",
       "      <td>0</td>\n",
       "      <td>0.0</td>\n",
       "    </tr>\n",
       "    <tr>\n",
       "      <th>Moisture</th>\n",
       "      <td>0</td>\n",
       "      <td>0.0</td>\n",
       "    </tr>\n",
       "    <tr>\n",
       "      <th>Soil Type</th>\n",
       "      <td>0</td>\n",
       "      <td>0.0</td>\n",
       "    </tr>\n",
       "    <tr>\n",
       "      <th>Crop Type</th>\n",
       "      <td>0</td>\n",
       "      <td>0.0</td>\n",
       "    </tr>\n",
       "    <tr>\n",
       "      <th>Nitrogen</th>\n",
       "      <td>0</td>\n",
       "      <td>0.0</td>\n",
       "    </tr>\n",
       "    <tr>\n",
       "      <th>Potassium</th>\n",
       "      <td>0</td>\n",
       "      <td>0.0</td>\n",
       "    </tr>\n",
       "    <tr>\n",
       "      <th>Phosphorous</th>\n",
       "      <td>0</td>\n",
       "      <td>0.0</td>\n",
       "    </tr>\n",
       "    <tr>\n",
       "      <th>Fertilizer Name</th>\n",
       "      <td>0</td>\n",
       "      <td>0.0</td>\n",
       "    </tr>\n",
       "  </tbody>\n",
       "</table>\n",
       "</div>"
      ],
      "text/plain": [
       "                 Null Data  Percentage\n",
       "Temparature              0         0.0\n",
       "Humidity                 0         0.0\n",
       "Moisture                 0         0.0\n",
       "Soil Type                0         0.0\n",
       "Crop Type                0         0.0\n",
       "Nitrogen                 0         0.0\n",
       "Potassium                0         0.0\n",
       "Phosphorous              0         0.0\n",
       "Fertilizer Name          0         0.0"
      ]
     },
     "execution_count": 7,
     "metadata": {},
     "output_type": "execute_result"
    }
   ],
   "source": [
    "# We confirm that there is no null values\n",
    "\n",
    "null_values = pd.DataFrame(\n",
    "        {f\"Null Data\" : fertilizers_new.isnull().sum(), \n",
    "         \"Percentage\" : (fertilizers_new.isnull().sum()) / (len(fertilizers_new)) * (100)})\n",
    "\n",
    "null_values"
   ]
  },
  {
   "cell_type": "code",
   "execution_count": 8,
   "id": "19734912",
   "metadata": {
    "execution": {
     "iopub.execute_input": "2025-07-01T00:17:58.727521Z",
     "iopub.status.busy": "2025-07-01T00:17:58.727171Z",
     "iopub.status.idle": "2025-07-01T00:17:59.245703Z",
     "shell.execute_reply": "2025-07-01T00:17:59.244650Z"
    },
    "papermill": {
     "duration": 0.537471,
     "end_time": "2025-07-01T00:17:59.247388",
     "exception": false,
     "start_time": "2025-07-01T00:17:58.709917",
     "status": "completed"
    },
    "tags": []
   },
   "outputs": [
    {
     "name": "stdout",
     "output_type": "stream",
     "text": [
      "Length: 750000\n",
      "Duplicates: 0\n"
     ]
    }
   ],
   "source": [
    "# We check the duplicate data found\n",
    "\n",
    "print(f\"Length: {len(fertilizers_new.duplicated())}\")\n",
    "print(f\"Duplicates: {fertilizers_new.duplicated().sum()}\")"
   ]
  },
  {
   "cell_type": "code",
   "execution_count": 9,
   "id": "be7f89bf",
   "metadata": {
    "execution": {
     "iopub.execute_input": "2025-07-01T00:17:59.282281Z",
     "iopub.status.busy": "2025-07-01T00:17:59.281925Z",
     "iopub.status.idle": "2025-07-01T00:17:59.287009Z",
     "shell.execute_reply": "2025-07-01T00:17:59.286311Z"
    },
    "papermill": {
     "duration": 0.023668,
     "end_time": "2025-07-01T00:17:59.288171",
     "exception": false,
     "start_time": "2025-07-01T00:17:59.264503",
     "status": "completed"
    },
    "tags": []
   },
   "outputs": [
    {
     "data": {
      "text/plain": [
       "'\\neval_out = sns.PairGrid(fertilizers_new, palette=sns.light_palette(\"seagreen\"))\\neval_out.map(sns.boxplot)\\neval_out.tick_params(axis=\"both\", labelbottom=False)\\n'"
      ]
     },
     "execution_count": 9,
     "metadata": {},
     "output_type": "execute_result"
    }
   ],
   "source": [
    "'''\n",
    "eval_out = sns.PairGrid(fertilizers_new, palette=sns.light_palette(\"seagreen\"))\n",
    "eval_out.map(sns.boxplot)\n",
    "eval_out.tick_params(axis=\"both\", labelbottom=False)\n",
    "'''"
   ]
  },
  {
   "cell_type": "markdown",
   "id": "54cdcf65",
   "metadata": {
    "papermill": {
     "duration": 0.016292,
     "end_time": "2025-07-01T00:17:59.321591",
     "exception": false,
     "start_time": "2025-07-01T00:17:59.305299",
     "status": "completed"
    },
    "tags": []
   },
   "source": [
    "# Data Preprocessing"
   ]
  },
  {
   "cell_type": "code",
   "execution_count": 10,
   "id": "a9ee6e7f",
   "metadata": {
    "execution": {
     "iopub.execute_input": "2025-07-01T00:17:59.356610Z",
     "iopub.status.busy": "2025-07-01T00:17:59.355734Z",
     "iopub.status.idle": "2025-07-01T00:17:59.394623Z",
     "shell.execute_reply": "2025-07-01T00:17:59.393707Z"
    },
    "papermill": {
     "duration": 0.058069,
     "end_time": "2025-07-01T00:17:59.396186",
     "exception": false,
     "start_time": "2025-07-01T00:17:59.338117",
     "status": "completed"
    },
    "tags": []
   },
   "outputs": [],
   "source": [
    "fertilizers_end = fertilizers_new.copy()"
   ]
  },
  {
   "cell_type": "markdown",
   "id": "59b4dde3",
   "metadata": {
    "papermill": {
     "duration": 0.017045,
     "end_time": "2025-07-01T00:17:59.430468",
     "exception": false,
     "start_time": "2025-07-01T00:17:59.413423",
     "status": "completed"
    },
    "tags": []
   },
   "source": [
    "## Feature Engineering"
   ]
  },
  {
   "cell_type": "code",
   "execution_count": 11,
   "id": "84063f1a",
   "metadata": {
    "execution": {
     "iopub.execute_input": "2025-07-01T00:17:59.465731Z",
     "iopub.status.busy": "2025-07-01T00:17:59.465435Z",
     "iopub.status.idle": "2025-07-01T00:17:59.606036Z",
     "shell.execute_reply": "2025-07-01T00:17:59.605277Z"
    },
    "papermill": {
     "duration": 0.15946,
     "end_time": "2025-07-01T00:17:59.607554",
     "exception": false,
     "start_time": "2025-07-01T00:17:59.448094",
     "status": "completed"
    },
    "tags": []
   },
   "outputs": [],
   "source": [
    "# We separate the climate variables into bins\n",
    "\n",
    "bins_tem = [0.0, 29.0, 33.0, 39.0]\n",
    "bins_hum = [0.0, 57.0, 65.0, 73.0]\n",
    "bins_moi = [0.0, 36.0, 51.0, 66.0]\n",
    "\n",
    "# Specify bin labels\n",
    "\n",
    "labels_climate = [\"Low\", \"Medium\", \"High\"]\n",
    "\n",
    "# We create the new features\n",
    "\n",
    "fertilizers_end[\"Temparature_Bins\"] = pd.cut(fertilizers_end[\"Temparature\"], bins_tem, labels=labels_climate)\n",
    "fertilizers_end[\"Humidity_Bins\"] = pd.cut(fertilizers_end[\"Humidity\"], bins_hum, labels=labels_climate)\n",
    "fertilizers_end[\"Moisture_Bins\"] = pd.cut(fertilizers_end[\"Moisture\"], bins_moi, labels=labels_climate)\n",
    "\n",
    "# We separate the elements variables into bins\n",
    "\n",
    "bins_n = [0.0, 15.0, 30.0, 43.0]\n",
    "bins_k = [-0.1, 6.0, 12.0, 20.0]\n",
    "bins_p = [-0.1, 15.0, 30.0, 43.0]\n",
    "\n",
    "# Specify bin labels\n",
    "\n",
    "labels_elements = [\"Small\", \"Medium\", \"Large\"]\n",
    "\n",
    "# We create the new features\n",
    "\n",
    "fertilizers_end[\"Nitrogen_Bins\"] = pd.cut(fertilizers_end[\"Nitrogen\"], bins_n, labels=labels_elements)\n",
    "fertilizers_end[\"Potassium_Bins\"] = pd.cut(fertilizers_end[\"Potassium\"], bins_k, labels=labels_elements)\n",
    "fertilizers_end[\"Phosphorous_Bins\"] = pd.cut(fertilizers_end[\"Phosphorous\"], bins_p, labels=labels_elements)"
   ]
  },
  {
   "cell_type": "code",
   "execution_count": 12,
   "id": "bf3bbf51",
   "metadata": {
    "execution": {
     "iopub.execute_input": "2025-07-01T00:17:59.642483Z",
     "iopub.status.busy": "2025-07-01T00:17:59.641824Z",
     "iopub.status.idle": "2025-07-01T00:17:59.647588Z",
     "shell.execute_reply": "2025-07-01T00:17:59.646788Z"
    },
    "papermill": {
     "duration": 0.024491,
     "end_time": "2025-07-01T00:17:59.648941",
     "exception": false,
     "start_time": "2025-07-01T00:17:59.624450",
     "status": "completed"
    },
    "tags": []
   },
   "outputs": [
    {
     "data": {
      "text/plain": [
       "'\\n# Polynomial / transforms\\n\\nfertilizers_end[\"tem_log\"] = np.log1p(fertilizers_end[\"Temparature\"])\\nfertilizers_end[\"tem_sq\"]  = fertilizers_end[\"Temparature\"] ** 2\\nfertilizers_end[\"tem_cubert\"] = np.cbrt(fertilizers_end[\"Temparature\"])\\n\\nfertilizers_end[\"hum_log\"] = np.log1p(fertilizers_end[\"Humidity\"])\\nfertilizers_end[\"hum_sq\"]  = fertilizers_end[\"Humidity\"] ** 2\\nfertilizers_end[\"hum_cubert\"] = np.cbrt(fertilizers_end[\"Humidity\"])\\n\\nfertilizers_end[\"moi_log\"] = np.log1p(fertilizers_end[\"Moisture\"])\\nfertilizers_end[\"moi_sq\"]  = fertilizers_end[\"Moisture\"] ** 2\\nfertilizers_end[\"moi_cubert\"] = np.cbrt(fertilizers_end[\"Moisture\"])\\n\\nfertilizers_end[\"n_log\"] = np.log1p(fertilizers_end[\"Nitrogen\"])\\nfertilizers_end[\"n_sq\"]  = fertilizers_end[\"Nitrogen\"] ** 2\\nfertilizers_end[\"n_cubert\"] = np.cbrt(fertilizers_end[\"Nitrogen\"])\\n\\nfertilizers_end[\"k_log\"] = np.log1p(fertilizers_end[\"Potassium\"])\\nfertilizers_end[\"k_sq\"]  = fertilizers_end[\"Potassium\"] ** 2\\nfertilizers_end[\"k_cubert\"] = np.cbrt(fertilizers_end[\"Potassium\"])\\n\\nfertilizers_end[\"p_log\"] = np.log1p(fertilizers_end[\"Phosphorous\"])\\nfertilizers_end[\"p_sq\"]  = fertilizers_end[\"Phosphorous\"] ** 2\\nfertilizers_end[\"p_cubert\"] = np.cbrt(fertilizers_end[\"Phosphorous\"])\\n'"
      ]
     },
     "execution_count": 12,
     "metadata": {},
     "output_type": "execute_result"
    }
   ],
   "source": [
    "'''\n",
    "# Polynomial / transforms\n",
    "\n",
    "fertilizers_end[\"tem_log\"] = np.log1p(fertilizers_end[\"Temparature\"])\n",
    "fertilizers_end[\"tem_sq\"]  = fertilizers_end[\"Temparature\"] ** 2\n",
    "fertilizers_end[\"tem_cubert\"] = np.cbrt(fertilizers_end[\"Temparature\"])\n",
    "\n",
    "fertilizers_end[\"hum_log\"] = np.log1p(fertilizers_end[\"Humidity\"])\n",
    "fertilizers_end[\"hum_sq\"]  = fertilizers_end[\"Humidity\"] ** 2\n",
    "fertilizers_end[\"hum_cubert\"] = np.cbrt(fertilizers_end[\"Humidity\"])\n",
    "\n",
    "fertilizers_end[\"moi_log\"] = np.log1p(fertilizers_end[\"Moisture\"])\n",
    "fertilizers_end[\"moi_sq\"]  = fertilizers_end[\"Moisture\"] ** 2\n",
    "fertilizers_end[\"moi_cubert\"] = np.cbrt(fertilizers_end[\"Moisture\"])\n",
    "\n",
    "fertilizers_end[\"n_log\"] = np.log1p(fertilizers_end[\"Nitrogen\"])\n",
    "fertilizers_end[\"n_sq\"]  = fertilizers_end[\"Nitrogen\"] ** 2\n",
    "fertilizers_end[\"n_cubert\"] = np.cbrt(fertilizers_end[\"Nitrogen\"])\n",
    "\n",
    "fertilizers_end[\"k_log\"] = np.log1p(fertilizers_end[\"Potassium\"])\n",
    "fertilizers_end[\"k_sq\"]  = fertilizers_end[\"Potassium\"] ** 2\n",
    "fertilizers_end[\"k_cubert\"] = np.cbrt(fertilizers_end[\"Potassium\"])\n",
    "\n",
    "fertilizers_end[\"p_log\"] = np.log1p(fertilizers_end[\"Phosphorous\"])\n",
    "fertilizers_end[\"p_sq\"]  = fertilizers_end[\"Phosphorous\"] ** 2\n",
    "fertilizers_end[\"p_cubert\"] = np.cbrt(fertilizers_end[\"Phosphorous\"])\n",
    "'''"
   ]
  },
  {
   "cell_type": "code",
   "execution_count": 13,
   "id": "423e8836",
   "metadata": {
    "execution": {
     "iopub.execute_input": "2025-07-01T00:17:59.684166Z",
     "iopub.status.busy": "2025-07-01T00:17:59.683365Z",
     "iopub.status.idle": "2025-07-01T00:17:59.830497Z",
     "shell.execute_reply": "2025-07-01T00:17:59.829493Z"
    },
    "papermill": {
     "duration": 0.166109,
     "end_time": "2025-07-01T00:17:59.832022",
     "exception": false,
     "start_time": "2025-07-01T00:17:59.665913",
     "status": "completed"
    },
    "tags": []
   },
   "outputs": [
    {
     "name": "stdout",
     "output_type": "stream",
     "text": [
      "<class 'pandas.core.frame.DataFrame'>\n",
      "Index: 750000 entries, 0 to 749999\n",
      "Data columns (total 15 columns):\n",
      " #   Column            Non-Null Count   Dtype   \n",
      "---  ------            --------------   -----   \n",
      " 0   Temparature       750000 non-null  int64   \n",
      " 1   Humidity          750000 non-null  int64   \n",
      " 2   Moisture          750000 non-null  int64   \n",
      " 3   Soil Type         750000 non-null  object  \n",
      " 4   Crop Type         750000 non-null  object  \n",
      " 5   Nitrogen          750000 non-null  int64   \n",
      " 6   Potassium         750000 non-null  int64   \n",
      " 7   Phosphorous       750000 non-null  int64   \n",
      " 8   Fertilizer Name   750000 non-null  object  \n",
      " 9   Temparature_Bins  750000 non-null  category\n",
      " 10  Humidity_Bins     750000 non-null  category\n",
      " 11  Moisture_Bins     750000 non-null  category\n",
      " 12  Nitrogen_Bins     750000 non-null  category\n",
      " 13  Potassium_Bins    750000 non-null  category\n",
      " 14  Phosphorous_Bins  750000 non-null  category\n",
      "dtypes: category(6), int64(6), object(3)\n",
      "memory usage: 61.5+ MB\n"
     ]
    }
   ],
   "source": [
    "fertilizers_end.info()"
   ]
  },
  {
   "cell_type": "markdown",
   "id": "430da5ca",
   "metadata": {
    "papermill": {
     "duration": 0.0167,
     "end_time": "2025-07-01T00:17:59.867853",
     "exception": false,
     "start_time": "2025-07-01T00:17:59.851153",
     "status": "completed"
    },
    "tags": []
   },
   "source": [
    "## Encoding"
   ]
  },
  {
   "cell_type": "code",
   "execution_count": 14,
   "id": "42dcd6c7",
   "metadata": {
    "execution": {
     "iopub.execute_input": "2025-07-01T00:17:59.903311Z",
     "iopub.status.busy": "2025-07-01T00:17:59.902642Z",
     "iopub.status.idle": "2025-07-01T00:18:00.053762Z",
     "shell.execute_reply": "2025-07-01T00:18:00.053020Z"
    },
    "papermill": {
     "duration": 0.170572,
     "end_time": "2025-07-01T00:18:00.055195",
     "exception": false,
     "start_time": "2025-07-01T00:17:59.884623",
     "status": "completed"
    },
    "tags": []
   },
   "outputs": [],
   "source": [
    "# We apply LabelEncoder to the target variable\n",
    "\n",
    "le = LabelEncoder()\n",
    "\n",
    "fertilizers_end[\"Fertilizer Name\"] = le.fit_transform(fertilizers_end[\"Fertilizer Name\"])"
   ]
  },
  {
   "cell_type": "code",
   "execution_count": 15,
   "id": "96b10b9b",
   "metadata": {
    "execution": {
     "iopub.execute_input": "2025-07-01T00:18:00.091346Z",
     "iopub.status.busy": "2025-07-01T00:18:00.090666Z",
     "iopub.status.idle": "2025-07-01T00:18:00.094698Z",
     "shell.execute_reply": "2025-07-01T00:18:00.094012Z"
    },
    "papermill": {
     "duration": 0.023274,
     "end_time": "2025-07-01T00:18:00.096056",
     "exception": false,
     "start_time": "2025-07-01T00:18:00.072782",
     "status": "completed"
    },
    "tags": []
   },
   "outputs": [],
   "source": [
    "le_values = le.classes_"
   ]
  },
  {
   "cell_type": "code",
   "execution_count": 16,
   "id": "d0eff160",
   "metadata": {
    "execution": {
     "iopub.execute_input": "2025-07-01T00:18:00.131858Z",
     "iopub.status.busy": "2025-07-01T00:18:00.131166Z",
     "iopub.status.idle": "2025-07-01T00:18:01.127518Z",
     "shell.execute_reply": "2025-07-01T00:18:01.126648Z"
    },
    "papermill": {
     "duration": 1.01644,
     "end_time": "2025-07-01T00:18:01.129299",
     "exception": false,
     "start_time": "2025-07-01T00:18:00.112859",
     "status": "completed"
    },
    "tags": []
   },
   "outputs": [],
   "source": [
    "# We create a df with the encoded categorical variables\n",
    "\n",
    "cat_cols = fertilizers_end[[\"Soil Type\", \"Crop Type\"]]\n",
    "rest_cols = fertilizers_end.drop(columns=[\"Soil Type\", \"Crop Type\"])\n",
    "encoder = OneHotEncoder(sparse=False, drop=\"if_binary\").set_output(transform=\"pandas\")\n",
    "cat_enc = encoder.fit_transform(cat_cols)\n",
    "df_encoded = pd.concat([rest_cols, cat_enc], axis=1)"
   ]
  },
  {
   "cell_type": "code",
   "execution_count": 17,
   "id": "609a0643",
   "metadata": {
    "execution": {
     "iopub.execute_input": "2025-07-01T00:18:01.168637Z",
     "iopub.status.busy": "2025-07-01T00:18:01.167952Z",
     "iopub.status.idle": "2025-07-01T00:18:01.173584Z",
     "shell.execute_reply": "2025-07-01T00:18:01.172795Z"
    },
    "papermill": {
     "duration": 0.024863,
     "end_time": "2025-07-01T00:18:01.174991",
     "exception": false,
     "start_time": "2025-07-01T00:18:01.150128",
     "status": "completed"
    },
    "tags": []
   },
   "outputs": [],
   "source": [
    "# We create a useful function\n",
    "\n",
    "def mapper(data, column, order):\n",
    "    \n",
    "    data[column] = data[column].map(order)\n",
    "    data[column] = data[column].astype(\"float64\")\n",
    "\n",
    "    print(data[column].value_counts())"
   ]
  },
  {
   "cell_type": "code",
   "execution_count": 18,
   "id": "3f5746bf",
   "metadata": {
    "execution": {
     "iopub.execute_input": "2025-07-01T00:18:01.211124Z",
     "iopub.status.busy": "2025-07-01T00:18:01.210224Z",
     "iopub.status.idle": "2025-07-01T00:18:01.339723Z",
     "shell.execute_reply": "2025-07-01T00:18:01.338692Z"
    },
    "papermill": {
     "duration": 0.149222,
     "end_time": "2025-07-01T00:18:01.341295",
     "exception": false,
     "start_time": "2025-07-01T00:18:01.192073",
     "status": "completed"
    },
    "tags": []
   },
   "outputs": [
    {
     "name": "stdout",
     "output_type": "stream",
     "text": [
      "Temparature_Bins\n",
      "2.0    268332\n",
      "0.0    267043\n",
      "1.0    214625\n",
      "Name: count, dtype: int64\n",
      "Humidity_Bins\n",
      "0.0    260326\n",
      "1.0    259289\n",
      "2.0    230385\n",
      "Name: count, dtype: int64\n",
      "Moisture_Bins\n",
      "1.0    276824\n",
      "2.0    259353\n",
      "0.0    213823\n",
      "Name: count, dtype: int64\n",
      "Nitrogen_Bins\n",
      "1.0    292080\n",
      "2.0    231010\n",
      "0.0    226910\n",
      "Name: count, dtype: int64\n",
      "Potassium_Bins\n",
      "0.0    262455\n",
      "2.0    262427\n",
      "1.0    225118\n",
      "Name: count, dtype: int64\n",
      "Phosphorous_Bins\n",
      "0.0    275369\n",
      "1.0    267395\n",
      "2.0    207236\n",
      "Name: count, dtype: int64\n"
     ]
    }
   ],
   "source": [
    "# We map the variables and change the format\n",
    "\n",
    "climate_order = {\"Low\" : 0, \"Medium\" : 1, \"High\" : 2}\n",
    "elements_order = {\"Small\" : 0, \"Medium\" : 1, \"Large\" : 2}\n",
    "\n",
    "mapper(df_encoded, \"Temparature_Bins\", climate_order)\n",
    "mapper(df_encoded, \"Humidity_Bins\", climate_order)\n",
    "mapper(df_encoded, \"Moisture_Bins\", climate_order)\n",
    "mapper(df_encoded, \"Nitrogen_Bins\", elements_order)\n",
    "mapper(df_encoded, \"Potassium_Bins\", elements_order)\n",
    "mapper(df_encoded, \"Phosphorous_Bins\", elements_order)"
   ]
  },
  {
   "cell_type": "code",
   "execution_count": 19,
   "id": "8a950549",
   "metadata": {
    "execution": {
     "iopub.execute_input": "2025-07-01T00:18:01.377689Z",
     "iopub.status.busy": "2025-07-01T00:18:01.376841Z",
     "iopub.status.idle": "2025-07-01T00:18:01.474296Z",
     "shell.execute_reply": "2025-07-01T00:18:01.472909Z"
    },
    "papermill": {
     "duration": 0.117111,
     "end_time": "2025-07-01T00:18:01.475837",
     "exception": false,
     "start_time": "2025-07-01T00:18:01.358726",
     "status": "completed"
    },
    "tags": []
   },
   "outputs": [
    {
     "name": "stdout",
     "output_type": "stream",
     "text": [
      "<class 'pandas.core.frame.DataFrame'>\n",
      "Index: 750000 entries, 0 to 749999\n",
      "Data columns (total 29 columns):\n",
      " #   Column                 Non-Null Count   Dtype  \n",
      "---  ------                 --------------   -----  \n",
      " 0   Temparature            750000 non-null  int64  \n",
      " 1   Humidity               750000 non-null  int64  \n",
      " 2   Moisture               750000 non-null  int64  \n",
      " 3   Nitrogen               750000 non-null  int64  \n",
      " 4   Potassium              750000 non-null  int64  \n",
      " 5   Phosphorous            750000 non-null  int64  \n",
      " 6   Fertilizer Name        750000 non-null  int64  \n",
      " 7   Temparature_Bins       750000 non-null  float64\n",
      " 8   Humidity_Bins          750000 non-null  float64\n",
      " 9   Moisture_Bins          750000 non-null  float64\n",
      " 10  Nitrogen_Bins          750000 non-null  float64\n",
      " 11  Potassium_Bins         750000 non-null  float64\n",
      " 12  Phosphorous_Bins       750000 non-null  float64\n",
      " 13  Soil Type_Black        750000 non-null  float64\n",
      " 14  Soil Type_Clayey       750000 non-null  float64\n",
      " 15  Soil Type_Loamy        750000 non-null  float64\n",
      " 16  Soil Type_Red          750000 non-null  float64\n",
      " 17  Soil Type_Sandy        750000 non-null  float64\n",
      " 18  Crop Type_Barley       750000 non-null  float64\n",
      " 19  Crop Type_Cotton       750000 non-null  float64\n",
      " 20  Crop Type_Ground Nuts  750000 non-null  float64\n",
      " 21  Crop Type_Maize        750000 non-null  float64\n",
      " 22  Crop Type_Millets      750000 non-null  float64\n",
      " 23  Crop Type_Oil seeds    750000 non-null  float64\n",
      " 24  Crop Type_Paddy        750000 non-null  float64\n",
      " 25  Crop Type_Pulses       750000 non-null  float64\n",
      " 26  Crop Type_Sugarcane    750000 non-null  float64\n",
      " 27  Crop Type_Tobacco      750000 non-null  float64\n",
      " 28  Crop Type_Wheat        750000 non-null  float64\n",
      "dtypes: float64(22), int64(7)\n",
      "memory usage: 171.7 MB\n"
     ]
    }
   ],
   "source": [
    "df_encoded.info()"
   ]
  },
  {
   "cell_type": "code",
   "execution_count": 20,
   "id": "a0474c04",
   "metadata": {
    "execution": {
     "iopub.execute_input": "2025-07-01T00:18:01.512180Z",
     "iopub.status.busy": "2025-07-01T00:18:01.511480Z",
     "iopub.status.idle": "2025-07-01T00:18:01.515993Z",
     "shell.execute_reply": "2025-07-01T00:18:01.515222Z"
    },
    "papermill": {
     "duration": 0.024174,
     "end_time": "2025-07-01T00:18:01.517459",
     "exception": false,
     "start_time": "2025-07-01T00:18:01.493285",
     "status": "completed"
    },
    "tags": []
   },
   "outputs": [],
   "source": [
    "#df_encoded.corr(numeric_only=True).round(2)"
   ]
  },
  {
   "cell_type": "markdown",
   "id": "58cb1ac1",
   "metadata": {
    "papermill": {
     "duration": 0.017363,
     "end_time": "2025-07-01T00:18:01.553997",
     "exception": false,
     "start_time": "2025-07-01T00:18:01.536634",
     "status": "completed"
    },
    "tags": []
   },
   "source": [
    "## Scaling"
   ]
  },
  {
   "cell_type": "code",
   "execution_count": 21,
   "id": "ab66a8e0",
   "metadata": {
    "execution": {
     "iopub.execute_input": "2025-07-01T00:18:01.590617Z",
     "iopub.status.busy": "2025-07-01T00:18:01.590199Z",
     "iopub.status.idle": "2025-07-01T00:18:02.629676Z",
     "shell.execute_reply": "2025-07-01T00:18:02.628868Z"
    },
    "papermill": {
     "duration": 1.05968,
     "end_time": "2025-07-01T00:18:02.631112",
     "exception": false,
     "start_time": "2025-07-01T00:18:01.571432",
     "status": "completed"
    },
    "tags": []
   },
   "outputs": [
    {
     "data": {
      "text/html": [
       "<div>\n",
       "<style scoped>\n",
       "    .dataframe tbody tr th:only-of-type {\n",
       "        vertical-align: middle;\n",
       "    }\n",
       "\n",
       "    .dataframe tbody tr th {\n",
       "        vertical-align: top;\n",
       "    }\n",
       "\n",
       "    .dataframe thead th {\n",
       "        text-align: right;\n",
       "    }\n",
       "</style>\n",
       "<table border=\"1\" class=\"dataframe\">\n",
       "  <thead>\n",
       "    <tr style=\"text-align: right;\">\n",
       "      <th></th>\n",
       "      <th>count</th>\n",
       "      <th>mean</th>\n",
       "      <th>std</th>\n",
       "      <th>min</th>\n",
       "      <th>25%</th>\n",
       "      <th>50%</th>\n",
       "      <th>75%</th>\n",
       "      <th>max</th>\n",
       "    </tr>\n",
       "  </thead>\n",
       "  <tbody>\n",
       "    <tr>\n",
       "      <th>Temparature</th>\n",
       "      <td>750000.0</td>\n",
       "      <td>31.503565</td>\n",
       "      <td>4.025574</td>\n",
       "      <td>25.0</td>\n",
       "      <td>28.0</td>\n",
       "      <td>32.0</td>\n",
       "      <td>35.0</td>\n",
       "      <td>38.0</td>\n",
       "    </tr>\n",
       "    <tr>\n",
       "      <th>Humidity</th>\n",
       "      <td>750000.0</td>\n",
       "      <td>61.038912</td>\n",
       "      <td>6.647695</td>\n",
       "      <td>50.0</td>\n",
       "      <td>55.0</td>\n",
       "      <td>61.0</td>\n",
       "      <td>67.0</td>\n",
       "      <td>72.0</td>\n",
       "    </tr>\n",
       "    <tr>\n",
       "      <th>Moisture</th>\n",
       "      <td>750000.0</td>\n",
       "      <td>45.184147</td>\n",
       "      <td>11.794594</td>\n",
       "      <td>25.0</td>\n",
       "      <td>35.0</td>\n",
       "      <td>45.0</td>\n",
       "      <td>55.0</td>\n",
       "      <td>65.0</td>\n",
       "    </tr>\n",
       "    <tr>\n",
       "      <th>Nitrogen</th>\n",
       "      <td>750000.0</td>\n",
       "      <td>23.093808</td>\n",
       "      <td>11.216125</td>\n",
       "      <td>4.0</td>\n",
       "      <td>13.0</td>\n",
       "      <td>23.0</td>\n",
       "      <td>33.0</td>\n",
       "      <td>42.0</td>\n",
       "    </tr>\n",
       "    <tr>\n",
       "      <th>Potassium</th>\n",
       "      <td>750000.0</td>\n",
       "      <td>9.478296</td>\n",
       "      <td>5.765622</td>\n",
       "      <td>0.0</td>\n",
       "      <td>4.0</td>\n",
       "      <td>9.0</td>\n",
       "      <td>14.0</td>\n",
       "      <td>19.0</td>\n",
       "    </tr>\n",
       "    <tr>\n",
       "      <th>Phosphorous</th>\n",
       "      <td>750000.0</td>\n",
       "      <td>21.073227</td>\n",
       "      <td>12.346831</td>\n",
       "      <td>0.0</td>\n",
       "      <td>10.0</td>\n",
       "      <td>21.0</td>\n",
       "      <td>32.0</td>\n",
       "      <td>42.0</td>\n",
       "    </tr>\n",
       "    <tr>\n",
       "      <th>Fertilizer Name</th>\n",
       "      <td>750000.0</td>\n",
       "      <td>2.859791</td>\n",
       "      <td>1.967025</td>\n",
       "      <td>0.0</td>\n",
       "      <td>1.0</td>\n",
       "      <td>3.0</td>\n",
       "      <td>4.0</td>\n",
       "      <td>6.0</td>\n",
       "    </tr>\n",
       "    <tr>\n",
       "      <th>Temparature_Bins</th>\n",
       "      <td>750000.0</td>\n",
       "      <td>1.001719</td>\n",
       "      <td>0.844885</td>\n",
       "      <td>0.0</td>\n",
       "      <td>0.0</td>\n",
       "      <td>1.0</td>\n",
       "      <td>2.0</td>\n",
       "      <td>2.0</td>\n",
       "    </tr>\n",
       "    <tr>\n",
       "      <th>Humidity_Bins</th>\n",
       "      <td>750000.0</td>\n",
       "      <td>0.960079</td>\n",
       "      <td>0.807891</td>\n",
       "      <td>0.0</td>\n",
       "      <td>0.0</td>\n",
       "      <td>1.0</td>\n",
       "      <td>2.0</td>\n",
       "      <td>2.0</td>\n",
       "    </tr>\n",
       "    <tr>\n",
       "      <th>Moisture_Bins</th>\n",
       "      <td>750000.0</td>\n",
       "      <td>1.060707</td>\n",
       "      <td>0.791970</td>\n",
       "      <td>0.0</td>\n",
       "      <td>0.0</td>\n",
       "      <td>1.0</td>\n",
       "      <td>2.0</td>\n",
       "      <td>2.0</td>\n",
       "    </tr>\n",
       "    <tr>\n",
       "      <th>Nitrogen_Bins</th>\n",
       "      <td>750000.0</td>\n",
       "      <td>1.005467</td>\n",
       "      <td>0.781365</td>\n",
       "      <td>0.0</td>\n",
       "      <td>0.0</td>\n",
       "      <td>1.0</td>\n",
       "      <td>2.0</td>\n",
       "      <td>2.0</td>\n",
       "    </tr>\n",
       "    <tr>\n",
       "      <th>Potassium_Bins</th>\n",
       "      <td>750000.0</td>\n",
       "      <td>0.999963</td>\n",
       "      <td>0.836567</td>\n",
       "      <td>0.0</td>\n",
       "      <td>0.0</td>\n",
       "      <td>1.0</td>\n",
       "      <td>2.0</td>\n",
       "      <td>2.0</td>\n",
       "    </tr>\n",
       "    <tr>\n",
       "      <th>Phosphorous_Bins</th>\n",
       "      <td>750000.0</td>\n",
       "      <td>0.909156</td>\n",
       "      <td>0.797008</td>\n",
       "      <td>0.0</td>\n",
       "      <td>0.0</td>\n",
       "      <td>1.0</td>\n",
       "      <td>2.0</td>\n",
       "      <td>2.0</td>\n",
       "    </tr>\n",
       "    <tr>\n",
       "      <th>Soil Type_Black</th>\n",
       "      <td>750000.0</td>\n",
       "      <td>0.201275</td>\n",
       "      <td>0.400953</td>\n",
       "      <td>0.0</td>\n",
       "      <td>0.0</td>\n",
       "      <td>0.0</td>\n",
       "      <td>0.0</td>\n",
       "      <td>1.0</td>\n",
       "    </tr>\n",
       "    <tr>\n",
       "      <th>Soil Type_Clayey</th>\n",
       "      <td>750000.0</td>\n",
       "      <td>0.197843</td>\n",
       "      <td>0.398373</td>\n",
       "      <td>0.0</td>\n",
       "      <td>0.0</td>\n",
       "      <td>0.0</td>\n",
       "      <td>0.0</td>\n",
       "      <td>1.0</td>\n",
       "    </tr>\n",
       "    <tr>\n",
       "      <th>Soil Type_Loamy</th>\n",
       "      <td>750000.0</td>\n",
       "      <td>0.194467</td>\n",
       "      <td>0.395790</td>\n",
       "      <td>0.0</td>\n",
       "      <td>0.0</td>\n",
       "      <td>0.0</td>\n",
       "      <td>0.0</td>\n",
       "      <td>1.0</td>\n",
       "    </tr>\n",
       "    <tr>\n",
       "      <th>Soil Type_Red</th>\n",
       "      <td>750000.0</td>\n",
       "      <td>0.197469</td>\n",
       "      <td>0.398090</td>\n",
       "      <td>0.0</td>\n",
       "      <td>0.0</td>\n",
       "      <td>0.0</td>\n",
       "      <td>0.0</td>\n",
       "      <td>1.0</td>\n",
       "    </tr>\n",
       "    <tr>\n",
       "      <th>Soil Type_Sandy</th>\n",
       "      <td>750000.0</td>\n",
       "      <td>0.208947</td>\n",
       "      <td>0.406556</td>\n",
       "      <td>0.0</td>\n",
       "      <td>0.0</td>\n",
       "      <td>0.0</td>\n",
       "      <td>0.0</td>\n",
       "      <td>1.0</td>\n",
       "    </tr>\n",
       "    <tr>\n",
       "      <th>Crop Type_Barley</th>\n",
       "      <td>750000.0</td>\n",
       "      <td>0.086727</td>\n",
       "      <td>0.281434</td>\n",
       "      <td>0.0</td>\n",
       "      <td>0.0</td>\n",
       "      <td>0.0</td>\n",
       "      <td>0.0</td>\n",
       "      <td>1.0</td>\n",
       "    </tr>\n",
       "    <tr>\n",
       "      <th>Crop Type_Cotton</th>\n",
       "      <td>750000.0</td>\n",
       "      <td>0.092228</td>\n",
       "      <td>0.289348</td>\n",
       "      <td>0.0</td>\n",
       "      <td>0.0</td>\n",
       "      <td>0.0</td>\n",
       "      <td>0.0</td>\n",
       "      <td>1.0</td>\n",
       "    </tr>\n",
       "    <tr>\n",
       "      <th>Crop Type_Ground Nuts</th>\n",
       "      <td>750000.0</td>\n",
       "      <td>0.081212</td>\n",
       "      <td>0.273161</td>\n",
       "      <td>0.0</td>\n",
       "      <td>0.0</td>\n",
       "      <td>0.0</td>\n",
       "      <td>0.0</td>\n",
       "      <td>1.0</td>\n",
       "    </tr>\n",
       "    <tr>\n",
       "      <th>Crop Type_Maize</th>\n",
       "      <td>750000.0</td>\n",
       "      <td>0.083425</td>\n",
       "      <td>0.276524</td>\n",
       "      <td>0.0</td>\n",
       "      <td>0.0</td>\n",
       "      <td>0.0</td>\n",
       "      <td>0.0</td>\n",
       "      <td>1.0</td>\n",
       "    </tr>\n",
       "    <tr>\n",
       "      <th>Crop Type_Millets</th>\n",
       "      <td>750000.0</td>\n",
       "      <td>0.087055</td>\n",
       "      <td>0.281915</td>\n",
       "      <td>0.0</td>\n",
       "      <td>0.0</td>\n",
       "      <td>0.0</td>\n",
       "      <td>0.0</td>\n",
       "      <td>1.0</td>\n",
       "    </tr>\n",
       "    <tr>\n",
       "      <th>Crop Type_Oil seeds</th>\n",
       "      <td>750000.0</td>\n",
       "      <td>0.085579</td>\n",
       "      <td>0.279741</td>\n",
       "      <td>0.0</td>\n",
       "      <td>0.0</td>\n",
       "      <td>0.0</td>\n",
       "      <td>0.0</td>\n",
       "      <td>1.0</td>\n",
       "    </tr>\n",
       "    <tr>\n",
       "      <th>Crop Type_Paddy</th>\n",
       "      <td>750000.0</td>\n",
       "      <td>0.114339</td>\n",
       "      <td>0.318222</td>\n",
       "      <td>0.0</td>\n",
       "      <td>0.0</td>\n",
       "      <td>0.0</td>\n",
       "      <td>0.0</td>\n",
       "      <td>1.0</td>\n",
       "    </tr>\n",
       "    <tr>\n",
       "      <th>Crop Type_Pulses</th>\n",
       "      <td>750000.0</td>\n",
       "      <td>0.104240</td>\n",
       "      <td>0.305572</td>\n",
       "      <td>0.0</td>\n",
       "      <td>0.0</td>\n",
       "      <td>0.0</td>\n",
       "      <td>0.0</td>\n",
       "      <td>1.0</td>\n",
       "    </tr>\n",
       "    <tr>\n",
       "      <th>Crop Type_Sugarcane</th>\n",
       "      <td>750000.0</td>\n",
       "      <td>0.085692</td>\n",
       "      <td>0.279909</td>\n",
       "      <td>0.0</td>\n",
       "      <td>0.0</td>\n",
       "      <td>0.0</td>\n",
       "      <td>0.0</td>\n",
       "      <td>1.0</td>\n",
       "    </tr>\n",
       "    <tr>\n",
       "      <th>Crop Type_Tobacco</th>\n",
       "      <td>750000.0</td>\n",
       "      <td>0.090667</td>\n",
       "      <td>0.287135</td>\n",
       "      <td>0.0</td>\n",
       "      <td>0.0</td>\n",
       "      <td>0.0</td>\n",
       "      <td>0.0</td>\n",
       "      <td>1.0</td>\n",
       "    </tr>\n",
       "    <tr>\n",
       "      <th>Crop Type_Wheat</th>\n",
       "      <td>750000.0</td>\n",
       "      <td>0.088837</td>\n",
       "      <td>0.284509</td>\n",
       "      <td>0.0</td>\n",
       "      <td>0.0</td>\n",
       "      <td>0.0</td>\n",
       "      <td>0.0</td>\n",
       "      <td>1.0</td>\n",
       "    </tr>\n",
       "  </tbody>\n",
       "</table>\n",
       "</div>"
      ],
      "text/plain": [
       "                          count       mean        std   min   25%   50%   75%  \\\n",
       "Temparature            750000.0  31.503565   4.025574  25.0  28.0  32.0  35.0   \n",
       "Humidity               750000.0  61.038912   6.647695  50.0  55.0  61.0  67.0   \n",
       "Moisture               750000.0  45.184147  11.794594  25.0  35.0  45.0  55.0   \n",
       "Nitrogen               750000.0  23.093808  11.216125   4.0  13.0  23.0  33.0   \n",
       "Potassium              750000.0   9.478296   5.765622   0.0   4.0   9.0  14.0   \n",
       "Phosphorous            750000.0  21.073227  12.346831   0.0  10.0  21.0  32.0   \n",
       "Fertilizer Name        750000.0   2.859791   1.967025   0.0   1.0   3.0   4.0   \n",
       "Temparature_Bins       750000.0   1.001719   0.844885   0.0   0.0   1.0   2.0   \n",
       "Humidity_Bins          750000.0   0.960079   0.807891   0.0   0.0   1.0   2.0   \n",
       "Moisture_Bins          750000.0   1.060707   0.791970   0.0   0.0   1.0   2.0   \n",
       "Nitrogen_Bins          750000.0   1.005467   0.781365   0.0   0.0   1.0   2.0   \n",
       "Potassium_Bins         750000.0   0.999963   0.836567   0.0   0.0   1.0   2.0   \n",
       "Phosphorous_Bins       750000.0   0.909156   0.797008   0.0   0.0   1.0   2.0   \n",
       "Soil Type_Black        750000.0   0.201275   0.400953   0.0   0.0   0.0   0.0   \n",
       "Soil Type_Clayey       750000.0   0.197843   0.398373   0.0   0.0   0.0   0.0   \n",
       "Soil Type_Loamy        750000.0   0.194467   0.395790   0.0   0.0   0.0   0.0   \n",
       "Soil Type_Red          750000.0   0.197469   0.398090   0.0   0.0   0.0   0.0   \n",
       "Soil Type_Sandy        750000.0   0.208947   0.406556   0.0   0.0   0.0   0.0   \n",
       "Crop Type_Barley       750000.0   0.086727   0.281434   0.0   0.0   0.0   0.0   \n",
       "Crop Type_Cotton       750000.0   0.092228   0.289348   0.0   0.0   0.0   0.0   \n",
       "Crop Type_Ground Nuts  750000.0   0.081212   0.273161   0.0   0.0   0.0   0.0   \n",
       "Crop Type_Maize        750000.0   0.083425   0.276524   0.0   0.0   0.0   0.0   \n",
       "Crop Type_Millets      750000.0   0.087055   0.281915   0.0   0.0   0.0   0.0   \n",
       "Crop Type_Oil seeds    750000.0   0.085579   0.279741   0.0   0.0   0.0   0.0   \n",
       "Crop Type_Paddy        750000.0   0.114339   0.318222   0.0   0.0   0.0   0.0   \n",
       "Crop Type_Pulses       750000.0   0.104240   0.305572   0.0   0.0   0.0   0.0   \n",
       "Crop Type_Sugarcane    750000.0   0.085692   0.279909   0.0   0.0   0.0   0.0   \n",
       "Crop Type_Tobacco      750000.0   0.090667   0.287135   0.0   0.0   0.0   0.0   \n",
       "Crop Type_Wheat        750000.0   0.088837   0.284509   0.0   0.0   0.0   0.0   \n",
       "\n",
       "                        max  \n",
       "Temparature            38.0  \n",
       "Humidity               72.0  \n",
       "Moisture               65.0  \n",
       "Nitrogen               42.0  \n",
       "Potassium              19.0  \n",
       "Phosphorous            42.0  \n",
       "Fertilizer Name         6.0  \n",
       "Temparature_Bins        2.0  \n",
       "Humidity_Bins           2.0  \n",
       "Moisture_Bins           2.0  \n",
       "Nitrogen_Bins           2.0  \n",
       "Potassium_Bins          2.0  \n",
       "Phosphorous_Bins        2.0  \n",
       "Soil Type_Black         1.0  \n",
       "Soil Type_Clayey        1.0  \n",
       "Soil Type_Loamy         1.0  \n",
       "Soil Type_Red           1.0  \n",
       "Soil Type_Sandy         1.0  \n",
       "Crop Type_Barley        1.0  \n",
       "Crop Type_Cotton        1.0  \n",
       "Crop Type_Ground Nuts   1.0  \n",
       "Crop Type_Maize         1.0  \n",
       "Crop Type_Millets       1.0  \n",
       "Crop Type_Oil seeds     1.0  \n",
       "Crop Type_Paddy         1.0  \n",
       "Crop Type_Pulses        1.0  \n",
       "Crop Type_Sugarcane     1.0  \n",
       "Crop Type_Tobacco       1.0  \n",
       "Crop Type_Wheat         1.0  "
      ]
     },
     "execution_count": 21,
     "metadata": {},
     "output_type": "execute_result"
    }
   ],
   "source": [
    "df_encoded.describe().T"
   ]
  },
  {
   "cell_type": "code",
   "execution_count": 22,
   "id": "bb6e2b38",
   "metadata": {
    "execution": {
     "iopub.execute_input": "2025-07-01T00:18:02.671024Z",
     "iopub.status.busy": "2025-07-01T00:18:02.669927Z",
     "iopub.status.idle": "2025-07-01T00:18:02.748371Z",
     "shell.execute_reply": "2025-07-01T00:18:02.747691Z"
    },
    "papermill": {
     "duration": 0.100238,
     "end_time": "2025-07-01T00:18:02.749822",
     "exception": false,
     "start_time": "2025-07-01T00:18:02.649584",
     "status": "completed"
    },
    "tags": []
   },
   "outputs": [],
   "source": [
    "# We separate the target variable from the features\n",
    "\n",
    "x_fertilizers = df_encoded.drop(columns=\"Fertilizer Name\")\n",
    "y_fertilizers = df_encoded[\"Fertilizer Name\"]"
   ]
  },
  {
   "cell_type": "code",
   "execution_count": 23,
   "id": "b5934e97",
   "metadata": {
    "execution": {
     "iopub.execute_input": "2025-07-01T00:18:02.786323Z",
     "iopub.status.busy": "2025-07-01T00:18:02.785752Z",
     "iopub.status.idle": "2025-07-01T00:18:02.791322Z",
     "shell.execute_reply": "2025-07-01T00:18:02.790564Z"
    },
    "papermill": {
     "duration": 0.025226,
     "end_time": "2025-07-01T00:18:02.792646",
     "exception": false,
     "start_time": "2025-07-01T00:18:02.767420",
     "status": "completed"
    },
    "tags": []
   },
   "outputs": [
    {
     "data": {
      "text/plain": [
       "'\\n# Numerical variables to scale\\n\\nfertilizer_numeric = x_fertilizers[[\\n    \"Temparature\",\"Humidity\",\"Moisture\",\\n    \"Nitrogen\",\"Potassium\",\"Phosphorous\",\\n    \"tem_sq\",\"hum_sq\",\"moi_sq\",\\n    \"n_sq\",\"k_sq\",\"p_sq\"\\n]]\\n\\nscaler = MinMaxScaler().set_output(transform=\"pandas\")\\nscale_num = scaler.fit_transform(fertilizer_numeric)\\n\\n# We create a df with the remaining variables\\n\\nfertilizer_rest = x_fertilizers.drop(columns=[\\n    \"Temparature\",\"Humidity\",\"Moisture\",\\n    \"Nitrogen\",\"Potassium\",\"Phosphorous\",\\n    \"tem_sq\",\"hum_sq\",\"moi_sq\",\\n    \"n_sq\",\"k_sq\",\"p_sq\"\\n])\\n\\n# We concatenate the dataframes\\n\\nx_end = pd.concat([scale_num, fertilizer_rest], axis=1)\\n'"
      ]
     },
     "execution_count": 23,
     "metadata": {},
     "output_type": "execute_result"
    }
   ],
   "source": [
    "'''\n",
    "# Numerical variables to scale\n",
    "\n",
    "fertilizer_numeric = x_fertilizers[[\n",
    "    \"Temparature\",\"Humidity\",\"Moisture\",\n",
    "    \"Nitrogen\",\"Potassium\",\"Phosphorous\",\n",
    "    \"tem_sq\",\"hum_sq\",\"moi_sq\",\n",
    "    \"n_sq\",\"k_sq\",\"p_sq\"\n",
    "]]\n",
    "\n",
    "scaler = MinMaxScaler().set_output(transform=\"pandas\")\n",
    "scale_num = scaler.fit_transform(fertilizer_numeric)\n",
    "\n",
    "# We create a df with the remaining variables\n",
    "\n",
    "fertilizer_rest = x_fertilizers.drop(columns=[\n",
    "    \"Temparature\",\"Humidity\",\"Moisture\",\n",
    "    \"Nitrogen\",\"Potassium\",\"Phosphorous\",\n",
    "    \"tem_sq\",\"hum_sq\",\"moi_sq\",\n",
    "    \"n_sq\",\"k_sq\",\"p_sq\"\n",
    "])\n",
    "\n",
    "# We concatenate the dataframes\n",
    "\n",
    "x_end = pd.concat([scale_num, fertilizer_rest], axis=1)\n",
    "'''"
   ]
  },
  {
   "cell_type": "code",
   "execution_count": 24,
   "id": "3d03f57d",
   "metadata": {
    "execution": {
     "iopub.execute_input": "2025-07-01T00:18:02.828957Z",
     "iopub.status.busy": "2025-07-01T00:18:02.828611Z",
     "iopub.status.idle": "2025-07-01T00:18:03.169178Z",
     "shell.execute_reply": "2025-07-01T00:18:03.168487Z"
    },
    "papermill": {
     "duration": 0.360265,
     "end_time": "2025-07-01T00:18:03.170678",
     "exception": false,
     "start_time": "2025-07-01T00:18:02.810413",
     "status": "completed"
    },
    "tags": []
   },
   "outputs": [],
   "source": [
    "# Numerical variables to scale\n",
    "\n",
    "fertilizer_numeric = x_fertilizers[[\n",
    "    \"Temparature\",\"Humidity\",\"Moisture\",\n",
    "    \"Nitrogen\",\"Potassium\",\"Phosphorous\"\n",
    "]]\n",
    "\n",
    "scaler = MinMaxScaler().set_output(transform=\"pandas\")\n",
    "scale_num = scaler.fit_transform(fertilizer_numeric)\n",
    "\n",
    "# We create a df with the remaining variables\n",
    "\n",
    "fertilizer_rest = x_fertilizers.drop(columns=[\n",
    "    \"Temparature\",\"Humidity\",\"Moisture\",\n",
    "    \"Nitrogen\",\"Potassium\",\"Phosphorous\"\n",
    "])\n",
    "\n",
    "# We concatenate the dataframes\n",
    "\n",
    "x_end = pd.concat([scale_num, fertilizer_rest], axis=1)"
   ]
  },
  {
   "cell_type": "code",
   "execution_count": 25,
   "id": "7dcada4b",
   "metadata": {
    "execution": {
     "iopub.execute_input": "2025-07-01T00:18:03.207381Z",
     "iopub.status.busy": "2025-07-01T00:18:03.207084Z",
     "iopub.status.idle": "2025-07-01T00:18:03.299185Z",
     "shell.execute_reply": "2025-07-01T00:18:03.298152Z"
    },
    "papermill": {
     "duration": 0.111879,
     "end_time": "2025-07-01T00:18:03.300634",
     "exception": false,
     "start_time": "2025-07-01T00:18:03.188755",
     "status": "completed"
    },
    "tags": []
   },
   "outputs": [
    {
     "name": "stdout",
     "output_type": "stream",
     "text": [
      "<class 'pandas.core.frame.DataFrame'>\n",
      "Index: 750000 entries, 0 to 749999\n",
      "Data columns (total 28 columns):\n",
      " #   Column                 Non-Null Count   Dtype  \n",
      "---  ------                 --------------   -----  \n",
      " 0   Temparature            750000 non-null  float64\n",
      " 1   Humidity               750000 non-null  float64\n",
      " 2   Moisture               750000 non-null  float64\n",
      " 3   Nitrogen               750000 non-null  float64\n",
      " 4   Potassium              750000 non-null  float64\n",
      " 5   Phosphorous            750000 non-null  float64\n",
      " 6   Temparature_Bins       750000 non-null  float64\n",
      " 7   Humidity_Bins          750000 non-null  float64\n",
      " 8   Moisture_Bins          750000 non-null  float64\n",
      " 9   Nitrogen_Bins          750000 non-null  float64\n",
      " 10  Potassium_Bins         750000 non-null  float64\n",
      " 11  Phosphorous_Bins       750000 non-null  float64\n",
      " 12  Soil Type_Black        750000 non-null  float64\n",
      " 13  Soil Type_Clayey       750000 non-null  float64\n",
      " 14  Soil Type_Loamy        750000 non-null  float64\n",
      " 15  Soil Type_Red          750000 non-null  float64\n",
      " 16  Soil Type_Sandy        750000 non-null  float64\n",
      " 17  Crop Type_Barley       750000 non-null  float64\n",
      " 18  Crop Type_Cotton       750000 non-null  float64\n",
      " 19  Crop Type_Ground Nuts  750000 non-null  float64\n",
      " 20  Crop Type_Maize        750000 non-null  float64\n",
      " 21  Crop Type_Millets      750000 non-null  float64\n",
      " 22  Crop Type_Oil seeds    750000 non-null  float64\n",
      " 23  Crop Type_Paddy        750000 non-null  float64\n",
      " 24  Crop Type_Pulses       750000 non-null  float64\n",
      " 25  Crop Type_Sugarcane    750000 non-null  float64\n",
      " 26  Crop Type_Tobacco      750000 non-null  float64\n",
      " 27  Crop Type_Wheat        750000 non-null  float64\n",
      "dtypes: float64(28)\n",
      "memory usage: 165.9 MB\n"
     ]
    }
   ],
   "source": [
    "x_end.info()"
   ]
  },
  {
   "cell_type": "code",
   "execution_count": 26,
   "id": "59a27c25",
   "metadata": {
    "execution": {
     "iopub.execute_input": "2025-07-01T00:18:03.338004Z",
     "iopub.status.busy": "2025-07-01T00:18:03.337037Z",
     "iopub.status.idle": "2025-07-01T00:18:04.391071Z",
     "shell.execute_reply": "2025-07-01T00:18:04.390357Z"
    },
    "papermill": {
     "duration": 1.074089,
     "end_time": "2025-07-01T00:18:04.392581",
     "exception": false,
     "start_time": "2025-07-01T00:18:03.318492",
     "status": "completed"
    },
    "tags": []
   },
   "outputs": [
    {
     "data": {
      "text/html": [
       "<div>\n",
       "<style scoped>\n",
       "    .dataframe tbody tr th:only-of-type {\n",
       "        vertical-align: middle;\n",
       "    }\n",
       "\n",
       "    .dataframe tbody tr th {\n",
       "        vertical-align: top;\n",
       "    }\n",
       "\n",
       "    .dataframe thead th {\n",
       "        text-align: right;\n",
       "    }\n",
       "</style>\n",
       "<table border=\"1\" class=\"dataframe\">\n",
       "  <thead>\n",
       "    <tr style=\"text-align: right;\">\n",
       "      <th></th>\n",
       "      <th>count</th>\n",
       "      <th>mean</th>\n",
       "      <th>std</th>\n",
       "      <th>min</th>\n",
       "      <th>25%</th>\n",
       "      <th>50%</th>\n",
       "      <th>75%</th>\n",
       "      <th>max</th>\n",
       "    </tr>\n",
       "  </thead>\n",
       "  <tbody>\n",
       "    <tr>\n",
       "      <th>Temparature</th>\n",
       "      <td>750000.0</td>\n",
       "      <td>0.500274</td>\n",
       "      <td>0.309660</td>\n",
       "      <td>0.0</td>\n",
       "      <td>0.230769</td>\n",
       "      <td>0.538462</td>\n",
       "      <td>0.769231</td>\n",
       "      <td>1.0</td>\n",
       "    </tr>\n",
       "    <tr>\n",
       "      <th>Humidity</th>\n",
       "      <td>750000.0</td>\n",
       "      <td>0.501769</td>\n",
       "      <td>0.302168</td>\n",
       "      <td>0.0</td>\n",
       "      <td>0.227273</td>\n",
       "      <td>0.500000</td>\n",
       "      <td>0.772727</td>\n",
       "      <td>1.0</td>\n",
       "    </tr>\n",
       "    <tr>\n",
       "      <th>Moisture</th>\n",
       "      <td>750000.0</td>\n",
       "      <td>0.504604</td>\n",
       "      <td>0.294865</td>\n",
       "      <td>0.0</td>\n",
       "      <td>0.250000</td>\n",
       "      <td>0.500000</td>\n",
       "      <td>0.750000</td>\n",
       "      <td>1.0</td>\n",
       "    </tr>\n",
       "    <tr>\n",
       "      <th>Nitrogen</th>\n",
       "      <td>750000.0</td>\n",
       "      <td>0.502469</td>\n",
       "      <td>0.295161</td>\n",
       "      <td>0.0</td>\n",
       "      <td>0.236842</td>\n",
       "      <td>0.500000</td>\n",
       "      <td>0.763158</td>\n",
       "      <td>1.0</td>\n",
       "    </tr>\n",
       "    <tr>\n",
       "      <th>Potassium</th>\n",
       "      <td>750000.0</td>\n",
       "      <td>0.498858</td>\n",
       "      <td>0.303454</td>\n",
       "      <td>0.0</td>\n",
       "      <td>0.210526</td>\n",
       "      <td>0.473684</td>\n",
       "      <td>0.736842</td>\n",
       "      <td>1.0</td>\n",
       "    </tr>\n",
       "    <tr>\n",
       "      <th>Phosphorous</th>\n",
       "      <td>750000.0</td>\n",
       "      <td>0.501743</td>\n",
       "      <td>0.293972</td>\n",
       "      <td>0.0</td>\n",
       "      <td>0.238095</td>\n",
       "      <td>0.500000</td>\n",
       "      <td>0.761905</td>\n",
       "      <td>1.0</td>\n",
       "    </tr>\n",
       "    <tr>\n",
       "      <th>Temparature_Bins</th>\n",
       "      <td>750000.0</td>\n",
       "      <td>1.001719</td>\n",
       "      <td>0.844885</td>\n",
       "      <td>0.0</td>\n",
       "      <td>0.000000</td>\n",
       "      <td>1.000000</td>\n",
       "      <td>2.000000</td>\n",
       "      <td>2.0</td>\n",
       "    </tr>\n",
       "    <tr>\n",
       "      <th>Humidity_Bins</th>\n",
       "      <td>750000.0</td>\n",
       "      <td>0.960079</td>\n",
       "      <td>0.807891</td>\n",
       "      <td>0.0</td>\n",
       "      <td>0.000000</td>\n",
       "      <td>1.000000</td>\n",
       "      <td>2.000000</td>\n",
       "      <td>2.0</td>\n",
       "    </tr>\n",
       "    <tr>\n",
       "      <th>Moisture_Bins</th>\n",
       "      <td>750000.0</td>\n",
       "      <td>1.060707</td>\n",
       "      <td>0.791970</td>\n",
       "      <td>0.0</td>\n",
       "      <td>0.000000</td>\n",
       "      <td>1.000000</td>\n",
       "      <td>2.000000</td>\n",
       "      <td>2.0</td>\n",
       "    </tr>\n",
       "    <tr>\n",
       "      <th>Nitrogen_Bins</th>\n",
       "      <td>750000.0</td>\n",
       "      <td>1.005467</td>\n",
       "      <td>0.781365</td>\n",
       "      <td>0.0</td>\n",
       "      <td>0.000000</td>\n",
       "      <td>1.000000</td>\n",
       "      <td>2.000000</td>\n",
       "      <td>2.0</td>\n",
       "    </tr>\n",
       "    <tr>\n",
       "      <th>Potassium_Bins</th>\n",
       "      <td>750000.0</td>\n",
       "      <td>0.999963</td>\n",
       "      <td>0.836567</td>\n",
       "      <td>0.0</td>\n",
       "      <td>0.000000</td>\n",
       "      <td>1.000000</td>\n",
       "      <td>2.000000</td>\n",
       "      <td>2.0</td>\n",
       "    </tr>\n",
       "    <tr>\n",
       "      <th>Phosphorous_Bins</th>\n",
       "      <td>750000.0</td>\n",
       "      <td>0.909156</td>\n",
       "      <td>0.797008</td>\n",
       "      <td>0.0</td>\n",
       "      <td>0.000000</td>\n",
       "      <td>1.000000</td>\n",
       "      <td>2.000000</td>\n",
       "      <td>2.0</td>\n",
       "    </tr>\n",
       "    <tr>\n",
       "      <th>Soil Type_Black</th>\n",
       "      <td>750000.0</td>\n",
       "      <td>0.201275</td>\n",
       "      <td>0.400953</td>\n",
       "      <td>0.0</td>\n",
       "      <td>0.000000</td>\n",
       "      <td>0.000000</td>\n",
       "      <td>0.000000</td>\n",
       "      <td>1.0</td>\n",
       "    </tr>\n",
       "    <tr>\n",
       "      <th>Soil Type_Clayey</th>\n",
       "      <td>750000.0</td>\n",
       "      <td>0.197843</td>\n",
       "      <td>0.398373</td>\n",
       "      <td>0.0</td>\n",
       "      <td>0.000000</td>\n",
       "      <td>0.000000</td>\n",
       "      <td>0.000000</td>\n",
       "      <td>1.0</td>\n",
       "    </tr>\n",
       "    <tr>\n",
       "      <th>Soil Type_Loamy</th>\n",
       "      <td>750000.0</td>\n",
       "      <td>0.194467</td>\n",
       "      <td>0.395790</td>\n",
       "      <td>0.0</td>\n",
       "      <td>0.000000</td>\n",
       "      <td>0.000000</td>\n",
       "      <td>0.000000</td>\n",
       "      <td>1.0</td>\n",
       "    </tr>\n",
       "    <tr>\n",
       "      <th>Soil Type_Red</th>\n",
       "      <td>750000.0</td>\n",
       "      <td>0.197469</td>\n",
       "      <td>0.398090</td>\n",
       "      <td>0.0</td>\n",
       "      <td>0.000000</td>\n",
       "      <td>0.000000</td>\n",
       "      <td>0.000000</td>\n",
       "      <td>1.0</td>\n",
       "    </tr>\n",
       "    <tr>\n",
       "      <th>Soil Type_Sandy</th>\n",
       "      <td>750000.0</td>\n",
       "      <td>0.208947</td>\n",
       "      <td>0.406556</td>\n",
       "      <td>0.0</td>\n",
       "      <td>0.000000</td>\n",
       "      <td>0.000000</td>\n",
       "      <td>0.000000</td>\n",
       "      <td>1.0</td>\n",
       "    </tr>\n",
       "    <tr>\n",
       "      <th>Crop Type_Barley</th>\n",
       "      <td>750000.0</td>\n",
       "      <td>0.086727</td>\n",
       "      <td>0.281434</td>\n",
       "      <td>0.0</td>\n",
       "      <td>0.000000</td>\n",
       "      <td>0.000000</td>\n",
       "      <td>0.000000</td>\n",
       "      <td>1.0</td>\n",
       "    </tr>\n",
       "    <tr>\n",
       "      <th>Crop Type_Cotton</th>\n",
       "      <td>750000.0</td>\n",
       "      <td>0.092228</td>\n",
       "      <td>0.289348</td>\n",
       "      <td>0.0</td>\n",
       "      <td>0.000000</td>\n",
       "      <td>0.000000</td>\n",
       "      <td>0.000000</td>\n",
       "      <td>1.0</td>\n",
       "    </tr>\n",
       "    <tr>\n",
       "      <th>Crop Type_Ground Nuts</th>\n",
       "      <td>750000.0</td>\n",
       "      <td>0.081212</td>\n",
       "      <td>0.273161</td>\n",
       "      <td>0.0</td>\n",
       "      <td>0.000000</td>\n",
       "      <td>0.000000</td>\n",
       "      <td>0.000000</td>\n",
       "      <td>1.0</td>\n",
       "    </tr>\n",
       "    <tr>\n",
       "      <th>Crop Type_Maize</th>\n",
       "      <td>750000.0</td>\n",
       "      <td>0.083425</td>\n",
       "      <td>0.276524</td>\n",
       "      <td>0.0</td>\n",
       "      <td>0.000000</td>\n",
       "      <td>0.000000</td>\n",
       "      <td>0.000000</td>\n",
       "      <td>1.0</td>\n",
       "    </tr>\n",
       "    <tr>\n",
       "      <th>Crop Type_Millets</th>\n",
       "      <td>750000.0</td>\n",
       "      <td>0.087055</td>\n",
       "      <td>0.281915</td>\n",
       "      <td>0.0</td>\n",
       "      <td>0.000000</td>\n",
       "      <td>0.000000</td>\n",
       "      <td>0.000000</td>\n",
       "      <td>1.0</td>\n",
       "    </tr>\n",
       "    <tr>\n",
       "      <th>Crop Type_Oil seeds</th>\n",
       "      <td>750000.0</td>\n",
       "      <td>0.085579</td>\n",
       "      <td>0.279741</td>\n",
       "      <td>0.0</td>\n",
       "      <td>0.000000</td>\n",
       "      <td>0.000000</td>\n",
       "      <td>0.000000</td>\n",
       "      <td>1.0</td>\n",
       "    </tr>\n",
       "    <tr>\n",
       "      <th>Crop Type_Paddy</th>\n",
       "      <td>750000.0</td>\n",
       "      <td>0.114339</td>\n",
       "      <td>0.318222</td>\n",
       "      <td>0.0</td>\n",
       "      <td>0.000000</td>\n",
       "      <td>0.000000</td>\n",
       "      <td>0.000000</td>\n",
       "      <td>1.0</td>\n",
       "    </tr>\n",
       "    <tr>\n",
       "      <th>Crop Type_Pulses</th>\n",
       "      <td>750000.0</td>\n",
       "      <td>0.104240</td>\n",
       "      <td>0.305572</td>\n",
       "      <td>0.0</td>\n",
       "      <td>0.000000</td>\n",
       "      <td>0.000000</td>\n",
       "      <td>0.000000</td>\n",
       "      <td>1.0</td>\n",
       "    </tr>\n",
       "    <tr>\n",
       "      <th>Crop Type_Sugarcane</th>\n",
       "      <td>750000.0</td>\n",
       "      <td>0.085692</td>\n",
       "      <td>0.279909</td>\n",
       "      <td>0.0</td>\n",
       "      <td>0.000000</td>\n",
       "      <td>0.000000</td>\n",
       "      <td>0.000000</td>\n",
       "      <td>1.0</td>\n",
       "    </tr>\n",
       "    <tr>\n",
       "      <th>Crop Type_Tobacco</th>\n",
       "      <td>750000.0</td>\n",
       "      <td>0.090667</td>\n",
       "      <td>0.287135</td>\n",
       "      <td>0.0</td>\n",
       "      <td>0.000000</td>\n",
       "      <td>0.000000</td>\n",
       "      <td>0.000000</td>\n",
       "      <td>1.0</td>\n",
       "    </tr>\n",
       "    <tr>\n",
       "      <th>Crop Type_Wheat</th>\n",
       "      <td>750000.0</td>\n",
       "      <td>0.088837</td>\n",
       "      <td>0.284509</td>\n",
       "      <td>0.0</td>\n",
       "      <td>0.000000</td>\n",
       "      <td>0.000000</td>\n",
       "      <td>0.000000</td>\n",
       "      <td>1.0</td>\n",
       "    </tr>\n",
       "  </tbody>\n",
       "</table>\n",
       "</div>"
      ],
      "text/plain": [
       "                          count      mean       std  min       25%       50%  \\\n",
       "Temparature            750000.0  0.500274  0.309660  0.0  0.230769  0.538462   \n",
       "Humidity               750000.0  0.501769  0.302168  0.0  0.227273  0.500000   \n",
       "Moisture               750000.0  0.504604  0.294865  0.0  0.250000  0.500000   \n",
       "Nitrogen               750000.0  0.502469  0.295161  0.0  0.236842  0.500000   \n",
       "Potassium              750000.0  0.498858  0.303454  0.0  0.210526  0.473684   \n",
       "Phosphorous            750000.0  0.501743  0.293972  0.0  0.238095  0.500000   \n",
       "Temparature_Bins       750000.0  1.001719  0.844885  0.0  0.000000  1.000000   \n",
       "Humidity_Bins          750000.0  0.960079  0.807891  0.0  0.000000  1.000000   \n",
       "Moisture_Bins          750000.0  1.060707  0.791970  0.0  0.000000  1.000000   \n",
       "Nitrogen_Bins          750000.0  1.005467  0.781365  0.0  0.000000  1.000000   \n",
       "Potassium_Bins         750000.0  0.999963  0.836567  0.0  0.000000  1.000000   \n",
       "Phosphorous_Bins       750000.0  0.909156  0.797008  0.0  0.000000  1.000000   \n",
       "Soil Type_Black        750000.0  0.201275  0.400953  0.0  0.000000  0.000000   \n",
       "Soil Type_Clayey       750000.0  0.197843  0.398373  0.0  0.000000  0.000000   \n",
       "Soil Type_Loamy        750000.0  0.194467  0.395790  0.0  0.000000  0.000000   \n",
       "Soil Type_Red          750000.0  0.197469  0.398090  0.0  0.000000  0.000000   \n",
       "Soil Type_Sandy        750000.0  0.208947  0.406556  0.0  0.000000  0.000000   \n",
       "Crop Type_Barley       750000.0  0.086727  0.281434  0.0  0.000000  0.000000   \n",
       "Crop Type_Cotton       750000.0  0.092228  0.289348  0.0  0.000000  0.000000   \n",
       "Crop Type_Ground Nuts  750000.0  0.081212  0.273161  0.0  0.000000  0.000000   \n",
       "Crop Type_Maize        750000.0  0.083425  0.276524  0.0  0.000000  0.000000   \n",
       "Crop Type_Millets      750000.0  0.087055  0.281915  0.0  0.000000  0.000000   \n",
       "Crop Type_Oil seeds    750000.0  0.085579  0.279741  0.0  0.000000  0.000000   \n",
       "Crop Type_Paddy        750000.0  0.114339  0.318222  0.0  0.000000  0.000000   \n",
       "Crop Type_Pulses       750000.0  0.104240  0.305572  0.0  0.000000  0.000000   \n",
       "Crop Type_Sugarcane    750000.0  0.085692  0.279909  0.0  0.000000  0.000000   \n",
       "Crop Type_Tobacco      750000.0  0.090667  0.287135  0.0  0.000000  0.000000   \n",
       "Crop Type_Wheat        750000.0  0.088837  0.284509  0.0  0.000000  0.000000   \n",
       "\n",
       "                            75%  max  \n",
       "Temparature            0.769231  1.0  \n",
       "Humidity               0.772727  1.0  \n",
       "Moisture               0.750000  1.0  \n",
       "Nitrogen               0.763158  1.0  \n",
       "Potassium              0.736842  1.0  \n",
       "Phosphorous            0.761905  1.0  \n",
       "Temparature_Bins       2.000000  2.0  \n",
       "Humidity_Bins          2.000000  2.0  \n",
       "Moisture_Bins          2.000000  2.0  \n",
       "Nitrogen_Bins          2.000000  2.0  \n",
       "Potassium_Bins         2.000000  2.0  \n",
       "Phosphorous_Bins       2.000000  2.0  \n",
       "Soil Type_Black        0.000000  1.0  \n",
       "Soil Type_Clayey       0.000000  1.0  \n",
       "Soil Type_Loamy        0.000000  1.0  \n",
       "Soil Type_Red          0.000000  1.0  \n",
       "Soil Type_Sandy        0.000000  1.0  \n",
       "Crop Type_Barley       0.000000  1.0  \n",
       "Crop Type_Cotton       0.000000  1.0  \n",
       "Crop Type_Ground Nuts  0.000000  1.0  \n",
       "Crop Type_Maize        0.000000  1.0  \n",
       "Crop Type_Millets      0.000000  1.0  \n",
       "Crop Type_Oil seeds    0.000000  1.0  \n",
       "Crop Type_Paddy        0.000000  1.0  \n",
       "Crop Type_Pulses       0.000000  1.0  \n",
       "Crop Type_Sugarcane    0.000000  1.0  \n",
       "Crop Type_Tobacco      0.000000  1.0  \n",
       "Crop Type_Wheat        0.000000  1.0  "
      ]
     },
     "execution_count": 26,
     "metadata": {},
     "output_type": "execute_result"
    }
   ],
   "source": [
    "x_end.describe().T"
   ]
  },
  {
   "cell_type": "markdown",
   "id": "fb640ef0",
   "metadata": {
    "papermill": {
     "duration": 0.017389,
     "end_time": "2025-07-01T00:18:04.428315",
     "exception": false,
     "start_time": "2025-07-01T00:18:04.410926",
     "status": "completed"
    },
    "tags": []
   },
   "source": [
    "## Feature Selection"
   ]
  },
  {
   "cell_type": "code",
   "execution_count": 27,
   "id": "0477aa07",
   "metadata": {
    "execution": {
     "iopub.execute_input": "2025-07-01T00:18:04.464625Z",
     "iopub.status.busy": "2025-07-01T00:18:04.464332Z",
     "iopub.status.idle": "2025-07-01T00:18:04.469516Z",
     "shell.execute_reply": "2025-07-01T00:18:04.468727Z"
    },
    "papermill": {
     "duration": 0.025008,
     "end_time": "2025-07-01T00:18:04.470911",
     "exception": false,
     "start_time": "2025-07-01T00:18:04.445903",
     "status": "completed"
    },
    "tags": []
   },
   "outputs": [
    {
     "data": {
      "text/plain": [
       "'\\nfertilizers_scores = mutual_info_classif(x_end, y_fertilizers)\\nfertilizers_scores = pd.Series(fertilizers_scores, name=\"Fertilizers MI Scores\", index=x_end.columns)\\nfertilizers_scores = fertilizers_scores.sort_values(ascending=False)\\nfertilizers_scores\\n'"
      ]
     },
     "execution_count": 27,
     "metadata": {},
     "output_type": "execute_result"
    }
   ],
   "source": [
    "'''\n",
    "fertilizers_scores = mutual_info_classif(x_end, y_fertilizers)\n",
    "fertilizers_scores = pd.Series(fertilizers_scores, name=\"Fertilizers MI Scores\", index=x_end.columns)\n",
    "fertilizers_scores = fertilizers_scores.sort_values(ascending=False)\n",
    "fertilizers_scores\n",
    "'''"
   ]
  },
  {
   "cell_type": "markdown",
   "id": "0b3a7a5e",
   "metadata": {
    "papermill": {
     "duration": 0.01847,
     "end_time": "2025-07-01T00:18:04.507778",
     "exception": false,
     "start_time": "2025-07-01T00:18:04.489308",
     "status": "completed"
    },
    "tags": []
   },
   "source": [
    "First feature analysis: All Features\n",
    "\n",
    "    Moisture_Bins            0.010722\n",
    "    Potassium_Bins           0.010263\n",
    "    Nitrogen_Bins            0.009758\n",
    "    Temparature_Bins         0.009301\n",
    "    Humidity_Bins            0.009003\n",
    "    Phosphorous_Bins         0.008652\n",
    "    p_sq                     0.004939\n",
    "    Soil Type_Red            0.004646\n",
    "    moi_sq                   0.004591\n",
    "    Soil Type_Clayey         0.004016\n",
    "    tem_sq                   0.003965\n",
    "    p_log                    0.003829\n",
    "    Phosphorous              0.003596\n",
    "    moi_cubert               0.003573\n",
    "    p_cubert                 0.003512\n",
    "    k_log                    0.003362\n",
    "    Soil Type_Loamy          0.003089\n",
    "    Moisture                 0.002972\n",
    "    moi_log                  0.002962\n",
    "    tem_log                  0.002932\n",
    "    Temparature              0.002869\n",
    "    Crop Type_Tobacco        0.002838\n",
    "    Potassium                0.002815\n",
    "    Crop Type_Cotton         0.002729\n",
    "    k_sq                     0.002702\n",
    "    Nitrogen                 0.002574\n",
    "    Soil Type_Sandy          0.002465\n",
    "    hum_log                  0.002205\n",
    "    Humidity                 0.002096\n",
    "    n_cubert                 0.002027\n",
    "    Crop Type_Paddy          0.002016\n",
    "    k_cubert                 0.001883\n",
    "    n_sq                     0.001818\n",
    "    Crop Type_Oil seeds      0.001802\n",
    "    hum_cubert               0.001699\n",
    "    n_log                    0.001666\n",
    "    Soil Type_Black          0.001601\n",
    "    hum_sq                   0.001590\n",
    "    Crop Type_Pulses         0.001401\n",
    "    tem_cubert               0.001277\n",
    "    Crop Type_Wheat          0.001178\n",
    "    Crop Type_Millets        0.000953\n",
    "    Crop Type_Ground Nuts    0.000540\n",
    "    Crop Type_Sugarcane      0.000244\n",
    "    Crop Type_Maize          0.000215\n",
    "    Crop Type_Barley         0.000000"
   ]
  },
  {
   "cell_type": "code",
   "execution_count": 28,
   "id": "6250e9dc",
   "metadata": {
    "execution": {
     "iopub.execute_input": "2025-07-01T00:18:04.546643Z",
     "iopub.status.busy": "2025-07-01T00:18:04.545869Z",
     "iopub.status.idle": "2025-07-01T00:18:04.550837Z",
     "shell.execute_reply": "2025-07-01T00:18:04.550186Z"
    },
    "papermill": {
     "duration": 0.026473,
     "end_time": "2025-07-01T00:18:04.552276",
     "exception": false,
     "start_time": "2025-07-01T00:18:04.525803",
     "status": "completed"
    },
    "tags": []
   },
   "outputs": [
    {
     "data": {
      "text/plain": [
       "'\\nscores = fertilizers_scores.sort_values(ascending=True)\\nwidth = np.arange(len(fertilizers_scores))\\nticks = list(fertilizers_scores.index)\\nplt.barh(width, fertilizers_scores)\\nplt.yticks(width, ticks)\\nplt.title(\"Mutual Information Scores\")\\nplt.figure(dpi=100, figsize=(8, 5))\\nplt.show()\\n'"
      ]
     },
     "execution_count": 28,
     "metadata": {},
     "output_type": "execute_result"
    }
   ],
   "source": [
    "'''\n",
    "scores = fertilizers_scores.sort_values(ascending=True)\n",
    "width = np.arange(len(fertilizers_scores))\n",
    "ticks = list(fertilizers_scores.index)\n",
    "plt.barh(width, fertilizers_scores)\n",
    "plt.yticks(width, ticks)\n",
    "plt.title(\"Mutual Information Scores\")\n",
    "plt.figure(dpi=100, figsize=(8, 5))\n",
    "plt.show()\n",
    "'''"
   ]
  },
  {
   "cell_type": "code",
   "execution_count": 29,
   "id": "67d6f303",
   "metadata": {
    "execution": {
     "iopub.execute_input": "2025-07-01T00:18:04.591406Z",
     "iopub.status.busy": "2025-07-01T00:18:04.591132Z",
     "iopub.status.idle": "2025-07-01T00:18:04.596853Z",
     "shell.execute_reply": "2025-07-01T00:18:04.596022Z"
    },
    "papermill": {
     "duration": 0.026139,
     "end_time": "2025-07-01T00:18:04.598173",
     "exception": false,
     "start_time": "2025-07-01T00:18:04.572034",
     "status": "completed"
    },
    "tags": []
   },
   "outputs": [
    {
     "data": {
      "text/plain": [
       "Index(['Temparature', 'Humidity', 'Moisture', 'Nitrogen', 'Potassium',\n",
       "       'Phosphorous', 'Temparature_Bins', 'Humidity_Bins', 'Moisture_Bins',\n",
       "       'Nitrogen_Bins', 'Potassium_Bins', 'Phosphorous_Bins',\n",
       "       'Soil Type_Black', 'Soil Type_Clayey', 'Soil Type_Loamy',\n",
       "       'Soil Type_Red', 'Soil Type_Sandy', 'Crop Type_Barley',\n",
       "       'Crop Type_Cotton', 'Crop Type_Ground Nuts', 'Crop Type_Maize',\n",
       "       'Crop Type_Millets', 'Crop Type_Oil seeds', 'Crop Type_Paddy',\n",
       "       'Crop Type_Pulses', 'Crop Type_Sugarcane', 'Crop Type_Tobacco',\n",
       "       'Crop Type_Wheat'],\n",
       "      dtype='object')"
      ]
     },
     "execution_count": 29,
     "metadata": {},
     "output_type": "execute_result"
    }
   ],
   "source": [
    "x_end.columns"
   ]
  },
  {
   "cell_type": "code",
   "execution_count": 30,
   "id": "b093043e",
   "metadata": {
    "execution": {
     "iopub.execute_input": "2025-07-01T00:18:04.636433Z",
     "iopub.status.busy": "2025-07-01T00:18:04.635755Z",
     "iopub.status.idle": "2025-07-01T00:18:04.641942Z",
     "shell.execute_reply": "2025-07-01T00:18:04.640991Z"
    },
    "papermill": {
     "duration": 0.026795,
     "end_time": "2025-07-01T00:18:04.643426",
     "exception": false,
     "start_time": "2025-07-01T00:18:04.616631",
     "status": "completed"
    },
    "tags": []
   },
   "outputs": [
    {
     "data": {
      "text/plain": [
       "'\\nx_comp = x_end[[\\'Soil Type_Black\\',\\n       \\'Soil Type_Clayey\\', \\'Soil Type_Loamy\\', \\'Soil Type_Red\\',\\n       \\'Soil Type_Sandy\\', \\'Crop Type_Barley\\', \\'Crop Type_Cotton\\',\\n       \\'Crop Type_Ground Nuts\\', \\'Crop Type_Maize\\', \\'Crop Type_Millets\\',\\n       \\'Crop Type_Oil seeds\\', \\'Crop Type_Paddy\\', \\'Crop Type_Pulses\\',\\n       \\'Crop Type_Sugarcane\\', \\'Crop Type_Tobacco\\', \\'Crop Type_Wheat\\']]\\n\\npca = PCA(n_components=2).set_output(transform=\"pandas\")\\nx_pca = pca.fit_transform(x_comp)\\n\\nx_keep = x_end.drop(columns=[\\'Soil Type_Black\\',\\n       \\'Soil Type_Clayey\\', \\'Soil Type_Loamy\\', \\'Soil Type_Red\\',\\n       \\'Soil Type_Sandy\\', \\'Crop Type_Barley\\', \\'Crop Type_Cotton\\',\\n       \\'Crop Type_Ground Nuts\\', \\'Crop Type_Maize\\', \\'Crop Type_Millets\\',\\n       \\'Crop Type_Oil seeds\\', \\'Crop Type_Paddy\\', \\'Crop Type_Pulses\\',\\n       \\'Crop Type_Sugarcane\\', \\'Crop Type_Tobacco\\', \\'Crop Type_Wheat\\'])\\n\\nx_end_new = pd.concat([x_keep, x_pca], axis=1)\\n'"
      ]
     },
     "execution_count": 30,
     "metadata": {},
     "output_type": "execute_result"
    }
   ],
   "source": [
    "'''\n",
    "x_comp = x_end[['Soil Type_Black',\n",
    "       'Soil Type_Clayey', 'Soil Type_Loamy', 'Soil Type_Red',\n",
    "       'Soil Type_Sandy', 'Crop Type_Barley', 'Crop Type_Cotton',\n",
    "       'Crop Type_Ground Nuts', 'Crop Type_Maize', 'Crop Type_Millets',\n",
    "       'Crop Type_Oil seeds', 'Crop Type_Paddy', 'Crop Type_Pulses',\n",
    "       'Crop Type_Sugarcane', 'Crop Type_Tobacco', 'Crop Type_Wheat']]\n",
    "\n",
    "pca = PCA(n_components=2).set_output(transform=\"pandas\")\n",
    "x_pca = pca.fit_transform(x_comp)\n",
    "\n",
    "x_keep = x_end.drop(columns=['Soil Type_Black',\n",
    "       'Soil Type_Clayey', 'Soil Type_Loamy', 'Soil Type_Red',\n",
    "       'Soil Type_Sandy', 'Crop Type_Barley', 'Crop Type_Cotton',\n",
    "       'Crop Type_Ground Nuts', 'Crop Type_Maize', 'Crop Type_Millets',\n",
    "       'Crop Type_Oil seeds', 'Crop Type_Paddy', 'Crop Type_Pulses',\n",
    "       'Crop Type_Sugarcane', 'Crop Type_Tobacco', 'Crop Type_Wheat'])\n",
    "\n",
    "x_end_new = pd.concat([x_keep, x_pca], axis=1)\n",
    "'''"
   ]
  },
  {
   "cell_type": "code",
   "execution_count": 31,
   "id": "4aa6c60e",
   "metadata": {
    "execution": {
     "iopub.execute_input": "2025-07-01T00:18:04.682824Z",
     "iopub.status.busy": "2025-07-01T00:18:04.682035Z",
     "iopub.status.idle": "2025-07-01T00:18:04.685653Z",
     "shell.execute_reply": "2025-07-01T00:18:04.685038Z"
    },
    "papermill": {
     "duration": 0.024833,
     "end_time": "2025-07-01T00:18:04.687007",
     "exception": false,
     "start_time": "2025-07-01T00:18:04.662174",
     "status": "completed"
    },
    "tags": []
   },
   "outputs": [],
   "source": [
    "#x_end_new = x_end.drop(columns=[])"
   ]
  },
  {
   "cell_type": "code",
   "execution_count": 32,
   "id": "75fdf9a3",
   "metadata": {
    "execution": {
     "iopub.execute_input": "2025-07-01T00:18:04.725335Z",
     "iopub.status.busy": "2025-07-01T00:18:04.725031Z",
     "iopub.status.idle": "2025-07-01T00:18:04.815370Z",
     "shell.execute_reply": "2025-07-01T00:18:04.814246Z"
    },
    "papermill": {
     "duration": 0.111043,
     "end_time": "2025-07-01T00:18:04.816820",
     "exception": false,
     "start_time": "2025-07-01T00:18:04.705777",
     "status": "completed"
    },
    "tags": []
   },
   "outputs": [
    {
     "name": "stdout",
     "output_type": "stream",
     "text": [
      "<class 'pandas.core.frame.DataFrame'>\n",
      "Index: 750000 entries, 0 to 749999\n",
      "Data columns (total 28 columns):\n",
      " #   Column                 Non-Null Count   Dtype  \n",
      "---  ------                 --------------   -----  \n",
      " 0   Temparature            750000 non-null  float64\n",
      " 1   Humidity               750000 non-null  float64\n",
      " 2   Moisture               750000 non-null  float64\n",
      " 3   Nitrogen               750000 non-null  float64\n",
      " 4   Potassium              750000 non-null  float64\n",
      " 5   Phosphorous            750000 non-null  float64\n",
      " 6   Temparature_Bins       750000 non-null  float64\n",
      " 7   Humidity_Bins          750000 non-null  float64\n",
      " 8   Moisture_Bins          750000 non-null  float64\n",
      " 9   Nitrogen_Bins          750000 non-null  float64\n",
      " 10  Potassium_Bins         750000 non-null  float64\n",
      " 11  Phosphorous_Bins       750000 non-null  float64\n",
      " 12  Soil Type_Black        750000 non-null  float64\n",
      " 13  Soil Type_Clayey       750000 non-null  float64\n",
      " 14  Soil Type_Loamy        750000 non-null  float64\n",
      " 15  Soil Type_Red          750000 non-null  float64\n",
      " 16  Soil Type_Sandy        750000 non-null  float64\n",
      " 17  Crop Type_Barley       750000 non-null  float64\n",
      " 18  Crop Type_Cotton       750000 non-null  float64\n",
      " 19  Crop Type_Ground Nuts  750000 non-null  float64\n",
      " 20  Crop Type_Maize        750000 non-null  float64\n",
      " 21  Crop Type_Millets      750000 non-null  float64\n",
      " 22  Crop Type_Oil seeds    750000 non-null  float64\n",
      " 23  Crop Type_Paddy        750000 non-null  float64\n",
      " 24  Crop Type_Pulses       750000 non-null  float64\n",
      " 25  Crop Type_Sugarcane    750000 non-null  float64\n",
      " 26  Crop Type_Tobacco      750000 non-null  float64\n",
      " 27  Crop Type_Wheat        750000 non-null  float64\n",
      "dtypes: float64(28)\n",
      "memory usage: 165.9 MB\n"
     ]
    }
   ],
   "source": [
    "x_end.info()"
   ]
  },
  {
   "cell_type": "markdown",
   "id": "272a4116",
   "metadata": {
    "papermill": {
     "duration": 0.021975,
     "end_time": "2025-07-01T00:18:04.860503",
     "exception": false,
     "start_time": "2025-07-01T00:18:04.838528",
     "status": "completed"
    },
    "tags": []
   },
   "source": [
    "# Model Selection"
   ]
  },
  {
   "cell_type": "code",
   "execution_count": 33,
   "id": "b687b678",
   "metadata": {
    "execution": {
     "iopub.execute_input": "2025-07-01T00:18:04.903280Z",
     "iopub.status.busy": "2025-07-01T00:18:04.902672Z",
     "iopub.status.idle": "2025-07-01T00:18:05.158763Z",
     "shell.execute_reply": "2025-07-01T00:18:05.158027Z"
    },
    "papermill": {
     "duration": 0.279344,
     "end_time": "2025-07-01T00:18:05.160204",
     "exception": false,
     "start_time": "2025-07-01T00:18:04.880860",
     "status": "completed"
    },
    "tags": []
   },
   "outputs": [],
   "source": [
    "# We separate the data into training and validation sets\n",
    "\n",
    "x_train, x_val, y_train, y_val = (\n",
    "    train_test_split(x_end, y_fertilizers, test_size=0.2, random_state=42)\n",
    ")"
   ]
  },
  {
   "cell_type": "code",
   "execution_count": 34,
   "id": "9fe3c527",
   "metadata": {
    "execution": {
     "iopub.execute_input": "2025-07-01T00:18:05.199782Z",
     "iopub.status.busy": "2025-07-01T00:18:05.199513Z",
     "iopub.status.idle": "2025-07-01T00:18:05.221134Z",
     "shell.execute_reply": "2025-07-01T00:18:05.220044Z"
    },
    "papermill": {
     "duration": 0.043365,
     "end_time": "2025-07-01T00:18:05.222630",
     "exception": false,
     "start_time": "2025-07-01T00:18:05.179265",
     "status": "completed"
    },
    "tags": []
   },
   "outputs": [
    {
     "name": "stdout",
     "output_type": "stream",
     "text": [
      "[[    0     1     2     3     4     5     6]\n",
      " [91046 91797 89689 88879 88774 75712 74103]]\n"
     ]
    }
   ],
   "source": [
    "# We review the balance of the target variable\n",
    "\n",
    "values_counts = np.asarray(np.unique(y_train, return_counts=True))\n",
    "\n",
    "print(values_counts)"
   ]
  },
  {
   "cell_type": "code",
   "execution_count": 35,
   "id": "a39e7567",
   "metadata": {
    "execution": {
     "iopub.execute_input": "2025-07-01T00:18:05.261000Z",
     "iopub.status.busy": "2025-07-01T00:18:05.260659Z",
     "iopub.status.idle": "2025-07-01T00:18:05.266277Z",
     "shell.execute_reply": "2025-07-01T00:18:05.265553Z"
    },
    "papermill": {
     "duration": 0.026205,
     "end_time": "2025-07-01T00:18:05.267535",
     "exception": false,
     "start_time": "2025-07-01T00:18:05.241330",
     "status": "completed"
    },
    "tags": []
   },
   "outputs": [],
   "source": [
    "# Common function to calculate AP@K and then MAP@K\n",
    "\n",
    "def apk(actual, predicted, k):\n",
    "\n",
    "    if len(predicted)>k:\n",
    "        predicted = predicted[:k]\n",
    "\n",
    "    score = 0.0\n",
    "    num_hits = 0.0\n",
    "\n",
    "    for i,p in enumerate(predicted):\n",
    "        if p in actual and p not in predicted[:i]:\n",
    "            num_hits += 1.0\n",
    "            score += num_hits / (i+1.0)\n",
    "\n",
    "    if not actual:\n",
    "        return 0.0\n",
    "\n",
    "    return score\n",
    "\n",
    "def mapk(actual, predicted, k):\n",
    "\n",
    "    return np.mean([apk(a,p,k) for a,p in zip(actual, predicted)])"
   ]
  },
  {
   "cell_type": "code",
   "execution_count": 36,
   "id": "1dde7a02",
   "metadata": {
    "execution": {
     "iopub.execute_input": "2025-07-01T00:18:05.306021Z",
     "iopub.status.busy": "2025-07-01T00:18:05.305674Z",
     "iopub.status.idle": "2025-07-01T00:18:05.311127Z",
     "shell.execute_reply": "2025-07-01T00:18:05.310439Z"
    },
    "papermill": {
     "duration": 0.026195,
     "end_time": "2025-07-01T00:18:05.312418",
     "exception": false,
     "start_time": "2025-07-01T00:18:05.286223",
     "status": "completed"
    },
    "tags": []
   },
   "outputs": [],
   "source": [
    "# Function for an initial evaluation of the model\n",
    "\n",
    "def evaluator(model, val_x, val_y, enc, k, model_name):\n",
    "    \n",
    "    y_pred_prob = model.predict_proba(val_x)\n",
    "    top_3_indices_val = np.argsort(-y_pred_prob, axis=1)[:, :3]\n",
    "    \n",
    "    predicted_val = []\n",
    "    \n",
    "    for row_indices in top_3_indices_val:\n",
    "        names = enc.inverse_transform(row_indices)\n",
    "        predicted_val.append(list(names))\n",
    "    \n",
    "    actual_val = [[enc.inverse_transform([label])[0]] for label in val_y]\n",
    "    map_3_score_val = mapk(actual_val, predicted_val, k=k)\n",
    "    \n",
    "    print(f\"\\n{model_name} initial MAP@3 Score: {map_3_score_val:.4f}\")"
   ]
  },
  {
   "cell_type": "code",
   "execution_count": 37,
   "id": "8534e45c",
   "metadata": {
    "execution": {
     "iopub.execute_input": "2025-07-01T00:18:05.350530Z",
     "iopub.status.busy": "2025-07-01T00:18:05.350200Z",
     "iopub.status.idle": "2025-07-01T00:18:05.353990Z",
     "shell.execute_reply": "2025-07-01T00:18:05.353332Z"
    },
    "papermill": {
     "duration": 0.024179,
     "end_time": "2025-07-01T00:18:05.355199",
     "exception": false,
     "start_time": "2025-07-01T00:18:05.331020",
     "status": "completed"
    },
    "tags": []
   },
   "outputs": [],
   "source": [
    "# we create the StratifiedKFold object\n",
    "\n",
    "n_splits = 5\n",
    "skf = StratifiedKFold(n_splits=n_splits, shuffle=True, random_state=42)"
   ]
  },
  {
   "cell_type": "code",
   "execution_count": 38,
   "id": "418dd607",
   "metadata": {
    "execution": {
     "iopub.execute_input": "2025-07-01T00:18:05.393668Z",
     "iopub.status.busy": "2025-07-01T00:18:05.392889Z",
     "iopub.status.idle": "2025-07-01T00:18:05.400600Z",
     "shell.execute_reply": "2025-07-01T00:18:05.399834Z"
    },
    "papermill": {
     "duration": 0.028189,
     "end_time": "2025-07-01T00:18:05.401902",
     "exception": false,
     "start_time": "2025-07-01T00:18:05.373713",
     "status": "completed"
    },
    "tags": []
   },
   "outputs": [],
   "source": [
    "# Function to evaluate models with a cross-validation method\n",
    "\n",
    "def cv_evaluator(model_class, model_params, x, y, enc, k_map, model_name):\n",
    "\n",
    "    fold_scores = []\n",
    "\n",
    "    for fold, (train_idx, val_idx) in enumerate(skf.split(x, y)):\n",
    "\n",
    "        print(f\"\\nFold {fold + 1}/{n_splits}\")\n",
    "        x_train_fold, x_val_fold = x.iloc[train_idx], x.iloc[val_idx]\n",
    "        y_train_fold, y_val_fold = y.iloc[train_idx], y.iloc[val_idx]\n",
    "\n",
    "        model = model_class(**model_params)\n",
    "        model.fit(x_train_fold, y_train_fold)\n",
    "\n",
    "        y_pred_prob = model.predict_proba(x_val_fold)\n",
    "        top_k_indices_val = np.argsort(-y_pred_prob, axis=1)[:, :k_map]\n",
    "\n",
    "        predicted_fold = []\n",
    "\n",
    "        for row_indices in top_k_indices_val:\n",
    "\n",
    "            valid_indices = [idx for idx in row_indices if idx < len(enc.classes_)]\n",
    "            names = enc.inverse_transform(valid_indices)\n",
    "            predicted_fold.append(list(names))\n",
    "\n",
    "        actual_fold = [[enc.inverse_transform([label])[0]] for label in y_val_fold]\n",
    "\n",
    "        fold_map_score = mapk(actual_fold, predicted_fold, k=k_map)\n",
    "        fold_scores.append(fold_map_score)\n",
    "        print(f\"MAP@{k_map} Fold {fold + 1}: {fold_map_score:.4f}\")\n",
    "\n",
    "    print(f\"\\n--- CV Summary for {model_name} ---\\n\")\n",
    "    print(f\"MAP@{k_map} Scores for fold: {np.round(fold_scores, 4)}\")\n",
    "    print(f\"MAP@{k_map} average: {np.mean(fold_scores):.4f}\")\n",
    "    print(f\"Standard deviation of MAP@{k_map}: {np.std(fold_scores):.4f}\")\n",
    "\n",
    "    return fold_scores"
   ]
  },
  {
   "cell_type": "markdown",
   "id": "f195b6af",
   "metadata": {
    "papermill": {
     "duration": 0.018275,
     "end_time": "2025-07-01T00:18:05.438801",
     "exception": false,
     "start_time": "2025-07-01T00:18:05.420526",
     "status": "completed"
    },
    "tags": []
   },
   "source": [
    "## First model: LogisticRegression"
   ]
  },
  {
   "cell_type": "code",
   "execution_count": 39,
   "id": "131af449",
   "metadata": {
    "execution": {
     "iopub.execute_input": "2025-07-01T00:18:05.476680Z",
     "iopub.status.busy": "2025-07-01T00:18:05.476374Z",
     "iopub.status.idle": "2025-07-01T00:18:05.479896Z",
     "shell.execute_reply": "2025-07-01T00:18:05.479276Z"
    },
    "papermill": {
     "duration": 0.024025,
     "end_time": "2025-07-01T00:18:05.481158",
     "exception": false,
     "start_time": "2025-07-01T00:18:05.457133",
     "status": "completed"
    },
    "tags": []
   },
   "outputs": [],
   "source": [
    "# We create the model instance\n",
    "\n",
    "#lrc = LogisticRegression(multi_class=\"multinomial\")\n",
    "\n",
    "# Train the model with the data\n",
    "\n",
    "#lrc.fit(x_train, y_train)"
   ]
  },
  {
   "cell_type": "code",
   "execution_count": 40,
   "id": "1a4ffb88",
   "metadata": {
    "execution": {
     "iopub.execute_input": "2025-07-01T00:18:05.520711Z",
     "iopub.status.busy": "2025-07-01T00:18:05.520396Z",
     "iopub.status.idle": "2025-07-01T00:18:05.524031Z",
     "shell.execute_reply": "2025-07-01T00:18:05.523291Z"
    },
    "papermill": {
     "duration": 0.025274,
     "end_time": "2025-07-01T00:18:05.525372",
     "exception": false,
     "start_time": "2025-07-01T00:18:05.500098",
     "status": "completed"
    },
    "tags": []
   },
   "outputs": [],
   "source": [
    "#evaluator(lrc, x_val, y_val, le, 3, \"LogisticRegression\")"
   ]
  },
  {
   "cell_type": "markdown",
   "id": "fb044d0f",
   "metadata": {
    "papermill": {
     "duration": 0.018305,
     "end_time": "2025-07-01T00:18:05.564632",
     "exception": false,
     "start_time": "2025-07-01T00:18:05.546327",
     "status": "completed"
    },
    "tags": []
   },
   "source": [
    "LogisticRegression initial MAP@3 Score: 0.2870\n",
    "\n",
    "LogisticRegression initial MAP@3 Score: 0.2894 (post feature engineering)"
   ]
  },
  {
   "cell_type": "code",
   "execution_count": 41,
   "id": "f176fbb2",
   "metadata": {
    "execution": {
     "iopub.execute_input": "2025-07-01T00:18:05.603229Z",
     "iopub.status.busy": "2025-07-01T00:18:05.602537Z",
     "iopub.status.idle": "2025-07-01T00:18:05.607755Z",
     "shell.execute_reply": "2025-07-01T00:18:05.607039Z"
    },
    "papermill": {
     "duration": 0.026032,
     "end_time": "2025-07-01T00:18:05.609116",
     "exception": false,
     "start_time": "2025-07-01T00:18:05.583084",
     "status": "completed"
    },
    "tags": []
   },
   "outputs": [
    {
     "data": {
      "text/plain": [
       "'\\n# We apply the function for CV\\n\\nlrc_params = {\"multi_class\": \"multinomial\", \"random_state\": 42}\\n\\nlrc_cv_scores = cv_evaluator(\\n    model_class=LogisticRegression,\\n    model_params=lrc_params,\\n    x=x_end_new,\\n    y=y_fertilizers, \\n    enc=le,\\n    k_map=3,\\n    model_name=\"Logistic Regression\"\\n)\\n'"
      ]
     },
     "execution_count": 41,
     "metadata": {},
     "output_type": "execute_result"
    }
   ],
   "source": [
    "'''\n",
    "# We apply the function for CV\n",
    "\n",
    "lrc_params = {\"multi_class\": \"multinomial\", \"random_state\": 42}\n",
    "\n",
    "lrc_cv_scores = cv_evaluator(\n",
    "    model_class=LogisticRegression,\n",
    "    model_params=lrc_params,\n",
    "    x=x_end_new,\n",
    "    y=y_fertilizers, \n",
    "    enc=le,\n",
    "    k_map=3,\n",
    "    model_name=\"Logistic Regression\"\n",
    ")\n",
    "'''"
   ]
  },
  {
   "cell_type": "markdown",
   "id": "38ff83d6",
   "metadata": {
    "papermill": {
     "duration": 0.020362,
     "end_time": "2025-07-01T00:18:05.650634",
     "exception": false,
     "start_time": "2025-07-01T00:18:05.630272",
     "status": "completed"
    },
    "tags": []
   },
   "source": [
    "\n",
    "--- CV Summary for Logistic Regression ---\n",
    "\n",
    "\n",
    "MAP@3 Scores for fold: [0.2871 0.2875 0.2861 0.2856 0.2871]\n",
    "\n",
    "MAP@3 average: 0.2867\n",
    "\n",
    "Standard deviation of MAP@3: 0.0007"
   ]
  },
  {
   "cell_type": "markdown",
   "id": "3b61fc76",
   "metadata": {
    "papermill": {
     "duration": 0.018383,
     "end_time": "2025-07-01T00:18:05.687471",
     "exception": false,
     "start_time": "2025-07-01T00:18:05.669088",
     "status": "completed"
    },
    "tags": []
   },
   "source": [
    "## Second model: XGBClassifier"
   ]
  },
  {
   "cell_type": "code",
   "execution_count": 42,
   "id": "dfa710d2",
   "metadata": {
    "execution": {
     "iopub.execute_input": "2025-07-01T00:18:05.726014Z",
     "iopub.status.busy": "2025-07-01T00:18:05.725362Z",
     "iopub.status.idle": "2025-07-01T00:18:05.729394Z",
     "shell.execute_reply": "2025-07-01T00:18:05.728571Z"
    },
    "papermill": {
     "duration": 0.024867,
     "end_time": "2025-07-01T00:18:05.730771",
     "exception": false,
     "start_time": "2025-07-01T00:18:05.705904",
     "status": "completed"
    },
    "tags": []
   },
   "outputs": [],
   "source": [
    "# We create the model instance\n",
    "\n",
    "#xgbc = XGBClassifier()\n",
    "\n",
    "# Train the model with the data\n",
    "\n",
    "#xgbc.fit(x_train, y_train)"
   ]
  },
  {
   "cell_type": "code",
   "execution_count": 43,
   "id": "3adc8525",
   "metadata": {
    "execution": {
     "iopub.execute_input": "2025-07-01T00:18:05.769021Z",
     "iopub.status.busy": "2025-07-01T00:18:05.768691Z",
     "iopub.status.idle": "2025-07-01T00:18:05.772392Z",
     "shell.execute_reply": "2025-07-01T00:18:05.771614Z"
    },
    "papermill": {
     "duration": 0.024272,
     "end_time": "2025-07-01T00:18:05.773639",
     "exception": false,
     "start_time": "2025-07-01T00:18:05.749367",
     "status": "completed"
    },
    "tags": []
   },
   "outputs": [],
   "source": [
    "#evaluator(xgbc, x_val, y_val, le, 3, \"XGBClassifier\")"
   ]
  },
  {
   "cell_type": "markdown",
   "id": "55d9418d",
   "metadata": {
    "papermill": {
     "duration": 0.018986,
     "end_time": "2025-07-01T00:18:05.811436",
     "exception": false,
     "start_time": "2025-07-01T00:18:05.792450",
     "status": "completed"
    },
    "tags": []
   },
   "source": [
    "XGBClassifier initial MAP@3 Score: 0.3307"
   ]
  },
  {
   "cell_type": "code",
   "execution_count": 44,
   "id": "39c8ed6d",
   "metadata": {
    "execution": {
     "iopub.execute_input": "2025-07-01T00:18:05.850004Z",
     "iopub.status.busy": "2025-07-01T00:18:05.849352Z",
     "iopub.status.idle": "2025-07-01T00:18:05.854464Z",
     "shell.execute_reply": "2025-07-01T00:18:05.853758Z"
    },
    "papermill": {
     "duration": 0.025713,
     "end_time": "2025-07-01T00:18:05.855756",
     "exception": false,
     "start_time": "2025-07-01T00:18:05.830043",
     "status": "completed"
    },
    "tags": []
   },
   "outputs": [
    {
     "data": {
      "text/plain": [
       "'\\n# We apply the function for CV\\n\\nxgbc_params = xgbc.get_params()\\n\\nxgbc_cv_scores = cv_evaluator(\\n    model_class=XGBClassifier,\\n    model_params=xgbc_params,\\n    x=x_end_new,\\n    y=y_fertilizers, \\n    enc=le,\\n    k_map=3,\\n    model_name=\"XGBClassifier\"\\n)\\n'"
      ]
     },
     "execution_count": 44,
     "metadata": {},
     "output_type": "execute_result"
    }
   ],
   "source": [
    "'''\n",
    "# We apply the function for CV\n",
    "\n",
    "xgbc_params = xgbc.get_params()\n",
    "\n",
    "xgbc_cv_scores = cv_evaluator(\n",
    "    model_class=XGBClassifier,\n",
    "    model_params=xgbc_params,\n",
    "    x=x_end_new,\n",
    "    y=y_fertilizers, \n",
    "    enc=le,\n",
    "    k_map=3,\n",
    "    model_name=\"XGBClassifier\"\n",
    ")\n",
    "'''"
   ]
  },
  {
   "cell_type": "markdown",
   "id": "dbea065a",
   "metadata": {
    "papermill": {
     "duration": 0.018359,
     "end_time": "2025-07-01T00:18:05.892619",
     "exception": false,
     "start_time": "2025-07-01T00:18:05.874260",
     "status": "completed"
    },
    "tags": []
   },
   "source": [
    "--- CV Summary for XGBClassifier ---\n",
    "\n",
    "MAP@3 Scores for fold: [0.3294 0.3306 0.3304 0.3308 0.3305]\n",
    "\n",
    "MAP@3 average: 0.3303\n",
    "\n",
    "Standard deviation of MAP@3: 0.0005"
   ]
  },
  {
   "cell_type": "markdown",
   "id": "4c66f1af",
   "metadata": {
    "papermill": {
     "duration": 0.018516,
     "end_time": "2025-07-01T00:18:05.929947",
     "exception": false,
     "start_time": "2025-07-01T00:18:05.911431",
     "status": "completed"
    },
    "tags": []
   },
   "source": [
    "## Third model: LGBMClassifier"
   ]
  },
  {
   "cell_type": "code",
   "execution_count": 45,
   "id": "c1b115df",
   "metadata": {
    "execution": {
     "iopub.execute_input": "2025-07-01T00:18:05.968409Z",
     "iopub.status.busy": "2025-07-01T00:18:05.967791Z",
     "iopub.status.idle": "2025-07-01T00:18:05.971598Z",
     "shell.execute_reply": "2025-07-01T00:18:05.970798Z"
    },
    "papermill": {
     "duration": 0.024496,
     "end_time": "2025-07-01T00:18:05.972855",
     "exception": false,
     "start_time": "2025-07-01T00:18:05.948359",
     "status": "completed"
    },
    "tags": []
   },
   "outputs": [],
   "source": [
    "# We create the model instance\n",
    "\n",
    "#lgbmc = LGBMClassifier(verbose=0)\n",
    "\n",
    "# Train the model with the data\n",
    "\n",
    "#lgbmc.fit(x_train, y_train)"
   ]
  },
  {
   "cell_type": "code",
   "execution_count": 46,
   "id": "63799818",
   "metadata": {
    "execution": {
     "iopub.execute_input": "2025-07-01T00:18:06.012087Z",
     "iopub.status.busy": "2025-07-01T00:18:06.011349Z",
     "iopub.status.idle": "2025-07-01T00:18:06.014820Z",
     "shell.execute_reply": "2025-07-01T00:18:06.014220Z"
    },
    "papermill": {
     "duration": 0.024555,
     "end_time": "2025-07-01T00:18:06.016139",
     "exception": false,
     "start_time": "2025-07-01T00:18:05.991584",
     "status": "completed"
    },
    "tags": []
   },
   "outputs": [],
   "source": [
    "#evaluator(lgbmc, x_val, y_val, le, 3, \"LGBMClassifier\")"
   ]
  },
  {
   "cell_type": "markdown",
   "id": "f516c555",
   "metadata": {
    "papermill": {
     "duration": 0.018429,
     "end_time": "2025-07-01T00:18:06.053152",
     "exception": false,
     "start_time": "2025-07-01T00:18:06.034723",
     "status": "completed"
    },
    "tags": []
   },
   "source": [
    "LGBMClassifier initial MAP@3 Score: 0.3230"
   ]
  },
  {
   "cell_type": "code",
   "execution_count": 47,
   "id": "3f50d155",
   "metadata": {
    "execution": {
     "iopub.execute_input": "2025-07-01T00:18:06.092293Z",
     "iopub.status.busy": "2025-07-01T00:18:06.091626Z",
     "iopub.status.idle": "2025-07-01T00:18:06.096658Z",
     "shell.execute_reply": "2025-07-01T00:18:06.096012Z"
    },
    "papermill": {
     "duration": 0.026017,
     "end_time": "2025-07-01T00:18:06.097911",
     "exception": false,
     "start_time": "2025-07-01T00:18:06.071894",
     "status": "completed"
    },
    "tags": []
   },
   "outputs": [
    {
     "data": {
      "text/plain": [
       "'\\n# We apply the function for CV\\n\\nlgbmc_params = lgbmc.get_params()\\n\\nlgbmc_cv_scores = cv_evaluator(\\n    model_class=LGBMClassifier,\\n    model_params=lgbmc_params,\\n    x=x_end_new,\\n    y=y_fertilizers, \\n    enc=le,\\n    k_map=3,\\n    model_name=\"LGBMClassifier\"\\n)\\n'"
      ]
     },
     "execution_count": 47,
     "metadata": {},
     "output_type": "execute_result"
    }
   ],
   "source": [
    "'''\n",
    "# We apply the function for CV\n",
    "\n",
    "lgbmc_params = lgbmc.get_params()\n",
    "\n",
    "lgbmc_cv_scores = cv_evaluator(\n",
    "    model_class=LGBMClassifier,\n",
    "    model_params=lgbmc_params,\n",
    "    x=x_end_new,\n",
    "    y=y_fertilizers, \n",
    "    enc=le,\n",
    "    k_map=3,\n",
    "    model_name=\"LGBMClassifier\"\n",
    ")\n",
    "'''"
   ]
  },
  {
   "cell_type": "markdown",
   "id": "e86f6d2e",
   "metadata": {
    "papermill": {
     "duration": 0.018384,
     "end_time": "2025-07-01T00:18:06.135111",
     "exception": false,
     "start_time": "2025-07-01T00:18:06.116727",
     "status": "completed"
    },
    "tags": []
   },
   "source": [
    "--- CV Summary for LGBMClassifier ---\n",
    "\n",
    "MAP@3 Scores for fold: [0.3219 0.3236 0.3228 0.3225 0.3226]\n",
    "\n",
    "MAP@3 average: 0.3227\n",
    "\n",
    "Standard deviation of MAP@3: 0.0005"
   ]
  },
  {
   "cell_type": "markdown",
   "id": "7c921727",
   "metadata": {
    "papermill": {
     "duration": 0.018436,
     "end_time": "2025-07-01T00:18:06.172533",
     "exception": false,
     "start_time": "2025-07-01T00:18:06.154097",
     "status": "completed"
    },
    "tags": []
   },
   "source": [
    "## Fourth model: CatBoostClassifier"
   ]
  },
  {
   "cell_type": "code",
   "execution_count": 48,
   "id": "4ae1f99b",
   "metadata": {
    "execution": {
     "iopub.execute_input": "2025-07-01T00:18:06.211475Z",
     "iopub.status.busy": "2025-07-01T00:18:06.211178Z",
     "iopub.status.idle": "2025-07-01T00:18:06.215454Z",
     "shell.execute_reply": "2025-07-01T00:18:06.214348Z"
    },
    "papermill": {
     "duration": 0.025484,
     "end_time": "2025-07-01T00:18:06.216834",
     "exception": false,
     "start_time": "2025-07-01T00:18:06.191350",
     "status": "completed"
    },
    "tags": []
   },
   "outputs": [],
   "source": [
    "# We create the model instance\n",
    "\n",
    "#cbc = CatBoostClassifier(silent=True)\n",
    "\n",
    "# Train the model with the data\n",
    "\n",
    "#cbc.fit(x_train, y_train)"
   ]
  },
  {
   "cell_type": "code",
   "execution_count": 49,
   "id": "9be6e712",
   "metadata": {
    "execution": {
     "iopub.execute_input": "2025-07-01T00:18:06.256620Z",
     "iopub.status.busy": "2025-07-01T00:18:06.255813Z",
     "iopub.status.idle": "2025-07-01T00:18:06.259847Z",
     "shell.execute_reply": "2025-07-01T00:18:06.259011Z"
    },
    "papermill": {
     "duration": 0.025312,
     "end_time": "2025-07-01T00:18:06.261302",
     "exception": false,
     "start_time": "2025-07-01T00:18:06.235990",
     "status": "completed"
    },
    "tags": []
   },
   "outputs": [],
   "source": [
    "#evaluator(cbc, x_val, y_val, le, 3, \"CatBoostClassifier\")"
   ]
  },
  {
   "cell_type": "markdown",
   "id": "f6fab0f2",
   "metadata": {
    "papermill": {
     "duration": 0.018721,
     "end_time": "2025-07-01T00:18:06.298996",
     "exception": false,
     "start_time": "2025-07-01T00:18:06.280275",
     "status": "completed"
    },
    "tags": []
   },
   "source": [
    "CatBoostClassifier initial MAP@3 Score: 0.3275"
   ]
  },
  {
   "cell_type": "code",
   "execution_count": 50,
   "id": "1955eeca",
   "metadata": {
    "execution": {
     "iopub.execute_input": "2025-07-01T00:18:06.338123Z",
     "iopub.status.busy": "2025-07-01T00:18:06.337510Z",
     "iopub.status.idle": "2025-07-01T00:18:06.342498Z",
     "shell.execute_reply": "2025-07-01T00:18:06.341857Z"
    },
    "papermill": {
     "duration": 0.02591,
     "end_time": "2025-07-01T00:18:06.343653",
     "exception": false,
     "start_time": "2025-07-01T00:18:06.317743",
     "status": "completed"
    },
    "tags": []
   },
   "outputs": [
    {
     "data": {
      "text/plain": [
       "'\\n# We apply the function for CV\\n\\ncbc_params = cbc.get_all_params()\\n\\ncbc_cv_scores = cv_evaluator(\\n    model_class=CatBoostClassifier,\\n    model_params=cbc_params,\\n    x=x_end_new,\\n    y=y_fertilizers, \\n    enc=le,\\n    k_map=3,\\n    model_name=\"CatBoostClassifier\"\\n)\\n'"
      ]
     },
     "execution_count": 50,
     "metadata": {},
     "output_type": "execute_result"
    }
   ],
   "source": [
    "'''\n",
    "# We apply the function for CV\n",
    "\n",
    "cbc_params = cbc.get_all_params()\n",
    "\n",
    "cbc_cv_scores = cv_evaluator(\n",
    "    model_class=CatBoostClassifier,\n",
    "    model_params=cbc_params,\n",
    "    x=x_end_new,\n",
    "    y=y_fertilizers, \n",
    "    enc=le,\n",
    "    k_map=3,\n",
    "    model_name=\"CatBoostClassifier\"\n",
    ")\n",
    "'''"
   ]
  },
  {
   "cell_type": "markdown",
   "id": "e259e375",
   "metadata": {
    "papermill": {
     "duration": 0.018489,
     "end_time": "2025-07-01T00:18:06.381722",
     "exception": false,
     "start_time": "2025-07-01T00:18:06.363233",
     "status": "completed"
    },
    "tags": []
   },
   "source": [
    "## Ensemble Method"
   ]
  },
  {
   "cell_type": "markdown",
   "id": "c55baa69",
   "metadata": {
    "papermill": {
     "duration": 0.018478,
     "end_time": "2025-07-01T00:18:06.418952",
     "exception": false,
     "start_time": "2025-07-01T00:18:06.400474",
     "status": "completed"
    },
    "tags": []
   },
   "source": [
    "AdaBoostClassifier initial MAP@3 Score: 0.2783 - estimator=xgbc\n",
    "\n",
    "BaggingClassifier initial MAP@3 Score: 0.3342 - estimator=xgbc\n",
    "\n",
    "VotingClassifier initial MAP@3 Score: 0.3315 - estimators=[(\"xgbc\", xgbc), (\"lgbmc\", lgbmc), (\"cbc\", cbc)]\n",
    "\n",
    "StackingClassifier initial MAP@3 Score: 0.3303 - [(\"xgbc\", xgbc), (\"lgbmc\", lgbmc), (\"cbc\", cbc)], final_estimator=LogisticRegression()"
   ]
  },
  {
   "cell_type": "markdown",
   "id": "e0eaa16e",
   "metadata": {
    "papermill": {
     "duration": 0.01858,
     "end_time": "2025-07-01T00:18:06.456223",
     "exception": false,
     "start_time": "2025-07-01T00:18:06.437643",
     "status": "completed"
    },
    "tags": []
   },
   "source": [
    "### VotingClassifier"
   ]
  },
  {
   "cell_type": "code",
   "execution_count": 51,
   "id": "23393200",
   "metadata": {
    "execution": {
     "iopub.execute_input": "2025-07-01T00:18:06.494856Z",
     "iopub.status.busy": "2025-07-01T00:18:06.494333Z",
     "iopub.status.idle": "2025-07-01T00:18:06.499432Z",
     "shell.execute_reply": "2025-07-01T00:18:06.498644Z"
    },
    "papermill": {
     "duration": 0.025985,
     "end_time": "2025-07-01T00:18:06.500641",
     "exception": false,
     "start_time": "2025-07-01T00:18:06.474656",
     "status": "completed"
    },
    "tags": []
   },
   "outputs": [
    {
     "data": {
      "text/plain": [
       "'\\n# We create the model instance\\n\\nvoc = VotingClassifier(\\n    estimators=[(\"xgbc\", xgbc), (\"lgbmc\", lgbmc), (\"cbc\", cbc)], voting=\"soft\"\\n)\\n\\n# Train the model with the data\\n\\nvoc.fit(x_train, y_train)\\n'"
      ]
     },
     "execution_count": 51,
     "metadata": {},
     "output_type": "execute_result"
    }
   ],
   "source": [
    "'''\n",
    "# We create the model instance\n",
    "\n",
    "voc = VotingClassifier(\n",
    "    estimators=[(\"xgbc\", xgbc), (\"lgbmc\", lgbmc), (\"cbc\", cbc)], voting=\"soft\"\n",
    ")\n",
    "\n",
    "# Train the model with the data\n",
    "\n",
    "voc.fit(x_train, y_train)\n",
    "'''"
   ]
  },
  {
   "cell_type": "code",
   "execution_count": 52,
   "id": "e6a28987",
   "metadata": {
    "execution": {
     "iopub.execute_input": "2025-07-01T00:18:06.542092Z",
     "iopub.status.busy": "2025-07-01T00:18:06.541397Z",
     "iopub.status.idle": "2025-07-01T00:18:06.545649Z",
     "shell.execute_reply": "2025-07-01T00:18:06.544900Z"
    },
    "papermill": {
     "duration": 0.026048,
     "end_time": "2025-07-01T00:18:06.546869",
     "exception": false,
     "start_time": "2025-07-01T00:18:06.520821",
     "status": "completed"
    },
    "tags": []
   },
   "outputs": [],
   "source": [
    "#evaluator(voc, x_val, y_val, le, 3, \"VotingClassifier\")"
   ]
  },
  {
   "cell_type": "markdown",
   "id": "e97cc08e",
   "metadata": {
    "papermill": {
     "duration": 0.018754,
     "end_time": "2025-07-01T00:18:06.584894",
     "exception": false,
     "start_time": "2025-07-01T00:18:06.566140",
     "status": "completed"
    },
    "tags": []
   },
   "source": [
    "VotingClassifier initial MAP@3 Score: 0.3299 - estimators=[(\"lrc\", lrc), (\"xgbc\", xgbc), (\"cbc\", cbc)]\n",
    "\n",
    "VotingClassifier initial MAP@3 Score: 0.3315 - estimators=[(\"xgbc\", xgbc), (\"lgbmc\", lgbmc), (\"cbc\", cbc)]"
   ]
  },
  {
   "cell_type": "code",
   "execution_count": 53,
   "id": "c0ebcd45",
   "metadata": {
    "execution": {
     "iopub.execute_input": "2025-07-01T00:18:06.623845Z",
     "iopub.status.busy": "2025-07-01T00:18:06.623299Z",
     "iopub.status.idle": "2025-07-01T00:18:06.628596Z",
     "shell.execute_reply": "2025-07-01T00:18:06.627825Z"
    },
    "papermill": {
     "duration": 0.02631,
     "end_time": "2025-07-01T00:18:06.630012",
     "exception": false,
     "start_time": "2025-07-01T00:18:06.603702",
     "status": "completed"
    },
    "tags": []
   },
   "outputs": [
    {
     "data": {
      "text/plain": [
       "'\\n# We apply the function for CV\\n\\nvoc_params = {\\n    \"estimators\" : [(\"xgbc\", xgbc), (\"lgbmc\", lgbmc), (\"cbc\", cbc)], \\n    \"voting\" : \"soft\"\\n}\\n\\nvoc_cv_scores = cv_evaluator(\\n    model_class=VotingClassifier,\\n    model_params=voc_params,\\n    x=x_end_new,\\n    y=y_fertilizers, \\n    enc=le,\\n    k_map=3,\\n    model_name=\"VotingClassifier\"\\n)\\n'"
      ]
     },
     "execution_count": 53,
     "metadata": {},
     "output_type": "execute_result"
    }
   ],
   "source": [
    "'''\n",
    "# We apply the function for CV\n",
    "\n",
    "voc_params = {\n",
    "    \"estimators\" : [(\"xgbc\", xgbc), (\"lgbmc\", lgbmc), (\"cbc\", cbc)], \n",
    "    \"voting\" : \"soft\"\n",
    "}\n",
    "\n",
    "voc_cv_scores = cv_evaluator(\n",
    "    model_class=VotingClassifier,\n",
    "    model_params=voc_params,\n",
    "    x=x_end_new,\n",
    "    y=y_fertilizers, \n",
    "    enc=le,\n",
    "    k_map=3,\n",
    "    model_name=\"VotingClassifier\"\n",
    ")\n",
    "'''"
   ]
  },
  {
   "cell_type": "markdown",
   "id": "601765b2",
   "metadata": {
    "papermill": {
     "duration": 0.019508,
     "end_time": "2025-07-01T00:18:06.669514",
     "exception": false,
     "start_time": "2025-07-01T00:18:06.650006",
     "status": "completed"
    },
    "tags": []
   },
   "source": [
    "--- CV Summary for VotingClassifier ---\n",
    "\n",
    "MAP@3 Scores for fold: [0.3308 0.3316 0.3321 0.3309 0.3312]\n",
    "\n",
    "MAP@3 average: 0.3313\n",
    "\n",
    "Standard deviation of MAP@3: 0.0005"
   ]
  },
  {
   "cell_type": "markdown",
   "id": "a2f1e20f",
   "metadata": {
    "papermill": {
     "duration": 0.018897,
     "end_time": "2025-07-01T00:18:06.707158",
     "exception": false,
     "start_time": "2025-07-01T00:18:06.688261",
     "status": "completed"
    },
    "tags": []
   },
   "source": [
    "### StackingClassifier"
   ]
  },
  {
   "cell_type": "code",
   "execution_count": 54,
   "id": "29288e28",
   "metadata": {
    "execution": {
     "iopub.execute_input": "2025-07-01T00:18:06.746536Z",
     "iopub.status.busy": "2025-07-01T00:18:06.745891Z",
     "iopub.status.idle": "2025-07-01T00:18:06.751514Z",
     "shell.execute_reply": "2025-07-01T00:18:06.750676Z"
    },
    "papermill": {
     "duration": 0.026888,
     "end_time": "2025-07-01T00:18:06.753040",
     "exception": false,
     "start_time": "2025-07-01T00:18:06.726152",
     "status": "completed"
    },
    "tags": []
   },
   "outputs": [
    {
     "data": {
      "text/plain": [
       "'\\n# Create a stacking ensemble\\n\\nstc = StackingClassifier(\\n    estimators=[(\"xgbc\", xgbc), (\"lgbmc\", lgbmc), (\"cbc\", cbc)], final_estimator=LogisticRegression()\\n)\\n\\n# Train the model with the data\\n\\nstc.fit(x_train, y_train)\\n'"
      ]
     },
     "execution_count": 54,
     "metadata": {},
     "output_type": "execute_result"
    }
   ],
   "source": [
    "'''\n",
    "# Create a stacking ensemble\n",
    "\n",
    "stc = StackingClassifier(\n",
    "    estimators=[(\"xgbc\", xgbc), (\"lgbmc\", lgbmc), (\"cbc\", cbc)], final_estimator=LogisticRegression()\n",
    ")\n",
    "\n",
    "# Train the model with the data\n",
    "\n",
    "stc.fit(x_train, y_train)\n",
    "'''"
   ]
  },
  {
   "cell_type": "code",
   "execution_count": 55,
   "id": "9db1d93b",
   "metadata": {
    "execution": {
     "iopub.execute_input": "2025-07-01T00:18:06.792927Z",
     "iopub.status.busy": "2025-07-01T00:18:06.792321Z",
     "iopub.status.idle": "2025-07-01T00:18:06.796159Z",
     "shell.execute_reply": "2025-07-01T00:18:06.795326Z"
    },
    "papermill": {
     "duration": 0.025109,
     "end_time": "2025-07-01T00:18:06.797517",
     "exception": false,
     "start_time": "2025-07-01T00:18:06.772408",
     "status": "completed"
    },
    "tags": []
   },
   "outputs": [],
   "source": [
    "#evaluator(stc, x_val, y_val, le, 3, \"StackingClassifier\")"
   ]
  },
  {
   "cell_type": "markdown",
   "id": "b975c760",
   "metadata": {
    "papermill": {
     "duration": 0.018836,
     "end_time": "2025-07-01T00:18:06.835949",
     "exception": false,
     "start_time": "2025-07-01T00:18:06.817113",
     "status": "completed"
    },
    "tags": []
   },
   "source": [
    "StackingClassifier initial MAP@3 Score: 0.3303 - [(\"xgbc\", xgbc), (\"lgbmc\", lgbmc), (\"cbc\", cbc)], final_estimator=LogisticRegression()"
   ]
  },
  {
   "cell_type": "code",
   "execution_count": 56,
   "id": "63ecc60b",
   "metadata": {
    "execution": {
     "iopub.execute_input": "2025-07-01T00:18:06.875326Z",
     "iopub.status.busy": "2025-07-01T00:18:06.875028Z",
     "iopub.status.idle": "2025-07-01T00:18:06.880394Z",
     "shell.execute_reply": "2025-07-01T00:18:06.879627Z"
    },
    "papermill": {
     "duration": 0.026601,
     "end_time": "2025-07-01T00:18:06.881709",
     "exception": false,
     "start_time": "2025-07-01T00:18:06.855108",
     "status": "completed"
    },
    "tags": []
   },
   "outputs": [
    {
     "data": {
      "text/plain": [
       "'\\n# We apply the function for CV\\n\\nstc_params = {\\n    \"estimators\" : [(\"xgbc\", xgbc), (\"lgbmc\", lgbmc), (\"cbc\", cbc)], \\n    \"final_estimator\" : LogisticRegression()\\n}\\n\\nstc_cv_scores = cv_evaluator(\\n    model_class=StackingClassifier,\\n    model_params=voc_params,\\n    x=x_end_new,\\n    y=y_fertilizers, \\n    enc=le,\\n    k_map=3,\\n    model_name=\"StackingClassifier\"\\n)\\n'"
      ]
     },
     "execution_count": 56,
     "metadata": {},
     "output_type": "execute_result"
    }
   ],
   "source": [
    "'''\n",
    "# We apply the function for CV\n",
    "\n",
    "stc_params = {\n",
    "    \"estimators\" : [(\"xgbc\", xgbc), (\"lgbmc\", lgbmc), (\"cbc\", cbc)], \n",
    "    \"final_estimator\" : LogisticRegression()\n",
    "}\n",
    "\n",
    "stc_cv_scores = cv_evaluator(\n",
    "    model_class=StackingClassifier,\n",
    "    model_params=voc_params,\n",
    "    x=x_end_new,\n",
    "    y=y_fertilizers, \n",
    "    enc=le,\n",
    "    k_map=3,\n",
    "    model_name=\"StackingClassifier\"\n",
    ")\n",
    "'''"
   ]
  },
  {
   "cell_type": "markdown",
   "id": "b3531004",
   "metadata": {
    "papermill": {
     "duration": 0.019278,
     "end_time": "2025-07-01T00:18:06.920716",
     "exception": false,
     "start_time": "2025-07-01T00:18:06.901438",
     "status": "completed"
    },
    "tags": []
   },
   "source": [
    "### BaggingClassifier"
   ]
  },
  {
   "cell_type": "code",
   "execution_count": 57,
   "id": "f36bfee9",
   "metadata": {
    "execution": {
     "iopub.execute_input": "2025-07-01T00:18:06.960952Z",
     "iopub.status.busy": "2025-07-01T00:18:06.960190Z",
     "iopub.status.idle": "2025-07-01T00:18:06.964117Z",
     "shell.execute_reply": "2025-07-01T00:18:06.963276Z"
    },
    "papermill": {
     "duration": 0.02608,
     "end_time": "2025-07-01T00:18:06.965594",
     "exception": false,
     "start_time": "2025-07-01T00:18:06.939514",
     "status": "completed"
    },
    "tags": []
   },
   "outputs": [],
   "source": [
    "# We create the model instance\n",
    "\n",
    "#bagc = BaggingClassifier(estimator=xgbc)\n",
    "\n",
    "# Train the model with the data\n",
    "\n",
    "#bagc.fit(x_train, y_train)"
   ]
  },
  {
   "cell_type": "code",
   "execution_count": 58,
   "id": "dc675eed",
   "metadata": {
    "execution": {
     "iopub.execute_input": "2025-07-01T00:18:07.005448Z",
     "iopub.status.busy": "2025-07-01T00:18:07.004883Z",
     "iopub.status.idle": "2025-07-01T00:18:07.008644Z",
     "shell.execute_reply": "2025-07-01T00:18:07.007849Z"
    },
    "papermill": {
     "duration": 0.025343,
     "end_time": "2025-07-01T00:18:07.010046",
     "exception": false,
     "start_time": "2025-07-01T00:18:06.984703",
     "status": "completed"
    },
    "tags": []
   },
   "outputs": [],
   "source": [
    "#evaluator(bagc, x_val, y_val, le, 3, \"BaggingClassifier\")"
   ]
  },
  {
   "cell_type": "markdown",
   "id": "48dd69ab",
   "metadata": {
    "papermill": {
     "duration": 0.018928,
     "end_time": "2025-07-01T00:18:07.048650",
     "exception": false,
     "start_time": "2025-07-01T00:18:07.029722",
     "status": "completed"
    },
    "tags": []
   },
   "source": [
    "BaggingClassifier initial MAP@3 Score: 0.2819 - Base estimator DecisionTreeClassifier (default estimator)\n",
    "\n",
    "BaggingClassifier initial MAP@3 Score: 0.3344 - Base estimator XGBClassifier"
   ]
  },
  {
   "cell_type": "code",
   "execution_count": 59,
   "id": "35bc17ce",
   "metadata": {
    "execution": {
     "iopub.execute_input": "2025-07-01T00:18:07.087459Z",
     "iopub.status.busy": "2025-07-01T00:18:07.087145Z",
     "iopub.status.idle": "2025-07-01T00:18:07.092294Z",
     "shell.execute_reply": "2025-07-01T00:18:07.091515Z"
    },
    "papermill": {
     "duration": 0.025882,
     "end_time": "2025-07-01T00:18:07.093517",
     "exception": false,
     "start_time": "2025-07-01T00:18:07.067635",
     "status": "completed"
    },
    "tags": []
   },
   "outputs": [
    {
     "data": {
      "text/plain": [
       "'\\n# We apply the function for CV\\n\\nbagc_params = {\"estimator\" : xgbc}\\n\\nlrc_cv_scores = cv_evaluator(\\n    model_class=BaggingClassifier,\\n    model_params=bagc_params,\\n    x=x_end,\\n    y=y_fertilizers, \\n    enc=le,\\n    k_map=3,\\n    model_name=\"BaggingClassifier\"\\n)\\n'"
      ]
     },
     "execution_count": 59,
     "metadata": {},
     "output_type": "execute_result"
    }
   ],
   "source": [
    "'''\n",
    "# We apply the function for CV\n",
    "\n",
    "bagc_params = {\"estimator\" : xgbc}\n",
    "\n",
    "lrc_cv_scores = cv_evaluator(\n",
    "    model_class=BaggingClassifier,\n",
    "    model_params=bagc_params,\n",
    "    x=x_end,\n",
    "    y=y_fertilizers, \n",
    "    enc=le,\n",
    "    k_map=3,\n",
    "    model_name=\"BaggingClassifier\"\n",
    ")\n",
    "'''"
   ]
  },
  {
   "cell_type": "markdown",
   "id": "115fd22e",
   "metadata": {
    "execution": {
     "iopub.execute_input": "2025-06-30T23:30:10.088498Z",
     "iopub.status.busy": "2025-06-30T23:30:10.088238Z",
     "iopub.status.idle": "2025-06-30T23:30:10.093170Z",
     "shell.execute_reply": "2025-06-30T23:30:10.092427Z",
     "shell.execute_reply.started": "2025-06-30T23:30:10.088483Z"
    },
    "papermill": {
     "duration": 0.018737,
     "end_time": "2025-07-01T00:18:07.131333",
     "exception": false,
     "start_time": "2025-07-01T00:18:07.112596",
     "status": "completed"
    },
    "tags": []
   },
   "source": [
    "--- CV Summary for BaggingClassifier ---\n",
    "\n",
    "MAP@3 Scores for fold: [0.3338 0.3342 0.3352 0.3345 0.3345]\n",
    "\n",
    "MAP@3 average: 0.3344\n",
    "\n",
    "Standard deviation of MAP@3: 0.0004"
   ]
  },
  {
   "cell_type": "markdown",
   "id": "0cb71489",
   "metadata": {
    "papermill": {
     "duration": 0.019423,
     "end_time": "2025-07-01T00:18:07.169794",
     "exception": false,
     "start_time": "2025-07-01T00:18:07.150371",
     "status": "completed"
    },
    "tags": []
   },
   "source": [
    "# Modeling"
   ]
  },
  {
   "cell_type": "code",
   "execution_count": 60,
   "id": "7a827096",
   "metadata": {
    "execution": {
     "iopub.execute_input": "2025-07-01T00:18:07.209624Z",
     "iopub.status.busy": "2025-07-01T00:18:07.209306Z",
     "iopub.status.idle": "2025-07-01T00:18:07.214786Z",
     "shell.execute_reply": "2025-07-01T00:18:07.214011Z"
    },
    "papermill": {
     "duration": 0.027002,
     "end_time": "2025-07-01T00:18:07.216164",
     "exception": false,
     "start_time": "2025-07-01T00:18:07.189162",
     "status": "completed"
    },
    "tags": []
   },
   "outputs": [
    {
     "data": {
      "text/plain": [
       "'\\n# Wrapper function to use with make_scorer\\n\\ndef mapk_scorer(estimator, x, y_true):\\n   \\n    y_pred_prob = estimator.predict_proba(x)\\n    top_k_indices = np.argsort(-y_pred_prob, axis=1)[:, :3]\\n\\n    predicted_fertilizers = []\\n    \\n    for row_indices in top_k_indices:\\n        valid_indices = [idx for idx in row_indices if idx < len(le.classes_)]\\n        names = le.inverse_transform(valid_indices)\\n        predicted_fertilizers.append(list(names))\\n\\n    actual_fertilizers = [[le.inverse_transform([label])[0]] for label in y_true]\\n\\n    score = mapk(actual_fertilizers, predicted_fertilizers, k=3)\\n    return score\\n\\n# Create the scorer\\n\\nmap3_scorer_custom = make_scorer(mapk_scorer, greater_is_better=True, needs_proba=True)\\n'"
      ]
     },
     "execution_count": 60,
     "metadata": {},
     "output_type": "execute_result"
    }
   ],
   "source": [
    "'''\n",
    "# Wrapper function to use with make_scorer\n",
    "\n",
    "def mapk_scorer(estimator, x, y_true):\n",
    "   \n",
    "    y_pred_prob = estimator.predict_proba(x)\n",
    "    top_k_indices = np.argsort(-y_pred_prob, axis=1)[:, :3]\n",
    "\n",
    "    predicted_fertilizers = []\n",
    "    \n",
    "    for row_indices in top_k_indices:\n",
    "        valid_indices = [idx for idx in row_indices if idx < len(le.classes_)]\n",
    "        names = le.inverse_transform(valid_indices)\n",
    "        predicted_fertilizers.append(list(names))\n",
    "\n",
    "    actual_fertilizers = [[le.inverse_transform([label])[0]] for label in y_true]\n",
    "\n",
    "    score = mapk(actual_fertilizers, predicted_fertilizers, k=3)\n",
    "    return score\n",
    "\n",
    "# Create the scorer\n",
    "\n",
    "map3_scorer_custom = make_scorer(mapk_scorer, greater_is_better=True, needs_proba=True)\n",
    "'''"
   ]
  },
  {
   "cell_type": "code",
   "execution_count": 61,
   "id": "756172b5",
   "metadata": {
    "execution": {
     "iopub.execute_input": "2025-07-01T00:18:07.263871Z",
     "iopub.status.busy": "2025-07-01T00:18:07.263565Z",
     "iopub.status.idle": "2025-07-01T00:18:07.267395Z",
     "shell.execute_reply": "2025-07-01T00:18:07.266612Z"
    },
    "papermill": {
     "duration": 0.029211,
     "end_time": "2025-07-01T00:18:07.268685",
     "exception": false,
     "start_time": "2025-07-01T00:18:07.239474",
     "status": "completed"
    },
    "tags": []
   },
   "outputs": [],
   "source": [
    "# We define the estimator to be optimized\n",
    "\n",
    "#xgbc_op = XGBClassifier(objective='multi:softprob', eval_metric='mlogloss', use_label_encoder=False, random_state=42)"
   ]
  },
  {
   "cell_type": "code",
   "execution_count": 62,
   "id": "50303b86",
   "metadata": {
    "execution": {
     "iopub.execute_input": "2025-07-01T00:18:07.309683Z",
     "iopub.status.busy": "2025-07-01T00:18:07.309351Z",
     "iopub.status.idle": "2025-07-01T00:18:07.314943Z",
     "shell.execute_reply": "2025-07-01T00:18:07.314175Z"
    },
    "papermill": {
     "duration": 0.027303,
     "end_time": "2025-07-01T00:18:07.316380",
     "exception": false,
     "start_time": "2025-07-01T00:18:07.289077",
     "status": "completed"
    },
    "tags": []
   },
   "outputs": [
    {
     "data": {
      "text/plain": [
       "'\\n# We establish the parameters to test\\n\\nparams_grid_xgb = {\\n    \\n    \"n_estimators\": [100, 200, 300],\\n    \"learning_rate\": [0.01, 0.05, 0.1, 0.2],\\n    \"max_depth\": [4, 6, 8, 10],\\n    \"gamma\": [0, 0.1, 0.5, 1],\\n    \"subsample\": [0.6, 0.8, 1.0],\\n    \"colsample_bytree\": [0.6, 0.8, 1.0]\\n}\\n\\n# We use random search to evaluate the grid\\n\\nxgbc_grid_search = RandomizedSearchCV(\\n    xgbc_op,\\n    param_distributions=params_grid_xgb,\\n    n_iter=50,\\n    cv=skf,\\n    scoring=\"map3_scorer_custom\",\\n    random_state=42,\\n    n_jobs=-1,\\n    verbose=2\\n)\\n\\nxgbc_grid_search.fit(x_train, y_train)\\n\\nprint(f\"Parameters: {xgbc_grid_search.best_params_}\\n\")\\nprint(f\"Best MAP@3 average in CV: {xgbc_grid_search.best_score_:.4f}\")\\n'"
      ]
     },
     "execution_count": 62,
     "metadata": {},
     "output_type": "execute_result"
    }
   ],
   "source": [
    "'''\n",
    "# We establish the parameters to test\n",
    "\n",
    "params_grid_xgb = {\n",
    "    \n",
    "    \"n_estimators\": [100, 200, 300],\n",
    "    \"learning_rate\": [0.01, 0.05, 0.1, 0.2],\n",
    "    \"max_depth\": [4, 6, 8, 10],\n",
    "    \"gamma\": [0, 0.1, 0.5, 1],\n",
    "    \"subsample\": [0.6, 0.8, 1.0],\n",
    "    \"colsample_bytree\": [0.6, 0.8, 1.0]\n",
    "}\n",
    "\n",
    "# We use random search to evaluate the grid\n",
    "\n",
    "xgbc_grid_search = RandomizedSearchCV(\n",
    "    xgbc_op,\n",
    "    param_distributions=params_grid_xgb,\n",
    "    n_iter=50,\n",
    "    cv=skf,\n",
    "    scoring=\"map3_scorer_custom\",\n",
    "    random_state=42,\n",
    "    n_jobs=-1,\n",
    "    verbose=2\n",
    ")\n",
    "\n",
    "xgbc_grid_search.fit(x_train, y_train)\n",
    "\n",
    "print(f\"Parameters: {xgbc_grid_search.best_params_}\\n\")\n",
    "print(f\"Best MAP@3 average in CV: {xgbc_grid_search.best_score_:.4f}\")\n",
    "'''"
   ]
  },
  {
   "cell_type": "code",
   "execution_count": 63,
   "id": "a2e8ade4",
   "metadata": {
    "execution": {
     "iopub.execute_input": "2025-07-01T00:18:07.357631Z",
     "iopub.status.busy": "2025-07-01T00:18:07.357321Z",
     "iopub.status.idle": "2025-07-01T00:18:59.108015Z",
     "shell.execute_reply": "2025-07-01T00:18:59.107294Z"
    },
    "papermill": {
     "duration": 51.792898,
     "end_time": "2025-07-01T00:18:59.129288",
     "exception": false,
     "start_time": "2025-07-01T00:18:07.336390",
     "status": "completed"
    },
    "tags": []
   },
   "outputs": [
    {
     "data": {
      "text/html": [
       "<style>#sk-container-id-1 {color: black;background-color: white;}#sk-container-id-1 pre{padding: 0;}#sk-container-id-1 div.sk-toggleable {background-color: white;}#sk-container-id-1 label.sk-toggleable__label {cursor: pointer;display: block;width: 100%;margin-bottom: 0;padding: 0.3em;box-sizing: border-box;text-align: center;}#sk-container-id-1 label.sk-toggleable__label-arrow:before {content: \"▸\";float: left;margin-right: 0.25em;color: #696969;}#sk-container-id-1 label.sk-toggleable__label-arrow:hover:before {color: black;}#sk-container-id-1 div.sk-estimator:hover label.sk-toggleable__label-arrow:before {color: black;}#sk-container-id-1 div.sk-toggleable__content {max-height: 0;max-width: 0;overflow: hidden;text-align: left;background-color: #f0f8ff;}#sk-container-id-1 div.sk-toggleable__content pre {margin: 0.2em;color: black;border-radius: 0.25em;background-color: #f0f8ff;}#sk-container-id-1 input.sk-toggleable__control:checked~div.sk-toggleable__content {max-height: 200px;max-width: 100%;overflow: auto;}#sk-container-id-1 input.sk-toggleable__control:checked~label.sk-toggleable__label-arrow:before {content: \"▾\";}#sk-container-id-1 div.sk-estimator input.sk-toggleable__control:checked~label.sk-toggleable__label {background-color: #d4ebff;}#sk-container-id-1 div.sk-label input.sk-toggleable__control:checked~label.sk-toggleable__label {background-color: #d4ebff;}#sk-container-id-1 input.sk-hidden--visually {border: 0;clip: rect(1px 1px 1px 1px);clip: rect(1px, 1px, 1px, 1px);height: 1px;margin: -1px;overflow: hidden;padding: 0;position: absolute;width: 1px;}#sk-container-id-1 div.sk-estimator {font-family: monospace;background-color: #f0f8ff;border: 1px dotted black;border-radius: 0.25em;box-sizing: border-box;margin-bottom: 0.5em;}#sk-container-id-1 div.sk-estimator:hover {background-color: #d4ebff;}#sk-container-id-1 div.sk-parallel-item::after {content: \"\";width: 100%;border-bottom: 1px solid gray;flex-grow: 1;}#sk-container-id-1 div.sk-label:hover label.sk-toggleable__label {background-color: #d4ebff;}#sk-container-id-1 div.sk-serial::before {content: \"\";position: absolute;border-left: 1px solid gray;box-sizing: border-box;top: 0;bottom: 0;left: 50%;z-index: 0;}#sk-container-id-1 div.sk-serial {display: flex;flex-direction: column;align-items: center;background-color: white;padding-right: 0.2em;padding-left: 0.2em;position: relative;}#sk-container-id-1 div.sk-item {position: relative;z-index: 1;}#sk-container-id-1 div.sk-parallel {display: flex;align-items: stretch;justify-content: center;background-color: white;position: relative;}#sk-container-id-1 div.sk-item::before, #sk-container-id-1 div.sk-parallel-item::before {content: \"\";position: absolute;border-left: 1px solid gray;box-sizing: border-box;top: 0;bottom: 0;left: 50%;z-index: -1;}#sk-container-id-1 div.sk-parallel-item {display: flex;flex-direction: column;z-index: 1;position: relative;background-color: white;}#sk-container-id-1 div.sk-parallel-item:first-child::after {align-self: flex-end;width: 50%;}#sk-container-id-1 div.sk-parallel-item:last-child::after {align-self: flex-start;width: 50%;}#sk-container-id-1 div.sk-parallel-item:only-child::after {width: 0;}#sk-container-id-1 div.sk-dashed-wrapped {border: 1px dashed gray;margin: 0 0.4em 0.5em 0.4em;box-sizing: border-box;padding-bottom: 0.4em;background-color: white;}#sk-container-id-1 div.sk-label label {font-family: monospace;font-weight: bold;display: inline-block;line-height: 1.2em;}#sk-container-id-1 div.sk-label-container {text-align: center;}#sk-container-id-1 div.sk-container {/* jupyter's `normalize.less` sets `[hidden] { display: none; }` but bootstrap.min.css set `[hidden] { display: none !important; }` so we also need the `!important` here to be able to override the default hidden behavior on the sphinx rendered scikit-learn.org. See: https://github.com/scikit-learn/scikit-learn/issues/21755 */display: inline-block !important;position: relative;}#sk-container-id-1 div.sk-text-repr-fallback {display: none;}</style><div id=\"sk-container-id-1\" class=\"sk-top-container\"><div class=\"sk-text-repr-fallback\"><pre>XGBClassifier(alpha=1, base_score=None, booster=None, callbacks=None,\n",
       "              colsample_bylevel=None, colsample_bynode=None,\n",
       "              colsample_bytree=None, device=None, early_stopping_rounds=None,\n",
       "              enable_categorical=False, eval_metric=None, feature_types=None,\n",
       "              gamma=0, grow_policy=None, importance_type=None,\n",
       "              interaction_constraints=None, learning_rate=0.01, max_bin=None,\n",
       "              max_cat_threshold=None, max_cat_to_onehot=None,\n",
       "              max_delta_step=None, max_depth=8, max_leaves=None,\n",
       "              min_child_weight=None, missing=nan, monotone_constraints=None,\n",
       "              multi_strategy=None, n_estimators=150, n_jobs=None,\n",
       "              num_parallel_tree=None, ...)</pre><b>In a Jupyter environment, please rerun this cell to show the HTML representation or trust the notebook. <br />On GitHub, the HTML representation is unable to render, please try loading this page with nbviewer.org.</b></div><div class=\"sk-container\" hidden><div class=\"sk-item\"><div class=\"sk-estimator sk-toggleable\"><input class=\"sk-toggleable__control sk-hidden--visually\" id=\"sk-estimator-id-1\" type=\"checkbox\" checked><label for=\"sk-estimator-id-1\" class=\"sk-toggleable__label sk-toggleable__label-arrow\">XGBClassifier</label><div class=\"sk-toggleable__content\"><pre>XGBClassifier(alpha=1, base_score=None, booster=None, callbacks=None,\n",
       "              colsample_bylevel=None, colsample_bynode=None,\n",
       "              colsample_bytree=None, device=None, early_stopping_rounds=None,\n",
       "              enable_categorical=False, eval_metric=None, feature_types=None,\n",
       "              gamma=0, grow_policy=None, importance_type=None,\n",
       "              interaction_constraints=None, learning_rate=0.01, max_bin=None,\n",
       "              max_cat_threshold=None, max_cat_to_onehot=None,\n",
       "              max_delta_step=None, max_depth=8, max_leaves=None,\n",
       "              min_child_weight=None, missing=nan, monotone_constraints=None,\n",
       "              multi_strategy=None, n_estimators=150, n_jobs=None,\n",
       "              num_parallel_tree=None, ...)</pre></div></div></div></div></div>"
      ],
      "text/plain": [
       "XGBClassifier(alpha=1, base_score=None, booster=None, callbacks=None,\n",
       "              colsample_bylevel=None, colsample_bynode=None,\n",
       "              colsample_bytree=None, device=None, early_stopping_rounds=None,\n",
       "              enable_categorical=False, eval_metric=None, feature_types=None,\n",
       "              gamma=0, grow_policy=None, importance_type=None,\n",
       "              interaction_constraints=None, learning_rate=0.01, max_bin=None,\n",
       "              max_cat_threshold=None, max_cat_to_onehot=None,\n",
       "              max_delta_step=None, max_depth=8, max_leaves=None,\n",
       "              min_child_weight=None, missing=nan, monotone_constraints=None,\n",
       "              multi_strategy=None, n_estimators=150, n_jobs=None,\n",
       "              num_parallel_tree=None, ...)"
      ]
     },
     "execution_count": 63,
     "metadata": {},
     "output_type": "execute_result"
    }
   ],
   "source": [
    "# We define the best estimator\n",
    "\n",
    "best_xgb_model = XGBClassifier(\n",
    "    objective='multi:softprob', \n",
    "    #eval_metric='mlogloss', \n",
    "    #use_label_encoder=False, \n",
    "    #colsample_bytree=0.6, \n",
    "    subsample=1, \n",
    "    learning_rate=0.01, \n",
    "    n_estimators=150, \n",
    "    max_depth=8, \n",
    "    gamma=0, \n",
    "    alpha=1\n",
    ")\n",
    "\n",
    "best_xgb_model.fit(x_train, y_train)"
   ]
  },
  {
   "cell_type": "code",
   "execution_count": 64,
   "id": "098db1aa",
   "metadata": {
    "execution": {
     "iopub.execute_input": "2025-07-01T00:18:59.170208Z",
     "iopub.status.busy": "2025-07-01T00:18:59.169883Z",
     "iopub.status.idle": "2025-07-01T00:19:31.139477Z",
     "shell.execute_reply": "2025-07-01T00:19:31.138537Z"
    },
    "papermill": {
     "duration": 32.011593,
     "end_time": "2025-07-01T00:19:31.160693",
     "exception": false,
     "start_time": "2025-07-01T00:18:59.149100",
     "status": "completed"
    },
    "tags": []
   },
   "outputs": [
    {
     "name": "stdout",
     "output_type": "stream",
     "text": [
      "\n",
      "XGBClassifier initial optimization initial MAP@3 Score: 0.3047\n"
     ]
    }
   ],
   "source": [
    "evaluator(best_xgb_model, x_val, y_val, le, 3, \"XGBClassifier initial optimization\")"
   ]
  },
  {
   "cell_type": "code",
   "execution_count": 65,
   "id": "8a34101c",
   "metadata": {
    "execution": {
     "iopub.execute_input": "2025-07-01T00:19:31.202912Z",
     "iopub.status.busy": "2025-07-01T00:19:31.202269Z",
     "iopub.status.idle": "2025-07-01T00:19:31.209846Z",
     "shell.execute_reply": "2025-07-01T00:19:31.209020Z"
    },
    "papermill": {
     "duration": 0.03045,
     "end_time": "2025-07-01T00:19:31.211223",
     "exception": false,
     "start_time": "2025-07-01T00:19:31.180773",
     "status": "completed"
    },
    "tags": []
   },
   "outputs": [
    {
     "data": {
      "text/plain": [
       "{'base_estimator': 'deprecated',\n",
       " 'bootstrap': True,\n",
       " 'bootstrap_features': False,\n",
       " 'estimator__objective': 'multi:softprob',\n",
       " 'estimator__base_score': None,\n",
       " 'estimator__booster': None,\n",
       " 'estimator__callbacks': None,\n",
       " 'estimator__colsample_bylevel': None,\n",
       " 'estimator__colsample_bynode': None,\n",
       " 'estimator__colsample_bytree': None,\n",
       " 'estimator__device': None,\n",
       " 'estimator__early_stopping_rounds': None,\n",
       " 'estimator__enable_categorical': False,\n",
       " 'estimator__eval_metric': None,\n",
       " 'estimator__feature_types': None,\n",
       " 'estimator__gamma': 0,\n",
       " 'estimator__grow_policy': None,\n",
       " 'estimator__importance_type': None,\n",
       " 'estimator__interaction_constraints': None,\n",
       " 'estimator__learning_rate': 0.01,\n",
       " 'estimator__max_bin': None,\n",
       " 'estimator__max_cat_threshold': None,\n",
       " 'estimator__max_cat_to_onehot': None,\n",
       " 'estimator__max_delta_step': None,\n",
       " 'estimator__max_depth': 8,\n",
       " 'estimator__max_leaves': None,\n",
       " 'estimator__min_child_weight': None,\n",
       " 'estimator__missing': nan,\n",
       " 'estimator__monotone_constraints': None,\n",
       " 'estimator__multi_strategy': None,\n",
       " 'estimator__n_estimators': 150,\n",
       " 'estimator__n_jobs': None,\n",
       " 'estimator__num_parallel_tree': None,\n",
       " 'estimator__random_state': None,\n",
       " 'estimator__reg_alpha': None,\n",
       " 'estimator__reg_lambda': None,\n",
       " 'estimator__sampling_method': None,\n",
       " 'estimator__scale_pos_weight': None,\n",
       " 'estimator__subsample': 1,\n",
       " 'estimator__tree_method': None,\n",
       " 'estimator__validate_parameters': None,\n",
       " 'estimator__verbosity': None,\n",
       " 'estimator__alpha': 1,\n",
       " 'estimator': XGBClassifier(alpha=1, base_score=None, booster=None, callbacks=None,\n",
       "               colsample_bylevel=None, colsample_bynode=None,\n",
       "               colsample_bytree=None, device=None, early_stopping_rounds=None,\n",
       "               enable_categorical=False, eval_metric=None, feature_types=None,\n",
       "               gamma=0, grow_policy=None, importance_type=None,\n",
       "               interaction_constraints=None, learning_rate=0.01, max_bin=None,\n",
       "               max_cat_threshold=None, max_cat_to_onehot=None,\n",
       "               max_delta_step=None, max_depth=8, max_leaves=None,\n",
       "               min_child_weight=None, missing=nan, monotone_constraints=None,\n",
       "               multi_strategy=None, n_estimators=150, n_jobs=None,\n",
       "               num_parallel_tree=None, ...),\n",
       " 'max_features': 1.0,\n",
       " 'max_samples': 1.0,\n",
       " 'n_estimators': 10,\n",
       " 'n_jobs': None,\n",
       " 'oob_score': False,\n",
       " 'random_state': None,\n",
       " 'verbose': 0,\n",
       " 'warm_start': False}"
      ]
     },
     "execution_count": 65,
     "metadata": {},
     "output_type": "execute_result"
    }
   ],
   "source": [
    "final_model = BaggingClassifier(estimator=best_xgb_model)\n",
    "\n",
    "final_model.get_params()"
   ]
  },
  {
   "cell_type": "code",
   "execution_count": 66,
   "id": "971392f0",
   "metadata": {
    "execution": {
     "iopub.execute_input": "2025-07-01T00:19:31.253771Z",
     "iopub.status.busy": "2025-07-01T00:19:31.253462Z",
     "iopub.status.idle": "2025-07-01T00:28:09.952019Z",
     "shell.execute_reply": "2025-07-01T00:28:09.951024Z"
    },
    "papermill": {
     "duration": 518.742372,
     "end_time": "2025-07-01T00:28:09.974398",
     "exception": false,
     "start_time": "2025-07-01T00:19:31.232026",
     "status": "completed"
    },
    "tags": []
   },
   "outputs": [
    {
     "data": {
      "text/html": [
       "<style>#sk-container-id-2 {color: black;background-color: white;}#sk-container-id-2 pre{padding: 0;}#sk-container-id-2 div.sk-toggleable {background-color: white;}#sk-container-id-2 label.sk-toggleable__label {cursor: pointer;display: block;width: 100%;margin-bottom: 0;padding: 0.3em;box-sizing: border-box;text-align: center;}#sk-container-id-2 label.sk-toggleable__label-arrow:before {content: \"▸\";float: left;margin-right: 0.25em;color: #696969;}#sk-container-id-2 label.sk-toggleable__label-arrow:hover:before {color: black;}#sk-container-id-2 div.sk-estimator:hover label.sk-toggleable__label-arrow:before {color: black;}#sk-container-id-2 div.sk-toggleable__content {max-height: 0;max-width: 0;overflow: hidden;text-align: left;background-color: #f0f8ff;}#sk-container-id-2 div.sk-toggleable__content pre {margin: 0.2em;color: black;border-radius: 0.25em;background-color: #f0f8ff;}#sk-container-id-2 input.sk-toggleable__control:checked~div.sk-toggleable__content {max-height: 200px;max-width: 100%;overflow: auto;}#sk-container-id-2 input.sk-toggleable__control:checked~label.sk-toggleable__label-arrow:before {content: \"▾\";}#sk-container-id-2 div.sk-estimator input.sk-toggleable__control:checked~label.sk-toggleable__label {background-color: #d4ebff;}#sk-container-id-2 div.sk-label input.sk-toggleable__control:checked~label.sk-toggleable__label {background-color: #d4ebff;}#sk-container-id-2 input.sk-hidden--visually {border: 0;clip: rect(1px 1px 1px 1px);clip: rect(1px, 1px, 1px, 1px);height: 1px;margin: -1px;overflow: hidden;padding: 0;position: absolute;width: 1px;}#sk-container-id-2 div.sk-estimator {font-family: monospace;background-color: #f0f8ff;border: 1px dotted black;border-radius: 0.25em;box-sizing: border-box;margin-bottom: 0.5em;}#sk-container-id-2 div.sk-estimator:hover {background-color: #d4ebff;}#sk-container-id-2 div.sk-parallel-item::after {content: \"\";width: 100%;border-bottom: 1px solid gray;flex-grow: 1;}#sk-container-id-2 div.sk-label:hover label.sk-toggleable__label {background-color: #d4ebff;}#sk-container-id-2 div.sk-serial::before {content: \"\";position: absolute;border-left: 1px solid gray;box-sizing: border-box;top: 0;bottom: 0;left: 50%;z-index: 0;}#sk-container-id-2 div.sk-serial {display: flex;flex-direction: column;align-items: center;background-color: white;padding-right: 0.2em;padding-left: 0.2em;position: relative;}#sk-container-id-2 div.sk-item {position: relative;z-index: 1;}#sk-container-id-2 div.sk-parallel {display: flex;align-items: stretch;justify-content: center;background-color: white;position: relative;}#sk-container-id-2 div.sk-item::before, #sk-container-id-2 div.sk-parallel-item::before {content: \"\";position: absolute;border-left: 1px solid gray;box-sizing: border-box;top: 0;bottom: 0;left: 50%;z-index: -1;}#sk-container-id-2 div.sk-parallel-item {display: flex;flex-direction: column;z-index: 1;position: relative;background-color: white;}#sk-container-id-2 div.sk-parallel-item:first-child::after {align-self: flex-end;width: 50%;}#sk-container-id-2 div.sk-parallel-item:last-child::after {align-self: flex-start;width: 50%;}#sk-container-id-2 div.sk-parallel-item:only-child::after {width: 0;}#sk-container-id-2 div.sk-dashed-wrapped {border: 1px dashed gray;margin: 0 0.4em 0.5em 0.4em;box-sizing: border-box;padding-bottom: 0.4em;background-color: white;}#sk-container-id-2 div.sk-label label {font-family: monospace;font-weight: bold;display: inline-block;line-height: 1.2em;}#sk-container-id-2 div.sk-label-container {text-align: center;}#sk-container-id-2 div.sk-container {/* jupyter's `normalize.less` sets `[hidden] { display: none; }` but bootstrap.min.css set `[hidden] { display: none !important; }` so we also need the `!important` here to be able to override the default hidden behavior on the sphinx rendered scikit-learn.org. See: https://github.com/scikit-learn/scikit-learn/issues/21755 */display: inline-block !important;position: relative;}#sk-container-id-2 div.sk-text-repr-fallback {display: none;}</style><div id=\"sk-container-id-2\" class=\"sk-top-container\"><div class=\"sk-text-repr-fallback\"><pre>BaggingClassifier(estimator=XGBClassifier(alpha=1, base_score=None,\n",
       "                                          booster=None, callbacks=None,\n",
       "                                          colsample_bylevel=None,\n",
       "                                          colsample_bynode=None,\n",
       "                                          colsample_bytree=None, device=None,\n",
       "                                          early_stopping_rounds=None,\n",
       "                                          enable_categorical=False,\n",
       "                                          eval_metric=None, feature_types=None,\n",
       "                                          gamma=0, grow_policy=None,\n",
       "                                          importance_type=None,\n",
       "                                          interaction_constraints=None,\n",
       "                                          learning_rate=0.01, max_bin=None,\n",
       "                                          max_cat_threshold=None,\n",
       "                                          max_cat_to_onehot=None,\n",
       "                                          max_delta_step=None, max_depth=8,\n",
       "                                          max_leaves=None,\n",
       "                                          min_child_weight=None, missing=nan,\n",
       "                                          monotone_constraints=None,\n",
       "                                          multi_strategy=None, n_estimators=150,\n",
       "                                          n_jobs=None, num_parallel_tree=None, ...))</pre><b>In a Jupyter environment, please rerun this cell to show the HTML representation or trust the notebook. <br />On GitHub, the HTML representation is unable to render, please try loading this page with nbviewer.org.</b></div><div class=\"sk-container\" hidden><div class=\"sk-item sk-dashed-wrapped\"><div class=\"sk-label-container\"><div class=\"sk-label sk-toggleable\"><input class=\"sk-toggleable__control sk-hidden--visually\" id=\"sk-estimator-id-2\" type=\"checkbox\" ><label for=\"sk-estimator-id-2\" class=\"sk-toggleable__label sk-toggleable__label-arrow\">BaggingClassifier</label><div class=\"sk-toggleable__content\"><pre>BaggingClassifier(estimator=XGBClassifier(alpha=1, base_score=None,\n",
       "                                          booster=None, callbacks=None,\n",
       "                                          colsample_bylevel=None,\n",
       "                                          colsample_bynode=None,\n",
       "                                          colsample_bytree=None, device=None,\n",
       "                                          early_stopping_rounds=None,\n",
       "                                          enable_categorical=False,\n",
       "                                          eval_metric=None, feature_types=None,\n",
       "                                          gamma=0, grow_policy=None,\n",
       "                                          importance_type=None,\n",
       "                                          interaction_constraints=None,\n",
       "                                          learning_rate=0.01, max_bin=None,\n",
       "                                          max_cat_threshold=None,\n",
       "                                          max_cat_to_onehot=None,\n",
       "                                          max_delta_step=None, max_depth=8,\n",
       "                                          max_leaves=None,\n",
       "                                          min_child_weight=None, missing=nan,\n",
       "                                          monotone_constraints=None,\n",
       "                                          multi_strategy=None, n_estimators=150,\n",
       "                                          n_jobs=None, num_parallel_tree=None, ...))</pre></div></div></div><div class=\"sk-parallel\"><div class=\"sk-parallel-item\"><div class=\"sk-item\"><div class=\"sk-label-container\"><div class=\"sk-label sk-toggleable\"><input class=\"sk-toggleable__control sk-hidden--visually\" id=\"sk-estimator-id-3\" type=\"checkbox\" ><label for=\"sk-estimator-id-3\" class=\"sk-toggleable__label sk-toggleable__label-arrow\">estimator: XGBClassifier</label><div class=\"sk-toggleable__content\"><pre>XGBClassifier(alpha=1, base_score=None, booster=None, callbacks=None,\n",
       "              colsample_bylevel=None, colsample_bynode=None,\n",
       "              colsample_bytree=None, device=None, early_stopping_rounds=None,\n",
       "              enable_categorical=False, eval_metric=None, feature_types=None,\n",
       "              gamma=0, grow_policy=None, importance_type=None,\n",
       "              interaction_constraints=None, learning_rate=0.01, max_bin=None,\n",
       "              max_cat_threshold=None, max_cat_to_onehot=None,\n",
       "              max_delta_step=None, max_depth=8, max_leaves=None,\n",
       "              min_child_weight=None, missing=nan, monotone_constraints=None,\n",
       "              multi_strategy=None, n_estimators=150, n_jobs=None,\n",
       "              num_parallel_tree=None, ...)</pre></div></div></div><div class=\"sk-serial\"><div class=\"sk-item\"><div class=\"sk-estimator sk-toggleable\"><input class=\"sk-toggleable__control sk-hidden--visually\" id=\"sk-estimator-id-4\" type=\"checkbox\" ><label for=\"sk-estimator-id-4\" class=\"sk-toggleable__label sk-toggleable__label-arrow\">XGBClassifier</label><div class=\"sk-toggleable__content\"><pre>XGBClassifier(alpha=1, base_score=None, booster=None, callbacks=None,\n",
       "              colsample_bylevel=None, colsample_bynode=None,\n",
       "              colsample_bytree=None, device=None, early_stopping_rounds=None,\n",
       "              enable_categorical=False, eval_metric=None, feature_types=None,\n",
       "              gamma=0, grow_policy=None, importance_type=None,\n",
       "              interaction_constraints=None, learning_rate=0.01, max_bin=None,\n",
       "              max_cat_threshold=None, max_cat_to_onehot=None,\n",
       "              max_delta_step=None, max_depth=8, max_leaves=None,\n",
       "              min_child_weight=None, missing=nan, monotone_constraints=None,\n",
       "              multi_strategy=None, n_estimators=150, n_jobs=None,\n",
       "              num_parallel_tree=None, ...)</pre></div></div></div></div></div></div></div></div></div></div>"
      ],
      "text/plain": [
       "BaggingClassifier(estimator=XGBClassifier(alpha=1, base_score=None,\n",
       "                                          booster=None, callbacks=None,\n",
       "                                          colsample_bylevel=None,\n",
       "                                          colsample_bynode=None,\n",
       "                                          colsample_bytree=None, device=None,\n",
       "                                          early_stopping_rounds=None,\n",
       "                                          enable_categorical=False,\n",
       "                                          eval_metric=None, feature_types=None,\n",
       "                                          gamma=0, grow_policy=None,\n",
       "                                          importance_type=None,\n",
       "                                          interaction_constraints=None,\n",
       "                                          learning_rate=0.01, max_bin=None,\n",
       "                                          max_cat_threshold=None,\n",
       "                                          max_cat_to_onehot=None,\n",
       "                                          max_delta_step=None, max_depth=8,\n",
       "                                          max_leaves=None,\n",
       "                                          min_child_weight=None, missing=nan,\n",
       "                                          monotone_constraints=None,\n",
       "                                          multi_strategy=None, n_estimators=150,\n",
       "                                          n_jobs=None, num_parallel_tree=None, ...))"
      ]
     },
     "execution_count": 66,
     "metadata": {},
     "output_type": "execute_result"
    }
   ],
   "source": [
    "final_model.fit(x_train, y_train)"
   ]
  },
  {
   "cell_type": "code",
   "execution_count": 67,
   "id": "abc61499",
   "metadata": {
    "execution": {
     "iopub.execute_input": "2025-07-01T00:28:10.081742Z",
     "iopub.status.busy": "2025-07-01T00:28:10.081242Z",
     "iopub.status.idle": "2025-07-01T00:29:06.616778Z",
     "shell.execute_reply": "2025-07-01T00:29:06.615838Z"
    },
    "papermill": {
     "duration": 56.644002,
     "end_time": "2025-07-01T00:29:06.638864",
     "exception": false,
     "start_time": "2025-07-01T00:28:09.994862",
     "status": "completed"
    },
    "tags": []
   },
   "outputs": [
    {
     "name": "stdout",
     "output_type": "stream",
     "text": [
      "\n",
      "BaggingClassifier Final initial MAP@3 Score: 0.3086\n"
     ]
    }
   ],
   "source": [
    "evaluator(final_model, x_val, y_val, le, 3, \"BaggingClassifier Final\")"
   ]
  },
  {
   "cell_type": "code",
   "execution_count": 68,
   "id": "f37fb876",
   "metadata": {
    "execution": {
     "iopub.execute_input": "2025-07-01T00:29:06.681550Z",
     "iopub.status.busy": "2025-07-01T00:29:06.681242Z",
     "iopub.status.idle": "2025-07-01T00:29:06.686548Z",
     "shell.execute_reply": "2025-07-01T00:29:06.685898Z"
    },
    "papermill": {
     "duration": 0.027771,
     "end_time": "2025-07-01T00:29:06.687932",
     "exception": false,
     "start_time": "2025-07-01T00:29:06.660161",
     "status": "completed"
    },
    "tags": []
   },
   "outputs": [
    {
     "data": {
      "text/plain": [
       "'\\n# Permutation Importance\\n\\nperm_importance = permutation_importance(final_model, x_val, y_val, n_repeats=30, random_state=42, n_jobs=-1)\\nperm_importance_df = pd.DataFrame({\\n    \\'Feature\\': x_end.columns,\\n    \\'Importance Mean\\': perm_importance.importances_mean,\\n    \\'Importance Std\\': perm_importance.importances_std\\n})\\nprint(\"\\nPermutation Importance:\\n\")\\nprint(perm_importance_df.sort_values(by=\\'Importance Mean\\', ascending=False))\\n'"
      ]
     },
     "execution_count": 68,
     "metadata": {},
     "output_type": "execute_result"
    }
   ],
   "source": [
    "'''\n",
    "# Permutation Importance\n",
    "\n",
    "perm_importance = permutation_importance(final_model, x_val, y_val, n_repeats=30, random_state=42, n_jobs=-1)\n",
    "perm_importance_df = pd.DataFrame({\n",
    "    'Feature': x_end.columns,\n",
    "    'Importance Mean': perm_importance.importances_mean,\n",
    "    'Importance Std': perm_importance.importances_std\n",
    "})\n",
    "print(\"\\nPermutation Importance:\\n\")\n",
    "print(perm_importance_df.sort_values(by='Importance Mean', ascending=False))\n",
    "'''"
   ]
  },
  {
   "cell_type": "markdown",
   "id": "7187516d",
   "metadata": {
    "papermill": {
     "duration": 0.020656,
     "end_time": "2025-07-01T00:29:06.729299",
     "exception": false,
     "start_time": "2025-07-01T00:29:06.708643",
     "status": "completed"
    },
    "tags": []
   },
   "source": [
    "# Test data"
   ]
  },
  {
   "cell_type": "code",
   "execution_count": 69,
   "id": "cd96586d",
   "metadata": {
    "execution": {
     "iopub.execute_input": "2025-07-01T00:29:06.770643Z",
     "iopub.status.busy": "2025-07-01T00:29:06.770340Z",
     "iopub.status.idle": "2025-07-01T00:29:07.155543Z",
     "shell.execute_reply": "2025-07-01T00:29:07.154760Z"
    },
    "papermill": {
     "duration": 0.407634,
     "end_time": "2025-07-01T00:29:07.157079",
     "exception": false,
     "start_time": "2025-07-01T00:29:06.749445",
     "status": "completed"
    },
    "tags": []
   },
   "outputs": [],
   "source": [
    "# We load the test data and submission sample data\n",
    "\n",
    "df_test = pd.read_csv(\"/kaggle/input/playground-series-s5e6/test.csv\")\n",
    "\n",
    "fertilizer_sample = pd.read_csv(\"/kaggle/input/playground-series-s5e6/sample_submission.csv\")"
   ]
  },
  {
   "cell_type": "code",
   "execution_count": 70,
   "id": "5ee2508f",
   "metadata": {
    "execution": {
     "iopub.execute_input": "2025-07-01T00:29:07.200173Z",
     "iopub.status.busy": "2025-07-01T00:29:07.199163Z",
     "iopub.status.idle": "2025-07-01T00:29:07.204098Z",
     "shell.execute_reply": "2025-07-01T00:29:07.203112Z"
    },
    "papermill": {
     "duration": 0.027761,
     "end_time": "2025-07-01T00:29:07.205527",
     "exception": false,
     "start_time": "2025-07-01T00:29:07.177766",
     "status": "completed"
    },
    "tags": []
   },
   "outputs": [
    {
     "name": "stdout",
     "output_type": "stream",
     "text": [
      "Shape: (250000, 9)\n"
     ]
    }
   ],
   "source": [
    "# We check the shape\n",
    "\n",
    "print(f\"Shape: {df_test.shape}\")"
   ]
  },
  {
   "cell_type": "code",
   "execution_count": 71,
   "id": "f34c85d3",
   "metadata": {
    "execution": {
     "iopub.execute_input": "2025-07-01T00:29:07.248993Z",
     "iopub.status.busy": "2025-07-01T00:29:07.248654Z",
     "iopub.status.idle": "2025-07-01T00:29:07.258321Z",
     "shell.execute_reply": "2025-07-01T00:29:07.257464Z"
    },
    "papermill": {
     "duration": 0.033053,
     "end_time": "2025-07-01T00:29:07.259746",
     "exception": false,
     "start_time": "2025-07-01T00:29:07.226693",
     "status": "completed"
    },
    "tags": []
   },
   "outputs": [
    {
     "data": {
      "text/html": [
       "<div>\n",
       "<style scoped>\n",
       "    .dataframe tbody tr th:only-of-type {\n",
       "        vertical-align: middle;\n",
       "    }\n",
       "\n",
       "    .dataframe tbody tr th {\n",
       "        vertical-align: top;\n",
       "    }\n",
       "\n",
       "    .dataframe thead th {\n",
       "        text-align: right;\n",
       "    }\n",
       "</style>\n",
       "<table border=\"1\" class=\"dataframe\">\n",
       "  <thead>\n",
       "    <tr style=\"text-align: right;\">\n",
       "      <th></th>\n",
       "      <th>id</th>\n",
       "      <th>Temparature</th>\n",
       "      <th>Humidity</th>\n",
       "      <th>Moisture</th>\n",
       "      <th>Soil Type</th>\n",
       "      <th>Crop Type</th>\n",
       "      <th>Nitrogen</th>\n",
       "      <th>Potassium</th>\n",
       "      <th>Phosphorous</th>\n",
       "    </tr>\n",
       "  </thead>\n",
       "  <tbody>\n",
       "    <tr>\n",
       "      <th>0</th>\n",
       "      <td>750000</td>\n",
       "      <td>31</td>\n",
       "      <td>70</td>\n",
       "      <td>52</td>\n",
       "      <td>Sandy</td>\n",
       "      <td>Wheat</td>\n",
       "      <td>34</td>\n",
       "      <td>11</td>\n",
       "      <td>24</td>\n",
       "    </tr>\n",
       "    <tr>\n",
       "      <th>1</th>\n",
       "      <td>750001</td>\n",
       "      <td>27</td>\n",
       "      <td>62</td>\n",
       "      <td>45</td>\n",
       "      <td>Red</td>\n",
       "      <td>Sugarcane</td>\n",
       "      <td>30</td>\n",
       "      <td>14</td>\n",
       "      <td>15</td>\n",
       "    </tr>\n",
       "    <tr>\n",
       "      <th>2</th>\n",
       "      <td>750002</td>\n",
       "      <td>28</td>\n",
       "      <td>72</td>\n",
       "      <td>28</td>\n",
       "      <td>Clayey</td>\n",
       "      <td>Ground Nuts</td>\n",
       "      <td>14</td>\n",
       "      <td>15</td>\n",
       "      <td>4</td>\n",
       "    </tr>\n",
       "    <tr>\n",
       "      <th>3</th>\n",
       "      <td>750003</td>\n",
       "      <td>37</td>\n",
       "      <td>53</td>\n",
       "      <td>57</td>\n",
       "      <td>Black</td>\n",
       "      <td>Ground Nuts</td>\n",
       "      <td>18</td>\n",
       "      <td>17</td>\n",
       "      <td>36</td>\n",
       "    </tr>\n",
       "    <tr>\n",
       "      <th>4</th>\n",
       "      <td>750004</td>\n",
       "      <td>31</td>\n",
       "      <td>55</td>\n",
       "      <td>32</td>\n",
       "      <td>Red</td>\n",
       "      <td>Pulses</td>\n",
       "      <td>13</td>\n",
       "      <td>19</td>\n",
       "      <td>14</td>\n",
       "    </tr>\n",
       "  </tbody>\n",
       "</table>\n",
       "</div>"
      ],
      "text/plain": [
       "       id  Temparature  Humidity  Moisture Soil Type    Crop Type  Nitrogen  \\\n",
       "0  750000           31        70        52     Sandy        Wheat        34   \n",
       "1  750001           27        62        45       Red    Sugarcane        30   \n",
       "2  750002           28        72        28    Clayey  Ground Nuts        14   \n",
       "3  750003           37        53        57     Black  Ground Nuts        18   \n",
       "4  750004           31        55        32       Red       Pulses        13   \n",
       "\n",
       "   Potassium  Phosphorous  \n",
       "0         11           24  \n",
       "1         14           15  \n",
       "2         15            4  \n",
       "3         17           36  \n",
       "4         19           14  "
      ]
     },
     "execution_count": 71,
     "metadata": {},
     "output_type": "execute_result"
    }
   ],
   "source": [
    "df_test.head()"
   ]
  },
  {
   "cell_type": "code",
   "execution_count": 72,
   "id": "0958aa41",
   "metadata": {
    "execution": {
     "iopub.execute_input": "2025-07-01T00:29:07.303316Z",
     "iopub.status.busy": "2025-07-01T00:29:07.302956Z",
     "iopub.status.idle": "2025-07-01T00:29:07.341392Z",
     "shell.execute_reply": "2025-07-01T00:29:07.340241Z"
    },
    "papermill": {
     "duration": 0.061828,
     "end_time": "2025-07-01T00:29:07.342839",
     "exception": false,
     "start_time": "2025-07-01T00:29:07.281011",
     "status": "completed"
    },
    "tags": []
   },
   "outputs": [
    {
     "name": "stdout",
     "output_type": "stream",
     "text": [
      "<class 'pandas.core.frame.DataFrame'>\n",
      "RangeIndex: 250000 entries, 0 to 249999\n",
      "Data columns (total 9 columns):\n",
      " #   Column       Non-Null Count   Dtype \n",
      "---  ------       --------------   ----- \n",
      " 0   id           250000 non-null  int64 \n",
      " 1   Temparature  250000 non-null  int64 \n",
      " 2   Humidity     250000 non-null  int64 \n",
      " 3   Moisture     250000 non-null  int64 \n",
      " 4   Soil Type    250000 non-null  object\n",
      " 5   Crop Type    250000 non-null  object\n",
      " 6   Nitrogen     250000 non-null  int64 \n",
      " 7   Potassium    250000 non-null  int64 \n",
      " 8   Phosphorous  250000 non-null  int64 \n",
      "dtypes: int64(7), object(2)\n",
      "memory usage: 17.2+ MB\n"
     ]
    }
   ],
   "source": [
    "df_test.info()"
   ]
  },
  {
   "cell_type": "code",
   "execution_count": 73,
   "id": "0f9aa549",
   "metadata": {
    "execution": {
     "iopub.execute_input": "2025-07-01T00:29:07.386100Z",
     "iopub.status.busy": "2025-07-01T00:29:07.385774Z",
     "iopub.status.idle": "2025-07-01T00:29:07.461478Z",
     "shell.execute_reply": "2025-07-01T00:29:07.460416Z"
    },
    "papermill": {
     "duration": 0.098793,
     "end_time": "2025-07-01T00:29:07.463054",
     "exception": false,
     "start_time": "2025-07-01T00:29:07.364261",
     "status": "completed"
    },
    "tags": []
   },
   "outputs": [
    {
     "data": {
      "text/html": [
       "<div>\n",
       "<style scoped>\n",
       "    .dataframe tbody tr th:only-of-type {\n",
       "        vertical-align: middle;\n",
       "    }\n",
       "\n",
       "    .dataframe tbody tr th {\n",
       "        vertical-align: top;\n",
       "    }\n",
       "\n",
       "    .dataframe thead th {\n",
       "        text-align: right;\n",
       "    }\n",
       "</style>\n",
       "<table border=\"1\" class=\"dataframe\">\n",
       "  <thead>\n",
       "    <tr style=\"text-align: right;\">\n",
       "      <th></th>\n",
       "      <th>count</th>\n",
       "      <th>mean</th>\n",
       "      <th>std</th>\n",
       "      <th>min</th>\n",
       "      <th>25%</th>\n",
       "      <th>50%</th>\n",
       "      <th>75%</th>\n",
       "      <th>max</th>\n",
       "    </tr>\n",
       "  </thead>\n",
       "  <tbody>\n",
       "    <tr>\n",
       "      <th>id</th>\n",
       "      <td>250000.0</td>\n",
       "      <td>874999.500000</td>\n",
       "      <td>72168.927986</td>\n",
       "      <td>750000.0</td>\n",
       "      <td>812499.75</td>\n",
       "      <td>874999.5</td>\n",
       "      <td>937499.25</td>\n",
       "      <td>999999.0</td>\n",
       "    </tr>\n",
       "    <tr>\n",
       "      <th>Temparature</th>\n",
       "      <td>250000.0</td>\n",
       "      <td>31.491648</td>\n",
       "      <td>4.024093</td>\n",
       "      <td>25.0</td>\n",
       "      <td>28.00</td>\n",
       "      <td>31.0</td>\n",
       "      <td>35.00</td>\n",
       "      <td>38.0</td>\n",
       "    </tr>\n",
       "    <tr>\n",
       "      <th>Humidity</th>\n",
       "      <td>250000.0</td>\n",
       "      <td>61.045120</td>\n",
       "      <td>6.636372</td>\n",
       "      <td>50.0</td>\n",
       "      <td>55.00</td>\n",
       "      <td>61.0</td>\n",
       "      <td>67.00</td>\n",
       "      <td>72.0</td>\n",
       "    </tr>\n",
       "    <tr>\n",
       "      <th>Moisture</th>\n",
       "      <td>250000.0</td>\n",
       "      <td>45.190444</td>\n",
       "      <td>11.793167</td>\n",
       "      <td>25.0</td>\n",
       "      <td>35.00</td>\n",
       "      <td>45.0</td>\n",
       "      <td>55.00</td>\n",
       "      <td>65.0</td>\n",
       "    </tr>\n",
       "    <tr>\n",
       "      <th>Nitrogen</th>\n",
       "      <td>250000.0</td>\n",
       "      <td>23.139612</td>\n",
       "      <td>11.215956</td>\n",
       "      <td>4.0</td>\n",
       "      <td>13.00</td>\n",
       "      <td>23.0</td>\n",
       "      <td>33.00</td>\n",
       "      <td>42.0</td>\n",
       "    </tr>\n",
       "    <tr>\n",
       "      <th>Potassium</th>\n",
       "      <td>250000.0</td>\n",
       "      <td>9.487764</td>\n",
       "      <td>5.766860</td>\n",
       "      <td>0.0</td>\n",
       "      <td>4.00</td>\n",
       "      <td>10.0</td>\n",
       "      <td>14.00</td>\n",
       "      <td>19.0</td>\n",
       "    </tr>\n",
       "    <tr>\n",
       "      <th>Phosphorous</th>\n",
       "      <td>250000.0</td>\n",
       "      <td>21.122060</td>\n",
       "      <td>12.380870</td>\n",
       "      <td>0.0</td>\n",
       "      <td>10.00</td>\n",
       "      <td>21.0</td>\n",
       "      <td>32.00</td>\n",
       "      <td>42.0</td>\n",
       "    </tr>\n",
       "  </tbody>\n",
       "</table>\n",
       "</div>"
      ],
      "text/plain": [
       "                count           mean           std       min        25%  \\\n",
       "id           250000.0  874999.500000  72168.927986  750000.0  812499.75   \n",
       "Temparature  250000.0      31.491648      4.024093      25.0      28.00   \n",
       "Humidity     250000.0      61.045120      6.636372      50.0      55.00   \n",
       "Moisture     250000.0      45.190444     11.793167      25.0      35.00   \n",
       "Nitrogen     250000.0      23.139612     11.215956       4.0      13.00   \n",
       "Potassium    250000.0       9.487764      5.766860       0.0       4.00   \n",
       "Phosphorous  250000.0      21.122060     12.380870       0.0      10.00   \n",
       "\n",
       "                  50%        75%       max  \n",
       "id           874999.5  937499.25  999999.0  \n",
       "Temparature      31.0      35.00      38.0  \n",
       "Humidity         61.0      67.00      72.0  \n",
       "Moisture         45.0      55.00      65.0  \n",
       "Nitrogen         23.0      33.00      42.0  \n",
       "Potassium        10.0      14.00      19.0  \n",
       "Phosphorous      21.0      32.00      42.0  "
      ]
     },
     "execution_count": 73,
     "metadata": {},
     "output_type": "execute_result"
    }
   ],
   "source": [
    "df_test.describe().T"
   ]
  },
  {
   "cell_type": "code",
   "execution_count": 74,
   "id": "f8b6d205",
   "metadata": {
    "execution": {
     "iopub.execute_input": "2025-07-01T00:29:07.507234Z",
     "iopub.status.busy": "2025-07-01T00:29:07.506894Z",
     "iopub.status.idle": "2025-07-01T00:29:07.579642Z",
     "shell.execute_reply": "2025-07-01T00:29:07.578734Z"
    },
    "papermill": {
     "duration": 0.096352,
     "end_time": "2025-07-01T00:29:07.581169",
     "exception": false,
     "start_time": "2025-07-01T00:29:07.484817",
     "status": "completed"
    },
    "tags": []
   },
   "outputs": [
    {
     "data": {
      "text/html": [
       "<div>\n",
       "<style scoped>\n",
       "    .dataframe tbody tr th:only-of-type {\n",
       "        vertical-align: middle;\n",
       "    }\n",
       "\n",
       "    .dataframe tbody tr th {\n",
       "        vertical-align: top;\n",
       "    }\n",
       "\n",
       "    .dataframe thead th {\n",
       "        text-align: right;\n",
       "    }\n",
       "</style>\n",
       "<table border=\"1\" class=\"dataframe\">\n",
       "  <thead>\n",
       "    <tr style=\"text-align: right;\">\n",
       "      <th></th>\n",
       "      <th>Soil Type</th>\n",
       "      <th>Crop Type</th>\n",
       "    </tr>\n",
       "  </thead>\n",
       "  <tbody>\n",
       "    <tr>\n",
       "      <th>count</th>\n",
       "      <td>250000</td>\n",
       "      <td>250000</td>\n",
       "    </tr>\n",
       "    <tr>\n",
       "      <th>unique</th>\n",
       "      <td>5</td>\n",
       "      <td>11</td>\n",
       "    </tr>\n",
       "    <tr>\n",
       "      <th>top</th>\n",
       "      <td>Sandy</td>\n",
       "      <td>Paddy</td>\n",
       "    </tr>\n",
       "    <tr>\n",
       "      <th>freq</th>\n",
       "      <td>52323</td>\n",
       "      <td>28332</td>\n",
       "    </tr>\n",
       "  </tbody>\n",
       "</table>\n",
       "</div>"
      ],
      "text/plain": [
       "       Soil Type Crop Type\n",
       "count     250000    250000\n",
       "unique         5        11\n",
       "top        Sandy     Paddy\n",
       "freq       52323     28332"
      ]
     },
     "execution_count": 74,
     "metadata": {},
     "output_type": "execute_result"
    }
   ],
   "source": [
    "df_test.describe(exclude = np.number)"
   ]
  },
  {
   "cell_type": "markdown",
   "id": "584611bc",
   "metadata": {
    "papermill": {
     "duration": 0.020642,
     "end_time": "2025-07-01T00:29:07.623436",
     "exception": false,
     "start_time": "2025-07-01T00:29:07.602794",
     "status": "completed"
    },
    "tags": []
   },
   "source": [
    "## Data wrangling & Preprocessing"
   ]
  },
  {
   "cell_type": "code",
   "execution_count": 75,
   "id": "81cf1b1b",
   "metadata": {
    "execution": {
     "iopub.execute_input": "2025-07-01T00:29:07.666329Z",
     "iopub.status.busy": "2025-07-01T00:29:07.666050Z",
     "iopub.status.idle": "2025-07-01T00:29:07.796542Z",
     "shell.execute_reply": "2025-07-01T00:29:07.795431Z"
    },
    "papermill": {
     "duration": 0.153882,
     "end_time": "2025-07-01T00:29:07.798017",
     "exception": false,
     "start_time": "2025-07-01T00:29:07.644135",
     "status": "completed"
    },
    "tags": []
   },
   "outputs": [
    {
     "name": "stdout",
     "output_type": "stream",
     "text": [
      "Length: 250000\n",
      "Duplicates: 0\n"
     ]
    }
   ],
   "source": [
    "# We check that no duplicate data is found\n",
    "\n",
    "print(f\"Length: {len(df_test.duplicated())}\")\n",
    "\n",
    "print(f\"Duplicates: {df_test.duplicated().sum()}\")"
   ]
  },
  {
   "cell_type": "code",
   "execution_count": 76,
   "id": "66789189",
   "metadata": {
    "execution": {
     "iopub.execute_input": "2025-07-01T00:29:07.842921Z",
     "iopub.status.busy": "2025-07-01T00:29:07.842132Z",
     "iopub.status.idle": "2025-07-01T00:29:07.907858Z",
     "shell.execute_reply": "2025-07-01T00:29:07.907200Z"
    },
    "papermill": {
     "duration": 0.08914,
     "end_time": "2025-07-01T00:29:07.909352",
     "exception": false,
     "start_time": "2025-07-01T00:29:07.820212",
     "status": "completed"
    },
    "tags": []
   },
   "outputs": [
    {
     "data": {
      "text/html": [
       "<div>\n",
       "<style scoped>\n",
       "    .dataframe tbody tr th:only-of-type {\n",
       "        vertical-align: middle;\n",
       "    }\n",
       "\n",
       "    .dataframe tbody tr th {\n",
       "        vertical-align: top;\n",
       "    }\n",
       "\n",
       "    .dataframe thead th {\n",
       "        text-align: right;\n",
       "    }\n",
       "</style>\n",
       "<table border=\"1\" class=\"dataframe\">\n",
       "  <thead>\n",
       "    <tr style=\"text-align: right;\">\n",
       "      <th></th>\n",
       "      <th>Null Data</th>\n",
       "      <th>Percentage</th>\n",
       "    </tr>\n",
       "  </thead>\n",
       "  <tbody>\n",
       "    <tr>\n",
       "      <th>id</th>\n",
       "      <td>0</td>\n",
       "      <td>0.0</td>\n",
       "    </tr>\n",
       "    <tr>\n",
       "      <th>Temparature</th>\n",
       "      <td>0</td>\n",
       "      <td>0.0</td>\n",
       "    </tr>\n",
       "    <tr>\n",
       "      <th>Humidity</th>\n",
       "      <td>0</td>\n",
       "      <td>0.0</td>\n",
       "    </tr>\n",
       "    <tr>\n",
       "      <th>Moisture</th>\n",
       "      <td>0</td>\n",
       "      <td>0.0</td>\n",
       "    </tr>\n",
       "    <tr>\n",
       "      <th>Soil Type</th>\n",
       "      <td>0</td>\n",
       "      <td>0.0</td>\n",
       "    </tr>\n",
       "    <tr>\n",
       "      <th>Crop Type</th>\n",
       "      <td>0</td>\n",
       "      <td>0.0</td>\n",
       "    </tr>\n",
       "    <tr>\n",
       "      <th>Nitrogen</th>\n",
       "      <td>0</td>\n",
       "      <td>0.0</td>\n",
       "    </tr>\n",
       "    <tr>\n",
       "      <th>Potassium</th>\n",
       "      <td>0</td>\n",
       "      <td>0.0</td>\n",
       "    </tr>\n",
       "    <tr>\n",
       "      <th>Phosphorous</th>\n",
       "      <td>0</td>\n",
       "      <td>0.0</td>\n",
       "    </tr>\n",
       "  </tbody>\n",
       "</table>\n",
       "</div>"
      ],
      "text/plain": [
       "             Null Data  Percentage\n",
       "id                   0         0.0\n",
       "Temparature          0         0.0\n",
       "Humidity             0         0.0\n",
       "Moisture             0         0.0\n",
       "Soil Type            0         0.0\n",
       "Crop Type            0         0.0\n",
       "Nitrogen             0         0.0\n",
       "Potassium            0         0.0\n",
       "Phosphorous          0         0.0"
      ]
     },
     "execution_count": 76,
     "metadata": {},
     "output_type": "execute_result"
    }
   ],
   "source": [
    "# We confirm that there is no null values\n",
    "\n",
    "null_values_test = pd.DataFrame(\n",
    "        {f\"Null Data\" : df_test.isnull().sum(), \n",
    "         \"Percentage\" : (df_test.isnull().sum()) / (len(df_test)) * (100)})\n",
    "\n",
    "null_values_test"
   ]
  },
  {
   "cell_type": "code",
   "execution_count": 77,
   "id": "5119ef65",
   "metadata": {
    "execution": {
     "iopub.execute_input": "2025-07-01T00:29:07.953636Z",
     "iopub.status.busy": "2025-07-01T00:29:07.953016Z",
     "iopub.status.idle": "2025-07-01T00:29:07.962264Z",
     "shell.execute_reply": "2025-07-01T00:29:07.961365Z"
    },
    "papermill": {
     "duration": 0.032795,
     "end_time": "2025-07-01T00:29:07.963654",
     "exception": false,
     "start_time": "2025-07-01T00:29:07.930859",
     "status": "completed"
    },
    "tags": []
   },
   "outputs": [],
   "source": [
    "# We start by removing the variables that we will not use\n",
    "\n",
    "test_new = df_test.drop(columns=[\"id\"])"
   ]
  },
  {
   "cell_type": "code",
   "execution_count": 78,
   "id": "626d8de9",
   "metadata": {
    "execution": {
     "iopub.execute_input": "2025-07-01T00:29:08.007536Z",
     "iopub.status.busy": "2025-07-01T00:29:08.007228Z",
     "iopub.status.idle": "2025-07-01T00:29:08.053335Z",
     "shell.execute_reply": "2025-07-01T00:29:08.052614Z"
    },
    "papermill": {
     "duration": 0.069793,
     "end_time": "2025-07-01T00:29:08.054885",
     "exception": false,
     "start_time": "2025-07-01T00:29:07.985092",
     "status": "completed"
    },
    "tags": []
   },
   "outputs": [],
   "source": [
    "# We separate the climate variables into bins\n",
    "\n",
    "test_new[\"Temparature_Bins\"] = pd.cut(test_new[\"Temparature\"], bins_tem, labels=labels_climate)\n",
    "test_new[\"Humidity_Bins\"] = pd.cut(test_new[\"Humidity\"], bins_hum, labels=labels_climate)\n",
    "test_new[\"Moisture_Bins\"] = pd.cut(test_new[\"Moisture\"], bins_moi, labels=labels_climate)\n",
    "\n",
    "# We separate the elements variables into bins\n",
    "\n",
    "test_new[\"Nitrogen_Bins\"] = pd.cut(test_new[\"Nitrogen\"], bins_n, labels=labels_elements)\n",
    "test_new[\"Potassium_Bins\"] = pd.cut(test_new[\"Potassium\"], bins_k, labels=labels_elements)\n",
    "test_new[\"Phosphorous_Bins\"] = pd.cut(test_new[\"Phosphorous\"], bins_p, labels=labels_elements)"
   ]
  },
  {
   "cell_type": "code",
   "execution_count": 79,
   "id": "1880b373",
   "metadata": {
    "execution": {
     "iopub.execute_input": "2025-07-01T00:29:08.099542Z",
     "iopub.status.busy": "2025-07-01T00:29:08.099219Z",
     "iopub.status.idle": "2025-07-01T00:29:08.104666Z",
     "shell.execute_reply": "2025-07-01T00:29:08.104016Z"
    },
    "papermill": {
     "duration": 0.029334,
     "end_time": "2025-07-01T00:29:08.106080",
     "exception": false,
     "start_time": "2025-07-01T00:29:08.076746",
     "status": "completed"
    },
    "tags": []
   },
   "outputs": [
    {
     "data": {
      "text/plain": [
       "'\\n# Polynomial / transforms\\n\\ntest_new[\"tem_log\"] = np.log1p(test_new[\"Temparature\"])\\ntest_new[\"tem_sq\"]  = test_new[\"Temparature\"] ** 2\\ntest_new[\"tem_cubert\"] = np.cbrt(test_new[\"Temparature\"])\\n\\ntest_new[\"hum_log\"] = np.log1p(test_new[\"Humidity\"])\\ntest_new[\"hum_sq\"]  = test_new[\"Humidity\"] ** 2\\ntest_new[\"hum_cubert\"] = np.cbrt(test_new[\"Humidity\"])\\n\\ntest_new[\"moi_log\"] = np.log1p(test_new[\"Moisture\"])\\ntest_new[\"moi_sq\"]  = test_new[\"Moisture\"] ** 2\\ntest_new[\"moi_cubert\"] = np.cbrt(test_new[\"Moisture\"])\\n\\ntest_new[\"n_log\"] = np.log1p(test_new[\"Nitrogen\"])\\ntest_new[\"n_sq\"]  = test_new[\"Nitrogen\"] ** 2\\ntest_new[\"n_cubert\"] = np.cbrt(test_new[\"Nitrogen\"])\\n\\ntest_new[\"k_log\"] = np.log1p(test_new[\"Potassium\"])\\ntest_new[\"k_sq\"]  = test_new[\"Potassium\"] ** 2\\ntest_new[\"k_cubert\"] = np.cbrt(test_new[\"Potassium\"])\\n\\ntest_new[\"p_log\"] = np.log1p(test_new[\"Phosphorous\"])\\ntest_new[\"p_sq\"]  = test_new[\"Phosphorous\"] ** 2\\ntest_new[\"p_cubert\"] = np.cbrt(test_new[\"Phosphorous\"])\\n'"
      ]
     },
     "execution_count": 79,
     "metadata": {},
     "output_type": "execute_result"
    }
   ],
   "source": [
    "'''\n",
    "# Polynomial / transforms\n",
    "\n",
    "test_new[\"tem_log\"] = np.log1p(test_new[\"Temparature\"])\n",
    "test_new[\"tem_sq\"]  = test_new[\"Temparature\"] ** 2\n",
    "test_new[\"tem_cubert\"] = np.cbrt(test_new[\"Temparature\"])\n",
    "\n",
    "test_new[\"hum_log\"] = np.log1p(test_new[\"Humidity\"])\n",
    "test_new[\"hum_sq\"]  = test_new[\"Humidity\"] ** 2\n",
    "test_new[\"hum_cubert\"] = np.cbrt(test_new[\"Humidity\"])\n",
    "\n",
    "test_new[\"moi_log\"] = np.log1p(test_new[\"Moisture\"])\n",
    "test_new[\"moi_sq\"]  = test_new[\"Moisture\"] ** 2\n",
    "test_new[\"moi_cubert\"] = np.cbrt(test_new[\"Moisture\"])\n",
    "\n",
    "test_new[\"n_log\"] = np.log1p(test_new[\"Nitrogen\"])\n",
    "test_new[\"n_sq\"]  = test_new[\"Nitrogen\"] ** 2\n",
    "test_new[\"n_cubert\"] = np.cbrt(test_new[\"Nitrogen\"])\n",
    "\n",
    "test_new[\"k_log\"] = np.log1p(test_new[\"Potassium\"])\n",
    "test_new[\"k_sq\"]  = test_new[\"Potassium\"] ** 2\n",
    "test_new[\"k_cubert\"] = np.cbrt(test_new[\"Potassium\"])\n",
    "\n",
    "test_new[\"p_log\"] = np.log1p(test_new[\"Phosphorous\"])\n",
    "test_new[\"p_sq\"]  = test_new[\"Phosphorous\"] ** 2\n",
    "test_new[\"p_cubert\"] = np.cbrt(test_new[\"Phosphorous\"])\n",
    "'''"
   ]
  },
  {
   "cell_type": "code",
   "execution_count": 80,
   "id": "20b345d7",
   "metadata": {
    "execution": {
     "iopub.execute_input": "2025-07-01T00:29:08.149792Z",
     "iopub.status.busy": "2025-07-01T00:29:08.149508Z",
     "iopub.status.idle": "2025-07-01T00:29:08.366791Z",
     "shell.execute_reply": "2025-07-01T00:29:08.365934Z"
    },
    "papermill": {
     "duration": 0.241125,
     "end_time": "2025-07-01T00:29:08.368505",
     "exception": false,
     "start_time": "2025-07-01T00:29:08.127380",
     "status": "completed"
    },
    "tags": []
   },
   "outputs": [],
   "source": [
    "# We encode categorical variables\n",
    "\n",
    "test_cat_cols = test_new[[\"Soil Type\", \"Crop Type\"]]\n",
    "test_rest_cols = test_new.drop(columns=[\"Soil Type\", \"Crop Type\"])\n",
    "test_cat_enc = encoder.fit_transform(test_cat_cols)\n",
    "test_encoded = pd.concat([test_rest_cols, test_cat_enc], axis=1)"
   ]
  },
  {
   "cell_type": "code",
   "execution_count": 81,
   "id": "068ed229",
   "metadata": {
    "execution": {
     "iopub.execute_input": "2025-07-01T00:29:08.412910Z",
     "iopub.status.busy": "2025-07-01T00:29:08.412583Z",
     "iopub.status.idle": "2025-07-01T00:29:08.457415Z",
     "shell.execute_reply": "2025-07-01T00:29:08.456478Z"
    },
    "papermill": {
     "duration": 0.068977,
     "end_time": "2025-07-01T00:29:08.458935",
     "exception": false,
     "start_time": "2025-07-01T00:29:08.389958",
     "status": "completed"
    },
    "tags": []
   },
   "outputs": [
    {
     "name": "stdout",
     "output_type": "stream",
     "text": [
      "Temparature_Bins\n",
      "0.0    89313\n",
      "2.0    88986\n",
      "1.0    71701\n",
      "Name: count, dtype: int64\n",
      "Humidity_Bins\n",
      "1.0    86642\n",
      "0.0    86495\n",
      "2.0    76863\n",
      "Name: count, dtype: int64\n",
      "Moisture_Bins\n",
      "1.0    92250\n",
      "2.0    86522\n",
      "0.0    71228\n",
      "Name: count, dtype: int64\n",
      "Nitrogen_Bins\n",
      "1.0    97364\n",
      "2.0    77401\n",
      "0.0    75235\n",
      "Name: count, dtype: int64\n",
      "Potassium_Bins\n",
      "2.0    87702\n",
      "0.0    87318\n",
      "1.0    74980\n",
      "Name: count, dtype: int64\n",
      "Phosphorous_Bins\n",
      "0.0    91568\n",
      "1.0    88700\n",
      "2.0    69732\n",
      "Name: count, dtype: int64\n"
     ]
    }
   ],
   "source": [
    "mapper(test_encoded, \"Temparature_Bins\", climate_order)\n",
    "mapper(test_encoded, \"Humidity_Bins\", climate_order)\n",
    "mapper(test_encoded, \"Moisture_Bins\", climate_order)\n",
    "mapper(test_encoded, \"Nitrogen_Bins\", elements_order)\n",
    "mapper(test_encoded, \"Potassium_Bins\", elements_order)\n",
    "mapper(test_encoded, \"Phosphorous_Bins\", elements_order)"
   ]
  },
  {
   "cell_type": "code",
   "execution_count": 82,
   "id": "cd0a3938",
   "metadata": {
    "execution": {
     "iopub.execute_input": "2025-07-01T00:29:08.509285Z",
     "iopub.status.busy": "2025-07-01T00:29:08.508951Z",
     "iopub.status.idle": "2025-07-01T00:29:08.543485Z",
     "shell.execute_reply": "2025-07-01T00:29:08.542193Z"
    },
    "papermill": {
     "duration": 0.061513,
     "end_time": "2025-07-01T00:29:08.545044",
     "exception": false,
     "start_time": "2025-07-01T00:29:08.483531",
     "status": "completed"
    },
    "tags": []
   },
   "outputs": [
    {
     "name": "stdout",
     "output_type": "stream",
     "text": [
      "<class 'pandas.core.frame.DataFrame'>\n",
      "RangeIndex: 250000 entries, 0 to 249999\n",
      "Data columns (total 28 columns):\n",
      " #   Column                 Non-Null Count   Dtype  \n",
      "---  ------                 --------------   -----  \n",
      " 0   Temparature            250000 non-null  int64  \n",
      " 1   Humidity               250000 non-null  int64  \n",
      " 2   Moisture               250000 non-null  int64  \n",
      " 3   Nitrogen               250000 non-null  int64  \n",
      " 4   Potassium              250000 non-null  int64  \n",
      " 5   Phosphorous            250000 non-null  int64  \n",
      " 6   Temparature_Bins       250000 non-null  float64\n",
      " 7   Humidity_Bins          250000 non-null  float64\n",
      " 8   Moisture_Bins          250000 non-null  float64\n",
      " 9   Nitrogen_Bins          250000 non-null  float64\n",
      " 10  Potassium_Bins         250000 non-null  float64\n",
      " 11  Phosphorous_Bins       250000 non-null  float64\n",
      " 12  Soil Type_Black        250000 non-null  float64\n",
      " 13  Soil Type_Clayey       250000 non-null  float64\n",
      " 14  Soil Type_Loamy        250000 non-null  float64\n",
      " 15  Soil Type_Red          250000 non-null  float64\n",
      " 16  Soil Type_Sandy        250000 non-null  float64\n",
      " 17  Crop Type_Barley       250000 non-null  float64\n",
      " 18  Crop Type_Cotton       250000 non-null  float64\n",
      " 19  Crop Type_Ground Nuts  250000 non-null  float64\n",
      " 20  Crop Type_Maize        250000 non-null  float64\n",
      " 21  Crop Type_Millets      250000 non-null  float64\n",
      " 22  Crop Type_Oil seeds    250000 non-null  float64\n",
      " 23  Crop Type_Paddy        250000 non-null  float64\n",
      " 24  Crop Type_Pulses       250000 non-null  float64\n",
      " 25  Crop Type_Sugarcane    250000 non-null  float64\n",
      " 26  Crop Type_Tobacco      250000 non-null  float64\n",
      " 27  Crop Type_Wheat        250000 non-null  float64\n",
      "dtypes: float64(22), int64(6)\n",
      "memory usage: 53.4 MB\n"
     ]
    }
   ],
   "source": [
    "test_encoded.info()"
   ]
  },
  {
   "cell_type": "code",
   "execution_count": 83,
   "id": "c3e8bbc3",
   "metadata": {
    "execution": {
     "iopub.execute_input": "2025-07-01T00:29:08.591707Z",
     "iopub.status.busy": "2025-07-01T00:29:08.591383Z",
     "iopub.status.idle": "2025-07-01T00:29:08.596895Z",
     "shell.execute_reply": "2025-07-01T00:29:08.596132Z"
    },
    "papermill": {
     "duration": 0.030205,
     "end_time": "2025-07-01T00:29:08.598263",
     "exception": false,
     "start_time": "2025-07-01T00:29:08.568058",
     "status": "completed"
    },
    "tags": []
   },
   "outputs": [
    {
     "data": {
      "text/plain": [
       "'\\n# Numerical variables to scale\\n\\ntest_numeric = test_encoded[[\\n    \"Temparature\",\"Humidity\",\"Moisture\",\\n    \"Nitrogen\",\"Potassium\",\"Phosphorous\",\\n    \"tem_sq\",\"hum_sq\",\"moi_sq\",\\n    \"n_sq\",\"k_sq\",\"p_sq\"\\n]]\\ntest_scale_num = scaler.transform(test_numeric)\\n\\ntest_rest = test_encoded.drop(columns=[\\n    \"Temparature\",\"Humidity\",\"Moisture\",\\n    \"Nitrogen\",\"Potassium\",\"Phosphorous\",\\n    \"tem_sq\",\"hum_sq\",\"moi_sq\",\\n    \"n_sq\",\"k_sq\",\"p_sq\"\\n])\\ntest_end = pd.concat([test_scale_num, test_rest], axis=1)\\n'"
      ]
     },
     "execution_count": 83,
     "metadata": {},
     "output_type": "execute_result"
    }
   ],
   "source": [
    "'''\n",
    "# Numerical variables to scale\n",
    "\n",
    "test_numeric = test_encoded[[\n",
    "    \"Temparature\",\"Humidity\",\"Moisture\",\n",
    "    \"Nitrogen\",\"Potassium\",\"Phosphorous\",\n",
    "    \"tem_sq\",\"hum_sq\",\"moi_sq\",\n",
    "    \"n_sq\",\"k_sq\",\"p_sq\"\n",
    "]]\n",
    "test_scale_num = scaler.transform(test_numeric)\n",
    "\n",
    "test_rest = test_encoded.drop(columns=[\n",
    "    \"Temparature\",\"Humidity\",\"Moisture\",\n",
    "    \"Nitrogen\",\"Potassium\",\"Phosphorous\",\n",
    "    \"tem_sq\",\"hum_sq\",\"moi_sq\",\n",
    "    \"n_sq\",\"k_sq\",\"p_sq\"\n",
    "])\n",
    "test_end = pd.concat([test_scale_num, test_rest], axis=1)\n",
    "'''"
   ]
  },
  {
   "cell_type": "code",
   "execution_count": 84,
   "id": "84273885",
   "metadata": {
    "execution": {
     "iopub.execute_input": "2025-07-01T00:29:08.645583Z",
     "iopub.status.busy": "2025-07-01T00:29:08.645251Z",
     "iopub.status.idle": "2025-07-01T00:29:08.749158Z",
     "shell.execute_reply": "2025-07-01T00:29:08.748458Z"
    },
    "papermill": {
     "duration": 0.129215,
     "end_time": "2025-07-01T00:29:08.750696",
     "exception": false,
     "start_time": "2025-07-01T00:29:08.621481",
     "status": "completed"
    },
    "tags": []
   },
   "outputs": [],
   "source": [
    "# Numerical variables to scale\n",
    "\n",
    "test_numeric = test_encoded[[\n",
    "    \"Temparature\", \"Humidity\", \"Moisture\",\n",
    "    \"Nitrogen\", \"Potassium\", \"Phosphorous\"\n",
    "]]\n",
    "test_scale_num = scaler.transform(test_numeric)\n",
    "test_rest = test_encoded.drop(columns=[\n",
    "    \"Temparature\", \"Humidity\", \"Moisture\",\n",
    "    \"Nitrogen\", \"Potassium\", \"Phosphorous\"\n",
    "])\n",
    "test_end = pd.concat([test_scale_num, test_rest], axis=1)"
   ]
  },
  {
   "cell_type": "code",
   "execution_count": 85,
   "id": "55e597e4",
   "metadata": {
    "execution": {
     "iopub.execute_input": "2025-07-01T00:29:08.799315Z",
     "iopub.status.busy": "2025-07-01T00:29:08.799015Z",
     "iopub.status.idle": "2025-07-01T00:29:09.184645Z",
     "shell.execute_reply": "2025-07-01T00:29:09.183771Z"
    },
    "papermill": {
     "duration": 0.412359,
     "end_time": "2025-07-01T00:29:09.186100",
     "exception": false,
     "start_time": "2025-07-01T00:29:08.773741",
     "status": "completed"
    },
    "tags": []
   },
   "outputs": [
    {
     "data": {
      "text/html": [
       "<div>\n",
       "<style scoped>\n",
       "    .dataframe tbody tr th:only-of-type {\n",
       "        vertical-align: middle;\n",
       "    }\n",
       "\n",
       "    .dataframe tbody tr th {\n",
       "        vertical-align: top;\n",
       "    }\n",
       "\n",
       "    .dataframe thead th {\n",
       "        text-align: right;\n",
       "    }\n",
       "</style>\n",
       "<table border=\"1\" class=\"dataframe\">\n",
       "  <thead>\n",
       "    <tr style=\"text-align: right;\">\n",
       "      <th></th>\n",
       "      <th>count</th>\n",
       "      <th>mean</th>\n",
       "      <th>std</th>\n",
       "      <th>min</th>\n",
       "      <th>25%</th>\n",
       "      <th>50%</th>\n",
       "      <th>75%</th>\n",
       "      <th>max</th>\n",
       "    </tr>\n",
       "  </thead>\n",
       "  <tbody>\n",
       "    <tr>\n",
       "      <th>Temparature</th>\n",
       "      <td>250000.0</td>\n",
       "      <td>0.499358</td>\n",
       "      <td>0.309546</td>\n",
       "      <td>0.0</td>\n",
       "      <td>0.230769</td>\n",
       "      <td>0.461538</td>\n",
       "      <td>0.769231</td>\n",
       "      <td>1.0</td>\n",
       "    </tr>\n",
       "    <tr>\n",
       "      <th>Humidity</th>\n",
       "      <td>250000.0</td>\n",
       "      <td>0.502051</td>\n",
       "      <td>0.301653</td>\n",
       "      <td>0.0</td>\n",
       "      <td>0.227273</td>\n",
       "      <td>0.500000</td>\n",
       "      <td>0.772727</td>\n",
       "      <td>1.0</td>\n",
       "    </tr>\n",
       "    <tr>\n",
       "      <th>Moisture</th>\n",
       "      <td>250000.0</td>\n",
       "      <td>0.504761</td>\n",
       "      <td>0.294829</td>\n",
       "      <td>0.0</td>\n",
       "      <td>0.250000</td>\n",
       "      <td>0.500000</td>\n",
       "      <td>0.750000</td>\n",
       "      <td>1.0</td>\n",
       "    </tr>\n",
       "    <tr>\n",
       "      <th>Nitrogen</th>\n",
       "      <td>250000.0</td>\n",
       "      <td>0.503674</td>\n",
       "      <td>0.295157</td>\n",
       "      <td>0.0</td>\n",
       "      <td>0.236842</td>\n",
       "      <td>0.500000</td>\n",
       "      <td>0.763158</td>\n",
       "      <td>1.0</td>\n",
       "    </tr>\n",
       "    <tr>\n",
       "      <th>Potassium</th>\n",
       "      <td>250000.0</td>\n",
       "      <td>0.499356</td>\n",
       "      <td>0.303519</td>\n",
       "      <td>0.0</td>\n",
       "      <td>0.210526</td>\n",
       "      <td>0.526316</td>\n",
       "      <td>0.736842</td>\n",
       "      <td>1.0</td>\n",
       "    </tr>\n",
       "    <tr>\n",
       "      <th>Phosphorous</th>\n",
       "      <td>250000.0</td>\n",
       "      <td>0.502906</td>\n",
       "      <td>0.294783</td>\n",
       "      <td>0.0</td>\n",
       "      <td>0.238095</td>\n",
       "      <td>0.500000</td>\n",
       "      <td>0.761905</td>\n",
       "      <td>1.0</td>\n",
       "    </tr>\n",
       "    <tr>\n",
       "      <th>Temparature_Bins</th>\n",
       "      <td>250000.0</td>\n",
       "      <td>0.998692</td>\n",
       "      <td>0.844510</td>\n",
       "      <td>0.0</td>\n",
       "      <td>0.000000</td>\n",
       "      <td>1.000000</td>\n",
       "      <td>2.000000</td>\n",
       "      <td>2.0</td>\n",
       "    </tr>\n",
       "    <tr>\n",
       "      <th>Humidity_Bins</th>\n",
       "      <td>250000.0</td>\n",
       "      <td>0.961472</td>\n",
       "      <td>0.807434</td>\n",
       "      <td>0.0</td>\n",
       "      <td>0.000000</td>\n",
       "      <td>1.000000</td>\n",
       "      <td>2.000000</td>\n",
       "      <td>2.0</td>\n",
       "    </tr>\n",
       "    <tr>\n",
       "      <th>Moisture_Bins</th>\n",
       "      <td>250000.0</td>\n",
       "      <td>1.061176</td>\n",
       "      <td>0.791997</td>\n",
       "      <td>0.0</td>\n",
       "      <td>0.000000</td>\n",
       "      <td>1.000000</td>\n",
       "      <td>2.000000</td>\n",
       "      <td>2.0</td>\n",
       "    </tr>\n",
       "    <tr>\n",
       "      <th>Nitrogen_Bins</th>\n",
       "      <td>250000.0</td>\n",
       "      <td>1.008664</td>\n",
       "      <td>0.781327</td>\n",
       "      <td>0.0</td>\n",
       "      <td>0.000000</td>\n",
       "      <td>1.000000</td>\n",
       "      <td>2.000000</td>\n",
       "      <td>2.0</td>\n",
       "    </tr>\n",
       "    <tr>\n",
       "      <th>Potassium_Bins</th>\n",
       "      <td>250000.0</td>\n",
       "      <td>1.001536</td>\n",
       "      <td>0.836708</td>\n",
       "      <td>0.0</td>\n",
       "      <td>0.000000</td>\n",
       "      <td>1.000000</td>\n",
       "      <td>2.000000</td>\n",
       "      <td>2.0</td>\n",
       "    </tr>\n",
       "    <tr>\n",
       "      <th>Phosphorous_Bins</th>\n",
       "      <td>250000.0</td>\n",
       "      <td>0.912656</td>\n",
       "      <td>0.798482</td>\n",
       "      <td>0.0</td>\n",
       "      <td>0.000000</td>\n",
       "      <td>1.000000</td>\n",
       "      <td>2.000000</td>\n",
       "      <td>2.0</td>\n",
       "    </tr>\n",
       "    <tr>\n",
       "      <th>Soil Type_Black</th>\n",
       "      <td>250000.0</td>\n",
       "      <td>0.200588</td>\n",
       "      <td>0.400441</td>\n",
       "      <td>0.0</td>\n",
       "      <td>0.000000</td>\n",
       "      <td>0.000000</td>\n",
       "      <td>0.000000</td>\n",
       "      <td>1.0</td>\n",
       "    </tr>\n",
       "    <tr>\n",
       "      <th>Soil Type_Clayey</th>\n",
       "      <td>250000.0</td>\n",
       "      <td>0.199168</td>\n",
       "      <td>0.399375</td>\n",
       "      <td>0.0</td>\n",
       "      <td>0.000000</td>\n",
       "      <td>0.000000</td>\n",
       "      <td>0.000000</td>\n",
       "      <td>1.0</td>\n",
       "    </tr>\n",
       "    <tr>\n",
       "      <th>Soil Type_Loamy</th>\n",
       "      <td>250000.0</td>\n",
       "      <td>0.193516</td>\n",
       "      <td>0.395055</td>\n",
       "      <td>0.0</td>\n",
       "      <td>0.000000</td>\n",
       "      <td>0.000000</td>\n",
       "      <td>0.000000</td>\n",
       "      <td>1.0</td>\n",
       "    </tr>\n",
       "    <tr>\n",
       "      <th>Soil Type_Red</th>\n",
       "      <td>250000.0</td>\n",
       "      <td>0.197436</td>\n",
       "      <td>0.398065</td>\n",
       "      <td>0.0</td>\n",
       "      <td>0.000000</td>\n",
       "      <td>0.000000</td>\n",
       "      <td>0.000000</td>\n",
       "      <td>1.0</td>\n",
       "    </tr>\n",
       "    <tr>\n",
       "      <th>Soil Type_Sandy</th>\n",
       "      <td>250000.0</td>\n",
       "      <td>0.209292</td>\n",
       "      <td>0.406804</td>\n",
       "      <td>0.0</td>\n",
       "      <td>0.000000</td>\n",
       "      <td>0.000000</td>\n",
       "      <td>0.000000</td>\n",
       "      <td>1.0</td>\n",
       "    </tr>\n",
       "    <tr>\n",
       "      <th>Crop Type_Barley</th>\n",
       "      <td>250000.0</td>\n",
       "      <td>0.086864</td>\n",
       "      <td>0.281636</td>\n",
       "      <td>0.0</td>\n",
       "      <td>0.000000</td>\n",
       "      <td>0.000000</td>\n",
       "      <td>0.000000</td>\n",
       "      <td>1.0</td>\n",
       "    </tr>\n",
       "    <tr>\n",
       "      <th>Crop Type_Cotton</th>\n",
       "      <td>250000.0</td>\n",
       "      <td>0.092364</td>\n",
       "      <td>0.289540</td>\n",
       "      <td>0.0</td>\n",
       "      <td>0.000000</td>\n",
       "      <td>0.000000</td>\n",
       "      <td>0.000000</td>\n",
       "      <td>1.0</td>\n",
       "    </tr>\n",
       "    <tr>\n",
       "      <th>Crop Type_Ground Nuts</th>\n",
       "      <td>250000.0</td>\n",
       "      <td>0.079728</td>\n",
       "      <td>0.270872</td>\n",
       "      <td>0.0</td>\n",
       "      <td>0.000000</td>\n",
       "      <td>0.000000</td>\n",
       "      <td>0.000000</td>\n",
       "      <td>1.0</td>\n",
       "    </tr>\n",
       "    <tr>\n",
       "      <th>Crop Type_Maize</th>\n",
       "      <td>250000.0</td>\n",
       "      <td>0.083612</td>\n",
       "      <td>0.276806</td>\n",
       "      <td>0.0</td>\n",
       "      <td>0.000000</td>\n",
       "      <td>0.000000</td>\n",
       "      <td>0.000000</td>\n",
       "      <td>1.0</td>\n",
       "    </tr>\n",
       "    <tr>\n",
       "      <th>Crop Type_Millets</th>\n",
       "      <td>250000.0</td>\n",
       "      <td>0.087556</td>\n",
       "      <td>0.282649</td>\n",
       "      <td>0.0</td>\n",
       "      <td>0.000000</td>\n",
       "      <td>0.000000</td>\n",
       "      <td>0.000000</td>\n",
       "      <td>1.0</td>\n",
       "    </tr>\n",
       "    <tr>\n",
       "      <th>Crop Type_Oil seeds</th>\n",
       "      <td>250000.0</td>\n",
       "      <td>0.086108</td>\n",
       "      <td>0.280524</td>\n",
       "      <td>0.0</td>\n",
       "      <td>0.000000</td>\n",
       "      <td>0.000000</td>\n",
       "      <td>0.000000</td>\n",
       "      <td>1.0</td>\n",
       "    </tr>\n",
       "    <tr>\n",
       "      <th>Crop Type_Paddy</th>\n",
       "      <td>250000.0</td>\n",
       "      <td>0.113328</td>\n",
       "      <td>0.316994</td>\n",
       "      <td>0.0</td>\n",
       "      <td>0.000000</td>\n",
       "      <td>0.000000</td>\n",
       "      <td>0.000000</td>\n",
       "      <td>1.0</td>\n",
       "    </tr>\n",
       "    <tr>\n",
       "      <th>Crop Type_Pulses</th>\n",
       "      <td>250000.0</td>\n",
       "      <td>0.104884</td>\n",
       "      <td>0.306405</td>\n",
       "      <td>0.0</td>\n",
       "      <td>0.000000</td>\n",
       "      <td>0.000000</td>\n",
       "      <td>0.000000</td>\n",
       "      <td>1.0</td>\n",
       "    </tr>\n",
       "    <tr>\n",
       "      <th>Crop Type_Sugarcane</th>\n",
       "      <td>250000.0</td>\n",
       "      <td>0.086268</td>\n",
       "      <td>0.280760</td>\n",
       "      <td>0.0</td>\n",
       "      <td>0.000000</td>\n",
       "      <td>0.000000</td>\n",
       "      <td>0.000000</td>\n",
       "      <td>1.0</td>\n",
       "    </tr>\n",
       "    <tr>\n",
       "      <th>Crop Type_Tobacco</th>\n",
       "      <td>250000.0</td>\n",
       "      <td>0.090912</td>\n",
       "      <td>0.287485</td>\n",
       "      <td>0.0</td>\n",
       "      <td>0.000000</td>\n",
       "      <td>0.000000</td>\n",
       "      <td>0.000000</td>\n",
       "      <td>1.0</td>\n",
       "    </tr>\n",
       "    <tr>\n",
       "      <th>Crop Type_Wheat</th>\n",
       "      <td>250000.0</td>\n",
       "      <td>0.088376</td>\n",
       "      <td>0.283842</td>\n",
       "      <td>0.0</td>\n",
       "      <td>0.000000</td>\n",
       "      <td>0.000000</td>\n",
       "      <td>0.000000</td>\n",
       "      <td>1.0</td>\n",
       "    </tr>\n",
       "  </tbody>\n",
       "</table>\n",
       "</div>"
      ],
      "text/plain": [
       "                          count      mean       std  min       25%       50%  \\\n",
       "Temparature            250000.0  0.499358  0.309546  0.0  0.230769  0.461538   \n",
       "Humidity               250000.0  0.502051  0.301653  0.0  0.227273  0.500000   \n",
       "Moisture               250000.0  0.504761  0.294829  0.0  0.250000  0.500000   \n",
       "Nitrogen               250000.0  0.503674  0.295157  0.0  0.236842  0.500000   \n",
       "Potassium              250000.0  0.499356  0.303519  0.0  0.210526  0.526316   \n",
       "Phosphorous            250000.0  0.502906  0.294783  0.0  0.238095  0.500000   \n",
       "Temparature_Bins       250000.0  0.998692  0.844510  0.0  0.000000  1.000000   \n",
       "Humidity_Bins          250000.0  0.961472  0.807434  0.0  0.000000  1.000000   \n",
       "Moisture_Bins          250000.0  1.061176  0.791997  0.0  0.000000  1.000000   \n",
       "Nitrogen_Bins          250000.0  1.008664  0.781327  0.0  0.000000  1.000000   \n",
       "Potassium_Bins         250000.0  1.001536  0.836708  0.0  0.000000  1.000000   \n",
       "Phosphorous_Bins       250000.0  0.912656  0.798482  0.0  0.000000  1.000000   \n",
       "Soil Type_Black        250000.0  0.200588  0.400441  0.0  0.000000  0.000000   \n",
       "Soil Type_Clayey       250000.0  0.199168  0.399375  0.0  0.000000  0.000000   \n",
       "Soil Type_Loamy        250000.0  0.193516  0.395055  0.0  0.000000  0.000000   \n",
       "Soil Type_Red          250000.0  0.197436  0.398065  0.0  0.000000  0.000000   \n",
       "Soil Type_Sandy        250000.0  0.209292  0.406804  0.0  0.000000  0.000000   \n",
       "Crop Type_Barley       250000.0  0.086864  0.281636  0.0  0.000000  0.000000   \n",
       "Crop Type_Cotton       250000.0  0.092364  0.289540  0.0  0.000000  0.000000   \n",
       "Crop Type_Ground Nuts  250000.0  0.079728  0.270872  0.0  0.000000  0.000000   \n",
       "Crop Type_Maize        250000.0  0.083612  0.276806  0.0  0.000000  0.000000   \n",
       "Crop Type_Millets      250000.0  0.087556  0.282649  0.0  0.000000  0.000000   \n",
       "Crop Type_Oil seeds    250000.0  0.086108  0.280524  0.0  0.000000  0.000000   \n",
       "Crop Type_Paddy        250000.0  0.113328  0.316994  0.0  0.000000  0.000000   \n",
       "Crop Type_Pulses       250000.0  0.104884  0.306405  0.0  0.000000  0.000000   \n",
       "Crop Type_Sugarcane    250000.0  0.086268  0.280760  0.0  0.000000  0.000000   \n",
       "Crop Type_Tobacco      250000.0  0.090912  0.287485  0.0  0.000000  0.000000   \n",
       "Crop Type_Wheat        250000.0  0.088376  0.283842  0.0  0.000000  0.000000   \n",
       "\n",
       "                            75%  max  \n",
       "Temparature            0.769231  1.0  \n",
       "Humidity               0.772727  1.0  \n",
       "Moisture               0.750000  1.0  \n",
       "Nitrogen               0.763158  1.0  \n",
       "Potassium              0.736842  1.0  \n",
       "Phosphorous            0.761905  1.0  \n",
       "Temparature_Bins       2.000000  2.0  \n",
       "Humidity_Bins          2.000000  2.0  \n",
       "Moisture_Bins          2.000000  2.0  \n",
       "Nitrogen_Bins          2.000000  2.0  \n",
       "Potassium_Bins         2.000000  2.0  \n",
       "Phosphorous_Bins       2.000000  2.0  \n",
       "Soil Type_Black        0.000000  1.0  \n",
       "Soil Type_Clayey       0.000000  1.0  \n",
       "Soil Type_Loamy        0.000000  1.0  \n",
       "Soil Type_Red          0.000000  1.0  \n",
       "Soil Type_Sandy        0.000000  1.0  \n",
       "Crop Type_Barley       0.000000  1.0  \n",
       "Crop Type_Cotton       0.000000  1.0  \n",
       "Crop Type_Ground Nuts  0.000000  1.0  \n",
       "Crop Type_Maize        0.000000  1.0  \n",
       "Crop Type_Millets      0.000000  1.0  \n",
       "Crop Type_Oil seeds    0.000000  1.0  \n",
       "Crop Type_Paddy        0.000000  1.0  \n",
       "Crop Type_Pulses       0.000000  1.0  \n",
       "Crop Type_Sugarcane    0.000000  1.0  \n",
       "Crop Type_Tobacco      0.000000  1.0  \n",
       "Crop Type_Wheat        0.000000  1.0  "
      ]
     },
     "execution_count": 85,
     "metadata": {},
     "output_type": "execute_result"
    }
   ],
   "source": [
    "test_end.describe().T"
   ]
  },
  {
   "cell_type": "code",
   "execution_count": 86,
   "id": "96563faf",
   "metadata": {
    "execution": {
     "iopub.execute_input": "2025-07-01T00:29:09.233496Z",
     "iopub.status.busy": "2025-07-01T00:29:09.232801Z",
     "iopub.status.idle": "2025-07-01T00:29:09.238403Z",
     "shell.execute_reply": "2025-07-01T00:29:09.237753Z"
    },
    "papermill": {
     "duration": 0.030192,
     "end_time": "2025-07-01T00:29:09.239648",
     "exception": false,
     "start_time": "2025-07-01T00:29:09.209456",
     "status": "completed"
    },
    "tags": []
   },
   "outputs": [
    {
     "data": {
      "text/plain": [
       "\"\\ntest_x_comp = test_end[['Soil Type_Black',\\n       'Soil Type_Clayey', 'Soil Type_Loamy', 'Soil Type_Red',\\n       'Soil Type_Sandy', 'Crop Type_Barley', 'Crop Type_Cotton',\\n       'Crop Type_Ground Nuts', 'Crop Type_Maize', 'Crop Type_Millets',\\n       'Crop Type_Oil seeds', 'Crop Type_Paddy', 'Crop Type_Pulses',\\n       'Crop Type_Sugarcane', 'Crop Type_Tobacco', 'Crop Type_Wheat']]\\n\\ntest_x_pca = pca.fit_transform(test_x_comp)\\n\\ntest_x_keep = test_end.drop(columns=['Soil Type_Black',\\n       'Soil Type_Clayey', 'Soil Type_Loamy', 'Soil Type_Red',\\n       'Soil Type_Sandy', 'Crop Type_Barley', 'Crop Type_Cotton',\\n       'Crop Type_Ground Nuts', 'Crop Type_Maize', 'Crop Type_Millets',\\n       'Crop Type_Oil seeds', 'Crop Type_Paddy', 'Crop Type_Pulses',\\n       'Crop Type_Sugarcane', 'Crop Type_Tobacco', 'Crop Type_Wheat'])\\n\\ntest_end_new = pd.concat([test_x_keep, test_x_pca], axis=1)\\n\""
      ]
     },
     "execution_count": 86,
     "metadata": {},
     "output_type": "execute_result"
    }
   ],
   "source": [
    "'''\n",
    "test_x_comp = test_end[['Soil Type_Black',\n",
    "       'Soil Type_Clayey', 'Soil Type_Loamy', 'Soil Type_Red',\n",
    "       'Soil Type_Sandy', 'Crop Type_Barley', 'Crop Type_Cotton',\n",
    "       'Crop Type_Ground Nuts', 'Crop Type_Maize', 'Crop Type_Millets',\n",
    "       'Crop Type_Oil seeds', 'Crop Type_Paddy', 'Crop Type_Pulses',\n",
    "       'Crop Type_Sugarcane', 'Crop Type_Tobacco', 'Crop Type_Wheat']]\n",
    "\n",
    "test_x_pca = pca.fit_transform(test_x_comp)\n",
    "\n",
    "test_x_keep = test_end.drop(columns=['Soil Type_Black',\n",
    "       'Soil Type_Clayey', 'Soil Type_Loamy', 'Soil Type_Red',\n",
    "       'Soil Type_Sandy', 'Crop Type_Barley', 'Crop Type_Cotton',\n",
    "       'Crop Type_Ground Nuts', 'Crop Type_Maize', 'Crop Type_Millets',\n",
    "       'Crop Type_Oil seeds', 'Crop Type_Paddy', 'Crop Type_Pulses',\n",
    "       'Crop Type_Sugarcane', 'Crop Type_Tobacco', 'Crop Type_Wheat'])\n",
    "\n",
    "test_end_new = pd.concat([test_x_keep, test_x_pca], axis=1)\n",
    "'''"
   ]
  },
  {
   "cell_type": "code",
   "execution_count": 87,
   "id": "795d340d",
   "metadata": {
    "execution": {
     "iopub.execute_input": "2025-07-01T00:29:09.286912Z",
     "iopub.status.busy": "2025-07-01T00:29:09.286590Z",
     "iopub.status.idle": "2025-07-01T00:29:09.290376Z",
     "shell.execute_reply": "2025-07-01T00:29:09.289691Z"
    },
    "papermill": {
     "duration": 0.02891,
     "end_time": "2025-07-01T00:29:09.291678",
     "exception": false,
     "start_time": "2025-07-01T00:29:09.262768",
     "status": "completed"
    },
    "tags": []
   },
   "outputs": [],
   "source": [
    "# We remove the variables that we will not use\n",
    "\n",
    "#test_end_new = test_end.drop(columns=[])"
   ]
  },
  {
   "cell_type": "code",
   "execution_count": 88,
   "id": "295f8719",
   "metadata": {
    "execution": {
     "iopub.execute_input": "2025-07-01T00:29:09.338802Z",
     "iopub.status.busy": "2025-07-01T00:29:09.338479Z",
     "iopub.status.idle": "2025-07-01T00:29:09.379176Z",
     "shell.execute_reply": "2025-07-01T00:29:09.377876Z"
    },
    "papermill": {
     "duration": 0.065899,
     "end_time": "2025-07-01T00:29:09.380535",
     "exception": false,
     "start_time": "2025-07-01T00:29:09.314636",
     "status": "completed"
    },
    "tags": []
   },
   "outputs": [
    {
     "name": "stdout",
     "output_type": "stream",
     "text": [
      "<class 'pandas.core.frame.DataFrame'>\n",
      "RangeIndex: 250000 entries, 0 to 249999\n",
      "Data columns (total 28 columns):\n",
      " #   Column                 Non-Null Count   Dtype  \n",
      "---  ------                 --------------   -----  \n",
      " 0   Temparature            250000 non-null  float64\n",
      " 1   Humidity               250000 non-null  float64\n",
      " 2   Moisture               250000 non-null  float64\n",
      " 3   Nitrogen               250000 non-null  float64\n",
      " 4   Potassium              250000 non-null  float64\n",
      " 5   Phosphorous            250000 non-null  float64\n",
      " 6   Temparature_Bins       250000 non-null  float64\n",
      " 7   Humidity_Bins          250000 non-null  float64\n",
      " 8   Moisture_Bins          250000 non-null  float64\n",
      " 9   Nitrogen_Bins          250000 non-null  float64\n",
      " 10  Potassium_Bins         250000 non-null  float64\n",
      " 11  Phosphorous_Bins       250000 non-null  float64\n",
      " 12  Soil Type_Black        250000 non-null  float64\n",
      " 13  Soil Type_Clayey       250000 non-null  float64\n",
      " 14  Soil Type_Loamy        250000 non-null  float64\n",
      " 15  Soil Type_Red          250000 non-null  float64\n",
      " 16  Soil Type_Sandy        250000 non-null  float64\n",
      " 17  Crop Type_Barley       250000 non-null  float64\n",
      " 18  Crop Type_Cotton       250000 non-null  float64\n",
      " 19  Crop Type_Ground Nuts  250000 non-null  float64\n",
      " 20  Crop Type_Maize        250000 non-null  float64\n",
      " 21  Crop Type_Millets      250000 non-null  float64\n",
      " 22  Crop Type_Oil seeds    250000 non-null  float64\n",
      " 23  Crop Type_Paddy        250000 non-null  float64\n",
      " 24  Crop Type_Pulses       250000 non-null  float64\n",
      " 25  Crop Type_Sugarcane    250000 non-null  float64\n",
      " 26  Crop Type_Tobacco      250000 non-null  float64\n",
      " 27  Crop Type_Wheat        250000 non-null  float64\n",
      "dtypes: float64(28)\n",
      "memory usage: 53.4 MB\n"
     ]
    }
   ],
   "source": [
    "test_end.info()"
   ]
  },
  {
   "cell_type": "markdown",
   "id": "4fea9518",
   "metadata": {
    "papermill": {
     "duration": 0.022289,
     "end_time": "2025-07-01T00:29:09.425600",
     "exception": false,
     "start_time": "2025-07-01T00:29:09.403311",
     "status": "completed"
    },
    "tags": []
   },
   "source": [
    "## Apply the Model & Submission File"
   ]
  },
  {
   "cell_type": "code",
   "execution_count": 89,
   "id": "5e4cb360",
   "metadata": {
    "execution": {
     "iopub.execute_input": "2025-07-01T00:29:09.471857Z",
     "iopub.status.busy": "2025-07-01T00:29:09.471249Z",
     "iopub.status.idle": "2025-07-01T00:30:20.773447Z",
     "shell.execute_reply": "2025-07-01T00:30:20.772544Z"
    },
    "papermill": {
     "duration": 71.327029,
     "end_time": "2025-07-01T00:30:20.775047",
     "exception": false,
     "start_time": "2025-07-01T00:29:09.448018",
     "status": "completed"
    },
    "tags": []
   },
   "outputs": [],
   "source": [
    "# We apply the trained model\n",
    "\n",
    "test_pred_prob = final_model.predict_proba(test_end)\n",
    "test_top_3 = np.argsort(-test_pred_prob, axis=1)[:, :3]\n",
    "\n",
    "top_3_fertilizer_names = []\n",
    "for row_indices in test_top_3:\n",
    "    valid_indices = [idx for idx in row_indices if idx < len(le.classes_)]\n",
    "    names = le.inverse_transform(valid_indices)\n",
    "    top_3_fertilizer_names.append(names)\n",
    "\n",
    "formatted_predictions = [\" \".join(names) for names in top_3_fertilizer_names]"
   ]
  },
  {
   "cell_type": "code",
   "execution_count": 90,
   "id": "f6746c19",
   "metadata": {
    "execution": {
     "iopub.execute_input": "2025-07-01T00:30:20.822358Z",
     "iopub.status.busy": "2025-07-01T00:30:20.821412Z",
     "iopub.status.idle": "2025-07-01T00:30:20.826431Z",
     "shell.execute_reply": "2025-07-01T00:30:20.825526Z"
    },
    "papermill": {
     "duration": 0.02967,
     "end_time": "2025-07-01T00:30:20.827746",
     "exception": false,
     "start_time": "2025-07-01T00:30:20.798076",
     "status": "completed"
    },
    "tags": []
   },
   "outputs": [
    {
     "name": "stdout",
     "output_type": "stream",
     "text": [
      "Total predictions:  250000 \n",
      "\n"
     ]
    }
   ],
   "source": [
    "# We review the result\n",
    "\n",
    "print(\"Total predictions: \", len(formatted_predictions), \"\\n\")"
   ]
  },
  {
   "cell_type": "code",
   "execution_count": 91,
   "id": "24b2188c",
   "metadata": {
    "execution": {
     "iopub.execute_input": "2025-07-01T00:30:20.882194Z",
     "iopub.status.busy": "2025-07-01T00:30:20.881360Z",
     "iopub.status.idle": "2025-07-01T00:30:20.913747Z",
     "shell.execute_reply": "2025-07-01T00:30:20.912844Z"
    },
    "papermill": {
     "duration": 0.061138,
     "end_time": "2025-07-01T00:30:20.915277",
     "exception": false,
     "start_time": "2025-07-01T00:30:20.854139",
     "status": "completed"
    },
    "tags": []
   },
   "outputs": [
    {
     "data": {
      "text/html": [
       "<div>\n",
       "<style scoped>\n",
       "    .dataframe tbody tr th:only-of-type {\n",
       "        vertical-align: middle;\n",
       "    }\n",
       "\n",
       "    .dataframe tbody tr th {\n",
       "        vertical-align: top;\n",
       "    }\n",
       "\n",
       "    .dataframe thead th {\n",
       "        text-align: right;\n",
       "    }\n",
       "</style>\n",
       "<table border=\"1\" class=\"dataframe\">\n",
       "  <thead>\n",
       "    <tr style=\"text-align: right;\">\n",
       "      <th></th>\n",
       "      <th>id</th>\n",
       "      <th>Fertilizer Name</th>\n",
       "    </tr>\n",
       "  </thead>\n",
       "  <tbody>\n",
       "    <tr>\n",
       "      <th>0</th>\n",
       "      <td>750000</td>\n",
       "      <td>14-35-14 20-20 28-28</td>\n",
       "    </tr>\n",
       "    <tr>\n",
       "      <th>1</th>\n",
       "      <td>750001</td>\n",
       "      <td>17-17-17 20-20 10-26-26</td>\n",
       "    </tr>\n",
       "    <tr>\n",
       "      <th>2</th>\n",
       "      <td>750002</td>\n",
       "      <td>20-20 10-26-26 17-17-17</td>\n",
       "    </tr>\n",
       "    <tr>\n",
       "      <th>3</th>\n",
       "      <td>750003</td>\n",
       "      <td>14-35-14 17-17-17 10-26-26</td>\n",
       "    </tr>\n",
       "    <tr>\n",
       "      <th>4</th>\n",
       "      <td>750004</td>\n",
       "      <td>20-20 10-26-26 17-17-17</td>\n",
       "    </tr>\n",
       "  </tbody>\n",
       "</table>\n",
       "</div>"
      ],
      "text/plain": [
       "       id             Fertilizer Name\n",
       "0  750000        14-35-14 20-20 28-28\n",
       "1  750001     17-17-17 20-20 10-26-26\n",
       "2  750002     20-20 10-26-26 17-17-17\n",
       "3  750003  14-35-14 17-17-17 10-26-26\n",
       "4  750004     20-20 10-26-26 17-17-17"
      ]
     },
     "execution_count": 91,
     "metadata": {},
     "output_type": "execute_result"
    }
   ],
   "source": [
    "# We create the dataframe\n",
    "\n",
    "fertilizer_submission = pd.DataFrame({\n",
    "    \"id\" : df_test[\"id\"], \n",
    "    \"Fertilizer Name\" : formatted_predictions\n",
    "})\n",
    "\n",
    "fertilizer_submission.head()"
   ]
  },
  {
   "cell_type": "code",
   "execution_count": 92,
   "id": "9e1a6e91",
   "metadata": {
    "execution": {
     "iopub.execute_input": "2025-07-01T00:30:20.964848Z",
     "iopub.status.busy": "2025-07-01T00:30:20.964234Z",
     "iopub.status.idle": "2025-07-01T00:30:20.970918Z",
     "shell.execute_reply": "2025-07-01T00:30:20.969906Z"
    },
    "papermill": {
     "duration": 0.033588,
     "end_time": "2025-07-01T00:30:20.972366",
     "exception": false,
     "start_time": "2025-07-01T00:30:20.938778",
     "status": "completed"
    },
    "tags": []
   },
   "outputs": [
    {
     "name": "stdout",
     "output_type": "stream",
     "text": [
      "Shape Sample Submission: (250000, 2) \n",
      "Shape Fertilizer Submission: (250000, 2)\n",
      "\n",
      "        id         Fertilizer Name\n",
      "0  750000  14-35-14 10-26-26 Urea\n",
      "1  750001  14-35-14 10-26-26 Urea\n",
      "2  750002  14-35-14 10-26-26 Urea\n",
      "3  750003  14-35-14 10-26-26 Urea\n",
      "4  750004  14-35-14 10-26-26 Urea\n"
     ]
    }
   ],
   "source": [
    "# We compare the results with the sample\n",
    "\n",
    "print(\n",
    "    f\"Shape Sample Submission: {fertilizer_sample.shape}\",\n",
    "    f\"\\nShape Fertilizer Submission: {fertilizer_submission.shape}\"\n",
    ")\n",
    "print(\"\\n\", fertilizer_sample.head())"
   ]
  },
  {
   "cell_type": "code",
   "execution_count": 93,
   "id": "55f8ace4",
   "metadata": {
    "execution": {
     "iopub.execute_input": "2025-07-01T00:30:21.023332Z",
     "iopub.status.busy": "2025-07-01T00:30:21.023028Z",
     "iopub.status.idle": "2025-07-01T00:30:21.398674Z",
     "shell.execute_reply": "2025-07-01T00:30:21.397801Z"
    },
    "papermill": {
     "duration": 0.403657,
     "end_time": "2025-07-01T00:30:21.400280",
     "exception": false,
     "start_time": "2025-07-01T00:30:20.996623",
     "status": "completed"
    },
    "tags": []
   },
   "outputs": [],
   "source": [
    "# We convert the dataframe to a csv file\n",
    "\n",
    "fertilizer_submission.to_csv(\"submission.csv\", index=False)"
   ]
  }
 ],
 "metadata": {
  "kaggle": {
   "accelerator": "none",
   "dataSources": [
    {
     "databundleVersionId": 12184666,
     "sourceId": 91717,
     "sourceType": "competition"
    }
   ],
   "dockerImageVersionId": 31040,
   "isGpuEnabled": false,
   "isInternetEnabled": true,
   "language": "python",
   "sourceType": "notebook"
  },
  "kernelspec": {
   "display_name": "Python 3",
   "language": "python",
   "name": "python3"
  },
  "language_info": {
   "codemirror_mode": {
    "name": "ipython",
    "version": 3
   },
   "file_extension": ".py",
   "mimetype": "text/x-python",
   "name": "python",
   "nbconvert_exporter": "python",
   "pygments_lexer": "ipython3",
   "version": "3.11.11"
  },
  "papermill": {
   "default_parameters": {},
   "duration": 760.711582,
   "end_time": "2025-07-01T00:30:22.746308",
   "environment_variables": {},
   "exception": null,
   "input_path": "__notebook__.ipynb",
   "output_path": "__notebook__.ipynb",
   "parameters": {},
   "start_time": "2025-07-01T00:17:42.034726",
   "version": "2.6.0"
  }
 },
 "nbformat": 4,
 "nbformat_minor": 5
}
